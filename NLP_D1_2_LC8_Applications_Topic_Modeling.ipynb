{
  "cells": [
    {
      "cell_type": "markdown",
      "metadata": {
        "id": "view-in-github",
        "colab_type": "text"
      },
      "source": [
        "<a href=\"https://colab.research.google.com/github/astrapi69/DroidBallet/blob/master/NLP_D1_2_LC8_Applications_Topic_Modeling.ipynb\" target=\"_parent\"><img src=\"https://colab.research.google.com/assets/colab-badge.svg\" alt=\"Open In Colab\"/></a>"
      ]
    },
    {
      "cell_type": "markdown",
      "metadata": {
        "id": "_inCSqYZUh_g"
      },
      "source": [
        "<center><a target=\"_blank\" href=\"https://learning.constructor.org/\"><img src=\"https://drive.google.com/uc?id=1RNy-ds7KWXFs7YheGo9OQwO3OnpvRSU1\" width=\"200\" style=\"background:none; border:none; box-shadow:none;\" /></a> </center>\n",
        "\n",
        "_____\n",
        "\n",
        "<center>Constructor Academy, 2024</center>"
      ]
    },
    {
      "cell_type": "markdown",
      "metadata": {
        "id": "-iKMVCis12aq"
      },
      "source": [
        "# Topic Modeling on Research Papers\n",
        "\n",
        "We will do an interesting exercise here—build topic models on past research papers\n",
        "from the very popular NIPS conference (now known as the NeurIPS conference). The\n",
        "late professor Sam Roweis compiled an excellent collection of NIPS Conference Papers\n",
        "from Volume 1 – 12, which you can find at https://cs.nyu.edu/~roweis/data.html.\n",
        "An interesting fact is that he obtained this by massaging the OCR’d data from NIPS\n",
        "1-12, which was actually the pre-electronic submission era. Yann LeCun made the data\n",
        "available. There is an even more updated dataset available up to NIPS 17 at http://\n",
        "ai.stanford.edu/~gal/data.html. However, that dataset is in the form of a MAT file, so\n",
        "you might need to do some additional preprocessing before working on it in Python.\n",
        "\n",
        "\n",
        "## The Main Objective\n",
        "\n",
        "Considering our discussion so far, our main objective is pretty simple. Given a whole\n",
        "bunch of conference research papers, can we identify some key themes or topics from\n",
        "these papers by leveraging unsupervised learning? We do not have the liberty of labeled\n",
        "categories telling us what the major themes of every research paper are. Besides that, we\n",
        "are dealing with text data extracted using OCR (optical character recognition). Hence,\n",
        "you can expect misspelled words, words with characters missing, and so on, which\n",
        "makes our problem even more challenging"
      ]
    },
    {
      "cell_type": "markdown",
      "metadata": {
        "id": "bsTqya546U6q"
      },
      "source": [
        "## Download Data and Dependencies"
      ]
    },
    {
      "cell_type": "code",
      "execution_count": null,
      "metadata": {
        "colab": {
          "base_uri": "https://localhost:8080/"
        },
        "id": "BJaNFsqQ6KGt",
        "outputId": "1541723b-bd29-426f-8208-568473900f70"
      },
      "outputs": [
        {
          "name": "stdout",
          "output_type": "stream",
          "text": [
            "--2024-03-23 20:10:25--  https://cs.nyu.edu/~roweis/data/nips12raw_str602.tgz\n",
            "Resolving cs.nyu.edu (cs.nyu.edu)... 216.165.22.203\n",
            "Connecting to cs.nyu.edu (cs.nyu.edu)|216.165.22.203|:443... connected.\n",
            "HTTP request sent, awaiting response... 200 OK\n",
            "Length: 12851423 (12M) [application/x-gzip]\n",
            "Saving to: ‘nips12raw_str602.tgz’\n",
            "\n",
            "nips12raw_str602.tg 100%[===================>]  12.26M  23.3MB/s    in 0.5s    \n",
            "\n",
            "2024-03-23 20:10:26 (23.3 MB/s) - ‘nips12raw_str602.tgz’ saved [12851423/12851423]\n",
            "\n"
          ]
        }
      ],
      "source": [
        "!wget https://cs.nyu.edu/~roweis/data/nips12raw_str602.tgz\n",
        "!tar -xzf nips12raw_str602.tgz"
      ]
    },
    {
      "cell_type": "code",
      "execution_count": null,
      "metadata": {
        "colab": {
          "base_uri": "https://localhost:8080/"
        },
        "id": "C36S18zo8w3b",
        "outputId": "2740450e-ac79-47c5-b11b-713905939265"
      },
      "outputs": [
        {
          "name": "stdout",
          "output_type": "stream",
          "text": [
            "Requirement already satisfied: tqdm in /usr/local/lib/python3.10/dist-packages (4.66.2)\n"
          ]
        },
        {
          "name": "stderr",
          "output_type": "stream",
          "text": [
            "[nltk_data] Downloading package punkt to /root/nltk_data...\n",
            "[nltk_data]   Unzipping tokenizers/punkt.zip.\n",
            "[nltk_data] Downloading package stopwords to /root/nltk_data...\n",
            "[nltk_data]   Unzipping corpora/stopwords.zip.\n",
            "[nltk_data] Downloading package wordnet to /root/nltk_data...\n"
          ]
        },
        {
          "data": {
            "text/plain": [
              "True"
            ]
          },
          "execution_count": 2,
          "metadata": {},
          "output_type": "execute_result"
        }
      ],
      "source": [
        "!pip install tqdm\n",
        "import nltk\n",
        "nltk.download('punkt')\n",
        "nltk.download('stopwords')\n",
        "nltk.download('wordnet')"
      ]
    },
    {
      "cell_type": "code",
      "execution_count": null,
      "metadata": {
        "colab": {
          "base_uri": "https://localhost:8080/"
        },
        "id": "oHpf-YxR6XuW",
        "outputId": "52160411-b619-4c77-a710-92b72c2c3d68"
      },
      "outputs": [
        {
          "name": "stdout",
          "output_type": "stream",
          "text": [
            "['nips11', 'nips09', 'idx', 'nips02', 'nips05', 'nips10', 'README_yann', 'nips12', 'nips06', 'MATLAB_NOTES', 'nips01', 'orig', 'nips07', 'nips00', 'nips04', 'nips03', 'RAW_DATA_NOTES', 'nips08']\n"
          ]
        }
      ],
      "source": [
        "import os\n",
        "import numpy as np\n",
        "import pandas as pd\n",
        "\n",
        "DATA_PATH = 'nipstxt/'\n",
        "print(os.listdir(DATA_PATH))"
      ]
    },
    {
      "cell_type": "markdown",
      "metadata": {
        "id": "y20UiwtA6pAg"
      },
      "source": [
        "## Load NIPS Research Papers Data\n",
        "\n"
      ]
    },
    {
      "cell_type": "code",
      "execution_count": null,
      "metadata": {
        "colab": {
          "base_uri": "https://localhost:8080/"
        },
        "id": "D3G8nUsJ6h7V",
        "outputId": "2361002b-6bf4-4f41-8725-553382070dd6"
      },
      "outputs": [
        {
          "data": {
            "text/plain": [
              "1740"
            ]
          },
          "execution_count": 4,
          "metadata": {},
          "output_type": "execute_result"
        }
      ],
      "source": [
        "folders = [\"nips{0:02}\".format(i) for i in range(0,13)]\n",
        "# Read all texts into a list.\n",
        "papers = []\n",
        "for folder in folders:\n",
        "    file_names = os.listdir(DATA_PATH + folder)\n",
        "    for file_name in file_names:\n",
        "        with open(DATA_PATH + folder + '/' + file_name, encoding='utf-8', errors='ignore', mode='r+') as f:\n",
        "            data = f.read()\n",
        "        papers.append(data)\n",
        "len(papers)"
      ]
    },
    {
      "cell_type": "code",
      "execution_count": null,
      "metadata": {
        "colab": {
          "base_uri": "https://localhost:8080/"
        },
        "id": "JaTh1Jll6kx9",
        "outputId": "2f4994d2-3030-4da0-f008-6b401f5184ee"
      },
      "outputs": [
        {
          "name": "stdout",
          "output_type": "stream",
          "text": [
            "674 \n",
            "PATYEP CLASS DEGENERACY IN AN UNRESTRICTED STORAGE \n",
            "DENSITY MEMORY \n",
            "Christopher L. Scofield, Douglas L. Reilly, \n",
            "Charles Elbaum, Leon N. Cooper \n",
            "Nestor, Inc., 1 Richmond Square, Providence, Rhode Island, \n",
            "02906. \n",
            "ABSTRACT \n",
            "The study of distributed memory systems has produced a \n",
            "number of models which work well in limited domains. \n",
            "However, until recently, the application of such systems to real- \n",
            "world problems has been difficult because of storage limitations, \n",
            "and their inherent architectural (and for serial simulation, \n",
            "computational) complexity. Recent development of memories \n",
            "with unrestricted storage capacity and economical feedforward \n",
            "architectures has opened the way to the application of such \n",
            "systems to complex pattern recognition problems. However, \n",
            "such problems are sometimes underspecified by the features \n",
            "which describe the environment, and thus a significant portion \n",
            "of the pattern environment is often non-separable. We will \n",
            "review current work on high density memo\n"
          ]
        }
      ],
      "source": [
        "print(papers[3][:1000])"
      ]
    },
    {
      "cell_type": "markdown",
      "metadata": {
        "id": "NNqkh2nb8qpe"
      },
      "source": [
        "## Basic Text Pre-processing\n",
        "\n",
        "We perform some basic text wrangling or preprocessing before diving into topic\n",
        "modeling. We keep things simple here"
      ]
    },
    {
      "cell_type": "code",
      "execution_count": null,
      "metadata": {
        "colab": {
          "base_uri": "https://localhost:8080/"
        },
        "id": "Jhsbee7g8lwa",
        "outputId": "075402a2-ae23-4ecf-852d-b13087d943a1"
      },
      "outputs": [
        {
          "name": "stderr",
          "output_type": "stream",
          "text": [
            "100%|██████████| 1740/1740 [00:56<00:00, 31.02it/s]"
          ]
        },
        {
          "name": "stdout",
          "output_type": "stream",
          "text": [
            "1740\n",
            "CPU times: user 44.6 s, sys: 586 ms, total: 45.2 s\n",
            "Wall time: 56.1 s\n"
          ]
        },
        {
          "name": "stderr",
          "output_type": "stream",
          "text": [
            "\n"
          ]
        }
      ],
      "source": [
        "%%time\n",
        "import nltk\n",
        "import tqdm\n",
        "\n",
        "stop_words = nltk.corpus.stopwords.words('english')\n",
        "wtk = nltk.tokenize.RegexpTokenizer(r'\\w+') # can also use nltk.word_tokenize to get word tokens for each paper\n",
        "wnl = nltk.stem.wordnet.WordNetLemmatizer() # can use spacy lemmatization also\n",
        "\n",
        "def normalize_corpus(papers):\n",
        "    norm_papers = []\n",
        "    for paper in tqdm.tqdm(papers):\n",
        "        paper = paper.lower()\n",
        "        paper_tokens = [token.strip() for token in wtk.tokenize(paper)]\n",
        "        paper_tokens = [wnl.lemmatize(token) for token in paper_tokens if not token.isnumeric()]\n",
        "        paper_tokens = [token for token in paper_tokens if len(token) > 1] # removing any single character words \\ numbers \\ symbols\n",
        "        paper_tokens = [token for token in paper_tokens if token not in stop_words]\n",
        "        paper_tokens = list(filter(None, paper_tokens))\n",
        "        if paper_tokens:\n",
        "            norm_papers.append(paper_tokens)\n",
        "\n",
        "    return norm_papers\n",
        "\n",
        "norm_papers = normalize_corpus(papers)\n",
        "print(len(norm_papers))"
      ]
    },
    {
      "cell_type": "code",
      "execution_count": null,
      "metadata": {
        "colab": {
          "base_uri": "https://localhost:8080/"
        },
        "id": "Cq4EhTwP-I_U",
        "outputId": "5e1a7039-e9dd-49d8-e7f5-7e30bbea482b"
      },
      "outputs": [
        {
          "name": "stdout",
          "output_type": "stream",
          "text": [
            "['patyep', 'class', 'degeneracy', 'unrestricted', 'storage', 'density', 'memory', 'christopher', 'scofield', 'douglas', 'reilly', 'charles', 'elbaum', 'leon', 'cooper', 'nestor', 'inc', 'richmond', 'square', 'providence', 'rhode', 'island', 'abstract', 'study', 'distributed', 'memory', 'system', 'ha', 'produced', 'number', 'model', 'work', 'well', 'limited', 'domain', 'however', 'recently', 'application', 'system', 'real', 'world', 'problem', 'ha', 'difficult', 'storage', 'limitation', 'inherent', 'architectural', 'serial', 'simulation']\n"
          ]
        }
      ],
      "source": [
        "print(norm_papers[3][:50])"
      ]
    },
    {
      "cell_type": "markdown",
      "metadata": {
        "id": "wFubckun_IYp"
      },
      "source": [
        "## Build a Bi-gram Phrase Model\n",
        "\n",
        "Before feature engineering and vectorization, we want to extract some useful bi-gram\n",
        "based phrases from our research papers and remove some unnecessary terms. We\n",
        "leverage the very useful gensim.models.Phrases class for this. This capability helps us\n",
        "automatically detect common phrases from a stream of sentences, which are typically\n",
        "multi-word expressions/word n-grams.\n",
        "\n",
        "This implementation draws inspiration\n",
        "from the famous paper by Mikolov, et al., “Distributed Representations of Words and\n",
        "Phrases and their Compositionality,” which you can check out at https://arxiv.org/\n",
        "abs/1310.4546. We start by extracting and generating words and bi-grams as phrases for\n",
        "each tokenized research paper.\n",
        "\n",
        "We leverage the `min_count` parameter, which tells us that our model ignores all words and bi-grams with total\n",
        "collected count lower than 20 across the corpus (of the input paper as a list of tokenized\n",
        "sentences). We also use a `threshold` of 20, which tells us that the model accepts specific\n",
        "phrases based on this threshold value so that a phrase of words a followed by b is\n",
        "accepted if the score of the phrase is greater than the threshold of 20. This threshold is\n",
        "dependent on the scoring parameter, which helps us understand how these phrases are\n",
        "scored to understand their influence.\n",
        "Typically the default scorer is used and it’s pretty straightforward to understand.\n",
        "You can check out further details in the documentation at https://radimrehurek.com/gensim/models/phrases.html#gensim.models.phrases.original_scorer and in the\n",
        "previously mentioned research paper."
      ]
    },
    {
      "cell_type": "code",
      "execution_count": null,
      "metadata": {
        "colab": {
          "base_uri": "https://localhost:8080/",
          "height": 35
        },
        "id": "RWq3XtcEf21F",
        "outputId": "9196f6a4-a3b8-4817-8630-29bcc7ceb1fd"
      },
      "outputs": [
        {
          "data": {
            "application/vnd.google.colaboratory.intrinsic+json": {
              "type": "string"
            },
            "text/plain": [
              "'4.3.2'"
            ]
          },
          "execution_count": 8,
          "metadata": {},
          "output_type": "execute_result"
        }
      ],
      "source": [
        "import gensim\n",
        "gensim.__version__ # >= 4.0"
      ]
    },
    {
      "cell_type": "code",
      "execution_count": null,
      "metadata": {
        "colab": {
          "base_uri": "https://localhost:8080/"
        },
        "id": "6IX3-ZbQ-fXp",
        "outputId": "bb31f580-4797-43cc-bbdf-861aa3736884"
      },
      "outputs": [
        {
          "name": "stdout",
          "output_type": "stream",
          "text": [
            "['patyep', 'class', 'degeneracy', 'unrestricted', 'storage', 'density', 'memory', 'christopher', 'scofield', 'douglas', 'reilly', 'charles', 'elbaum', 'leon', 'cooper', 'nestor', 'inc', 'richmond', 'square', 'providence', 'rhode', 'island', 'abstract', 'study', 'distributed', 'memory', 'system', 'ha', 'produced', 'number', 'model', 'work', 'well', 'limited', 'domain', 'however', 'recently', 'application', 'system', 'real_world', 'problem', 'ha', 'difficult', 'storage', 'limitation', 'inherent', 'architectural', 'serial', 'simulation', 'computational_complexity']\n"
          ]
        }
      ],
      "source": [
        "import gensim\n",
        "\n",
        "bigram = gensim.models.Phrases(norm_papers, min_count=20, threshold=20, delimiter='_') # higher threshold -> fewer phrases.\n",
        "bigram_model = gensim.models.phrases.Phraser(bigram)\n",
        "\n",
        "print(bigram_model[norm_papers[3]][:50]) # very similar to using ngram_range=(1,2) in count vectorizer"
      ]
    },
    {
      "cell_type": "code",
      "execution_count": null,
      "metadata": {
        "colab": {
          "base_uri": "https://localhost:8080/"
        },
        "id": "KaGCzYSU-jx1",
        "outputId": "62a97df5-4712-49db-aa59-c5c6b0d0ce42"
      },
      "outputs": [
        {
          "name": "stdout",
          "output_type": "stream",
          "text": [
            "Sample word to number mappings: [(0, '1vs'), (1, '21ogn'), (2, '2elogn'), (3, '2logn'), (4, '2m'), (5, '4e'), (6, '4logn'), (7, '81ogn'), (8, '_0'), (9, '_5'), (10, 'a2'), (11, 'a2k'), (12, 'ability'), (13, 'able'), (14, 'abstract')]\n",
            "Total Vocabulary Size: 78892\n"
          ]
        }
      ],
      "source": [
        "norm_corpus_bigrams = [bigram_model[doc] for doc in norm_papers]\n",
        "\n",
        "# Create a dictionary representation of the documents.\n",
        "dictionary = gensim.corpora.Dictionary(norm_corpus_bigrams)\n",
        "print('Sample word to number mappings:', list(dictionary.items())[:15])\n",
        "print('Total Vocabulary Size:', len(dictionary))"
      ]
    },
    {
      "cell_type": "markdown",
      "metadata": {
        "id": "x47ztNpD12bC"
      },
      "source": [
        "Looks like we have a lot of unique phrases in our corpus of research papers,\n",
        "based on the preceding output. Several of these terms are not very useful since they are\n",
        "specific to a paper or even a paragraph in a research paper. Hence, it is time to prune\n",
        "our vocabulary and start removing terms. Leveraging document frequency is a great way\n",
        "to achieve this."
      ]
    },
    {
      "cell_type": "code",
      "execution_count": null,
      "metadata": {
        "colab": {
          "base_uri": "https://localhost:8080/"
        },
        "id": "YTiZ2Bxe-tNK",
        "outputId": "f4fa916f-af17-45ca-ca70-fddd18fabeff"
      },
      "outputs": [
        {
          "name": "stdout",
          "output_type": "stream",
          "text": [
            "Total Vocabulary Size: 7756\n"
          ]
        }
      ],
      "source": [
        "# Filter out words that occur less than 20 documents, or more than 60% of the documents.\n",
        "dictionary.filter_extremes(no_below=20, no_above=0.6) # similar to min_df and max_df in count vectorizer\n",
        "print('Total Vocabulary Size:', len(dictionary))"
      ]
    },
    {
      "cell_type": "markdown",
      "metadata": {
        "id": "PKMDWQ6W12bF"
      },
      "source": [
        "We removed all terms that occur fewer than 20 times across all documents and all\n",
        "terms that occur in more than 60% of all the documents. We are interested in finding\n",
        "different themes and topics and not recurring themes. Hence, this suits our scenario\n",
        "perfectly."
      ]
    },
    {
      "cell_type": "markdown",
      "metadata": {
        "id": "kj2lB4_b_eFO"
      },
      "source": [
        "## Transforming corpus into bag of words vectors\n",
        "\n",
        "We can now perform feature engineering by leveraging a simple Bag of Words\n",
        "model."
      ]
    },
    {
      "cell_type": "code",
      "execution_count": null,
      "metadata": {
        "colab": {
          "base_uri": "https://localhost:8080/"
        },
        "id": "cp_fhm91-3R-",
        "outputId": "838fcf46-4d75-4d9d-f46d-65dd14b7c740"
      },
      "outputs": [
        {
          "name": "stdout",
          "output_type": "stream",
          "text": [
            "[(3, 1), (4, 1), (6, 2), (17, 1), (21, 2), (26, 1), (29, 1), (30, 1), (31, 1), (35, 1), (40, 3), (41, 1), (43, 1), (46, 1), (51, 5), (52, 1), (59, 1), (61, 3), (64, 1), (68, 6), (78, 1), (79, 1), (80, 1), (82, 1), (85, 9), (93, 3), (95, 2), (100, 1), (107, 1), (108, 10), (121, 2), (123, 1), (126, 2), (127, 2), (131, 2), (135, 4), (137, 1), (147, 1), (148, 1), (155, 2), (165, 1), (170, 2), (171, 2), (174, 2), (181, 14), (186, 2), (191, 2), (194, 6), (197, 1), (213, 2)]\n"
          ]
        }
      ],
      "source": [
        "# Transforming corpus into bag of words vectors\n",
        "bow_corpus = [dictionary.doc2bow(text) for text in norm_corpus_bigrams]\n",
        "print(bow_corpus[1][:50])"
      ]
    },
    {
      "cell_type": "code",
      "execution_count": null,
      "metadata": {
        "colab": {
          "base_uri": "https://localhost:8080/"
        },
        "id": "_oOA652d-6sI",
        "outputId": "72e6b6e3-2bcf-45a8-9f5f-12754f306b3c"
      },
      "outputs": [
        {
          "name": "stdout",
          "output_type": "stream",
          "text": [
            "[('able', 1), ('abstract', 1), ('acad_sci', 2), ('addition', 1), ('advantage', 2), ('allowed', 1), ('american_institute', 1), ('amir', 1), ('analog', 1), ('analyzed', 1), ('application', 3), ('appropriate', 1), ('approximation', 1), ('around', 1), ('associative_memory', 5), ('assume', 1), ('basin_attraction', 1), ('becomes', 3), ('behavior', 1), ('binary', 6), ('call', 1), ('called', 1), ('cannot', 1), ('capacity', 1), ('cell', 9), ('class', 3), ('clearly', 2), ('collective', 1), ('complete', 1), ('complex', 10), ('conference', 2), ('consider', 1), ('consists', 2), ('constant', 2), ('continuous', 2), ('corresponding', 4), ('could', 1), ('define', 1), ('defined', 1), ('depends', 2), ('developed', 1), ('direction', 2), ('directly', 2), ('discrete_time', 2), ('dynamic', 14), ('easily', 2), ('element', 2), ('energy', 6), ('equal', 1), ('exists', 2)]\n"
          ]
        }
      ],
      "source": [
        "print([(dictionary[idx] , freq) for idx, freq in bow_corpus[1][:50]])"
      ]
    },
    {
      "cell_type": "code",
      "execution_count": null,
      "metadata": {
        "colab": {
          "base_uri": "https://localhost:8080/"
        },
        "id": "aAjuxxdH--fn",
        "outputId": "206eb819-f7fa-4ea9-b319-e0adc034188d"
      },
      "outputs": [
        {
          "name": "stdout",
          "output_type": "stream",
          "text": [
            "Total number of papers: 1740\n"
          ]
        }
      ],
      "source": [
        "print('Total number of papers:', len(bow_corpus))"
      ]
    },
    {
      "cell_type": "markdown",
      "metadata": {
        "id": "zUb8ZKJXJI-4"
      },
      "source": [
        "## Topic Models with Latent Dirichlet Allocation (LDA)\n",
        "\n",
        "The Latent Dirichlet Allocation (LDA) technique is a generative probabilistic model in\n",
        "which each document is assumed to have a combination of topics similar to a probabilistic\n",
        "Latent Semantic Indexing model. In this case, the latent topics contain a Dirichlet\n",
        "prior over them. The math behind in this technique is pretty involved, so we will try to\n",
        "summarize it since going it specific details is out of the current scope.\n",
        "\n",
        "![](https://i.imgur.com/l23JAvE.png)\n",
        "\n",
        "Simplyfying the LDA model process:\n",
        "\n",
        "![](https://i.imgur.com/0BXCaUi.png)\n",
        "\n",
        "![](https://i.imgur.com/ioiUAxX.png)"
      ]
    },
    {
      "cell_type": "code",
      "execution_count": null,
      "metadata": {
        "colab": {
          "base_uri": "https://localhost:8080/"
        },
        "id": "083_UQPlJZy_",
        "outputId": "f522e2b0-fc8e-4e13-db96-95d3c6b5a44e"
      },
      "outputs": [
        {
          "name": "stdout",
          "output_type": "stream",
          "text": [
            "CPU times: user 1min 54s, sys: 2.4 s, total: 1min 57s\n",
            "Wall time: 2min 2s\n"
          ]
        }
      ],
      "source": [
        "%%time\n",
        "TOTAL_TOPICS = 10\n",
        "lda_model = gensim.models.LdaModel(corpus=bow_corpus,\n",
        "                                   id2word=dictionary,\n",
        "                                   chunksize=1740,\n",
        "                                   alpha='auto',\n",
        "                                   eta='auto',\n",
        "                                   random_state=42,\n",
        "                                   iterations=500,\n",
        "                                   num_topics=TOTAL_TOPICS,\n",
        "                                   passes=20,\n",
        "                                   eval_every=None)"
      ]
    },
    {
      "cell_type": "code",
      "execution_count": null,
      "metadata": {
        "colab": {
          "base_uri": "https://localhost:8080/"
        },
        "id": "IF9KX9UARO1r",
        "outputId": "68a18ffb-96fd-46db-ed98-0230a7e5d76d"
      },
      "outputs": [
        {
          "name": "stdout",
          "output_type": "stream",
          "text": [
            "Topic #1:\n",
            "0.023*\"neuron\" + 0.015*\"cell\" + 0.009*\"activity\" + 0.008*\"pattern\" + 0.008*\"response\" + 0.007*\"stimulus\" + 0.006*\"synaptic\" + 0.006*\"spike\" + 0.005*\"unit\" + 0.005*\"connection\" + 0.005*\"cortical\" + 0.004*\"layer\" + 0.004*\"firing\" + 0.004*\"neural\" + 0.004*\"effect\" + 0.004*\"simulation\" + 0.004*\"et_al\" + 0.004*\"cortex\" + 0.003*\"map\" + 0.003*\"synapsis\"\n",
            "\n",
            "Topic #2:\n",
            "0.013*\"circuit\" + 0.011*\"chip\" + 0.010*\"cell\" + 0.009*\"neuron\" + 0.009*\"motion\" + 0.008*\"current\" + 0.007*\"voltage\" + 0.006*\"analog\" + 0.006*\"signal\" + 0.005*\"response\" + 0.005*\"direction\" + 0.005*\"image\" + 0.004*\"neural\" + 0.004*\"visual\" + 0.004*\"velocity\" + 0.004*\"filter\" + 0.003*\"field\" + 0.003*\"implementation\" + 0.003*\"array\" + 0.003*\"edge\"\n",
            "\n",
            "Topic #3:\n",
            "0.031*\"image\" + 0.015*\"feature\" + 0.014*\"object\" + 0.007*\"representation\" + 0.006*\"task\" + 0.005*\"view\" + 0.005*\"training\" + 0.005*\"pixel\" + 0.004*\"position\" + 0.004*\"location\" + 0.004*\"map\" + 0.004*\"visual\" + 0.004*\"region\" + 0.004*\"distance\" + 0.004*\"vector\" + 0.004*\"transformation\" + 0.003*\"surface\" + 0.003*\"local\" + 0.003*\"unit\" + 0.003*\"structure\"\n",
            "\n",
            "Topic #4:\n",
            "0.012*\"training\" + 0.009*\"class\" + 0.007*\"classifier\" + 0.006*\"classification\" + 0.005*\"sample\" + 0.005*\"distribution\" + 0.005*\"prediction\" + 0.004*\"vector\" + 0.004*\"training_set\" + 0.004*\"estimate\" + 0.004*\"test\" + 0.004*\"probability\" + 0.004*\"linear\" + 0.004*\"kernel\" + 0.004*\"approximation\" + 0.003*\"regression\" + 0.003*\"size\" + 0.003*\"bound\" + 0.003*\"feature\" + 0.003*\"pattern\"\n",
            "\n",
            "Topic #5:\n",
            "0.017*\"state\" + 0.010*\"probability\" + 0.008*\"variable\" + 0.006*\"mixture\" + 0.006*\"hmm\" + 0.006*\"structure\" + 0.006*\"distribution\" + 0.005*\"sequence\" + 0.005*\"cluster\" + 0.005*\"word\" + 0.005*\"step\" + 0.004*\"clustering\" + 0.004*\"context\" + 0.004*\"likelihood\" + 0.004*\"training\" + 0.004*\"prior\" + 0.004*\"node\" + 0.004*\"level\" + 0.003*\"component\" + 0.003*\"tree\"\n",
            "\n",
            "Topic #6:\n",
            "0.016*\"control\" + 0.010*\"training\" + 0.009*\"word\" + 0.008*\"trajectory\" + 0.007*\"recognition\" + 0.006*\"character\" + 0.006*\"task\" + 0.006*\"position\" + 0.006*\"architecture\" + 0.006*\"controller\" + 0.005*\"state\" + 0.005*\"trained\" + 0.005*\"movement\" + 0.005*\"dynamic\" + 0.005*\"hand\" + 0.005*\"speech\" + 0.005*\"robot\" + 0.005*\"module\" + 0.004*\"motor\" + 0.004*\"field\"\n",
            "\n",
            "Topic #7:\n",
            "0.010*\"unit\" + 0.008*\"state\" + 0.008*\"node\" + 0.008*\"rule\" + 0.008*\"pattern\" + 0.007*\"memory\" + 0.006*\"vector\" + 0.006*\"sequence\" + 0.006*\"net\" + 0.005*\"neuron\" + 0.005*\"activation\" + 0.004*\"layer\" + 0.004*\"bit\" + 0.004*\"recurrent\" + 0.004*\"threshold\" + 0.004*\"size\" + 0.004*\"structure\" + 0.003*\"representation\" + 0.003*\"training\" + 0.003*\"theorem\"\n",
            "\n",
            "Topic #8:\n",
            "0.009*\"noise\" + 0.009*\"equation\" + 0.008*\"matrix\" + 0.008*\"vector\" + 0.006*\"distribution\" + 0.006*\"linear\" + 0.005*\"solution\" + 0.005*\"dynamic\" + 0.005*\"signal\" + 0.005*\"gaussian\" + 0.005*\"nonlinear\" + 0.004*\"state\" + 0.004*\"eq\" + 0.004*\"density\" + 0.004*\"source\" + 0.004*\"component\" + 0.004*\"optimal\" + 0.004*\"rate\" + 0.003*\"estimate\" + 0.003*\"rule\"\n",
            "\n",
            "Topic #9:\n",
            "0.013*\"state\" + 0.013*\"unit\" + 0.008*\"action\" + 0.006*\"step\" + 0.006*\"training\" + 0.005*\"hidden_unit\" + 0.005*\"control\" + 0.005*\"policy\" + 0.005*\"task\" + 0.005*\"optimal\" + 0.004*\"rate\" + 0.004*\"reinforcement_learning\" + 0.004*\"gradient\" + 0.004*\"convergence\" + 0.004*\"vector\" + 0.003*\"update\" + 0.003*\"solution\" + 0.003*\"back_propagation\" + 0.003*\"adaptive\" + 0.003*\"architecture\"\n",
            "\n",
            "Topic #10:\n",
            "0.009*\"signal\" + 0.007*\"unit\" + 0.007*\"pattern\" + 0.006*\"training\" + 0.006*\"classification\" + 0.005*\"stimulus\" + 0.005*\"feature\" + 0.005*\"layer\" + 0.005*\"frequency\" + 0.005*\"response\" + 0.005*\"representation\" + 0.005*\"recognition\" + 0.004*\"task\" + 0.004*\"speech\" + 0.004*\"trained\" + 0.004*\"speaker\" + 0.004*\"face\" + 0.004*\"sound\" + 0.004*\"subject\" + 0.004*\"detection\"\n",
            "\n"
          ]
        }
      ],
      "source": [
        "for topic_id, topic in lda_model.print_topics(num_topics=10, num_words=20):\n",
        "    print('Topic #'+str(topic_id+1)+':')\n",
        "    print(topic)\n",
        "    print()"
      ]
    },
    {
      "cell_type": "code",
      "execution_count": null,
      "metadata": {
        "colab": {
          "base_uri": "https://localhost:8080/"
        },
        "id": "4jExj9SYRRyE",
        "outputId": "2ba2787b-725b-4edc-eef9-3fcfae48f7f9"
      },
      "outputs": [
        {
          "name": "stdout",
          "output_type": "stream",
          "text": [
            "Avg. Coherence Score: -1.0803260583515713\n"
          ]
        }
      ],
      "source": [
        "topics_coherences = lda_model.top_topics(bow_corpus, topn=20)\n",
        "avg_coherence_score = np.mean([item[1] for item in topics_coherences])\n",
        "print('Avg. Coherence Score:', avg_coherence_score)"
      ]
    },
    {
      "cell_type": "markdown",
      "metadata": {
        "id": "YtPTIGeQ12by"
      },
      "source": [
        "Topic coherence is a complex topic in its own and it can be used to measure the\n",
        "quality of topic models to some extent. Typically, a set of statements is said to be\n",
        "coherent if they support each other. Topic models are unsupervised learning based\n",
        "models that are trained on unstructured text data, making it difficult to measure the\n",
        "quality of outputs.\n",
        "\n",
        "Refer to Text Analytics with Python 2nd Edition for more detail on this."
      ]
    },
    {
      "cell_type": "code",
      "execution_count": null,
      "metadata": {
        "colab": {
          "base_uri": "https://localhost:8080/"
        },
        "id": "azEdB08qRX4z",
        "outputId": "a9ef137a-315d-44cd-81a7-2e5cda553951"
      },
      "outputs": [
        {
          "name": "stdout",
          "output_type": "stream",
          "text": [
            "LDA Topics with Weights\n",
            "==================================================\n",
            "Topic #1:\n",
            "[('training', 0.012), ('class', 0.009), ('classifier', 0.007), ('classification', 0.006), ('sample', 0.005), ('distribution', 0.005), ('prediction', 0.005), ('vector', 0.004), ('training_set', 0.004), ('estimate', 0.004), ('test', 0.004), ('probability', 0.004), ('linear', 0.004), ('kernel', 0.004), ('approximation', 0.004), ('regression', 0.003), ('size', 0.003), ('bound', 0.003), ('feature', 0.003), ('pattern', 0.003)]\n",
            "\n",
            "Topic #2:\n",
            "[('image', 0.031), ('feature', 0.015), ('object', 0.014), ('representation', 0.007), ('task', 0.006), ('view', 0.005), ('training', 0.005), ('pixel', 0.005), ('position', 0.004), ('location', 0.004), ('map', 0.004), ('visual', 0.004), ('region', 0.004), ('distance', 0.004), ('vector', 0.004), ('transformation', 0.004), ('surface', 0.003), ('local', 0.003), ('unit', 0.003), ('structure', 0.003)]\n",
            "\n",
            "Topic #3:\n",
            "[('noise', 0.009), ('equation', 0.009), ('matrix', 0.008), ('vector', 0.008), ('distribution', 0.006), ('linear', 0.006), ('solution', 0.005), ('dynamic', 0.005), ('signal', 0.005), ('gaussian', 0.005), ('nonlinear', 0.005), ('state', 0.004), ('eq', 0.004), ('density', 0.004), ('source', 0.004), ('component', 0.004), ('optimal', 0.004), ('rate', 0.004), ('estimate', 0.003), ('rule', 0.003)]\n",
            "\n",
            "Topic #4:\n",
            "[('neuron', 0.023), ('cell', 0.015), ('activity', 0.009), ('pattern', 0.008), ('response', 0.008), ('stimulus', 0.007), ('synaptic', 0.006), ('spike', 0.006), ('unit', 0.005), ('connection', 0.005), ('cortical', 0.005), ('layer', 0.004), ('firing', 0.004), ('neural', 0.004), ('effect', 0.004), ('simulation', 0.004), ('et_al', 0.004), ('cortex', 0.004), ('map', 0.003), ('synapsis', 0.003)]\n",
            "\n",
            "Topic #5:\n",
            "[('unit', 0.01), ('state', 0.008), ('node', 0.008), ('rule', 0.008), ('pattern', 0.008), ('memory', 0.007), ('vector', 0.006), ('sequence', 0.006), ('net', 0.006), ('neuron', 0.005), ('activation', 0.005), ('layer', 0.004), ('bit', 0.004), ('recurrent', 0.004), ('threshold', 0.004), ('size', 0.004), ('structure', 0.004), ('representation', 0.003), ('training', 0.003), ('theorem', 0.003)]\n",
            "\n",
            "Topic #6:\n",
            "[('state', 0.013), ('unit', 0.013), ('action', 0.008), ('step', 0.006), ('training', 0.006), ('hidden_unit', 0.005), ('control', 0.005), ('policy', 0.005), ('task', 0.005), ('optimal', 0.005), ('rate', 0.004), ('reinforcement_learning', 0.004), ('gradient', 0.004), ('convergence', 0.004), ('vector', 0.004), ('update', 0.003), ('solution', 0.003), ('back_propagation', 0.003), ('adaptive', 0.003), ('architecture', 0.003)]\n",
            "\n",
            "Topic #7:\n",
            "[('circuit', 0.013), ('chip', 0.011), ('cell', 0.01), ('neuron', 0.009), ('motion', 0.009), ('current', 0.008), ('voltage', 0.007), ('analog', 0.006), ('signal', 0.006), ('response', 0.005), ('direction', 0.005), ('image', 0.005), ('neural', 0.004), ('visual', 0.004), ('velocity', 0.004), ('filter', 0.004), ('field', 0.003), ('implementation', 0.003), ('array', 0.003), ('edge', 0.003)]\n",
            "\n",
            "Topic #8:\n",
            "[('state', 0.017), ('probability', 0.01), ('variable', 0.008), ('mixture', 0.006), ('hmm', 0.006), ('structure', 0.006), ('distribution', 0.006), ('sequence', 0.005), ('cluster', 0.005), ('word', 0.005), ('step', 0.005), ('clustering', 0.004), ('context', 0.004), ('likelihood', 0.004), ('training', 0.004), ('prior', 0.004), ('node', 0.004), ('level', 0.004), ('component', 0.003), ('tree', 0.003)]\n",
            "\n",
            "Topic #9:\n",
            "[('signal', 0.009), ('unit', 0.007), ('pattern', 0.007), ('training', 0.006), ('classification', 0.006), ('stimulus', 0.005), ('feature', 0.005), ('layer', 0.005), ('frequency', 0.005), ('response', 0.005), ('representation', 0.005), ('recognition', 0.005), ('task', 0.004), ('speech', 0.004), ('trained', 0.004), ('speaker', 0.004), ('face', 0.004), ('sound', 0.004), ('subject', 0.004), ('detection', 0.004)]\n",
            "\n",
            "Topic #10:\n",
            "[('control', 0.016), ('training', 0.01), ('word', 0.009), ('trajectory', 0.008), ('recognition', 0.007), ('character', 0.006), ('task', 0.006), ('position', 0.006), ('architecture', 0.006), ('controller', 0.006), ('state', 0.005), ('trained', 0.005), ('movement', 0.005), ('dynamic', 0.005), ('hand', 0.005), ('speech', 0.005), ('robot', 0.005), ('module', 0.005), ('motor', 0.004), ('field', 0.004)]\n",
            "\n"
          ]
        }
      ],
      "source": [
        "topics_with_wts = [item[0] for item in topics_coherences]\n",
        "print('LDA Topics with Weights')\n",
        "print('='*50)\n",
        "for idx, topic in enumerate(topics_with_wts):\n",
        "    print('Topic #'+str(idx+1)+':')\n",
        "    print([(term, round(wt, 3)) for wt, term in topic])\n",
        "    print()"
      ]
    },
    {
      "cell_type": "code",
      "execution_count": null,
      "metadata": {
        "colab": {
          "base_uri": "https://localhost:8080/"
        },
        "id": "EAkgJa3XRZ3m",
        "outputId": "b878d8f3-9edc-4a22-a0f2-88337c233707"
      },
      "outputs": [
        {
          "name": "stdout",
          "output_type": "stream",
          "text": [
            "LDA Topics without Weights\n",
            "==================================================\n",
            "Topic #1:\n",
            "['training', 'class', 'classifier', 'classification', 'sample', 'distribution', 'prediction', 'vector', 'training_set', 'estimate', 'test', 'probability', 'linear', 'kernel', 'approximation', 'regression', 'size', 'bound', 'feature', 'pattern']\n",
            "\n",
            "Topic #2:\n",
            "['image', 'feature', 'object', 'representation', 'task', 'view', 'training', 'pixel', 'position', 'location', 'map', 'visual', 'region', 'distance', 'vector', 'transformation', 'surface', 'local', 'unit', 'structure']\n",
            "\n",
            "Topic #3:\n",
            "['noise', 'equation', 'matrix', 'vector', 'distribution', 'linear', 'solution', 'dynamic', 'signal', 'gaussian', 'nonlinear', 'state', 'eq', 'density', 'source', 'component', 'optimal', 'rate', 'estimate', 'rule']\n",
            "\n",
            "Topic #4:\n",
            "['neuron', 'cell', 'activity', 'pattern', 'response', 'stimulus', 'synaptic', 'spike', 'unit', 'connection', 'cortical', 'layer', 'firing', 'neural', 'effect', 'simulation', 'et_al', 'cortex', 'map', 'synapsis']\n",
            "\n",
            "Topic #5:\n",
            "['unit', 'state', 'node', 'rule', 'pattern', 'memory', 'vector', 'sequence', 'net', 'neuron', 'activation', 'layer', 'bit', 'recurrent', 'threshold', 'size', 'structure', 'representation', 'training', 'theorem']\n",
            "\n",
            "Topic #6:\n",
            "['state', 'unit', 'action', 'step', 'training', 'hidden_unit', 'control', 'policy', 'task', 'optimal', 'rate', 'reinforcement_learning', 'gradient', 'convergence', 'vector', 'update', 'solution', 'back_propagation', 'adaptive', 'architecture']\n",
            "\n",
            "Topic #7:\n",
            "['circuit', 'chip', 'cell', 'neuron', 'motion', 'current', 'voltage', 'analog', 'signal', 'response', 'direction', 'image', 'neural', 'visual', 'velocity', 'filter', 'field', 'implementation', 'array', 'edge']\n",
            "\n",
            "Topic #8:\n",
            "['state', 'probability', 'variable', 'mixture', 'hmm', 'structure', 'distribution', 'sequence', 'cluster', 'word', 'step', 'clustering', 'context', 'likelihood', 'training', 'prior', 'node', 'level', 'component', 'tree']\n",
            "\n",
            "Topic #9:\n",
            "['signal', 'unit', 'pattern', 'training', 'classification', 'stimulus', 'feature', 'layer', 'frequency', 'response', 'representation', 'recognition', 'task', 'speech', 'trained', 'speaker', 'face', 'sound', 'subject', 'detection']\n",
            "\n",
            "Topic #10:\n",
            "['control', 'training', 'word', 'trajectory', 'recognition', 'character', 'task', 'position', 'architecture', 'controller', 'state', 'trained', 'movement', 'dynamic', 'hand', 'speech', 'robot', 'module', 'motor', 'field']\n",
            "\n"
          ]
        }
      ],
      "source": [
        "print('LDA Topics without Weights')\n",
        "print('='*50)\n",
        "for idx, topic in enumerate(topics_with_wts):\n",
        "    print('Topic #'+str(idx+1)+':')\n",
        "    print([term for wt, term in topic])\n",
        "    print()"
      ]
    },
    {
      "cell_type": "markdown",
      "metadata": {
        "id": "p0GmIZME8kmo"
      },
      "source": [
        "### View Topics in a neat DataFrame"
      ]
    },
    {
      "cell_type": "code",
      "execution_count": null,
      "metadata": {
        "id": "xNi4_yoT6siE"
      },
      "outputs": [],
      "source": [
        "pd.options.display.max_colwidth = None"
      ]
    },
    {
      "cell_type": "code",
      "execution_count": null,
      "metadata": {
        "colab": {
          "base_uri": "https://localhost:8080/",
          "height": 363
        },
        "id": "1csjJBdn8kAg",
        "outputId": "68d003c7-a07e-4a0b-e852-fe8ae97ef78f"
      },
      "outputs": [
        {
          "data": {
            "application/vnd.google.colaboratory.intrinsic+json": {
              "summary": "{\n  \"name\": \"topics_df\",\n  \"rows\": 10,\n  \"fields\": [\n    {\n      \"column\": \"Terms per Topic\",\n      \"properties\": {\n        \"dtype\": \"string\",\n        \"num_unique_values\": 10,\n        \"samples\": [\n          \"state, unit, action, step, training, hidden_unit, control, policy, task, optimal, rate, reinforcement_learning, gradient, convergence, vector\",\n          \"circuit, chip, cell, neuron, motion, current, voltage, analog, signal, response, direction, image, neural, visual, velocity\",\n          \"control, training, word, trajectory, recognition, character, task, position, architecture, controller, state, trained, movement, dynamic, hand\"\n        ],\n        \"semantic_type\": \"\",\n        \"description\": \"\"\n      }\n    }\n  ]\n}",
              "type": "dataframe",
              "variable_name": "topics_df"
            },
            "text/html": [
              "\n",
              "  <div id=\"df-aee9edf2-5b49-463a-932a-51854f54f7c0\" class=\"colab-df-container\">\n",
              "    <div>\n",
              "<style scoped>\n",
              "    .dataframe tbody tr th:only-of-type {\n",
              "        vertical-align: middle;\n",
              "    }\n",
              "\n",
              "    .dataframe tbody tr th {\n",
              "        vertical-align: top;\n",
              "    }\n",
              "\n",
              "    .dataframe thead th {\n",
              "        text-align: right;\n",
              "    }\n",
              "</style>\n",
              "<table border=\"1\" class=\"dataframe\">\n",
              "  <thead>\n",
              "    <tr style=\"text-align: right;\">\n",
              "      <th></th>\n",
              "      <th>Terms per Topic</th>\n",
              "    </tr>\n",
              "  </thead>\n",
              "  <tbody>\n",
              "    <tr>\n",
              "      <th>Topic1</th>\n",
              "      <td>neuron, cell, activity, pattern, response, stimulus, synaptic, spike, unit, connection, cortical, layer, firing, neural, effect</td>\n",
              "    </tr>\n",
              "    <tr>\n",
              "      <th>Topic2</th>\n",
              "      <td>circuit, chip, cell, neuron, motion, current, voltage, analog, signal, response, direction, image, neural, visual, velocity</td>\n",
              "    </tr>\n",
              "    <tr>\n",
              "      <th>Topic3</th>\n",
              "      <td>image, feature, object, representation, task, view, training, pixel, position, location, map, visual, region, distance, vector</td>\n",
              "    </tr>\n",
              "    <tr>\n",
              "      <th>Topic4</th>\n",
              "      <td>training, class, classifier, classification, sample, distribution, prediction, vector, training_set, estimate, test, probability, linear, kernel, approximation</td>\n",
              "    </tr>\n",
              "    <tr>\n",
              "      <th>Topic5</th>\n",
              "      <td>state, probability, variable, mixture, hmm, structure, distribution, sequence, cluster, word, step, clustering, context, likelihood, training</td>\n",
              "    </tr>\n",
              "    <tr>\n",
              "      <th>Topic6</th>\n",
              "      <td>control, training, word, trajectory, recognition, character, task, position, architecture, controller, state, trained, movement, dynamic, hand</td>\n",
              "    </tr>\n",
              "    <tr>\n",
              "      <th>Topic7</th>\n",
              "      <td>unit, state, node, rule, pattern, memory, vector, sequence, net, neuron, activation, layer, bit, recurrent, threshold</td>\n",
              "    </tr>\n",
              "    <tr>\n",
              "      <th>Topic8</th>\n",
              "      <td>noise, equation, matrix, vector, distribution, linear, solution, dynamic, signal, gaussian, nonlinear, state, eq, density, source</td>\n",
              "    </tr>\n",
              "    <tr>\n",
              "      <th>Topic9</th>\n",
              "      <td>state, unit, action, step, training, hidden_unit, control, policy, task, optimal, rate, reinforcement_learning, gradient, convergence, vector</td>\n",
              "    </tr>\n",
              "    <tr>\n",
              "      <th>Topic10</th>\n",
              "      <td>signal, unit, pattern, training, classification, stimulus, feature, layer, frequency, response, representation, recognition, task, speech, trained</td>\n",
              "    </tr>\n",
              "  </tbody>\n",
              "</table>\n",
              "</div>\n",
              "    <div class=\"colab-df-buttons\">\n",
              "\n",
              "  <div class=\"colab-df-container\">\n",
              "    <button class=\"colab-df-convert\" onclick=\"convertToInteractive('df-aee9edf2-5b49-463a-932a-51854f54f7c0')\"\n",
              "            title=\"Convert this dataframe to an interactive table.\"\n",
              "            style=\"display:none;\">\n",
              "\n",
              "  <svg xmlns=\"http://www.w3.org/2000/svg\" height=\"24px\" viewBox=\"0 -960 960 960\">\n",
              "    <path d=\"M120-120v-720h720v720H120Zm60-500h600v-160H180v160Zm220 220h160v-160H400v160Zm0 220h160v-160H400v160ZM180-400h160v-160H180v160Zm440 0h160v-160H620v160ZM180-180h160v-160H180v160Zm440 0h160v-160H620v160Z\"/>\n",
              "  </svg>\n",
              "    </button>\n",
              "\n",
              "  <style>\n",
              "    .colab-df-container {\n",
              "      display:flex;\n",
              "      gap: 12px;\n",
              "    }\n",
              "\n",
              "    .colab-df-convert {\n",
              "      background-color: #E8F0FE;\n",
              "      border: none;\n",
              "      border-radius: 50%;\n",
              "      cursor: pointer;\n",
              "      display: none;\n",
              "      fill: #1967D2;\n",
              "      height: 32px;\n",
              "      padding: 0 0 0 0;\n",
              "      width: 32px;\n",
              "    }\n",
              "\n",
              "    .colab-df-convert:hover {\n",
              "      background-color: #E2EBFA;\n",
              "      box-shadow: 0px 1px 2px rgba(60, 64, 67, 0.3), 0px 1px 3px 1px rgba(60, 64, 67, 0.15);\n",
              "      fill: #174EA6;\n",
              "    }\n",
              "\n",
              "    .colab-df-buttons div {\n",
              "      margin-bottom: 4px;\n",
              "    }\n",
              "\n",
              "    [theme=dark] .colab-df-convert {\n",
              "      background-color: #3B4455;\n",
              "      fill: #D2E3FC;\n",
              "    }\n",
              "\n",
              "    [theme=dark] .colab-df-convert:hover {\n",
              "      background-color: #434B5C;\n",
              "      box-shadow: 0px 1px 3px 1px rgba(0, 0, 0, 0.15);\n",
              "      filter: drop-shadow(0px 1px 2px rgba(0, 0, 0, 0.3));\n",
              "      fill: #FFFFFF;\n",
              "    }\n",
              "  </style>\n",
              "\n",
              "    <script>\n",
              "      const buttonEl =\n",
              "        document.querySelector('#df-aee9edf2-5b49-463a-932a-51854f54f7c0 button.colab-df-convert');\n",
              "      buttonEl.style.display =\n",
              "        google.colab.kernel.accessAllowed ? 'block' : 'none';\n",
              "\n",
              "      async function convertToInteractive(key) {\n",
              "        const element = document.querySelector('#df-aee9edf2-5b49-463a-932a-51854f54f7c0');\n",
              "        const dataTable =\n",
              "          await google.colab.kernel.invokeFunction('convertToInteractive',\n",
              "                                                    [key], {});\n",
              "        if (!dataTable) return;\n",
              "\n",
              "        const docLinkHtml = 'Like what you see? Visit the ' +\n",
              "          '<a target=\"_blank\" href=https://colab.research.google.com/notebooks/data_table.ipynb>data table notebook</a>'\n",
              "          + ' to learn more about interactive tables.';\n",
              "        element.innerHTML = '';\n",
              "        dataTable['output_type'] = 'display_data';\n",
              "        await google.colab.output.renderOutput(dataTable, element);\n",
              "        const docLink = document.createElement('div');\n",
              "        docLink.innerHTML = docLinkHtml;\n",
              "        element.appendChild(docLink);\n",
              "      }\n",
              "    </script>\n",
              "  </div>\n",
              "\n",
              "\n",
              "<div id=\"df-cefb9a10-af81-4bfc-b084-67fa1c1aea35\">\n",
              "  <button class=\"colab-df-quickchart\" onclick=\"quickchart('df-cefb9a10-af81-4bfc-b084-67fa1c1aea35')\"\n",
              "            title=\"Suggest charts\"\n",
              "            style=\"display:none;\">\n",
              "\n",
              "<svg xmlns=\"http://www.w3.org/2000/svg\" height=\"24px\"viewBox=\"0 0 24 24\"\n",
              "     width=\"24px\">\n",
              "    <g>\n",
              "        <path d=\"M19 3H5c-1.1 0-2 .9-2 2v14c0 1.1.9 2 2 2h14c1.1 0 2-.9 2-2V5c0-1.1-.9-2-2-2zM9 17H7v-7h2v7zm4 0h-2V7h2v10zm4 0h-2v-4h2v4z\"/>\n",
              "    </g>\n",
              "</svg>\n",
              "  </button>\n",
              "\n",
              "<style>\n",
              "  .colab-df-quickchart {\n",
              "      --bg-color: #E8F0FE;\n",
              "      --fill-color: #1967D2;\n",
              "      --hover-bg-color: #E2EBFA;\n",
              "      --hover-fill-color: #174EA6;\n",
              "      --disabled-fill-color: #AAA;\n",
              "      --disabled-bg-color: #DDD;\n",
              "  }\n",
              "\n",
              "  [theme=dark] .colab-df-quickchart {\n",
              "      --bg-color: #3B4455;\n",
              "      --fill-color: #D2E3FC;\n",
              "      --hover-bg-color: #434B5C;\n",
              "      --hover-fill-color: #FFFFFF;\n",
              "      --disabled-bg-color: #3B4455;\n",
              "      --disabled-fill-color: #666;\n",
              "  }\n",
              "\n",
              "  .colab-df-quickchart {\n",
              "    background-color: var(--bg-color);\n",
              "    border: none;\n",
              "    border-radius: 50%;\n",
              "    cursor: pointer;\n",
              "    display: none;\n",
              "    fill: var(--fill-color);\n",
              "    height: 32px;\n",
              "    padding: 0;\n",
              "    width: 32px;\n",
              "  }\n",
              "\n",
              "  .colab-df-quickchart:hover {\n",
              "    background-color: var(--hover-bg-color);\n",
              "    box-shadow: 0 1px 2px rgba(60, 64, 67, 0.3), 0 1px 3px 1px rgba(60, 64, 67, 0.15);\n",
              "    fill: var(--button-hover-fill-color);\n",
              "  }\n",
              "\n",
              "  .colab-df-quickchart-complete:disabled,\n",
              "  .colab-df-quickchart-complete:disabled:hover {\n",
              "    background-color: var(--disabled-bg-color);\n",
              "    fill: var(--disabled-fill-color);\n",
              "    box-shadow: none;\n",
              "  }\n",
              "\n",
              "  .colab-df-spinner {\n",
              "    border: 2px solid var(--fill-color);\n",
              "    border-color: transparent;\n",
              "    border-bottom-color: var(--fill-color);\n",
              "    animation:\n",
              "      spin 1s steps(1) infinite;\n",
              "  }\n",
              "\n",
              "  @keyframes spin {\n",
              "    0% {\n",
              "      border-color: transparent;\n",
              "      border-bottom-color: var(--fill-color);\n",
              "      border-left-color: var(--fill-color);\n",
              "    }\n",
              "    20% {\n",
              "      border-color: transparent;\n",
              "      border-left-color: var(--fill-color);\n",
              "      border-top-color: var(--fill-color);\n",
              "    }\n",
              "    30% {\n",
              "      border-color: transparent;\n",
              "      border-left-color: var(--fill-color);\n",
              "      border-top-color: var(--fill-color);\n",
              "      border-right-color: var(--fill-color);\n",
              "    }\n",
              "    40% {\n",
              "      border-color: transparent;\n",
              "      border-right-color: var(--fill-color);\n",
              "      border-top-color: var(--fill-color);\n",
              "    }\n",
              "    60% {\n",
              "      border-color: transparent;\n",
              "      border-right-color: var(--fill-color);\n",
              "    }\n",
              "    80% {\n",
              "      border-color: transparent;\n",
              "      border-right-color: var(--fill-color);\n",
              "      border-bottom-color: var(--fill-color);\n",
              "    }\n",
              "    90% {\n",
              "      border-color: transparent;\n",
              "      border-bottom-color: var(--fill-color);\n",
              "    }\n",
              "  }\n",
              "</style>\n",
              "\n",
              "  <script>\n",
              "    async function quickchart(key) {\n",
              "      const quickchartButtonEl =\n",
              "        document.querySelector('#' + key + ' button');\n",
              "      quickchartButtonEl.disabled = true;  // To prevent multiple clicks.\n",
              "      quickchartButtonEl.classList.add('colab-df-spinner');\n",
              "      try {\n",
              "        const charts = await google.colab.kernel.invokeFunction(\n",
              "            'suggestCharts', [key], {});\n",
              "      } catch (error) {\n",
              "        console.error('Error during call to suggestCharts:', error);\n",
              "      }\n",
              "      quickchartButtonEl.classList.remove('colab-df-spinner');\n",
              "      quickchartButtonEl.classList.add('colab-df-quickchart-complete');\n",
              "    }\n",
              "    (() => {\n",
              "      let quickchartButtonEl =\n",
              "        document.querySelector('#df-cefb9a10-af81-4bfc-b084-67fa1c1aea35 button');\n",
              "      quickchartButtonEl.style.display =\n",
              "        google.colab.kernel.accessAllowed ? 'block' : 'none';\n",
              "    })();\n",
              "  </script>\n",
              "</div>\n",
              "    </div>\n",
              "  </div>\n"
            ],
            "text/plain": [
              "                                                                                                                                                         Terms per Topic\n",
              "Topic1                                   neuron, cell, activity, pattern, response, stimulus, synaptic, spike, unit, connection, cortical, layer, firing, neural, effect\n",
              "Topic2                                       circuit, chip, cell, neuron, motion, current, voltage, analog, signal, response, direction, image, neural, visual, velocity\n",
              "Topic3                                    image, feature, object, representation, task, view, training, pixel, position, location, map, visual, region, distance, vector\n",
              "Topic4   training, class, classifier, classification, sample, distribution, prediction, vector, training_set, estimate, test, probability, linear, kernel, approximation\n",
              "Topic5                     state, probability, variable, mixture, hmm, structure, distribution, sequence, cluster, word, step, clustering, context, likelihood, training\n",
              "Topic6                    control, training, word, trajectory, recognition, character, task, position, architecture, controller, state, trained, movement, dynamic, hand\n",
              "Topic7                                             unit, state, node, rule, pattern, memory, vector, sequence, net, neuron, activation, layer, bit, recurrent, threshold\n",
              "Topic8                                 noise, equation, matrix, vector, distribution, linear, solution, dynamic, signal, gaussian, nonlinear, state, eq, density, source\n",
              "Topic9                     state, unit, action, step, training, hidden_unit, control, policy, task, optimal, rate, reinforcement_learning, gradient, convergence, vector\n",
              "Topic10               signal, unit, pattern, training, classification, stimulus, feature, layer, frequency, response, representation, recognition, task, speech, trained"
            ]
          },
          "execution_count": 21,
          "metadata": {},
          "output_type": "execute_result"
        }
      ],
      "source": [
        "topics = [[(term, round(wt, 3))\n",
        "               for term, wt in lda_model.show_topic(n, topn=15)]\n",
        "                   for n in range(0, lda_model.num_topics)]\n",
        "\n",
        "topics_df = pd.DataFrame([', '.join([term for term, wt in topic])\n",
        "                              for topic in topics],\n",
        "                         columns = ['Terms per Topic'],\n",
        "                         index=['Topic'+str(t) for t in range(1, lda_model.num_topics+1)]\n",
        "                         )\n",
        "topics_df"
      ]
    },
    {
      "cell_type": "markdown",
      "metadata": {
        "id": "abiy8_Cg12b5"
      },
      "source": [
        "## Evaluating topic model quality\n",
        "\n",
        "We can use perplexity and coherence scores as measures to evaluate the topic\n",
        "model. Typically, lower the perplexity, the better the model. Similarly, the lower the\n",
        "UMass score and the higher the Cv score in coherence, the better the model."
      ]
    },
    {
      "cell_type": "code",
      "execution_count": null,
      "metadata": {
        "colab": {
          "base_uri": "https://localhost:8080/"
        },
        "id": "WkOZQdZERbzG",
        "outputId": "f2637fa0-dd81-46fa-ba79-f091de17d442"
      },
      "outputs": [
        {
          "name": "stdout",
          "output_type": "stream",
          "text": [
            "Avg. Coherence Score (Cv): 0.4371627940012983\n",
            "Avg. Coherence Score (UMass): -1.0803260583515713\n",
            "Model Perplexity: -7.800330274358723\n"
          ]
        }
      ],
      "source": [
        "cv_coherence_model_lda = gensim.models.CoherenceModel(model=lda_model, corpus=bow_corpus,\n",
        "                                                      texts=norm_corpus_bigrams,\n",
        "                                                      dictionary=dictionary,\n",
        "                                                      coherence='c_v')\n",
        "avg_coherence_cv = cv_coherence_model_lda.get_coherence()\n",
        "\n",
        "umass_coherence_model_lda = gensim.models.CoherenceModel(model=lda_model, corpus=bow_corpus,\n",
        "                                                         texts=norm_corpus_bigrams,\n",
        "                                                         dictionary=dictionary,\n",
        "                                                         coherence='u_mass')\n",
        "avg_coherence_umass = umass_coherence_model_lda.get_coherence()\n",
        "\n",
        "perplexity = lda_model.log_perplexity(bow_corpus)\n",
        "\n",
        "print('Avg. Coherence Score (Cv):', avg_coherence_cv)\n",
        "print('Avg. Coherence Score (UMass):', avg_coherence_umass)\n",
        "print('Model Perplexity:', perplexity)"
      ]
    },
    {
      "cell_type": "markdown",
      "metadata": {
        "id": "wvn6Xx9N12cA"
      },
      "source": [
        "## LDA Tuning: Finding the optimal number of topics\n",
        "\n",
        "Finding the optimal number of topics in a topic model is tough, given that it is like a\n",
        "model hyperparameter that you always have to set before training the model. We can\n",
        "use an iterative approach and build several models with differing numbers of topics and\n",
        "select the one that has the highest coherence score."
      ]
    },
    {
      "cell_type": "code",
      "execution_count": null,
      "metadata": {
        "id": "qnw7FB6O7IbP"
      },
      "outputs": [],
      "source": [
        "from tqdm.notebook import tqdm"
      ]
    },
    {
      "cell_type": "code",
      "execution_count": null,
      "metadata": {
        "id": "OYeyeNmRWy4m"
      },
      "outputs": [],
      "source": [
        "def topic_model_coherence_generator(corpus, texts, dictionary,\n",
        "                                    start_topic_count=2, end_topic_count=10, step=1):\n",
        "\n",
        "    models = []\n",
        "    coherence_scores = []\n",
        "    for topic_nums in tqdm(range(start_topic_count, end_topic_count+1, step)):\n",
        "        lda_model = gensim.models.LdaModel(corpus=bow_corpus,\n",
        "                                   id2word=dictionary,\n",
        "                                   chunksize=1740,\n",
        "                                   alpha='auto',\n",
        "                                   eta='auto',\n",
        "                                   random_state=42,\n",
        "                                   iterations=500,\n",
        "                                   num_topics=topic_nums,\n",
        "                                   passes=20,\n",
        "                                   eval_every=None)\n",
        "        cv_coherence_lda = gensim.models.CoherenceModel(model=lda_model, corpus=corpus,\n",
        "                                                                     texts=texts, dictionary=dictionary,\n",
        "                                                                     coherence='c_v')\n",
        "        coherence_score = cv_coherence_lda.get_coherence()\n",
        "        coherence_scores.append(coherence_score)\n",
        "        models.append(lda_model)\n",
        "\n",
        "    return models, coherence_scores"
      ]
    },
    {
      "cell_type": "code",
      "execution_count": null,
      "metadata": {
        "colab": {
          "background_save": true,
          "base_uri": "https://localhost:8080/",
          "height": 49,
          "referenced_widgets": [
            "ce2eaebbfbba490a8b19974dc5981c5b",
            "5140520504464fb38f6c954218a29c17",
            "00ae0fa94baf4399971b42b224b8f9f6",
            "9cf319012c6643dfabcf8f4352c12642",
            "e224fdf17d474f938337b4b1ed4f69b8",
            "19a121811c8a470eba4660f5de9f26b6",
            "6ab3316259be453f8f46fed383ce69d7",
            "0ba03c641bc947fdaca69d60089ad285",
            "938123b52c2c487db4ee8358db476e62",
            "a1bab031da724b86bb95c705efd62a4d",
            "e9112acabcec4745af8515f10425b625"
          ]
        },
        "id": "8vgKu5RCXHrv",
        "outputId": "84d62626-4ff0-493e-e453-e8a24d034f56"
      },
      "outputs": [
        {
          "data": {
            "application/vnd.jupyter.widget-view+json": {
              "model_id": "ce2eaebbfbba490a8b19974dc5981c5b",
              "version_major": 2,
              "version_minor": 0
            },
            "text/plain": [
              "  0%|          | 0/29 [00:00<?, ?it/s]"
            ]
          },
          "metadata": {},
          "output_type": "display_data"
        }
      ],
      "source": [
        "# !!! this is a time-consuming step\n",
        "# might take anywhere between 60-90mins depending upon your setup\n",
        "lda_models, coherence_scores = topic_model_coherence_generator(corpus=bow_corpus,\n",
        "                                                               texts=norm_corpus_bigrams,\n",
        "                                                               dictionary=dictionary,\n",
        "                                                               start_topic_count=2,\n",
        "                                                               end_topic_count=30,\n",
        "                                                               step=1)"
      ]
    },
    {
      "cell_type": "code",
      "execution_count": null,
      "metadata": {
        "colab": {
          "background_save": true
        },
        "id": "EeQIjHsOXPvY",
        "outputId": "7c533b58-75e0-4bd2-d195-d366fe1e203a"
      },
      "outputs": [
        {
          "data": {
            "application/vnd.google.colaboratory.intrinsic+json": {
              "summary": "{\n  \"name\": \"coherence_df\",\n  \"rows\": 10,\n  \"fields\": [\n    {\n      \"column\": \"Number of Topics\",\n      \"properties\": {\n        \"dtype\": \"number\",\n        \"std\": 4,\n        \"min\": 5,\n        \"max\": 21,\n        \"num_unique_values\": 10,\n        \"samples\": [\n          5,\n          15,\n          20\n        ],\n        \"semantic_type\": \"\",\n        \"description\": \"\"\n      }\n    },\n    {\n      \"column\": \"Coherence Score\",\n      \"properties\": {\n        \"dtype\": \"number\",\n        \"std\": 0.006241340667944141,\n        \"min\": 0.4719,\n        \"max\": 0.4915,\n        \"num_unique_values\": 10,\n        \"samples\": [\n          0.4745,\n          0.4903,\n          0.4815\n        ],\n        \"semantic_type\": \"\",\n        \"description\": \"\"\n      }\n    }\n  ]\n}",
              "type": "dataframe"
            },
            "text/html": [
              "\n",
              "  <div id=\"df-2adc0592-66da-4ce0-887e-322030f97b58\" class=\"colab-df-container\">\n",
              "    <div>\n",
              "<style scoped>\n",
              "    .dataframe tbody tr th:only-of-type {\n",
              "        vertical-align: middle;\n",
              "    }\n",
              "\n",
              "    .dataframe tbody tr th {\n",
              "        vertical-align: top;\n",
              "    }\n",
              "\n",
              "    .dataframe thead th {\n",
              "        text-align: right;\n",
              "    }\n",
              "</style>\n",
              "<table border=\"1\" class=\"dataframe\">\n",
              "  <thead>\n",
              "    <tr style=\"text-align: right;\">\n",
              "      <th></th>\n",
              "      <th>Number of Topics</th>\n",
              "      <th>Coherence Score</th>\n",
              "    </tr>\n",
              "  </thead>\n",
              "  <tbody>\n",
              "    <tr>\n",
              "      <th>16</th>\n",
              "      <td>18</td>\n",
              "      <td>0.4915</td>\n",
              "    </tr>\n",
              "    <tr>\n",
              "      <th>13</th>\n",
              "      <td>15</td>\n",
              "      <td>0.4903</td>\n",
              "    </tr>\n",
              "    <tr>\n",
              "      <th>19</th>\n",
              "      <td>21</td>\n",
              "      <td>0.4854</td>\n",
              "    </tr>\n",
              "    <tr>\n",
              "      <th>14</th>\n",
              "      <td>16</td>\n",
              "      <td>0.4849</td>\n",
              "    </tr>\n",
              "    <tr>\n",
              "      <th>12</th>\n",
              "      <td>14</td>\n",
              "      <td>0.4838</td>\n",
              "    </tr>\n",
              "    <tr>\n",
              "      <th>18</th>\n",
              "      <td>20</td>\n",
              "      <td>0.4815</td>\n",
              "    </tr>\n",
              "    <tr>\n",
              "      <th>15</th>\n",
              "      <td>17</td>\n",
              "      <td>0.4814</td>\n",
              "    </tr>\n",
              "    <tr>\n",
              "      <th>17</th>\n",
              "      <td>19</td>\n",
              "      <td>0.4787</td>\n",
              "    </tr>\n",
              "    <tr>\n",
              "      <th>3</th>\n",
              "      <td>5</td>\n",
              "      <td>0.4745</td>\n",
              "    </tr>\n",
              "    <tr>\n",
              "      <th>11</th>\n",
              "      <td>13</td>\n",
              "      <td>0.4719</td>\n",
              "    </tr>\n",
              "  </tbody>\n",
              "</table>\n",
              "</div>\n",
              "    <div class=\"colab-df-buttons\">\n",
              "\n",
              "  <div class=\"colab-df-container\">\n",
              "    <button class=\"colab-df-convert\" onclick=\"convertToInteractive('df-2adc0592-66da-4ce0-887e-322030f97b58')\"\n",
              "            title=\"Convert this dataframe to an interactive table.\"\n",
              "            style=\"display:none;\">\n",
              "\n",
              "  <svg xmlns=\"http://www.w3.org/2000/svg\" height=\"24px\" viewBox=\"0 -960 960 960\">\n",
              "    <path d=\"M120-120v-720h720v720H120Zm60-500h600v-160H180v160Zm220 220h160v-160H400v160Zm0 220h160v-160H400v160ZM180-400h160v-160H180v160Zm440 0h160v-160H620v160ZM180-180h160v-160H180v160Zm440 0h160v-160H620v160Z\"/>\n",
              "  </svg>\n",
              "    </button>\n",
              "\n",
              "  <style>\n",
              "    .colab-df-container {\n",
              "      display:flex;\n",
              "      gap: 12px;\n",
              "    }\n",
              "\n",
              "    .colab-df-convert {\n",
              "      background-color: #E8F0FE;\n",
              "      border: none;\n",
              "      border-radius: 50%;\n",
              "      cursor: pointer;\n",
              "      display: none;\n",
              "      fill: #1967D2;\n",
              "      height: 32px;\n",
              "      padding: 0 0 0 0;\n",
              "      width: 32px;\n",
              "    }\n",
              "\n",
              "    .colab-df-convert:hover {\n",
              "      background-color: #E2EBFA;\n",
              "      box-shadow: 0px 1px 2px rgba(60, 64, 67, 0.3), 0px 1px 3px 1px rgba(60, 64, 67, 0.15);\n",
              "      fill: #174EA6;\n",
              "    }\n",
              "\n",
              "    .colab-df-buttons div {\n",
              "      margin-bottom: 4px;\n",
              "    }\n",
              "\n",
              "    [theme=dark] .colab-df-convert {\n",
              "      background-color: #3B4455;\n",
              "      fill: #D2E3FC;\n",
              "    }\n",
              "\n",
              "    [theme=dark] .colab-df-convert:hover {\n",
              "      background-color: #434B5C;\n",
              "      box-shadow: 0px 1px 3px 1px rgba(0, 0, 0, 0.15);\n",
              "      filter: drop-shadow(0px 1px 2px rgba(0, 0, 0, 0.3));\n",
              "      fill: #FFFFFF;\n",
              "    }\n",
              "  </style>\n",
              "\n",
              "    <script>\n",
              "      const buttonEl =\n",
              "        document.querySelector('#df-2adc0592-66da-4ce0-887e-322030f97b58 button.colab-df-convert');\n",
              "      buttonEl.style.display =\n",
              "        google.colab.kernel.accessAllowed ? 'block' : 'none';\n",
              "\n",
              "      async function convertToInteractive(key) {\n",
              "        const element = document.querySelector('#df-2adc0592-66da-4ce0-887e-322030f97b58');\n",
              "        const dataTable =\n",
              "          await google.colab.kernel.invokeFunction('convertToInteractive',\n",
              "                                                    [key], {});\n",
              "        if (!dataTable) return;\n",
              "\n",
              "        const docLinkHtml = 'Like what you see? Visit the ' +\n",
              "          '<a target=\"_blank\" href=https://colab.research.google.com/notebooks/data_table.ipynb>data table notebook</a>'\n",
              "          + ' to learn more about interactive tables.';\n",
              "        element.innerHTML = '';\n",
              "        dataTable['output_type'] = 'display_data';\n",
              "        await google.colab.output.renderOutput(dataTable, element);\n",
              "        const docLink = document.createElement('div');\n",
              "        docLink.innerHTML = docLinkHtml;\n",
              "        element.appendChild(docLink);\n",
              "      }\n",
              "    </script>\n",
              "  </div>\n",
              "\n",
              "\n",
              "<div id=\"df-b6612dbb-dd02-420e-927e-4273f4b30db1\">\n",
              "  <button class=\"colab-df-quickchart\" onclick=\"quickchart('df-b6612dbb-dd02-420e-927e-4273f4b30db1')\"\n",
              "            title=\"Suggest charts\"\n",
              "            style=\"display:none;\">\n",
              "\n",
              "<svg xmlns=\"http://www.w3.org/2000/svg\" height=\"24px\"viewBox=\"0 0 24 24\"\n",
              "     width=\"24px\">\n",
              "    <g>\n",
              "        <path d=\"M19 3H5c-1.1 0-2 .9-2 2v14c0 1.1.9 2 2 2h14c1.1 0 2-.9 2-2V5c0-1.1-.9-2-2-2zM9 17H7v-7h2v7zm4 0h-2V7h2v10zm4 0h-2v-4h2v4z\"/>\n",
              "    </g>\n",
              "</svg>\n",
              "  </button>\n",
              "\n",
              "<style>\n",
              "  .colab-df-quickchart {\n",
              "      --bg-color: #E8F0FE;\n",
              "      --fill-color: #1967D2;\n",
              "      --hover-bg-color: #E2EBFA;\n",
              "      --hover-fill-color: #174EA6;\n",
              "      --disabled-fill-color: #AAA;\n",
              "      --disabled-bg-color: #DDD;\n",
              "  }\n",
              "\n",
              "  [theme=dark] .colab-df-quickchart {\n",
              "      --bg-color: #3B4455;\n",
              "      --fill-color: #D2E3FC;\n",
              "      --hover-bg-color: #434B5C;\n",
              "      --hover-fill-color: #FFFFFF;\n",
              "      --disabled-bg-color: #3B4455;\n",
              "      --disabled-fill-color: #666;\n",
              "  }\n",
              "\n",
              "  .colab-df-quickchart {\n",
              "    background-color: var(--bg-color);\n",
              "    border: none;\n",
              "    border-radius: 50%;\n",
              "    cursor: pointer;\n",
              "    display: none;\n",
              "    fill: var(--fill-color);\n",
              "    height: 32px;\n",
              "    padding: 0;\n",
              "    width: 32px;\n",
              "  }\n",
              "\n",
              "  .colab-df-quickchart:hover {\n",
              "    background-color: var(--hover-bg-color);\n",
              "    box-shadow: 0 1px 2px rgba(60, 64, 67, 0.3), 0 1px 3px 1px rgba(60, 64, 67, 0.15);\n",
              "    fill: var(--button-hover-fill-color);\n",
              "  }\n",
              "\n",
              "  .colab-df-quickchart-complete:disabled,\n",
              "  .colab-df-quickchart-complete:disabled:hover {\n",
              "    background-color: var(--disabled-bg-color);\n",
              "    fill: var(--disabled-fill-color);\n",
              "    box-shadow: none;\n",
              "  }\n",
              "\n",
              "  .colab-df-spinner {\n",
              "    border: 2px solid var(--fill-color);\n",
              "    border-color: transparent;\n",
              "    border-bottom-color: var(--fill-color);\n",
              "    animation:\n",
              "      spin 1s steps(1) infinite;\n",
              "  }\n",
              "\n",
              "  @keyframes spin {\n",
              "    0% {\n",
              "      border-color: transparent;\n",
              "      border-bottom-color: var(--fill-color);\n",
              "      border-left-color: var(--fill-color);\n",
              "    }\n",
              "    20% {\n",
              "      border-color: transparent;\n",
              "      border-left-color: var(--fill-color);\n",
              "      border-top-color: var(--fill-color);\n",
              "    }\n",
              "    30% {\n",
              "      border-color: transparent;\n",
              "      border-left-color: var(--fill-color);\n",
              "      border-top-color: var(--fill-color);\n",
              "      border-right-color: var(--fill-color);\n",
              "    }\n",
              "    40% {\n",
              "      border-color: transparent;\n",
              "      border-right-color: var(--fill-color);\n",
              "      border-top-color: var(--fill-color);\n",
              "    }\n",
              "    60% {\n",
              "      border-color: transparent;\n",
              "      border-right-color: var(--fill-color);\n",
              "    }\n",
              "    80% {\n",
              "      border-color: transparent;\n",
              "      border-right-color: var(--fill-color);\n",
              "      border-bottom-color: var(--fill-color);\n",
              "    }\n",
              "    90% {\n",
              "      border-color: transparent;\n",
              "      border-bottom-color: var(--fill-color);\n",
              "    }\n",
              "  }\n",
              "</style>\n",
              "\n",
              "  <script>\n",
              "    async function quickchart(key) {\n",
              "      const quickchartButtonEl =\n",
              "        document.querySelector('#' + key + ' button');\n",
              "      quickchartButtonEl.disabled = true;  // To prevent multiple clicks.\n",
              "      quickchartButtonEl.classList.add('colab-df-spinner');\n",
              "      try {\n",
              "        const charts = await google.colab.kernel.invokeFunction(\n",
              "            'suggestCharts', [key], {});\n",
              "      } catch (error) {\n",
              "        console.error('Error during call to suggestCharts:', error);\n",
              "      }\n",
              "      quickchartButtonEl.classList.remove('colab-df-spinner');\n",
              "      quickchartButtonEl.classList.add('colab-df-quickchart-complete');\n",
              "    }\n",
              "    (() => {\n",
              "      let quickchartButtonEl =\n",
              "        document.querySelector('#df-b6612dbb-dd02-420e-927e-4273f4b30db1 button');\n",
              "      quickchartButtonEl.style.display =\n",
              "        google.colab.kernel.accessAllowed ? 'block' : 'none';\n",
              "    })();\n",
              "  </script>\n",
              "</div>\n",
              "    </div>\n",
              "  </div>\n"
            ],
            "text/plain": [
              "    Number of Topics  Coherence Score\n",
              "16                18           0.4915\n",
              "13                15           0.4903\n",
              "19                21           0.4854\n",
              "14                16           0.4849\n",
              "12                14           0.4838\n",
              "18                20           0.4815\n",
              "15                17           0.4814\n",
              "17                19           0.4787\n",
              "3                  5           0.4745\n",
              "11                13           0.4719"
            ]
          },
          "execution_count": 26,
          "metadata": {},
          "output_type": "execute_result"
        }
      ],
      "source": [
        "coherence_df = pd.DataFrame({'Number of Topics': range(2, 31, 1),\n",
        "                             'Coherence Score': np.round(coherence_scores, 4)})\n",
        "coherence_df.sort_values(by=['Coherence Score'], ascending=False).head(10)"
      ]
    },
    {
      "cell_type": "code",
      "execution_count": null,
      "metadata": {
        "colab": {
          "background_save": true
        },
        "id": "UBSRO_VqYjif",
        "outputId": "15b4d347-9555-4658-f60e-0276e915a921"
      },
      "outputs": [
        {
          "data": {
            "image/png": "[encoded data removed]",
            "text/plain": [
              "<Figure size 1200x600 with 1 Axes>"
            ]
          },
          "metadata": {},
          "output_type": "display_data"
        }
      ],
      "source": [
        "import matplotlib.pyplot as plt\n",
        "plt.style.use('fivethirtyeight')\n",
        "%matplotlib inline\n",
        "\n",
        "x_ax = range(2, 31, 1)\n",
        "y_ax = coherence_scores\n",
        "plt.figure(figsize=(12, 6))\n",
        "plt.plot(x_ax, y_ax, c='r')\n",
        "plt.axhline(y=0.5, c='k', linestyle='--', linewidth=2)\n",
        "plt.rcParams['figure.facecolor'] = 'white'\n",
        "xl = plt.xlabel('Number of Topics')\n",
        "yl = plt.ylabel('Coherence Score')"
      ]
    },
    {
      "cell_type": "markdown",
      "metadata": {
        "id": "N7PlAhgx12cI"
      },
      "source": [
        "We choose the optimal number of topics as 15, based on our intuition and to see if we can get more new topics \\ trends.\n",
        "\n",
        "However you can experiment here and look at the models with lesser topics between 8 - 10.\n",
        "\n",
        "Remember the scores are heuristics and not absolute like accuracy so try to look at the topics themselves instead of just relying blindly on the score (same as other unsupervised learning methods)"
      ]
    },
    {
      "cell_type": "code",
      "execution_count": null,
      "metadata": {
        "colab": {
          "background_save": true
        },
        "id": "YtPwVFdrYlxO",
        "outputId": "5db4f8da-c609-47fe-8179-8fedae5cd9a7"
      },
      "outputs": [
        {
          "data": {
            "text/plain": [
              "15"
            ]
          },
          "execution_count": 28,
          "metadata": {},
          "output_type": "execute_result"
        }
      ],
      "source": [
        "best_model_idx = coherence_df[coherence_df['Number of Topics'] == 15].index[0]\n",
        "best_lda_model = lda_models[best_model_idx]\n",
        "best_lda_model.num_topics"
      ]
    },
    {
      "cell_type": "code",
      "execution_count": null,
      "metadata": {
        "colab": {
          "background_save": true
        },
        "id": "HFHT-ezdHQeq"
      },
      "outputs": [],
      "source": [
        "# you can also run your own model with 15 topics if needed\n",
        "# although if you have already trained it earlier in the for loop\n",
        "# just reuse it as shown in the code in the previous cell\n",
        "# best_lda_model = gensim.models.LdaModel(corpus=bow_corpus,\n",
        "#                                    id2word=dictionary,\n",
        "#                                    chunksize=1740,\n",
        "#                                    alpha='auto',\n",
        "#                                    eta='auto',\n",
        "#                                    random_state=42,\n",
        "#                                    iterations=500,\n",
        "#                                    num_topics=15,\n",
        "#                                    passes=20,\n",
        "#                                    eval_every=None)"
      ]
    },
    {
      "cell_type": "markdown",
      "metadata": {
        "id": "2V0F6Lqx4Wtx"
      },
      "source": [
        "### Topics from Best Model"
      ]
    },
    {
      "cell_type": "code",
      "execution_count": null,
      "metadata": {
        "colab": {
          "background_save": true
        },
        "id": "y80sxSSy4fOx",
        "outputId": "a8ec7bad-68c2-4eb5-b00c-39186a70b2a5"
      },
      "outputs": [
        {
          "name": "stdout",
          "output_type": "stream",
          "text": [
            "Topic #1:\n",
            "['neuron', 'cell', 'activity', 'response', 'spike', 'synaptic', 'pattern', 'stimulus', 'firing', 'connection', 'neural', 'synapsis', 'cortical', 'simulation', 'dynamic', 'effect', 'et_al', 'signal', 'frequency', 'phase']\n",
            "\n",
            "Topic #2:\n",
            "['circuit', 'chip', 'neuron', 'current', 'voltage', 'cell', 'motion', 'analog', 'signal', 'velocity', 'neural', 'implementation', 'response', 'design', 'array', 'synapse', 'device', 'bit', 'transistor', 'digital']\n",
            "\n",
            "Topic #3:\n",
            "['word', 'task', 'training', 'feature', 'object', 'view', 'user', 'human', 'representation', 'experiment', 'image', 'recognition', 'target', 'trained', 'position', 'prediction', 'similarity', 'sequence', 'frame', 'test']\n",
            "\n",
            "Topic #4:\n",
            "['training', 'class', 'classifier', 'classification', 'feature', 'test', 'training_set', 'pattern', 'prediction', 'vector', 'sample', 'experiment', 'kernel', 'machine', 'tree', 'estimate', 'linear', 'size', 'probability', 'regression']\n",
            "\n",
            "Topic #5:\n",
            "['probability', 'state', 'variable', 'mixture', 'hmm', 'structure', 'cluster', 'distribution', 'likelihood', 'sequence', 'prior', 'clustering', 'step', 'node', 'component', 'tree', 'em', 'bayesian', 'graph', 'estimate']\n",
            "\n",
            "Topic #6:\n",
            "['control', 'trajectory', 'controller', 'movement', 'robot', 'position', 'motor', 'dynamic', 'state', 'arm', 'task', 'hand', 'forward', 'training', 'change', 'target', 'feedback', 'mapping', 'force', 'joint']\n",
            "\n",
            "Topic #7:\n",
            "['state', 'rule', 'node', 'memory', 'unit', 'vector', 'sequence', 'pattern', 'neuron', 'recurrent', 'net', 'matrix', 'bit', 'threshold', 'activation', 'size', 'dynamic', 'symbol', 'attractor', 'string']\n",
            "\n",
            "Topic #8:\n",
            "['matrix', 'signal', 'vector', 'noise', 'source', 'state', 'linear', 'component', 'nonlinear', 'ica', 'equation', 'rule', 'dynamic', 'density', 'filter', 'eq', 'pca', 'estimate', 'solution', 'estimation']\n",
            "\n",
            "Topic #9:\n",
            "['unit', 'training', 'hidden_unit', 'rate', 'vector', 'pattern', 'node', 'back_propagation', 'layer', 'gradient', 'activation', 'solution', 'architecture', 'simulation', 'step', 'equation', 'task', 'update', 'average', 'convergence']\n",
            "\n",
            "Topic #10:\n",
            "['signal', 'speech', 'face', 'frequency', 'image', 'speaker', 'sound', 'detection', 'feature', 'representation', 'channel', 'auditory', 'rate', 'subject', 'classification', 'training', 'recognition', 'frame', 'experiment', 'human']\n",
            "\n",
            "Topic #11:\n",
            "['gaussian', 'distribution', 'noise', 'vector', 'variance', 'prior', 'linear', 'approximation', 'image', 'transformation', 'distance', 'equation', 'dimensional', 'local', 'bayesian', 'matrix', 'solution', 'estimate', 'constraint', 'surface']\n",
            "\n",
            "Topic #12:\n",
            "['image', 'unit', 'layer', 'recognition', 'training', 'feature', 'character', 'net', 'pattern', 'architecture', 'trained', 'module', 'structure', 'digit', 'hidden_unit', 'object', 'representation', 'level', 'pixel', 'task']\n",
            "\n",
            "Topic #13:\n",
            "['state', 'action', 'policy', 'reinforcement_learning', 'step', 'control', 'optimal', 'reward', 'environment', 'agent', 'goal', 'cost', 'rl', 'task', 'rate', 'trial', 'td', 'iteration', 'current', 'sutton']\n",
            "\n",
            "Topic #14:\n",
            "['let', 'bound', 'distribution', 'approximation', 'theory', 'theorem', 'class', 'probability', 'xi', 'optimal', 'defined', 'equation', 'consider', 'sample', 'loss', 'estimate', 'linear', 'complexity', 'solution', 'entropy']\n",
            "\n",
            "Topic #15:\n",
            "['image', 'visual', 'unit', 'map', 'object', 'pattern', 'feature', 'cell', 'stimulus', 'layer', 'response', 'region', 'orientation', 'representation', 'spatial', 'activity', 'receptive_field', 'location', 'local', 'direction']\n",
            "\n"
          ]
        }
      ],
      "source": [
        "topics = [[(term, round(wt, 3))\n",
        "               for term, wt in best_lda_model.show_topic(n, topn=20)]\n",
        "                   for n in range(0, best_lda_model.num_topics)]\n",
        "\n",
        "for idx, topic in enumerate(topics):\n",
        "    print('Topic #'+str(idx+1)+':')\n",
        "    print([term for term, wt in topic])\n",
        "    print()"
      ]
    },
    {
      "cell_type": "markdown",
      "metadata": {
        "id": "Mxtpl5Co12cL"
      },
      "source": [
        "## Viewing LDA Model topics"
      ]
    },
    {
      "cell_type": "code",
      "execution_count": null,
      "metadata": {
        "colab": {
          "background_save": true
        },
        "id": "K3yf_xhqN0tH",
        "outputId": "ce9ae838-e173-43a2-9754-ad004a12323b"
      },
      "outputs": [
        {
          "data": {
            "application/vnd.google.colaboratory.intrinsic+json": {
              "summary": "{\n  \"name\": \"topics_df\",\n  \"rows\": 20,\n  \"fields\": [\n    {\n      \"column\": \"Topic 1\",\n      \"properties\": {\n        \"dtype\": \"string\",\n        \"num_unique_values\": 20,\n        \"samples\": [\n          \"neuron\",\n          \"signal\",\n          \"effect\"\n        ],\n        \"semantic_type\": \"\",\n        \"description\": \"\"\n      }\n    },\n    {\n      \"column\": \"Topic 2\",\n      \"properties\": {\n        \"dtype\": \"string\",\n        \"num_unique_values\": 20,\n        \"samples\": [\n          \"circuit\",\n          \"bit\",\n          \"synapse\"\n        ],\n        \"semantic_type\": \"\",\n        \"description\": \"\"\n      }\n    },\n    {\n      \"column\": \"Topic 3\",\n      \"properties\": {\n        \"dtype\": \"string\",\n        \"num_unique_values\": 20,\n        \"samples\": [\n          \"word\",\n          \"sequence\",\n          \"prediction\"\n        ],\n        \"semantic_type\": \"\",\n        \"description\": \"\"\n      }\n    },\n    {\n      \"column\": \"Topic 4\",\n      \"properties\": {\n        \"dtype\": \"string\",\n        \"num_unique_values\": 20,\n        \"samples\": [\n          \"training\",\n          \"size\",\n          \"estimate\"\n        ],\n        \"semantic_type\": \"\",\n        \"description\": \"\"\n      }\n    },\n    {\n      \"column\": \"Topic 5\",\n      \"properties\": {\n        \"dtype\": \"string\",\n        \"num_unique_values\": 20,\n        \"samples\": [\n          \"probability\",\n          \"bayesian\",\n          \"tree\"\n        ],\n        \"semantic_type\": \"\",\n        \"description\": \"\"\n      }\n    },\n    {\n      \"column\": \"Topic 6\",\n      \"properties\": {\n        \"dtype\": \"string\",\n        \"num_unique_values\": 20,\n        \"samples\": [\n          \"control\",\n          \"mapping\",\n          \"target\"\n        ],\n        \"semantic_type\": \"\",\n        \"description\": \"\"\n      }\n    },\n    {\n      \"column\": \"Topic 7\",\n      \"properties\": {\n        \"dtype\": \"string\",\n        \"num_unique_values\": 20,\n        \"samples\": [\n          \"state\",\n          \"symbol\",\n          \"size\"\n        ],\n        \"semantic_type\": \"\",\n        \"description\": \"\"\n      }\n    },\n    {\n      \"column\": \"Topic 8\",\n      \"properties\": {\n        \"dtype\": \"string\",\n        \"num_unique_values\": 20,\n        \"samples\": [\n          \"matrix\",\n          \"estimate\",\n          \"eq\"\n        ],\n        \"semantic_type\": \"\",\n        \"description\": \"\"\n      }\n    },\n    {\n      \"column\": \"Topic 9\",\n      \"properties\": {\n        \"dtype\": \"string\",\n        \"num_unique_values\": 20,\n        \"samples\": [\n          \"unit\",\n          \"update\",\n          \"equation\"\n        ],\n        \"semantic_type\": \"\",\n        \"description\": \"\"\n      }\n    },\n    {\n      \"column\": \"Topic 10\",\n      \"properties\": {\n        \"dtype\": \"string\",\n        \"num_unique_values\": 20,\n        \"samples\": [\n          \"signal\",\n          \"frame\",\n          \"training\"\n        ],\n        \"semantic_type\": \"\",\n        \"description\": \"\"\n      }\n    },\n    {\n      \"column\": \"Topic 11\",\n      \"properties\": {\n        \"dtype\": \"string\",\n        \"num_unique_values\": 20,\n        \"samples\": [\n          \"gaussian\",\n          \"estimate\",\n          \"matrix\"\n        ],\n        \"semantic_type\": \"\",\n        \"description\": \"\"\n      }\n    },\n    {\n      \"column\": \"Topic 12\",\n      \"properties\": {\n        \"dtype\": \"string\",\n        \"num_unique_values\": 20,\n        \"samples\": [\n          \"image\",\n          \"level\",\n          \"object\"\n        ],\n        \"semantic_type\": \"\",\n        \"description\": \"\"\n      }\n    },\n    {\n      \"column\": \"Topic 13\",\n      \"properties\": {\n        \"dtype\": \"string\",\n        \"num_unique_values\": 20,\n        \"samples\": [\n          \"state\",\n          \"iteration\",\n          \"trial\"\n        ],\n        \"semantic_type\": \"\",\n        \"description\": \"\"\n      }\n    },\n    {\n      \"column\": \"Topic 14\",\n      \"properties\": {\n        \"dtype\": \"string\",\n        \"num_unique_values\": 20,\n        \"samples\": [\n          \"let\",\n          \"complexity\",\n          \"estimate\"\n        ],\n        \"semantic_type\": \"\",\n        \"description\": \"\"\n      }\n    },\n    {\n      \"column\": \"Topic 15\",\n      \"properties\": {\n        \"dtype\": \"string\",\n        \"num_unique_values\": 20,\n        \"samples\": [\n          \"image\",\n          \"location\",\n          \"activity\"\n        ],\n        \"semantic_type\": \"\",\n        \"description\": \"\"\n      }\n    }\n  ]\n}",
              "type": "dataframe",
              "variable_name": "topics_df"
            },
            "text/html": [
              "\n",
              "  <div id=\"df-f7a76e85-b2d3-4b74-98ce-51cb33dd245d\" class=\"colab-df-container\">\n",
              "    <div>\n",
              "<style scoped>\n",
              "    .dataframe tbody tr th:only-of-type {\n",
              "        vertical-align: middle;\n",
              "    }\n",
              "\n",
              "    .dataframe tbody tr th {\n",
              "        vertical-align: top;\n",
              "    }\n",
              "\n",
              "    .dataframe thead th {\n",
              "        text-align: right;\n",
              "    }\n",
              "</style>\n",
              "<table border=\"1\" class=\"dataframe\">\n",
              "  <thead>\n",
              "    <tr style=\"text-align: right;\">\n",
              "      <th></th>\n",
              "      <th>Topic 1</th>\n",
              "      <th>Topic 2</th>\n",
              "      <th>Topic 3</th>\n",
              "      <th>Topic 4</th>\n",
              "      <th>Topic 5</th>\n",
              "      <th>Topic 6</th>\n",
              "      <th>Topic 7</th>\n",
              "      <th>Topic 8</th>\n",
              "      <th>Topic 9</th>\n",
              "      <th>Topic 10</th>\n",
              "      <th>Topic 11</th>\n",
              "      <th>Topic 12</th>\n",
              "      <th>Topic 13</th>\n",
              "      <th>Topic 14</th>\n",
              "      <th>Topic 15</th>\n",
              "    </tr>\n",
              "  </thead>\n",
              "  <tbody>\n",
              "    <tr>\n",
              "      <th>Term1</th>\n",
              "      <td>neuron</td>\n",
              "      <td>circuit</td>\n",
              "      <td>word</td>\n",
              "      <td>training</td>\n",
              "      <td>probability</td>\n",
              "      <td>control</td>\n",
              "      <td>state</td>\n",
              "      <td>matrix</td>\n",
              "      <td>unit</td>\n",
              "      <td>signal</td>\n",
              "      <td>gaussian</td>\n",
              "      <td>image</td>\n",
              "      <td>state</td>\n",
              "      <td>let</td>\n",
              "      <td>image</td>\n",
              "    </tr>\n",
              "    <tr>\n",
              "      <th>Term2</th>\n",
              "      <td>cell</td>\n",
              "      <td>chip</td>\n",
              "      <td>task</td>\n",
              "      <td>class</td>\n",
              "      <td>state</td>\n",
              "      <td>trajectory</td>\n",
              "      <td>rule</td>\n",
              "      <td>signal</td>\n",
              "      <td>training</td>\n",
              "      <td>speech</td>\n",
              "      <td>distribution</td>\n",
              "      <td>unit</td>\n",
              "      <td>action</td>\n",
              "      <td>bound</td>\n",
              "      <td>visual</td>\n",
              "    </tr>\n",
              "    <tr>\n",
              "      <th>Term3</th>\n",
              "      <td>activity</td>\n",
              "      <td>neuron</td>\n",
              "      <td>training</td>\n",
              "      <td>classifier</td>\n",
              "      <td>variable</td>\n",
              "      <td>controller</td>\n",
              "      <td>node</td>\n",
              "      <td>vector</td>\n",
              "      <td>hidden_unit</td>\n",
              "      <td>face</td>\n",
              "      <td>noise</td>\n",
              "      <td>layer</td>\n",
              "      <td>policy</td>\n",
              "      <td>distribution</td>\n",
              "      <td>unit</td>\n",
              "    </tr>\n",
              "    <tr>\n",
              "      <th>Term4</th>\n",
              "      <td>response</td>\n",
              "      <td>current</td>\n",
              "      <td>feature</td>\n",
              "      <td>classification</td>\n",
              "      <td>mixture</td>\n",
              "      <td>movement</td>\n",
              "      <td>memory</td>\n",
              "      <td>noise</td>\n",
              "      <td>rate</td>\n",
              "      <td>frequency</td>\n",
              "      <td>vector</td>\n",
              "      <td>recognition</td>\n",
              "      <td>reinforcement_learning</td>\n",
              "      <td>approximation</td>\n",
              "      <td>map</td>\n",
              "    </tr>\n",
              "    <tr>\n",
              "      <th>Term5</th>\n",
              "      <td>spike</td>\n",
              "      <td>voltage</td>\n",
              "      <td>object</td>\n",
              "      <td>feature</td>\n",
              "      <td>hmm</td>\n",
              "      <td>robot</td>\n",
              "      <td>unit</td>\n",
              "      <td>source</td>\n",
              "      <td>vector</td>\n",
              "      <td>image</td>\n",
              "      <td>variance</td>\n",
              "      <td>training</td>\n",
              "      <td>step</td>\n",
              "      <td>theory</td>\n",
              "      <td>object</td>\n",
              "    </tr>\n",
              "    <tr>\n",
              "      <th>Term6</th>\n",
              "      <td>synaptic</td>\n",
              "      <td>cell</td>\n",
              "      <td>view</td>\n",
              "      <td>test</td>\n",
              "      <td>structure</td>\n",
              "      <td>position</td>\n",
              "      <td>vector</td>\n",
              "      <td>state</td>\n",
              "      <td>pattern</td>\n",
              "      <td>speaker</td>\n",
              "      <td>prior</td>\n",
              "      <td>feature</td>\n",
              "      <td>control</td>\n",
              "      <td>theorem</td>\n",
              "      <td>pattern</td>\n",
              "    </tr>\n",
              "    <tr>\n",
              "      <th>Term7</th>\n",
              "      <td>pattern</td>\n",
              "      <td>motion</td>\n",
              "      <td>user</td>\n",
              "      <td>training_set</td>\n",
              "      <td>cluster</td>\n",
              "      <td>motor</td>\n",
              "      <td>sequence</td>\n",
              "      <td>linear</td>\n",
              "      <td>node</td>\n",
              "      <td>sound</td>\n",
              "      <td>linear</td>\n",
              "      <td>character</td>\n",
              "      <td>optimal</td>\n",
              "      <td>class</td>\n",
              "      <td>feature</td>\n",
              "    </tr>\n",
              "    <tr>\n",
              "      <th>Term8</th>\n",
              "      <td>stimulus</td>\n",
              "      <td>analog</td>\n",
              "      <td>human</td>\n",
              "      <td>pattern</td>\n",
              "      <td>distribution</td>\n",
              "      <td>dynamic</td>\n",
              "      <td>pattern</td>\n",
              "      <td>component</td>\n",
              "      <td>back_propagation</td>\n",
              "      <td>detection</td>\n",
              "      <td>approximation</td>\n",
              "      <td>net</td>\n",
              "      <td>reward</td>\n",
              "      <td>probability</td>\n",
              "      <td>cell</td>\n",
              "    </tr>\n",
              "    <tr>\n",
              "      <th>Term9</th>\n",
              "      <td>firing</td>\n",
              "      <td>signal</td>\n",
              "      <td>representation</td>\n",
              "      <td>prediction</td>\n",
              "      <td>likelihood</td>\n",
              "      <td>state</td>\n",
              "      <td>neuron</td>\n",
              "      <td>nonlinear</td>\n",
              "      <td>layer</td>\n",
              "      <td>feature</td>\n",
              "      <td>image</td>\n",
              "      <td>pattern</td>\n",
              "      <td>environment</td>\n",
              "      <td>xi</td>\n",
              "      <td>stimulus</td>\n",
              "    </tr>\n",
              "    <tr>\n",
              "      <th>Term10</th>\n",
              "      <td>connection</td>\n",
              "      <td>velocity</td>\n",
              "      <td>experiment</td>\n",
              "      <td>vector</td>\n",
              "      <td>sequence</td>\n",
              "      <td>arm</td>\n",
              "      <td>recurrent</td>\n",
              "      <td>ica</td>\n",
              "      <td>gradient</td>\n",
              "      <td>representation</td>\n",
              "      <td>transformation</td>\n",
              "      <td>architecture</td>\n",
              "      <td>agent</td>\n",
              "      <td>optimal</td>\n",
              "      <td>layer</td>\n",
              "    </tr>\n",
              "    <tr>\n",
              "      <th>Term11</th>\n",
              "      <td>neural</td>\n",
              "      <td>neural</td>\n",
              "      <td>image</td>\n",
              "      <td>sample</td>\n",
              "      <td>prior</td>\n",
              "      <td>task</td>\n",
              "      <td>net</td>\n",
              "      <td>equation</td>\n",
              "      <td>activation</td>\n",
              "      <td>channel</td>\n",
              "      <td>distance</td>\n",
              "      <td>trained</td>\n",
              "      <td>goal</td>\n",
              "      <td>defined</td>\n",
              "      <td>response</td>\n",
              "    </tr>\n",
              "    <tr>\n",
              "      <th>Term12</th>\n",
              "      <td>synapsis</td>\n",
              "      <td>implementation</td>\n",
              "      <td>recognition</td>\n",
              "      <td>experiment</td>\n",
              "      <td>clustering</td>\n",
              "      <td>hand</td>\n",
              "      <td>matrix</td>\n",
              "      <td>rule</td>\n",
              "      <td>solution</td>\n",
              "      <td>auditory</td>\n",
              "      <td>equation</td>\n",
              "      <td>module</td>\n",
              "      <td>cost</td>\n",
              "      <td>equation</td>\n",
              "      <td>region</td>\n",
              "    </tr>\n",
              "    <tr>\n",
              "      <th>Term13</th>\n",
              "      <td>cortical</td>\n",
              "      <td>response</td>\n",
              "      <td>target</td>\n",
              "      <td>kernel</td>\n",
              "      <td>step</td>\n",
              "      <td>forward</td>\n",
              "      <td>bit</td>\n",
              "      <td>dynamic</td>\n",
              "      <td>architecture</td>\n",
              "      <td>rate</td>\n",
              "      <td>dimensional</td>\n",
              "      <td>structure</td>\n",
              "      <td>rl</td>\n",
              "      <td>consider</td>\n",
              "      <td>orientation</td>\n",
              "    </tr>\n",
              "    <tr>\n",
              "      <th>Term14</th>\n",
              "      <td>simulation</td>\n",
              "      <td>design</td>\n",
              "      <td>trained</td>\n",
              "      <td>machine</td>\n",
              "      <td>node</td>\n",
              "      <td>training</td>\n",
              "      <td>threshold</td>\n",
              "      <td>density</td>\n",
              "      <td>simulation</td>\n",
              "      <td>subject</td>\n",
              "      <td>local</td>\n",
              "      <td>digit</td>\n",
              "      <td>task</td>\n",
              "      <td>sample</td>\n",
              "      <td>representation</td>\n",
              "    </tr>\n",
              "    <tr>\n",
              "      <th>Term15</th>\n",
              "      <td>dynamic</td>\n",
              "      <td>array</td>\n",
              "      <td>position</td>\n",
              "      <td>tree</td>\n",
              "      <td>component</td>\n",
              "      <td>change</td>\n",
              "      <td>activation</td>\n",
              "      <td>filter</td>\n",
              "      <td>step</td>\n",
              "      <td>classification</td>\n",
              "      <td>bayesian</td>\n",
              "      <td>hidden_unit</td>\n",
              "      <td>rate</td>\n",
              "      <td>loss</td>\n",
              "      <td>spatial</td>\n",
              "    </tr>\n",
              "    <tr>\n",
              "      <th>Term16</th>\n",
              "      <td>effect</td>\n",
              "      <td>synapse</td>\n",
              "      <td>prediction</td>\n",
              "      <td>estimate</td>\n",
              "      <td>tree</td>\n",
              "      <td>target</td>\n",
              "      <td>size</td>\n",
              "      <td>eq</td>\n",
              "      <td>equation</td>\n",
              "      <td>training</td>\n",
              "      <td>matrix</td>\n",
              "      <td>object</td>\n",
              "      <td>trial</td>\n",
              "      <td>estimate</td>\n",
              "      <td>activity</td>\n",
              "    </tr>\n",
              "    <tr>\n",
              "      <th>Term17</th>\n",
              "      <td>et_al</td>\n",
              "      <td>device</td>\n",
              "      <td>similarity</td>\n",
              "      <td>linear</td>\n",
              "      <td>em</td>\n",
              "      <td>feedback</td>\n",
              "      <td>dynamic</td>\n",
              "      <td>pca</td>\n",
              "      <td>task</td>\n",
              "      <td>recognition</td>\n",
              "      <td>solution</td>\n",
              "      <td>representation</td>\n",
              "      <td>td</td>\n",
              "      <td>linear</td>\n",
              "      <td>receptive_field</td>\n",
              "    </tr>\n",
              "    <tr>\n",
              "      <th>Term18</th>\n",
              "      <td>signal</td>\n",
              "      <td>bit</td>\n",
              "      <td>sequence</td>\n",
              "      <td>size</td>\n",
              "      <td>bayesian</td>\n",
              "      <td>mapping</td>\n",
              "      <td>symbol</td>\n",
              "      <td>estimate</td>\n",
              "      <td>update</td>\n",
              "      <td>frame</td>\n",
              "      <td>estimate</td>\n",
              "      <td>level</td>\n",
              "      <td>iteration</td>\n",
              "      <td>complexity</td>\n",
              "      <td>location</td>\n",
              "    </tr>\n",
              "    <tr>\n",
              "      <th>Term19</th>\n",
              "      <td>frequency</td>\n",
              "      <td>transistor</td>\n",
              "      <td>frame</td>\n",
              "      <td>probability</td>\n",
              "      <td>graph</td>\n",
              "      <td>force</td>\n",
              "      <td>attractor</td>\n",
              "      <td>solution</td>\n",
              "      <td>average</td>\n",
              "      <td>experiment</td>\n",
              "      <td>constraint</td>\n",
              "      <td>pixel</td>\n",
              "      <td>current</td>\n",
              "      <td>solution</td>\n",
              "      <td>local</td>\n",
              "    </tr>\n",
              "    <tr>\n",
              "      <th>Term20</th>\n",
              "      <td>phase</td>\n",
              "      <td>digital</td>\n",
              "      <td>test</td>\n",
              "      <td>regression</td>\n",
              "      <td>estimate</td>\n",
              "      <td>joint</td>\n",
              "      <td>string</td>\n",
              "      <td>estimation</td>\n",
              "      <td>convergence</td>\n",
              "      <td>human</td>\n",
              "      <td>surface</td>\n",
              "      <td>task</td>\n",
              "      <td>sutton</td>\n",
              "      <td>entropy</td>\n",
              "      <td>direction</td>\n",
              "    </tr>\n",
              "  </tbody>\n",
              "</table>\n",
              "</div>\n",
              "    <div class=\"colab-df-buttons\">\n",
              "\n",
              "  <div class=\"colab-df-container\">\n",
              "    <button class=\"colab-df-convert\" onclick=\"convertToInteractive('df-f7a76e85-b2d3-4b74-98ce-51cb33dd245d')\"\n",
              "            title=\"Convert this dataframe to an interactive table.\"\n",
              "            style=\"display:none;\">\n",
              "\n",
              "  <svg xmlns=\"http://www.w3.org/2000/svg\" height=\"24px\" viewBox=\"0 -960 960 960\">\n",
              "    <path d=\"M120-120v-720h720v720H120Zm60-500h600v-160H180v160Zm220 220h160v-160H400v160Zm0 220h160v-160H400v160ZM180-400h160v-160H180v160Zm440 0h160v-160H620v160ZM180-180h160v-160H180v160Zm440 0h160v-160H620v160Z\"/>\n",
              "  </svg>\n",
              "    </button>\n",
              "\n",
              "  <style>\n",
              "    .colab-df-container {\n",
              "      display:flex;\n",
              "      gap: 12px;\n",
              "    }\n",
              "\n",
              "    .colab-df-convert {\n",
              "      background-color: #E8F0FE;\n",
              "      border: none;\n",
              "      border-radius: 50%;\n",
              "      cursor: pointer;\n",
              "      display: none;\n",
              "      fill: #1967D2;\n",
              "      height: 32px;\n",
              "      padding: 0 0 0 0;\n",
              "      width: 32px;\n",
              "    }\n",
              "\n",
              "    .colab-df-convert:hover {\n",
              "      background-color: #E2EBFA;\n",
              "      box-shadow: 0px 1px 2px rgba(60, 64, 67, 0.3), 0px 1px 3px 1px rgba(60, 64, 67, 0.15);\n",
              "      fill: #174EA6;\n",
              "    }\n",
              "\n",
              "    .colab-df-buttons div {\n",
              "      margin-bottom: 4px;\n",
              "    }\n",
              "\n",
              "    [theme=dark] .colab-df-convert {\n",
              "      background-color: #3B4455;\n",
              "      fill: #D2E3FC;\n",
              "    }\n",
              "\n",
              "    [theme=dark] .colab-df-convert:hover {\n",
              "      background-color: #434B5C;\n",
              "      box-shadow: 0px 1px 3px 1px rgba(0, 0, 0, 0.15);\n",
              "      filter: drop-shadow(0px 1px 2px rgba(0, 0, 0, 0.3));\n",
              "      fill: #FFFFFF;\n",
              "    }\n",
              "  </style>\n",
              "\n",
              "    <script>\n",
              "      const buttonEl =\n",
              "        document.querySelector('#df-f7a76e85-b2d3-4b74-98ce-51cb33dd245d button.colab-df-convert');\n",
              "      buttonEl.style.display =\n",
              "        google.colab.kernel.accessAllowed ? 'block' : 'none';\n",
              "\n",
              "      async function convertToInteractive(key) {\n",
              "        const element = document.querySelector('#df-f7a76e85-b2d3-4b74-98ce-51cb33dd245d');\n",
              "        const dataTable =\n",
              "          await google.colab.kernel.invokeFunction('convertToInteractive',\n",
              "                                                    [key], {});\n",
              "        if (!dataTable) return;\n",
              "\n",
              "        const docLinkHtml = 'Like what you see? Visit the ' +\n",
              "          '<a target=\"_blank\" href=https://colab.research.google.com/notebooks/data_table.ipynb>data table notebook</a>'\n",
              "          + ' to learn more about interactive tables.';\n",
              "        element.innerHTML = '';\n",
              "        dataTable['output_type'] = 'display_data';\n",
              "        await google.colab.output.renderOutput(dataTable, element);\n",
              "        const docLink = document.createElement('div');\n",
              "        docLink.innerHTML = docLinkHtml;\n",
              "        element.appendChild(docLink);\n",
              "      }\n",
              "    </script>\n",
              "  </div>\n",
              "\n",
              "\n",
              "<div id=\"df-0ada1a74-52ab-41cb-ae3e-950051481b16\">\n",
              "  <button class=\"colab-df-quickchart\" onclick=\"quickchart('df-0ada1a74-52ab-41cb-ae3e-950051481b16')\"\n",
              "            title=\"Suggest charts\"\n",
              "            style=\"display:none;\">\n",
              "\n",
              "<svg xmlns=\"http://www.w3.org/2000/svg\" height=\"24px\"viewBox=\"0 0 24 24\"\n",
              "     width=\"24px\">\n",
              "    <g>\n",
              "        <path d=\"M19 3H5c-1.1 0-2 .9-2 2v14c0 1.1.9 2 2 2h14c1.1 0 2-.9 2-2V5c0-1.1-.9-2-2-2zM9 17H7v-7h2v7zm4 0h-2V7h2v10zm4 0h-2v-4h2v4z\"/>\n",
              "    </g>\n",
              "</svg>\n",
              "  </button>\n",
              "\n",
              "<style>\n",
              "  .colab-df-quickchart {\n",
              "      --bg-color: #E8F0FE;\n",
              "      --fill-color: #1967D2;\n",
              "      --hover-bg-color: #E2EBFA;\n",
              "      --hover-fill-color: #174EA6;\n",
              "      --disabled-fill-color: #AAA;\n",
              "      --disabled-bg-color: #DDD;\n",
              "  }\n",
              "\n",
              "  [theme=dark] .colab-df-quickchart {\n",
              "      --bg-color: #3B4455;\n",
              "      --fill-color: #D2E3FC;\n",
              "      --hover-bg-color: #434B5C;\n",
              "      --hover-fill-color: #FFFFFF;\n",
              "      --disabled-bg-color: #3B4455;\n",
              "      --disabled-fill-color: #666;\n",
              "  }\n",
              "\n",
              "  .colab-df-quickchart {\n",
              "    background-color: var(--bg-color);\n",
              "    border: none;\n",
              "    border-radius: 50%;\n",
              "    cursor: pointer;\n",
              "    display: none;\n",
              "    fill: var(--fill-color);\n",
              "    height: 32px;\n",
              "    padding: 0;\n",
              "    width: 32px;\n",
              "  }\n",
              "\n",
              "  .colab-df-quickchart:hover {\n",
              "    background-color: var(--hover-bg-color);\n",
              "    box-shadow: 0 1px 2px rgba(60, 64, 67, 0.3), 0 1px 3px 1px rgba(60, 64, 67, 0.15);\n",
              "    fill: var(--button-hover-fill-color);\n",
              "  }\n",
              "\n",
              "  .colab-df-quickchart-complete:disabled,\n",
              "  .colab-df-quickchart-complete:disabled:hover {\n",
              "    background-color: var(--disabled-bg-color);\n",
              "    fill: var(--disabled-fill-color);\n",
              "    box-shadow: none;\n",
              "  }\n",
              "\n",
              "  .colab-df-spinner {\n",
              "    border: 2px solid var(--fill-color);\n",
              "    border-color: transparent;\n",
              "    border-bottom-color: var(--fill-color);\n",
              "    animation:\n",
              "      spin 1s steps(1) infinite;\n",
              "  }\n",
              "\n",
              "  @keyframes spin {\n",
              "    0% {\n",
              "      border-color: transparent;\n",
              "      border-bottom-color: var(--fill-color);\n",
              "      border-left-color: var(--fill-color);\n",
              "    }\n",
              "    20% {\n",
              "      border-color: transparent;\n",
              "      border-left-color: var(--fill-color);\n",
              "      border-top-color: var(--fill-color);\n",
              "    }\n",
              "    30% {\n",
              "      border-color: transparent;\n",
              "      border-left-color: var(--fill-color);\n",
              "      border-top-color: var(--fill-color);\n",
              "      border-right-color: var(--fill-color);\n",
              "    }\n",
              "    40% {\n",
              "      border-color: transparent;\n",
              "      border-right-color: var(--fill-color);\n",
              "      border-top-color: var(--fill-color);\n",
              "    }\n",
              "    60% {\n",
              "      border-color: transparent;\n",
              "      border-right-color: var(--fill-color);\n",
              "    }\n",
              "    80% {\n",
              "      border-color: transparent;\n",
              "      border-right-color: var(--fill-color);\n",
              "      border-bottom-color: var(--fill-color);\n",
              "    }\n",
              "    90% {\n",
              "      border-color: transparent;\n",
              "      border-bottom-color: var(--fill-color);\n",
              "    }\n",
              "  }\n",
              "</style>\n",
              "\n",
              "  <script>\n",
              "    async function quickchart(key) {\n",
              "      const quickchartButtonEl =\n",
              "        document.querySelector('#' + key + ' button');\n",
              "      quickchartButtonEl.disabled = true;  // To prevent multiple clicks.\n",
              "      quickchartButtonEl.classList.add('colab-df-spinner');\n",
              "      try {\n",
              "        const charts = await google.colab.kernel.invokeFunction(\n",
              "            'suggestCharts', [key], {});\n",
              "      } catch (error) {\n",
              "        console.error('Error during call to suggestCharts:', error);\n",
              "      }\n",
              "      quickchartButtonEl.classList.remove('colab-df-spinner');\n",
              "      quickchartButtonEl.classList.add('colab-df-quickchart-complete');\n",
              "    }\n",
              "    (() => {\n",
              "      let quickchartButtonEl =\n",
              "        document.querySelector('#df-0ada1a74-52ab-41cb-ae3e-950051481b16 button');\n",
              "      quickchartButtonEl.style.display =\n",
              "        google.colab.kernel.accessAllowed ? 'block' : 'none';\n",
              "    })();\n",
              "  </script>\n",
              "</div>\n",
              "    </div>\n",
              "  </div>\n"
            ],
            "text/plain": [
              "           Topic 1         Topic 2         Topic 3         Topic 4  \\\n",
              "Term1       neuron         circuit            word        training   \n",
              "Term2         cell            chip            task           class   \n",
              "Term3     activity          neuron        training      classifier   \n",
              "Term4     response         current         feature  classification   \n",
              "Term5        spike         voltage          object         feature   \n",
              "Term6     synaptic            cell            view            test   \n",
              "Term7      pattern          motion            user    training_set   \n",
              "Term8     stimulus          analog           human         pattern   \n",
              "Term9       firing          signal  representation      prediction   \n",
              "Term10  connection        velocity      experiment          vector   \n",
              "Term11      neural          neural           image          sample   \n",
              "Term12    synapsis  implementation     recognition      experiment   \n",
              "Term13    cortical        response          target          kernel   \n",
              "Term14  simulation          design         trained         machine   \n",
              "Term15     dynamic           array        position            tree   \n",
              "Term16      effect         synapse      prediction        estimate   \n",
              "Term17       et_al          device      similarity          linear   \n",
              "Term18      signal             bit        sequence            size   \n",
              "Term19   frequency      transistor           frame     probability   \n",
              "Term20       phase         digital            test      regression   \n",
              "\n",
              "             Topic 5     Topic 6     Topic 7     Topic 8           Topic 9  \\\n",
              "Term1    probability     control       state      matrix              unit   \n",
              "Term2          state  trajectory        rule      signal          training   \n",
              "Term3       variable  controller        node      vector       hidden_unit   \n",
              "Term4        mixture    movement      memory       noise              rate   \n",
              "Term5            hmm       robot        unit      source            vector   \n",
              "Term6      structure    position      vector       state           pattern   \n",
              "Term7        cluster       motor    sequence      linear              node   \n",
              "Term8   distribution     dynamic     pattern   component  back_propagation   \n",
              "Term9     likelihood       state      neuron   nonlinear             layer   \n",
              "Term10      sequence         arm   recurrent         ica          gradient   \n",
              "Term11         prior        task         net    equation        activation   \n",
              "Term12    clustering        hand      matrix        rule          solution   \n",
              "Term13          step     forward         bit     dynamic      architecture   \n",
              "Term14          node    training   threshold     density        simulation   \n",
              "Term15     component      change  activation      filter              step   \n",
              "Term16          tree      target        size          eq          equation   \n",
              "Term17            em    feedback     dynamic         pca              task   \n",
              "Term18      bayesian     mapping      symbol    estimate            update   \n",
              "Term19         graph       force   attractor    solution           average   \n",
              "Term20      estimate       joint      string  estimation       convergence   \n",
              "\n",
              "              Topic 10        Topic 11        Topic 12  \\\n",
              "Term1           signal        gaussian           image   \n",
              "Term2           speech    distribution            unit   \n",
              "Term3             face           noise           layer   \n",
              "Term4        frequency          vector     recognition   \n",
              "Term5            image        variance        training   \n",
              "Term6          speaker           prior         feature   \n",
              "Term7            sound          linear       character   \n",
              "Term8        detection   approximation             net   \n",
              "Term9          feature           image         pattern   \n",
              "Term10  representation  transformation    architecture   \n",
              "Term11         channel        distance         trained   \n",
              "Term12        auditory        equation          module   \n",
              "Term13            rate     dimensional       structure   \n",
              "Term14         subject           local           digit   \n",
              "Term15  classification        bayesian     hidden_unit   \n",
              "Term16        training          matrix          object   \n",
              "Term17     recognition        solution  representation   \n",
              "Term18           frame        estimate           level   \n",
              "Term19      experiment      constraint           pixel   \n",
              "Term20           human         surface            task   \n",
              "\n",
              "                      Topic 13       Topic 14         Topic 15  \n",
              "Term1                    state            let            image  \n",
              "Term2                   action          bound           visual  \n",
              "Term3                   policy   distribution             unit  \n",
              "Term4   reinforcement_learning  approximation              map  \n",
              "Term5                     step         theory           object  \n",
              "Term6                  control        theorem          pattern  \n",
              "Term7                  optimal          class          feature  \n",
              "Term8                   reward    probability             cell  \n",
              "Term9              environment             xi         stimulus  \n",
              "Term10                   agent        optimal            layer  \n",
              "Term11                    goal        defined         response  \n",
              "Term12                    cost       equation           region  \n",
              "Term13                      rl       consider      orientation  \n",
              "Term14                    task         sample   representation  \n",
              "Term15                    rate           loss          spatial  \n",
              "Term16                   trial       estimate         activity  \n",
              "Term17                      td         linear  receptive_field  \n",
              "Term18               iteration     complexity         location  \n",
              "Term19                 current       solution            local  \n",
              "Term20                  sutton        entropy        direction  "
            ]
          },
          "execution_count": 31,
          "metadata": {},
          "output_type": "execute_result"
        }
      ],
      "source": [
        "topics_df = pd.DataFrame([[term for term, wt in topic]\n",
        "                              for topic in topics],\n",
        "                         columns = ['Term'+str(i) for i in range(1, 21)],\n",
        "                         index=['Topic '+str(t) for t in range(1, best_lda_model.num_topics+1)]).T\n",
        "topics_df"
      ]
    },
    {
      "cell_type": "code",
      "execution_count": null,
      "metadata": {
        "colab": {
          "background_save": true
        },
        "id": "MvyOKlu4p7UG",
        "outputId": "d0c08c9d-0391-4088-8f95-742f200ddeaf"
      },
      "outputs": [
        {
          "data": {
            "application/vnd.google.colaboratory.intrinsic+json": {
              "summary": "{\n  \"name\": \"topics_df\",\n  \"rows\": 15,\n  \"fields\": [\n    {\n      \"column\": \"Terms per Topic\",\n      \"properties\": {\n        \"dtype\": \"string\",\n        \"num_unique_values\": 15,\n        \"samples\": [\n          \"signal, speech, face, frequency, image, speaker, sound, detection, feature, representation, channel, auditory, rate, subject, classification, training, recognition, frame, experiment, human\",\n          \"image, unit, layer, recognition, training, feature, character, net, pattern, architecture, trained, module, structure, digit, hidden_unit, object, representation, level, pixel, task\",\n          \"neuron, cell, activity, response, spike, synaptic, pattern, stimulus, firing, connection, neural, synapsis, cortical, simulation, dynamic, effect, et_al, signal, frequency, phase\"\n        ],\n        \"semantic_type\": \"\",\n        \"description\": \"\"\n      }\n    }\n  ]\n}",
              "type": "dataframe",
              "variable_name": "topics_df"
            },
            "text/html": [
              "\n",
              "  <div id=\"df-9f63576a-3a2c-46d6-a191-8093da76765d\" class=\"colab-df-container\">\n",
              "    <div>\n",
              "<style scoped>\n",
              "    .dataframe tbody tr th:only-of-type {\n",
              "        vertical-align: middle;\n",
              "    }\n",
              "\n",
              "    .dataframe tbody tr th {\n",
              "        vertical-align: top;\n",
              "    }\n",
              "\n",
              "    .dataframe thead th {\n",
              "        text-align: right;\n",
              "    }\n",
              "</style>\n",
              "<table border=\"1\" class=\"dataframe\">\n",
              "  <thead>\n",
              "    <tr style=\"text-align: right;\">\n",
              "      <th></th>\n",
              "      <th>Terms per Topic</th>\n",
              "    </tr>\n",
              "  </thead>\n",
              "  <tbody>\n",
              "    <tr>\n",
              "      <th>Topic1</th>\n",
              "      <td>neuron, cell, activity, response, spike, synaptic, pattern, stimulus, firing, connection, neural, synapsis, cortical, simulation, dynamic, effect, et_al, signal, frequency, phase</td>\n",
              "    </tr>\n",
              "    <tr>\n",
              "      <th>Topic2</th>\n",
              "      <td>circuit, chip, neuron, current, voltage, cell, motion, analog, signal, velocity, neural, implementation, response, design, array, synapse, device, bit, transistor, digital</td>\n",
              "    </tr>\n",
              "    <tr>\n",
              "      <th>Topic3</th>\n",
              "      <td>word, task, training, feature, object, view, user, human, representation, experiment, image, recognition, target, trained, position, prediction, similarity, sequence, frame, test</td>\n",
              "    </tr>\n",
              "    <tr>\n",
              "      <th>Topic4</th>\n",
              "      <td>training, class, classifier, classification, feature, test, training_set, pattern, prediction, vector, sample, experiment, kernel, machine, tree, estimate, linear, size, probability, regression</td>\n",
              "    </tr>\n",
              "    <tr>\n",
              "      <th>Topic5</th>\n",
              "      <td>probability, state, variable, mixture, hmm, structure, cluster, distribution, likelihood, sequence, prior, clustering, step, node, component, tree, em, bayesian, graph, estimate</td>\n",
              "    </tr>\n",
              "    <tr>\n",
              "      <th>Topic6</th>\n",
              "      <td>control, trajectory, controller, movement, robot, position, motor, dynamic, state, arm, task, hand, forward, training, change, target, feedback, mapping, force, joint</td>\n",
              "    </tr>\n",
              "    <tr>\n",
              "      <th>Topic7</th>\n",
              "      <td>state, rule, node, memory, unit, vector, sequence, pattern, neuron, recurrent, net, matrix, bit, threshold, activation, size, dynamic, symbol, attractor, string</td>\n",
              "    </tr>\n",
              "    <tr>\n",
              "      <th>Topic8</th>\n",
              "      <td>matrix, signal, vector, noise, source, state, linear, component, nonlinear, ica, equation, rule, dynamic, density, filter, eq, pca, estimate, solution, estimation</td>\n",
              "    </tr>\n",
              "    <tr>\n",
              "      <th>Topic9</th>\n",
              "      <td>unit, training, hidden_unit, rate, vector, pattern, node, back_propagation, layer, gradient, activation, solution, architecture, simulation, step, equation, task, update, average, convergence</td>\n",
              "    </tr>\n",
              "    <tr>\n",
              "      <th>Topic10</th>\n",
              "      <td>signal, speech, face, frequency, image, speaker, sound, detection, feature, representation, channel, auditory, rate, subject, classification, training, recognition, frame, experiment, human</td>\n",
              "    </tr>\n",
              "    <tr>\n",
              "      <th>Topic11</th>\n",
              "      <td>gaussian, distribution, noise, vector, variance, prior, linear, approximation, image, transformation, distance, equation, dimensional, local, bayesian, matrix, solution, estimate, constraint, surface</td>\n",
              "    </tr>\n",
              "    <tr>\n",
              "      <th>Topic12</th>\n",
              "      <td>image, unit, layer, recognition, training, feature, character, net, pattern, architecture, trained, module, structure, digit, hidden_unit, object, representation, level, pixel, task</td>\n",
              "    </tr>\n",
              "    <tr>\n",
              "      <th>Topic13</th>\n",
              "      <td>state, action, policy, reinforcement_learning, step, control, optimal, reward, environment, agent, goal, cost, rl, task, rate, trial, td, iteration, current, sutton</td>\n",
              "    </tr>\n",
              "    <tr>\n",
              "      <th>Topic14</th>\n",
              "      <td>let, bound, distribution, approximation, theory, theorem, class, probability, xi, optimal, defined, equation, consider, sample, loss, estimate, linear, complexity, solution, entropy</td>\n",
              "    </tr>\n",
              "    <tr>\n",
              "      <th>Topic15</th>\n",
              "      <td>image, visual, unit, map, object, pattern, feature, cell, stimulus, layer, response, region, orientation, representation, spatial, activity, receptive_field, location, local, direction</td>\n",
              "    </tr>\n",
              "  </tbody>\n",
              "</table>\n",
              "</div>\n",
              "    <div class=\"colab-df-buttons\">\n",
              "\n",
              "  <div class=\"colab-df-container\">\n",
              "    <button class=\"colab-df-convert\" onclick=\"convertToInteractive('df-9f63576a-3a2c-46d6-a191-8093da76765d')\"\n",
              "            title=\"Convert this dataframe to an interactive table.\"\n",
              "            style=\"display:none;\">\n",
              "\n",
              "  <svg xmlns=\"http://www.w3.org/2000/svg\" height=\"24px\" viewBox=\"0 -960 960 960\">\n",
              "    <path d=\"M120-120v-720h720v720H120Zm60-500h600v-160H180v160Zm220 220h160v-160H400v160Zm0 220h160v-160H400v160ZM180-400h160v-160H180v160Zm440 0h160v-160H620v160ZM180-180h160v-160H180v160Zm440 0h160v-160H620v160Z\"/>\n",
              "  </svg>\n",
              "    </button>\n",
              "\n",
              "  <style>\n",
              "    .colab-df-container {\n",
              "      display:flex;\n",
              "      gap: 12px;\n",
              "    }\n",
              "\n",
              "    .colab-df-convert {\n",
              "      background-color: #E8F0FE;\n",
              "      border: none;\n",
              "      border-radius: 50%;\n",
              "      cursor: pointer;\n",
              "      display: none;\n",
              "      fill: #1967D2;\n",
              "      height: 32px;\n",
              "      padding: 0 0 0 0;\n",
              "      width: 32px;\n",
              "    }\n",
              "\n",
              "    .colab-df-convert:hover {\n",
              "      background-color: #E2EBFA;\n",
              "      box-shadow: 0px 1px 2px rgba(60, 64, 67, 0.3), 0px 1px 3px 1px rgba(60, 64, 67, 0.15);\n",
              "      fill: #174EA6;\n",
              "    }\n",
              "\n",
              "    .colab-df-buttons div {\n",
              "      margin-bottom: 4px;\n",
              "    }\n",
              "\n",
              "    [theme=dark] .colab-df-convert {\n",
              "      background-color: #3B4455;\n",
              "      fill: #D2E3FC;\n",
              "    }\n",
              "\n",
              "    [theme=dark] .colab-df-convert:hover {\n",
              "      background-color: #434B5C;\n",
              "      box-shadow: 0px 1px 3px 1px rgba(0, 0, 0, 0.15);\n",
              "      filter: drop-shadow(0px 1px 2px rgba(0, 0, 0, 0.3));\n",
              "      fill: #FFFFFF;\n",
              "    }\n",
              "  </style>\n",
              "\n",
              "    <script>\n",
              "      const buttonEl =\n",
              "        document.querySelector('#df-9f63576a-3a2c-46d6-a191-8093da76765d button.colab-df-convert');\n",
              "      buttonEl.style.display =\n",
              "        google.colab.kernel.accessAllowed ? 'block' : 'none';\n",
              "\n",
              "      async function convertToInteractive(key) {\n",
              "        const element = document.querySelector('#df-9f63576a-3a2c-46d6-a191-8093da76765d');\n",
              "        const dataTable =\n",
              "          await google.colab.kernel.invokeFunction('convertToInteractive',\n",
              "                                                    [key], {});\n",
              "        if (!dataTable) return;\n",
              "\n",
              "        const docLinkHtml = 'Like what you see? Visit the ' +\n",
              "          '<a target=\"_blank\" href=https://colab.research.google.com/notebooks/data_table.ipynb>data table notebook</a>'\n",
              "          + ' to learn more about interactive tables.';\n",
              "        element.innerHTML = '';\n",
              "        dataTable['output_type'] = 'display_data';\n",
              "        await google.colab.output.renderOutput(dataTable, element);\n",
              "        const docLink = document.createElement('div');\n",
              "        docLink.innerHTML = docLinkHtml;\n",
              "        element.appendChild(docLink);\n",
              "      }\n",
              "    </script>\n",
              "  </div>\n",
              "\n",
              "\n",
              "<div id=\"df-32e68f16-4d68-4f69-ad77-f938bd00b8c6\">\n",
              "  <button class=\"colab-df-quickchart\" onclick=\"quickchart('df-32e68f16-4d68-4f69-ad77-f938bd00b8c6')\"\n",
              "            title=\"Suggest charts\"\n",
              "            style=\"display:none;\">\n",
              "\n",
              "<svg xmlns=\"http://www.w3.org/2000/svg\" height=\"24px\"viewBox=\"0 0 24 24\"\n",
              "     width=\"24px\">\n",
              "    <g>\n",
              "        <path d=\"M19 3H5c-1.1 0-2 .9-2 2v14c0 1.1.9 2 2 2h14c1.1 0 2-.9 2-2V5c0-1.1-.9-2-2-2zM9 17H7v-7h2v7zm4 0h-2V7h2v10zm4 0h-2v-4h2v4z\"/>\n",
              "    </g>\n",
              "</svg>\n",
              "  </button>\n",
              "\n",
              "<style>\n",
              "  .colab-df-quickchart {\n",
              "      --bg-color: #E8F0FE;\n",
              "      --fill-color: #1967D2;\n",
              "      --hover-bg-color: #E2EBFA;\n",
              "      --hover-fill-color: #174EA6;\n",
              "      --disabled-fill-color: #AAA;\n",
              "      --disabled-bg-color: #DDD;\n",
              "  }\n",
              "\n",
              "  [theme=dark] .colab-df-quickchart {\n",
              "      --bg-color: #3B4455;\n",
              "      --fill-color: #D2E3FC;\n",
              "      --hover-bg-color: #434B5C;\n",
              "      --hover-fill-color: #FFFFFF;\n",
              "      --disabled-bg-color: #3B4455;\n",
              "      --disabled-fill-color: #666;\n",
              "  }\n",
              "\n",
              "  .colab-df-quickchart {\n",
              "    background-color: var(--bg-color);\n",
              "    border: none;\n",
              "    border-radius: 50%;\n",
              "    cursor: pointer;\n",
              "    display: none;\n",
              "    fill: var(--fill-color);\n",
              "    height: 32px;\n",
              "    padding: 0;\n",
              "    width: 32px;\n",
              "  }\n",
              "\n",
              "  .colab-df-quickchart:hover {\n",
              "    background-color: var(--hover-bg-color);\n",
              "    box-shadow: 0 1px 2px rgba(60, 64, 67, 0.3), 0 1px 3px 1px rgba(60, 64, 67, 0.15);\n",
              "    fill: var(--button-hover-fill-color);\n",
              "  }\n",
              "\n",
              "  .colab-df-quickchart-complete:disabled,\n",
              "  .colab-df-quickchart-complete:disabled:hover {\n",
              "    background-color: var(--disabled-bg-color);\n",
              "    fill: var(--disabled-fill-color);\n",
              "    box-shadow: none;\n",
              "  }\n",
              "\n",
              "  .colab-df-spinner {\n",
              "    border: 2px solid var(--fill-color);\n",
              "    border-color: transparent;\n",
              "    border-bottom-color: var(--fill-color);\n",
              "    animation:\n",
              "      spin 1s steps(1) infinite;\n",
              "  }\n",
              "\n",
              "  @keyframes spin {\n",
              "    0% {\n",
              "      border-color: transparent;\n",
              "      border-bottom-color: var(--fill-color);\n",
              "      border-left-color: var(--fill-color);\n",
              "    }\n",
              "    20% {\n",
              "      border-color: transparent;\n",
              "      border-left-color: var(--fill-color);\n",
              "      border-top-color: var(--fill-color);\n",
              "    }\n",
              "    30% {\n",
              "      border-color: transparent;\n",
              "      border-left-color: var(--fill-color);\n",
              "      border-top-color: var(--fill-color);\n",
              "      border-right-color: var(--fill-color);\n",
              "    }\n",
              "    40% {\n",
              "      border-color: transparent;\n",
              "      border-right-color: var(--fill-color);\n",
              "      border-top-color: var(--fill-color);\n",
              "    }\n",
              "    60% {\n",
              "      border-color: transparent;\n",
              "      border-right-color: var(--fill-color);\n",
              "    }\n",
              "    80% {\n",
              "      border-color: transparent;\n",
              "      border-right-color: var(--fill-color);\n",
              "      border-bottom-color: var(--fill-color);\n",
              "    }\n",
              "    90% {\n",
              "      border-color: transparent;\n",
              "      border-bottom-color: var(--fill-color);\n",
              "    }\n",
              "  }\n",
              "</style>\n",
              "\n",
              "  <script>\n",
              "    async function quickchart(key) {\n",
              "      const quickchartButtonEl =\n",
              "        document.querySelector('#' + key + ' button');\n",
              "      quickchartButtonEl.disabled = true;  // To prevent multiple clicks.\n",
              "      quickchartButtonEl.classList.add('colab-df-spinner');\n",
              "      try {\n",
              "        const charts = await google.colab.kernel.invokeFunction(\n",
              "            'suggestCharts', [key], {});\n",
              "      } catch (error) {\n",
              "        console.error('Error during call to suggestCharts:', error);\n",
              "      }\n",
              "      quickchartButtonEl.classList.remove('colab-df-spinner');\n",
              "      quickchartButtonEl.classList.add('colab-df-quickchart-complete');\n",
              "    }\n",
              "    (() => {\n",
              "      let quickchartButtonEl =\n",
              "        document.querySelector('#df-32e68f16-4d68-4f69-ad77-f938bd00b8c6 button');\n",
              "      quickchartButtonEl.style.display =\n",
              "        google.colab.kernel.accessAllowed ? 'block' : 'none';\n",
              "    })();\n",
              "  </script>\n",
              "</div>\n",
              "    </div>\n",
              "  </div>\n"
            ],
            "text/plain": [
              "                                                                                                                                                                                                 Terms per Topic\n",
              "Topic1                        neuron, cell, activity, response, spike, synaptic, pattern, stimulus, firing, connection, neural, synapsis, cortical, simulation, dynamic, effect, et_al, signal, frequency, phase\n",
              "Topic2                               circuit, chip, neuron, current, voltage, cell, motion, analog, signal, velocity, neural, implementation, response, design, array, synapse, device, bit, transistor, digital\n",
              "Topic3                        word, task, training, feature, object, view, user, human, representation, experiment, image, recognition, target, trained, position, prediction, similarity, sequence, frame, test\n",
              "Topic4         training, class, classifier, classification, feature, test, training_set, pattern, prediction, vector, sample, experiment, kernel, machine, tree, estimate, linear, size, probability, regression\n",
              "Topic5                         probability, state, variable, mixture, hmm, structure, cluster, distribution, likelihood, sequence, prior, clustering, step, node, component, tree, em, bayesian, graph, estimate\n",
              "Topic6                                    control, trajectory, controller, movement, robot, position, motor, dynamic, state, arm, task, hand, forward, training, change, target, feedback, mapping, force, joint\n",
              "Topic7                                          state, rule, node, memory, unit, vector, sequence, pattern, neuron, recurrent, net, matrix, bit, threshold, activation, size, dynamic, symbol, attractor, string\n",
              "Topic8                                        matrix, signal, vector, noise, source, state, linear, component, nonlinear, ica, equation, rule, dynamic, density, filter, eq, pca, estimate, solution, estimation\n",
              "Topic9           unit, training, hidden_unit, rate, vector, pattern, node, back_propagation, layer, gradient, activation, solution, architecture, simulation, step, equation, task, update, average, convergence\n",
              "Topic10            signal, speech, face, frequency, image, speaker, sound, detection, feature, representation, channel, auditory, rate, subject, classification, training, recognition, frame, experiment, human\n",
              "Topic11  gaussian, distribution, noise, vector, variance, prior, linear, approximation, image, transformation, distance, equation, dimensional, local, bayesian, matrix, solution, estimate, constraint, surface\n",
              "Topic12                    image, unit, layer, recognition, training, feature, character, net, pattern, architecture, trained, module, structure, digit, hidden_unit, object, representation, level, pixel, task\n",
              "Topic13                                     state, action, policy, reinforcement_learning, step, control, optimal, reward, environment, agent, goal, cost, rl, task, rate, trial, td, iteration, current, sutton\n",
              "Topic14                    let, bound, distribution, approximation, theory, theorem, class, probability, xi, optimal, defined, equation, consider, sample, loss, estimate, linear, complexity, solution, entropy\n",
              "Topic15                 image, visual, unit, map, object, pattern, feature, cell, stimulus, layer, response, region, orientation, representation, spatial, activity, receptive_field, location, local, direction"
            ]
          },
          "execution_count": 32,
          "metadata": {},
          "output_type": "execute_result"
        }
      ],
      "source": [
        "pd.set_option('display.max_colwidth', None)\n",
        "topics_df = pd.DataFrame([', '.join([term for term, wt in topic])\n",
        "                              for topic in topics],\n",
        "                         columns = ['Terms per Topic'],\n",
        "                         index=['Topic'+str(t) for t in range(1, best_lda_model.num_topics+1)]\n",
        "                         )\n",
        "topics_df"
      ]
    },
    {
      "cell_type": "markdown",
      "metadata": {
        "id": "SrveLQ5e12cP"
      },
      "source": [
        "## Interpreting Topic Model Results\n",
        "\n",
        "An interesting point to remember is, given a corpus of documents (in the form of\n",
        "features, e.g., Bag of Words) and a trained topic model, you can predict the distribution of\n",
        "topics in each document (research paper in this case).\n",
        "\n",
        "We can now get the most dominant topic per research paper with some intelligent\n",
        "sorting and indexing."
      ]
    },
    {
      "cell_type": "code",
      "execution_count": null,
      "metadata": {
        "colab": {
          "background_save": true
        },
        "id": "CGXN83yDJQo8",
        "outputId": "7a3d887d-84b6-4746-ce6c-824caee3aa8a"
      },
      "outputs": [
        {
          "name": "stdout",
          "output_type": "stream",
          "text": [
            "674 \n",
            "PATYEP CLASS DEGENERACY IN AN UNRESTRICTED STORAGE \n",
            "DENSITY MEMORY \n",
            "Christopher L. Scofield, Douglas L. Reilly, \n",
            "Charles Elbaum, Leon N. Cooper \n",
            "Nestor, Inc., 1 Richmond Square, Providence, Rhode Island, \n",
            "02906. \n",
            "ABSTRACT \n",
            "The study of distributed memory systems has produced a \n",
            "number of models which work well in limited domains. \n",
            "However, until recently, the application of such systems to real- \n",
            "world problems has been difficult because of storage limitations, \n",
            "and their inherent architectural (and for serial simulation, \n",
            "computational) complexity. Recent development of memories \n",
            "with unrestricted storage capacity and economical feedforward \n",
            "architectures has opened the way to the application of such \n",
            "systems to complex pattern recognition problems. However, \n",
            "such problems are sometimes underspecified by the features \n",
            "which describe the environment, and thus a significant portion \n",
            "of the pattern environment is often non-separable. We will \n",
            "review current work on high density memo\n"
          ]
        }
      ],
      "source": [
        "# Sample paper -> paper 3\n",
        "print(papers[3][:1000])"
      ]
    },
    {
      "cell_type": "code",
      "execution_count": null,
      "metadata": {
        "colab": {
          "background_save": true
        },
        "id": "xYz9Pf4UN_VJ",
        "outputId": "7356ddd6-5dcb-48f3-bd47-c05368cc86a8"
      },
      "outputs": [
        {
          "name": "stdout",
          "output_type": "stream",
          "text": [
            "[(2, 1), (3, 3), (4, 1), (6, 3), (12, 5), (17, 4), (26, 1), (29, 1), (37, 1), (40, 8), (42, 1), (51, 1), (59, 2), (79, 2), (85, 8), (86, 1), (87, 1), (91, 1), (93, 11), (100, 2), (106, 1), (108, 2), (112, 1), (113, 1), (118, 2), (126, 1), (127, 3), (131, 1), (137, 2), (147, 2)]\n"
          ]
        }
      ],
      "source": [
        "print(bow_corpus[3][:30])"
      ]
    },
    {
      "cell_type": "code",
      "execution_count": null,
      "metadata": {
        "colab": {
          "background_save": true
        },
        "id": "ojE7cAX7ORuS",
        "outputId": "791e3763-8872-4cbd-f1b7-1d11e897cdb8"
      },
      "outputs": [
        {
          "name": "stdout",
          "output_type": "stream",
          "text": [
            "[('ability', 1), ('able', 3), ('abstract', 1), ('acad_sci', 3), ('activity', 5), ('addition', 4), ('allowed', 1), ('american_institute', 1), ('another', 1), ('application', 8), ('approximate', 1), ('associative_memory', 1), ('basin_attraction', 2), ('called', 2), ('cell', 8), ('certain', 1), ('change', 1), ('chosen', 1), ('class', 11), ('collective', 2), ('compare', 1), ('complex', 2), ('composed', 1), ('computational', 1), ('condition', 2), ('consists', 1), ('constant', 3), ('continuous', 1), ('could', 2), ('define', 2)]\n"
          ]
        }
      ],
      "source": [
        "print([(dictionary[idx] , freq) for idx, freq in bow_corpus[3][:30]])"
      ]
    },
    {
      "cell_type": "code",
      "execution_count": null,
      "metadata": {
        "colab": {
          "background_save": true
        },
        "id": "bXv0NRCXum-I"
      },
      "outputs": [],
      "source": [
        "# predict topic distribution for each paper\n",
        "tm_results = best_lda_model[bow_corpus]"
      ]
    },
    {
      "cell_type": "code",
      "execution_count": null,
      "metadata": {
        "colab": {
          "background_save": true
        },
        "id": "WjEHWhVGuuG5",
        "outputId": "c3304139-fe1a-4baa-9cbf-7bb9372bde83"
      },
      "outputs": [
        {
          "data": {
            "text/plain": [
              "[(6, 0.64343506),\n",
              " (6, 0.45883563),\n",
              " (8, 0.9343698),\n",
              " (6, 0.4633554),\n",
              " (6, 0.47384953)]"
            ]
          },
          "execution_count": 37,
          "metadata": {},
          "output_type": "execute_result"
        }
      ],
      "source": [
        "# get top most relevant topic for each paper\n",
        "corpus_topics = [sorted(topics, key=lambda record: -record[1])[0]\n",
        "                     for topics in tm_results]\n",
        "corpus_topics[:5]"
      ]
    },
    {
      "cell_type": "code",
      "execution_count": null,
      "metadata": {
        "colab": {
          "base_uri": "https://localhost:8080/"
        },
        "id": "1euv2t4dJwDl",
        "outputId": "4df17825-0a93-458c-c720-be5e03d27bf8"
      },
      "outputs": [
        {
          "data": {
            "text/plain": [
              "(11, 0.29105332)"
            ]
          },
          "execution_count": 40,
          "metadata": {},
          "output_type": "execute_result"
        }
      ],
      "source": [
        "# check topic for paper 3 from above\n",
        "corpus_topics[3]"
      ]
    },
    {
      "cell_type": "code",
      "execution_count": null,
      "metadata": {
        "colab": {
          "base_uri": "https://localhost:8080/"
        },
        "id": "kXwEpGcNKAPJ",
        "outputId": "3d2bcf4d-e3ca-4287-a71c-8f8eebccb365"
      },
      "outputs": [
        {
          "data": {
            "text/plain": [
              "Terms per Topic    memory, layer, vector, bit, node, noise, signal, training, code, pattern, processor, application, architecture, back_propagation, feature, net, matrix, solution, connection, capacity\n",
              "Name: Topic12, dtype: object"
            ]
          },
          "execution_count": 43,
          "metadata": {},
          "output_type": "execute_result"
        }
      ],
      "source": [
        "# most relevant topic for paper 3\n",
        "topics_df.iloc[corpus_topics[3][0]]"
      ]
    },
    {
      "cell_type": "code",
      "execution_count": null,
      "metadata": {
        "id": "GFmddPmQuyXS"
      },
      "outputs": [],
      "source": [
        "corpus_topic_df = pd.DataFrame()\n",
        "corpus_topic_df['Document'] = range(0, len(papers))\n",
        "corpus_topic_df['Dominant Topic'] = [item[0]+1 for item in corpus_topics]\n",
        "corpus_topic_df['Contribution %'] = [round(item[1]*100, 2) for item in corpus_topics]\n",
        "corpus_topic_df['Topic Desc'] = [topics_df.iloc[t[0]]['Terms per Topic'] for t in corpus_topics]\n",
        "corpus_topic_df['Paper'] = [paper[:500] for paper in papers]"
      ]
    },
    {
      "cell_type": "markdown",
      "metadata": {
        "id": "U_nNj9_t12cb"
      },
      "source": [
        "## Dominant Topics in Each Research Paper\n",
        "\n",
        "Another interesting perspective is to select any paper, view the most dominant topic in each of those papers, and see if that makes sense."
      ]
    },
    {
      "cell_type": "code",
      "execution_count": null,
      "metadata": {
        "colab": {
          "base_uri": "https://localhost:8080/",
          "height": 901
        },
        "id": "pN45exiiu5sx",
        "outputId": "ffc36ecb-d0fc-4c2f-b4c4-96d3d9fa354f"
      },
      "outputs": [
        {
          "data": {
            "text/html": [
              "\n",
              "  <div id=\"df-bec95bfd-542a-43e4-a24a-651e9c060d4b\" class=\"colab-df-container\">\n",
              "    <div>\n",
              "<style scoped>\n",
              "    .dataframe tbody tr th:only-of-type {\n",
              "        vertical-align: middle;\n",
              "    }\n",
              "\n",
              "    .dataframe tbody tr th {\n",
              "        vertical-align: top;\n",
              "    }\n",
              "\n",
              "    .dataframe thead th {\n",
              "        text-align: right;\n",
              "    }\n",
              "</style>\n",
              "<table border=\"1\" class=\"dataframe\">\n",
              "  <thead>\n",
              "    <tr style=\"text-align: right;\">\n",
              "      <th></th>\n",
              "      <th>Document</th>\n",
              "      <th>Dominant Topic</th>\n",
              "      <th>Contribution %</th>\n",
              "      <th>Topic Desc</th>\n",
              "      <th>Paper</th>\n",
              "    </tr>\n",
              "  </thead>\n",
              "  <tbody>\n",
              "    <tr>\n",
              "      <th>0</th>\n",
              "      <td>0</td>\n",
              "      <td>1</td>\n",
              "      <td>72.57</td>\n",
              "      <td>unit, pattern, representation, rule, hidden_unit, word, net, activation, layer, training, character, structure, sequence, vector, task, connectionist, recognition, trained, architecture, level</td>\n",
              "      <td>5O5 \\nCONNECTING TO THE PAST \\nBruce A. MacDonald, Assistant Professor \\nKnowledge Sciences Laboratory, Computer Science Department \\nThe University of Calgary, 2500 University Drive NW \\nCalgary,...</td>\n",
              "    </tr>\n",
              "    <tr>\n",
              "      <th>1</th>\n",
              "      <td>1</td>\n",
              "      <td>1</td>\n",
              "      <td>51.39</td>\n",
              "      <td>unit, pattern, representation, rule, hidden_unit, word, net, activation, layer, training, character, structure, sequence, vector, task, connectionist, recognition, trained, architecture, level</td>\n",
              "      <td>72 \\nANALYSIS AND COMPARISON OF DIFFERENT LEARNING \\nALGORITHMS FOR PATTERN ASSOCIATION PROBLEMS \\nJ. Bernasconi \\nBrown Boveri Research Center \\nCH-5405 Baden, Switzerland \\nABSTRACT \\nWe investi...</td>\n",
              "    </tr>\n",
              "    <tr>\n",
              "      <th>2</th>\n",
              "      <td>2</td>\n",
              "      <td>1</td>\n",
              "      <td>25.20</td>\n",
              "      <td>unit, pattern, representation, rule, hidden_unit, word, net, activation, layer, training, character, structure, sequence, vector, task, connectionist, recognition, trained, architecture, level</td>\n",
              "      <td>310 \\nPROBABILISTIC CHARACTERIZATION OF \\nNEURAL MODEL COMPUTATIONS \\nRichard M. Golden ' \\nUniversity of Pittsburgh, Pittsburgh, Pa. 15260 \\nABSTRACT \\nInformation retrieval in a neural network ...</td>\n",
              "    </tr>\n",
              "    <tr>\n",
              "      <th>3</th>\n",
              "      <td>3</td>\n",
              "      <td>12</td>\n",
              "      <td>29.11</td>\n",
              "      <td>memory, layer, vector, bit, node, noise, signal, training, code, pattern, processor, application, architecture, back_propagation, feature, net, matrix, solution, connection, capacity</td>\n",
              "      <td>52 \\nSupervised Learning of Probability Distributions \\nby Neural Networks \\nEric B. Baum \\nJet Propulsion Laboratory, Pasadena CA 91109 \\nFrank Wilczek \\nDepartment of Physics,Harvard University...</td>\n",
              "    </tr>\n",
              "    <tr>\n",
              "      <th>4</th>\n",
              "      <td>4</td>\n",
              "      <td>12</td>\n",
              "      <td>37.06</td>\n",
              "      <td>memory, layer, vector, bit, node, noise, signal, training, code, pattern, processor, application, architecture, back_propagation, feature, net, matrix, solution, connection, capacity</td>\n",
              "      <td>397 \\nAN OPTIMIZATION NETWORK FOR MATRIX INVERSION \\nJu-Seog Jang, Soo-Young Lee, and Sang-Yung Shin \\nKorea Advanced Institute of Science and Technology, \\nP.O. Box 150, Cheongryang, Seoul, Korea...</td>\n",
              "    </tr>\n",
              "    <tr>\n",
              "      <th>5</th>\n",
              "      <td>5</td>\n",
              "      <td>8</td>\n",
              "      <td>49.12</td>\n",
              "      <td>neuron, spike, response, cell, signal, stimulus, frequency, firing, channel, neural, synaptic, rate, noise, activity, effect, pattern, temporal, threshold, firing_rate, et_al</td>\n",
              "      <td>402 \\nHOW THE CATFISH TRACKS ITS PREY: AN INTERACTIVE \"PIPELINED\" \\nPROCESSING SYSTEM MAY DIRECT FORAGING VIA RETICULOSPINAL NEURONS. \\nJagmeet S. Kanwal \\nDept. of Cellular &amp; Structural Biology, ...</td>\n",
              "    </tr>\n",
              "    <tr>\n",
              "      <th>6</th>\n",
              "      <td>6</td>\n",
              "      <td>12</td>\n",
              "      <td>83.33</td>\n",
              "      <td>memory, layer, vector, bit, node, noise, signal, training, code, pattern, processor, application, architecture, back_propagation, feature, net, matrix, solution, connection, capacity</td>\n",
              "      <td>814 \\nNEU1OMO1PHIC NETWORKS BASED \\nON SPARSE OPTICAL ORTHOGONAL CODES \\nMario P. Vecchi and Jawad A. Salehl \\nBell Communications Research \\n435 South Street \\nMorristown, NJ 07960-1961 \\nAbstr...</td>\n",
              "    </tr>\n",
              "    <tr>\n",
              "      <th>7</th>\n",
              "      <td>7</td>\n",
              "      <td>8</td>\n",
              "      <td>65.48</td>\n",
              "      <td>neuron, spike, response, cell, signal, stimulus, frequency, firing, channel, neural, synaptic, rate, noise, activity, effect, pattern, temporal, threshold, firing_rate, et_al</td>\n",
              "      <td>715 \\nA COMPUTER SIMULATION OF CEREBRAL NEOCORTEX: \\nCOMPUTATIONAL CAPABILITIES OF NONLINEAR NEURAL NETWORKS \\nAlexander Singer* and John P. Donoghue** \\n*Department of Biophysics, Johns Hopkins U...</td>\n",
              "    </tr>\n",
              "    <tr>\n",
              "      <th>8</th>\n",
              "      <td>8</td>\n",
              "      <td>4</td>\n",
              "      <td>29.37</td>\n",
              "      <td>state, action, control, policy, step, reinforcement_learning, controller, environment, optimal, task, robot, goal, reward, agent, trajectory, td, current, reinforcement, cost, trial</td>\n",
              "      <td>249 \\nHIERARCHICAL LEARNING CONTROL - \\nAN APPROACH WITH NEURON-LIKE ASSOCIATIVE MEMORIES \\nE. Ers \\nISRA Systemtechnik GmbH, Sch6fferstr. 15, D-6100 Darmstadt, FRG \\nH. Tolle \\nTH Darmstadt, Ins...</td>\n",
              "    </tr>\n",
              "    <tr>\n",
              "      <th>9</th>\n",
              "      <td>9</td>\n",
              "      <td>4</td>\n",
              "      <td>83.71</td>\n",
              "      <td>state, action, control, policy, step, reinforcement_learning, controller, environment, optimal, task, robot, goal, reward, agent, trajectory, td, current, reinforcement, cost, trial</td>\n",
              "      <td>642 \\nLEARNING BY STATE RECURRENCE DETECFION \\nBruce E. Rosen, James M. Goodwin*, and Jacques J. Vidal \\nUniversity of California, Los Angeles, Ca. 90024 \\nABSTRACT \\nThis research investigates a ...</td>\n",
              "    </tr>\n",
              "  </tbody>\n",
              "</table>\n",
              "</div>\n",
              "    <div class=\"colab-df-buttons\">\n",
              "\n",
              "  <div class=\"colab-df-container\">\n",
              "    <button class=\"colab-df-convert\" onclick=\"convertToInteractive('df-bec95bfd-542a-43e4-a24a-651e9c060d4b')\"\n",
              "            title=\"Convert this dataframe to an interactive table.\"\n",
              "            style=\"display:none;\">\n",
              "\n",
              "  <svg xmlns=\"http://www.w3.org/2000/svg\" height=\"24px\" viewBox=\"0 -960 960 960\">\n",
              "    <path d=\"M120-120v-720h720v720H120Zm60-500h600v-160H180v160Zm220 220h160v-160H400v160Zm0 220h160v-160H400v160ZM180-400h160v-160H180v160Zm440 0h160v-160H620v160ZM180-180h160v-160H180v160Zm440 0h160v-160H620v160Z\"/>\n",
              "  </svg>\n",
              "    </button>\n",
              "\n",
              "  <style>\n",
              "    .colab-df-container {\n",
              "      display:flex;\n",
              "      gap: 12px;\n",
              "    }\n",
              "\n",
              "    .colab-df-convert {\n",
              "      background-color: #E8F0FE;\n",
              "      border: none;\n",
              "      border-radius: 50%;\n",
              "      cursor: pointer;\n",
              "      display: none;\n",
              "      fill: #1967D2;\n",
              "      height: 32px;\n",
              "      padding: 0 0 0 0;\n",
              "      width: 32px;\n",
              "    }\n",
              "\n",
              "    .colab-df-convert:hover {\n",
              "      background-color: #E2EBFA;\n",
              "      box-shadow: 0px 1px 2px rgba(60, 64, 67, 0.3), 0px 1px 3px 1px rgba(60, 64, 67, 0.15);\n",
              "      fill: #174EA6;\n",
              "    }\n",
              "\n",
              "    .colab-df-buttons div {\n",
              "      margin-bottom: 4px;\n",
              "    }\n",
              "\n",
              "    [theme=dark] .colab-df-convert {\n",
              "      background-color: #3B4455;\n",
              "      fill: #D2E3FC;\n",
              "    }\n",
              "\n",
              "    [theme=dark] .colab-df-convert:hover {\n",
              "      background-color: #434B5C;\n",
              "      box-shadow: 0px 1px 3px 1px rgba(0, 0, 0, 0.15);\n",
              "      filter: drop-shadow(0px 1px 2px rgba(0, 0, 0, 0.3));\n",
              "      fill: #FFFFFF;\n",
              "    }\n",
              "  </style>\n",
              "\n",
              "    <script>\n",
              "      const buttonEl =\n",
              "        document.querySelector('#df-bec95bfd-542a-43e4-a24a-651e9c060d4b button.colab-df-convert');\n",
              "      buttonEl.style.display =\n",
              "        google.colab.kernel.accessAllowed ? 'block' : 'none';\n",
              "\n",
              "      async function convertToInteractive(key) {\n",
              "        const element = document.querySelector('#df-bec95bfd-542a-43e4-a24a-651e9c060d4b');\n",
              "        const dataTable =\n",
              "          await google.colab.kernel.invokeFunction('convertToInteractive',\n",
              "                                                    [key], {});\n",
              "        if (!dataTable) return;\n",
              "\n",
              "        const docLinkHtml = 'Like what you see? Visit the ' +\n",
              "          '<a target=\"_blank\" href=https://colab.research.google.com/notebooks/data_table.ipynb>data table notebook</a>'\n",
              "          + ' to learn more about interactive tables.';\n",
              "        element.innerHTML = '';\n",
              "        dataTable['output_type'] = 'display_data';\n",
              "        await google.colab.output.renderOutput(dataTable, element);\n",
              "        const docLink = document.createElement('div');\n",
              "        docLink.innerHTML = docLinkHtml;\n",
              "        element.appendChild(docLink);\n",
              "      }\n",
              "    </script>\n",
              "  </div>\n",
              "\n",
              "\n",
              "<div id=\"df-5482a4d5-569f-4108-9fc2-15f9680d80c7\">\n",
              "  <button class=\"colab-df-quickchart\" onclick=\"quickchart('df-5482a4d5-569f-4108-9fc2-15f9680d80c7')\"\n",
              "            title=\"Suggest charts.\"\n",
              "            style=\"display:none;\">\n",
              "\n",
              "<svg xmlns=\"http://www.w3.org/2000/svg\" height=\"24px\"viewBox=\"0 0 24 24\"\n",
              "     width=\"24px\">\n",
              "    <g>\n",
              "        <path d=\"M19 3H5c-1.1 0-2 .9-2 2v14c0 1.1.9 2 2 2h14c1.1 0 2-.9 2-2V5c0-1.1-.9-2-2-2zM9 17H7v-7h2v7zm4 0h-2V7h2v10zm4 0h-2v-4h2v4z\"/>\n",
              "    </g>\n",
              "</svg>\n",
              "  </button>\n",
              "\n",
              "<style>\n",
              "  .colab-df-quickchart {\n",
              "      --bg-color: #E8F0FE;\n",
              "      --fill-color: #1967D2;\n",
              "      --hover-bg-color: #E2EBFA;\n",
              "      --hover-fill-color: #174EA6;\n",
              "      --disabled-fill-color: #AAA;\n",
              "      --disabled-bg-color: #DDD;\n",
              "  }\n",
              "\n",
              "  [theme=dark] .colab-df-quickchart {\n",
              "      --bg-color: #3B4455;\n",
              "      --fill-color: #D2E3FC;\n",
              "      --hover-bg-color: #434B5C;\n",
              "      --hover-fill-color: #FFFFFF;\n",
              "      --disabled-bg-color: #3B4455;\n",
              "      --disabled-fill-color: #666;\n",
              "  }\n",
              "\n",
              "  .colab-df-quickchart {\n",
              "    background-color: var(--bg-color);\n",
              "    border: none;\n",
              "    border-radius: 50%;\n",
              "    cursor: pointer;\n",
              "    display: none;\n",
              "    fill: var(--fill-color);\n",
              "    height: 32px;\n",
              "    padding: 0;\n",
              "    width: 32px;\n",
              "  }\n",
              "\n",
              "  .colab-df-quickchart:hover {\n",
              "    background-color: var(--hover-bg-color);\n",
              "    box-shadow: 0 1px 2px rgba(60, 64, 67, 0.3), 0 1px 3px 1px rgba(60, 64, 67, 0.15);\n",
              "    fill: var(--button-hover-fill-color);\n",
              "  }\n",
              "\n",
              "  .colab-df-quickchart-complete:disabled,\n",
              "  .colab-df-quickchart-complete:disabled:hover {\n",
              "    background-color: var(--disabled-bg-color);\n",
              "    fill: var(--disabled-fill-color);\n",
              "    box-shadow: none;\n",
              "  }\n",
              "\n",
              "  .colab-df-spinner {\n",
              "    border: 2px solid var(--fill-color);\n",
              "    border-color: transparent;\n",
              "    border-bottom-color: var(--fill-color);\n",
              "    animation:\n",
              "      spin 1s steps(1) infinite;\n",
              "  }\n",
              "\n",
              "  @keyframes spin {\n",
              "    0% {\n",
              "      border-color: transparent;\n",
              "      border-bottom-color: var(--fill-color);\n",
              "      border-left-color: var(--fill-color);\n",
              "    }\n",
              "    20% {\n",
              "      border-color: transparent;\n",
              "      border-left-color: var(--fill-color);\n",
              "      border-top-color: var(--fill-color);\n",
              "    }\n",
              "    30% {\n",
              "      border-color: transparent;\n",
              "      border-left-color: var(--fill-color);\n",
              "      border-top-color: var(--fill-color);\n",
              "      border-right-color: var(--fill-color);\n",
              "    }\n",
              "    40% {\n",
              "      border-color: transparent;\n",
              "      border-right-color: var(--fill-color);\n",
              "      border-top-color: var(--fill-color);\n",
              "    }\n",
              "    60% {\n",
              "      border-color: transparent;\n",
              "      border-right-color: var(--fill-color);\n",
              "    }\n",
              "    80% {\n",
              "      border-color: transparent;\n",
              "      border-right-color: var(--fill-color);\n",
              "      border-bottom-color: var(--fill-color);\n",
              "    }\n",
              "    90% {\n",
              "      border-color: transparent;\n",
              "      border-bottom-color: var(--fill-color);\n",
              "    }\n",
              "  }\n",
              "</style>\n",
              "\n",
              "  <script>\n",
              "    async function quickchart(key) {\n",
              "      const quickchartButtonEl =\n",
              "        document.querySelector('#' + key + ' button');\n",
              "      quickchartButtonEl.disabled = true;  // To prevent multiple clicks.\n",
              "      quickchartButtonEl.classList.add('colab-df-spinner');\n",
              "      try {\n",
              "        const charts = await google.colab.kernel.invokeFunction(\n",
              "            'suggestCharts', [key], {});\n",
              "      } catch (error) {\n",
              "        console.error('Error during call to suggestCharts:', error);\n",
              "      }\n",
              "      quickchartButtonEl.classList.remove('colab-df-spinner');\n",
              "      quickchartButtonEl.classList.add('colab-df-quickchart-complete');\n",
              "    }\n",
              "    (() => {\n",
              "      let quickchartButtonEl =\n",
              "        document.querySelector('#df-5482a4d5-569f-4108-9fc2-15f9680d80c7 button');\n",
              "      quickchartButtonEl.style.display =\n",
              "        google.colab.kernel.accessAllowed ? 'block' : 'none';\n",
              "    })();\n",
              "  </script>\n",
              "</div>\n",
              "    </div>\n",
              "  </div>\n"
            ],
            "text/plain": [
              "   Document  Dominant Topic  Contribution %  \\\n",
              "0         0               1           72.57   \n",
              "1         1               1           51.39   \n",
              "2         2               1           25.20   \n",
              "3         3              12           29.11   \n",
              "4         4              12           37.06   \n",
              "5         5               8           49.12   \n",
              "6         6              12           83.33   \n",
              "7         7               8           65.48   \n",
              "8         8               4           29.37   \n",
              "9         9               4           83.71   \n",
              "\n",
              "                                                                                                                                                                                         Topic Desc  \\\n",
              "0  unit, pattern, representation, rule, hidden_unit, word, net, activation, layer, training, character, structure, sequence, vector, task, connectionist, recognition, trained, architecture, level   \n",
              "1  unit, pattern, representation, rule, hidden_unit, word, net, activation, layer, training, character, structure, sequence, vector, task, connectionist, recognition, trained, architecture, level   \n",
              "2  unit, pattern, representation, rule, hidden_unit, word, net, activation, layer, training, character, structure, sequence, vector, task, connectionist, recognition, trained, architecture, level   \n",
              "3            memory, layer, vector, bit, node, noise, signal, training, code, pattern, processor, application, architecture, back_propagation, feature, net, matrix, solution, connection, capacity   \n",
              "4            memory, layer, vector, bit, node, noise, signal, training, code, pattern, processor, application, architecture, back_propagation, feature, net, matrix, solution, connection, capacity   \n",
              "5                    neuron, spike, response, cell, signal, stimulus, frequency, firing, channel, neural, synaptic, rate, noise, activity, effect, pattern, temporal, threshold, firing_rate, et_al   \n",
              "6            memory, layer, vector, bit, node, noise, signal, training, code, pattern, processor, application, architecture, back_propagation, feature, net, matrix, solution, connection, capacity   \n",
              "7                    neuron, spike, response, cell, signal, stimulus, frequency, firing, channel, neural, synaptic, rate, noise, activity, effect, pattern, temporal, threshold, firing_rate, et_al   \n",
              "8             state, action, control, policy, step, reinforcement_learning, controller, environment, optimal, task, robot, goal, reward, agent, trajectory, td, current, reinforcement, cost, trial   \n",
              "9             state, action, control, policy, step, reinforcement_learning, controller, environment, optimal, task, robot, goal, reward, agent, trajectory, td, current, reinforcement, cost, trial   \n",
              "\n",
              "                                                                                                                                                                                                     Paper  \n",
              "0  5O5 \\nCONNECTING TO THE PAST \\nBruce A. MacDonald, Assistant Professor \\nKnowledge Sciences Laboratory, Computer Science Department \\nThe University of Calgary, 2500 University Drive NW \\nCalgary,...  \n",
              "1  72 \\nANALYSIS AND COMPARISON OF DIFFERENT LEARNING \\nALGORITHMS FOR PATTERN ASSOCIATION PROBLEMS \\nJ. Bernasconi \\nBrown Boveri Research Center \\nCH-5405 Baden, Switzerland \\nABSTRACT \\nWe investi...  \n",
              "2  310 \\nPROBABILISTIC CHARACTERIZATION OF \\nNEURAL MODEL COMPUTATIONS \\nRichard M. Golden ' \\nUniversity of Pittsburgh, Pittsburgh, Pa. 15260 \\nABSTRACT \\nInformation retrieval in a neural network ...  \n",
              "3  52 \\nSupervised Learning of Probability Distributions \\nby Neural Networks \\nEric B. Baum \\nJet Propulsion Laboratory, Pasadena CA 91109 \\nFrank Wilczek \\nDepartment of Physics,Harvard University...  \n",
              "4  397 \\nAN OPTIMIZATION NETWORK FOR MATRIX INVERSION \\nJu-Seog Jang, Soo-Young Lee, and Sang-Yung Shin \\nKorea Advanced Institute of Science and Technology, \\nP.O. Box 150, Cheongryang, Seoul, Korea...  \n",
              "5  402 \\nHOW THE CATFISH TRACKS ITS PREY: AN INTERACTIVE \"PIPELINED\" \\nPROCESSING SYSTEM MAY DIRECT FORAGING VIA RETICULOSPINAL NEURONS. \\nJagmeet S. Kanwal \\nDept. of Cellular & Structural Biology, ...  \n",
              "6  814 \\nNEU1OMO1PHIC NETWORKS BASED \\nON SPARSE OPTICAL ORTHOGONAL CODES \\nMario P. Vecchi and Jawad A. Salehl \\nBell Communications Research \\n435 South Street \\nMorristown, NJ 07960-1961 \\nAbstr...  \n",
              "7  715 \\nA COMPUTER SIMULATION OF CEREBRAL NEOCORTEX: \\nCOMPUTATIONAL CAPABILITIES OF NONLINEAR NEURAL NETWORKS \\nAlexander Singer* and John P. Donoghue** \\n*Department of Biophysics, Johns Hopkins U...  \n",
              "8  249 \\nHIERARCHICAL LEARNING CONTROL - \\nAN APPROACH WITH NEURON-LIKE ASSOCIATIVE MEMORIES \\nE. Ers \\nISRA Systemtechnik GmbH, Sch6fferstr. 15, D-6100 Darmstadt, FRG \\nH. Tolle \\nTH Darmstadt, Ins...  \n",
              "9  642 \\nLEARNING BY STATE RECURRENCE DETECFION \\nBruce E. Rosen, James M. Goodwin*, and Jacques J. Vidal \\nUniversity of California, Los Angeles, Ca. 90024 \\nABSTRACT \\nThis research investigates a ...  "
            ]
          },
          "execution_count": 79,
          "metadata": {},
          "output_type": "execute_result"
        }
      ],
      "source": [
        "corpus_topic_df.head(10)"
      ]
    },
    {
      "cell_type": "markdown",
      "metadata": {
        "id": "WqQRtvzsRSrs"
      },
      "source": [
        "## Inference on existing papers"
      ]
    },
    {
      "cell_type": "code",
      "execution_count": null,
      "metadata": {
        "colab": {
          "base_uri": "https://localhost:8080/"
        },
        "id": "I0QF6K53v4zN",
        "outputId": "d32cca04-4e91-410e-9daa-b6e39e928e5c"
      },
      "outputs": [
        {
          "data": {
            "text/plain": [
              "[665, 790, 532]"
            ]
          },
          "execution_count": 46,
          "metadata": {},
          "output_type": "execute_result"
        }
      ],
      "source": [
        "sample_paper_patterns = ['Feudal Reinforcement Learning \\nPeter', 'Illumination-Invariant Face Recognition with a', 'Improved Hidden Markov Model Speech Recognition']\n",
        "sample_paper_idxs = [idx for pattern in sample_paper_patterns\n",
        "                            for idx, content in enumerate(papers)\n",
        "                                if pattern in content]\n",
        "sample_paper_idxs"
      ]
    },
    {
      "cell_type": "code",
      "execution_count": null,
      "metadata": {
        "colab": {
          "base_uri": "https://localhost:8080/",
          "height": 317
        },
        "id": "d7JrXUbsw0bt",
        "outputId": "92985392-ae85-4bd4-a21e-e54fac69b91e"
      },
      "outputs": [
        {
          "data": {
            "text/html": [
              "\n",
              "  <div id=\"df-48d1c495-1f96-441c-9c09-9dfa983f88e7\" class=\"colab-df-container\">\n",
              "    <div>\n",
              "<style scoped>\n",
              "    .dataframe tbody tr th:only-of-type {\n",
              "        vertical-align: middle;\n",
              "    }\n",
              "\n",
              "    .dataframe tbody tr th {\n",
              "        vertical-align: top;\n",
              "    }\n",
              "\n",
              "    .dataframe thead th {\n",
              "        text-align: right;\n",
              "    }\n",
              "</style>\n",
              "<table border=\"1\" class=\"dataframe\">\n",
              "  <thead>\n",
              "    <tr style=\"text-align: right;\">\n",
              "      <th></th>\n",
              "      <th>Document</th>\n",
              "      <th>Dominant Topic</th>\n",
              "      <th>Contribution %</th>\n",
              "      <th>Topic Desc</th>\n",
              "      <th>Paper</th>\n",
              "    </tr>\n",
              "  </thead>\n",
              "  <tbody>\n",
              "    <tr>\n",
              "      <th>532</th>\n",
              "      <td>532</td>\n",
              "      <td>7</td>\n",
              "      <td>79.48</td>\n",
              "      <td>training, unit, speech, trained, word, feature, recognition, task, architecture, experiment, test, classification, table, speaker, node, class, mlp, hidden_unit, training_set, prediction</td>\n",
              "      <td>Improved Hidden Markov Model \\nSpeech Recognition Using \\nRadial Basis Function Networks \\nElliot Singer and Richard P. Lippmann \\nLincoln Laboratory, MIT \\nLexington, MA 02173-9108, USA \\nAbstrac...</td>\n",
              "    </tr>\n",
              "    <tr>\n",
              "      <th>665</th>\n",
              "      <td>665</td>\n",
              "      <td>4</td>\n",
              "      <td>86.31</td>\n",
              "      <td>state, action, control, policy, step, reinforcement_learning, controller, environment, optimal, task, robot, goal, reward, agent, trajectory, td, current, reinforcement, cost, trial</td>\n",
              "      <td>Feudal Reinforcement Learning \\nPeter Dayan \\nCNL \\nThe Salk Institute \\nPO Box 85800 \\nSan Diego CA 92186-5800, USA \\ndayanhelmholtz. sdsc. edu \\nGeoffrey E Hinton \\nDepartment of Computer Scien...</td>\n",
              "    </tr>\n",
              "    <tr>\n",
              "      <th>790</th>\n",
              "      <td>790</td>\n",
              "      <td>2</td>\n",
              "      <td>66.40</td>\n",
              "      <td>image, object, feature, pixel, face, view, visual, representation, recognition, region, task, surface, location, local, position, shape, training, filter, scene, motion</td>\n",
              "      <td>Illumination-Invariant Face Recognition with a \\nContrast Sensitive Silicon Retina \\nJoachim M. Buhmann \\nRheinische Friedrich-Wilhelms-Universitfit \\nInstitut ftir Informatik II, R6merstrage 164 ...</td>\n",
              "    </tr>\n",
              "  </tbody>\n",
              "</table>\n",
              "</div>\n",
              "    <div class=\"colab-df-buttons\">\n",
              "\n",
              "  <div class=\"colab-df-container\">\n",
              "    <button class=\"colab-df-convert\" onclick=\"convertToInteractive('df-48d1c495-1f96-441c-9c09-9dfa983f88e7')\"\n",
              "            title=\"Convert this dataframe to an interactive table.\"\n",
              "            style=\"display:none;\">\n",
              "\n",
              "  <svg xmlns=\"http://www.w3.org/2000/svg\" height=\"24px\" viewBox=\"0 -960 960 960\">\n",
              "    <path d=\"M120-120v-720h720v720H120Zm60-500h600v-160H180v160Zm220 220h160v-160H400v160Zm0 220h160v-160H400v160ZM180-400h160v-160H180v160Zm440 0h160v-160H620v160ZM180-180h160v-160H180v160Zm440 0h160v-160H620v160Z\"/>\n",
              "  </svg>\n",
              "    </button>\n",
              "\n",
              "  <style>\n",
              "    .colab-df-container {\n",
              "      display:flex;\n",
              "      gap: 12px;\n",
              "    }\n",
              "\n",
              "    .colab-df-convert {\n",
              "      background-color: #E8F0FE;\n",
              "      border: none;\n",
              "      border-radius: 50%;\n",
              "      cursor: pointer;\n",
              "      display: none;\n",
              "      fill: #1967D2;\n",
              "      height: 32px;\n",
              "      padding: 0 0 0 0;\n",
              "      width: 32px;\n",
              "    }\n",
              "\n",
              "    .colab-df-convert:hover {\n",
              "      background-color: #E2EBFA;\n",
              "      box-shadow: 0px 1px 2px rgba(60, 64, 67, 0.3), 0px 1px 3px 1px rgba(60, 64, 67, 0.15);\n",
              "      fill: #174EA6;\n",
              "    }\n",
              "\n",
              "    .colab-df-buttons div {\n",
              "      margin-bottom: 4px;\n",
              "    }\n",
              "\n",
              "    [theme=dark] .colab-df-convert {\n",
              "      background-color: #3B4455;\n",
              "      fill: #D2E3FC;\n",
              "    }\n",
              "\n",
              "    [theme=dark] .colab-df-convert:hover {\n",
              "      background-color: #434B5C;\n",
              "      box-shadow: 0px 1px 3px 1px rgba(0, 0, 0, 0.15);\n",
              "      filter: drop-shadow(0px 1px 2px rgba(0, 0, 0, 0.3));\n",
              "      fill: #FFFFFF;\n",
              "    }\n",
              "  </style>\n",
              "\n",
              "    <script>\n",
              "      const buttonEl =\n",
              "        document.querySelector('#df-48d1c495-1f96-441c-9c09-9dfa983f88e7 button.colab-df-convert');\n",
              "      buttonEl.style.display =\n",
              "        google.colab.kernel.accessAllowed ? 'block' : 'none';\n",
              "\n",
              "      async function convertToInteractive(key) {\n",
              "        const element = document.querySelector('#df-48d1c495-1f96-441c-9c09-9dfa983f88e7');\n",
              "        const dataTable =\n",
              "          await google.colab.kernel.invokeFunction('convertToInteractive',\n",
              "                                                    [key], {});\n",
              "        if (!dataTable) return;\n",
              "\n",
              "        const docLinkHtml = 'Like what you see? Visit the ' +\n",
              "          '<a target=\"_blank\" href=https://colab.research.google.com/notebooks/data_table.ipynb>data table notebook</a>'\n",
              "          + ' to learn more about interactive tables.';\n",
              "        element.innerHTML = '';\n",
              "        dataTable['output_type'] = 'display_data';\n",
              "        await google.colab.output.renderOutput(dataTable, element);\n",
              "        const docLink = document.createElement('div');\n",
              "        docLink.innerHTML = docLinkHtml;\n",
              "        element.appendChild(docLink);\n",
              "      }\n",
              "    </script>\n",
              "  </div>\n",
              "\n",
              "\n",
              "<div id=\"df-78d26db3-3e84-4cdb-8a21-5fcf1ed15927\">\n",
              "  <button class=\"colab-df-quickchart\" onclick=\"quickchart('df-78d26db3-3e84-4cdb-8a21-5fcf1ed15927')\"\n",
              "            title=\"Suggest charts.\"\n",
              "            style=\"display:none;\">\n",
              "\n",
              "<svg xmlns=\"http://www.w3.org/2000/svg\" height=\"24px\"viewBox=\"0 0 24 24\"\n",
              "     width=\"24px\">\n",
              "    <g>\n",
              "        <path d=\"M19 3H5c-1.1 0-2 .9-2 2v14c0 1.1.9 2 2 2h14c1.1 0 2-.9 2-2V5c0-1.1-.9-2-2-2zM9 17H7v-7h2v7zm4 0h-2V7h2v10zm4 0h-2v-4h2v4z\"/>\n",
              "    </g>\n",
              "</svg>\n",
              "  </button>\n",
              "\n",
              "<style>\n",
              "  .colab-df-quickchart {\n",
              "      --bg-color: #E8F0FE;\n",
              "      --fill-color: #1967D2;\n",
              "      --hover-bg-color: #E2EBFA;\n",
              "      --hover-fill-color: #174EA6;\n",
              "      --disabled-fill-color: #AAA;\n",
              "      --disabled-bg-color: #DDD;\n",
              "  }\n",
              "\n",
              "  [theme=dark] .colab-df-quickchart {\n",
              "      --bg-color: #3B4455;\n",
              "      --fill-color: #D2E3FC;\n",
              "      --hover-bg-color: #434B5C;\n",
              "      --hover-fill-color: #FFFFFF;\n",
              "      --disabled-bg-color: #3B4455;\n",
              "      --disabled-fill-color: #666;\n",
              "  }\n",
              "\n",
              "  .colab-df-quickchart {\n",
              "    background-color: var(--bg-color);\n",
              "    border: none;\n",
              "    border-radius: 50%;\n",
              "    cursor: pointer;\n",
              "    display: none;\n",
              "    fill: var(--fill-color);\n",
              "    height: 32px;\n",
              "    padding: 0;\n",
              "    width: 32px;\n",
              "  }\n",
              "\n",
              "  .colab-df-quickchart:hover {\n",
              "    background-color: var(--hover-bg-color);\n",
              "    box-shadow: 0 1px 2px rgba(60, 64, 67, 0.3), 0 1px 3px 1px rgba(60, 64, 67, 0.15);\n",
              "    fill: var(--button-hover-fill-color);\n",
              "  }\n",
              "\n",
              "  .colab-df-quickchart-complete:disabled,\n",
              "  .colab-df-quickchart-complete:disabled:hover {\n",
              "    background-color: var(--disabled-bg-color);\n",
              "    fill: var(--disabled-fill-color);\n",
              "    box-shadow: none;\n",
              "  }\n",
              "\n",
              "  .colab-df-spinner {\n",
              "    border: 2px solid var(--fill-color);\n",
              "    border-color: transparent;\n",
              "    border-bottom-color: var(--fill-color);\n",
              "    animation:\n",
              "      spin 1s steps(1) infinite;\n",
              "  }\n",
              "\n",
              "  @keyframes spin {\n",
              "    0% {\n",
              "      border-color: transparent;\n",
              "      border-bottom-color: var(--fill-color);\n",
              "      border-left-color: var(--fill-color);\n",
              "    }\n",
              "    20% {\n",
              "      border-color: transparent;\n",
              "      border-left-color: var(--fill-color);\n",
              "      border-top-color: var(--fill-color);\n",
              "    }\n",
              "    30% {\n",
              "      border-color: transparent;\n",
              "      border-left-color: var(--fill-color);\n",
              "      border-top-color: var(--fill-color);\n",
              "      border-right-color: var(--fill-color);\n",
              "    }\n",
              "    40% {\n",
              "      border-color: transparent;\n",
              "      border-right-color: var(--fill-color);\n",
              "      border-top-color: var(--fill-color);\n",
              "    }\n",
              "    60% {\n",
              "      border-color: transparent;\n",
              "      border-right-color: var(--fill-color);\n",
              "    }\n",
              "    80% {\n",
              "      border-color: transparent;\n",
              "      border-right-color: var(--fill-color);\n",
              "      border-bottom-color: var(--fill-color);\n",
              "    }\n",
              "    90% {\n",
              "      border-color: transparent;\n",
              "      border-bottom-color: var(--fill-color);\n",
              "    }\n",
              "  }\n",
              "</style>\n",
              "\n",
              "  <script>\n",
              "    async function quickchart(key) {\n",
              "      const quickchartButtonEl =\n",
              "        document.querySelector('#' + key + ' button');\n",
              "      quickchartButtonEl.disabled = true;  // To prevent multiple clicks.\n",
              "      quickchartButtonEl.classList.add('colab-df-spinner');\n",
              "      try {\n",
              "        const charts = await google.colab.kernel.invokeFunction(\n",
              "            'suggestCharts', [key], {});\n",
              "      } catch (error) {\n",
              "        console.error('Error during call to suggestCharts:', error);\n",
              "      }\n",
              "      quickchartButtonEl.classList.remove('colab-df-spinner');\n",
              "      quickchartButtonEl.classList.add('colab-df-quickchart-complete');\n",
              "    }\n",
              "    (() => {\n",
              "      let quickchartButtonEl =\n",
              "        document.querySelector('#df-78d26db3-3e84-4cdb-8a21-5fcf1ed15927 button');\n",
              "      quickchartButtonEl.style.display =\n",
              "        google.colab.kernel.accessAllowed ? 'block' : 'none';\n",
              "    })();\n",
              "  </script>\n",
              "</div>\n",
              "    </div>\n",
              "  </div>\n"
            ],
            "text/plain": [
              "     Document  Dominant Topic  Contribution %  \\\n",
              "532       532               7           79.48   \n",
              "665       665               4           86.31   \n",
              "790       790               2           66.40   \n",
              "\n",
              "                                                                                                                                                                                     Topic Desc  \\\n",
              "532  training, unit, speech, trained, word, feature, recognition, task, architecture, experiment, test, classification, table, speaker, node, class, mlp, hidden_unit, training_set, prediction   \n",
              "665       state, action, control, policy, step, reinforcement_learning, controller, environment, optimal, task, robot, goal, reward, agent, trajectory, td, current, reinforcement, cost, trial   \n",
              "790                    image, object, feature, pixel, face, view, visual, representation, recognition, region, task, surface, location, local, position, shape, training, filter, scene, motion   \n",
              "\n",
              "                                                                                                                                                                                                       Paper  \n",
              "532  Improved Hidden Markov Model \\nSpeech Recognition Using \\nRadial Basis Function Networks \\nElliot Singer and Richard P. Lippmann \\nLincoln Laboratory, MIT \\nLexington, MA 02173-9108, USA \\nAbstrac...  \n",
              "665  Feudal Reinforcement Learning \\nPeter Dayan \\nCNL \\nThe Salk Institute \\nPO Box 85800 \\nSan Diego CA 92186-5800, USA \\ndayanhelmholtz. sdsc. edu \\nGeoffrey E Hinton \\nDepartment of Computer Scien...  \n",
              "790  Illumination-Invariant Face Recognition with a \\nContrast Sensitive Silicon Retina \\nJoachim M. Buhmann \\nRheinische Friedrich-Wilhelms-Universitfit \\nInstitut ftir Informatik II, R6merstrage 164 ...  "
            ]
          },
          "execution_count": 47,
          "metadata": {},
          "output_type": "execute_result"
        }
      ],
      "source": [
        "pd.set_option('display.max_colwidth', 200)\n",
        "(corpus_topic_df[corpus_topic_df['Document']\n",
        "                 .isin(sample_paper_idxs)])"
      ]
    },
    {
      "cell_type": "markdown",
      "metadata": {
        "id": "1S84f-T7RVED"
      },
      "source": [
        "## Topic Inference on New Papers (Data)"
      ]
    },
    {
      "cell_type": "code",
      "execution_count": null,
      "metadata": {
        "colab": {
          "base_uri": "https://localhost:8080/",
          "height": 140
        },
        "id": "50rVOoraO48k",
        "outputId": "88a2fb17-f0c2-42d8-cc58-f0537b0cdab1"
      },
      "outputs": [
        {
          "data": {
            "application/vnd.google.colaboratory.intrinsic+json": {
              "type": "string"
            },
            "text/plain": [
              "'\\nEfficient Visual Recognition with Deep Neural Networks: A Survey on Recent Advances and New Directions\\nYang Wu, Dingheng Wang, Xiaotong Lu, Fan Yang, Guoqi Li, Weisheng Dong, Jianbo Shi\\nVisual recognition is currently one of the most important and active research areas in computer vision, \\npattern recognition, and even the general field of artificial intelligence. \\nIt has great fundamental importance and strong industrial needs. \\nDeep neural networks (DNNs) have largely boosted their performances on many concrete tasks, \\nwith the help of large amounts of training data and new powerful computation resources. \\nThough recognition accuracy is usually the first concern for new progresses, \\nefficiency is actually rather important and sometimes critical for both academic research \\nand industrial applications. Moreover, insightful views on the opportunities and challenges \\nof efficiency are also highly required for the entire community. \\nWhile general surveys on the efficiency issue of DNNs have been done from various perspectives, \\nas far as we are aware, scarcely any of them focused on visual recognition systematically, \\nand thus it is unclear which progresses are applicable to it and what else should be concerned. \\nIn this paper, we present the review of the recent advances with our suggestions on the new \\npossible directions towards improving the efficiency of DNN-related visual recognition approaches. \\nWe investigate not only from the model but also the data point of view \\n(which is not the case in existing surveys), and focus on three most studied \\ndata types (images, videos and points). This paper attempts to provide a systematic summary \\nvia a comprehensive survey which can serve as a valuable reference and inspire both researchers \\nand practitioners who work on visual recognition problems.\\n'"
            ]
          },
          "execution_count": 65,
          "metadata": {},
          "output_type": "execute_result"
        }
      ],
      "source": [
        "new_paper = \"\"\"\n",
        "Efficient Visual Recognition with Deep Neural Networks: A Survey on Recent Advances and New Directions\n",
        "Yang Wu, Dingheng Wang, Xiaotong Lu, Fan Yang, Guoqi Li, Weisheng Dong, Jianbo Shi\n",
        "Visual recognition is currently one of the most important and active research areas in computer vision,\n",
        "pattern recognition, and even the general field of artificial intelligence.\n",
        "It has great fundamental importance and strong industrial needs.\n",
        "Deep neural networks (DNNs) have largely boosted their performances on many concrete tasks,\n",
        "with the help of large amounts of training data and new powerful computation resources.\n",
        "Though recognition accuracy is usually the first concern for new progresses,\n",
        "efficiency is actually rather important and sometimes critical for both academic research\n",
        "and industrial applications. Moreover, insightful views on the opportunities and challenges\n",
        "of efficiency are also highly required for the entire community.\n",
        "While general surveys on the efficiency issue of DNNs have been done from various perspectives,\n",
        "as far as we are aware, scarcely any of them focused on visual recognition systematically,\n",
        "and thus it is unclear which progresses are applicable to it and what else should be concerned.\n",
        "In this paper, we present the review of the recent advances with our suggestions on the new\n",
        "possible directions towards improving the efficiency of DNN-related visual recognition approaches.\n",
        "We investigate not only from the model but also the data point of view\n",
        "(which is not the case in existing surveys), and focus on three most studied\n",
        "data types (images, videos and points). This paper attempts to provide a systematic summary\n",
        "via a comprehensive survey which can serve as a valuable reference and inspire both researchers\n",
        "and practitioners who work on visual recognition problems.\n",
        "\"\"\"\n",
        "\n",
        "new_paper"
      ]
    },
    {
      "cell_type": "markdown",
      "metadata": {
        "id": "QOY_6U8zRYkb"
      },
      "source": [
        "## Pre-process Text"
      ]
    },
    {
      "cell_type": "code",
      "execution_count": null,
      "metadata": {
        "id": "4SFMQOnvYdE4"
      },
      "outputs": [],
      "source": [
        "import tqdm"
      ]
    },
    {
      "cell_type": "code",
      "execution_count": null,
      "metadata": {
        "colab": {
          "base_uri": "https://localhost:8080/"
        },
        "id": "e0I7hWMGPQ_q",
        "outputId": "fc05751a-27ef-40ba-e4e5-388ed2fe13fa"
      },
      "outputs": [
        {
          "name": "stderr",
          "output_type": "stream",
          "text": [
            "100%|██████████| 1/1 [00:00<00:00, 143.82it/s]"
          ]
        },
        {
          "name": "stdout",
          "output_type": "stream",
          "text": [
            "['efficient', 'visual', 'recognition', 'deep', 'neural', 'network', 'survey', 'recent', 'advance', 'new', 'direction', 'yang', 'wu', 'dingheng', 'wang', 'xiaotong', 'lu', 'fan', 'yang', 'guoqi', 'li', 'weisheng', 'dong', 'jianbo', 'shi', 'visual', 'recognition', 'currently', 'one', 'important']\n"
          ]
        },
        {
          "name": "stderr",
          "output_type": "stream",
          "text": [
            "\n"
          ]
        }
      ],
      "source": [
        "preprocessed_papers = normalize_corpus([new_paper])\n",
        "print(preprocessed_papers[0][:30])"
      ]
    },
    {
      "cell_type": "markdown",
      "metadata": {
        "id": "Wkf7nKhURaYX"
      },
      "source": [
        "## Generate Influential Bi-grams if any"
      ]
    },
    {
      "cell_type": "code",
      "execution_count": null,
      "metadata": {
        "colab": {
          "base_uri": "https://localhost:8080/"
        },
        "id": "lUzIztYHPYeU",
        "outputId": "8a8a810d-c8fc-406c-85ec-732764b1fd50"
      },
      "outputs": [
        {
          "name": "stdout",
          "output_type": "stream",
          "text": [
            "['efficient', 'visual', 'recognition', 'deep', 'neural_network', 'survey', 'recent', 'advance', 'new', 'direction', 'yang', 'wu', 'dingheng', 'wang', 'xiaotong', 'lu', 'fan', 'yang', 'guoqi', 'li', 'weisheng', 'dong', 'jianbo', 'shi', 'visual', 'recognition', 'currently', 'one', 'important', 'active']\n"
          ]
        }
      ],
      "source": [
        "bigrams_corpus = [bigram_model[doc] for doc in preprocessed_papers]\n",
        "print(bigrams_corpus[0][0:30])"
      ]
    },
    {
      "cell_type": "markdown",
      "metadata": {
        "id": "_NWsbx_cRep7"
      },
      "source": [
        "## Generate BOW Vectors from Training Vectorizer"
      ]
    },
    {
      "cell_type": "code",
      "execution_count": null,
      "metadata": {
        "colab": {
          "base_uri": "https://localhost:8080/"
        },
        "id": "ypm5UXrZPtC6",
        "outputId": "1a90e8c7-61d8-4d2f-9cf8-bccb00412586"
      },
      "outputs": [
        {
          "name": "stdout",
          "output_type": "stream",
          "text": [
            "[(19, 1), (40, 1), (44, 1), (46, 1), (91, 1), (117, 1), (237, 1), (279, 1), (295, 2), (316, 1), (387, 1), (417, 1), (473, 2), (492, 2), (512, 1), (515, 2), (579, 1), (586, 1), (595, 1), (602, 1), (612, 1), (617, 1), (634, 1), (637, 2), (663, 1), (739, 1), (758, 1), (766, 1), (843, 1), (892, 1)]\n"
          ]
        }
      ],
      "source": [
        "bow_corpus = [dictionary.doc2bow(text) for text in bigrams_corpus]\n",
        "print(bow_corpus[0][:30])"
      ]
    },
    {
      "cell_type": "markdown",
      "metadata": {
        "id": "pqXuFNw3RiLg"
      },
      "source": [
        "## Use trained topic model to predict topics"
      ]
    },
    {
      "cell_type": "code",
      "execution_count": null,
      "metadata": {
        "colab": {
          "base_uri": "https://localhost:8080/"
        },
        "id": "zWSAMumoQGTB",
        "outputId": "4936a3cc-1587-46af-9b76-a2a3d95bc960"
      },
      "outputs": [
        {
          "name": "stdout",
          "output_type": "stream",
          "text": [
            "[('active', 1), ('application', 1), ('area', 1), ('artificial_intelligence', 1), ('challenge', 1), ('computation', 1), ('far', 1), ('highly', 1), ('important', 2), ('investigate', 1), ('need', 1), ('paper_present', 1), ('progress', 2), ('recent', 2), ('required', 1), ('research', 2), ('strong', 1), ('suggestion', 1), ('task', 1), ('though', 1), ('training', 1), ('type', 1), ('various', 1), ('view', 2), ('actually', 1), ('critical', 1), ('else', 1), ('even', 1), ('moreover', 1), ('rather', 1)]\n"
          ]
        }
      ],
      "source": [
        "print([(dictionary[idx] , freq) for idx, freq in bow_corpus[0][:30]])"
      ]
    },
    {
      "cell_type": "markdown",
      "metadata": {
        "id": "SsQlCfP2Rmpp"
      },
      "source": [
        "## Show most relevant topic"
      ]
    },
    {
      "cell_type": "code",
      "execution_count": null,
      "metadata": {
        "colab": {
          "base_uri": "https://localhost:8080/"
        },
        "id": "7ly1ZQkzQLhW",
        "outputId": "bd7573b1-db70-4487-cec6-22859660863e"
      },
      "outputs": [
        {
          "data": {
            "text/plain": [
              "[(1, 0.5862816), (6, 0.272409), (11, 0.1375469)]"
            ]
          },
          "execution_count": 74,
          "metadata": {},
          "output_type": "execute_result"
        }
      ],
      "source": [
        "predicted_topics = best_lda_model[bow_corpus][0]\n",
        "predicted_topics"
      ]
    },
    {
      "cell_type": "code",
      "execution_count": null,
      "metadata": {
        "colab": {
          "base_uri": "https://localhost:8080/"
        },
        "id": "QTYgVVlRQUU4",
        "outputId": "52fdf17a-690e-4a51-845f-dc9ee59a396d"
      },
      "outputs": [
        {
          "data": {
            "text/plain": [
              "(1, 0.5862816)"
            ]
          },
          "execution_count": 75,
          "metadata": {},
          "output_type": "execute_result"
        }
      ],
      "source": [
        "top_topic = max(predicted_topics, key=lambda x: x[1])\n",
        "top_topic"
      ]
    },
    {
      "cell_type": "code",
      "execution_count": null,
      "metadata": {
        "colab": {
          "base_uri": "https://localhost:8080/"
        },
        "id": "1MypZEfwQbrl",
        "outputId": "7875ea69-f5e9-4f52-c35d-ef0ef66f7908"
      },
      "outputs": [
        {
          "data": {
            "text/plain": [
              "1"
            ]
          },
          "execution_count": 76,
          "metadata": {},
          "output_type": "execute_result"
        }
      ],
      "source": [
        "top_topic_idx = top_topic[0]\n",
        "top_topic_idx"
      ]
    },
    {
      "cell_type": "code",
      "execution_count": null,
      "metadata": {
        "colab": {
          "base_uri": "https://localhost:8080/",
          "height": 81
        },
        "id": "sI3XLFfkQrPo",
        "outputId": "72812727-7022-4c02-c991-fa0fce93d961"
      },
      "outputs": [
        {
          "data": {
            "text/html": [
              "\n",
              "  <div id=\"df-21088a53-ee41-4ef9-8824-3345bbfec13f\" class=\"colab-df-container\">\n",
              "    <div>\n",
              "<style scoped>\n",
              "    .dataframe tbody tr th:only-of-type {\n",
              "        vertical-align: middle;\n",
              "    }\n",
              "\n",
              "    .dataframe tbody tr th {\n",
              "        vertical-align: top;\n",
              "    }\n",
              "\n",
              "    .dataframe thead th {\n",
              "        text-align: right;\n",
              "    }\n",
              "</style>\n",
              "<table border=\"1\" class=\"dataframe\">\n",
              "  <thead>\n",
              "    <tr style=\"text-align: right;\">\n",
              "      <th></th>\n",
              "      <th>Terms per Topic</th>\n",
              "    </tr>\n",
              "  </thead>\n",
              "  <tbody>\n",
              "    <tr>\n",
              "      <th>Topic2</th>\n",
              "      <td>image, object, feature, pixel, face, view, visual, representation, recognition, region, task, surface, location, local, position, shape, training, filter, scene, motion</td>\n",
              "    </tr>\n",
              "  </tbody>\n",
              "</table>\n",
              "</div>\n",
              "    <div class=\"colab-df-buttons\">\n",
              "\n",
              "  <div class=\"colab-df-container\">\n",
              "    <button class=\"colab-df-convert\" onclick=\"convertToInteractive('df-21088a53-ee41-4ef9-8824-3345bbfec13f')\"\n",
              "            title=\"Convert this dataframe to an interactive table.\"\n",
              "            style=\"display:none;\">\n",
              "\n",
              "  <svg xmlns=\"http://www.w3.org/2000/svg\" height=\"24px\" viewBox=\"0 -960 960 960\">\n",
              "    <path d=\"M120-120v-720h720v720H120Zm60-500h600v-160H180v160Zm220 220h160v-160H400v160Zm0 220h160v-160H400v160ZM180-400h160v-160H180v160Zm440 0h160v-160H620v160ZM180-180h160v-160H180v160Zm440 0h160v-160H620v160Z\"/>\n",
              "  </svg>\n",
              "    </button>\n",
              "\n",
              "  <style>\n",
              "    .colab-df-container {\n",
              "      display:flex;\n",
              "      gap: 12px;\n",
              "    }\n",
              "\n",
              "    .colab-df-convert {\n",
              "      background-color: #E8F0FE;\n",
              "      border: none;\n",
              "      border-radius: 50%;\n",
              "      cursor: pointer;\n",
              "      display: none;\n",
              "      fill: #1967D2;\n",
              "      height: 32px;\n",
              "      padding: 0 0 0 0;\n",
              "      width: 32px;\n",
              "    }\n",
              "\n",
              "    .colab-df-convert:hover {\n",
              "      background-color: #E2EBFA;\n",
              "      box-shadow: 0px 1px 2px rgba(60, 64, 67, 0.3), 0px 1px 3px 1px rgba(60, 64, 67, 0.15);\n",
              "      fill: #174EA6;\n",
              "    }\n",
              "\n",
              "    .colab-df-buttons div {\n",
              "      margin-bottom: 4px;\n",
              "    }\n",
              "\n",
              "    [theme=dark] .colab-df-convert {\n",
              "      background-color: #3B4455;\n",
              "      fill: #D2E3FC;\n",
              "    }\n",
              "\n",
              "    [theme=dark] .colab-df-convert:hover {\n",
              "      background-color: #434B5C;\n",
              "      box-shadow: 0px 1px 3px 1px rgba(0, 0, 0, 0.15);\n",
              "      filter: drop-shadow(0px 1px 2px rgba(0, 0, 0, 0.3));\n",
              "      fill: #FFFFFF;\n",
              "    }\n",
              "  </style>\n",
              "\n",
              "    <script>\n",
              "      const buttonEl =\n",
              "        document.querySelector('#df-21088a53-ee41-4ef9-8824-3345bbfec13f button.colab-df-convert');\n",
              "      buttonEl.style.display =\n",
              "        google.colab.kernel.accessAllowed ? 'block' : 'none';\n",
              "\n",
              "      async function convertToInteractive(key) {\n",
              "        const element = document.querySelector('#df-21088a53-ee41-4ef9-8824-3345bbfec13f');\n",
              "        const dataTable =\n",
              "          await google.colab.kernel.invokeFunction('convertToInteractive',\n",
              "                                                    [key], {});\n",
              "        if (!dataTable) return;\n",
              "\n",
              "        const docLinkHtml = 'Like what you see? Visit the ' +\n",
              "          '<a target=\"_blank\" href=https://colab.research.google.com/notebooks/data_table.ipynb>data table notebook</a>'\n",
              "          + ' to learn more about interactive tables.';\n",
              "        element.innerHTML = '';\n",
              "        dataTable['output_type'] = 'display_data';\n",
              "        await google.colab.output.renderOutput(dataTable, element);\n",
              "        const docLink = document.createElement('div');\n",
              "        docLink.innerHTML = docLinkHtml;\n",
              "        element.appendChild(docLink);\n",
              "      }\n",
              "    </script>\n",
              "  </div>\n",
              "\n",
              "    </div>\n",
              "  </div>\n"
            ],
            "text/plain": [
              "                                                                                                                                                                 Terms per Topic\n",
              "Topic2  image, object, feature, pixel, face, view, visual, representation, recognition, region, task, surface, location, local, position, shape, training, filter, scene, motion"
            ]
          },
          "execution_count": 77,
          "metadata": {},
          "output_type": "execute_result"
        }
      ],
      "source": [
        "topics_df.iloc[[top_topic_idx]]"
      ]
    },
    {
      "cell_type": "markdown",
      "metadata": {
        "id": "LYZc82hoLhMn"
      },
      "source": [
        "Looking at the paper abstract our topic model did pretty well in predicting a very relevant topic for the paper"
      ]
    },
    {
      "cell_type": "code",
      "execution_count": null,
      "metadata": {
        "colab": {
          "base_uri": "https://localhost:8080/"
        },
        "id": "W1VYw5guQ01h",
        "outputId": "db4621ac-a02a-4c49-b718-e53e93ec5776"
      },
      "outputs": [
        {
          "name": "stdout",
          "output_type": "stream",
          "text": [
            "\n",
            "Efficient Visual Recognition with Deep Neural Networks: A Survey on Recent Advances and New Directions\n",
            "Yang Wu, Dingheng Wang, Xiaotong Lu, Fan Yang, Guoqi Li, Weisheng Dong, Jianbo Shi\n",
            "Visual recognition is currently one of the most important and active research areas in computer vision, \n",
            "pattern recognition, and even the general field of artificial intelligence. \n",
            "It has great fundamental importance and strong industrial needs. \n",
            "Deep neural networks (DNNs) have largely boosted their performances on many concrete tasks, \n",
            "with the help of large amounts of training data and new powerful computation resources. \n",
            "Though recognition accuracy is usually the first concern for new progresses, \n",
            "efficiency is actually rather important and sometimes critical for both academic research \n",
            "and industrial applications. Moreover, insightful views on the opportunities and challenges \n",
            "of efficiency are also highly required for the entire community. \n",
            "While general surveys on the efficiency issue of DNNs have been done from various perspectives, \n",
            "as far as we are aware, scarcely any of them focused on visual recognition systematically, \n",
            "and thus it is unclear which progresses are applicable to it and what else should be concerned. \n",
            "In this paper, we present the review of the recent advances with our suggestions on the new \n",
            "possible directions towards improving the efficiency of DNN-related visual recognition approaches. \n",
            "We investigate not only from the model but also the data point of view \n",
            "(which is not the case in existing surveys), and focus on three most studied \n",
            "data types (images, videos and points). This paper attempts to provide a systematic summary \n",
            "via a comprehensive survey which can serve as a valuable reference and inspire both researchers \n",
            "and practitioners who work on visual recognition problems.\n",
            "\n"
          ]
        }
      ],
      "source": [
        "print(new_paper)"
      ]
    }
  ],
  "metadata": {
    "colab": {
      "provenance": [],
      "include_colab_link": true
    },
    "kernelspec": {
      "display_name": "Python 3",
      "language": "python",
      "name": "python3"
    },
    "language_info": {
      "codemirror_mode": {
        "name": "ipython",
        "version": 3
      },
      "file_extension": ".py",
      "mimetype": "text/x-python",
      "name": "python",
      "nbconvert_exporter": "python",
      "pygments_lexer": "ipython3",
      "version": "3.7.6"
    },
    "widgets": {
      "application/vnd.jupyter.widget-state+json": {
        "00ae0fa94baf4399971b42b224b8f9f6": {
          "model_module": "@jupyter-widgets/controls",
          "model_module_version": "1.5.0",
          "model_name": "FloatProgressModel",
          "state": {
            "_dom_classes": [],
            "_model_module": "@jupyter-widgets/controls",
            "_model_module_version": "1.5.0",
            "_model_name": "FloatProgressModel",
            "_view_count": null,
            "_view_module": "@jupyter-widgets/controls",
            "_view_module_version": "1.5.0",
            "_view_name": "ProgressView",
            "bar_style": "",
            "description": "",
            "description_tooltip": null,
            "layout": "IPY_MODEL_0ba03c641bc947fdaca69d60089ad285",
            "max": 29,
            "min": 0,
            "orientation": "horizontal",
            "style": "IPY_MODEL_938123b52c2c487db4ee8358db476e62",
            "value": 0
          }
        },
        "0ba03c641bc947fdaca69d60089ad285": {
          "model_module": "@jupyter-widgets/base",
          "model_module_version": "1.2.0",
          "model_name": "LayoutModel",
          "state": {
            "_model_module": "@jupyter-widgets/base",
            "_model_module_version": "1.2.0",
            "_model_name": "LayoutModel",
            "_view_count": null,
            "_view_module": "@jupyter-widgets/base",
            "_view_module_version": "1.2.0",
            "_view_name": "LayoutView",
            "align_content": null,
            "align_items": null,
            "align_self": null,
            "border": null,
            "bottom": null,
            "display": null,
            "flex": null,
            "flex_flow": null,
            "grid_area": null,
            "grid_auto_columns": null,
            "grid_auto_flow": null,
            "grid_auto_rows": null,
            "grid_column": null,
            "grid_gap": null,
            "grid_row": null,
            "grid_template_areas": null,
            "grid_template_columns": null,
            "grid_template_rows": null,
            "height": null,
            "justify_content": null,
            "justify_items": null,
            "left": null,
            "margin": null,
            "max_height": null,
            "max_width": null,
            "min_height": null,
            "min_width": null,
            "object_fit": null,
            "object_position": null,
            "order": null,
            "overflow": null,
            "overflow_x": null,
            "overflow_y": null,
            "padding": null,
            "right": null,
            "top": null,
            "visibility": null,
            "width": null
          }
        },
        "19a121811c8a470eba4660f5de9f26b6": {
          "model_module": "@jupyter-widgets/base",
          "model_module_version": "1.2.0",
          "model_name": "LayoutModel",
          "state": {
            "_model_module": "@jupyter-widgets/base",
            "_model_module_version": "1.2.0",
            "_model_name": "LayoutModel",
            "_view_count": null,
            "_view_module": "@jupyter-widgets/base",
            "_view_module_version": "1.2.0",
            "_view_name": "LayoutView",
            "align_content": null,
            "align_items": null,
            "align_self": null,
            "border": null,
            "bottom": null,
            "display": null,
            "flex": null,
            "flex_flow": null,
            "grid_area": null,
            "grid_auto_columns": null,
            "grid_auto_flow": null,
            "grid_auto_rows": null,
            "grid_column": null,
            "grid_gap": null,
            "grid_row": null,
            "grid_template_areas": null,
            "grid_template_columns": null,
            "grid_template_rows": null,
            "height": null,
            "justify_content": null,
            "justify_items": null,
            "left": null,
            "margin": null,
            "max_height": null,
            "max_width": null,
            "min_height": null,
            "min_width": null,
            "object_fit": null,
            "object_position": null,
            "order": null,
            "overflow": null,
            "overflow_x": null,
            "overflow_y": null,
            "padding": null,
            "right": null,
            "top": null,
            "visibility": null,
            "width": null
          }
        },
        "5140520504464fb38f6c954218a29c17": {
          "model_module": "@jupyter-widgets/controls",
          "model_module_version": "1.5.0",
          "model_name": "HTMLModel",
          "state": {
            "_dom_classes": [],
            "_model_module": "@jupyter-widgets/controls",
            "_model_module_version": "1.5.0",
            "_model_name": "HTMLModel",
            "_view_count": null,
            "_view_module": "@jupyter-widgets/controls",
            "_view_module_version": "1.5.0",
            "_view_name": "HTMLView",
            "description": "",
            "description_tooltip": null,
            "layout": "IPY_MODEL_19a121811c8a470eba4660f5de9f26b6",
            "placeholder": "​",
            "style": "IPY_MODEL_6ab3316259be453f8f46fed383ce69d7",
            "value": "  0%"
          }
        },
        "6ab3316259be453f8f46fed383ce69d7": {
          "model_module": "@jupyter-widgets/controls",
          "model_module_version": "1.5.0",
          "model_name": "DescriptionStyleModel",
          "state": {
            "_model_module": "@jupyter-widgets/controls",
            "_model_module_version": "1.5.0",
            "_model_name": "DescriptionStyleModel",
            "_view_count": null,
            "_view_module": "@jupyter-widgets/base",
            "_view_module_version": "1.2.0",
            "_view_name": "StyleView",
            "description_width": ""
          }
        },
        "938123b52c2c487db4ee8358db476e62": {
          "model_module": "@jupyter-widgets/controls",
          "model_module_version": "1.5.0",
          "model_name": "ProgressStyleModel",
          "state": {
            "_model_module": "@jupyter-widgets/controls",
            "_model_module_version": "1.5.0",
            "_model_name": "ProgressStyleModel",
            "_view_count": null,
            "_view_module": "@jupyter-widgets/base",
            "_view_module_version": "1.2.0",
            "_view_name": "StyleView",
            "bar_color": null,
            "description_width": ""
          }
        },
        "9cf319012c6643dfabcf8f4352c12642": {
          "model_module": "@jupyter-widgets/controls",
          "model_module_version": "1.5.0",
          "model_name": "HTMLModel",
          "state": {
            "_dom_classes": [],
            "_model_module": "@jupyter-widgets/controls",
            "_model_module_version": "1.5.0",
            "_model_name": "HTMLModel",
            "_view_count": null,
            "_view_module": "@jupyter-widgets/controls",
            "_view_module_version": "1.5.0",
            "_view_name": "HTMLView",
            "description": "",
            "description_tooltip": null,
            "layout": "IPY_MODEL_a1bab031da724b86bb95c705efd62a4d",
            "placeholder": "​",
            "style": "IPY_MODEL_e9112acabcec4745af8515f10425b625",
            "value": " 0/29 [00:00&lt;?, ?it/s]"
          }
        },
        "a1bab031da724b86bb95c705efd62a4d": {
          "model_module": "@jupyter-widgets/base",
          "model_module_version": "1.2.0",
          "model_name": "LayoutModel",
          "state": {
            "_model_module": "@jupyter-widgets/base",
            "_model_module_version": "1.2.0",
            "_model_name": "LayoutModel",
            "_view_count": null,
            "_view_module": "@jupyter-widgets/base",
            "_view_module_version": "1.2.0",
            "_view_name": "LayoutView",
            "align_content": null,
            "align_items": null,
            "align_self": null,
            "border": null,
            "bottom": null,
            "display": null,
            "flex": null,
            "flex_flow": null,
            "grid_area": null,
            "grid_auto_columns": null,
            "grid_auto_flow": null,
            "grid_auto_rows": null,
            "grid_column": null,
            "grid_gap": null,
            "grid_row": null,
            "grid_template_areas": null,
            "grid_template_columns": null,
            "grid_template_rows": null,
            "height": null,
            "justify_content": null,
            "justify_items": null,
            "left": null,
            "margin": null,
            "max_height": null,
            "max_width": null,
            "min_height": null,
            "min_width": null,
            "object_fit": null,
            "object_position": null,
            "order": null,
            "overflow": null,
            "overflow_x": null,
            "overflow_y": null,
            "padding": null,
            "right": null,
            "top": null,
            "visibility": null,
            "width": null
          }
        },
        "ce2eaebbfbba490a8b19974dc5981c5b": {
          "model_module": "@jupyter-widgets/controls",
          "model_module_version": "1.5.0",
          "model_name": "HBoxModel",
          "state": {
            "_dom_classes": [],
            "_model_module": "@jupyter-widgets/controls",
            "_model_module_version": "1.5.0",
            "_model_name": "HBoxModel",
            "_view_count": null,
            "_view_module": "@jupyter-widgets/controls",
            "_view_module_version": "1.5.0",
            "_view_name": "HBoxView",
            "box_style": "",
            "children": [
              "IPY_MODEL_5140520504464fb38f6c954218a29c17",
              "IPY_MODEL_00ae0fa94baf4399971b42b224b8f9f6",
              "IPY_MODEL_9cf319012c6643dfabcf8f4352c12642"
            ],
            "layout": "IPY_MODEL_e224fdf17d474f938337b4b1ed4f69b8"
          }
        },
        "e224fdf17d474f938337b4b1ed4f69b8": {
          "model_module": "@jupyter-widgets/base",
          "model_module_version": "1.2.0",
          "model_name": "LayoutModel",
          "state": {
            "_model_module": "@jupyter-widgets/base",
            "_model_module_version": "1.2.0",
            "_model_name": "LayoutModel",
            "_view_count": null,
            "_view_module": "@jupyter-widgets/base",
            "_view_module_version": "1.2.0",
            "_view_name": "LayoutView",
            "align_content": null,
            "align_items": null,
            "align_self": null,
            "border": null,
            "bottom": null,
            "display": null,
            "flex": null,
            "flex_flow": null,
            "grid_area": null,
            "grid_auto_columns": null,
            "grid_auto_flow": null,
            "grid_auto_rows": null,
            "grid_column": null,
            "grid_gap": null,
            "grid_row": null,
            "grid_template_areas": null,
            "grid_template_columns": null,
            "grid_template_rows": null,
            "height": null,
            "justify_content": null,
            "justify_items": null,
            "left": null,
            "margin": null,
            "max_height": null,
            "max_width": null,
            "min_height": null,
            "min_width": null,
            "object_fit": null,
            "object_position": null,
            "order": null,
            "overflow": null,
            "overflow_x": null,
            "overflow_y": null,
            "padding": null,
            "right": null,
            "top": null,
            "visibility": null,
            "width": null
          }
        },
        "e9112acabcec4745af8515f10425b625": {
          "model_module": "@jupyter-widgets/controls",
          "model_module_version": "1.5.0",
          "model_name": "DescriptionStyleModel",
          "state": {
            "_model_module": "@jupyter-widgets/controls",
            "_model_module_version": "1.5.0",
            "_model_name": "DescriptionStyleModel",
            "_view_count": null,
            "_view_module": "@jupyter-widgets/base",
            "_view_module_version": "1.2.0",
            "_view_name": "StyleView",
            "description_width": ""
          }
        }
      }
    }
  },
  "nbformat": 4,
  "nbformat_minor": 0
}