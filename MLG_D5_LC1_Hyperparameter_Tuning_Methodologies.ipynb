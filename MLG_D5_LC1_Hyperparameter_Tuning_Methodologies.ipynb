{
  "nbformat": 4,
  "nbformat_minor": 0,
  "metadata": {
    "kernelspec": {
      "name": "python3",
      "display_name": "Python 3",
      "language": "python"
    },
    "language_info": {
      "name": "python",
      "version": "3.6.6",
      "mimetype": "text/x-python",
      "codemirror_mode": {
        "name": "ipython",
        "version": 3
      },
      "pygments_lexer": "ipython3",
      "nbconvert_exporter": "python",
      "file_extension": ".py"
    },
    "colab": {
      "provenance": [],
      "include_colab_link": true
    }
  },
  "cells": [
    {
      "cell_type": "markdown",
      "metadata": {
        "id": "view-in-github",
        "colab_type": "text"
      },
      "source": [
        "<a href=\"https://colab.research.google.com/github/astrapi69/DroidBallet/blob/master/MLG_D5_LC1_Hyperparameter_Tuning_Methodologies.ipynb\" target=\"_parent\"><img src=\"https://colab.research.google.com/assets/colab-badge.svg\" alt=\"Open In Colab\"/></a>"
      ]
    },
    {
      "cell_type": "markdown",
      "metadata": {
        "id": "NEUEZ6cGTmYc"
      },
      "source": [
        "<center><a target=\"_blank\" href=\"https://academy.constructor.org/\"><img src=\"https://jobtracker.ai/static/media/constructor_academy_colour.b86fa87f.png\" width=\"200\" style=\"background:none; border:none; box-shadow:none;\" /></a> </center>\n",
        "\n",
        "_____\n",
        "\n",
        "<center> <h1> Hyperparameter Tuning Methodologies (Live coding) </h1> </center>\n",
        "\n",
        "<p style=\"margin-bottom:1cm;\"></p>\n",
        "\n",
        "_____\n",
        "\n",
        "<center>Constructor Academy, 2024</center>\n",
        "\n",
        "\n"
      ]
    },
    {
      "cell_type": "markdown",
      "source": [
        "# Hyperparameter Tuning Methodologies (Live coding)"
      ],
      "metadata": {
        "id": "gOplNxEcxjta"
      }
    },
    {
      "cell_type": "markdown",
      "source": [
        "\n",
        "## 1. Introduction <a id=\"1\"></a> <br>\n",
        "\n",
        "**Hyperparameter tuning** is choosing a set of optimal hyperparameters for a learning algorithm.\n",
        "\n",
        "**What is a hyperparameter?\n",
        "\n",
        "**A hyperparameter is a parameter whose value is set before the learning process begins.**\n",
        "\n",
        "Some examples of hyperparameters include penalty in logistic regression and loss in stochastic gradient descent.\n",
        "\n",
        "In sklearn, hyperparameters are passed in as arguments to the constructor of the model classes.\n",
        "\n",
        "Hyper-parameters are parameters that are not directly learnt within estimators. In scikit-learn they are passed as arguments to the constructor of the estimator classes. Typical examples include C, kernel and gamma for Support Vector Classifier, alpha for Lasso, etc.\n",
        "\n",
        "It is possible and recommended to search the hyper-parameter space for the best Cross-validation i.e evaluating estimator performance score.\n",
        "\n",
        "Any parameter provided when constructing an estimator may be optimized in this manner. Specifically, to find the names and current values for all parameters for a given estimator, we can use the following method\n",
        "\n",
        "estimator.get_params()\n",
        "\n",
        "A search consists of:\n",
        "\n",
        "* an estimator (regressor or classifier such as sklearn.svm.SVC());\n",
        "* a parameter space;\n",
        "* a method for searching or sampling candidates;\n",
        "* a cross-validation scheme;\n",
        "* a score function.\n",
        "\n",
        "Some models allow for specialized, efficient parameter search strategies, outlined below.\n",
        "\n",
        "Two generic approaches to sampling search candidates are provided in scikit-learn:\n",
        "![](https://developer.qualcomm.com/sites/default/files/attachments/learning_resources_03-05.png)\n",
        "**GridSearchCV** :For given values, GridSearchCV exhaustively considers all parameter combinations. The grid search provided by GridSearchCV exhaustively generates candidates from a grid of parameter values specified with the param_grid parameter.\n",
        "For instance, the following param_grid specifies that it has one grid to be explored that is a linear kernel with alpha values in [0.0002,0.0003,0.0004,0.0005,0.0006,0.0007,0.0009], and 'max_iter' i.e maximum 10000 iterations.\n",
        "\n",
        "param_grid = {'alpha':[0.01,0.001,0.0001,0.0002,0.0003,0.0004,0.0005,0.0006,0.0007,0.0009],'max_iter':[10000]}\n",
        "\n",
        "**RandomizedSearchCV**: It can sample a given number of candidates from a parameter space with a specified distribution.\n",
        "After describing these tools we detail best practice applicable to both approaches.\n",
        "\n",
        "Note that it is common that a small subset of those parameters can have a large impact on the predictive or computation performance of the model while others can be left to their default values. It is recommend to read the docstring of the estimator class to get a finer understanding of their expected behavior.\n",
        "\n",
        "Now lets jump into practice.\n",
        "\n",
        "To perform Hyperparameters Optimization in Python, we will use Credit Card Fraud Detection Dataset.\n",
        "\n",
        "The dataset can be downloaded from [here](https://drive.google.com/file/d/1sEfpj80zNodR8GPQCT_qa8XaQkCbA8RH/view?usp=sharing)"
      ],
      "metadata": {
        "id": "Xfe3KeGIxiCD"
      }
    },
    {
      "cell_type": "code",
      "metadata": {
        "trusted": true,
        "id": "bo1JyOjHTmYd"
      },
      "source": [
        "import pandas as pd\n",
        "from sklearn.preprocessing import StandardScaler\n",
        "from sklearn.model_selection import train_test_split"
      ],
      "execution_count": null,
      "outputs": []
    },
    {
      "cell_type": "markdown",
      "metadata": {
        "id": "CxGmc9zEfWxd"
      },
      "source": [
        "\n",
        "The dataset can be downloaded from [here](https://drive.google.com/file/d/1sEfpj80zNodR8GPQCT_qa8XaQkCbA8RH/view?usp=sharing), add it to your google drive in a folder `MyDrive/Machine Learning/data`."
      ]
    },
    {
      "cell_type": "code",
      "metadata": {
        "colab": {
          "base_uri": "https://localhost:8080/"
        },
        "id": "HCI50HIynCMz",
        "outputId": "7e43d3e2-c75b-4cba-c506-02533516089c"
      },
      "source": [
        "# from google.colab import drive\n",
        "# drive.mount('/gdrive')"
      ],
      "execution_count": null,
      "outputs": [
        {
          "output_type": "stream",
          "text": [
            "Mounted at /gdrive\n"
          ],
          "name": "stdout"
        }
      ]
    },
    {
      "cell_type": "code",
      "metadata": {
        "id": "HsSLm9QknA_2"
      },
      "source": [
        "# data_path=\"/gdrive/MyDrive/Machine Learning/data\"\n",
        "# df = pd.read_csv(f'{data_path}/creditcard.csv',na_values = '#NAME?')"
      ],
      "execution_count": null,
      "outputs": []
    },
    {
      "cell_type": "markdown",
      "metadata": {
        "id": "2SskeCqViOGx"
      },
      "source": [
        "For big files we could load the data using below command with replacing `FILEID` and `FILENAME`.<br>\n",
        "`wget --load-cookies /tmp/cookies.txt \"https://docs.google.com/uc?export=download&confirm=$(wget --quiet --save-cookies /tmp/cookies.txt --keep-session-cookies --no-check-certificate 'https://docs.google.com/uc?export=download&id=FILEID' -O- | sed -rn 's/.*confirm=([0-9A-Za-z_]+).*/\\1\\n/p')&id=FILEID\" -O FILENAME && rm -rf /tmp/cookies.txt`\n"
      ]
    },
    {
      "cell_type": "code",
      "metadata": {
        "id": "1x8R7ndZeGJB",
        "colab": {
          "base_uri": "https://localhost:8080/",
          "height": 35
        },
        "outputId": "b79c668b-a07e-4862-d3a0-ca27b0f690a8"
      },
      "source": [
        "link = 'https://drive.google.com/file/d/1sEfpj80zNodR8GPQCT_qa8XaQkCbA8RH/view?usp=sharing' #public access link for data\n",
        "file_id = link.split(\"/\")[-2]\n",
        "file_id"
      ],
      "execution_count": null,
      "outputs": [
        {
          "output_type": "execute_result",
          "data": {
            "text/plain": [
              "'1sEfpj80zNodR8GPQCT_qa8XaQkCbA8RH'"
            ],
            "application/vnd.google.colaboratory.intrinsic+json": {
              "type": "string"
            }
          },
          "metadata": {},
          "execution_count": 2
        }
      ]
    },
    {
      "cell_type": "code",
      "metadata": {
        "colab": {
          "base_uri": "https://localhost:8080/"
        },
        "id": "maWn-6ojh2St",
        "outputId": "e2539c74-a77b-4697-e96a-adbb300da6bf"
      },
      "source": [
        "!wget --load-cookies /tmp/cookies.txt \"https://docs.google.com/uc?export=download&confirm=$(wget --quiet --save-cookies /tmp/cookies.txt --keep-session-cookies --no-check-certificate 'https://docs.google.com/uc?export=download&id=1sEfpj80zNodR8GPQCT_qa8XaQkCbA8RH' -O- | sed -rn 's/.*confirm=([0-9A-Za-z_]+).*/\\1\\n/p')&id=1sEfpj80zNodR8GPQCT_qa8XaQkCbA8RH\" -O 'creditcard.csv' && rm -rf /tmp/cookies.txt"
      ],
      "execution_count": null,
      "outputs": [
        {
          "output_type": "stream",
          "name": "stdout",
          "text": [
            "--2023-12-15 08:54:56--  https://docs.google.com/uc?export=download&confirm=t&id=1sEfpj80zNodR8GPQCT_qa8XaQkCbA8RH\n",
            "Resolving docs.google.com (docs.google.com)... 64.233.183.138, 64.233.183.113, 64.233.183.102, ...\n",
            "Connecting to docs.google.com (docs.google.com)|64.233.183.138|:443... connected.\n",
            "HTTP request sent, awaiting response... 303 See Other\n",
            "Location: https://doc-0c-0k-docs.googleusercontent.com/docs/securesc/ha0ro937gcuc7l7deffksulhg5h7mbp1/rpanp957luoc2q0khj2eaiqjajemnk3f/1702630425000/15699573888146190962/*/1sEfpj80zNodR8GPQCT_qa8XaQkCbA8RH?e=download&uuid=ba7f6be6-4e38-4cd5-a736-5da170d935d1 [following]\n",
            "Warning: wildcards not supported in HTTP.\n",
            "--2023-12-15 08:54:56--  https://doc-0c-0k-docs.googleusercontent.com/docs/securesc/ha0ro937gcuc7l7deffksulhg5h7mbp1/rpanp957luoc2q0khj2eaiqjajemnk3f/1702630425000/15699573888146190962/*/1sEfpj80zNodR8GPQCT_qa8XaQkCbA8RH?e=download&uuid=ba7f6be6-4e38-4cd5-a736-5da170d935d1\n",
            "Resolving doc-0c-0k-docs.googleusercontent.com (doc-0c-0k-docs.googleusercontent.com)... 108.177.120.132, 2607:f8b0:4001:c18::84\n",
            "Connecting to doc-0c-0k-docs.googleusercontent.com (doc-0c-0k-docs.googleusercontent.com)|108.177.120.132|:443... connected.\n",
            "HTTP request sent, awaiting response... 200 OK\n",
            "Length: 150828752 (144M) [text/csv]\n",
            "Saving to: ‘creditcard.csv’\n",
            "\n",
            "creditcard.csv      100%[===================>] 143.84M  69.0MB/s    in 2.1s    \n",
            "\n",
            "2023-12-15 08:54:58 (69.0 MB/s) - ‘creditcard.csv’ saved [150828752/150828752]\n",
            "\n"
          ]
        }
      ]
    },
    {
      "cell_type": "code",
      "metadata": {
        "id": "OVuJ9bMnh6oi",
        "colab": {
          "base_uri": "https://localhost:8080/"
        },
        "outputId": "7ab015cc-903c-4276-98ec-d6d208f284c7"
      },
      "source": [
        "df = pd.read_csv('creditcard.csv',na_values = '#NAME?')\n",
        "df.shape"
      ],
      "execution_count": null,
      "outputs": [
        {
          "output_type": "execute_result",
          "data": {
            "text/plain": [
              "(284807, 31)"
            ]
          },
          "metadata": {},
          "execution_count": 4
        }
      ]
    },
    {
      "cell_type": "code",
      "source": [
        "df.Class.value_counts()"
      ],
      "metadata": {
        "colab": {
          "base_uri": "https://localhost:8080/"
        },
        "id": "KJgZeqHnmUmR",
        "outputId": "e2de06ae-e94e-465d-f87e-8eec430f57d2"
      },
      "execution_count": null,
      "outputs": [
        {
          "output_type": "execute_result",
          "data": {
            "text/plain": [
              "0    284315\n",
              "1       492\n",
              "Name: Class, dtype: int64"
            ]
          },
          "metadata": {},
          "execution_count": 5
        }
      ]
    },
    {
      "cell_type": "code",
      "metadata": {
        "id": "dWaUfiNBMaSZ"
      },
      "source": [
        "df_0 = df[df.Class == 0].sample(n=8000, random_state=999) # select randomly 8000 non fraudulent transaction rows\n",
        "df_1 = df[df.Class == 1].sample(n=80, random_state=999) # select randomly 80 fraudulent transaction rows\n",
        "df = pd.concat([df_0, df_1], ignore_index=True)"
      ],
      "execution_count": null,
      "outputs": []
    },
    {
      "cell_type": "code",
      "source": [
        "df.shape"
      ],
      "metadata": {
        "colab": {
          "base_uri": "https://localhost:8080/"
        },
        "id": "tMoCYHd6IyFr",
        "outputId": "8b18dac9-433c-4fec-d4fa-f50fdede24cf"
      },
      "execution_count": null,
      "outputs": [
        {
          "output_type": "execute_result",
          "data": {
            "text/plain": [
              "(8080, 31)"
            ]
          },
          "metadata": {},
          "execution_count": 7
        }
      ]
    },
    {
      "cell_type": "code",
      "metadata": {
        "trusted": true,
        "id": "UFEKxTi-TmYd"
      },
      "source": [
        "X = df.drop(columns='Class')\n",
        "#X.columns = ['transaction_rate', 'amount', 'days_since_last_transaction', 'hour']\n",
        "Y = df['Class']"
      ],
      "execution_count": null,
      "outputs": []
    },
    {
      "cell_type": "code",
      "metadata": {
        "colab": {
          "base_uri": "https://localhost:8080/",
          "height": 255
        },
        "id": "Uiz1KlKzoGBU",
        "outputId": "d7cab3c0-9487-4b97-b01f-cbd111253161"
      },
      "source": [
        "X.head()"
      ],
      "execution_count": null,
      "outputs": [
        {
          "output_type": "execute_result",
          "data": {
            "text/plain": [
              "       Time        V1        V2        V3        V4        V5        V6  \\\n",
              "0   85563.0 -2.101793 -1.319715  1.666445 -2.277249 -0.756431 -0.463003   \n",
              "1   41688.0  0.586683 -0.922169  0.533519  1.402979 -0.580172  0.838403   \n",
              "2   44881.0 -0.718815  1.150030  0.987635  0.553702  0.080471  0.728115   \n",
              "3  119711.0  1.707167 -1.372546 -2.076366 -1.731858  1.453493  3.507479   \n",
              "4   33924.0 -0.884826  0.745981  1.967062 -0.356323  0.139664  0.909589   \n",
              "\n",
              "         V7        V8        V9  ...       V20       V21       V22       V23  \\\n",
              "0 -1.247058  0.681235 -2.461398  ... -0.138556  0.114293  0.414879 -0.070529   \n",
              "1 -0.128986  0.227051  0.513178  ...  0.418535  0.183667  0.252728 -0.380845   \n",
              "2  0.688676 -0.016909 -0.338821  ... -0.030013  0.233130  0.883804 -0.351194   \n",
              "3 -0.962745  0.915780  1.304930  ...  0.256385 -0.074749 -0.600467  0.301127   \n",
              "4  0.135413  0.195846  0.630394  ...  0.336394 -0.163673 -0.041402 -0.368921   \n",
              "\n",
              "        V24       V25       V26       V27       V28  Amount  \n",
              "0  0.008534  0.373403 -0.170413  0.075017  0.027026   52.00  \n",
              "1 -0.239640  0.538160 -0.274996  0.023832  0.058588  277.22  \n",
              "2 -0.801294 -0.254959 -0.263018 -0.608508 -0.397528   77.30  \n",
              "3  0.722943 -0.666974  0.336647 -0.051282 -0.022926  175.00  \n",
              "4 -0.933949  0.081282  0.339777  0.135426  0.000846   11.50  \n",
              "\n",
              "[5 rows x 30 columns]"
            ],
            "text/html": [
              "\n",
              "  <div id=\"df-2f995de7-a914-4448-8ae3-61bf41a07f40\" class=\"colab-df-container\">\n",
              "    <div>\n",
              "<style scoped>\n",
              "    .dataframe tbody tr th:only-of-type {\n",
              "        vertical-align: middle;\n",
              "    }\n",
              "\n",
              "    .dataframe tbody tr th {\n",
              "        vertical-align: top;\n",
              "    }\n",
              "\n",
              "    .dataframe thead th {\n",
              "        text-align: right;\n",
              "    }\n",
              "</style>\n",
              "<table border=\"1\" class=\"dataframe\">\n",
              "  <thead>\n",
              "    <tr style=\"text-align: right;\">\n",
              "      <th></th>\n",
              "      <th>Time</th>\n",
              "      <th>V1</th>\n",
              "      <th>V2</th>\n",
              "      <th>V3</th>\n",
              "      <th>V4</th>\n",
              "      <th>V5</th>\n",
              "      <th>V6</th>\n",
              "      <th>V7</th>\n",
              "      <th>V8</th>\n",
              "      <th>V9</th>\n",
              "      <th>...</th>\n",
              "      <th>V20</th>\n",
              "      <th>V21</th>\n",
              "      <th>V22</th>\n",
              "      <th>V23</th>\n",
              "      <th>V24</th>\n",
              "      <th>V25</th>\n",
              "      <th>V26</th>\n",
              "      <th>V27</th>\n",
              "      <th>V28</th>\n",
              "      <th>Amount</th>\n",
              "    </tr>\n",
              "  </thead>\n",
              "  <tbody>\n",
              "    <tr>\n",
              "      <th>0</th>\n",
              "      <td>85563.0</td>\n",
              "      <td>-2.101793</td>\n",
              "      <td>-1.319715</td>\n",
              "      <td>1.666445</td>\n",
              "      <td>-2.277249</td>\n",
              "      <td>-0.756431</td>\n",
              "      <td>-0.463003</td>\n",
              "      <td>-1.247058</td>\n",
              "      <td>0.681235</td>\n",
              "      <td>-2.461398</td>\n",
              "      <td>...</td>\n",
              "      <td>-0.138556</td>\n",
              "      <td>0.114293</td>\n",
              "      <td>0.414879</td>\n",
              "      <td>-0.070529</td>\n",
              "      <td>0.008534</td>\n",
              "      <td>0.373403</td>\n",
              "      <td>-0.170413</td>\n",
              "      <td>0.075017</td>\n",
              "      <td>0.027026</td>\n",
              "      <td>52.00</td>\n",
              "    </tr>\n",
              "    <tr>\n",
              "      <th>1</th>\n",
              "      <td>41688.0</td>\n",
              "      <td>0.586683</td>\n",
              "      <td>-0.922169</td>\n",
              "      <td>0.533519</td>\n",
              "      <td>1.402979</td>\n",
              "      <td>-0.580172</td>\n",
              "      <td>0.838403</td>\n",
              "      <td>-0.128986</td>\n",
              "      <td>0.227051</td>\n",
              "      <td>0.513178</td>\n",
              "      <td>...</td>\n",
              "      <td>0.418535</td>\n",
              "      <td>0.183667</td>\n",
              "      <td>0.252728</td>\n",
              "      <td>-0.380845</td>\n",
              "      <td>-0.239640</td>\n",
              "      <td>0.538160</td>\n",
              "      <td>-0.274996</td>\n",
              "      <td>0.023832</td>\n",
              "      <td>0.058588</td>\n",
              "      <td>277.22</td>\n",
              "    </tr>\n",
              "    <tr>\n",
              "      <th>2</th>\n",
              "      <td>44881.0</td>\n",
              "      <td>-0.718815</td>\n",
              "      <td>1.150030</td>\n",
              "      <td>0.987635</td>\n",
              "      <td>0.553702</td>\n",
              "      <td>0.080471</td>\n",
              "      <td>0.728115</td>\n",
              "      <td>0.688676</td>\n",
              "      <td>-0.016909</td>\n",
              "      <td>-0.338821</td>\n",
              "      <td>...</td>\n",
              "      <td>-0.030013</td>\n",
              "      <td>0.233130</td>\n",
              "      <td>0.883804</td>\n",
              "      <td>-0.351194</td>\n",
              "      <td>-0.801294</td>\n",
              "      <td>-0.254959</td>\n",
              "      <td>-0.263018</td>\n",
              "      <td>-0.608508</td>\n",
              "      <td>-0.397528</td>\n",
              "      <td>77.30</td>\n",
              "    </tr>\n",
              "    <tr>\n",
              "      <th>3</th>\n",
              "      <td>119711.0</td>\n",
              "      <td>1.707167</td>\n",
              "      <td>-1.372546</td>\n",
              "      <td>-2.076366</td>\n",
              "      <td>-1.731858</td>\n",
              "      <td>1.453493</td>\n",
              "      <td>3.507479</td>\n",
              "      <td>-0.962745</td>\n",
              "      <td>0.915780</td>\n",
              "      <td>1.304930</td>\n",
              "      <td>...</td>\n",
              "      <td>0.256385</td>\n",
              "      <td>-0.074749</td>\n",
              "      <td>-0.600467</td>\n",
              "      <td>0.301127</td>\n",
              "      <td>0.722943</td>\n",
              "      <td>-0.666974</td>\n",
              "      <td>0.336647</td>\n",
              "      <td>-0.051282</td>\n",
              "      <td>-0.022926</td>\n",
              "      <td>175.00</td>\n",
              "    </tr>\n",
              "    <tr>\n",
              "      <th>4</th>\n",
              "      <td>33924.0</td>\n",
              "      <td>-0.884826</td>\n",
              "      <td>0.745981</td>\n",
              "      <td>1.967062</td>\n",
              "      <td>-0.356323</td>\n",
              "      <td>0.139664</td>\n",
              "      <td>0.909589</td>\n",
              "      <td>0.135413</td>\n",
              "      <td>0.195846</td>\n",
              "      <td>0.630394</td>\n",
              "      <td>...</td>\n",
              "      <td>0.336394</td>\n",
              "      <td>-0.163673</td>\n",
              "      <td>-0.041402</td>\n",
              "      <td>-0.368921</td>\n",
              "      <td>-0.933949</td>\n",
              "      <td>0.081282</td>\n",
              "      <td>0.339777</td>\n",
              "      <td>0.135426</td>\n",
              "      <td>0.000846</td>\n",
              "      <td>11.50</td>\n",
              "    </tr>\n",
              "  </tbody>\n",
              "</table>\n",
              "<p>5 rows × 30 columns</p>\n",
              "</div>\n",
              "    <div class=\"colab-df-buttons\">\n",
              "\n",
              "  <div class=\"colab-df-container\">\n",
              "    <button class=\"colab-df-convert\" onclick=\"convertToInteractive('df-2f995de7-a914-4448-8ae3-61bf41a07f40')\"\n",
              "            title=\"Convert this dataframe to an interactive table.\"\n",
              "            style=\"display:none;\">\n",
              "\n",
              "  <svg xmlns=\"http://www.w3.org/2000/svg\" height=\"24px\" viewBox=\"0 -960 960 960\">\n",
              "    <path d=\"M120-120v-720h720v720H120Zm60-500h600v-160H180v160Zm220 220h160v-160H400v160Zm0 220h160v-160H400v160ZM180-400h160v-160H180v160Zm440 0h160v-160H620v160ZM180-180h160v-160H180v160Zm440 0h160v-160H620v160Z\"/>\n",
              "  </svg>\n",
              "    </button>\n",
              "\n",
              "  <style>\n",
              "    .colab-df-container {\n",
              "      display:flex;\n",
              "      gap: 12px;\n",
              "    }\n",
              "\n",
              "    .colab-df-convert {\n",
              "      background-color: #E8F0FE;\n",
              "      border: none;\n",
              "      border-radius: 50%;\n",
              "      cursor: pointer;\n",
              "      display: none;\n",
              "      fill: #1967D2;\n",
              "      height: 32px;\n",
              "      padding: 0 0 0 0;\n",
              "      width: 32px;\n",
              "    }\n",
              "\n",
              "    .colab-df-convert:hover {\n",
              "      background-color: #E2EBFA;\n",
              "      box-shadow: 0px 1px 2px rgba(60, 64, 67, 0.3), 0px 1px 3px 1px rgba(60, 64, 67, 0.15);\n",
              "      fill: #174EA6;\n",
              "    }\n",
              "\n",
              "    .colab-df-buttons div {\n",
              "      margin-bottom: 4px;\n",
              "    }\n",
              "\n",
              "    [theme=dark] .colab-df-convert {\n",
              "      background-color: #3B4455;\n",
              "      fill: #D2E3FC;\n",
              "    }\n",
              "\n",
              "    [theme=dark] .colab-df-convert:hover {\n",
              "      background-color: #434B5C;\n",
              "      box-shadow: 0px 1px 3px 1px rgba(0, 0, 0, 0.15);\n",
              "      filter: drop-shadow(0px 1px 2px rgba(0, 0, 0, 0.3));\n",
              "      fill: #FFFFFF;\n",
              "    }\n",
              "  </style>\n",
              "\n",
              "    <script>\n",
              "      const buttonEl =\n",
              "        document.querySelector('#df-2f995de7-a914-4448-8ae3-61bf41a07f40 button.colab-df-convert');\n",
              "      buttonEl.style.display =\n",
              "        google.colab.kernel.accessAllowed ? 'block' : 'none';\n",
              "\n",
              "      async function convertToInteractive(key) {\n",
              "        const element = document.querySelector('#df-2f995de7-a914-4448-8ae3-61bf41a07f40');\n",
              "        const dataTable =\n",
              "          await google.colab.kernel.invokeFunction('convertToInteractive',\n",
              "                                                    [key], {});\n",
              "        if (!dataTable) return;\n",
              "\n",
              "        const docLinkHtml = 'Like what you see? Visit the ' +\n",
              "          '<a target=\"_blank\" href=https://colab.research.google.com/notebooks/data_table.ipynb>data table notebook</a>'\n",
              "          + ' to learn more about interactive tables.';\n",
              "        element.innerHTML = '';\n",
              "        dataTable['output_type'] = 'display_data';\n",
              "        await google.colab.output.renderOutput(dataTable, element);\n",
              "        const docLink = document.createElement('div');\n",
              "        docLink.innerHTML = docLinkHtml;\n",
              "        element.appendChild(docLink);\n",
              "      }\n",
              "    </script>\n",
              "  </div>\n",
              "\n",
              "\n",
              "<div id=\"df-1eb291e6-b9af-4ce1-b23a-bdbe720fc3ef\">\n",
              "  <button class=\"colab-df-quickchart\" onclick=\"quickchart('df-1eb291e6-b9af-4ce1-b23a-bdbe720fc3ef')\"\n",
              "            title=\"Suggest charts\"\n",
              "            style=\"display:none;\">\n",
              "\n",
              "<svg xmlns=\"http://www.w3.org/2000/svg\" height=\"24px\"viewBox=\"0 0 24 24\"\n",
              "     width=\"24px\">\n",
              "    <g>\n",
              "        <path d=\"M19 3H5c-1.1 0-2 .9-2 2v14c0 1.1.9 2 2 2h14c1.1 0 2-.9 2-2V5c0-1.1-.9-2-2-2zM9 17H7v-7h2v7zm4 0h-2V7h2v10zm4 0h-2v-4h2v4z\"/>\n",
              "    </g>\n",
              "</svg>\n",
              "  </button>\n",
              "\n",
              "<style>\n",
              "  .colab-df-quickchart {\n",
              "      --bg-color: #E8F0FE;\n",
              "      --fill-color: #1967D2;\n",
              "      --hover-bg-color: #E2EBFA;\n",
              "      --hover-fill-color: #174EA6;\n",
              "      --disabled-fill-color: #AAA;\n",
              "      --disabled-bg-color: #DDD;\n",
              "  }\n",
              "\n",
              "  [theme=dark] .colab-df-quickchart {\n",
              "      --bg-color: #3B4455;\n",
              "      --fill-color: #D2E3FC;\n",
              "      --hover-bg-color: #434B5C;\n",
              "      --hover-fill-color: #FFFFFF;\n",
              "      --disabled-bg-color: #3B4455;\n",
              "      --disabled-fill-color: #666;\n",
              "  }\n",
              "\n",
              "  .colab-df-quickchart {\n",
              "    background-color: var(--bg-color);\n",
              "    border: none;\n",
              "    border-radius: 50%;\n",
              "    cursor: pointer;\n",
              "    display: none;\n",
              "    fill: var(--fill-color);\n",
              "    height: 32px;\n",
              "    padding: 0;\n",
              "    width: 32px;\n",
              "  }\n",
              "\n",
              "  .colab-df-quickchart:hover {\n",
              "    background-color: var(--hover-bg-color);\n",
              "    box-shadow: 0 1px 2px rgba(60, 64, 67, 0.3), 0 1px 3px 1px rgba(60, 64, 67, 0.15);\n",
              "    fill: var(--button-hover-fill-color);\n",
              "  }\n",
              "\n",
              "  .colab-df-quickchart-complete:disabled,\n",
              "  .colab-df-quickchart-complete:disabled:hover {\n",
              "    background-color: var(--disabled-bg-color);\n",
              "    fill: var(--disabled-fill-color);\n",
              "    box-shadow: none;\n",
              "  }\n",
              "\n",
              "  .colab-df-spinner {\n",
              "    border: 2px solid var(--fill-color);\n",
              "    border-color: transparent;\n",
              "    border-bottom-color: var(--fill-color);\n",
              "    animation:\n",
              "      spin 1s steps(1) infinite;\n",
              "  }\n",
              "\n",
              "  @keyframes spin {\n",
              "    0% {\n",
              "      border-color: transparent;\n",
              "      border-bottom-color: var(--fill-color);\n",
              "      border-left-color: var(--fill-color);\n",
              "    }\n",
              "    20% {\n",
              "      border-color: transparent;\n",
              "      border-left-color: var(--fill-color);\n",
              "      border-top-color: var(--fill-color);\n",
              "    }\n",
              "    30% {\n",
              "      border-color: transparent;\n",
              "      border-left-color: var(--fill-color);\n",
              "      border-top-color: var(--fill-color);\n",
              "      border-right-color: var(--fill-color);\n",
              "    }\n",
              "    40% {\n",
              "      border-color: transparent;\n",
              "      border-right-color: var(--fill-color);\n",
              "      border-top-color: var(--fill-color);\n",
              "    }\n",
              "    60% {\n",
              "      border-color: transparent;\n",
              "      border-right-color: var(--fill-color);\n",
              "    }\n",
              "    80% {\n",
              "      border-color: transparent;\n",
              "      border-right-color: var(--fill-color);\n",
              "      border-bottom-color: var(--fill-color);\n",
              "    }\n",
              "    90% {\n",
              "      border-color: transparent;\n",
              "      border-bottom-color: var(--fill-color);\n",
              "    }\n",
              "  }\n",
              "</style>\n",
              "\n",
              "  <script>\n",
              "    async function quickchart(key) {\n",
              "      const quickchartButtonEl =\n",
              "        document.querySelector('#' + key + ' button');\n",
              "      quickchartButtonEl.disabled = true;  // To prevent multiple clicks.\n",
              "      quickchartButtonEl.classList.add('colab-df-spinner');\n",
              "      try {\n",
              "        const charts = await google.colab.kernel.invokeFunction(\n",
              "            'suggestCharts', [key], {});\n",
              "      } catch (error) {\n",
              "        console.error('Error during call to suggestCharts:', error);\n",
              "      }\n",
              "      quickchartButtonEl.classList.remove('colab-df-spinner');\n",
              "      quickchartButtonEl.classList.add('colab-df-quickchart-complete');\n",
              "    }\n",
              "    (() => {\n",
              "      let quickchartButtonEl =\n",
              "        document.querySelector('#df-1eb291e6-b9af-4ce1-b23a-bdbe720fc3ef button');\n",
              "      quickchartButtonEl.style.display =\n",
              "        google.colab.kernel.accessAllowed ? 'block' : 'none';\n",
              "    })();\n",
              "  </script>\n",
              "</div>\n",
              "    </div>\n",
              "  </div>\n"
            ]
          },
          "metadata": {},
          "execution_count": 9
        }
      ]
    },
    {
      "cell_type": "code",
      "metadata": {
        "colab": {
          "base_uri": "https://localhost:8080/"
        },
        "id": "qVU_x0jPoIZo",
        "outputId": "d923a74c-bc6d-4299-8d27-a22a340b4164"
      },
      "source": [
        "Y.head()"
      ],
      "execution_count": null,
      "outputs": [
        {
          "output_type": "execute_result",
          "data": {
            "text/plain": [
              "0    0\n",
              "1    0\n",
              "2    0\n",
              "3    0\n",
              "4    0\n",
              "Name: Class, dtype: int64"
            ]
          },
          "metadata": {},
          "execution_count": 10
        }
      ]
    },
    {
      "cell_type": "code",
      "source": [
        "Y.value_counts()"
      ],
      "metadata": {
        "colab": {
          "base_uri": "https://localhost:8080/"
        },
        "id": "-XFLMEWgJMBL",
        "outputId": "58a2224f-1983-49ec-e447-a9a26e795060"
      },
      "execution_count": null,
      "outputs": [
        {
          "output_type": "execute_result",
          "data": {
            "text/plain": [
              "0    8000\n",
              "1      80\n",
              "Name: Class, dtype: int64"
            ]
          },
          "metadata": {},
          "execution_count": 11
        }
      ]
    },
    {
      "cell_type": "code",
      "metadata": {
        "trusted": true,
        "id": "lCtCYgEKTmYe"
      },
      "source": [
        "X_Train, X_Test, Y_Train, Y_Test = train_test_split(X, Y, test_size=0.3, random_state=42)"
      ],
      "execution_count": null,
      "outputs": []
    },
    {
      "cell_type": "code",
      "metadata": {
        "colab": {
          "base_uri": "https://localhost:8080/"
        },
        "id": "eSCA7LBFoXzg",
        "outputId": "c028e39c-848b-4633-b479-231e2ebab3e4"
      },
      "source": [
        "X_Train.shape"
      ],
      "execution_count": null,
      "outputs": [
        {
          "output_type": "execute_result",
          "data": {
            "text/plain": [
              "(5656, 30)"
            ]
          },
          "metadata": {},
          "execution_count": 13
        }
      ]
    },
    {
      "cell_type": "code",
      "metadata": {
        "colab": {
          "base_uri": "https://localhost:8080/"
        },
        "id": "C2r4jU6UH_vF",
        "outputId": "e12ee7ca-e410-4401-ac89-89781c0788d6"
      },
      "source": [
        "Y_Train.value_counts()"
      ],
      "execution_count": null,
      "outputs": [
        {
          "output_type": "execute_result",
          "data": {
            "text/plain": [
              "0    5597\n",
              "1      59\n",
              "Name: Class, dtype: int64"
            ]
          },
          "metadata": {},
          "execution_count": 14
        }
      ]
    },
    {
      "cell_type": "markdown",
      "metadata": {
        "id": "0DSSVuBOTmYe"
      },
      "source": [
        "## 2. Manual Search (not recommended) <a id=\"2\"></a> <br>\n",
        "We will use a Random Forest Classifier as our model to optimize.Random Forest models are formed by a large number of uncorrelated decision trees, which joint together constitute an ensemble. In Random Forest, each decision tree makes its own prediction and the overall model output is selected to be the prediction which appeared most frequently.\n",
        "\n",
        "We can now start by calculating our base model accuracy."
      ]
    },
    {
      "cell_type": "code",
      "metadata": {
        "trusted": true,
        "colab": {
          "base_uri": "https://localhost:8080/"
        },
        "id": "rudIUokQTmYe",
        "outputId": "52a357cc-40f0-4812-e124-255d04daea39"
      },
      "source": [
        "from sklearn.metrics import classification_report,confusion_matrix\n",
        "from sklearn.ensemble import RandomForestClassifier\n",
        "\n",
        "model = RandomForestClassifier(random_state=42).fit(X_Train, Y_Train)\n",
        "predictionforest = model.predict(X_Test)\n",
        "\n",
        "print(confusion_matrix(Y_Test, predictionforest))\n",
        "print(classification_report(Y_Test, predictionforest))"
      ],
      "execution_count": null,
      "outputs": [
        {
          "output_type": "stream",
          "name": "stdout",
          "text": [
            "[[2401    2]\n",
            " [   2   19]]\n",
            "              precision    recall  f1-score   support\n",
            "\n",
            "           0       1.00      1.00      1.00      2403\n",
            "           1       0.90      0.90      0.90        21\n",
            "\n",
            "    accuracy                           1.00      2424\n",
            "   macro avg       0.95      0.95      0.95      2424\n",
            "weighted avg       1.00      1.00      1.00      2424\n",
            "\n"
          ]
        }
      ]
    },
    {
      "cell_type": "code",
      "metadata": {
        "colab": {
          "base_uri": "https://localhost:8080/",
          "height": 74
        },
        "id": "4O1Vqg38omz_",
        "outputId": "5759290b-3135-4ba0-da29-5541dcadfe8b"
      },
      "source": [
        "model"
      ],
      "execution_count": null,
      "outputs": [
        {
          "output_type": "execute_result",
          "data": {
            "text/plain": [
              "RandomForestClassifier(random_state=42)"
            ],
            "text/html": [
              "<style>#sk-container-id-1 {color: black;background-color: white;}#sk-container-id-1 pre{padding: 0;}#sk-container-id-1 div.sk-toggleable {background-color: white;}#sk-container-id-1 label.sk-toggleable__label {cursor: pointer;display: block;width: 100%;margin-bottom: 0;padding: 0.3em;box-sizing: border-box;text-align: center;}#sk-container-id-1 label.sk-toggleable__label-arrow:before {content: \"▸\";float: left;margin-right: 0.25em;color: #696969;}#sk-container-id-1 label.sk-toggleable__label-arrow:hover:before {color: black;}#sk-container-id-1 div.sk-estimator:hover label.sk-toggleable__label-arrow:before {color: black;}#sk-container-id-1 div.sk-toggleable__content {max-height: 0;max-width: 0;overflow: hidden;text-align: left;background-color: #f0f8ff;}#sk-container-id-1 div.sk-toggleable__content pre {margin: 0.2em;color: black;border-radius: 0.25em;background-color: #f0f8ff;}#sk-container-id-1 input.sk-toggleable__control:checked~div.sk-toggleable__content {max-height: 200px;max-width: 100%;overflow: auto;}#sk-container-id-1 input.sk-toggleable__control:checked~label.sk-toggleable__label-arrow:before {content: \"▾\";}#sk-container-id-1 div.sk-estimator input.sk-toggleable__control:checked~label.sk-toggleable__label {background-color: #d4ebff;}#sk-container-id-1 div.sk-label input.sk-toggleable__control:checked~label.sk-toggleable__label {background-color: #d4ebff;}#sk-container-id-1 input.sk-hidden--visually {border: 0;clip: rect(1px 1px 1px 1px);clip: rect(1px, 1px, 1px, 1px);height: 1px;margin: -1px;overflow: hidden;padding: 0;position: absolute;width: 1px;}#sk-container-id-1 div.sk-estimator {font-family: monospace;background-color: #f0f8ff;border: 1px dotted black;border-radius: 0.25em;box-sizing: border-box;margin-bottom: 0.5em;}#sk-container-id-1 div.sk-estimator:hover {background-color: #d4ebff;}#sk-container-id-1 div.sk-parallel-item::after {content: \"\";width: 100%;border-bottom: 1px solid gray;flex-grow: 1;}#sk-container-id-1 div.sk-label:hover label.sk-toggleable__label {background-color: #d4ebff;}#sk-container-id-1 div.sk-serial::before {content: \"\";position: absolute;border-left: 1px solid gray;box-sizing: border-box;top: 0;bottom: 0;left: 50%;z-index: 0;}#sk-container-id-1 div.sk-serial {display: flex;flex-direction: column;align-items: center;background-color: white;padding-right: 0.2em;padding-left: 0.2em;position: relative;}#sk-container-id-1 div.sk-item {position: relative;z-index: 1;}#sk-container-id-1 div.sk-parallel {display: flex;align-items: stretch;justify-content: center;background-color: white;position: relative;}#sk-container-id-1 div.sk-item::before, #sk-container-id-1 div.sk-parallel-item::before {content: \"\";position: absolute;border-left: 1px solid gray;box-sizing: border-box;top: 0;bottom: 0;left: 50%;z-index: -1;}#sk-container-id-1 div.sk-parallel-item {display: flex;flex-direction: column;z-index: 1;position: relative;background-color: white;}#sk-container-id-1 div.sk-parallel-item:first-child::after {align-self: flex-end;width: 50%;}#sk-container-id-1 div.sk-parallel-item:last-child::after {align-self: flex-start;width: 50%;}#sk-container-id-1 div.sk-parallel-item:only-child::after {width: 0;}#sk-container-id-1 div.sk-dashed-wrapped {border: 1px dashed gray;margin: 0 0.4em 0.5em 0.4em;box-sizing: border-box;padding-bottom: 0.4em;background-color: white;}#sk-container-id-1 div.sk-label label {font-family: monospace;font-weight: bold;display: inline-block;line-height: 1.2em;}#sk-container-id-1 div.sk-label-container {text-align: center;}#sk-container-id-1 div.sk-container {/* jupyter's `normalize.less` sets `[hidden] { display: none; }` but bootstrap.min.css set `[hidden] { display: none !important; }` so we also need the `!important` here to be able to override the default hidden behavior on the sphinx rendered scikit-learn.org. See: https://github.com/scikit-learn/scikit-learn/issues/21755 */display: inline-block !important;position: relative;}#sk-container-id-1 div.sk-text-repr-fallback {display: none;}</style><div id=\"sk-container-id-1\" class=\"sk-top-container\"><div class=\"sk-text-repr-fallback\"><pre>RandomForestClassifier(random_state=42)</pre><b>In a Jupyter environment, please rerun this cell to show the HTML representation or trust the notebook. <br />On GitHub, the HTML representation is unable to render, please try loading this page with nbviewer.org.</b></div><div class=\"sk-container\" hidden><div class=\"sk-item\"><div class=\"sk-estimator sk-toggleable\"><input class=\"sk-toggleable__control sk-hidden--visually\" id=\"sk-estimator-id-1\" type=\"checkbox\" checked><label for=\"sk-estimator-id-1\" class=\"sk-toggleable__label sk-toggleable__label-arrow\">RandomForestClassifier</label><div class=\"sk-toggleable__content\"><pre>RandomForestClassifier(random_state=42)</pre></div></div></div></div></div>"
            ]
          },
          "metadata": {},
          "execution_count": 16
        }
      ]
    },
    {
      "cell_type": "code",
      "source": [
        "model.get_params()"
      ],
      "metadata": {
        "colab": {
          "base_uri": "https://localhost:8080/"
        },
        "id": "WZGGZjByJc6o",
        "outputId": "11d1ab11-463b-45e8-c0a9-962c119b1e8e"
      },
      "execution_count": null,
      "outputs": [
        {
          "output_type": "execute_result",
          "data": {
            "text/plain": [
              "{'bootstrap': True,\n",
              " 'ccp_alpha': 0.0,\n",
              " 'class_weight': None,\n",
              " 'criterion': 'gini',\n",
              " 'max_depth': None,\n",
              " 'max_features': 'sqrt',\n",
              " 'max_leaf_nodes': None,\n",
              " 'max_samples': None,\n",
              " 'min_impurity_decrease': 0.0,\n",
              " 'min_samples_leaf': 1,\n",
              " 'min_samples_split': 2,\n",
              " 'min_weight_fraction_leaf': 0.0,\n",
              " 'n_estimators': 100,\n",
              " 'n_jobs': None,\n",
              " 'oob_score': False,\n",
              " 'random_state': 42,\n",
              " 'verbose': 0,\n",
              " 'warm_start': False}"
            ]
          },
          "metadata": {},
          "execution_count": 17
        }
      ]
    },
    {
      "cell_type": "markdown",
      "metadata": {
        "id": "PL-3w6B8TmYf"
      },
      "source": [
        "When using Manual Search, we choose some model hyperparameters based on our judgment/experience. We then train the model, evaluate its accuracy and start the process again. This loop is repeated until a satisfactory accuracy is scored.\n",
        "\n",
        "The main parameters used by a Random Forest Classifier are:\n",
        "\n",
        "* criterion = the function used to evaluate the quality of a split.\n",
        "* max_depth = maximum number of levels allowed in each tree.\n",
        "* max_features = maximum number of features considered when splitting a node.\n",
        "* min_samples_leaf = minimum number of samples which can be stored in a tree leaf.\n",
        "* min_samples_split = minimum number of samples necessary in a node to cause node splitting.\n",
        "* n_estimators = number of trees in the ensemble."
      ]
    },
    {
      "cell_type": "code",
      "metadata": {
        "trusted": true,
        "colab": {
          "base_uri": "https://localhost:8080/"
        },
        "id": "Ja0QaBmrTmYf",
        "outputId": "6940440f-233a-4441-8dbd-83d15894cacc"
      },
      "source": [
        "model = RandomForestClassifier(n_estimators=5, random_state=42).fit(X_Train,Y_Train)\n",
        "predictionforest = model.predict(X_Test)\n",
        "print(confusion_matrix(Y_Test,predictionforest))\n",
        "print(classification_report(Y_Test,predictionforest))"
      ],
      "execution_count": null,
      "outputs": [
        {
          "output_type": "stream",
          "name": "stdout",
          "text": [
            "[[2401    2]\n",
            " [   3   18]]\n",
            "              precision    recall  f1-score   support\n",
            "\n",
            "           0       1.00      1.00      1.00      2403\n",
            "           1       0.90      0.86      0.88        21\n",
            "\n",
            "    accuracy                           1.00      2424\n",
            "   macro avg       0.95      0.93      0.94      2424\n",
            "weighted avg       1.00      1.00      1.00      2424\n",
            "\n"
          ]
        }
      ]
    },
    {
      "cell_type": "markdown",
      "metadata": {
        "id": "PuPfL9wtTmYg"
      },
      "source": [
        "## 3. Random Search <a id=\"3\"></a> <br>\n",
        "\n",
        "In Random Search, we create a grid of hyperparameters and train/test our model on just some random combination of these hyperparameters. In this example, we additionally perform Cross-Validation on the training set.\n",
        "\n",
        "When performing Machine Learning tasks, we generally divide our dataset in training and test sets. This is done so that to test our model after having trained it (in this way we can check it’s performances when working with unseen data). When using Cross-Validation, we divide our training set into N other partitions to make sure our model is not overfitting our data.\n",
        "\n",
        "One of the most common used Cross-Validation methods is K-Fold Validation. In K-Fold, we divide our training set into N partitions and then iteratively train our model using N-1 partitions and test it with the left-over partition (at each iteration we change the left-over partition). Once having trained N times the model we then average the training results obtained in each iteration to obtain our overall training performance results.\n",
        "\n",
        "Using Cross-Validation when implementing Hyperparameters optimization can be really important. In this way, we might avoid using some Hyperparameters which works really good on the training data but not so good with the test data.\n",
        "We can now start implementing Random Search by first defying a grid of hyperparameters which will be randomly sampled when calling RandomizedSearchCV()."
      ]
    },
    {
      "cell_type": "code",
      "metadata": {
        "trusted": true,
        "colab": {
          "base_uri": "https://localhost:8080/",
          "height": 134
        },
        "id": "WeKTBQszTmYg",
        "outputId": "5692446a-aadf-465d-b5bc-0315b19272f3"
      },
      "source": [
        "import numpy as np\n",
        "from sklearn.model_selection import RandomizedSearchCV\n",
        "from sklearn.model_selection import cross_val_score\n",
        "\n",
        "clf = RandomForestClassifier(random_state=42)\n",
        "\n",
        "random_search = {\n",
        "                  'criterion': ['entropy', 'gini'],\n",
        "                  'max_depth': [10, 20, None],\n",
        "                  'max_features': ['sqrt', 'log2'],\n",
        "                  'n_estimators': [50, 100, 200]\n",
        "                 }\n",
        "\n",
        "               # 2 x 3 x 2 x 3 = 36 => randomly selects 10 combinations (models) from 36 possible model hyperparameter configs\n",
        "               # 1. RandomForestClassifier(criterion='gini', max_depth=10, max_features='sqrt', n_estimators=50)\n",
        "               # 2. RandomForestClassifier(criterion='entropy', max_depth=20, max_features='log2', n_estimators=200)\n",
        "               # ... total of n_iter models\n",
        "\n",
        "\n",
        "random_search_obj = RandomizedSearchCV(estimator=clf,\n",
        "                           param_distributions=random_search,\n",
        "                           n_iter=10, # total number of models it will try out by random selections\n",
        "                           scoring='f1',\n",
        "                           cv=3, verbose=1, random_state=42, n_jobs=-1)\n",
        "\n",
        "random_search_obj.fit(X_Train, Y_Train)"
      ],
      "execution_count": null,
      "outputs": [
        {
          "output_type": "stream",
          "name": "stdout",
          "text": [
            "Fitting 3 folds for each of 10 candidates, totalling 30 fits\n"
          ]
        },
        {
          "output_type": "execute_result",
          "data": {
            "text/plain": [
              "RandomizedSearchCV(cv=3, estimator=RandomForestClassifier(random_state=42),\n",
              "                   n_jobs=-1,\n",
              "                   param_distributions={'criterion': ['entropy', 'gini'],\n",
              "                                        'max_depth': [10, 20, None],\n",
              "                                        'max_features': ['sqrt', 'log2'],\n",
              "                                        'n_estimators': [50, 100, 200]},\n",
              "                   random_state=42, scoring='f1', verbose=1)"
            ],
            "text/html": [
              "<style>#sk-container-id-2 {color: black;background-color: white;}#sk-container-id-2 pre{padding: 0;}#sk-container-id-2 div.sk-toggleable {background-color: white;}#sk-container-id-2 label.sk-toggleable__label {cursor: pointer;display: block;width: 100%;margin-bottom: 0;padding: 0.3em;box-sizing: border-box;text-align: center;}#sk-container-id-2 label.sk-toggleable__label-arrow:before {content: \"▸\";float: left;margin-right: 0.25em;color: #696969;}#sk-container-id-2 label.sk-toggleable__label-arrow:hover:before {color: black;}#sk-container-id-2 div.sk-estimator:hover label.sk-toggleable__label-arrow:before {color: black;}#sk-container-id-2 div.sk-toggleable__content {max-height: 0;max-width: 0;overflow: hidden;text-align: left;background-color: #f0f8ff;}#sk-container-id-2 div.sk-toggleable__content pre {margin: 0.2em;color: black;border-radius: 0.25em;background-color: #f0f8ff;}#sk-container-id-2 input.sk-toggleable__control:checked~div.sk-toggleable__content {max-height: 200px;max-width: 100%;overflow: auto;}#sk-container-id-2 input.sk-toggleable__control:checked~label.sk-toggleable__label-arrow:before {content: \"▾\";}#sk-container-id-2 div.sk-estimator input.sk-toggleable__control:checked~label.sk-toggleable__label {background-color: #d4ebff;}#sk-container-id-2 div.sk-label input.sk-toggleable__control:checked~label.sk-toggleable__label {background-color: #d4ebff;}#sk-container-id-2 input.sk-hidden--visually {border: 0;clip: rect(1px 1px 1px 1px);clip: rect(1px, 1px, 1px, 1px);height: 1px;margin: -1px;overflow: hidden;padding: 0;position: absolute;width: 1px;}#sk-container-id-2 div.sk-estimator {font-family: monospace;background-color: #f0f8ff;border: 1px dotted black;border-radius: 0.25em;box-sizing: border-box;margin-bottom: 0.5em;}#sk-container-id-2 div.sk-estimator:hover {background-color: #d4ebff;}#sk-container-id-2 div.sk-parallel-item::after {content: \"\";width: 100%;border-bottom: 1px solid gray;flex-grow: 1;}#sk-container-id-2 div.sk-label:hover label.sk-toggleable__label {background-color: #d4ebff;}#sk-container-id-2 div.sk-serial::before {content: \"\";position: absolute;border-left: 1px solid gray;box-sizing: border-box;top: 0;bottom: 0;left: 50%;z-index: 0;}#sk-container-id-2 div.sk-serial {display: flex;flex-direction: column;align-items: center;background-color: white;padding-right: 0.2em;padding-left: 0.2em;position: relative;}#sk-container-id-2 div.sk-item {position: relative;z-index: 1;}#sk-container-id-2 div.sk-parallel {display: flex;align-items: stretch;justify-content: center;background-color: white;position: relative;}#sk-container-id-2 div.sk-item::before, #sk-container-id-2 div.sk-parallel-item::before {content: \"\";position: absolute;border-left: 1px solid gray;box-sizing: border-box;top: 0;bottom: 0;left: 50%;z-index: -1;}#sk-container-id-2 div.sk-parallel-item {display: flex;flex-direction: column;z-index: 1;position: relative;background-color: white;}#sk-container-id-2 div.sk-parallel-item:first-child::after {align-self: flex-end;width: 50%;}#sk-container-id-2 div.sk-parallel-item:last-child::after {align-self: flex-start;width: 50%;}#sk-container-id-2 div.sk-parallel-item:only-child::after {width: 0;}#sk-container-id-2 div.sk-dashed-wrapped {border: 1px dashed gray;margin: 0 0.4em 0.5em 0.4em;box-sizing: border-box;padding-bottom: 0.4em;background-color: white;}#sk-container-id-2 div.sk-label label {font-family: monospace;font-weight: bold;display: inline-block;line-height: 1.2em;}#sk-container-id-2 div.sk-label-container {text-align: center;}#sk-container-id-2 div.sk-container {/* jupyter's `normalize.less` sets `[hidden] { display: none; }` but bootstrap.min.css set `[hidden] { display: none !important; }` so we also need the `!important` here to be able to override the default hidden behavior on the sphinx rendered scikit-learn.org. See: https://github.com/scikit-learn/scikit-learn/issues/21755 */display: inline-block !important;position: relative;}#sk-container-id-2 div.sk-text-repr-fallback {display: none;}</style><div id=\"sk-container-id-2\" class=\"sk-top-container\"><div class=\"sk-text-repr-fallback\"><pre>RandomizedSearchCV(cv=3, estimator=RandomForestClassifier(random_state=42),\n",
              "                   n_jobs=-1,\n",
              "                   param_distributions={&#x27;criterion&#x27;: [&#x27;entropy&#x27;, &#x27;gini&#x27;],\n",
              "                                        &#x27;max_depth&#x27;: [10, 20, None],\n",
              "                                        &#x27;max_features&#x27;: [&#x27;sqrt&#x27;, &#x27;log2&#x27;],\n",
              "                                        &#x27;n_estimators&#x27;: [50, 100, 200]},\n",
              "                   random_state=42, scoring=&#x27;f1&#x27;, verbose=1)</pre><b>In a Jupyter environment, please rerun this cell to show the HTML representation or trust the notebook. <br />On GitHub, the HTML representation is unable to render, please try loading this page with nbviewer.org.</b></div><div class=\"sk-container\" hidden><div class=\"sk-item sk-dashed-wrapped\"><div class=\"sk-label-container\"><div class=\"sk-label sk-toggleable\"><input class=\"sk-toggleable__control sk-hidden--visually\" id=\"sk-estimator-id-2\" type=\"checkbox\" ><label for=\"sk-estimator-id-2\" class=\"sk-toggleable__label sk-toggleable__label-arrow\">RandomizedSearchCV</label><div class=\"sk-toggleable__content\"><pre>RandomizedSearchCV(cv=3, estimator=RandomForestClassifier(random_state=42),\n",
              "                   n_jobs=-1,\n",
              "                   param_distributions={&#x27;criterion&#x27;: [&#x27;entropy&#x27;, &#x27;gini&#x27;],\n",
              "                                        &#x27;max_depth&#x27;: [10, 20, None],\n",
              "                                        &#x27;max_features&#x27;: [&#x27;sqrt&#x27;, &#x27;log2&#x27;],\n",
              "                                        &#x27;n_estimators&#x27;: [50, 100, 200]},\n",
              "                   random_state=42, scoring=&#x27;f1&#x27;, verbose=1)</pre></div></div></div><div class=\"sk-parallel\"><div class=\"sk-parallel-item\"><div class=\"sk-item\"><div class=\"sk-label-container\"><div class=\"sk-label sk-toggleable\"><input class=\"sk-toggleable__control sk-hidden--visually\" id=\"sk-estimator-id-3\" type=\"checkbox\" ><label for=\"sk-estimator-id-3\" class=\"sk-toggleable__label sk-toggleable__label-arrow\">estimator: RandomForestClassifier</label><div class=\"sk-toggleable__content\"><pre>RandomForestClassifier(random_state=42)</pre></div></div></div><div class=\"sk-serial\"><div class=\"sk-item\"><div class=\"sk-estimator sk-toggleable\"><input class=\"sk-toggleable__control sk-hidden--visually\" id=\"sk-estimator-id-4\" type=\"checkbox\" ><label for=\"sk-estimator-id-4\" class=\"sk-toggleable__label sk-toggleable__label-arrow\">RandomForestClassifier</label><div class=\"sk-toggleable__content\"><pre>RandomForestClassifier(random_state=42)</pre></div></div></div></div></div></div></div></div></div></div>"
            ]
          },
          "metadata": {},
          "execution_count": 19
        }
      ]
    },
    {
      "cell_type": "markdown",
      "metadata": {
        "id": "y57lhJjJTmYh"
      },
      "source": [
        "Once trained our model, we can then visualize how changing some of its Hyperparameters can affect the overall model accuracy. In this case, we observe how changing the number of estimators and the criterion can affect our Random Forest accuracy."
      ]
    },
    {
      "cell_type": "markdown",
      "metadata": {
        "id": "aB8m2y0WTmYh"
      },
      "source": [
        "We can now evaluate how our model performed using Random Search. In this case, using Random Search leads to a consistent increase in accuracy compared to our base model."
      ]
    },
    {
      "cell_type": "code",
      "metadata": {
        "colab": {
          "base_uri": "https://localhost:8080/",
          "height": 74
        },
        "id": "ItPr5n2YpZDb",
        "outputId": "6e5fceba-1124-4fa2-99e6-7e612b5b2880"
      },
      "source": [
        "# best model\n",
        "best_model = random_search_obj.best_estimator_\n",
        "best_model"
      ],
      "execution_count": null,
      "outputs": [
        {
          "output_type": "execute_result",
          "data": {
            "text/plain": [
              "RandomForestClassifier(max_depth=20, n_estimators=200, random_state=42)"
            ],
            "text/html": [
              "<style>#sk-container-id-3 {color: black;background-color: white;}#sk-container-id-3 pre{padding: 0;}#sk-container-id-3 div.sk-toggleable {background-color: white;}#sk-container-id-3 label.sk-toggleable__label {cursor: pointer;display: block;width: 100%;margin-bottom: 0;padding: 0.3em;box-sizing: border-box;text-align: center;}#sk-container-id-3 label.sk-toggleable__label-arrow:before {content: \"▸\";float: left;margin-right: 0.25em;color: #696969;}#sk-container-id-3 label.sk-toggleable__label-arrow:hover:before {color: black;}#sk-container-id-3 div.sk-estimator:hover label.sk-toggleable__label-arrow:before {color: black;}#sk-container-id-3 div.sk-toggleable__content {max-height: 0;max-width: 0;overflow: hidden;text-align: left;background-color: #f0f8ff;}#sk-container-id-3 div.sk-toggleable__content pre {margin: 0.2em;color: black;border-radius: 0.25em;background-color: #f0f8ff;}#sk-container-id-3 input.sk-toggleable__control:checked~div.sk-toggleable__content {max-height: 200px;max-width: 100%;overflow: auto;}#sk-container-id-3 input.sk-toggleable__control:checked~label.sk-toggleable__label-arrow:before {content: \"▾\";}#sk-container-id-3 div.sk-estimator input.sk-toggleable__control:checked~label.sk-toggleable__label {background-color: #d4ebff;}#sk-container-id-3 div.sk-label input.sk-toggleable__control:checked~label.sk-toggleable__label {background-color: #d4ebff;}#sk-container-id-3 input.sk-hidden--visually {border: 0;clip: rect(1px 1px 1px 1px);clip: rect(1px, 1px, 1px, 1px);height: 1px;margin: -1px;overflow: hidden;padding: 0;position: absolute;width: 1px;}#sk-container-id-3 div.sk-estimator {font-family: monospace;background-color: #f0f8ff;border: 1px dotted black;border-radius: 0.25em;box-sizing: border-box;margin-bottom: 0.5em;}#sk-container-id-3 div.sk-estimator:hover {background-color: #d4ebff;}#sk-container-id-3 div.sk-parallel-item::after {content: \"\";width: 100%;border-bottom: 1px solid gray;flex-grow: 1;}#sk-container-id-3 div.sk-label:hover label.sk-toggleable__label {background-color: #d4ebff;}#sk-container-id-3 div.sk-serial::before {content: \"\";position: absolute;border-left: 1px solid gray;box-sizing: border-box;top: 0;bottom: 0;left: 50%;z-index: 0;}#sk-container-id-3 div.sk-serial {display: flex;flex-direction: column;align-items: center;background-color: white;padding-right: 0.2em;padding-left: 0.2em;position: relative;}#sk-container-id-3 div.sk-item {position: relative;z-index: 1;}#sk-container-id-3 div.sk-parallel {display: flex;align-items: stretch;justify-content: center;background-color: white;position: relative;}#sk-container-id-3 div.sk-item::before, #sk-container-id-3 div.sk-parallel-item::before {content: \"\";position: absolute;border-left: 1px solid gray;box-sizing: border-box;top: 0;bottom: 0;left: 50%;z-index: -1;}#sk-container-id-3 div.sk-parallel-item {display: flex;flex-direction: column;z-index: 1;position: relative;background-color: white;}#sk-container-id-3 div.sk-parallel-item:first-child::after {align-self: flex-end;width: 50%;}#sk-container-id-3 div.sk-parallel-item:last-child::after {align-self: flex-start;width: 50%;}#sk-container-id-3 div.sk-parallel-item:only-child::after {width: 0;}#sk-container-id-3 div.sk-dashed-wrapped {border: 1px dashed gray;margin: 0 0.4em 0.5em 0.4em;box-sizing: border-box;padding-bottom: 0.4em;background-color: white;}#sk-container-id-3 div.sk-label label {font-family: monospace;font-weight: bold;display: inline-block;line-height: 1.2em;}#sk-container-id-3 div.sk-label-container {text-align: center;}#sk-container-id-3 div.sk-container {/* jupyter's `normalize.less` sets `[hidden] { display: none; }` but bootstrap.min.css set `[hidden] { display: none !important; }` so we also need the `!important` here to be able to override the default hidden behavior on the sphinx rendered scikit-learn.org. See: https://github.com/scikit-learn/scikit-learn/issues/21755 */display: inline-block !important;position: relative;}#sk-container-id-3 div.sk-text-repr-fallback {display: none;}</style><div id=\"sk-container-id-3\" class=\"sk-top-container\"><div class=\"sk-text-repr-fallback\"><pre>RandomForestClassifier(max_depth=20, n_estimators=200, random_state=42)</pre><b>In a Jupyter environment, please rerun this cell to show the HTML representation or trust the notebook. <br />On GitHub, the HTML representation is unable to render, please try loading this page with nbviewer.org.</b></div><div class=\"sk-container\" hidden><div class=\"sk-item\"><div class=\"sk-estimator sk-toggleable\"><input class=\"sk-toggleable__control sk-hidden--visually\" id=\"sk-estimator-id-5\" type=\"checkbox\" checked><label for=\"sk-estimator-id-5\" class=\"sk-toggleable__label sk-toggleable__label-arrow\">RandomForestClassifier</label><div class=\"sk-toggleable__content\"><pre>RandomForestClassifier(max_depth=20, n_estimators=200, random_state=42)</pre></div></div></div></div></div>"
            ]
          },
          "metadata": {},
          "execution_count": 20
        }
      ]
    },
    {
      "cell_type": "code",
      "source": [
        "best_model.get_params()"
      ],
      "metadata": {
        "colab": {
          "base_uri": "https://localhost:8080/"
        },
        "id": "62FtgSZLpdBj",
        "outputId": "dd3feb42-3b6f-42a6-b13c-1917f6569177"
      },
      "execution_count": null,
      "outputs": [
        {
          "output_type": "execute_result",
          "data": {
            "text/plain": [
              "{'bootstrap': True,\n",
              " 'ccp_alpha': 0.0,\n",
              " 'class_weight': None,\n",
              " 'criterion': 'gini',\n",
              " 'max_depth': 20,\n",
              " 'max_features': 'sqrt',\n",
              " 'max_leaf_nodes': None,\n",
              " 'max_samples': None,\n",
              " 'min_impurity_decrease': 0.0,\n",
              " 'min_samples_leaf': 1,\n",
              " 'min_samples_split': 2,\n",
              " 'min_weight_fraction_leaf': 0.0,\n",
              " 'n_estimators': 200,\n",
              " 'n_jobs': None,\n",
              " 'oob_score': False,\n",
              " 'random_state': 42,\n",
              " 'verbose': 0,\n",
              " 'warm_start': False}"
            ]
          },
          "metadata": {},
          "execution_count": 21
        }
      ]
    },
    {
      "cell_type": "code",
      "metadata": {
        "colab": {
          "base_uri": "https://localhost:8080/"
        },
        "id": "lYSdWOSvpi0g",
        "outputId": "342f7585-f9cf-4d07-d948-c2aeed8e31e3"
      },
      "source": [
        "# best params\n",
        "random_search_obj.best_params_"
      ],
      "execution_count": null,
      "outputs": [
        {
          "output_type": "execute_result",
          "data": {
            "text/plain": [
              "{'n_estimators': 200,\n",
              " 'max_features': 'sqrt',\n",
              " 'max_depth': 20,\n",
              " 'criterion': 'gini'}"
            ]
          },
          "metadata": {},
          "execution_count": 22
        }
      ]
    },
    {
      "cell_type": "code",
      "source": [
        "random_search_obj.cv_results_"
      ],
      "metadata": {
        "colab": {
          "base_uri": "https://localhost:8080/"
        },
        "id": "GVvBxqTeXfYd",
        "outputId": "4bc73e2d-7750-4147-d70d-8258b4fa0ee9"
      },
      "execution_count": null,
      "outputs": [
        {
          "output_type": "execute_result",
          "data": {
            "text/plain": [
              "{'mean_fit_time': array([3.47687014, 1.81390079, 5.50904115, 1.78439538, 2.87455225,\n",
              "        3.2526176 , 1.20990181, 0.81027047, 3.26166439, 3.09265025]),\n",
              " 'std_fit_time': array([0.21145078, 0.32052272, 0.81788325, 0.08256299, 0.474167  ,\n",
              "        0.24459032, 0.2879548 , 0.06361273, 0.214987  , 0.20729431]),\n",
              " 'mean_score_time': array([0.05780991, 0.03306063, 0.09823537, 0.04903881, 0.05017678,\n",
              "        0.06149228, 0.02954785, 0.01904583, 0.05762053, 0.07247384]),\n",
              " 'std_score_time': array([0.00202399, 0.00103851, 0.01973521, 0.01289585, 0.01985546,\n",
              "        0.02258333, 0.01494985, 0.00045401, 0.0002427 , 0.03019112]),\n",
              " 'param_n_estimators': masked_array(data=[200, 100, 200, 50, 100, 100, 50, 50, 200, 200],\n",
              "              mask=[False, False, False, False, False, False, False, False,\n",
              "                    False, False],\n",
              "        fill_value='?',\n",
              "             dtype=object),\n",
              " 'param_max_features': masked_array(data=['log2', 'sqrt', 'sqrt', 'sqrt', 'log2', 'sqrt', 'log2',\n",
              "                    'sqrt', 'sqrt', 'log2'],\n",
              "              mask=[False, False, False, False, False, False, False, False,\n",
              "                    False, False],\n",
              "        fill_value='?',\n",
              "             dtype=object),\n",
              " 'param_max_depth': masked_array(data=[None, None, 20, None, None, None, 10, None, 20, None],\n",
              "              mask=[False, False, False, False, False, False, False, False,\n",
              "                    False, False],\n",
              "        fill_value='?',\n",
              "             dtype=object),\n",
              " 'param_criterion': masked_array(data=['gini', 'entropy', 'gini', 'gini', 'entropy', 'gini',\n",
              "                    'gini', 'entropy', 'entropy', 'entropy'],\n",
              "              mask=[False, False, False, False, False, False, False, False,\n",
              "                    False, False],\n",
              "        fill_value='?',\n",
              "             dtype=object),\n",
              " 'params': [{'n_estimators': 200,\n",
              "   'max_features': 'log2',\n",
              "   'max_depth': None,\n",
              "   'criterion': 'gini'},\n",
              "  {'n_estimators': 100,\n",
              "   'max_features': 'sqrt',\n",
              "   'max_depth': None,\n",
              "   'criterion': 'entropy'},\n",
              "  {'n_estimators': 200,\n",
              "   'max_features': 'sqrt',\n",
              "   'max_depth': 20,\n",
              "   'criterion': 'gini'},\n",
              "  {'n_estimators': 50,\n",
              "   'max_features': 'sqrt',\n",
              "   'max_depth': None,\n",
              "   'criterion': 'gini'},\n",
              "  {'n_estimators': 100,\n",
              "   'max_features': 'log2',\n",
              "   'max_depth': None,\n",
              "   'criterion': 'entropy'},\n",
              "  {'n_estimators': 100,\n",
              "   'max_features': 'sqrt',\n",
              "   'max_depth': None,\n",
              "   'criterion': 'gini'},\n",
              "  {'n_estimators': 50,\n",
              "   'max_features': 'log2',\n",
              "   'max_depth': 10,\n",
              "   'criterion': 'gini'},\n",
              "  {'n_estimators': 50,\n",
              "   'max_features': 'sqrt',\n",
              "   'max_depth': None,\n",
              "   'criterion': 'entropy'},\n",
              "  {'n_estimators': 200,\n",
              "   'max_features': 'sqrt',\n",
              "   'max_depth': 20,\n",
              "   'criterion': 'entropy'},\n",
              "  {'n_estimators': 200,\n",
              "   'max_features': 'log2',\n",
              "   'max_depth': None,\n",
              "   'criterion': 'entropy'}],\n",
              " 'split0_test_score': array([0.88888889, 0.85714286, 0.88888889, 0.88888889, 0.85714286,\n",
              "        0.88888889, 0.88888889, 0.88888889, 0.85714286, 0.85714286]),\n",
              " 'split1_test_score': array([0.91428571, 0.88235294, 0.94444444, 0.91428571, 0.8125    ,\n",
              "        0.91428571, 0.91428571, 0.84848485, 0.88235294, 0.84848485]),\n",
              " 'split2_test_score': array([0.68571429, 0.70588235, 0.72222222, 0.72222222, 0.72727273,\n",
              "        0.72222222, 0.64705882, 0.70588235, 0.70588235, 0.72727273]),\n",
              " 'mean_test_score': array([0.82962963, 0.81512605, 0.85185185, 0.84179894, 0.79897186,\n",
              "        0.84179894, 0.81674448, 0.8144187 , 0.81512605, 0.81096681]),\n",
              " 'std_test_score': array([0.10229034, 0.07792957, 0.09442629, 0.08518683, 0.05387529,\n",
              "        0.08518683, 0.12043301, 0.07849936, 0.07792957, 0.05928611]),\n",
              " 'rank_test_score': array([ 4,  6,  1,  2, 10,  2,  5,  8,  6,  9], dtype=int32)}"
            ]
          },
          "metadata": {},
          "execution_count": 23
        }
      ]
    },
    {
      "cell_type": "code",
      "metadata": {
        "colab": {
          "base_uri": "https://localhost:8080/",
          "height": 693
        },
        "id": "tBlmnrfzpopK",
        "outputId": "0785d054-2e04-45dd-e7ef-3c7803c49395"
      },
      "source": [
        "# detailed history of all models tried and their performance in cross validation\n",
        "pd.set_option('display.max_colwidth', None)\n",
        "\n",
        "cv_result_df = pd.DataFrame({\n",
        "    'Model Rank': random_search_obj.cv_results_['rank_test_score'],\n",
        "    'Model Hyperparams': random_search_obj.cv_results_['params'],\n",
        "    'Avg CV F1-Score': random_search_obj.cv_results_['mean_test_score'],\n",
        "    'Std Dev CV F1-Score': random_search_obj.cv_results_['std_test_score'],\n",
        "    'CV Fold 1 F1-Score': random_search_obj.cv_results_['split0_test_score'],\n",
        "    'CV Fold 2 F1-Score': random_search_obj.cv_results_['split1_test_score'],\n",
        "    'CV Fold 3 F1-Score': random_search_obj.cv_results_['split2_test_score'],\n",
        "})\n",
        "\n",
        "\n",
        "cv_result_df.sort_values(by=['Model Rank'], ascending=True)"
      ],
      "execution_count": null,
      "outputs": [
        {
          "output_type": "execute_result",
          "data": {
            "text/plain": [
              "   Model Rank  \\\n",
              "2           1   \n",
              "3           2   \n",
              "5           2   \n",
              "0           4   \n",
              "6           5   \n",
              "1           6   \n",
              "8           6   \n",
              "7           8   \n",
              "9           9   \n",
              "4          10   \n",
              "\n",
              "                                                                          Model Hyperparams  \\\n",
              "2       {'n_estimators': 200, 'max_features': 'sqrt', 'max_depth': 20, 'criterion': 'gini'}   \n",
              "3      {'n_estimators': 50, 'max_features': 'sqrt', 'max_depth': None, 'criterion': 'gini'}   \n",
              "5     {'n_estimators': 100, 'max_features': 'sqrt', 'max_depth': None, 'criterion': 'gini'}   \n",
              "0     {'n_estimators': 200, 'max_features': 'log2', 'max_depth': None, 'criterion': 'gini'}   \n",
              "6        {'n_estimators': 50, 'max_features': 'log2', 'max_depth': 10, 'criterion': 'gini'}   \n",
              "1  {'n_estimators': 100, 'max_features': 'sqrt', 'max_depth': None, 'criterion': 'entropy'}   \n",
              "8    {'n_estimators': 200, 'max_features': 'sqrt', 'max_depth': 20, 'criterion': 'entropy'}   \n",
              "7   {'n_estimators': 50, 'max_features': 'sqrt', 'max_depth': None, 'criterion': 'entropy'}   \n",
              "9  {'n_estimators': 200, 'max_features': 'log2', 'max_depth': None, 'criterion': 'entropy'}   \n",
              "4  {'n_estimators': 100, 'max_features': 'log2', 'max_depth': None, 'criterion': 'entropy'}   \n",
              "\n",
              "   Avg CV F1-Score  Std Dev CV F1-Score  CV Fold 1 F1-Score  \\\n",
              "2         0.851852             0.094426            0.888889   \n",
              "3         0.841799             0.085187            0.888889   \n",
              "5         0.841799             0.085187            0.888889   \n",
              "0         0.829630             0.102290            0.888889   \n",
              "6         0.816744             0.120433            0.888889   \n",
              "1         0.815126             0.077930            0.857143   \n",
              "8         0.815126             0.077930            0.857143   \n",
              "7         0.814419             0.078499            0.888889   \n",
              "9         0.810967             0.059286            0.857143   \n",
              "4         0.798972             0.053875            0.857143   \n",
              "\n",
              "   CV Fold 2 F1-Score  CV Fold 3 F1-Score  \n",
              "2            0.944444            0.722222  \n",
              "3            0.914286            0.722222  \n",
              "5            0.914286            0.722222  \n",
              "0            0.914286            0.685714  \n",
              "6            0.914286            0.647059  \n",
              "1            0.882353            0.705882  \n",
              "8            0.882353            0.705882  \n",
              "7            0.848485            0.705882  \n",
              "9            0.848485            0.727273  \n",
              "4            0.812500            0.727273  "
            ],
            "text/html": [
              "\n",
              "  <div id=\"df-090557cc-c583-4663-a086-15a522ebd667\" class=\"colab-df-container\">\n",
              "    <div>\n",
              "<style scoped>\n",
              "    .dataframe tbody tr th:only-of-type {\n",
              "        vertical-align: middle;\n",
              "    }\n",
              "\n",
              "    .dataframe tbody tr th {\n",
              "        vertical-align: top;\n",
              "    }\n",
              "\n",
              "    .dataframe thead th {\n",
              "        text-align: right;\n",
              "    }\n",
              "</style>\n",
              "<table border=\"1\" class=\"dataframe\">\n",
              "  <thead>\n",
              "    <tr style=\"text-align: right;\">\n",
              "      <th></th>\n",
              "      <th>Model Rank</th>\n",
              "      <th>Model Hyperparams</th>\n",
              "      <th>Avg CV F1-Score</th>\n",
              "      <th>Std Dev CV F1-Score</th>\n",
              "      <th>CV Fold 1 F1-Score</th>\n",
              "      <th>CV Fold 2 F1-Score</th>\n",
              "      <th>CV Fold 3 F1-Score</th>\n",
              "    </tr>\n",
              "  </thead>\n",
              "  <tbody>\n",
              "    <tr>\n",
              "      <th>2</th>\n",
              "      <td>1</td>\n",
              "      <td>{'n_estimators': 200, 'max_features': 'sqrt', 'max_depth': 20, 'criterion': 'gini'}</td>\n",
              "      <td>0.851852</td>\n",
              "      <td>0.094426</td>\n",
              "      <td>0.888889</td>\n",
              "      <td>0.944444</td>\n",
              "      <td>0.722222</td>\n",
              "    </tr>\n",
              "    <tr>\n",
              "      <th>3</th>\n",
              "      <td>2</td>\n",
              "      <td>{'n_estimators': 50, 'max_features': 'sqrt', 'max_depth': None, 'criterion': 'gini'}</td>\n",
              "      <td>0.841799</td>\n",
              "      <td>0.085187</td>\n",
              "      <td>0.888889</td>\n",
              "      <td>0.914286</td>\n",
              "      <td>0.722222</td>\n",
              "    </tr>\n",
              "    <tr>\n",
              "      <th>5</th>\n",
              "      <td>2</td>\n",
              "      <td>{'n_estimators': 100, 'max_features': 'sqrt', 'max_depth': None, 'criterion': 'gini'}</td>\n",
              "      <td>0.841799</td>\n",
              "      <td>0.085187</td>\n",
              "      <td>0.888889</td>\n",
              "      <td>0.914286</td>\n",
              "      <td>0.722222</td>\n",
              "    </tr>\n",
              "    <tr>\n",
              "      <th>0</th>\n",
              "      <td>4</td>\n",
              "      <td>{'n_estimators': 200, 'max_features': 'log2', 'max_depth': None, 'criterion': 'gini'}</td>\n",
              "      <td>0.829630</td>\n",
              "      <td>0.102290</td>\n",
              "      <td>0.888889</td>\n",
              "      <td>0.914286</td>\n",
              "      <td>0.685714</td>\n",
              "    </tr>\n",
              "    <tr>\n",
              "      <th>6</th>\n",
              "      <td>5</td>\n",
              "      <td>{'n_estimators': 50, 'max_features': 'log2', 'max_depth': 10, 'criterion': 'gini'}</td>\n",
              "      <td>0.816744</td>\n",
              "      <td>0.120433</td>\n",
              "      <td>0.888889</td>\n",
              "      <td>0.914286</td>\n",
              "      <td>0.647059</td>\n",
              "    </tr>\n",
              "    <tr>\n",
              "      <th>1</th>\n",
              "      <td>6</td>\n",
              "      <td>{'n_estimators': 100, 'max_features': 'sqrt', 'max_depth': None, 'criterion': 'entropy'}</td>\n",
              "      <td>0.815126</td>\n",
              "      <td>0.077930</td>\n",
              "      <td>0.857143</td>\n",
              "      <td>0.882353</td>\n",
              "      <td>0.705882</td>\n",
              "    </tr>\n",
              "    <tr>\n",
              "      <th>8</th>\n",
              "      <td>6</td>\n",
              "      <td>{'n_estimators': 200, 'max_features': 'sqrt', 'max_depth': 20, 'criterion': 'entropy'}</td>\n",
              "      <td>0.815126</td>\n",
              "      <td>0.077930</td>\n",
              "      <td>0.857143</td>\n",
              "      <td>0.882353</td>\n",
              "      <td>0.705882</td>\n",
              "    </tr>\n",
              "    <tr>\n",
              "      <th>7</th>\n",
              "      <td>8</td>\n",
              "      <td>{'n_estimators': 50, 'max_features': 'sqrt', 'max_depth': None, 'criterion': 'entropy'}</td>\n",
              "      <td>0.814419</td>\n",
              "      <td>0.078499</td>\n",
              "      <td>0.888889</td>\n",
              "      <td>0.848485</td>\n",
              "      <td>0.705882</td>\n",
              "    </tr>\n",
              "    <tr>\n",
              "      <th>9</th>\n",
              "      <td>9</td>\n",
              "      <td>{'n_estimators': 200, 'max_features': 'log2', 'max_depth': None, 'criterion': 'entropy'}</td>\n",
              "      <td>0.810967</td>\n",
              "      <td>0.059286</td>\n",
              "      <td>0.857143</td>\n",
              "      <td>0.848485</td>\n",
              "      <td>0.727273</td>\n",
              "    </tr>\n",
              "    <tr>\n",
              "      <th>4</th>\n",
              "      <td>10</td>\n",
              "      <td>{'n_estimators': 100, 'max_features': 'log2', 'max_depth': None, 'criterion': 'entropy'}</td>\n",
              "      <td>0.798972</td>\n",
              "      <td>0.053875</td>\n",
              "      <td>0.857143</td>\n",
              "      <td>0.812500</td>\n",
              "      <td>0.727273</td>\n",
              "    </tr>\n",
              "  </tbody>\n",
              "</table>\n",
              "</div>\n",
              "    <div class=\"colab-df-buttons\">\n",
              "\n",
              "  <div class=\"colab-df-container\">\n",
              "    <button class=\"colab-df-convert\" onclick=\"convertToInteractive('df-090557cc-c583-4663-a086-15a522ebd667')\"\n",
              "            title=\"Convert this dataframe to an interactive table.\"\n",
              "            style=\"display:none;\">\n",
              "\n",
              "  <svg xmlns=\"http://www.w3.org/2000/svg\" height=\"24px\" viewBox=\"0 -960 960 960\">\n",
              "    <path d=\"M120-120v-720h720v720H120Zm60-500h600v-160H180v160Zm220 220h160v-160H400v160Zm0 220h160v-160H400v160ZM180-400h160v-160H180v160Zm440 0h160v-160H620v160ZM180-180h160v-160H180v160Zm440 0h160v-160H620v160Z\"/>\n",
              "  </svg>\n",
              "    </button>\n",
              "\n",
              "  <style>\n",
              "    .colab-df-container {\n",
              "      display:flex;\n",
              "      gap: 12px;\n",
              "    }\n",
              "\n",
              "    .colab-df-convert {\n",
              "      background-color: #E8F0FE;\n",
              "      border: none;\n",
              "      border-radius: 50%;\n",
              "      cursor: pointer;\n",
              "      display: none;\n",
              "      fill: #1967D2;\n",
              "      height: 32px;\n",
              "      padding: 0 0 0 0;\n",
              "      width: 32px;\n",
              "    }\n",
              "\n",
              "    .colab-df-convert:hover {\n",
              "      background-color: #E2EBFA;\n",
              "      box-shadow: 0px 1px 2px rgba(60, 64, 67, 0.3), 0px 1px 3px 1px rgba(60, 64, 67, 0.15);\n",
              "      fill: #174EA6;\n",
              "    }\n",
              "\n",
              "    .colab-df-buttons div {\n",
              "      margin-bottom: 4px;\n",
              "    }\n",
              "\n",
              "    [theme=dark] .colab-df-convert {\n",
              "      background-color: #3B4455;\n",
              "      fill: #D2E3FC;\n",
              "    }\n",
              "\n",
              "    [theme=dark] .colab-df-convert:hover {\n",
              "      background-color: #434B5C;\n",
              "      box-shadow: 0px 1px 3px 1px rgba(0, 0, 0, 0.15);\n",
              "      filter: drop-shadow(0px 1px 2px rgba(0, 0, 0, 0.3));\n",
              "      fill: #FFFFFF;\n",
              "    }\n",
              "  </style>\n",
              "\n",
              "    <script>\n",
              "      const buttonEl =\n",
              "        document.querySelector('#df-090557cc-c583-4663-a086-15a522ebd667 button.colab-df-convert');\n",
              "      buttonEl.style.display =\n",
              "        google.colab.kernel.accessAllowed ? 'block' : 'none';\n",
              "\n",
              "      async function convertToInteractive(key) {\n",
              "        const element = document.querySelector('#df-090557cc-c583-4663-a086-15a522ebd667');\n",
              "        const dataTable =\n",
              "          await google.colab.kernel.invokeFunction('convertToInteractive',\n",
              "                                                    [key], {});\n",
              "        if (!dataTable) return;\n",
              "\n",
              "        const docLinkHtml = 'Like what you see? Visit the ' +\n",
              "          '<a target=\"_blank\" href=https://colab.research.google.com/notebooks/data_table.ipynb>data table notebook</a>'\n",
              "          + ' to learn more about interactive tables.';\n",
              "        element.innerHTML = '';\n",
              "        dataTable['output_type'] = 'display_data';\n",
              "        await google.colab.output.renderOutput(dataTable, element);\n",
              "        const docLink = document.createElement('div');\n",
              "        docLink.innerHTML = docLinkHtml;\n",
              "        element.appendChild(docLink);\n",
              "      }\n",
              "    </script>\n",
              "  </div>\n",
              "\n",
              "\n",
              "<div id=\"df-b41567a7-24ce-4738-8887-06ead38f01a4\">\n",
              "  <button class=\"colab-df-quickchart\" onclick=\"quickchart('df-b41567a7-24ce-4738-8887-06ead38f01a4')\"\n",
              "            title=\"Suggest charts\"\n",
              "            style=\"display:none;\">\n",
              "\n",
              "<svg xmlns=\"http://www.w3.org/2000/svg\" height=\"24px\"viewBox=\"0 0 24 24\"\n",
              "     width=\"24px\">\n",
              "    <g>\n",
              "        <path d=\"M19 3H5c-1.1 0-2 .9-2 2v14c0 1.1.9 2 2 2h14c1.1 0 2-.9 2-2V5c0-1.1-.9-2-2-2zM9 17H7v-7h2v7zm4 0h-2V7h2v10zm4 0h-2v-4h2v4z\"/>\n",
              "    </g>\n",
              "</svg>\n",
              "  </button>\n",
              "\n",
              "<style>\n",
              "  .colab-df-quickchart {\n",
              "      --bg-color: #E8F0FE;\n",
              "      --fill-color: #1967D2;\n",
              "      --hover-bg-color: #E2EBFA;\n",
              "      --hover-fill-color: #174EA6;\n",
              "      --disabled-fill-color: #AAA;\n",
              "      --disabled-bg-color: #DDD;\n",
              "  }\n",
              "\n",
              "  [theme=dark] .colab-df-quickchart {\n",
              "      --bg-color: #3B4455;\n",
              "      --fill-color: #D2E3FC;\n",
              "      --hover-bg-color: #434B5C;\n",
              "      --hover-fill-color: #FFFFFF;\n",
              "      --disabled-bg-color: #3B4455;\n",
              "      --disabled-fill-color: #666;\n",
              "  }\n",
              "\n",
              "  .colab-df-quickchart {\n",
              "    background-color: var(--bg-color);\n",
              "    border: none;\n",
              "    border-radius: 50%;\n",
              "    cursor: pointer;\n",
              "    display: none;\n",
              "    fill: var(--fill-color);\n",
              "    height: 32px;\n",
              "    padding: 0;\n",
              "    width: 32px;\n",
              "  }\n",
              "\n",
              "  .colab-df-quickchart:hover {\n",
              "    background-color: var(--hover-bg-color);\n",
              "    box-shadow: 0 1px 2px rgba(60, 64, 67, 0.3), 0 1px 3px 1px rgba(60, 64, 67, 0.15);\n",
              "    fill: var(--button-hover-fill-color);\n",
              "  }\n",
              "\n",
              "  .colab-df-quickchart-complete:disabled,\n",
              "  .colab-df-quickchart-complete:disabled:hover {\n",
              "    background-color: var(--disabled-bg-color);\n",
              "    fill: var(--disabled-fill-color);\n",
              "    box-shadow: none;\n",
              "  }\n",
              "\n",
              "  .colab-df-spinner {\n",
              "    border: 2px solid var(--fill-color);\n",
              "    border-color: transparent;\n",
              "    border-bottom-color: var(--fill-color);\n",
              "    animation:\n",
              "      spin 1s steps(1) infinite;\n",
              "  }\n",
              "\n",
              "  @keyframes spin {\n",
              "    0% {\n",
              "      border-color: transparent;\n",
              "      border-bottom-color: var(--fill-color);\n",
              "      border-left-color: var(--fill-color);\n",
              "    }\n",
              "    20% {\n",
              "      border-color: transparent;\n",
              "      border-left-color: var(--fill-color);\n",
              "      border-top-color: var(--fill-color);\n",
              "    }\n",
              "    30% {\n",
              "      border-color: transparent;\n",
              "      border-left-color: var(--fill-color);\n",
              "      border-top-color: var(--fill-color);\n",
              "      border-right-color: var(--fill-color);\n",
              "    }\n",
              "    40% {\n",
              "      border-color: transparent;\n",
              "      border-right-color: var(--fill-color);\n",
              "      border-top-color: var(--fill-color);\n",
              "    }\n",
              "    60% {\n",
              "      border-color: transparent;\n",
              "      border-right-color: var(--fill-color);\n",
              "    }\n",
              "    80% {\n",
              "      border-color: transparent;\n",
              "      border-right-color: var(--fill-color);\n",
              "      border-bottom-color: var(--fill-color);\n",
              "    }\n",
              "    90% {\n",
              "      border-color: transparent;\n",
              "      border-bottom-color: var(--fill-color);\n",
              "    }\n",
              "  }\n",
              "</style>\n",
              "\n",
              "  <script>\n",
              "    async function quickchart(key) {\n",
              "      const quickchartButtonEl =\n",
              "        document.querySelector('#' + key + ' button');\n",
              "      quickchartButtonEl.disabled = true;  // To prevent multiple clicks.\n",
              "      quickchartButtonEl.classList.add('colab-df-spinner');\n",
              "      try {\n",
              "        const charts = await google.colab.kernel.invokeFunction(\n",
              "            'suggestCharts', [key], {});\n",
              "      } catch (error) {\n",
              "        console.error('Error during call to suggestCharts:', error);\n",
              "      }\n",
              "      quickchartButtonEl.classList.remove('colab-df-spinner');\n",
              "      quickchartButtonEl.classList.add('colab-df-quickchart-complete');\n",
              "    }\n",
              "    (() => {\n",
              "      let quickchartButtonEl =\n",
              "        document.querySelector('#df-b41567a7-24ce-4738-8887-06ead38f01a4 button');\n",
              "      quickchartButtonEl.style.display =\n",
              "        google.colab.kernel.accessAllowed ? 'block' : 'none';\n",
              "    })();\n",
              "  </script>\n",
              "</div>\n",
              "    </div>\n",
              "  </div>\n"
            ]
          },
          "metadata": {},
          "execution_count": 24
        }
      ]
    },
    {
      "cell_type": "code",
      "source": [
        "# alternate way to create your own model based on hyperparams\n",
        "params = {'n_estimators': 50, 'max_features': 'sqrt', 'max_depth': None, 'criterion': 'gini'}\n",
        "best_model_copy = RandomForestClassifier(**params)\n",
        "best_model_copy.fit(X_Train, Y_Train)\n",
        "best_model_copy"
      ],
      "metadata": {
        "colab": {
          "base_uri": "https://localhost:8080/",
          "height": 74
        },
        "id": "XYUFXosLxtQL",
        "outputId": "7bb43120-35ca-46c7-8e0d-3ce2ffb83c2a"
      },
      "execution_count": null,
      "outputs": [
        {
          "output_type": "execute_result",
          "data": {
            "text/plain": [
              "RandomForestClassifier(n_estimators=50)"
            ],
            "text/html": [
              "<style>#sk-container-id-6 {color: black;background-color: white;}#sk-container-id-6 pre{padding: 0;}#sk-container-id-6 div.sk-toggleable {background-color: white;}#sk-container-id-6 label.sk-toggleable__label {cursor: pointer;display: block;width: 100%;margin-bottom: 0;padding: 0.3em;box-sizing: border-box;text-align: center;}#sk-container-id-6 label.sk-toggleable__label-arrow:before {content: \"▸\";float: left;margin-right: 0.25em;color: #696969;}#sk-container-id-6 label.sk-toggleable__label-arrow:hover:before {color: black;}#sk-container-id-6 div.sk-estimator:hover label.sk-toggleable__label-arrow:before {color: black;}#sk-container-id-6 div.sk-toggleable__content {max-height: 0;max-width: 0;overflow: hidden;text-align: left;background-color: #f0f8ff;}#sk-container-id-6 div.sk-toggleable__content pre {margin: 0.2em;color: black;border-radius: 0.25em;background-color: #f0f8ff;}#sk-container-id-6 input.sk-toggleable__control:checked~div.sk-toggleable__content {max-height: 200px;max-width: 100%;overflow: auto;}#sk-container-id-6 input.sk-toggleable__control:checked~label.sk-toggleable__label-arrow:before {content: \"▾\";}#sk-container-id-6 div.sk-estimator input.sk-toggleable__control:checked~label.sk-toggleable__label {background-color: #d4ebff;}#sk-container-id-6 div.sk-label input.sk-toggleable__control:checked~label.sk-toggleable__label {background-color: #d4ebff;}#sk-container-id-6 input.sk-hidden--visually {border: 0;clip: rect(1px 1px 1px 1px);clip: rect(1px, 1px, 1px, 1px);height: 1px;margin: -1px;overflow: hidden;padding: 0;position: absolute;width: 1px;}#sk-container-id-6 div.sk-estimator {font-family: monospace;background-color: #f0f8ff;border: 1px dotted black;border-radius: 0.25em;box-sizing: border-box;margin-bottom: 0.5em;}#sk-container-id-6 div.sk-estimator:hover {background-color: #d4ebff;}#sk-container-id-6 div.sk-parallel-item::after {content: \"\";width: 100%;border-bottom: 1px solid gray;flex-grow: 1;}#sk-container-id-6 div.sk-label:hover label.sk-toggleable__label {background-color: #d4ebff;}#sk-container-id-6 div.sk-serial::before {content: \"\";position: absolute;border-left: 1px solid gray;box-sizing: border-box;top: 0;bottom: 0;left: 50%;z-index: 0;}#sk-container-id-6 div.sk-serial {display: flex;flex-direction: column;align-items: center;background-color: white;padding-right: 0.2em;padding-left: 0.2em;position: relative;}#sk-container-id-6 div.sk-item {position: relative;z-index: 1;}#sk-container-id-6 div.sk-parallel {display: flex;align-items: stretch;justify-content: center;background-color: white;position: relative;}#sk-container-id-6 div.sk-item::before, #sk-container-id-6 div.sk-parallel-item::before {content: \"\";position: absolute;border-left: 1px solid gray;box-sizing: border-box;top: 0;bottom: 0;left: 50%;z-index: -1;}#sk-container-id-6 div.sk-parallel-item {display: flex;flex-direction: column;z-index: 1;position: relative;background-color: white;}#sk-container-id-6 div.sk-parallel-item:first-child::after {align-self: flex-end;width: 50%;}#sk-container-id-6 div.sk-parallel-item:last-child::after {align-self: flex-start;width: 50%;}#sk-container-id-6 div.sk-parallel-item:only-child::after {width: 0;}#sk-container-id-6 div.sk-dashed-wrapped {border: 1px dashed gray;margin: 0 0.4em 0.5em 0.4em;box-sizing: border-box;padding-bottom: 0.4em;background-color: white;}#sk-container-id-6 div.sk-label label {font-family: monospace;font-weight: bold;display: inline-block;line-height: 1.2em;}#sk-container-id-6 div.sk-label-container {text-align: center;}#sk-container-id-6 div.sk-container {/* jupyter's `normalize.less` sets `[hidden] { display: none; }` but bootstrap.min.css set `[hidden] { display: none !important; }` so we also need the `!important` here to be able to override the default hidden behavior on the sphinx rendered scikit-learn.org. See: https://github.com/scikit-learn/scikit-learn/issues/21755 */display: inline-block !important;position: relative;}#sk-container-id-6 div.sk-text-repr-fallback {display: none;}</style><div id=\"sk-container-id-6\" class=\"sk-top-container\"><div class=\"sk-text-repr-fallback\"><pre>RandomForestClassifier(n_estimators=50)</pre><b>In a Jupyter environment, please rerun this cell to show the HTML representation or trust the notebook. <br />On GitHub, the HTML representation is unable to render, please try loading this page with nbviewer.org.</b></div><div class=\"sk-container\" hidden><div class=\"sk-item\"><div class=\"sk-estimator sk-toggleable\"><input class=\"sk-toggleable__control sk-hidden--visually\" id=\"sk-estimator-id-8\" type=\"checkbox\" checked><label for=\"sk-estimator-id-8\" class=\"sk-toggleable__label sk-toggleable__label-arrow\">RandomForestClassifier</label><div class=\"sk-toggleable__content\"><pre>RandomForestClassifier(n_estimators=50)</pre></div></div></div></div></div>"
            ]
          },
          "metadata": {},
          "execution_count": 27
        }
      ]
    },
    {
      "cell_type": "code",
      "metadata": {
        "trusted": true,
        "colab": {
          "base_uri": "https://localhost:8080/"
        },
        "id": "VLxrGD5bTmYi",
        "outputId": "5d63c6cf-7d50-4485-d9d0-c8370e6eea57"
      },
      "source": [
        "predictionforest = best_model.predict(X_Test)\n",
        "print(confusion_matrix(Y_Test,predictionforest))\n",
        "print(classification_report(Y_Test,predictionforest))"
      ],
      "execution_count": null,
      "outputs": [
        {
          "output_type": "stream",
          "name": "stdout",
          "text": [
            "[[2401    2]\n",
            " [   2   19]]\n",
            "              precision    recall  f1-score   support\n",
            "\n",
            "           0       1.00      1.00      1.00      2403\n",
            "           1       0.90      0.90      0.90        21\n",
            "\n",
            "    accuracy                           1.00      2424\n",
            "   macro avg       0.95      0.95      0.95      2424\n",
            "weighted avg       1.00      1.00      1.00      2424\n",
            "\n"
          ]
        }
      ]
    },
    {
      "cell_type": "markdown",
      "metadata": {
        "id": "t7fGJdtRTmYi"
      },
      "source": [
        "## 4. Grid Search <a id=\"4\"></a> <br>\n",
        "In Grid Search, we set up a grid of hyperparameters and train/test our model on each of the possible combinations.\n",
        "In order to choose the parameters to use in Grid Search, we can now look at which parameters worked best with Random Search and form a grid based on them to see if we can find a better combination.\n",
        "\n",
        "Grid Search can be implemented in Python using scikit-learn GridSearchCV() function."
      ]
    },
    {
      "cell_type": "code",
      "metadata": {
        "trusted": true,
        "colab": {
          "base_uri": "https://localhost:8080/"
        },
        "id": "4yVTY0JtTmYi",
        "outputId": "03706711-cebf-4f16-af18-ad5bfbe83927"
      },
      "source": [
        "from sklearn.model_selection import GridSearchCV\n",
        "\n",
        "clf = RandomForestClassifier(random_state=42)\n",
        "\n",
        "grid_search = {'criterion': ['entropy', 'gini'],\n",
        "                 'max_depth': [10, 20, None],\n",
        "                 'max_features': ['sqrt', 'log2'],\n",
        "                 'n_estimators': [50, 100, 200]}\n",
        "               # 2 x 3 x 2 x 3 = 36 => Total of 36 models from 36 possible model hyperparameter configs\n",
        "               # 1. RandomForestClassifier(criterion='entropy', max_depth=10, max_features='sqrt', n_estimators=50)\n",
        "               # 2. RandomForestClassifier(criterion='entropy', max_depth=20, max_features='sqrt', n_estimators=50)\n",
        "               # 3. RandomForestClassifier(criterion='entropy', max_depth=None, max_features='sqrt', n_estimators=50)\n",
        "               # 4. RandomForestClassifier(criterion='entropy', max_depth=10, max_features='log2', n_estimators=50)\n",
        "               # ... total of 36 models\n",
        "\n",
        "\n",
        "grid_search_obj = GridSearchCV(estimator=clf,\n",
        "                               param_grid=grid_search,\n",
        "                               scoring='f1', cv=3, verbose=5, n_jobs=-1)\n",
        "\n",
        "grid_search_obj.fit(X_Train,Y_Train)\n",
        "\n",
        "predictionforest = grid_search_obj.best_estimator_.predict(X_Test)\n",
        "print(confusion_matrix(Y_Test,predictionforest))\n",
        "print(classification_report(Y_Test,predictionforest))"
      ],
      "execution_count": null,
      "outputs": [
        {
          "output_type": "stream",
          "name": "stdout",
          "text": [
            "Fitting 3 folds for each of 36 candidates, totalling 108 fits\n",
            "[[2401    2]\n",
            " [   2   19]]\n",
            "              precision    recall  f1-score   support\n",
            "\n",
            "           0       1.00      1.00      1.00      2403\n",
            "           1       0.90      0.90      0.90        21\n",
            "\n",
            "    accuracy                           1.00      2424\n",
            "   macro avg       0.95      0.95      0.95      2424\n",
            "weighted avg       1.00      1.00      1.00      2424\n",
            "\n"
          ]
        }
      ]
    },
    {
      "cell_type": "code",
      "source": [
        "# detailed history of all models tried and their performance in cross validation\n",
        "pd.set_option('display.max_colwidth', None)\n",
        "\n",
        "cv_result_df = pd.DataFrame({\n",
        "    'Model Rank': grid_search_obj.cv_results_['rank_test_score'],\n",
        "    'Model Hyperparams': grid_search_obj.cv_results_['params'],\n",
        "    'Avg CV F1-Score': grid_search_obj.cv_results_['mean_test_score'],\n",
        "    'Std Dev CV F1-Score': grid_search_obj.cv_results_['std_test_score'],\n",
        "    'CV Fold 1 F1-Score': grid_search_obj.cv_results_['split0_test_score'],\n",
        "    'CV Fold 2 F1-Score': grid_search_obj.cv_results_['split1_test_score'],\n",
        "    'CV Fold 3 F1-Score': grid_search_obj.cv_results_['split2_test_score']\n",
        "})\n",
        "\n",
        "\n",
        "cv_result_df.sort_values(by=['Model Rank'], ascending=True)"
      ],
      "metadata": {
        "colab": {
          "base_uri": "https://localhost:8080/",
          "height": 1000
        },
        "id": "5ZlBXpRXahsB",
        "outputId": "dc3b721b-2434-47fc-e79c-d79e7d389374"
      },
      "execution_count": null,
      "outputs": [
        {
          "output_type": "execute_result",
          "data": {
            "text/plain": [
              "    Model Rank  \\\n",
              "26           1   \n",
              "32           1   \n",
              "20           3   \n",
              "24           3   \n",
              "25           3   \n",
              "18           3   \n",
              "19           3   \n",
              "30           3   \n",
              "31           3   \n",
              "29          10   \n",
              "35          10   \n",
              "23          12   \n",
              "22          13   \n",
              "21          13   \n",
              "7           15   \n",
              "8           15   \n",
              "2           15   \n",
              "13          15   \n",
              "14          15   \n",
              "1           15   \n",
              "0           21   \n",
              "12          21   \n",
              "6           21   \n",
              "11          24   \n",
              "5           24   \n",
              "17          24   \n",
              "27          27   \n",
              "28          27   \n",
              "33          27   \n",
              "34          27   \n",
              "16          31   \n",
              "15          31   \n",
              "10          31   \n",
              "9           31   \n",
              "4           31   \n",
              "3           31   \n",
              "\n",
              "                                                                           Model Hyperparams  \\\n",
              "26       {'criterion': 'gini', 'max_depth': 20, 'max_features': 'sqrt', 'n_estimators': 200}   \n",
              "32     {'criterion': 'gini', 'max_depth': None, 'max_features': 'sqrt', 'n_estimators': 200}   \n",
              "20       {'criterion': 'gini', 'max_depth': 10, 'max_features': 'sqrt', 'n_estimators': 200}   \n",
              "24        {'criterion': 'gini', 'max_depth': 20, 'max_features': 'sqrt', 'n_estimators': 50}   \n",
              "25       {'criterion': 'gini', 'max_depth': 20, 'max_features': 'sqrt', 'n_estimators': 100}   \n",
              "18        {'criterion': 'gini', 'max_depth': 10, 'max_features': 'sqrt', 'n_estimators': 50}   \n",
              "19       {'criterion': 'gini', 'max_depth': 10, 'max_features': 'sqrt', 'n_estimators': 100}   \n",
              "30      {'criterion': 'gini', 'max_depth': None, 'max_features': 'sqrt', 'n_estimators': 50}   \n",
              "31     {'criterion': 'gini', 'max_depth': None, 'max_features': 'sqrt', 'n_estimators': 100}   \n",
              "29       {'criterion': 'gini', 'max_depth': 20, 'max_features': 'log2', 'n_estimators': 200}   \n",
              "35     {'criterion': 'gini', 'max_depth': None, 'max_features': 'log2', 'n_estimators': 200}   \n",
              "23       {'criterion': 'gini', 'max_depth': 10, 'max_features': 'log2', 'n_estimators': 200}   \n",
              "22       {'criterion': 'gini', 'max_depth': 10, 'max_features': 'log2', 'n_estimators': 100}   \n",
              "21        {'criterion': 'gini', 'max_depth': 10, 'max_features': 'log2', 'n_estimators': 50}   \n",
              "7     {'criterion': 'entropy', 'max_depth': 20, 'max_features': 'sqrt', 'n_estimators': 100}   \n",
              "8     {'criterion': 'entropy', 'max_depth': 20, 'max_features': 'sqrt', 'n_estimators': 200}   \n",
              "2     {'criterion': 'entropy', 'max_depth': 10, 'max_features': 'sqrt', 'n_estimators': 200}   \n",
              "13  {'criterion': 'entropy', 'max_depth': None, 'max_features': 'sqrt', 'n_estimators': 100}   \n",
              "14  {'criterion': 'entropy', 'max_depth': None, 'max_features': 'sqrt', 'n_estimators': 200}   \n",
              "1     {'criterion': 'entropy', 'max_depth': 10, 'max_features': 'sqrt', 'n_estimators': 100}   \n",
              "0      {'criterion': 'entropy', 'max_depth': 10, 'max_features': 'sqrt', 'n_estimators': 50}   \n",
              "12   {'criterion': 'entropy', 'max_depth': None, 'max_features': 'sqrt', 'n_estimators': 50}   \n",
              "6      {'criterion': 'entropy', 'max_depth': 20, 'max_features': 'sqrt', 'n_estimators': 50}   \n",
              "11    {'criterion': 'entropy', 'max_depth': 20, 'max_features': 'log2', 'n_estimators': 200}   \n",
              "5     {'criterion': 'entropy', 'max_depth': 10, 'max_features': 'log2', 'n_estimators': 200}   \n",
              "17  {'criterion': 'entropy', 'max_depth': None, 'max_features': 'log2', 'n_estimators': 200}   \n",
              "27        {'criterion': 'gini', 'max_depth': 20, 'max_features': 'log2', 'n_estimators': 50}   \n",
              "28       {'criterion': 'gini', 'max_depth': 20, 'max_features': 'log2', 'n_estimators': 100}   \n",
              "33      {'criterion': 'gini', 'max_depth': None, 'max_features': 'log2', 'n_estimators': 50}   \n",
              "34     {'criterion': 'gini', 'max_depth': None, 'max_features': 'log2', 'n_estimators': 100}   \n",
              "16  {'criterion': 'entropy', 'max_depth': None, 'max_features': 'log2', 'n_estimators': 100}   \n",
              "15   {'criterion': 'entropy', 'max_depth': None, 'max_features': 'log2', 'n_estimators': 50}   \n",
              "10    {'criterion': 'entropy', 'max_depth': 20, 'max_features': 'log2', 'n_estimators': 100}   \n",
              "9      {'criterion': 'entropy', 'max_depth': 20, 'max_features': 'log2', 'n_estimators': 50}   \n",
              "4     {'criterion': 'entropy', 'max_depth': 10, 'max_features': 'log2', 'n_estimators': 100}   \n",
              "3      {'criterion': 'entropy', 'max_depth': 10, 'max_features': 'log2', 'n_estimators': 50}   \n",
              "\n",
              "    Avg CV F1-Score  Std Dev CV F1-Score  CV Fold 1 F1-Score  \\\n",
              "26         0.851852             0.094426            0.888889   \n",
              "32         0.851852             0.094426            0.888889   \n",
              "20         0.841799             0.085187            0.888889   \n",
              "24         0.841799             0.085187            0.888889   \n",
              "25         0.841799             0.085187            0.888889   \n",
              "18         0.841799             0.085187            0.888889   \n",
              "19         0.841799             0.085187            0.888889   \n",
              "30         0.841799             0.085187            0.888889   \n",
              "31         0.841799             0.085187            0.888889   \n",
              "29         0.829630             0.102290            0.888889   \n",
              "35         0.829630             0.102290            0.888889   \n",
              "23         0.829101             0.107471            0.857143   \n",
              "22         0.816744             0.120433            0.888889   \n",
              "21         0.816744             0.120433            0.888889   \n",
              "7          0.815126             0.077930            0.857143   \n",
              "8          0.815126             0.077930            0.857143   \n",
              "2          0.815126             0.077930            0.857143   \n",
              "13         0.815126             0.077930            0.857143   \n",
              "14         0.815126             0.077930            0.857143   \n",
              "1          0.815126             0.077930            0.857143   \n",
              "0          0.814419             0.078499            0.888889   \n",
              "12         0.814419             0.078499            0.888889   \n",
              "6          0.814419             0.078499            0.888889   \n",
              "11         0.810967             0.059286            0.857143   \n",
              "5          0.810967             0.059286            0.857143   \n",
              "17         0.810967             0.059286            0.857143   \n",
              "27         0.806100             0.112491            0.888889   \n",
              "28         0.806100             0.112491            0.888889   \n",
              "33         0.806100             0.112491            0.888889   \n",
              "34         0.806100             0.112491            0.888889   \n",
              "16         0.798972             0.053875            0.857143   \n",
              "15         0.798972             0.053875            0.857143   \n",
              "10         0.798972             0.053875            0.857143   \n",
              "9          0.798972             0.053875            0.857143   \n",
              "4          0.798972             0.053875            0.857143   \n",
              "3          0.798972             0.053875            0.857143   \n",
              "\n",
              "    CV Fold 2 F1-Score  CV Fold 3 F1-Score  \n",
              "26            0.944444            0.722222  \n",
              "32            0.944444            0.722222  \n",
              "20            0.914286            0.722222  \n",
              "24            0.914286            0.722222  \n",
              "25            0.914286            0.722222  \n",
              "18            0.914286            0.722222  \n",
              "19            0.914286            0.722222  \n",
              "30            0.914286            0.722222  \n",
              "31            0.914286            0.722222  \n",
              "29            0.914286            0.685714  \n",
              "35            0.914286            0.685714  \n",
              "23            0.944444            0.685714  \n",
              "22            0.914286            0.647059  \n",
              "21            0.914286            0.647059  \n",
              "7             0.882353            0.705882  \n",
              "8             0.882353            0.705882  \n",
              "2             0.882353            0.705882  \n",
              "13            0.882353            0.705882  \n",
              "14            0.882353            0.705882  \n",
              "1             0.882353            0.705882  \n",
              "0             0.848485            0.705882  \n",
              "12            0.848485            0.705882  \n",
              "6             0.848485            0.705882  \n",
              "11            0.848485            0.727273  \n",
              "5             0.848485            0.727273  \n",
              "17            0.848485            0.727273  \n",
              "27            0.882353            0.647059  \n",
              "28            0.882353            0.647059  \n",
              "33            0.882353            0.647059  \n",
              "34            0.882353            0.647059  \n",
              "16            0.812500            0.727273  \n",
              "15            0.812500            0.727273  \n",
              "10            0.812500            0.727273  \n",
              "9             0.812500            0.727273  \n",
              "4             0.812500            0.727273  \n",
              "3             0.812500            0.727273  "
            ],
            "text/html": [
              "\n",
              "  <div id=\"df-2066e63f-2c58-40e7-84b2-a34ded2061e1\">\n",
              "    <div class=\"colab-df-container\">\n",
              "      <div>\n",
              "<style scoped>\n",
              "    .dataframe tbody tr th:only-of-type {\n",
              "        vertical-align: middle;\n",
              "    }\n",
              "\n",
              "    .dataframe tbody tr th {\n",
              "        vertical-align: top;\n",
              "    }\n",
              "\n",
              "    .dataframe thead th {\n",
              "        text-align: right;\n",
              "    }\n",
              "</style>\n",
              "<table border=\"1\" class=\"dataframe\">\n",
              "  <thead>\n",
              "    <tr style=\"text-align: right;\">\n",
              "      <th></th>\n",
              "      <th>Model Rank</th>\n",
              "      <th>Model Hyperparams</th>\n",
              "      <th>Avg CV F1-Score</th>\n",
              "      <th>Std Dev CV F1-Score</th>\n",
              "      <th>CV Fold 1 F1-Score</th>\n",
              "      <th>CV Fold 2 F1-Score</th>\n",
              "      <th>CV Fold 3 F1-Score</th>\n",
              "    </tr>\n",
              "  </thead>\n",
              "  <tbody>\n",
              "    <tr>\n",
              "      <th>26</th>\n",
              "      <td>1</td>\n",
              "      <td>{'criterion': 'gini', 'max_depth': 20, 'max_features': 'sqrt', 'n_estimators': 200}</td>\n",
              "      <td>0.851852</td>\n",
              "      <td>0.094426</td>\n",
              "      <td>0.888889</td>\n",
              "      <td>0.944444</td>\n",
              "      <td>0.722222</td>\n",
              "    </tr>\n",
              "    <tr>\n",
              "      <th>32</th>\n",
              "      <td>1</td>\n",
              "      <td>{'criterion': 'gini', 'max_depth': None, 'max_features': 'sqrt', 'n_estimators': 200}</td>\n",
              "      <td>0.851852</td>\n",
              "      <td>0.094426</td>\n",
              "      <td>0.888889</td>\n",
              "      <td>0.944444</td>\n",
              "      <td>0.722222</td>\n",
              "    </tr>\n",
              "    <tr>\n",
              "      <th>20</th>\n",
              "      <td>3</td>\n",
              "      <td>{'criterion': 'gini', 'max_depth': 10, 'max_features': 'sqrt', 'n_estimators': 200}</td>\n",
              "      <td>0.841799</td>\n",
              "      <td>0.085187</td>\n",
              "      <td>0.888889</td>\n",
              "      <td>0.914286</td>\n",
              "      <td>0.722222</td>\n",
              "    </tr>\n",
              "    <tr>\n",
              "      <th>24</th>\n",
              "      <td>3</td>\n",
              "      <td>{'criterion': 'gini', 'max_depth': 20, 'max_features': 'sqrt', 'n_estimators': 50}</td>\n",
              "      <td>0.841799</td>\n",
              "      <td>0.085187</td>\n",
              "      <td>0.888889</td>\n",
              "      <td>0.914286</td>\n",
              "      <td>0.722222</td>\n",
              "    </tr>\n",
              "    <tr>\n",
              "      <th>25</th>\n",
              "      <td>3</td>\n",
              "      <td>{'criterion': 'gini', 'max_depth': 20, 'max_features': 'sqrt', 'n_estimators': 100}</td>\n",
              "      <td>0.841799</td>\n",
              "      <td>0.085187</td>\n",
              "      <td>0.888889</td>\n",
              "      <td>0.914286</td>\n",
              "      <td>0.722222</td>\n",
              "    </tr>\n",
              "    <tr>\n",
              "      <th>18</th>\n",
              "      <td>3</td>\n",
              "      <td>{'criterion': 'gini', 'max_depth': 10, 'max_features': 'sqrt', 'n_estimators': 50}</td>\n",
              "      <td>0.841799</td>\n",
              "      <td>0.085187</td>\n",
              "      <td>0.888889</td>\n",
              "      <td>0.914286</td>\n",
              "      <td>0.722222</td>\n",
              "    </tr>\n",
              "    <tr>\n",
              "      <th>19</th>\n",
              "      <td>3</td>\n",
              "      <td>{'criterion': 'gini', 'max_depth': 10, 'max_features': 'sqrt', 'n_estimators': 100}</td>\n",
              "      <td>0.841799</td>\n",
              "      <td>0.085187</td>\n",
              "      <td>0.888889</td>\n",
              "      <td>0.914286</td>\n",
              "      <td>0.722222</td>\n",
              "    </tr>\n",
              "    <tr>\n",
              "      <th>30</th>\n",
              "      <td>3</td>\n",
              "      <td>{'criterion': 'gini', 'max_depth': None, 'max_features': 'sqrt', 'n_estimators': 50}</td>\n",
              "      <td>0.841799</td>\n",
              "      <td>0.085187</td>\n",
              "      <td>0.888889</td>\n",
              "      <td>0.914286</td>\n",
              "      <td>0.722222</td>\n",
              "    </tr>\n",
              "    <tr>\n",
              "      <th>31</th>\n",
              "      <td>3</td>\n",
              "      <td>{'criterion': 'gini', 'max_depth': None, 'max_features': 'sqrt', 'n_estimators': 100}</td>\n",
              "      <td>0.841799</td>\n",
              "      <td>0.085187</td>\n",
              "      <td>0.888889</td>\n",
              "      <td>0.914286</td>\n",
              "      <td>0.722222</td>\n",
              "    </tr>\n",
              "    <tr>\n",
              "      <th>29</th>\n",
              "      <td>10</td>\n",
              "      <td>{'criterion': 'gini', 'max_depth': 20, 'max_features': 'log2', 'n_estimators': 200}</td>\n",
              "      <td>0.829630</td>\n",
              "      <td>0.102290</td>\n",
              "      <td>0.888889</td>\n",
              "      <td>0.914286</td>\n",
              "      <td>0.685714</td>\n",
              "    </tr>\n",
              "    <tr>\n",
              "      <th>35</th>\n",
              "      <td>10</td>\n",
              "      <td>{'criterion': 'gini', 'max_depth': None, 'max_features': 'log2', 'n_estimators': 200}</td>\n",
              "      <td>0.829630</td>\n",
              "      <td>0.102290</td>\n",
              "      <td>0.888889</td>\n",
              "      <td>0.914286</td>\n",
              "      <td>0.685714</td>\n",
              "    </tr>\n",
              "    <tr>\n",
              "      <th>23</th>\n",
              "      <td>12</td>\n",
              "      <td>{'criterion': 'gini', 'max_depth': 10, 'max_features': 'log2', 'n_estimators': 200}</td>\n",
              "      <td>0.829101</td>\n",
              "      <td>0.107471</td>\n",
              "      <td>0.857143</td>\n",
              "      <td>0.944444</td>\n",
              "      <td>0.685714</td>\n",
              "    </tr>\n",
              "    <tr>\n",
              "      <th>22</th>\n",
              "      <td>13</td>\n",
              "      <td>{'criterion': 'gini', 'max_depth': 10, 'max_features': 'log2', 'n_estimators': 100}</td>\n",
              "      <td>0.816744</td>\n",
              "      <td>0.120433</td>\n",
              "      <td>0.888889</td>\n",
              "      <td>0.914286</td>\n",
              "      <td>0.647059</td>\n",
              "    </tr>\n",
              "    <tr>\n",
              "      <th>21</th>\n",
              "      <td>13</td>\n",
              "      <td>{'criterion': 'gini', 'max_depth': 10, 'max_features': 'log2', 'n_estimators': 50}</td>\n",
              "      <td>0.816744</td>\n",
              "      <td>0.120433</td>\n",
              "      <td>0.888889</td>\n",
              "      <td>0.914286</td>\n",
              "      <td>0.647059</td>\n",
              "    </tr>\n",
              "    <tr>\n",
              "      <th>7</th>\n",
              "      <td>15</td>\n",
              "      <td>{'criterion': 'entropy', 'max_depth': 20, 'max_features': 'sqrt', 'n_estimators': 100}</td>\n",
              "      <td>0.815126</td>\n",
              "      <td>0.077930</td>\n",
              "      <td>0.857143</td>\n",
              "      <td>0.882353</td>\n",
              "      <td>0.705882</td>\n",
              "    </tr>\n",
              "    <tr>\n",
              "      <th>8</th>\n",
              "      <td>15</td>\n",
              "      <td>{'criterion': 'entropy', 'max_depth': 20, 'max_features': 'sqrt', 'n_estimators': 200}</td>\n",
              "      <td>0.815126</td>\n",
              "      <td>0.077930</td>\n",
              "      <td>0.857143</td>\n",
              "      <td>0.882353</td>\n",
              "      <td>0.705882</td>\n",
              "    </tr>\n",
              "    <tr>\n",
              "      <th>2</th>\n",
              "      <td>15</td>\n",
              "      <td>{'criterion': 'entropy', 'max_depth': 10, 'max_features': 'sqrt', 'n_estimators': 200}</td>\n",
              "      <td>0.815126</td>\n",
              "      <td>0.077930</td>\n",
              "      <td>0.857143</td>\n",
              "      <td>0.882353</td>\n",
              "      <td>0.705882</td>\n",
              "    </tr>\n",
              "    <tr>\n",
              "      <th>13</th>\n",
              "      <td>15</td>\n",
              "      <td>{'criterion': 'entropy', 'max_depth': None, 'max_features': 'sqrt', 'n_estimators': 100}</td>\n",
              "      <td>0.815126</td>\n",
              "      <td>0.077930</td>\n",
              "      <td>0.857143</td>\n",
              "      <td>0.882353</td>\n",
              "      <td>0.705882</td>\n",
              "    </tr>\n",
              "    <tr>\n",
              "      <th>14</th>\n",
              "      <td>15</td>\n",
              "      <td>{'criterion': 'entropy', 'max_depth': None, 'max_features': 'sqrt', 'n_estimators': 200}</td>\n",
              "      <td>0.815126</td>\n",
              "      <td>0.077930</td>\n",
              "      <td>0.857143</td>\n",
              "      <td>0.882353</td>\n",
              "      <td>0.705882</td>\n",
              "    </tr>\n",
              "    <tr>\n",
              "      <th>1</th>\n",
              "      <td>15</td>\n",
              "      <td>{'criterion': 'entropy', 'max_depth': 10, 'max_features': 'sqrt', 'n_estimators': 100}</td>\n",
              "      <td>0.815126</td>\n",
              "      <td>0.077930</td>\n",
              "      <td>0.857143</td>\n",
              "      <td>0.882353</td>\n",
              "      <td>0.705882</td>\n",
              "    </tr>\n",
              "    <tr>\n",
              "      <th>0</th>\n",
              "      <td>21</td>\n",
              "      <td>{'criterion': 'entropy', 'max_depth': 10, 'max_features': 'sqrt', 'n_estimators': 50}</td>\n",
              "      <td>0.814419</td>\n",
              "      <td>0.078499</td>\n",
              "      <td>0.888889</td>\n",
              "      <td>0.848485</td>\n",
              "      <td>0.705882</td>\n",
              "    </tr>\n",
              "    <tr>\n",
              "      <th>12</th>\n",
              "      <td>21</td>\n",
              "      <td>{'criterion': 'entropy', 'max_depth': None, 'max_features': 'sqrt', 'n_estimators': 50}</td>\n",
              "      <td>0.814419</td>\n",
              "      <td>0.078499</td>\n",
              "      <td>0.888889</td>\n",
              "      <td>0.848485</td>\n",
              "      <td>0.705882</td>\n",
              "    </tr>\n",
              "    <tr>\n",
              "      <th>6</th>\n",
              "      <td>21</td>\n",
              "      <td>{'criterion': 'entropy', 'max_depth': 20, 'max_features': 'sqrt', 'n_estimators': 50}</td>\n",
              "      <td>0.814419</td>\n",
              "      <td>0.078499</td>\n",
              "      <td>0.888889</td>\n",
              "      <td>0.848485</td>\n",
              "      <td>0.705882</td>\n",
              "    </tr>\n",
              "    <tr>\n",
              "      <th>11</th>\n",
              "      <td>24</td>\n",
              "      <td>{'criterion': 'entropy', 'max_depth': 20, 'max_features': 'log2', 'n_estimators': 200}</td>\n",
              "      <td>0.810967</td>\n",
              "      <td>0.059286</td>\n",
              "      <td>0.857143</td>\n",
              "      <td>0.848485</td>\n",
              "      <td>0.727273</td>\n",
              "    </tr>\n",
              "    <tr>\n",
              "      <th>5</th>\n",
              "      <td>24</td>\n",
              "      <td>{'criterion': 'entropy', 'max_depth': 10, 'max_features': 'log2', 'n_estimators': 200}</td>\n",
              "      <td>0.810967</td>\n",
              "      <td>0.059286</td>\n",
              "      <td>0.857143</td>\n",
              "      <td>0.848485</td>\n",
              "      <td>0.727273</td>\n",
              "    </tr>\n",
              "    <tr>\n",
              "      <th>17</th>\n",
              "      <td>24</td>\n",
              "      <td>{'criterion': 'entropy', 'max_depth': None, 'max_features': 'log2', 'n_estimators': 200}</td>\n",
              "      <td>0.810967</td>\n",
              "      <td>0.059286</td>\n",
              "      <td>0.857143</td>\n",
              "      <td>0.848485</td>\n",
              "      <td>0.727273</td>\n",
              "    </tr>\n",
              "    <tr>\n",
              "      <th>27</th>\n",
              "      <td>27</td>\n",
              "      <td>{'criterion': 'gini', 'max_depth': 20, 'max_features': 'log2', 'n_estimators': 50}</td>\n",
              "      <td>0.806100</td>\n",
              "      <td>0.112491</td>\n",
              "      <td>0.888889</td>\n",
              "      <td>0.882353</td>\n",
              "      <td>0.647059</td>\n",
              "    </tr>\n",
              "    <tr>\n",
              "      <th>28</th>\n",
              "      <td>27</td>\n",
              "      <td>{'criterion': 'gini', 'max_depth': 20, 'max_features': 'log2', 'n_estimators': 100}</td>\n",
              "      <td>0.806100</td>\n",
              "      <td>0.112491</td>\n",
              "      <td>0.888889</td>\n",
              "      <td>0.882353</td>\n",
              "      <td>0.647059</td>\n",
              "    </tr>\n",
              "    <tr>\n",
              "      <th>33</th>\n",
              "      <td>27</td>\n",
              "      <td>{'criterion': 'gini', 'max_depth': None, 'max_features': 'log2', 'n_estimators': 50}</td>\n",
              "      <td>0.806100</td>\n",
              "      <td>0.112491</td>\n",
              "      <td>0.888889</td>\n",
              "      <td>0.882353</td>\n",
              "      <td>0.647059</td>\n",
              "    </tr>\n",
              "    <tr>\n",
              "      <th>34</th>\n",
              "      <td>27</td>\n",
              "      <td>{'criterion': 'gini', 'max_depth': None, 'max_features': 'log2', 'n_estimators': 100}</td>\n",
              "      <td>0.806100</td>\n",
              "      <td>0.112491</td>\n",
              "      <td>0.888889</td>\n",
              "      <td>0.882353</td>\n",
              "      <td>0.647059</td>\n",
              "    </tr>\n",
              "    <tr>\n",
              "      <th>16</th>\n",
              "      <td>31</td>\n",
              "      <td>{'criterion': 'entropy', 'max_depth': None, 'max_features': 'log2', 'n_estimators': 100}</td>\n",
              "      <td>0.798972</td>\n",
              "      <td>0.053875</td>\n",
              "      <td>0.857143</td>\n",
              "      <td>0.812500</td>\n",
              "      <td>0.727273</td>\n",
              "    </tr>\n",
              "    <tr>\n",
              "      <th>15</th>\n",
              "      <td>31</td>\n",
              "      <td>{'criterion': 'entropy', 'max_depth': None, 'max_features': 'log2', 'n_estimators': 50}</td>\n",
              "      <td>0.798972</td>\n",
              "      <td>0.053875</td>\n",
              "      <td>0.857143</td>\n",
              "      <td>0.812500</td>\n",
              "      <td>0.727273</td>\n",
              "    </tr>\n",
              "    <tr>\n",
              "      <th>10</th>\n",
              "      <td>31</td>\n",
              "      <td>{'criterion': 'entropy', 'max_depth': 20, 'max_features': 'log2', 'n_estimators': 100}</td>\n",
              "      <td>0.798972</td>\n",
              "      <td>0.053875</td>\n",
              "      <td>0.857143</td>\n",
              "      <td>0.812500</td>\n",
              "      <td>0.727273</td>\n",
              "    </tr>\n",
              "    <tr>\n",
              "      <th>9</th>\n",
              "      <td>31</td>\n",
              "      <td>{'criterion': 'entropy', 'max_depth': 20, 'max_features': 'log2', 'n_estimators': 50}</td>\n",
              "      <td>0.798972</td>\n",
              "      <td>0.053875</td>\n",
              "      <td>0.857143</td>\n",
              "      <td>0.812500</td>\n",
              "      <td>0.727273</td>\n",
              "    </tr>\n",
              "    <tr>\n",
              "      <th>4</th>\n",
              "      <td>31</td>\n",
              "      <td>{'criterion': 'entropy', 'max_depth': 10, 'max_features': 'log2', 'n_estimators': 100}</td>\n",
              "      <td>0.798972</td>\n",
              "      <td>0.053875</td>\n",
              "      <td>0.857143</td>\n",
              "      <td>0.812500</td>\n",
              "      <td>0.727273</td>\n",
              "    </tr>\n",
              "    <tr>\n",
              "      <th>3</th>\n",
              "      <td>31</td>\n",
              "      <td>{'criterion': 'entropy', 'max_depth': 10, 'max_features': 'log2', 'n_estimators': 50}</td>\n",
              "      <td>0.798972</td>\n",
              "      <td>0.053875</td>\n",
              "      <td>0.857143</td>\n",
              "      <td>0.812500</td>\n",
              "      <td>0.727273</td>\n",
              "    </tr>\n",
              "  </tbody>\n",
              "</table>\n",
              "</div>\n",
              "      <button class=\"colab-df-convert\" onclick=\"convertToInteractive('df-2066e63f-2c58-40e7-84b2-a34ded2061e1')\"\n",
              "              title=\"Convert this dataframe to an interactive table.\"\n",
              "              style=\"display:none;\">\n",
              "        \n",
              "  <svg xmlns=\"http://www.w3.org/2000/svg\" height=\"24px\"viewBox=\"0 0 24 24\"\n",
              "       width=\"24px\">\n",
              "    <path d=\"M0 0h24v24H0V0z\" fill=\"none\"/>\n",
              "    <path d=\"M18.56 5.44l.94 2.06.94-2.06 2.06-.94-2.06-.94-.94-2.06-.94 2.06-2.06.94zm-11 1L8.5 8.5l.94-2.06 2.06-.94-2.06-.94L8.5 2.5l-.94 2.06-2.06.94zm10 10l.94 2.06.94-2.06 2.06-.94-2.06-.94-.94-2.06-.94 2.06-2.06.94z\"/><path d=\"M17.41 7.96l-1.37-1.37c-.4-.4-.92-.59-1.43-.59-.52 0-1.04.2-1.43.59L10.3 9.45l-7.72 7.72c-.78.78-.78 2.05 0 2.83L4 21.41c.39.39.9.59 1.41.59.51 0 1.02-.2 1.41-.59l7.78-7.78 2.81-2.81c.8-.78.8-2.07 0-2.86zM5.41 20L4 18.59l7.72-7.72 1.47 1.35L5.41 20z\"/>\n",
              "  </svg>\n",
              "      </button>\n",
              "      \n",
              "  <style>\n",
              "    .colab-df-container {\n",
              "      display:flex;\n",
              "      flex-wrap:wrap;\n",
              "      gap: 12px;\n",
              "    }\n",
              "\n",
              "    .colab-df-convert {\n",
              "      background-color: #E8F0FE;\n",
              "      border: none;\n",
              "      border-radius: 50%;\n",
              "      cursor: pointer;\n",
              "      display: none;\n",
              "      fill: #1967D2;\n",
              "      height: 32px;\n",
              "      padding: 0 0 0 0;\n",
              "      width: 32px;\n",
              "    }\n",
              "\n",
              "    .colab-df-convert:hover {\n",
              "      background-color: #E2EBFA;\n",
              "      box-shadow: 0px 1px 2px rgba(60, 64, 67, 0.3), 0px 1px 3px 1px rgba(60, 64, 67, 0.15);\n",
              "      fill: #174EA6;\n",
              "    }\n",
              "\n",
              "    [theme=dark] .colab-df-convert {\n",
              "      background-color: #3B4455;\n",
              "      fill: #D2E3FC;\n",
              "    }\n",
              "\n",
              "    [theme=dark] .colab-df-convert:hover {\n",
              "      background-color: #434B5C;\n",
              "      box-shadow: 0px 1px 3px 1px rgba(0, 0, 0, 0.15);\n",
              "      filter: drop-shadow(0px 1px 2px rgba(0, 0, 0, 0.3));\n",
              "      fill: #FFFFFF;\n",
              "    }\n",
              "  </style>\n",
              "\n",
              "      <script>\n",
              "        const buttonEl =\n",
              "          document.querySelector('#df-2066e63f-2c58-40e7-84b2-a34ded2061e1 button.colab-df-convert');\n",
              "        buttonEl.style.display =\n",
              "          google.colab.kernel.accessAllowed ? 'block' : 'none';\n",
              "\n",
              "        async function convertToInteractive(key) {\n",
              "          const element = document.querySelector('#df-2066e63f-2c58-40e7-84b2-a34ded2061e1');\n",
              "          const dataTable =\n",
              "            await google.colab.kernel.invokeFunction('convertToInteractive',\n",
              "                                                     [key], {});\n",
              "          if (!dataTable) return;\n",
              "\n",
              "          const docLinkHtml = 'Like what you see? Visit the ' +\n",
              "            '<a target=\"_blank\" href=https://colab.research.google.com/notebooks/data_table.ipynb>data table notebook</a>'\n",
              "            + ' to learn more about interactive tables.';\n",
              "          element.innerHTML = '';\n",
              "          dataTable['output_type'] = 'display_data';\n",
              "          await google.colab.output.renderOutput(dataTable, element);\n",
              "          const docLink = document.createElement('div');\n",
              "          docLink.innerHTML = docLinkHtml;\n",
              "          element.appendChild(docLink);\n",
              "        }\n",
              "      </script>\n",
              "    </div>\n",
              "  </div>\n",
              "  "
            ]
          },
          "metadata": {},
          "execution_count": 36
        }
      ]
    },
    {
      "cell_type": "code",
      "metadata": {
        "colab": {
          "base_uri": "https://localhost:8080/"
        },
        "id": "hq8NCQ9_LS8t",
        "outputId": "5d3b4f86-c681-4749-9eda-bc4b56a013b1"
      },
      "source": [
        "grid_search_obj.best_params_"
      ],
      "execution_count": null,
      "outputs": [
        {
          "output_type": "execute_result",
          "data": {
            "text/plain": [
              "{'criterion': 'gini',\n",
              " 'max_depth': 20,\n",
              " 'max_features': 'sqrt',\n",
              " 'n_estimators': 200}"
            ]
          },
          "metadata": {},
          "execution_count": 37
        }
      ]
    },
    {
      "cell_type": "markdown",
      "metadata": {
        "id": "WQGHzW5ATmYj"
      },
      "source": [
        "Grid Search is slower compared to Random Search but it can be overall more effective because it can go through the whole search space. Instead, Random Search can be faster fast but might miss some important points in the search space.\n",
        "## 5. Automated Hyperparameter Tuning <a id=\"5\"></a> <br>\n",
        "\n",
        "![](https://better.future-processing.com/directus/storage/uploads/2399317284eda5016daac68812d5d3c3.png)\n",
        "\n",
        "As we have seen above tuning machine learning hyperparameters is indeed a tedious but crucial task, as the performance of an algorithm can be highly dependent on the choice of hyperparameters. Manual tuning takes time away from important steps of the machine learning pipeline like feature engineering and interpreting results. Grid and random search are hands-off, but require long run times because they waste time evaluating unpromising areas of the search space. Increasingly, hyperparameter tuning is done by automated methods that aim to find optimal hyperparameters in less time using an informed search with no manual effort necessary beyond the initial set-up.\n",
        "\n",
        "When using Automated Hyperparameter Tuning, the model hyperparameters to use are identified using techniques such as: Bayesian Optimization, Gradient Descent and Evolutionary Algorithms.\n",
        "\n",
        "## Bayesian Optimization using HyperOpt <a id=\"51\"></a> <br>\n",
        "\n",
        "![](https://i.imgur.com/BWbgCSx.jpg)\n",
        "Bayesian optimization, a model-based method for finding the minimum of a function,while the final aim is to find the input value to a function which can give us the lowest possible output value has resulted in achieving better performance while requiring fewer iterations than random search.  Bayesian Optimization can, therefore, lead to better performance in the testing phase and reduced optimization time.\n",
        "\n",
        "Bayesian Optimization can be performed in Python using the Hyperopt library.  \n",
        "\n",
        "![](https://camo.githubusercontent.com/b92ead141ef3726da38eef053864aa1173012789/68747470733a2f2f692e706f7374696d672e63632f54506d66665772702f68797065726f70742d6e65772e706e67)\n",
        "\n",
        "In Hyperopt, Bayesian Optimization can be implemented giving 3 three main parameters to the function fmin().\n",
        "\n",
        "* **Objective Function** = defines the loss function to minimize.\n",
        "* **Domain Space** = defines the range of input values to test (in Bayesian Optimization this space creates a probability distribution for each of the used Hyperparameters).\n",
        "* **Optimization Algorithm** = defines the search algorithm to use to select the best input values to use in each new iteration.\n",
        "\n",
        "Additionally, can also be defined in **fmin()** the maximum number of evaluations to perform.\n",
        "\n",
        "Bayesian Optimization can reduce the number of search iterations by choosing the input values bearing in mind the past outcomes. In this way, we can concentrate our search from the beginning on values which are closer to our desired output.\n",
        "We can now run our Bayesian Optimizer using the fmin() function. A Trials() object is first created to make possible to visualize later what was going on while the **fmin()** function was running (eg. how the loss function was changing and how to used Hyperparameters were changing).\n",
        "\n",
        "\n",
        "Hyperopt is one of several automated hyperparameter tuning libraries using Bayesian optimization. These libraries differ in the algorithm used to both construct the surrogate (probability model) of the objective function and choose the next hyperparameters to evaluate in the objective function. Hyperopt uses the Tree Parzen Estimator (TPE). Other Python libraries include Spearmint, which uses a Gaussian process for the surrogate, and SMAC, which uses a random forest regression.\n",
        "\n",
        "Hyperopt has a simple syntax for structuring an optimization problem which extends beyond hyperparameter tuning to any problem that involves minimizing a function."
      ]
    },
    {
      "cell_type": "code",
      "metadata": {
        "_kg_hide-output": true,
        "trusted": true,
        "colab": {
          "base_uri": "https://localhost:8080/"
        },
        "id": "y9gGFXx5TmYj",
        "outputId": "37c36bac-d680-4687-c766-259f12f713c8"
      },
      "source": [
        "!pip install hyperopt"
      ],
      "execution_count": null,
      "outputs": [
        {
          "output_type": "stream",
          "name": "stdout",
          "text": [
            "Looking in indexes: https://pypi.org/simple, https://us-python.pkg.dev/colab-wheels/public/simple/\n",
            "Requirement already satisfied: hyperopt in /usr/local/lib/python3.7/dist-packages (0.1.2)\n",
            "Requirement already satisfied: future in /usr/local/lib/python3.7/dist-packages (from hyperopt) (0.16.0)\n",
            "Requirement already satisfied: networkx in /usr/local/lib/python3.7/dist-packages (from hyperopt) (2.6.3)\n",
            "Requirement already satisfied: scipy in /usr/local/lib/python3.7/dist-packages (from hyperopt) (1.7.3)\n",
            "Requirement already satisfied: tqdm in /usr/local/lib/python3.7/dist-packages (from hyperopt) (4.64.1)\n",
            "Requirement already satisfied: six in /usr/local/lib/python3.7/dist-packages (from hyperopt) (1.15.0)\n",
            "Requirement already satisfied: pymongo in /usr/local/lib/python3.7/dist-packages (from hyperopt) (4.2.0)\n",
            "Requirement already satisfied: numpy in /usr/local/lib/python3.7/dist-packages (from hyperopt) (1.21.6)\n"
          ]
        }
      ]
    },
    {
      "cell_type": "code",
      "metadata": {
        "trusted": true,
        "colab": {
          "base_uri": "https://localhost:8080/"
        },
        "id": "E2topPTTTmYj",
        "outputId": "eeb2bd67-af30-455d-c8d8-a6c0f2ee7150"
      },
      "source": [
        "from hyperopt import hp, fmin, tpe, STATUS_OK, Trials\n",
        "\n",
        "space = {\n",
        "    'criterion': hp.choice('criterion', ['entropy', 'gini']),\n",
        "    'max_depth':  hp.choice('max_depth', [10, 20, None]),\n",
        "    'max_features': hp.choice('max_features', ['sqrt','log2']),\n",
        "    'n_estimators' : hp.choice('n_estimators', [50, 100, 200])\n",
        "}\n",
        "\n",
        "def objective(space):\n",
        "    model = RandomForestClassifier(criterion = space['criterion'],\n",
        "                                   max_depth = space['max_depth'],\n",
        "                                   max_features = space['max_features'],\n",
        "                                   n_estimators = space['n_estimators'],\n",
        "                                   random_state=42\n",
        "                                 )\n",
        "\n",
        "    f1 = cross_val_score(model, X_Train, Y_Train, cv=3, scoring='f1').mean()\n",
        "\n",
        "    # We aim to maximize accuracy, therefore we return it as a negative value\n",
        "    return {'loss': -f1, 'status': STATUS_OK }\n",
        "\n",
        "trials = Trials()\n",
        "\n",
        "best = fmin(fn=objective,\n",
        "            space=space,\n",
        "            algo=tpe.suggest, # Tree parzen estimator\n",
        "            max_evals=20,\n",
        "            trials=trials)\n",
        "best"
      ],
      "execution_count": null,
      "outputs": [
        {
          "output_type": "stream",
          "name": "stdout",
          "text": [
            "100%|██████████| 20/20 [01:12<00:00,  3.63s/it, best loss: -0.851851851851852]\n"
          ]
        },
        {
          "output_type": "execute_result",
          "data": {
            "text/plain": [
              "{'criterion': 1, 'max_depth': 2, 'max_features': 0, 'n_estimators': 2}"
            ]
          },
          "metadata": {},
          "execution_count": 27
        }
      ]
    },
    {
      "cell_type": "markdown",
      "metadata": {
        "id": "dlUWI1ipTmYk"
      },
      "source": [
        "We can now retrieve the set of **best** parameters identified and test our model using the **best** dictionary created during training. Some of the parameters have been stored in the **best** dictionary numerically using indices, therefore, we need first to convert them back as strings before input them in our Random Forest."
      ]
    },
    {
      "cell_type": "code",
      "metadata": {
        "trusted": true,
        "colab": {
          "base_uri": "https://localhost:8080/"
        },
        "id": "VGp65iz_TmYk",
        "outputId": "4751794d-34f9-4fd4-e016-5334bcdff51c"
      },
      "source": [
        "crit = {0: 'entropy', 1: 'gini'}\n",
        "feat = {0: 'sqrt', 1: 'log2'}\n",
        "depth = {0: 10, 1: 20, 2: None}\n",
        "est = {0: 50, 1: 100, 2: 200}\n",
        "\n",
        "trainedforest = RandomForestClassifier(criterion = crit[best['criterion']],\n",
        "                                       max_depth = depth[best['max_depth']],\n",
        "                                       max_features = feat[best['max_features']],\n",
        "                                       n_estimators = est[best['n_estimators']],\n",
        "                                       random_state=42\n",
        "                                      ).fit(X_Train,Y_Train)\n",
        "\n",
        "predictionforest = trainedforest.predict(X_Test)\n",
        "print(confusion_matrix(Y_Test,predictionforest))\n",
        "print(classification_report(Y_Test,predictionforest))"
      ],
      "execution_count": null,
      "outputs": [
        {
          "output_type": "stream",
          "name": "stdout",
          "text": [
            "[[2401    2]\n",
            " [   2   19]]\n",
            "              precision    recall  f1-score   support\n",
            "\n",
            "           0       1.00      1.00      1.00      2403\n",
            "           1       0.90      0.90      0.90        21\n",
            "\n",
            "    accuracy                           1.00      2424\n",
            "   macro avg       0.95      0.95      0.95      2424\n",
            "weighted avg       1.00      1.00      1.00      2424\n",
            "\n"
          ]
        }
      ]
    },
    {
      "cell_type": "markdown",
      "metadata": {
        "_cell_guid": "d4a7247b-6654-483b-b8d5-a754c7834efe",
        "_uuid": "78e8638406e22164d84aec94c2742c92da1f19ce",
        "id": "PFMGXiphTmYq"
      },
      "source": [
        "\n",
        "## Conclusion <a id=\"9\"></a> <br>\n",
        "\n",
        "**Now you have a fair understanding of how to do Hyperparameter Tuning with open source libraries as mentioned above.**"
      ]
    },
    {
      "cell_type": "code",
      "source": [],
      "metadata": {
        "id": "Al4UkvdNxzYE"
      },
      "execution_count": null,
      "outputs": []
    }
  ]
}