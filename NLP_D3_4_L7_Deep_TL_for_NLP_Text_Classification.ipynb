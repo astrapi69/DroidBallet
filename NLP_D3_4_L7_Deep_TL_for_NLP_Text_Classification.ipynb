{
  "nbformat": 4,
  "nbformat_minor": 0,
  "metadata": {
    "accelerator": "GPU",
    "colab": {
      "provenance": [],
      "gpuType": "T4",
      "include_colab_link": true
    },
    "kernelspec": {
      "display_name": "Python 3",
      "name": "python3"
    },
    "language_info": {
      "codemirror_mode": {
        "name": "ipython",
        "version": 3
      },
      "file_extension": ".py",
      "mimetype": "text/x-python",
      "name": "python",
      "nbconvert_exporter": "python",
      "pygments_lexer": "ipython3",
      "version": "3.7.6"
    },
    "widgets": {
      "application/vnd.jupyter.widget-state+json": {
        "fedc013aa7fe4fc1a7bb0da222852ada": {
          "model_module": "@jupyter-widgets/controls",
          "model_name": "HBoxModel",
          "model_module_version": "1.5.0",
          "state": {
            "_dom_classes": [],
            "_model_module": "@jupyter-widgets/controls",
            "_model_module_version": "1.5.0",
            "_model_name": "HBoxModel",
            "_view_count": null,
            "_view_module": "@jupyter-widgets/controls",
            "_view_module_version": "1.5.0",
            "_view_name": "HBoxView",
            "box_style": "",
            "children": [
              "IPY_MODEL_5994a8a027da4d2c93a40e6c9deb6a48",
              "IPY_MODEL_47c52f00ac664580bd35b1eadcec4126",
              "IPY_MODEL_ffa77ad7fa5845aa82583176539a212a"
            ],
            "layout": "IPY_MODEL_57367bf47174488fbc6e3b0244555920"
          }
        },
        "5994a8a027da4d2c93a40e6c9deb6a48": {
          "model_module": "@jupyter-widgets/controls",
          "model_name": "HTMLModel",
          "model_module_version": "1.5.0",
          "state": {
            "_dom_classes": [],
            "_model_module": "@jupyter-widgets/controls",
            "_model_module_version": "1.5.0",
            "_model_name": "HTMLModel",
            "_view_count": null,
            "_view_module": "@jupyter-widgets/controls",
            "_view_module_version": "1.5.0",
            "_view_name": "HTMLView",
            "description": "",
            "description_tooltip": null,
            "layout": "IPY_MODEL_9ae77a0e332343b3964188f3b20c8ee7",
            "placeholder": "​",
            "style": "IPY_MODEL_e638c200a6584e7bb2596f0f751e65c6",
            "value": "Downloading (…)solve/main/vocab.txt: 100%"
          }
        },
        "47c52f00ac664580bd35b1eadcec4126": {
          "model_module": "@jupyter-widgets/controls",
          "model_name": "FloatProgressModel",
          "model_module_version": "1.5.0",
          "state": {
            "_dom_classes": [],
            "_model_module": "@jupyter-widgets/controls",
            "_model_module_version": "1.5.0",
            "_model_name": "FloatProgressModel",
            "_view_count": null,
            "_view_module": "@jupyter-widgets/controls",
            "_view_module_version": "1.5.0",
            "_view_name": "ProgressView",
            "bar_style": "success",
            "description": "",
            "description_tooltip": null,
            "layout": "IPY_MODEL_23c2f216d2f04a6f8cf156cf4e1e9a11",
            "max": 231508,
            "min": 0,
            "orientation": "horizontal",
            "style": "IPY_MODEL_37ca652971f54583ae95f07a90e170f2",
            "value": 231508
          }
        },
        "ffa77ad7fa5845aa82583176539a212a": {
          "model_module": "@jupyter-widgets/controls",
          "model_name": "HTMLModel",
          "model_module_version": "1.5.0",
          "state": {
            "_dom_classes": [],
            "_model_module": "@jupyter-widgets/controls",
            "_model_module_version": "1.5.0",
            "_model_name": "HTMLModel",
            "_view_count": null,
            "_view_module": "@jupyter-widgets/controls",
            "_view_module_version": "1.5.0",
            "_view_name": "HTMLView",
            "description": "",
            "description_tooltip": null,
            "layout": "IPY_MODEL_0a8fe66c544948b5b10f81cefeec6712",
            "placeholder": "​",
            "style": "IPY_MODEL_f6d001a786ad4d6e9896106d9694eb12",
            "value": " 232k/232k [00:00&lt;00:00, 549kB/s]"
          }
        },
        "57367bf47174488fbc6e3b0244555920": {
          "model_module": "@jupyter-widgets/base",
          "model_name": "LayoutModel",
          "model_module_version": "1.2.0",
          "state": {
            "_model_module": "@jupyter-widgets/base",
            "_model_module_version": "1.2.0",
            "_model_name": "LayoutModel",
            "_view_count": null,
            "_view_module": "@jupyter-widgets/base",
            "_view_module_version": "1.2.0",
            "_view_name": "LayoutView",
            "align_content": null,
            "align_items": null,
            "align_self": null,
            "border": null,
            "bottom": null,
            "display": null,
            "flex": null,
            "flex_flow": null,
            "grid_area": null,
            "grid_auto_columns": null,
            "grid_auto_flow": null,
            "grid_auto_rows": null,
            "grid_column": null,
            "grid_gap": null,
            "grid_row": null,
            "grid_template_areas": null,
            "grid_template_columns": null,
            "grid_template_rows": null,
            "height": null,
            "justify_content": null,
            "justify_items": null,
            "left": null,
            "margin": null,
            "max_height": null,
            "max_width": null,
            "min_height": null,
            "min_width": null,
            "object_fit": null,
            "object_position": null,
            "order": null,
            "overflow": null,
            "overflow_x": null,
            "overflow_y": null,
            "padding": null,
            "right": null,
            "top": null,
            "visibility": null,
            "width": null
          }
        },
        "9ae77a0e332343b3964188f3b20c8ee7": {
          "model_module": "@jupyter-widgets/base",
          "model_name": "LayoutModel",
          "model_module_version": "1.2.0",
          "state": {
            "_model_module": "@jupyter-widgets/base",
            "_model_module_version": "1.2.0",
            "_model_name": "LayoutModel",
            "_view_count": null,
            "_view_module": "@jupyter-widgets/base",
            "_view_module_version": "1.2.0",
            "_view_name": "LayoutView",
            "align_content": null,
            "align_items": null,
            "align_self": null,
            "border": null,
            "bottom": null,
            "display": null,
            "flex": null,
            "flex_flow": null,
            "grid_area": null,
            "grid_auto_columns": null,
            "grid_auto_flow": null,
            "grid_auto_rows": null,
            "grid_column": null,
            "grid_gap": null,
            "grid_row": null,
            "grid_template_areas": null,
            "grid_template_columns": null,
            "grid_template_rows": null,
            "height": null,
            "justify_content": null,
            "justify_items": null,
            "left": null,
            "margin": null,
            "max_height": null,
            "max_width": null,
            "min_height": null,
            "min_width": null,
            "object_fit": null,
            "object_position": null,
            "order": null,
            "overflow": null,
            "overflow_x": null,
            "overflow_y": null,
            "padding": null,
            "right": null,
            "top": null,
            "visibility": null,
            "width": null
          }
        },
        "e638c200a6584e7bb2596f0f751e65c6": {
          "model_module": "@jupyter-widgets/controls",
          "model_name": "DescriptionStyleModel",
          "model_module_version": "1.5.0",
          "state": {
            "_model_module": "@jupyter-widgets/controls",
            "_model_module_version": "1.5.0",
            "_model_name": "DescriptionStyleModel",
            "_view_count": null,
            "_view_module": "@jupyter-widgets/base",
            "_view_module_version": "1.2.0",
            "_view_name": "StyleView",
            "description_width": ""
          }
        },
        "23c2f216d2f04a6f8cf156cf4e1e9a11": {
          "model_module": "@jupyter-widgets/base",
          "model_name": "LayoutModel",
          "model_module_version": "1.2.0",
          "state": {
            "_model_module": "@jupyter-widgets/base",
            "_model_module_version": "1.2.0",
            "_model_name": "LayoutModel",
            "_view_count": null,
            "_view_module": "@jupyter-widgets/base",
            "_view_module_version": "1.2.0",
            "_view_name": "LayoutView",
            "align_content": null,
            "align_items": null,
            "align_self": null,
            "border": null,
            "bottom": null,
            "display": null,
            "flex": null,
            "flex_flow": null,
            "grid_area": null,
            "grid_auto_columns": null,
            "grid_auto_flow": null,
            "grid_auto_rows": null,
            "grid_column": null,
            "grid_gap": null,
            "grid_row": null,
            "grid_template_areas": null,
            "grid_template_columns": null,
            "grid_template_rows": null,
            "height": null,
            "justify_content": null,
            "justify_items": null,
            "left": null,
            "margin": null,
            "max_height": null,
            "max_width": null,
            "min_height": null,
            "min_width": null,
            "object_fit": null,
            "object_position": null,
            "order": null,
            "overflow": null,
            "overflow_x": null,
            "overflow_y": null,
            "padding": null,
            "right": null,
            "top": null,
            "visibility": null,
            "width": null
          }
        },
        "37ca652971f54583ae95f07a90e170f2": {
          "model_module": "@jupyter-widgets/controls",
          "model_name": "ProgressStyleModel",
          "model_module_version": "1.5.0",
          "state": {
            "_model_module": "@jupyter-widgets/controls",
            "_model_module_version": "1.5.0",
            "_model_name": "ProgressStyleModel",
            "_view_count": null,
            "_view_module": "@jupyter-widgets/base",
            "_view_module_version": "1.2.0",
            "_view_name": "StyleView",
            "bar_color": null,
            "description_width": ""
          }
        },
        "0a8fe66c544948b5b10f81cefeec6712": {
          "model_module": "@jupyter-widgets/base",
          "model_name": "LayoutModel",
          "model_module_version": "1.2.0",
          "state": {
            "_model_module": "@jupyter-widgets/base",
            "_model_module_version": "1.2.0",
            "_model_name": "LayoutModel",
            "_view_count": null,
            "_view_module": "@jupyter-widgets/base",
            "_view_module_version": "1.2.0",
            "_view_name": "LayoutView",
            "align_content": null,
            "align_items": null,
            "align_self": null,
            "border": null,
            "bottom": null,
            "display": null,
            "flex": null,
            "flex_flow": null,
            "grid_area": null,
            "grid_auto_columns": null,
            "grid_auto_flow": null,
            "grid_auto_rows": null,
            "grid_column": null,
            "grid_gap": null,
            "grid_row": null,
            "grid_template_areas": null,
            "grid_template_columns": null,
            "grid_template_rows": null,
            "height": null,
            "justify_content": null,
            "justify_items": null,
            "left": null,
            "margin": null,
            "max_height": null,
            "max_width": null,
            "min_height": null,
            "min_width": null,
            "object_fit": null,
            "object_position": null,
            "order": null,
            "overflow": null,
            "overflow_x": null,
            "overflow_y": null,
            "padding": null,
            "right": null,
            "top": null,
            "visibility": null,
            "width": null
          }
        },
        "f6d001a786ad4d6e9896106d9694eb12": {
          "model_module": "@jupyter-widgets/controls",
          "model_name": "DescriptionStyleModel",
          "model_module_version": "1.5.0",
          "state": {
            "_model_module": "@jupyter-widgets/controls",
            "_model_module_version": "1.5.0",
            "_model_name": "DescriptionStyleModel",
            "_view_count": null,
            "_view_module": "@jupyter-widgets/base",
            "_view_module_version": "1.2.0",
            "_view_name": "StyleView",
            "description_width": ""
          }
        },
        "26306745580d48a3a1ef356d55bca8e6": {
          "model_module": "@jupyter-widgets/controls",
          "model_name": "HBoxModel",
          "model_module_version": "1.5.0",
          "state": {
            "_dom_classes": [],
            "_model_module": "@jupyter-widgets/controls",
            "_model_module_version": "1.5.0",
            "_model_name": "HBoxModel",
            "_view_count": null,
            "_view_module": "@jupyter-widgets/controls",
            "_view_module_version": "1.5.0",
            "_view_name": "HBoxView",
            "box_style": "",
            "children": [
              "IPY_MODEL_8abd15bd2d15404f89ab77339340be32",
              "IPY_MODEL_2285c6a0427c485da6171fde2364d4a0",
              "IPY_MODEL_ff889a9e380c44e1a72fe65d9e5d5f68"
            ],
            "layout": "IPY_MODEL_14989877fac24773b60d64d76459c3bb"
          }
        },
        "8abd15bd2d15404f89ab77339340be32": {
          "model_module": "@jupyter-widgets/controls",
          "model_name": "HTMLModel",
          "model_module_version": "1.5.0",
          "state": {
            "_dom_classes": [],
            "_model_module": "@jupyter-widgets/controls",
            "_model_module_version": "1.5.0",
            "_model_name": "HTMLModel",
            "_view_count": null,
            "_view_module": "@jupyter-widgets/controls",
            "_view_module_version": "1.5.0",
            "_view_name": "HTMLView",
            "description": "",
            "description_tooltip": null,
            "layout": "IPY_MODEL_811b5a8224084ca78b67651f4107f550",
            "placeholder": "​",
            "style": "IPY_MODEL_3e9759223305457e875cbe9055bb73c5",
            "value": "Downloading (…)okenizer_config.json: 100%"
          }
        },
        "2285c6a0427c485da6171fde2364d4a0": {
          "model_module": "@jupyter-widgets/controls",
          "model_name": "FloatProgressModel",
          "model_module_version": "1.5.0",
          "state": {
            "_dom_classes": [],
            "_model_module": "@jupyter-widgets/controls",
            "_model_module_version": "1.5.0",
            "_model_name": "FloatProgressModel",
            "_view_count": null,
            "_view_module": "@jupyter-widgets/controls",
            "_view_module_version": "1.5.0",
            "_view_name": "ProgressView",
            "bar_style": "success",
            "description": "",
            "description_tooltip": null,
            "layout": "IPY_MODEL_51072107a3004a908007376fe4004115",
            "max": 28,
            "min": 0,
            "orientation": "horizontal",
            "style": "IPY_MODEL_27357eca9fb1417b9dd782efe7b7476b",
            "value": 28
          }
        },
        "ff889a9e380c44e1a72fe65d9e5d5f68": {
          "model_module": "@jupyter-widgets/controls",
          "model_name": "HTMLModel",
          "model_module_version": "1.5.0",
          "state": {
            "_dom_classes": [],
            "_model_module": "@jupyter-widgets/controls",
            "_model_module_version": "1.5.0",
            "_model_name": "HTMLModel",
            "_view_count": null,
            "_view_module": "@jupyter-widgets/controls",
            "_view_module_version": "1.5.0",
            "_view_name": "HTMLView",
            "description": "",
            "description_tooltip": null,
            "layout": "IPY_MODEL_513929f91279490184fe9d4a92f52fe7",
            "placeholder": "​",
            "style": "IPY_MODEL_3e10a11073f34706928bea3d27121f5d",
            "value": " 28.0/28.0 [00:00&lt;00:00, 2.59kB/s]"
          }
        },
        "14989877fac24773b60d64d76459c3bb": {
          "model_module": "@jupyter-widgets/base",
          "model_name": "LayoutModel",
          "model_module_version": "1.2.0",
          "state": {
            "_model_module": "@jupyter-widgets/base",
            "_model_module_version": "1.2.0",
            "_model_name": "LayoutModel",
            "_view_count": null,
            "_view_module": "@jupyter-widgets/base",
            "_view_module_version": "1.2.0",
            "_view_name": "LayoutView",
            "align_content": null,
            "align_items": null,
            "align_self": null,
            "border": null,
            "bottom": null,
            "display": null,
            "flex": null,
            "flex_flow": null,
            "grid_area": null,
            "grid_auto_columns": null,
            "grid_auto_flow": null,
            "grid_auto_rows": null,
            "grid_column": null,
            "grid_gap": null,
            "grid_row": null,
            "grid_template_areas": null,
            "grid_template_columns": null,
            "grid_template_rows": null,
            "height": null,
            "justify_content": null,
            "justify_items": null,
            "left": null,
            "margin": null,
            "max_height": null,
            "max_width": null,
            "min_height": null,
            "min_width": null,
            "object_fit": null,
            "object_position": null,
            "order": null,
            "overflow": null,
            "overflow_x": null,
            "overflow_y": null,
            "padding": null,
            "right": null,
            "top": null,
            "visibility": null,
            "width": null
          }
        },
        "811b5a8224084ca78b67651f4107f550": {
          "model_module": "@jupyter-widgets/base",
          "model_name": "LayoutModel",
          "model_module_version": "1.2.0",
          "state": {
            "_model_module": "@jupyter-widgets/base",
            "_model_module_version": "1.2.0",
            "_model_name": "LayoutModel",
            "_view_count": null,
            "_view_module": "@jupyter-widgets/base",
            "_view_module_version": "1.2.0",
            "_view_name": "LayoutView",
            "align_content": null,
            "align_items": null,
            "align_self": null,
            "border": null,
            "bottom": null,
            "display": null,
            "flex": null,
            "flex_flow": null,
            "grid_area": null,
            "grid_auto_columns": null,
            "grid_auto_flow": null,
            "grid_auto_rows": null,
            "grid_column": null,
            "grid_gap": null,
            "grid_row": null,
            "grid_template_areas": null,
            "grid_template_columns": null,
            "grid_template_rows": null,
            "height": null,
            "justify_content": null,
            "justify_items": null,
            "left": null,
            "margin": null,
            "max_height": null,
            "max_width": null,
            "min_height": null,
            "min_width": null,
            "object_fit": null,
            "object_position": null,
            "order": null,
            "overflow": null,
            "overflow_x": null,
            "overflow_y": null,
            "padding": null,
            "right": null,
            "top": null,
            "visibility": null,
            "width": null
          }
        },
        "3e9759223305457e875cbe9055bb73c5": {
          "model_module": "@jupyter-widgets/controls",
          "model_name": "DescriptionStyleModel",
          "model_module_version": "1.5.0",
          "state": {
            "_model_module": "@jupyter-widgets/controls",
            "_model_module_version": "1.5.0",
            "_model_name": "DescriptionStyleModel",
            "_view_count": null,
            "_view_module": "@jupyter-widgets/base",
            "_view_module_version": "1.2.0",
            "_view_name": "StyleView",
            "description_width": ""
          }
        },
        "51072107a3004a908007376fe4004115": {
          "model_module": "@jupyter-widgets/base",
          "model_name": "LayoutModel",
          "model_module_version": "1.2.0",
          "state": {
            "_model_module": "@jupyter-widgets/base",
            "_model_module_version": "1.2.0",
            "_model_name": "LayoutModel",
            "_view_count": null,
            "_view_module": "@jupyter-widgets/base",
            "_view_module_version": "1.2.0",
            "_view_name": "LayoutView",
            "align_content": null,
            "align_items": null,
            "align_self": null,
            "border": null,
            "bottom": null,
            "display": null,
            "flex": null,
            "flex_flow": null,
            "grid_area": null,
            "grid_auto_columns": null,
            "grid_auto_flow": null,
            "grid_auto_rows": null,
            "grid_column": null,
            "grid_gap": null,
            "grid_row": null,
            "grid_template_areas": null,
            "grid_template_columns": null,
            "grid_template_rows": null,
            "height": null,
            "justify_content": null,
            "justify_items": null,
            "left": null,
            "margin": null,
            "max_height": null,
            "max_width": null,
            "min_height": null,
            "min_width": null,
            "object_fit": null,
            "object_position": null,
            "order": null,
            "overflow": null,
            "overflow_x": null,
            "overflow_y": null,
            "padding": null,
            "right": null,
            "top": null,
            "visibility": null,
            "width": null
          }
        },
        "27357eca9fb1417b9dd782efe7b7476b": {
          "model_module": "@jupyter-widgets/controls",
          "model_name": "ProgressStyleModel",
          "model_module_version": "1.5.0",
          "state": {
            "_model_module": "@jupyter-widgets/controls",
            "_model_module_version": "1.5.0",
            "_model_name": "ProgressStyleModel",
            "_view_count": null,
            "_view_module": "@jupyter-widgets/base",
            "_view_module_version": "1.2.0",
            "_view_name": "StyleView",
            "bar_color": null,
            "description_width": ""
          }
        },
        "513929f91279490184fe9d4a92f52fe7": {
          "model_module": "@jupyter-widgets/base",
          "model_name": "LayoutModel",
          "model_module_version": "1.2.0",
          "state": {
            "_model_module": "@jupyter-widgets/base",
            "_model_module_version": "1.2.0",
            "_model_name": "LayoutModel",
            "_view_count": null,
            "_view_module": "@jupyter-widgets/base",
            "_view_module_version": "1.2.0",
            "_view_name": "LayoutView",
            "align_content": null,
            "align_items": null,
            "align_self": null,
            "border": null,
            "bottom": null,
            "display": null,
            "flex": null,
            "flex_flow": null,
            "grid_area": null,
            "grid_auto_columns": null,
            "grid_auto_flow": null,
            "grid_auto_rows": null,
            "grid_column": null,
            "grid_gap": null,
            "grid_row": null,
            "grid_template_areas": null,
            "grid_template_columns": null,
            "grid_template_rows": null,
            "height": null,
            "justify_content": null,
            "justify_items": null,
            "left": null,
            "margin": null,
            "max_height": null,
            "max_width": null,
            "min_height": null,
            "min_width": null,
            "object_fit": null,
            "object_position": null,
            "order": null,
            "overflow": null,
            "overflow_x": null,
            "overflow_y": null,
            "padding": null,
            "right": null,
            "top": null,
            "visibility": null,
            "width": null
          }
        },
        "3e10a11073f34706928bea3d27121f5d": {
          "model_module": "@jupyter-widgets/controls",
          "model_name": "DescriptionStyleModel",
          "model_module_version": "1.5.0",
          "state": {
            "_model_module": "@jupyter-widgets/controls",
            "_model_module_version": "1.5.0",
            "_model_name": "DescriptionStyleModel",
            "_view_count": null,
            "_view_module": "@jupyter-widgets/base",
            "_view_module_version": "1.2.0",
            "_view_name": "StyleView",
            "description_width": ""
          }
        },
        "9f0fc21f620b4d97a358c86099111d3d": {
          "model_module": "@jupyter-widgets/controls",
          "model_name": "HBoxModel",
          "model_module_version": "1.5.0",
          "state": {
            "_dom_classes": [],
            "_model_module": "@jupyter-widgets/controls",
            "_model_module_version": "1.5.0",
            "_model_name": "HBoxModel",
            "_view_count": null,
            "_view_module": "@jupyter-widgets/controls",
            "_view_module_version": "1.5.0",
            "_view_name": "HBoxView",
            "box_style": "",
            "children": [
              "IPY_MODEL_d9e19cb25fc54b499fc48f234497e325",
              "IPY_MODEL_3a5d1e3de63945f09745abc0bf81c3f3",
              "IPY_MODEL_17314b33604b4c26a68c3e21a4f8ffd6"
            ],
            "layout": "IPY_MODEL_419740e755464d27bcb4f2549faf8358"
          }
        },
        "d9e19cb25fc54b499fc48f234497e325": {
          "model_module": "@jupyter-widgets/controls",
          "model_name": "HTMLModel",
          "model_module_version": "1.5.0",
          "state": {
            "_dom_classes": [],
            "_model_module": "@jupyter-widgets/controls",
            "_model_module_version": "1.5.0",
            "_model_name": "HTMLModel",
            "_view_count": null,
            "_view_module": "@jupyter-widgets/controls",
            "_view_module_version": "1.5.0",
            "_view_name": "HTMLView",
            "description": "",
            "description_tooltip": null,
            "layout": "IPY_MODEL_2e47e3fac25f4ae982fd0172be05cfd2",
            "placeholder": "​",
            "style": "IPY_MODEL_919a2c433338446b8c526fff8c795035",
            "value": "Downloading (…)lve/main/config.json: 100%"
          }
        },
        "3a5d1e3de63945f09745abc0bf81c3f3": {
          "model_module": "@jupyter-widgets/controls",
          "model_name": "FloatProgressModel",
          "model_module_version": "1.5.0",
          "state": {
            "_dom_classes": [],
            "_model_module": "@jupyter-widgets/controls",
            "_model_module_version": "1.5.0",
            "_model_name": "FloatProgressModel",
            "_view_count": null,
            "_view_module": "@jupyter-widgets/controls",
            "_view_module_version": "1.5.0",
            "_view_name": "ProgressView",
            "bar_style": "success",
            "description": "",
            "description_tooltip": null,
            "layout": "IPY_MODEL_e69f4d60e35f4860b5fdd990729c234d",
            "max": 483,
            "min": 0,
            "orientation": "horizontal",
            "style": "IPY_MODEL_f5acbfeb76334de0bf33088663bf2efc",
            "value": 483
          }
        },
        "17314b33604b4c26a68c3e21a4f8ffd6": {
          "model_module": "@jupyter-widgets/controls",
          "model_name": "HTMLModel",
          "model_module_version": "1.5.0",
          "state": {
            "_dom_classes": [],
            "_model_module": "@jupyter-widgets/controls",
            "_model_module_version": "1.5.0",
            "_model_name": "HTMLModel",
            "_view_count": null,
            "_view_module": "@jupyter-widgets/controls",
            "_view_module_version": "1.5.0",
            "_view_name": "HTMLView",
            "description": "",
            "description_tooltip": null,
            "layout": "IPY_MODEL_2535079a98724a99920bedbbf8a0504b",
            "placeholder": "​",
            "style": "IPY_MODEL_86b34a6ca51d41528f8dac4b07c576e8",
            "value": " 483/483 [00:00&lt;00:00, 42.9kB/s]"
          }
        },
        "419740e755464d27bcb4f2549faf8358": {
          "model_module": "@jupyter-widgets/base",
          "model_name": "LayoutModel",
          "model_module_version": "1.2.0",
          "state": {
            "_model_module": "@jupyter-widgets/base",
            "_model_module_version": "1.2.0",
            "_model_name": "LayoutModel",
            "_view_count": null,
            "_view_module": "@jupyter-widgets/base",
            "_view_module_version": "1.2.0",
            "_view_name": "LayoutView",
            "align_content": null,
            "align_items": null,
            "align_self": null,
            "border": null,
            "bottom": null,
            "display": null,
            "flex": null,
            "flex_flow": null,
            "grid_area": null,
            "grid_auto_columns": null,
            "grid_auto_flow": null,
            "grid_auto_rows": null,
            "grid_column": null,
            "grid_gap": null,
            "grid_row": null,
            "grid_template_areas": null,
            "grid_template_columns": null,
            "grid_template_rows": null,
            "height": null,
            "justify_content": null,
            "justify_items": null,
            "left": null,
            "margin": null,
            "max_height": null,
            "max_width": null,
            "min_height": null,
            "min_width": null,
            "object_fit": null,
            "object_position": null,
            "order": null,
            "overflow": null,
            "overflow_x": null,
            "overflow_y": null,
            "padding": null,
            "right": null,
            "top": null,
            "visibility": null,
            "width": null
          }
        },
        "2e47e3fac25f4ae982fd0172be05cfd2": {
          "model_module": "@jupyter-widgets/base",
          "model_name": "LayoutModel",
          "model_module_version": "1.2.0",
          "state": {
            "_model_module": "@jupyter-widgets/base",
            "_model_module_version": "1.2.0",
            "_model_name": "LayoutModel",
            "_view_count": null,
            "_view_module": "@jupyter-widgets/base",
            "_view_module_version": "1.2.0",
            "_view_name": "LayoutView",
            "align_content": null,
            "align_items": null,
            "align_self": null,
            "border": null,
            "bottom": null,
            "display": null,
            "flex": null,
            "flex_flow": null,
            "grid_area": null,
            "grid_auto_columns": null,
            "grid_auto_flow": null,
            "grid_auto_rows": null,
            "grid_column": null,
            "grid_gap": null,
            "grid_row": null,
            "grid_template_areas": null,
            "grid_template_columns": null,
            "grid_template_rows": null,
            "height": null,
            "justify_content": null,
            "justify_items": null,
            "left": null,
            "margin": null,
            "max_height": null,
            "max_width": null,
            "min_height": null,
            "min_width": null,
            "object_fit": null,
            "object_position": null,
            "order": null,
            "overflow": null,
            "overflow_x": null,
            "overflow_y": null,
            "padding": null,
            "right": null,
            "top": null,
            "visibility": null,
            "width": null
          }
        },
        "919a2c433338446b8c526fff8c795035": {
          "model_module": "@jupyter-widgets/controls",
          "model_name": "DescriptionStyleModel",
          "model_module_version": "1.5.0",
          "state": {
            "_model_module": "@jupyter-widgets/controls",
            "_model_module_version": "1.5.0",
            "_model_name": "DescriptionStyleModel",
            "_view_count": null,
            "_view_module": "@jupyter-widgets/base",
            "_view_module_version": "1.2.0",
            "_view_name": "StyleView",
            "description_width": ""
          }
        },
        "e69f4d60e35f4860b5fdd990729c234d": {
          "model_module": "@jupyter-widgets/base",
          "model_name": "LayoutModel",
          "model_module_version": "1.2.0",
          "state": {
            "_model_module": "@jupyter-widgets/base",
            "_model_module_version": "1.2.0",
            "_model_name": "LayoutModel",
            "_view_count": null,
            "_view_module": "@jupyter-widgets/base",
            "_view_module_version": "1.2.0",
            "_view_name": "LayoutView",
            "align_content": null,
            "align_items": null,
            "align_self": null,
            "border": null,
            "bottom": null,
            "display": null,
            "flex": null,
            "flex_flow": null,
            "grid_area": null,
            "grid_auto_columns": null,
            "grid_auto_flow": null,
            "grid_auto_rows": null,
            "grid_column": null,
            "grid_gap": null,
            "grid_row": null,
            "grid_template_areas": null,
            "grid_template_columns": null,
            "grid_template_rows": null,
            "height": null,
            "justify_content": null,
            "justify_items": null,
            "left": null,
            "margin": null,
            "max_height": null,
            "max_width": null,
            "min_height": null,
            "min_width": null,
            "object_fit": null,
            "object_position": null,
            "order": null,
            "overflow": null,
            "overflow_x": null,
            "overflow_y": null,
            "padding": null,
            "right": null,
            "top": null,
            "visibility": null,
            "width": null
          }
        },
        "f5acbfeb76334de0bf33088663bf2efc": {
          "model_module": "@jupyter-widgets/controls",
          "model_name": "ProgressStyleModel",
          "model_module_version": "1.5.0",
          "state": {
            "_model_module": "@jupyter-widgets/controls",
            "_model_module_version": "1.5.0",
            "_model_name": "ProgressStyleModel",
            "_view_count": null,
            "_view_module": "@jupyter-widgets/base",
            "_view_module_version": "1.2.0",
            "_view_name": "StyleView",
            "bar_color": null,
            "description_width": ""
          }
        },
        "2535079a98724a99920bedbbf8a0504b": {
          "model_module": "@jupyter-widgets/base",
          "model_name": "LayoutModel",
          "model_module_version": "1.2.0",
          "state": {
            "_model_module": "@jupyter-widgets/base",
            "_model_module_version": "1.2.0",
            "_model_name": "LayoutModel",
            "_view_count": null,
            "_view_module": "@jupyter-widgets/base",
            "_view_module_version": "1.2.0",
            "_view_name": "LayoutView",
            "align_content": null,
            "align_items": null,
            "align_self": null,
            "border": null,
            "bottom": null,
            "display": null,
            "flex": null,
            "flex_flow": null,
            "grid_area": null,
            "grid_auto_columns": null,
            "grid_auto_flow": null,
            "grid_auto_rows": null,
            "grid_column": null,
            "grid_gap": null,
            "grid_row": null,
            "grid_template_areas": null,
            "grid_template_columns": null,
            "grid_template_rows": null,
            "height": null,
            "justify_content": null,
            "justify_items": null,
            "left": null,
            "margin": null,
            "max_height": null,
            "max_width": null,
            "min_height": null,
            "min_width": null,
            "object_fit": null,
            "object_position": null,
            "order": null,
            "overflow": null,
            "overflow_x": null,
            "overflow_y": null,
            "padding": null,
            "right": null,
            "top": null,
            "visibility": null,
            "width": null
          }
        },
        "86b34a6ca51d41528f8dac4b07c576e8": {
          "model_module": "@jupyter-widgets/controls",
          "model_name": "DescriptionStyleModel",
          "model_module_version": "1.5.0",
          "state": {
            "_model_module": "@jupyter-widgets/controls",
            "_model_module_version": "1.5.0",
            "_model_name": "DescriptionStyleModel",
            "_view_count": null,
            "_view_module": "@jupyter-widgets/base",
            "_view_module_version": "1.2.0",
            "_view_name": "StyleView",
            "description_width": ""
          }
        },
        "9363f689682b412fa5e5e160c1573c28": {
          "model_module": "@jupyter-widgets/controls",
          "model_name": "HBoxModel",
          "model_module_version": "1.5.0",
          "state": {
            "_dom_classes": [],
            "_model_module": "@jupyter-widgets/controls",
            "_model_module_version": "1.5.0",
            "_model_name": "HBoxModel",
            "_view_count": null,
            "_view_module": "@jupyter-widgets/controls",
            "_view_module_version": "1.5.0",
            "_view_name": "HBoxView",
            "box_style": "",
            "children": [
              "IPY_MODEL_9ee3c60fc5cd463b9aae19f7114b3bf4",
              "IPY_MODEL_835c8b00beb0443486e1bee0bcf052b5",
              "IPY_MODEL_d4d4235142a54cb1b4ca1e4618d8a0ff"
            ],
            "layout": "IPY_MODEL_c940193ffc5949b081fc7ffabfff510d"
          }
        },
        "9ee3c60fc5cd463b9aae19f7114b3bf4": {
          "model_module": "@jupyter-widgets/controls",
          "model_name": "HTMLModel",
          "model_module_version": "1.5.0",
          "state": {
            "_dom_classes": [],
            "_model_module": "@jupyter-widgets/controls",
            "_model_module_version": "1.5.0",
            "_model_name": "HTMLModel",
            "_view_count": null,
            "_view_module": "@jupyter-widgets/controls",
            "_view_module_version": "1.5.0",
            "_view_name": "HTMLView",
            "description": "",
            "description_tooltip": null,
            "layout": "IPY_MODEL_7d99721a72fc4a40b73c9d6f1e343218",
            "placeholder": "​",
            "style": "IPY_MODEL_e94a2620a23f4b30a2bd78c76e90e951",
            "value": "Downloading model.safetensors: 100%"
          }
        },
        "835c8b00beb0443486e1bee0bcf052b5": {
          "model_module": "@jupyter-widgets/controls",
          "model_name": "FloatProgressModel",
          "model_module_version": "1.5.0",
          "state": {
            "_dom_classes": [],
            "_model_module": "@jupyter-widgets/controls",
            "_model_module_version": "1.5.0",
            "_model_name": "FloatProgressModel",
            "_view_count": null,
            "_view_module": "@jupyter-widgets/controls",
            "_view_module_version": "1.5.0",
            "_view_name": "ProgressView",
            "bar_style": "success",
            "description": "",
            "description_tooltip": null,
            "layout": "IPY_MODEL_8d433c16760942c19aa650df2f6309a4",
            "max": 267954768,
            "min": 0,
            "orientation": "horizontal",
            "style": "IPY_MODEL_767158daa66b48939c89ce174a9606ac",
            "value": 267954768
          }
        },
        "d4d4235142a54cb1b4ca1e4618d8a0ff": {
          "model_module": "@jupyter-widgets/controls",
          "model_name": "HTMLModel",
          "model_module_version": "1.5.0",
          "state": {
            "_dom_classes": [],
            "_model_module": "@jupyter-widgets/controls",
            "_model_module_version": "1.5.0",
            "_model_name": "HTMLModel",
            "_view_count": null,
            "_view_module": "@jupyter-widgets/controls",
            "_view_module_version": "1.5.0",
            "_view_name": "HTMLView",
            "description": "",
            "description_tooltip": null,
            "layout": "IPY_MODEL_177ebaf69b564a0dad6f728606ccc09d",
            "placeholder": "​",
            "style": "IPY_MODEL_7424f8553b0d495a8185a7737cee9ce5",
            "value": " 268M/268M [00:00&lt;00:00, 497MB/s]"
          }
        },
        "c940193ffc5949b081fc7ffabfff510d": {
          "model_module": "@jupyter-widgets/base",
          "model_name": "LayoutModel",
          "model_module_version": "1.2.0",
          "state": {
            "_model_module": "@jupyter-widgets/base",
            "_model_module_version": "1.2.0",
            "_model_name": "LayoutModel",
            "_view_count": null,
            "_view_module": "@jupyter-widgets/base",
            "_view_module_version": "1.2.0",
            "_view_name": "LayoutView",
            "align_content": null,
            "align_items": null,
            "align_self": null,
            "border": null,
            "bottom": null,
            "display": null,
            "flex": null,
            "flex_flow": null,
            "grid_area": null,
            "grid_auto_columns": null,
            "grid_auto_flow": null,
            "grid_auto_rows": null,
            "grid_column": null,
            "grid_gap": null,
            "grid_row": null,
            "grid_template_areas": null,
            "grid_template_columns": null,
            "grid_template_rows": null,
            "height": null,
            "justify_content": null,
            "justify_items": null,
            "left": null,
            "margin": null,
            "max_height": null,
            "max_width": null,
            "min_height": null,
            "min_width": null,
            "object_fit": null,
            "object_position": null,
            "order": null,
            "overflow": null,
            "overflow_x": null,
            "overflow_y": null,
            "padding": null,
            "right": null,
            "top": null,
            "visibility": null,
            "width": null
          }
        },
        "7d99721a72fc4a40b73c9d6f1e343218": {
          "model_module": "@jupyter-widgets/base",
          "model_name": "LayoutModel",
          "model_module_version": "1.2.0",
          "state": {
            "_model_module": "@jupyter-widgets/base",
            "_model_module_version": "1.2.0",
            "_model_name": "LayoutModel",
            "_view_count": null,
            "_view_module": "@jupyter-widgets/base",
            "_view_module_version": "1.2.0",
            "_view_name": "LayoutView",
            "align_content": null,
            "align_items": null,
            "align_self": null,
            "border": null,
            "bottom": null,
            "display": null,
            "flex": null,
            "flex_flow": null,
            "grid_area": null,
            "grid_auto_columns": null,
            "grid_auto_flow": null,
            "grid_auto_rows": null,
            "grid_column": null,
            "grid_gap": null,
            "grid_row": null,
            "grid_template_areas": null,
            "grid_template_columns": null,
            "grid_template_rows": null,
            "height": null,
            "justify_content": null,
            "justify_items": null,
            "left": null,
            "margin": null,
            "max_height": null,
            "max_width": null,
            "min_height": null,
            "min_width": null,
            "object_fit": null,
            "object_position": null,
            "order": null,
            "overflow": null,
            "overflow_x": null,
            "overflow_y": null,
            "padding": null,
            "right": null,
            "top": null,
            "visibility": null,
            "width": null
          }
        },
        "e94a2620a23f4b30a2bd78c76e90e951": {
          "model_module": "@jupyter-widgets/controls",
          "model_name": "DescriptionStyleModel",
          "model_module_version": "1.5.0",
          "state": {
            "_model_module": "@jupyter-widgets/controls",
            "_model_module_version": "1.5.0",
            "_model_name": "DescriptionStyleModel",
            "_view_count": null,
            "_view_module": "@jupyter-widgets/base",
            "_view_module_version": "1.2.0",
            "_view_name": "StyleView",
            "description_width": ""
          }
        },
        "8d433c16760942c19aa650df2f6309a4": {
          "model_module": "@jupyter-widgets/base",
          "model_name": "LayoutModel",
          "model_module_version": "1.2.0",
          "state": {
            "_model_module": "@jupyter-widgets/base",
            "_model_module_version": "1.2.0",
            "_model_name": "LayoutModel",
            "_view_count": null,
            "_view_module": "@jupyter-widgets/base",
            "_view_module_version": "1.2.0",
            "_view_name": "LayoutView",
            "align_content": null,
            "align_items": null,
            "align_self": null,
            "border": null,
            "bottom": null,
            "display": null,
            "flex": null,
            "flex_flow": null,
            "grid_area": null,
            "grid_auto_columns": null,
            "grid_auto_flow": null,
            "grid_auto_rows": null,
            "grid_column": null,
            "grid_gap": null,
            "grid_row": null,
            "grid_template_areas": null,
            "grid_template_columns": null,
            "grid_template_rows": null,
            "height": null,
            "justify_content": null,
            "justify_items": null,
            "left": null,
            "margin": null,
            "max_height": null,
            "max_width": null,
            "min_height": null,
            "min_width": null,
            "object_fit": null,
            "object_position": null,
            "order": null,
            "overflow": null,
            "overflow_x": null,
            "overflow_y": null,
            "padding": null,
            "right": null,
            "top": null,
            "visibility": null,
            "width": null
          }
        },
        "767158daa66b48939c89ce174a9606ac": {
          "model_module": "@jupyter-widgets/controls",
          "model_name": "ProgressStyleModel",
          "model_module_version": "1.5.0",
          "state": {
            "_model_module": "@jupyter-widgets/controls",
            "_model_module_version": "1.5.0",
            "_model_name": "ProgressStyleModel",
            "_view_count": null,
            "_view_module": "@jupyter-widgets/base",
            "_view_module_version": "1.2.0",
            "_view_name": "StyleView",
            "bar_color": null,
            "description_width": ""
          }
        },
        "177ebaf69b564a0dad6f728606ccc09d": {
          "model_module": "@jupyter-widgets/base",
          "model_name": "LayoutModel",
          "model_module_version": "1.2.0",
          "state": {
            "_model_module": "@jupyter-widgets/base",
            "_model_module_version": "1.2.0",
            "_model_name": "LayoutModel",
            "_view_count": null,
            "_view_module": "@jupyter-widgets/base",
            "_view_module_version": "1.2.0",
            "_view_name": "LayoutView",
            "align_content": null,
            "align_items": null,
            "align_self": null,
            "border": null,
            "bottom": null,
            "display": null,
            "flex": null,
            "flex_flow": null,
            "grid_area": null,
            "grid_auto_columns": null,
            "grid_auto_flow": null,
            "grid_auto_rows": null,
            "grid_column": null,
            "grid_gap": null,
            "grid_row": null,
            "grid_template_areas": null,
            "grid_template_columns": null,
            "grid_template_rows": null,
            "height": null,
            "justify_content": null,
            "justify_items": null,
            "left": null,
            "margin": null,
            "max_height": null,
            "max_width": null,
            "min_height": null,
            "min_width": null,
            "object_fit": null,
            "object_position": null,
            "order": null,
            "overflow": null,
            "overflow_x": null,
            "overflow_y": null,
            "padding": null,
            "right": null,
            "top": null,
            "visibility": null,
            "width": null
          }
        },
        "7424f8553b0d495a8185a7737cee9ce5": {
          "model_module": "@jupyter-widgets/controls",
          "model_name": "DescriptionStyleModel",
          "model_module_version": "1.5.0",
          "state": {
            "_model_module": "@jupyter-widgets/controls",
            "_model_module_version": "1.5.0",
            "_model_name": "DescriptionStyleModel",
            "_view_count": null,
            "_view_module": "@jupyter-widgets/base",
            "_view_module_version": "1.2.0",
            "_view_name": "StyleView",
            "description_width": ""
          }
        }
      }
    }
  },
  "cells": [
    {
      "cell_type": "markdown",
      "metadata": {
        "id": "view-in-github",
        "colab_type": "text"
      },
      "source": [
        "<a href=\"https://colab.research.google.com/github/astrapi69/DroidBallet/blob/master/NLP_D3_4_L7_Deep_TL_for_NLP_Text_Classification.ipynb\" target=\"_parent\"><img src=\"https://colab.research.google.com/assets/colab-badge.svg\" alt=\"Open In Colab\"/></a>"
      ]
    },
    {
      "cell_type": "markdown",
      "source": [
        "<center><a target=\"_blank\" href=\"https://academy.constructor.org/\"><img src=\"https://jobtracker.ai/static/media/constructor_academy_colour.b86fa87f.png\" width=\"200\" style=\"background:none; border:none; box-shadow:none;\" /></a> </center>\n",
        "\n",
        "_____\n",
        "\n",
        "<center>Constructor Academy, 2024</center>"
      ],
      "metadata": {
        "id": "c4O8qdymZBn-"
      }
    },
    {
      "cell_type": "markdown",
      "metadata": {
        "id": "Sjp7WlCGajaa"
      },
      "source": [
        "# Deep Transfer Learning for Text Classification\n"
      ]
    },
    {
      "cell_type": "markdown",
      "source": [
        "\n",
        "Handling tough real-world problems in Natural Language Processing (NLP) include tackling with class imbalance and the lack of availability of enough labeled data for training. Thanks to the recent advancements in deep transfer learning in NLP, we have been able to make rapid strides in not only tackling these problems but also leverage these models for diverse downstream NLP tasks.\n",
        "\n",
        "The intent of this demo session is to look at various SOTA models in deep transfer learning for NLP with hands-on examples:\n",
        "\n",
        "- Pre-trained word embeddings for Deep Learning Models (FastText with CNNs)\n",
        "- Universal Embeddings (Sentence Encoders, NNLMs)\n",
        "- Transformers (BERT, DistilBERT)\n",
        "\n",
        "We will take a benchmark classification dataset and train and compare the performance of these models. All examples here will be showcased using Python and leveraging the latest and best of TensorFlow 2.x.\n",
        "\n",
        "### Powered By\n",
        "\n",
        "![](https://i.imgur.com/cllEHm0.png)\n",
        "\n",
        "<div style=\"text-align: right; font-size:60%\"><i>Tutorial by: Dipanjan (DJ) Sarkar</i></div>\n"
      ],
      "metadata": {
        "id": "UFgUCjvCZDQF"
      }
    },
    {
      "cell_type": "markdown",
      "source": [
        "# Part 1 - Pre-trained Embeddings + CNN & Universal Sentence Encoders\n",
        "\n",
        "\n",
        "Here we use a larger compute infrastructure to run these models. You may need to reduce the dataset size if you get OOM (out of memory errors)"
      ],
      "metadata": {
        "id": "bn21oHSpw-zg"
      }
    },
    {
      "cell_type": "markdown",
      "source": [
        "## Initial Infrastructure State\n",
        "\n",
        "![](https://i.imgur.com/nXQXDaU.png)"
      ],
      "metadata": {
        "id": "Z-8evDL0xP8d"
      }
    },
    {
      "cell_type": "markdown",
      "metadata": {
        "id": "CBtXjYJHajab"
      },
      "source": [
        "## GPU Check"
      ]
    },
    {
      "cell_type": "code",
      "metadata": {
        "colab": {
          "base_uri": "https://localhost:8080/"
        },
        "id": "ro9zTCDIajab",
        "outputId": "057c700d-f244-4a94-ddae-6000fe88aa17"
      },
      "source": [
        "!nvidia-smi"
      ],
      "execution_count": null,
      "outputs": [
        {
          "output_type": "stream",
          "name": "stdout",
          "text": [
            "Tue Jun 20 17:07:13 2023       \n",
            "+-----------------------------------------------------------------------------+\n",
            "| NVIDIA-SMI 525.85.12    Driver Version: 525.85.12    CUDA Version: 12.0     |\n",
            "|-------------------------------+----------------------+----------------------+\n",
            "| GPU  Name        Persistence-M| Bus-Id        Disp.A | Volatile Uncorr. ECC |\n",
            "| Fan  Temp  Perf  Pwr:Usage/Cap|         Memory-Usage | GPU-Util  Compute M. |\n",
            "|                               |                      |               MIG M. |\n",
            "|===============================+======================+======================|\n",
            "|   0  NVIDIA A100-SXM...  Off  | 00000000:00:04.0 Off |                    0 |\n",
            "| N/A   31C    P0    46W / 400W |      0MiB / 40960MiB |      0%      Default |\n",
            "|                               |                      |             Disabled |\n",
            "+-------------------------------+----------------------+----------------------+\n",
            "                                                                               \n",
            "+-----------------------------------------------------------------------------+\n",
            "| Processes:                                                                  |\n",
            "|  GPU   GI   CI        PID   Type   Process name                  GPU Memory |\n",
            "|        ID   ID                                                   Usage      |\n",
            "|=============================================================================|\n",
            "|  No running processes found                                                 |\n",
            "+-----------------------------------------------------------------------------+\n"
          ]
        }
      ]
    },
    {
      "cell_type": "markdown",
      "metadata": {
        "id": "8OQZquMCajaf"
      },
      "source": [
        "## Load Necessary Dependencies"
      ]
    },
    {
      "cell_type": "code",
      "metadata": {
        "colab": {
          "base_uri": "https://localhost:8080/"
        },
        "id": "Q55jt2QJbSiC",
        "outputId": "42dd02fd-8dc9-4e39-a595-50f53367fee0"
      },
      "source": [
        "!pip install transformers"
      ],
      "execution_count": null,
      "outputs": [
        {
          "output_type": "stream",
          "name": "stdout",
          "text": [
            "Requirement already satisfied: transformers in /usr/local/lib/python3.10/dist-packages (4.35.2)\n",
            "Requirement already satisfied: filelock in /usr/local/lib/python3.10/dist-packages (from transformers) (3.13.1)\n",
            "Requirement already satisfied: huggingface-hub<1.0,>=0.16.4 in /usr/local/lib/python3.10/dist-packages (from transformers) (0.20.2)\n",
            "Requirement already satisfied: numpy>=1.17 in /usr/local/lib/python3.10/dist-packages (from transformers) (1.23.5)\n",
            "Requirement already satisfied: packaging>=20.0 in /usr/local/lib/python3.10/dist-packages (from transformers) (23.2)\n",
            "Requirement already satisfied: pyyaml>=5.1 in /usr/local/lib/python3.10/dist-packages (from transformers) (6.0.1)\n",
            "Requirement already satisfied: regex!=2019.12.17 in /usr/local/lib/python3.10/dist-packages (from transformers) (2023.6.3)\n",
            "Requirement already satisfied: requests in /usr/local/lib/python3.10/dist-packages (from transformers) (2.31.0)\n",
            "Requirement already satisfied: tokenizers<0.19,>=0.14 in /usr/local/lib/python3.10/dist-packages (from transformers) (0.15.0)\n",
            "Requirement already satisfied: safetensors>=0.3.1 in /usr/local/lib/python3.10/dist-packages (from transformers) (0.4.1)\n",
            "Requirement already satisfied: tqdm>=4.27 in /usr/local/lib/python3.10/dist-packages (from transformers) (4.66.1)\n",
            "Requirement already satisfied: fsspec>=2023.5.0 in /usr/local/lib/python3.10/dist-packages (from huggingface-hub<1.0,>=0.16.4->transformers) (2023.6.0)\n",
            "Requirement already satisfied: typing-extensions>=3.7.4.3 in /usr/local/lib/python3.10/dist-packages (from huggingface-hub<1.0,>=0.16.4->transformers) (4.5.0)\n",
            "Requirement already satisfied: charset-normalizer<4,>=2 in /usr/local/lib/python3.10/dist-packages (from requests->transformers) (3.3.2)\n",
            "Requirement already satisfied: idna<4,>=2.5 in /usr/local/lib/python3.10/dist-packages (from requests->transformers) (3.6)\n",
            "Requirement already satisfied: urllib3<3,>=1.21.1 in /usr/local/lib/python3.10/dist-packages (from requests->transformers) (2.0.7)\n",
            "Requirement already satisfied: certifi>=2017.4.17 in /usr/local/lib/python3.10/dist-packages (from requests->transformers) (2023.11.17)\n"
          ]
        }
      ]
    },
    {
      "cell_type": "code",
      "metadata": {
        "id": "x8WniVpUajaf"
      },
      "source": [
        "import pandas as pd\n",
        "import numpy as np\n",
        "import matplotlib.pyplot as plt\n",
        "import tensorflow as tf\n",
        "import tensorflow_hub as hub\n",
        "import transformers\n",
        "import tqdm\n",
        "from sklearn.metrics import confusion_matrix, classification_report, accuracy_score\n",
        "\n",
        "%matplotlib inline\n",
        "\n",
        "# fix random seed for reproducibility\n",
        "seed = 42\n",
        "np.random.seed(seed)\n",
        "tf.random.set_seed(seed)"
      ],
      "execution_count": null,
      "outputs": []
    },
    {
      "cell_type": "code",
      "metadata": {
        "colab": {
          "base_uri": "https://localhost:8080/"
        },
        "id": "tXp8U9ENajah",
        "outputId": "ab532f28-2869-4bc7-a4e2-2c64b3c0564a"
      },
      "source": [
        "print(\"TF Version: \", tf.__version__)\n",
        "print(\"Eager mode: \", tf.executing_eagerly())\n",
        "print(\"TF Hub version: \", hub.__version__)\n",
        "print(\"GPU is\", \"available\" if tf.config.list_physical_devices('GPU') else \"NOT AVAILABLE\")"
      ],
      "execution_count": null,
      "outputs": [
        {
          "output_type": "stream",
          "name": "stdout",
          "text": [
            "TF Version:  2.15.0\n",
            "Eager mode:  True\n",
            "TF Hub version:  0.15.0\n",
            "GPU is available\n"
          ]
        }
      ]
    },
    {
      "cell_type": "code",
      "source": [
        "tf.config.list_physical_devices('GPU')"
      ],
      "metadata": {
        "colab": {
          "base_uri": "https://localhost:8080/"
        },
        "id": "vrfMckFeUjCV",
        "outputId": "7f945425-0a10-4b8d-f6ca-f7b43ed9f02e"
      },
      "execution_count": null,
      "outputs": [
        {
          "output_type": "execute_result",
          "data": {
            "text/plain": [
              "[PhysicalDevice(name='/physical_device:GPU:0', device_type='GPU')]"
            ]
          },
          "metadata": {},
          "execution_count": 4
        }
      ]
    },
    {
      "cell_type": "markdown",
      "metadata": {
        "id": "5IYUA5Zlajak"
      },
      "source": [
        "## Load and View Dataset\n",
        "\n",
        "This is the [IMDB Large Movie Review Dataset](https://ai.stanford.edu/~amaas/data/sentiment/) for binary sentiment classification containing substantially more data than previous benchmark datasets. It provides a set of 25,000 highly polar movie reviews for training, and 25,000 for testing."
      ]
    },
    {
      "cell_type": "code",
      "metadata": {
        "colab": {
          "base_uri": "https://localhost:8080/"
        },
        "id": "V20BvLjjajal",
        "outputId": "c9da2120-48d7-4fd7-d652-bc536c1289de"
      },
      "source": [
        "dataset = pd.read_csv(r'https://github.com/dipanjanS/nlp_workshop_dhs18/raw/master/Unit%2011%20-%20Sentiment%20Analysis%20-%20Unsupervised%20Learning/movie_reviews.csv.bz2', compression='bz2')\n",
        "dataset['sentiment'] = [1 if record == 'positive' else 0 for record in dataset['sentiment']]\n",
        "dataset.info()"
      ],
      "execution_count": null,
      "outputs": [
        {
          "output_type": "stream",
          "name": "stdout",
          "text": [
            "<class 'pandas.core.frame.DataFrame'>\n",
            "RangeIndex: 50000 entries, 0 to 49999\n",
            "Data columns (total 2 columns):\n",
            " #   Column     Non-Null Count  Dtype \n",
            "---  ------     --------------  ----- \n",
            " 0   review     50000 non-null  object\n",
            " 1   sentiment  50000 non-null  int64 \n",
            "dtypes: int64(1), object(1)\n",
            "memory usage: 781.4+ KB\n"
          ]
        }
      ]
    },
    {
      "cell_type": "code",
      "metadata": {
        "colab": {
          "base_uri": "https://localhost:8080/",
          "height": 206
        },
        "id": "ZDDJCvjrajan",
        "outputId": "64a69a26-bdfb-4144-b208-d0416f23df0e"
      },
      "source": [
        "dataset.head()"
      ],
      "execution_count": null,
      "outputs": [
        {
          "output_type": "execute_result",
          "data": {
            "text/plain": [
              "                                              review  sentiment\n",
              "0  One of the other reviewers has mentioned that ...          1\n",
              "1  A wonderful little production. <br /><br />The...          1\n",
              "2  I thought this was a wonderful way to spend ti...          1\n",
              "3  Basically there's a family where a little boy ...          0\n",
              "4  Petter Mattei's \"Love in the Time of Money\" is...          1"
            ],
            "text/html": [
              "\n",
              "  <div id=\"df-8406867d-ec3b-4b35-8f09-5105c229cc04\">\n",
              "    <div class=\"colab-df-container\">\n",
              "      <div>\n",
              "<style scoped>\n",
              "    .dataframe tbody tr th:only-of-type {\n",
              "        vertical-align: middle;\n",
              "    }\n",
              "\n",
              "    .dataframe tbody tr th {\n",
              "        vertical-align: top;\n",
              "    }\n",
              "\n",
              "    .dataframe thead th {\n",
              "        text-align: right;\n",
              "    }\n",
              "</style>\n",
              "<table border=\"1\" class=\"dataframe\">\n",
              "  <thead>\n",
              "    <tr style=\"text-align: right;\">\n",
              "      <th></th>\n",
              "      <th>review</th>\n",
              "      <th>sentiment</th>\n",
              "    </tr>\n",
              "  </thead>\n",
              "  <tbody>\n",
              "    <tr>\n",
              "      <th>0</th>\n",
              "      <td>One of the other reviewers has mentioned that ...</td>\n",
              "      <td>1</td>\n",
              "    </tr>\n",
              "    <tr>\n",
              "      <th>1</th>\n",
              "      <td>A wonderful little production. &lt;br /&gt;&lt;br /&gt;The...</td>\n",
              "      <td>1</td>\n",
              "    </tr>\n",
              "    <tr>\n",
              "      <th>2</th>\n",
              "      <td>I thought this was a wonderful way to spend ti...</td>\n",
              "      <td>1</td>\n",
              "    </tr>\n",
              "    <tr>\n",
              "      <th>3</th>\n",
              "      <td>Basically there's a family where a little boy ...</td>\n",
              "      <td>0</td>\n",
              "    </tr>\n",
              "    <tr>\n",
              "      <th>4</th>\n",
              "      <td>Petter Mattei's \"Love in the Time of Money\" is...</td>\n",
              "      <td>1</td>\n",
              "    </tr>\n",
              "  </tbody>\n",
              "</table>\n",
              "</div>\n",
              "      <button class=\"colab-df-convert\" onclick=\"convertToInteractive('df-8406867d-ec3b-4b35-8f09-5105c229cc04')\"\n",
              "              title=\"Convert this dataframe to an interactive table.\"\n",
              "              style=\"display:none;\">\n",
              "        \n",
              "  <svg xmlns=\"http://www.w3.org/2000/svg\" height=\"24px\"viewBox=\"0 0 24 24\"\n",
              "       width=\"24px\">\n",
              "    <path d=\"M0 0h24v24H0V0z\" fill=\"none\"/>\n",
              "    <path d=\"M18.56 5.44l.94 2.06.94-2.06 2.06-.94-2.06-.94-.94-2.06-.94 2.06-2.06.94zm-11 1L8.5 8.5l.94-2.06 2.06-.94-2.06-.94L8.5 2.5l-.94 2.06-2.06.94zm10 10l.94 2.06.94-2.06 2.06-.94-2.06-.94-.94-2.06-.94 2.06-2.06.94z\"/><path d=\"M17.41 7.96l-1.37-1.37c-.4-.4-.92-.59-1.43-.59-.52 0-1.04.2-1.43.59L10.3 9.45l-7.72 7.72c-.78.78-.78 2.05 0 2.83L4 21.41c.39.39.9.59 1.41.59.51 0 1.02-.2 1.41-.59l7.78-7.78 2.81-2.81c.8-.78.8-2.07 0-2.86zM5.41 20L4 18.59l7.72-7.72 1.47 1.35L5.41 20z\"/>\n",
              "  </svg>\n",
              "      </button>\n",
              "      \n",
              "  <style>\n",
              "    .colab-df-container {\n",
              "      display:flex;\n",
              "      flex-wrap:wrap;\n",
              "      gap: 12px;\n",
              "    }\n",
              "\n",
              "    .colab-df-convert {\n",
              "      background-color: #E8F0FE;\n",
              "      border: none;\n",
              "      border-radius: 50%;\n",
              "      cursor: pointer;\n",
              "      display: none;\n",
              "      fill: #1967D2;\n",
              "      height: 32px;\n",
              "      padding: 0 0 0 0;\n",
              "      width: 32px;\n",
              "    }\n",
              "\n",
              "    .colab-df-convert:hover {\n",
              "      background-color: #E2EBFA;\n",
              "      box-shadow: 0px 1px 2px rgba(60, 64, 67, 0.3), 0px 1px 3px 1px rgba(60, 64, 67, 0.15);\n",
              "      fill: #174EA6;\n",
              "    }\n",
              "\n",
              "    [theme=dark] .colab-df-convert {\n",
              "      background-color: #3B4455;\n",
              "      fill: #D2E3FC;\n",
              "    }\n",
              "\n",
              "    [theme=dark] .colab-df-convert:hover {\n",
              "      background-color: #434B5C;\n",
              "      box-shadow: 0px 1px 3px 1px rgba(0, 0, 0, 0.15);\n",
              "      filter: drop-shadow(0px 1px 2px rgba(0, 0, 0, 0.3));\n",
              "      fill: #FFFFFF;\n",
              "    }\n",
              "  </style>\n",
              "\n",
              "      <script>\n",
              "        const buttonEl =\n",
              "          document.querySelector('#df-8406867d-ec3b-4b35-8f09-5105c229cc04 button.colab-df-convert');\n",
              "        buttonEl.style.display =\n",
              "          google.colab.kernel.accessAllowed ? 'block' : 'none';\n",
              "\n",
              "        async function convertToInteractive(key) {\n",
              "          const element = document.querySelector('#df-8406867d-ec3b-4b35-8f09-5105c229cc04');\n",
              "          const dataTable =\n",
              "            await google.colab.kernel.invokeFunction('convertToInteractive',\n",
              "                                                     [key], {});\n",
              "          if (!dataTable) return;\n",
              "\n",
              "          const docLinkHtml = 'Like what you see? Visit the ' +\n",
              "            '<a target=\"_blank\" href=https://colab.research.google.com/notebooks/data_table.ipynb>data table notebook</a>'\n",
              "            + ' to learn more about interactive tables.';\n",
              "          element.innerHTML = '';\n",
              "          dataTable['output_type'] = 'display_data';\n",
              "          await google.colab.output.renderOutput(dataTable, element);\n",
              "          const docLink = document.createElement('div');\n",
              "          docLink.innerHTML = docLinkHtml;\n",
              "          element.appendChild(docLink);\n",
              "        }\n",
              "      </script>\n",
              "    </div>\n",
              "  </div>\n",
              "  "
            ]
          },
          "metadata": {},
          "execution_count": 7
        }
      ]
    },
    {
      "cell_type": "markdown",
      "metadata": {
        "id": "TdMiB1EFajap"
      },
      "source": [
        "## Preparing Train, Validation and Test Datasets\n",
        "\n",
        "Following is the dataset scheme we will use for modeling to simulate a small labeled dataset problem\n",
        "\n",
        "- __Train Dataset:__ 5000 Reviews\n",
        "- __Validation Dataset:__ 5000 Reviews\n",
        "- __Test Dataset:__ 40000 Reviews\n",
        "\n",
        "Thus we will be training all our models on only 5000 reviews and testing model performance on 40000 reviews!"
      ]
    },
    {
      "cell_type": "code",
      "metadata": {
        "colab": {
          "base_uri": "https://localhost:8080/"
        },
        "id": "BiHTDHD_ajap",
        "outputId": "e16550ef-1e71-4053-8181-27df3c934439"
      },
      "source": [
        "reviews = dataset['review'].values\n",
        "sentiments = dataset['sentiment'].values\n",
        "\n",
        "train_reviews = reviews[:5000]\n",
        "val_reviews = reviews [5000:10000]\n",
        "test_reviews = reviews[10000:]\n",
        "\n",
        "\n",
        "train_sentiments = sentiments[:5000]\n",
        "val_sentiments = sentiments [5000:10000]\n",
        "test_sentiments = sentiments[10000:]\n",
        "\n",
        "train_reviews.shape, val_reviews.shape, test_reviews.shape"
      ],
      "execution_count": null,
      "outputs": [
        {
          "output_type": "execute_result",
          "data": {
            "text/plain": [
              "((5000,), (5000,), (40000,))"
            ]
          },
          "metadata": {},
          "execution_count": 8
        }
      ]
    },
    {
      "cell_type": "markdown",
      "metadata": {
        "id": "yXDBz_qqajas"
      },
      "source": [
        "## Basic Text Pre-processing\n",
        "\n",
        "We do minimal text pre-processing here since we are using deep learning models and not count-based methods. Steps include the following:\n",
        "\n",
        "- Removing HTML characters\n",
        "- Converting accented characters\n",
        "- Fixing contractions\n",
        "- Removing special characters\n",
        "\n",
        "__Note:__ For some models we don't use any pre-processing like BERT!"
      ]
    },
    {
      "cell_type": "code",
      "metadata": {
        "colab": {
          "base_uri": "https://localhost:8080/"
        },
        "id": "H-xMIu2Najas",
        "outputId": "f0fa934e-13f1-44fd-d11e-17378cda59fc"
      },
      "source": [
        "!sudo pip3 install contractions\n",
        "!sudo pip3 install textsearch\n",
        "!sudo pip3 install tqdm\n",
        "!sudo pip3 install nltk\n",
        "!sudo pip3 install beautifulsoup4\n",
        "\n",
        "import nltk\n",
        "nltk.download('punkt')"
      ],
      "execution_count": null,
      "outputs": [
        {
          "output_type": "stream",
          "name": "stdout",
          "text": [
            "Looking in indexes: https://pypi.org/simple, https://us-python.pkg.dev/colab-wheels/public/simple/\n",
            "Collecting contractions\n",
            "  Downloading contractions-0.1.73-py2.py3-none-any.whl (8.7 kB)\n",
            "Collecting textsearch>=0.0.21 (from contractions)\n",
            "  Downloading textsearch-0.0.24-py2.py3-none-any.whl (7.6 kB)\n",
            "Collecting anyascii (from textsearch>=0.0.21->contractions)\n",
            "  Downloading anyascii-0.3.2-py3-none-any.whl (289 kB)\n",
            "\u001b[2K     \u001b[90m━━━━━━━━━━━━━━━━━━━━━━━━━━━━━━━━━━━━━━\u001b[0m \u001b[32m289.9/289.9 kB\u001b[0m \u001b[31m19.9 MB/s\u001b[0m eta \u001b[36m0:00:00\u001b[0m\n",
            "\u001b[?25hCollecting pyahocorasick (from textsearch>=0.0.21->contractions)\n",
            "  Downloading pyahocorasick-2.0.0-cp310-cp310-manylinux_2_5_x86_64.manylinux1_x86_64.manylinux_2_12_x86_64.manylinux2010_x86_64.whl (110 kB)\n",
            "\u001b[2K     \u001b[90m━━━━━━━━━━━━━━━━━━━━━━━━━━━━━━━━━━━━━━\u001b[0m \u001b[32m110.8/110.8 kB\u001b[0m \u001b[31m16.6 MB/s\u001b[0m eta \u001b[36m0:00:00\u001b[0m\n",
            "\u001b[?25hInstalling collected packages: pyahocorasick, anyascii, textsearch, contractions\n",
            "Successfully installed anyascii-0.3.2 contractions-0.1.73 pyahocorasick-2.0.0 textsearch-0.0.24\n",
            "Looking in indexes: https://pypi.org/simple, https://us-python.pkg.dev/colab-wheels/public/simple/\n",
            "Requirement already satisfied: textsearch in /usr/local/lib/python3.10/dist-packages (0.0.24)\n",
            "Requirement already satisfied: anyascii in /usr/local/lib/python3.10/dist-packages (from textsearch) (0.3.2)\n",
            "Requirement already satisfied: pyahocorasick in /usr/local/lib/python3.10/dist-packages (from textsearch) (2.0.0)\n",
            "Looking in indexes: https://pypi.org/simple, https://us-python.pkg.dev/colab-wheels/public/simple/\n",
            "Requirement already satisfied: tqdm in /usr/local/lib/python3.10/dist-packages (4.65.0)\n",
            "Looking in indexes: https://pypi.org/simple, https://us-python.pkg.dev/colab-wheels/public/simple/\n",
            "Requirement already satisfied: nltk in /usr/local/lib/python3.10/dist-packages (3.8.1)\n",
            "Requirement already satisfied: click in /usr/local/lib/python3.10/dist-packages (from nltk) (8.1.3)\n",
            "Requirement already satisfied: joblib in /usr/local/lib/python3.10/dist-packages (from nltk) (1.2.0)\n",
            "Requirement already satisfied: regex>=2021.8.3 in /usr/local/lib/python3.10/dist-packages (from nltk) (2022.10.31)\n",
            "Requirement already satisfied: tqdm in /usr/local/lib/python3.10/dist-packages (from nltk) (4.65.0)\n",
            "Looking in indexes: https://pypi.org/simple, https://us-python.pkg.dev/colab-wheels/public/simple/\n",
            "Requirement already satisfied: beautifulsoup4 in /usr/local/lib/python3.10/dist-packages (4.11.2)\n",
            "Requirement already satisfied: soupsieve>1.2 in /usr/local/lib/python3.10/dist-packages (from beautifulsoup4) (2.4.1)\n"
          ]
        },
        {
          "output_type": "stream",
          "name": "stderr",
          "text": [
            "[nltk_data] Downloading package punkt to /root/nltk_data...\n",
            "[nltk_data]   Unzipping tokenizers/punkt.zip.\n"
          ]
        },
        {
          "output_type": "execute_result",
          "data": {
            "text/plain": [
              "True"
            ]
          },
          "metadata": {},
          "execution_count": 9
        }
      ]
    },
    {
      "cell_type": "code",
      "metadata": {
        "id": "0le4IFlxajau"
      },
      "source": [
        "import contractions\n",
        "from bs4 import BeautifulSoup\n",
        "import numpy as np\n",
        "import re\n",
        "import tqdm\n",
        "import unicodedata\n",
        "\n",
        "\n",
        "def strip_html_tags(text):\n",
        "    soup = BeautifulSoup(text, \"html.parser\")\n",
        "    [s.extract() for s in soup(['iframe', 'script'])]\n",
        "    stripped_text = soup.get_text()\n",
        "    stripped_text = re.sub(r'[\\r|\\n|\\r\\n]+', '\\n', stripped_text)\n",
        "    return stripped_text\n",
        "\n",
        "def remove_accented_chars(text):\n",
        "    text = unicodedata.normalize('NFKD', text).encode('ascii', 'ignore').decode('utf-8', 'ignore')\n",
        "    return text\n",
        "\n",
        "def pre_process_corpus(docs):\n",
        "    norm_docs = []\n",
        "    for doc in tqdm.tqdm(docs):\n",
        "        doc = strip_html_tags(doc)\n",
        "        doc = doc.translate(doc.maketrans(\"\\n\\t\\r\", \"   \"))\n",
        "        doc = doc.lower()\n",
        "        doc = remove_accented_chars(doc)\n",
        "        doc = contractions.fix(doc)\n",
        "        # lower case and remove special characters\\whitespaces\n",
        "        doc = re.sub(r'[^a-zA-Z0-9\\s]', ' ', doc, flags=re.I|re.A)\n",
        "        doc = re.sub(' +', ' ', doc)\n",
        "        doc = doc.strip()\n",
        "        norm_docs.append(doc)\n",
        "    return norm_docs"
      ],
      "execution_count": null,
      "outputs": []
    },
    {
      "cell_type": "code",
      "metadata": {
        "colab": {
          "base_uri": "https://localhost:8080/"
        },
        "id": "gCa_kwSoajaw",
        "outputId": "7d2f8ecb-c8a7-4444-af62-d80857370382"
      },
      "source": [
        "%%time\n",
        "\n",
        "norm_train_texts = pre_process_corpus(train_reviews)\n",
        "norm_val_texts = pre_process_corpus(val_reviews)\n",
        "norm_test_texts = pre_process_corpus(test_reviews)"
      ],
      "execution_count": null,
      "outputs": [
        {
          "output_type": "stream",
          "name": "stderr",
          "text": [
            " 17%|█▋        | 849/5000 [00:00<00:01, 2109.84it/s]<ipython-input-10-83c8198a9555>:10: MarkupResemblesLocatorWarning: The input looks more like a filename than markup. You may want to open this file and pass the filehandle into Beautiful Soup.\n",
            "  soup = BeautifulSoup(text, \"html.parser\")\n",
            "100%|██████████| 5000/5000 [00:02<00:00, 2111.08it/s]\n",
            "100%|██████████| 5000/5000 [00:02<00:00, 2090.13it/s]\n",
            "100%|██████████| 40000/40000 [00:19<00:00, 2057.55it/s]"
          ]
        },
        {
          "output_type": "stream",
          "name": "stdout",
          "text": [
            "CPU times: user 24.1 s, sys: 140 ms, total: 24.3 s\n",
            "Wall time: 24.2 s\n"
          ]
        },
        {
          "output_type": "stream",
          "name": "stderr",
          "text": [
            "\n"
          ]
        }
      ]
    },
    {
      "cell_type": "markdown",
      "metadata": {
        "id": "LAJy5oNXcWzx"
      },
      "source": [
        "## Model 0: Simple Baseline ML Model - Logistic Regression"
      ]
    },
    {
      "cell_type": "markdown",
      "metadata": {
        "id": "orFz4oyrhRWz"
      },
      "source": [
        "### Feature Extraction with BOW Model"
      ]
    },
    {
      "cell_type": "code",
      "metadata": {
        "colab": {
          "base_uri": "https://localhost:8080/"
        },
        "id": "8CKxZvOccDl7",
        "outputId": "80ab07b7-8010-4f7f-ce54-9119956aba99"
      },
      "source": [
        "from sklearn.feature_extraction.text import CountVectorizer\n",
        "\n",
        "cv = CountVectorizer(binary=False, min_df=2, max_df=1.0)\n",
        "\n",
        "cv_train_features = cv.fit_transform(norm_train_texts)\n",
        "cv_test_features = cv.transform(norm_test_texts)\n",
        "print('BOW model:> Train features shape:', cv_train_features.shape, ' Test features shape:', cv_test_features.shape)"
      ],
      "execution_count": null,
      "outputs": [
        {
          "output_type": "stream",
          "name": "stdout",
          "text": [
            "BOW model:> Train features shape: (5000, 21633)  Test features shape: (40000, 21633)\n"
          ]
        }
      ]
    },
    {
      "cell_type": "markdown",
      "metadata": {
        "id": "LTJzeCmAhVqf"
      },
      "source": [
        "### Train the ML Model"
      ]
    },
    {
      "cell_type": "code",
      "metadata": {
        "colab": {
          "base_uri": "https://localhost:8080/"
        },
        "id": "ZGK-qpVFcgAk",
        "outputId": "df35c965-4acc-463e-a1a2-94a11002d9d1"
      },
      "source": [
        "%%time\n",
        "\n",
        "# Logistic Regression model on BOW features\n",
        "from sklearn.linear_model import LogisticRegression\n",
        "\n",
        "# instantiate model\n",
        "lr = LogisticRegression(penalty='l2', max_iter=500, C=1, solver='lbfgs', random_state=42)\n",
        "\n",
        "# train model\n",
        "lr.fit(cv_train_features, train_sentiments)\n",
        "\n",
        "# predict on test data\n",
        "lr_bow_predictions = lr.predict(cv_test_features)"
      ],
      "execution_count": null,
      "outputs": [
        {
          "output_type": "stream",
          "name": "stdout",
          "text": [
            "CPU times: user 10.3 s, sys: 37.5 s, total: 47.8 s\n",
            "Wall time: 4.07 s\n"
          ]
        }
      ]
    },
    {
      "cell_type": "markdown",
      "metadata": {
        "id": "ruF1eMNLhXp5"
      },
      "source": [
        "### Predict and Test Model Performance"
      ]
    },
    {
      "cell_type": "code",
      "metadata": {
        "colab": {
          "base_uri": "https://localhost:8080/",
          "height": 268
        },
        "id": "XKcDYnNsco15",
        "outputId": "610eae67-46ff-4ffc-b9c7-432813a74d6e"
      },
      "source": [
        "print(classification_report(test_sentiments, lr_bow_predictions))\n",
        "pd.DataFrame(confusion_matrix(test_sentiments, lr_bow_predictions))"
      ],
      "execution_count": null,
      "outputs": [
        {
          "output_type": "stream",
          "name": "stdout",
          "text": [
            "              precision    recall  f1-score   support\n",
            "\n",
            "           0       0.85      0.85      0.85     20028\n",
            "           1       0.85      0.85      0.85     19972\n",
            "\n",
            "    accuracy                           0.85     40000\n",
            "   macro avg       0.85      0.85      0.85     40000\n",
            "weighted avg       0.85      0.85      0.85     40000\n",
            "\n"
          ]
        },
        {
          "output_type": "execute_result",
          "data": {
            "text/plain": [
              "       0      1\n",
              "0  16996   3032\n",
              "1   2940  17032"
            ],
            "text/html": [
              "\n",
              "  <div id=\"df-36ea6a1b-9c8b-4a02-89a5-3e369efb3e59\">\n",
              "    <div class=\"colab-df-container\">\n",
              "      <div>\n",
              "<style scoped>\n",
              "    .dataframe tbody tr th:only-of-type {\n",
              "        vertical-align: middle;\n",
              "    }\n",
              "\n",
              "    .dataframe tbody tr th {\n",
              "        vertical-align: top;\n",
              "    }\n",
              "\n",
              "    .dataframe thead th {\n",
              "        text-align: right;\n",
              "    }\n",
              "</style>\n",
              "<table border=\"1\" class=\"dataframe\">\n",
              "  <thead>\n",
              "    <tr style=\"text-align: right;\">\n",
              "      <th></th>\n",
              "      <th>0</th>\n",
              "      <th>1</th>\n",
              "    </tr>\n",
              "  </thead>\n",
              "  <tbody>\n",
              "    <tr>\n",
              "      <th>0</th>\n",
              "      <td>16996</td>\n",
              "      <td>3032</td>\n",
              "    </tr>\n",
              "    <tr>\n",
              "      <th>1</th>\n",
              "      <td>2940</td>\n",
              "      <td>17032</td>\n",
              "    </tr>\n",
              "  </tbody>\n",
              "</table>\n",
              "</div>\n",
              "      <button class=\"colab-df-convert\" onclick=\"convertToInteractive('df-36ea6a1b-9c8b-4a02-89a5-3e369efb3e59')\"\n",
              "              title=\"Convert this dataframe to an interactive table.\"\n",
              "              style=\"display:none;\">\n",
              "        \n",
              "  <svg xmlns=\"http://www.w3.org/2000/svg\" height=\"24px\"viewBox=\"0 0 24 24\"\n",
              "       width=\"24px\">\n",
              "    <path d=\"M0 0h24v24H0V0z\" fill=\"none\"/>\n",
              "    <path d=\"M18.56 5.44l.94 2.06.94-2.06 2.06-.94-2.06-.94-.94-2.06-.94 2.06-2.06.94zm-11 1L8.5 8.5l.94-2.06 2.06-.94-2.06-.94L8.5 2.5l-.94 2.06-2.06.94zm10 10l.94 2.06.94-2.06 2.06-.94-2.06-.94-.94-2.06-.94 2.06-2.06.94z\"/><path d=\"M17.41 7.96l-1.37-1.37c-.4-.4-.92-.59-1.43-.59-.52 0-1.04.2-1.43.59L10.3 9.45l-7.72 7.72c-.78.78-.78 2.05 0 2.83L4 21.41c.39.39.9.59 1.41.59.51 0 1.02-.2 1.41-.59l7.78-7.78 2.81-2.81c.8-.78.8-2.07 0-2.86zM5.41 20L4 18.59l7.72-7.72 1.47 1.35L5.41 20z\"/>\n",
              "  </svg>\n",
              "      </button>\n",
              "      \n",
              "  <style>\n",
              "    .colab-df-container {\n",
              "      display:flex;\n",
              "      flex-wrap:wrap;\n",
              "      gap: 12px;\n",
              "    }\n",
              "\n",
              "    .colab-df-convert {\n",
              "      background-color: #E8F0FE;\n",
              "      border: none;\n",
              "      border-radius: 50%;\n",
              "      cursor: pointer;\n",
              "      display: none;\n",
              "      fill: #1967D2;\n",
              "      height: 32px;\n",
              "      padding: 0 0 0 0;\n",
              "      width: 32px;\n",
              "    }\n",
              "\n",
              "    .colab-df-convert:hover {\n",
              "      background-color: #E2EBFA;\n",
              "      box-shadow: 0px 1px 2px rgba(60, 64, 67, 0.3), 0px 1px 3px 1px rgba(60, 64, 67, 0.15);\n",
              "      fill: #174EA6;\n",
              "    }\n",
              "\n",
              "    [theme=dark] .colab-df-convert {\n",
              "      background-color: #3B4455;\n",
              "      fill: #D2E3FC;\n",
              "    }\n",
              "\n",
              "    [theme=dark] .colab-df-convert:hover {\n",
              "      background-color: #434B5C;\n",
              "      box-shadow: 0px 1px 3px 1px rgba(0, 0, 0, 0.15);\n",
              "      filter: drop-shadow(0px 1px 2px rgba(0, 0, 0, 0.3));\n",
              "      fill: #FFFFFF;\n",
              "    }\n",
              "  </style>\n",
              "\n",
              "      <script>\n",
              "        const buttonEl =\n",
              "          document.querySelector('#df-36ea6a1b-9c8b-4a02-89a5-3e369efb3e59 button.colab-df-convert');\n",
              "        buttonEl.style.display =\n",
              "          google.colab.kernel.accessAllowed ? 'block' : 'none';\n",
              "\n",
              "        async function convertToInteractive(key) {\n",
              "          const element = document.querySelector('#df-36ea6a1b-9c8b-4a02-89a5-3e369efb3e59');\n",
              "          const dataTable =\n",
              "            await google.colab.kernel.invokeFunction('convertToInteractive',\n",
              "                                                     [key], {});\n",
              "          if (!dataTable) return;\n",
              "\n",
              "          const docLinkHtml = 'Like what you see? Visit the ' +\n",
              "            '<a target=\"_blank\" href=https://colab.research.google.com/notebooks/data_table.ipynb>data table notebook</a>'\n",
              "            + ' to learn more about interactive tables.';\n",
              "          element.innerHTML = '';\n",
              "          dataTable['output_type'] = 'display_data';\n",
              "          await google.colab.output.renderOutput(dataTable, element);\n",
              "          const docLink = document.createElement('div');\n",
              "          docLink.innerHTML = docLinkHtml;\n",
              "          element.appendChild(docLink);\n",
              "        }\n",
              "      </script>\n",
              "    </div>\n",
              "  </div>\n",
              "  "
            ]
          },
          "metadata": {},
          "execution_count": 14
        }
      ]
    },
    {
      "cell_type": "markdown",
      "metadata": {
        "id": "DhKn8guEajay"
      },
      "source": [
        "## Model 1: FastText Embeddings + CNN\n",
        "\n",
        "![](https://i.imgur.com/6Pk3Nrv.png)\n",
        "\n",
        "Convolutional Neural Networks (CNNs) have also proven to be very effective in text classification besides computer vision tasks. The idea is to leverage embeddings as features for text data and apply convolutions and poolings on them."
      ]
    },
    {
      "cell_type": "markdown",
      "metadata": {
        "id": "OMCYxEQqajaz"
      },
      "source": [
        "### Tokenizing text to create vocabulary"
      ]
    },
    {
      "cell_type": "code",
      "metadata": {
        "id": "cj0KZG_2ajaz"
      },
      "source": [
        "t = tf.keras.preprocessing.text.Tokenizer(oov_token='<UNK>')\n",
        "# fit the tokenizer on the documents\n",
        "t.fit_on_texts(norm_train_texts)\n",
        "t.word_index['<PAD>'] = 0"
      ],
      "execution_count": null,
      "outputs": []
    },
    {
      "cell_type": "code",
      "metadata": {
        "colab": {
          "base_uri": "https://localhost:8080/"
        },
        "id": "HmCDkpeUaja1",
        "outputId": "92f195e8-b8ce-48d7-a14a-300c68f35c91"
      },
      "source": [
        "print(max([(k, v) for k, v in t.word_index.items()], key = lambda x:x[1]),\n",
        "      min([(k, v) for k, v in t.word_index.items()], key = lambda x:x[1]),\n",
        "      t.word_index['<UNK>'])"
      ],
      "execution_count": null,
      "outputs": [
        {
          "output_type": "stream",
          "name": "stdout",
          "text": [
            "('unscarred', 39205) ('<PAD>', 0) 1\n"
          ]
        }
      ]
    },
    {
      "cell_type": "markdown",
      "metadata": {
        "id": "E2hvcxYvaja4"
      },
      "source": [
        "### Convert texts (sequences of words) to sequence of numeric ids"
      ]
    },
    {
      "cell_type": "code",
      "metadata": {
        "id": "kfCTE0AKaja4"
      },
      "source": [
        "train_sequences = t.texts_to_sequences(norm_train_texts)\n",
        "val_sequences = t.texts_to_sequences(norm_val_texts)\n",
        "test_sequences = t.texts_to_sequences(norm_test_texts)"
      ],
      "execution_count": null,
      "outputs": []
    },
    {
      "cell_type": "code",
      "metadata": {
        "colab": {
          "base_uri": "https://localhost:8080/"
        },
        "id": "1Rhom3wvaja6",
        "outputId": "5e11e9cf-9be4-4140-d1cf-2ff1c68d8382"
      },
      "source": [
        "print(\"Vocabulary size={}\".format(len(t.word_index)))\n",
        "print(\"Number of Documents={}\".format(t.document_count))"
      ],
      "execution_count": null,
      "outputs": [
        {
          "output_type": "stream",
          "name": "stdout",
          "text": [
            "Vocabulary size=39206\n",
            "Number of Documents=5000\n"
          ]
        }
      ]
    },
    {
      "cell_type": "markdown",
      "metadata": {
        "id": "SeEoOXqdaja8"
      },
      "source": [
        "### Visualizing sentence length distribution"
      ]
    },
    {
      "cell_type": "code",
      "metadata": {
        "colab": {
          "base_uri": "https://localhost:8080/",
          "height": 447
        },
        "id": "QByCrNcDaja8",
        "outputId": "0628dcad-d432-42db-e329-45fae0d56f8d"
      },
      "source": [
        "plt.hist([len(doc.split()) for doc in norm_train_texts], bins=30);\n",
        "plt.xlim([0, 2000])"
      ],
      "execution_count": null,
      "outputs": [
        {
          "output_type": "execute_result",
          "data": {
            "text/plain": [
              "(0.0, 2000.0)"
            ]
          },
          "metadata": {},
          "execution_count": 19
        },
        {
          "output_type": "display_data",
          "data": {
            "text/plain": [
              "<Figure size 640x480 with 1 Axes>"
            ],
            "image/png": "[encoded data removed]"
          },
          "metadata": {}
        }
      ]
    },
    {
      "cell_type": "markdown",
      "metadata": {
        "id": "GWrzX3eYaja-"
      },
      "source": [
        "### Padding text sequences"
      ]
    },
    {
      "cell_type": "code",
      "metadata": {
        "colab": {
          "base_uri": "https://localhost:8080/"
        },
        "id": "d_ALlOn6aja_",
        "outputId": "d1c089e9-1908-4a8f-c80b-c92793224ab3"
      },
      "source": [
        "MAX_SEQUENCE_LENGTH = 500\n",
        "\n",
        "# pad dataset to a maximum review length in words\n",
        "X_train = tf.keras.preprocessing.sequence.pad_sequences(train_sequences, maxlen=MAX_SEQUENCE_LENGTH)\n",
        "X_val = tf.keras.preprocessing.sequence.pad_sequences(val_sequences, maxlen=MAX_SEQUENCE_LENGTH)\n",
        "X_test = tf.keras.preprocessing.sequence.pad_sequences(test_sequences, maxlen=MAX_SEQUENCE_LENGTH)\n",
        "X_train.shape, X_test.shape"
      ],
      "execution_count": null,
      "outputs": [
        {
          "output_type": "execute_result",
          "data": {
            "text/plain": [
              "((5000, 500), (40000, 500))"
            ]
          },
          "metadata": {},
          "execution_count": 20
        }
      ]
    },
    {
      "cell_type": "markdown",
      "metadata": {
        "id": "Rctc4SDbajbB"
      },
      "source": [
        "### Building FastText based Embedding Matrix\n",
        "\n",
        "Here we will build an embedding matrix based on pre-trained FastText Embeddings available __[here](https://fasttext.cc/docs/en/english-vectors.html)__.\n",
        "\n",
        "We will be using the __crawl-300d-2M-subword.vec.zip__ embedding file which has 1 million word vectors trained with subword infomation on 2 million word vectors trained with subword information on Common Crawl (600B tokens).\n",
        "\n",
        "![](https://i.imgur.com/5de9N5R.png)"
      ]
    },
    {
      "cell_type": "code",
      "metadata": {
        "id": "VNPVMJVoajbB"
      },
      "source": [
        "VOCAB_SIZE = len(t.word_index)\n",
        "EMBED_SIZE = 300\n",
        "EPOCHS=100\n",
        "BATCH_SIZE=128"
      ],
      "execution_count": null,
      "outputs": []
    },
    {
      "cell_type": "markdown",
      "metadata": {
        "id": "8NUo94CZhhLW"
      },
      "source": [
        "### Download Pre-trained FastText Embeddings"
      ]
    },
    {
      "cell_type": "code",
      "metadata": {
        "colab": {
          "base_uri": "https://localhost:8080/"
        },
        "id": "SUVQNz32dOnD",
        "outputId": "8adb1b8f-640c-4d86-ac08-900c00b89f9a"
      },
      "source": [
        "!wget https://dl.fbaipublicfiles.com/fasttext/vectors-english/crawl-300d-2M-subword.zip"
      ],
      "execution_count": null,
      "outputs": [
        {
          "output_type": "stream",
          "name": "stdout",
          "text": [
            "--2023-06-20 15:45:03--  https://dl.fbaipublicfiles.com/fasttext/vectors-english/crawl-300d-2M-subword.zip\n",
            "Resolving dl.fbaipublicfiles.com (dl.fbaipublicfiles.com)... 13.35.8.19, 13.35.8.51, 13.35.8.29, ...\n",
            "Connecting to dl.fbaipublicfiles.com (dl.fbaipublicfiles.com)|13.35.8.19|:443... connected.\n",
            "HTTP request sent, awaiting response... 200 OK\n",
            "Length: 5828358084 (5.4G) [application/zip]\n",
            "Saving to: ‘crawl-300d-2M-subword.zip’\n",
            "\n",
            "crawl-300d-2M-subwo 100%[===================>]   5.43G   187MB/s    in 31s     \n",
            "\n",
            "2023-06-20 15:45:34 (181 MB/s) - ‘crawl-300d-2M-subword.zip’ saved [5828358084/5828358084]\n",
            "\n"
          ]
        }
      ]
    },
    {
      "cell_type": "code",
      "metadata": {
        "colab": {
          "base_uri": "https://localhost:8080/"
        },
        "id": "hKLwq0nFdWEb",
        "outputId": "339cc6fa-e50d-4108-b691-b1cb8ed2e67e"
      },
      "source": [
        "!unzip crawl-300d-2M-subword.zip"
      ],
      "execution_count": null,
      "outputs": [
        {
          "output_type": "stream",
          "name": "stdout",
          "text": [
            "Archive:  crawl-300d-2M-subword.zip\n",
            "  inflating: crawl-300d-2M-subword.vec  \n",
            "  inflating: crawl-300d-2M-subword.bin  \n"
          ]
        }
      ]
    },
    {
      "cell_type": "markdown",
      "metadata": {
        "id": "tSeBiAiqhlR_"
      },
      "source": [
        "### Generate Pre-trained Embedding Matrix"
      ]
    },
    {
      "cell_type": "code",
      "metadata": {
        "id": "Mz5A60JEajbD"
      },
      "source": [
        "word2idx = t.word_index\n",
        "FASTTEXT_INIT_EMBEDDINGS_FILE = './crawl-300d-2M-subword.vec'\n",
        "\n",
        "\n",
        "def load_pretrained_embeddings(word_to_index, max_features, embedding_size, embedding_file_path):\n",
        "\n",
        "    def get_coefs(word,*arr):\n",
        "        return word, np.asarray(arr, dtype='float32')\n",
        "\n",
        "    embeddings_index = dict(get_coefs(*row.split(\" \"))\n",
        "                                for row in open(embedding_file_path, encoding=\"utf8\", errors='ignore')\n",
        "                                    if len(row)>100)\n",
        "\n",
        "    all_embs = np.stack(list(embeddings_index.values()))\n",
        "    emb_mean, emb_std = all_embs.mean(), all_embs.std()\n",
        "    embed_size = all_embs.shape[1]\n",
        "\n",
        "    nb_words = min(max_features, len(word_to_index))\n",
        "    embedding_matrix = np.random.normal(emb_mean, emb_std, (nb_words, embedding_size))\n",
        "\n",
        "    for word, idx in word_to_index.items():\n",
        "        if idx >= max_features:\n",
        "            continue\n",
        "        embedding_vector = embeddings_index.get(word)\n",
        "        if embedding_vector is not None:\n",
        "            embedding_matrix[idx] = embedding_vector\n",
        "\n",
        "    return embedding_matrix"
      ],
      "execution_count": null,
      "outputs": []
    },
    {
      "cell_type": "code",
      "metadata": {
        "colab": {
          "base_uri": "https://localhost:8080/"
        },
        "id": "0WfOQV3lajbF",
        "outputId": "6795f862-7901-4ca6-b497-edf0d3a8553b"
      },
      "source": [
        "ft_embeddings = load_pretrained_embeddings(word_to_index=word2idx,\n",
        "                                           max_features=VOCAB_SIZE,\n",
        "                                           embedding_size=EMBED_SIZE,\n",
        "                                           embedding_file_path=FASTTEXT_INIT_EMBEDDINGS_FILE)\n",
        "ft_embeddings.shape"
      ],
      "execution_count": null,
      "outputs": [
        {
          "output_type": "stream",
          "name": "stderr",
          "text": [
            "/usr/local/lib/python3.10/dist-packages/IPython/core/interactiveshell.py:3553: FutureWarning: arrays to stack must be passed as a \"sequence\" type such as list or tuple. Support for non-sequence iterables such as generators is deprecated as of NumPy 1.16 and will raise an error in the future.\n",
            "  exec(code_obj, self.user_global_ns, self.user_ns)\n"
          ]
        },
        {
          "output_type": "execute_result",
          "data": {
            "text/plain": [
              "(39206, 300)"
            ]
          },
          "metadata": {},
          "execution_count": 38
        }
      ]
    },
    {
      "cell_type": "markdown",
      "metadata": {
        "id": "MEV8ZEN8ajbH"
      },
      "source": [
        "### Build Model Architecture"
      ]
    },
    {
      "cell_type": "code",
      "metadata": {
        "colab": {
          "base_uri": "https://localhost:8080/"
        },
        "id": "Gbpb7gd3ajbH",
        "outputId": "55ed3d55-1e57-46b1-9e8c-90d39f66e43e"
      },
      "source": [
        "# create the model\n",
        "model = tf.keras.models.Sequential()\n",
        "\n",
        "model.add(tf.keras.layers.Embedding(VOCAB_SIZE, EMBED_SIZE,\n",
        "                                    weights=[ft_embeddings],\n",
        "                                    trainable=True,\n",
        "                                    input_length=MAX_SEQUENCE_LENGTH))\n",
        "\n",
        "model.add(tf.keras.layers.Conv1D(filters=256, kernel_size=4, padding='same', activation='relu'))\n",
        "model.add(tf.keras.layers.MaxPooling1D(pool_size=2))\n",
        "\n",
        "model.add(tf.keras.layers.Conv1D(filters=128, kernel_size=4, padding='same', activation='relu'))\n",
        "model.add(tf.keras.layers.MaxPooling1D(pool_size=2))\n",
        "\n",
        "model.add(tf.keras.layers.Conv1D(filters=64, kernel_size=4, padding='same', activation='relu'))\n",
        "model.add(tf.keras.layers.MaxPooling1D(pool_size=2))\n",
        "\n",
        "model.add(tf.keras.layers.Flatten())\n",
        "\n",
        "model.add(tf.keras.layers.Dense(256, activation='relu'))\n",
        "model.add(tf.keras.layers.Dropout(0.25))\n",
        "model.add(tf.keras.layers.Dense(256, activation='relu'))\n",
        "model.add(tf.keras.layers.Dropout(0.25))\n",
        "model.add(tf.keras.layers.Dense(1, activation='sigmoid'))\n",
        "\n",
        "model.compile(loss='binary_crossentropy', optimizer='adam', metrics=['accuracy'])\n",
        "model.summary()"
      ],
      "execution_count": null,
      "outputs": [
        {
          "output_type": "stream",
          "name": "stdout",
          "text": [
            "Model: \"sequential_3\"\n",
            "_________________________________________________________________\n",
            " Layer (type)                Output Shape              Param #   \n",
            "=================================================================\n",
            " embedding_2 (Embedding)     (None, 500, 300)          11761800  \n",
            "                                                                 \n",
            " conv1d_6 (Conv1D)           (None, 500, 256)          307456    \n",
            "                                                                 \n",
            " max_pooling1d_6 (MaxPooling  (None, 250, 256)         0         \n",
            " 1D)                                                             \n",
            "                                                                 \n",
            " conv1d_7 (Conv1D)           (None, 250, 128)          131200    \n",
            "                                                                 \n",
            " max_pooling1d_7 (MaxPooling  (None, 125, 128)         0         \n",
            " 1D)                                                             \n",
            "                                                                 \n",
            " conv1d_8 (Conv1D)           (None, 125, 64)           32832     \n",
            "                                                                 \n",
            " max_pooling1d_8 (MaxPooling  (None, 62, 64)           0         \n",
            " 1D)                                                             \n",
            "                                                                 \n",
            " flatten_2 (Flatten)         (None, 3968)              0         \n",
            "                                                                 \n",
            " dense_9 (Dense)             (None, 256)               1016064   \n",
            "                                                                 \n",
            " dropout_6 (Dropout)         (None, 256)               0         \n",
            "                                                                 \n",
            " dense_10 (Dense)            (None, 256)               65792     \n",
            "                                                                 \n",
            " dropout_7 (Dropout)         (None, 256)               0         \n",
            "                                                                 \n",
            " dense_11 (Dense)            (None, 1)                 257       \n",
            "                                                                 \n",
            "=================================================================\n",
            "Total params: 13,315,401\n",
            "Trainable params: 13,315,401\n",
            "Non-trainable params: 0\n",
            "_________________________________________________________________\n"
          ]
        }
      ]
    },
    {
      "cell_type": "markdown",
      "metadata": {
        "id": "wgU-nHZ2ajbJ"
      },
      "source": [
        "### Train and Validate Model"
      ]
    },
    {
      "cell_type": "code",
      "metadata": {
        "colab": {
          "base_uri": "https://localhost:8080/"
        },
        "id": "IpegUjivajbJ",
        "outputId": "d690d419-c6d0-42a1-a0b0-2934324cf567"
      },
      "source": [
        "# Fit the model:\n",
        "# if you want to use early stopping\n",
        "# use the following as a callback:\n",
        "# es = tf.keras.callbacks.EarlyStopping(monitor='val_loss',\n",
        "#                                       patience=2,\n",
        "#                                       restore_best_weights=True,\n",
        "#                                       verbose=1)\n",
        "\n",
        "model.fit(X_train, train_sentiments,\n",
        "          validation_data=(X_val, val_sentiments),\n",
        "          epochs=5,\n",
        "          batch_size=BATCH_SIZE,\n",
        "          shuffle=True,\n",
        "          verbose=1)"
      ],
      "execution_count": null,
      "outputs": [
        {
          "output_type": "stream",
          "name": "stdout",
          "text": [
            "Epoch 1/5\n",
            "40/40 [==============================] - 9s 168ms/step - loss: 0.6950 - accuracy: 0.5016 - val_loss: 0.6935 - val_accuracy: 0.4880\n",
            "Epoch 2/5\n",
            "40/40 [==============================] - 7s 164ms/step - loss: 0.6182 - accuracy: 0.6460 - val_loss: 0.4484 - val_accuracy: 0.8028\n",
            "Epoch 3/5\n",
            "40/40 [==============================] - 6s 144ms/step - loss: 0.2418 - accuracy: 0.9060 - val_loss: 0.2920 - val_accuracy: 0.8812\n",
            "Epoch 4/5\n",
            "40/40 [==============================] - 6s 153ms/step - loss: 0.0483 - accuracy: 0.9850 - val_loss: 0.3775 - val_accuracy: 0.8788\n",
            "Epoch 5/5\n",
            "40/40 [==============================] - 5s 136ms/step - loss: 0.0055 - accuracy: 0.9988 - val_loss: 0.6045 - val_accuracy: 0.8770\n"
          ]
        },
        {
          "output_type": "execute_result",
          "data": {
            "text/plain": [
              "<keras.callbacks.History at 0x7f9c658cec50>"
            ]
          },
          "metadata": {},
          "execution_count": 41
        }
      ]
    },
    {
      "cell_type": "markdown",
      "metadata": {
        "id": "x-8mIjSHajbL"
      },
      "source": [
        "### Model Performance Evaluation on the Test Dataset"
      ]
    },
    {
      "cell_type": "code",
      "metadata": {
        "colab": {
          "base_uri": "https://localhost:8080/",
          "height": 286
        },
        "id": "NXJm1NEHajbL",
        "outputId": "c96e63ed-e822-4307-f657-35305d7b1549"
      },
      "source": [
        "predictions = model.predict(X_test, batch_size=2048, verbose=0).ravel()\n",
        "predictions = [1 if prob > 0.5 else 0 for prob in predictions]\n",
        "print(\"Accuracy: %.2f%%\" % (accuracy_score(test_sentiments, predictions)*100))\n",
        "print(classification_report(test_sentiments, predictions))\n",
        "pd.DataFrame(confusion_matrix(test_sentiments, predictions))"
      ],
      "execution_count": null,
      "outputs": [
        {
          "output_type": "stream",
          "name": "stdout",
          "text": [
            "Accuracy: 86.63%\n",
            "              precision    recall  f1-score   support\n",
            "\n",
            "           0       0.84      0.90      0.87     20028\n",
            "           1       0.90      0.83      0.86     19972\n",
            "\n",
            "    accuracy                           0.87     40000\n",
            "   macro avg       0.87      0.87      0.87     40000\n",
            "weighted avg       0.87      0.87      0.87     40000\n",
            "\n"
          ]
        },
        {
          "output_type": "execute_result",
          "data": {
            "text/plain": [
              "       0      1\n",
              "0  18090   1938\n",
              "1   3410  16562"
            ],
            "text/html": [
              "\n",
              "  <div id=\"df-be571959-7b87-4775-b691-f5dcb4709149\">\n",
              "    <div class=\"colab-df-container\">\n",
              "      <div>\n",
              "<style scoped>\n",
              "    .dataframe tbody tr th:only-of-type {\n",
              "        vertical-align: middle;\n",
              "    }\n",
              "\n",
              "    .dataframe tbody tr th {\n",
              "        vertical-align: top;\n",
              "    }\n",
              "\n",
              "    .dataframe thead th {\n",
              "        text-align: right;\n",
              "    }\n",
              "</style>\n",
              "<table border=\"1\" class=\"dataframe\">\n",
              "  <thead>\n",
              "    <tr style=\"text-align: right;\">\n",
              "      <th></th>\n",
              "      <th>0</th>\n",
              "      <th>1</th>\n",
              "    </tr>\n",
              "  </thead>\n",
              "  <tbody>\n",
              "    <tr>\n",
              "      <th>0</th>\n",
              "      <td>18090</td>\n",
              "      <td>1938</td>\n",
              "    </tr>\n",
              "    <tr>\n",
              "      <th>1</th>\n",
              "      <td>3410</td>\n",
              "      <td>16562</td>\n",
              "    </tr>\n",
              "  </tbody>\n",
              "</table>\n",
              "</div>\n",
              "      <button class=\"colab-df-convert\" onclick=\"convertToInteractive('df-be571959-7b87-4775-b691-f5dcb4709149')\"\n",
              "              title=\"Convert this dataframe to an interactive table.\"\n",
              "              style=\"display:none;\">\n",
              "        \n",
              "  <svg xmlns=\"http://www.w3.org/2000/svg\" height=\"24px\"viewBox=\"0 0 24 24\"\n",
              "       width=\"24px\">\n",
              "    <path d=\"M0 0h24v24H0V0z\" fill=\"none\"/>\n",
              "    <path d=\"M18.56 5.44l.94 2.06.94-2.06 2.06-.94-2.06-.94-.94-2.06-.94 2.06-2.06.94zm-11 1L8.5 8.5l.94-2.06 2.06-.94-2.06-.94L8.5 2.5l-.94 2.06-2.06.94zm10 10l.94 2.06.94-2.06 2.06-.94-2.06-.94-.94-2.06-.94 2.06-2.06.94z\"/><path d=\"M17.41 7.96l-1.37-1.37c-.4-.4-.92-.59-1.43-.59-.52 0-1.04.2-1.43.59L10.3 9.45l-7.72 7.72c-.78.78-.78 2.05 0 2.83L4 21.41c.39.39.9.59 1.41.59.51 0 1.02-.2 1.41-.59l7.78-7.78 2.81-2.81c.8-.78.8-2.07 0-2.86zM5.41 20L4 18.59l7.72-7.72 1.47 1.35L5.41 20z\"/>\n",
              "  </svg>\n",
              "      </button>\n",
              "      \n",
              "  <style>\n",
              "    .colab-df-container {\n",
              "      display:flex;\n",
              "      flex-wrap:wrap;\n",
              "      gap: 12px;\n",
              "    }\n",
              "\n",
              "    .colab-df-convert {\n",
              "      background-color: #E8F0FE;\n",
              "      border: none;\n",
              "      border-radius: 50%;\n",
              "      cursor: pointer;\n",
              "      display: none;\n",
              "      fill: #1967D2;\n",
              "      height: 32px;\n",
              "      padding: 0 0 0 0;\n",
              "      width: 32px;\n",
              "    }\n",
              "\n",
              "    .colab-df-convert:hover {\n",
              "      background-color: #E2EBFA;\n",
              "      box-shadow: 0px 1px 2px rgba(60, 64, 67, 0.3), 0px 1px 3px 1px rgba(60, 64, 67, 0.15);\n",
              "      fill: #174EA6;\n",
              "    }\n",
              "\n",
              "    [theme=dark] .colab-df-convert {\n",
              "      background-color: #3B4455;\n",
              "      fill: #D2E3FC;\n",
              "    }\n",
              "\n",
              "    [theme=dark] .colab-df-convert:hover {\n",
              "      background-color: #434B5C;\n",
              "      box-shadow: 0px 1px 3px 1px rgba(0, 0, 0, 0.15);\n",
              "      filter: drop-shadow(0px 1px 2px rgba(0, 0, 0, 0.3));\n",
              "      fill: #FFFFFF;\n",
              "    }\n",
              "  </style>\n",
              "\n",
              "      <script>\n",
              "        const buttonEl =\n",
              "          document.querySelector('#df-be571959-7b87-4775-b691-f5dcb4709149 button.colab-df-convert');\n",
              "        buttonEl.style.display =\n",
              "          google.colab.kernel.accessAllowed ? 'block' : 'none';\n",
              "\n",
              "        async function convertToInteractive(key) {\n",
              "          const element = document.querySelector('#df-be571959-7b87-4775-b691-f5dcb4709149');\n",
              "          const dataTable =\n",
              "            await google.colab.kernel.invokeFunction('convertToInteractive',\n",
              "                                                     [key], {});\n",
              "          if (!dataTable) return;\n",
              "\n",
              "          const docLinkHtml = 'Like what you see? Visit the ' +\n",
              "            '<a target=\"_blank\" href=https://colab.research.google.com/notebooks/data_table.ipynb>data table notebook</a>'\n",
              "            + ' to learn more about interactive tables.';\n",
              "          element.innerHTML = '';\n",
              "          dataTable['output_type'] = 'display_data';\n",
              "          await google.colab.output.renderOutput(dataTable, element);\n",
              "          const docLink = document.createElement('div');\n",
              "          docLink.innerHTML = docLinkHtml;\n",
              "          element.appendChild(docLink);\n",
              "        }\n",
              "      </script>\n",
              "    </div>\n",
              "  </div>\n",
              "  "
            ]
          },
          "metadata": {},
          "execution_count": 42
        }
      ]
    },
    {
      "cell_type": "code",
      "source": [
        "del ft_embeddings\n",
        "del model"
      ],
      "metadata": {
        "id": "YuMX5wLmYRVc"
      },
      "execution_count": null,
      "outputs": []
    },
    {
      "cell_type": "code",
      "source": [
        "import gc\n",
        "gc.collect()"
      ],
      "metadata": {
        "colab": {
          "base_uri": "https://localhost:8080/"
        },
        "id": "k-EMHFIIYQTw",
        "outputId": "84771ac7-b30f-4825-9896-2b2c467fe70e"
      },
      "execution_count": null,
      "outputs": [
        {
          "output_type": "execute_result",
          "data": {
            "text/plain": [
              "4910"
            ]
          },
          "metadata": {},
          "execution_count": 44
        }
      ]
    },
    {
      "cell_type": "markdown",
      "metadata": {
        "id": "uHgcPoPoajb-"
      },
      "source": [
        "## Model 2: Neural Network Language Model\n",
        "\n",
        "![](https://i.imgur.com/blaLxUp.png)"
      ]
    },
    {
      "cell_type": "markdown",
      "metadata": {
        "id": "qpIVtIJ6ajb_"
      },
      "source": [
        "### Sample training data"
      ]
    },
    {
      "cell_type": "code",
      "metadata": {
        "colab": {
          "base_uri": "https://localhost:8080/"
        },
        "id": "JbfpSTYaajb_",
        "outputId": "ded178ab-b582-4458-bbdb-b08cdd6b8dde"
      },
      "source": [
        "norm_train_texts[:3]"
      ],
      "execution_count": null,
      "outputs": [
        {
          "output_type": "execute_result",
          "data": {
            "text/plain": [
              "['one of the other reviewers has mentioned that after watching just 1 oz episode you will be hooked they are right as this is exactly what happened with me the first thing that struck me about oz was its brutality and unflinching scenes of violence which set in right from the word go trust me this is not a show for the faint hearted or timid this show pulls no punches with regards to drugs sex or violence its is hardcore in the classic use of the word it is called oz as that is the nickname given to the oswald maximum security state penitentary it focuses mainly on emerald city an experimental section of the prison where all the cells have glass fronts and face inwards so privacy is not high on the agenda them city is home to many aryans muslims gangstas latinos christians italians irish and more so scuffles death stares dodgy dealings and shady agreements are never far away i would say the main appeal of the show is due to the fact that it goes where other shows would not dare forget pretty pictures painted for mainstream audiences forget charm forget romance oz does not mess around the first episode i ever saw struck me as so nasty it was surreal i could not say i was ready for it but as i watched more i developed a taste for oz and got accustomed to the high levels of graphic violence not just violence but injustice crooked guards who will be sold out for a nickel inmates who will kill on order and get away with it well mannered middle class inmates being turned into prison bitches due to their lack of street skills or prison experience watching oz you may become comfortable with what is uncomfortable viewing that is if you can get in touch with your darker side',\n",
              " 'a wonderful little production the filming technique is very unassuming very old time bbc fashion and gives a comforting and sometimes discomforting sense of realism to the entire piece the actors are extremely well chosen michael sheen not only has got all the polari but he has all the voices down pat too you can truly see the seamless editing guided by the references to williams diary entries not only is it well worth the watching but it is a terrificly written and performed piece a masterful production about one of the great master s of comedy and his life the realism really comes home with the little things the fantasy of the guard which rather than use the traditional dream techniques remains solid then disappears it plays on our knowledge and our senses particularly with the scenes concerning orton and halliwell and the sets particularly of their flat with halliwell s murals decorating every surface are terribly well done',\n",
              " 'i thought this was a wonderful way to spend time on a too hot summer weekend sitting in the air conditioned theater and watching a light hearted comedy the plot is simplistic but the dialogue is witty and the characters are likable even the well bread suspected serial killer while some may be disappointed when they realize this is not match point 2 risk addiction i thought it was proof that woody allen is still fully in control of the style many of us have grown to love this was the most i would laughed at one of woody s comedies in years dare i say a decade while i have never been impressed with scarlet johanson in this she managed to tone down her sexy image and jumped right into a average but spirited young woman this may not be the crown jewel of his career but it was wittier than devil wears prada and more interesting than superman a great comedy to go see with friends']"
            ]
          },
          "metadata": {},
          "execution_count": 45
        }
      ]
    },
    {
      "cell_type": "markdown",
      "metadata": {
        "id": "f94Uo3GNajcC"
      },
      "source": [
        "### Build a NNLM Embedding Layer"
      ]
    },
    {
      "cell_type": "code",
      "metadata": {
        "colab": {
          "base_uri": "https://localhost:8080/"
        },
        "id": "cvwlBRF9ajcD",
        "outputId": "3dd6331a-1e3d-4dd6-a119-31a5d5eb6997"
      },
      "source": [
        "# use the kaggle url if this stops working in the future e.g check the docs in the following link and replace the URL in model below\n",
        "# e.g https://www.kaggle.com/models/google/nnlm/frameworks/tensorFlow2/variations/tf2-preview-en-dim128/versions/1\n",
        "model = \"https://tfhub.dev/google/tf2-preview/nnlm-en-dim128/1\"\n",
        "hub_layer = hub.KerasLayer(model, output_shape=[128], input_shape=[],\n",
        "                           dtype=tf.string, trainable=True)\n",
        "print(hub_layer(np.array(norm_test_texts)[:3]))"
      ],
      "execution_count": null,
      "outputs": [
        {
          "output_type": "stream",
          "name": "stdout",
          "text": [
            "tf.Tensor(\n",
            "[[ 1.69656050e+00  4.13149297e-02  3.74761336e-02  1.33461043e-01\n",
            "   9.40618515e-02 -7.07155988e-02  4.05320883e-01 -4.06657636e-01\n",
            "  -1.36577666e-01  1.44075245e-01  2.72954047e-01 -5.80082774e-01\n",
            "  -3.81301343e-01 -3.76442730e-01 -2.50549257e-01  2.52425313e-01\n",
            "  -1.95503235e-01  8.17240253e-02 -3.05590749e-01  8.46153736e-01\n",
            "   1.06243320e-01  9.39518586e-02 -1.55012712e-01 -1.16756044e-01\n",
            "  -1.10410303e-01 -7.49442056e-02  2.51689136e-01 -7.85680711e-02\n",
            "  -1.02299951e-01  1.44672915e-01 -9.27053094e-02  1.92560077e-01\n",
            "   2.64064342e-01  9.82361361e-02  2.86211818e-01  2.62688827e-02\n",
            "  -2.03817606e-01 -3.01025301e-01  2.66649108e-02  4.76490885e-01\n",
            "  -3.97556305e-01  3.57046798e-02 -3.41935046e-02 -1.91338360e-01\n",
            "   1.20033190e-01  1.56578094e-01  2.22025618e-01 -3.13826255e-03\n",
            "   5.55457883e-02  4.36240480e-05  1.57775968e-01  9.02760401e-02\n",
            "  -3.06066662e-01  1.30464733e-01 -3.88150394e-01 -2.14023128e-01\n",
            "  -6.98908195e-02 -1.04502827e-01  3.52966692e-03  1.87276490e-02\n",
            "  -3.35620314e-01  5.48069440e-02  1.42270699e-01 -3.07210177e-01\n",
            "  -1.18400693e-01  2.53842652e-01  7.60471821e-02 -4.99778867e-01\n",
            "   2.61714429e-01 -4.21723239e-02 -3.45522434e-01  3.52239721e-02\n",
            "   3.33466455e-02 -1.04934484e-01 -1.30402908e-01  3.62862408e-01\n",
            "   9.00853425e-02 -5.11249721e-01 -3.49314332e-01 -5.21626044e-03\n",
            "   1.73412338e-01 -4.96698096e-02 -1.47333637e-01  1.06118754e-01\n",
            "   3.64949070e-02  1.17153428e-01 -5.11490226e-01  2.92625219e-01\n",
            "   1.31726837e+00  7.50384748e-01 -1.89477831e-01  1.95902139e-01\n",
            "  -9.91854444e-02 -4.55039412e-01  1.14086881e-01  2.52802074e-01\n",
            "   8.56353343e-02 -2.63576150e-01 -2.07441509e-01 -6.28053863e-03\n",
            "   8.04798752e-02  1.19747274e-01  6.25823319e-01  7.76716843e-02\n",
            "   5.01982234e-02 -2.39050791e-01 -5.28806560e-02 -1.71065312e-02\n",
            "  -3.35266411e-01  2.39963323e-01 -8.15752327e-01  5.02084270e-02\n",
            "  -5.12198865e-01 -4.12695706e-01 -8.19901228e-02 -2.85619527e-01\n",
            "   7.54495859e-02  2.40432456e-01 -5.79777583e-02  1.08659968e-01\n",
            "   1.59916028e-01 -3.56253237e-01  1.62458628e-01  2.98413873e-01\n",
            "  -2.97566712e-01 -5.20069897e-01  1.12683050e-01 -1.18284840e-02]\n",
            " [ 2.20166802e+00  2.23017246e-01  4.16761041e-01  3.20480347e-01\n",
            "   1.67487487e-01  2.73806900e-01 -3.48705761e-02 -2.68182993e-01\n",
            "  -1.08291000e-01  2.51529336e-01  2.17241943e-01 -3.19853723e-01\n",
            "  -6.02502346e-01 -3.35205972e-01 -4.69487965e-01 -2.29407549e-01\n",
            "  -5.61971724e-01 -1.59663036e-01 -9.47194546e-02  1.60717154e+00\n",
            "  -3.07664007e-01  7.17525840e-01 -1.57873794e-01 -2.89613456e-01\n",
            "   9.49498340e-02 -6.97679222e-01  3.83148700e-01  3.59466344e-01\n",
            "  -1.47177547e-01 -2.17553303e-01  1.39173299e-01  9.47379768e-02\n",
            "   2.01595053e-01  3.53807718e-01  5.22692442e-01 -4.14911151e-01\n",
            "  -2.45652303e-01 -1.85388595e-01 -1.06290884e-01  6.72682226e-01\n",
            "  -4.42088902e-01  2.46121973e-01 -3.84699911e-01  3.12793963e-02\n",
            "   6.34492159e-01  2.45563433e-01  2.31391549e-01 -1.80778995e-01\n",
            "   1.80825472e-01  3.23353447e-02  2.55462080e-01 -2.11932763e-01\n",
            "   6.64939582e-02  3.15783083e-01 -1.38066784e-01 -5.60307577e-02\n",
            "  -3.13997418e-02 -2.77730644e-01 -2.38379940e-01 -1.25170365e-01\n",
            "  -2.75531769e-01  2.65834898e-01  2.40312442e-01 -2.32538268e-01\n",
            "   3.65437381e-02 -3.03373784e-02 -2.65617758e-01 -4.57879514e-01\n",
            "   8.17240477e-01  8.63640979e-02 -1.32563263e-01  8.87812376e-02\n",
            "   2.95970351e-01  6.94523826e-02  1.34194791e-01  1.77207217e-01\n",
            "  -2.81546980e-01 -3.77852499e-01 -2.23211735e-01  2.04762295e-01\n",
            "   3.09946418e-01  6.52804300e-02 -3.26333463e-01  1.20690539e-01\n",
            "   3.24345738e-01 -4.54585552e-01 -4.88651305e-01  1.49390936e-01\n",
            "   1.33820808e+00  8.49837005e-01 -2.90581524e-01  5.61667562e-01\n",
            "   9.90562737e-02 -9.17453468e-02  3.89666498e-01  2.35713840e-01\n",
            "   2.40828425e-01 -2.11011827e-01  2.96365976e-01 -1.89093277e-02\n",
            "  -1.49105012e-01  2.54418015e-01  3.42177987e-01  3.79286528e-01\n",
            "  -3.26778479e-02 -2.57536530e-01  5.40179908e-01 -1.03022642e-02\n",
            "  -5.23669004e-01  2.04170421e-01 -6.06476963e-01 -3.42570692e-01\n",
            "  -3.43978167e-01  4.88279480e-03  1.43916458e-02 -2.73534864e-01\n",
            "   2.02412352e-01 -1.22067425e-02  1.44448400e-01  4.05326068e-01\n",
            "   1.73663586e-01 -2.89492786e-01  7.42841437e-02 -2.35805893e-03\n",
            "  -1.62479937e-01 -3.84920269e-01  2.18584195e-01  3.53270397e-02]\n",
            " [ 1.57632542e+00  8.38322043e-02  1.44965529e-01  2.40222842e-01\n",
            "  -3.89392376e-02  1.31992444e-01  1.70573264e-01 -3.58203143e-01\n",
            "  -7.41856396e-02  5.61519153e-02 -9.61158052e-03 -3.90708834e-01\n",
            "  -1.58407465e-01 -2.52807826e-01 -2.00871035e-01 -2.47425959e-02\n",
            "  -2.69420981e-01 -7.13270903e-02 -4.77705866e-01  9.20385659e-01\n",
            "  -3.76082520e-04  8.39682482e-03 -3.83343846e-02 -4.99633849e-02\n",
            "   9.74467695e-02 -2.78780669e-01  1.23065934e-01  4.76384424e-02\n",
            "  -1.73131432e-02  1.21949250e-02  8.71480256e-02  2.72092551e-01\n",
            "   3.45410943e-01  1.34492032e-02  2.07491264e-01 -2.36663073e-01\n",
            "  -2.66799241e-01 -1.26864955e-01 -1.86197579e-01  2.61701286e-01\n",
            "  -2.32467428e-01  1.33550130e-02  2.10733589e-04 -3.36614043e-01\n",
            "   1.89632356e-01  3.73281807e-01  1.77004233e-01  3.92697332e-03\n",
            "   2.35150643e-02  5.87042384e-02  1.64151624e-01  1.63942441e-01\n",
            "   1.10906109e-01  8.41325819e-02 -1.17513880e-01 -1.11714192e-01\n",
            "  -1.06974151e-02  6.64769625e-03  9.95106250e-02  1.13826454e-01\n",
            "  -2.69434631e-01  2.76423126e-01  8.75945762e-02 -2.09924445e-01\n",
            "  -6.54894710e-02  4.68043350e-02  7.38821998e-02 -9.76764858e-02\n",
            "   1.94362327e-01  4.86367941e-02 -1.18717618e-01  2.28941426e-01\n",
            "   5.81593476e-02  3.74760032e-02  4.78924289e-02  2.98820257e-01\n",
            "  -1.28705993e-01 -2.19263602e-03 -2.37760320e-01  4.55674976e-02\n",
            "   2.55865306e-01  3.41208540e-02 -1.09719306e-01  8.06513652e-02\n",
            "  -1.36273265e-01 -6.35181963e-02 -4.09609467e-01  1.72960132e-01\n",
            "   9.00878191e-01  7.55581558e-01 -2.66938984e-01  1.68001235e-01\n",
            "  -8.96204636e-02 -1.04076177e-01  1.72951207e-01  1.64183646e-01\n",
            "   7.85775110e-02 -2.59976387e-01  1.84923727e-02  1.17566265e-01\n",
            "   5.31638525e-02 -1.12935185e-01  2.38171548e-01  1.80395916e-01\n",
            "  -1.19233049e-01 -1.74917921e-01  3.19792032e-02  1.06449351e-01\n",
            "  -2.70560354e-01  9.72612649e-02 -3.09865475e-01 -1.98418841e-01\n",
            "  -1.69204175e-01 -2.15337232e-01 -1.34766521e-02 -1.42500162e-01\n",
            "  -5.63400388e-02 -5.22869453e-02  6.98672310e-02  1.48254901e-01\n",
            "   2.91107923e-01 -3.31760347e-01  2.43190974e-01  7.99821988e-02\n",
            "  -1.14635713e-01 -5.29640496e-01  1.22298241e-01  1.72941200e-02]], shape=(3, 128), dtype=float32)\n"
          ]
        }
      ]
    },
    {
      "cell_type": "markdown",
      "metadata": {
        "id": "tH3T6A_PajcF"
      },
      "source": [
        "### Build Model Architecture"
      ]
    },
    {
      "cell_type": "code",
      "metadata": {
        "colab": {
          "base_uri": "https://localhost:8080/"
        },
        "id": "-5QlogyoajcG",
        "outputId": "94b64e4d-3f5b-4c7d-d5e0-9fb5fc24ea1b"
      },
      "source": [
        "model = tf.keras.models.Sequential()\n",
        "\n",
        "model.add(hub_layer)\n",
        "\n",
        "model.add(tf.keras.layers.Dense(128, activation='relu'))\n",
        "model.add(tf.keras.layers.Dropout(0.25))\n",
        "model.add(tf.keras.layers.Dense(128, activation='relu'))\n",
        "model.add(tf.keras.layers.Dropout(0.25))\n",
        "\n",
        "model.add(tf.keras.layers.Dense(1, activation='sigmoid'))\n",
        "\n",
        "model.compile(loss='binary_crossentropy', optimizer='adam', metrics=['accuracy'])\n",
        "model.summary()"
      ],
      "execution_count": null,
      "outputs": [
        {
          "output_type": "stream",
          "name": "stdout",
          "text": [
            "Model: \"sequential_4\"\n",
            "_________________________________________________________________\n",
            " Layer (type)                Output Shape              Param #   \n",
            "=================================================================\n",
            " keras_layer_1 (KerasLayer)  (None, 128)               124642688 \n",
            "                                                                 \n",
            " dense_12 (Dense)            (None, 128)               16512     \n",
            "                                                                 \n",
            " dropout_8 (Dropout)         (None, 128)               0         \n",
            "                                                                 \n",
            " dense_13 (Dense)            (None, 128)               16512     \n",
            "                                                                 \n",
            " dropout_9 (Dropout)         (None, 128)               0         \n",
            "                                                                 \n",
            " dense_14 (Dense)            (None, 1)                 129       \n",
            "                                                                 \n",
            "=================================================================\n",
            "Total params: 124,675,841\n",
            "Trainable params: 124,675,841\n",
            "Non-trainable params: 0\n",
            "_________________________________________________________________\n"
          ]
        }
      ]
    },
    {
      "cell_type": "markdown",
      "metadata": {
        "id": "s5MprbzDajcH"
      },
      "source": [
        "### Train and Validate Model"
      ]
    },
    {
      "cell_type": "code",
      "metadata": {
        "id": "d9voQt12ajcH"
      },
      "source": [
        "EPOCHS=5\n",
        "BATCH_SIZE=128"
      ],
      "execution_count": null,
      "outputs": []
    },
    {
      "cell_type": "code",
      "metadata": {
        "colab": {
          "base_uri": "https://localhost:8080/"
        },
        "id": "6PnrvpPlajcJ",
        "outputId": "3d28fad7-53be-40e4-8ccf-eeb55661d371"
      },
      "source": [
        "# Fit the model\n",
        "# es = tf.keras.callbacks.EarlyStopping(monitor='val_loss',\n",
        "#                                       patience=2,\n",
        "#                                       restore_best_weights=True,\n",
        "#                                       verbose=1)\n",
        "\n",
        "model.fit(np.array(norm_train_texts), train_sentiments,\n",
        "          validation_data=(np.array(norm_val_texts), val_sentiments),\n",
        "          epochs=EPOCHS,\n",
        "          batch_size=BATCH_SIZE,\n",
        "          shuffle=True,\n",
        "          verbose=1)"
      ],
      "execution_count": null,
      "outputs": [
        {
          "output_type": "stream",
          "name": "stdout",
          "text": [
            "Epoch 1/5\n",
            "40/40 [==============================] - 8s 169ms/step - loss: 0.6012 - accuracy: 0.6838 - val_loss: 0.4296 - val_accuracy: 0.8188\n",
            "Epoch 2/5\n",
            "40/40 [==============================] - 6s 162ms/step - loss: 0.3140 - accuracy: 0.8756 - val_loss: 0.3095 - val_accuracy: 0.8710\n",
            "Epoch 3/5\n",
            "40/40 [==============================] - 6s 155ms/step - loss: 0.1299 - accuracy: 0.9594 - val_loss: 0.3148 - val_accuracy: 0.8806\n",
            "Epoch 4/5\n",
            "40/40 [==============================] - 6s 151ms/step - loss: 0.0402 - accuracy: 0.9900 - val_loss: 0.3699 - val_accuracy: 0.8776\n",
            "Epoch 5/5\n",
            "40/40 [==============================] - 7s 186ms/step - loss: 0.0121 - accuracy: 0.9984 - val_loss: 0.4331 - val_accuracy: 0.8804\n"
          ]
        },
        {
          "output_type": "execute_result",
          "data": {
            "text/plain": [
              "<keras.callbacks.History at 0x7f9c65919990>"
            ]
          },
          "metadata": {},
          "execution_count": 49
        }
      ]
    },
    {
      "cell_type": "markdown",
      "metadata": {
        "id": "N68uqUGGajcK"
      },
      "source": [
        "### Model Performance Evaluation on the Test Dataset"
      ]
    },
    {
      "cell_type": "code",
      "metadata": {
        "colab": {
          "base_uri": "https://localhost:8080/",
          "height": 286
        },
        "id": "x008skIhajcK",
        "outputId": "e63fdb5e-9cba-4356-94af-e00f9df5e0db"
      },
      "source": [
        "predictions = model.predict(np.array(norm_test_texts), batch_size=512, verbose=0).ravel()\n",
        "predictions = [1 if prob > 0.5 else 0 for prob in predictions]\n",
        "print(\"Accuracy: %.2f%%\" % (accuracy_score(test_sentiments, predictions)*100))\n",
        "print(classification_report(test_sentiments, predictions))\n",
        "pd.DataFrame(confusion_matrix(test_sentiments, predictions))"
      ],
      "execution_count": null,
      "outputs": [
        {
          "output_type": "stream",
          "name": "stdout",
          "text": [
            "Accuracy: 87.01%\n",
            "              precision    recall  f1-score   support\n",
            "\n",
            "           0       0.87      0.87      0.87     20028\n",
            "           1       0.87      0.87      0.87     19972\n",
            "\n",
            "    accuracy                           0.87     40000\n",
            "   macro avg       0.87      0.87      0.87     40000\n",
            "weighted avg       0.87      0.87      0.87     40000\n",
            "\n"
          ]
        },
        {
          "output_type": "execute_result",
          "data": {
            "text/plain": [
              "       0      1\n",
              "0  17483   2545\n",
              "1   2650  17322"
            ],
            "text/html": [
              "\n",
              "  <div id=\"df-4e74361a-2fab-409c-8ffb-8e416bf8ba85\">\n",
              "    <div class=\"colab-df-container\">\n",
              "      <div>\n",
              "<style scoped>\n",
              "    .dataframe tbody tr th:only-of-type {\n",
              "        vertical-align: middle;\n",
              "    }\n",
              "\n",
              "    .dataframe tbody tr th {\n",
              "        vertical-align: top;\n",
              "    }\n",
              "\n",
              "    .dataframe thead th {\n",
              "        text-align: right;\n",
              "    }\n",
              "</style>\n",
              "<table border=\"1\" class=\"dataframe\">\n",
              "  <thead>\n",
              "    <tr style=\"text-align: right;\">\n",
              "      <th></th>\n",
              "      <th>0</th>\n",
              "      <th>1</th>\n",
              "    </tr>\n",
              "  </thead>\n",
              "  <tbody>\n",
              "    <tr>\n",
              "      <th>0</th>\n",
              "      <td>17483</td>\n",
              "      <td>2545</td>\n",
              "    </tr>\n",
              "    <tr>\n",
              "      <th>1</th>\n",
              "      <td>2650</td>\n",
              "      <td>17322</td>\n",
              "    </tr>\n",
              "  </tbody>\n",
              "</table>\n",
              "</div>\n",
              "      <button class=\"colab-df-convert\" onclick=\"convertToInteractive('df-4e74361a-2fab-409c-8ffb-8e416bf8ba85')\"\n",
              "              title=\"Convert this dataframe to an interactive table.\"\n",
              "              style=\"display:none;\">\n",
              "        \n",
              "  <svg xmlns=\"http://www.w3.org/2000/svg\" height=\"24px\"viewBox=\"0 0 24 24\"\n",
              "       width=\"24px\">\n",
              "    <path d=\"M0 0h24v24H0V0z\" fill=\"none\"/>\n",
              "    <path d=\"M18.56 5.44l.94 2.06.94-2.06 2.06-.94-2.06-.94-.94-2.06-.94 2.06-2.06.94zm-11 1L8.5 8.5l.94-2.06 2.06-.94-2.06-.94L8.5 2.5l-.94 2.06-2.06.94zm10 10l.94 2.06.94-2.06 2.06-.94-2.06-.94-.94-2.06-.94 2.06-2.06.94z\"/><path d=\"M17.41 7.96l-1.37-1.37c-.4-.4-.92-.59-1.43-.59-.52 0-1.04.2-1.43.59L10.3 9.45l-7.72 7.72c-.78.78-.78 2.05 0 2.83L4 21.41c.39.39.9.59 1.41.59.51 0 1.02-.2 1.41-.59l7.78-7.78 2.81-2.81c.8-.78.8-2.07 0-2.86zM5.41 20L4 18.59l7.72-7.72 1.47 1.35L5.41 20z\"/>\n",
              "  </svg>\n",
              "      </button>\n",
              "      \n",
              "  <style>\n",
              "    .colab-df-container {\n",
              "      display:flex;\n",
              "      flex-wrap:wrap;\n",
              "      gap: 12px;\n",
              "    }\n",
              "\n",
              "    .colab-df-convert {\n",
              "      background-color: #E8F0FE;\n",
              "      border: none;\n",
              "      border-radius: 50%;\n",
              "      cursor: pointer;\n",
              "      display: none;\n",
              "      fill: #1967D2;\n",
              "      height: 32px;\n",
              "      padding: 0 0 0 0;\n",
              "      width: 32px;\n",
              "    }\n",
              "\n",
              "    .colab-df-convert:hover {\n",
              "      background-color: #E2EBFA;\n",
              "      box-shadow: 0px 1px 2px rgba(60, 64, 67, 0.3), 0px 1px 3px 1px rgba(60, 64, 67, 0.15);\n",
              "      fill: #174EA6;\n",
              "    }\n",
              "\n",
              "    [theme=dark] .colab-df-convert {\n",
              "      background-color: #3B4455;\n",
              "      fill: #D2E3FC;\n",
              "    }\n",
              "\n",
              "    [theme=dark] .colab-df-convert:hover {\n",
              "      background-color: #434B5C;\n",
              "      box-shadow: 0px 1px 3px 1px rgba(0, 0, 0, 0.15);\n",
              "      filter: drop-shadow(0px 1px 2px rgba(0, 0, 0, 0.3));\n",
              "      fill: #FFFFFF;\n",
              "    }\n",
              "  </style>\n",
              "\n",
              "      <script>\n",
              "        const buttonEl =\n",
              "          document.querySelector('#df-4e74361a-2fab-409c-8ffb-8e416bf8ba85 button.colab-df-convert');\n",
              "        buttonEl.style.display =\n",
              "          google.colab.kernel.accessAllowed ? 'block' : 'none';\n",
              "\n",
              "        async function convertToInteractive(key) {\n",
              "          const element = document.querySelector('#df-4e74361a-2fab-409c-8ffb-8e416bf8ba85');\n",
              "          const dataTable =\n",
              "            await google.colab.kernel.invokeFunction('convertToInteractive',\n",
              "                                                     [key], {});\n",
              "          if (!dataTable) return;\n",
              "\n",
              "          const docLinkHtml = 'Like what you see? Visit the ' +\n",
              "            '<a target=\"_blank\" href=https://colab.research.google.com/notebooks/data_table.ipynb>data table notebook</a>'\n",
              "            + ' to learn more about interactive tables.';\n",
              "          element.innerHTML = '';\n",
              "          dataTable['output_type'] = 'display_data';\n",
              "          await google.colab.output.renderOutput(dataTable, element);\n",
              "          const docLink = document.createElement('div');\n",
              "          docLink.innerHTML = docLinkHtml;\n",
              "          element.appendChild(docLink);\n",
              "        }\n",
              "      </script>\n",
              "    </div>\n",
              "  </div>\n",
              "  "
            ]
          },
          "metadata": {},
          "execution_count": 50
        }
      ]
    },
    {
      "cell_type": "code",
      "source": [
        "del hub_layer\n",
        "del model"
      ],
      "metadata": {
        "id": "EvBEtc-yZCvD"
      },
      "execution_count": null,
      "outputs": []
    },
    {
      "cell_type": "markdown",
      "metadata": {
        "id": "cBP41pQ2ajbo"
      },
      "source": [
        "## Model 3: Google's Universal Sentence Encoder\n",
        "\n",
        "These models take as input English strings and\n",
        "produce as output a fixed dimensional embedding\n",
        "representation of the string.\n",
        "\n",
        "It has two models for encoding\n",
        "sentences into embedding vectors.\n",
        "- One makes use\n",
        "of the transformer (Vaswani et al., 2017) architecture\n",
        "- The other is formulated as a deep averaging network (DAN) (Iyyer et al., 2015)\n",
        "\n",
        "__Methodology 1: Transformers__\n",
        "\n",
        "- The transformer based sentence encoding model\n",
        "constructs sentence embeddings using the encoding sub-graph of the transformer architecture\n",
        "(Vaswani et al., 2017).\n",
        "- This sub-graph uses attention to compute context aware representations\n",
        "of words in a sentence that take into account both\n",
        "the ordering and identity of all the other words.\n",
        "- The context aware word representations are converted to a fixed length sentence encoding vector\n",
        "by computing the element-wise sum of the representations at each word position\n",
        "- The encoder takes as input a lowercased (Penn TreeBank) PTB tokenized string\n",
        "and outputs a 512 dimensional vector as the sentence embedding\n",
        "\n",
        "\n",
        "__Methodology 2: Deep Averaging Network (DAN)__\n",
        "\n",
        "- In the deep averaging network (DAN) (Iyyer et al.,\n",
        "2015) the input embeddings for words and\n",
        "bi-grams are first averaged together and then\n",
        "passed through a feedforward deep neural network\n",
        "(DNN) to produce sentence embeddings.\n",
        "- Similar to the Transformer encoder, the DAN encoder takes as input a lowercased PTB tokenized string and outputs a 512 dimensional sentence embedding.\n",
        "\n",
        "__Training Methodology:__\n",
        "\n",
        "The encoding model is designed to be as general purpose as possible. This is accomplished by using multi-task learning whereby a single encoding model is used to feed multiple downstream tasks.\n",
        "\n",
        "Unsupervised training data for the sentence encoding models are drawn from a variety of web sources. The sources are Wikipedia, web news,\n",
        "web question-answer pages and discussion forums. We augment unsupervised learning with training on supervised data from the Stanford Natural Language Inference (SNLI) corpus.\n",
        "\n",
        "\n",
        "![](https://i.imgur.com/HIeb3tY.png)\n",
        "\n",
        "__Note:__ In the past Google hadn't updated the USE to be directly compatible with TensorFlow 2.0 hence we had to use some hacks to disable eager execution and leverage older TF 1.x for model building and training. But recently we were able to get our hands on a TF 2.x pre-trained model!"
      ]
    },
    {
      "cell_type": "markdown",
      "metadata": {
        "id": "wXm5JTkQajbo"
      },
      "source": [
        "### Sample training data"
      ]
    },
    {
      "cell_type": "code",
      "metadata": {
        "colab": {
          "base_uri": "https://localhost:8080/"
        },
        "id": "DJKQBegXajbo",
        "outputId": "d44eb40f-0c6f-4024-a9f5-553258726b33"
      },
      "source": [
        "norm_train_texts[:3]"
      ],
      "execution_count": null,
      "outputs": [
        {
          "output_type": "execute_result",
          "data": {
            "text/plain": [
              "['one of the other reviewers has mentioned that after watching just 1 oz episode you will be hooked they are right as this is exactly what happened with me the first thing that struck me about oz was its brutality and unflinching scenes of violence which set in right from the word go trust me this is not a show for the faint hearted or timid this show pulls no punches with regards to drugs sex or violence its is hardcore in the classic use of the word it is called oz as that is the nickname given to the oswald maximum security state penitentary it focuses mainly on emerald city an experimental section of the prison where all the cells have glass fronts and face inwards so privacy is not high on the agenda them city is home to many aryans muslims gangstas latinos christians italians irish and more so scuffles death stares dodgy dealings and shady agreements are never far away i would say the main appeal of the show is due to the fact that it goes where other shows would not dare forget pretty pictures painted for mainstream audiences forget charm forget romance oz does not mess around the first episode i ever saw struck me as so nasty it was surreal i could not say i was ready for it but as i watched more i developed a taste for oz and got accustomed to the high levels of graphic violence not just violence but injustice crooked guards who will be sold out for a nickel inmates who will kill on order and get away with it well mannered middle class inmates being turned into prison bitches due to their lack of street skills or prison experience watching oz you may become comfortable with what is uncomfortable viewing that is if you can get in touch with your darker side',\n",
              " 'a wonderful little production the filming technique is very unassuming very old time bbc fashion and gives a comforting and sometimes discomforting sense of realism to the entire piece the actors are extremely well chosen michael sheen not only has got all the polari but he has all the voices down pat too you can truly see the seamless editing guided by the references to williams diary entries not only is it well worth the watching but it is a terrificly written and performed piece a masterful production about one of the great master s of comedy and his life the realism really comes home with the little things the fantasy of the guard which rather than use the traditional dream techniques remains solid then disappears it plays on our knowledge and our senses particularly with the scenes concerning orton and halliwell and the sets particularly of their flat with halliwell s murals decorating every surface are terribly well done',\n",
              " 'i thought this was a wonderful way to spend time on a too hot summer weekend sitting in the air conditioned theater and watching a light hearted comedy the plot is simplistic but the dialogue is witty and the characters are likable even the well bread suspected serial killer while some may be disappointed when they realize this is not match point 2 risk addiction i thought it was proof that woody allen is still fully in control of the style many of us have grown to love this was the most i would laughed at one of woody s comedies in years dare i say a decade while i have never been impressed with scarlet johanson in this she managed to tone down her sexy image and jumped right into a average but spirited young woman this may not be the crown jewel of his career but it was wittier than devil wears prada and more interesting than superman a great comedy to go see with friends']"
            ]
          },
          "metadata": {},
          "execution_count": 53
        }
      ]
    },
    {
      "cell_type": "markdown",
      "metadata": {
        "id": "_Y6ItBtQajbs"
      },
      "source": [
        "### Load USE model from TF Hub"
      ]
    },
    {
      "cell_type": "code",
      "metadata": {
        "id": "AxXAmepYajbt"
      },
      "source": [
        "module_url = \"https://tfhub.dev/google/universal-sentence-encoder/4\"\n",
        "embed = hub.load(module_url)"
      ],
      "execution_count": null,
      "outputs": []
    },
    {
      "cell_type": "markdown",
      "metadata": {
        "id": "oHfdBVuKajbu"
      },
      "source": [
        "### Sample vectorization of training reviews"
      ]
    },
    {
      "cell_type": "code",
      "metadata": {
        "colab": {
          "base_uri": "https://localhost:8080/"
        },
        "id": "HgaJvpGkajbv",
        "outputId": "1c5ce170-5467-4430-a4ee-c9395307b8cf"
      },
      "source": [
        "message_embeddings = embed(norm_train_texts[:3])\n",
        "\n",
        "message_embeddings, message_embeddings.shape"
      ],
      "execution_count": null,
      "outputs": [
        {
          "output_type": "execute_result",
          "data": {
            "text/plain": [
              "(<tf.Tensor: shape=(3, 512), dtype=float32, numpy=\n",
              " array([[ 0.0131557 , -0.0130945 , -0.02174305, ...,  0.01976536,\n",
              "          0.07092962, -0.0416135 ],\n",
              "        [-0.04149332,  0.03517285,  0.04759933, ...,  0.02140323,\n",
              "          0.07851796,  0.04268899],\n",
              "        [ 0.02462643, -0.05018113,  0.05186938, ...,  0.00183725,\n",
              "          0.08200844,  0.05196754]], dtype=float32)>,\n",
              " TensorShape([3, 512]))"
            ]
          },
          "metadata": {},
          "execution_count": 55
        }
      ]
    },
    {
      "cell_type": "markdown",
      "metadata": {
        "id": "7D93uotFajbx"
      },
      "source": [
        "### Build a USE Embedding Layer"
      ]
    },
    {
      "cell_type": "code",
      "metadata": {
        "colab": {
          "base_uri": "https://localhost:8080/"
        },
        "id": "W1OT_A00jTHy",
        "outputId": "005bcf0d-a972-4149-8f39-04071191d8c6"
      },
      "source": [
        "model = \"https://tfhub.dev/google/universal-sentence-encoder/4\"\n",
        "hub_layer = hub.KerasLayer(model, output_shape=[512], input_shape=[],\n",
        "                           dtype=tf.string, trainable=True)\n",
        "print(hub_layer(np.array(norm_train_texts)[:3]))"
      ],
      "execution_count": null,
      "outputs": [
        {
          "output_type": "stream",
          "name": "stdout",
          "text": [
            "tf.Tensor(\n",
            "[[ 0.0131557  -0.0130945  -0.02174305 ...  0.01976536  0.07092962\n",
            "  -0.0416135 ]\n",
            " [-0.04149332  0.03517285  0.04759933 ...  0.02140323  0.07851796\n",
            "   0.04268899]\n",
            " [ 0.02462643 -0.05018113  0.05186938 ...  0.00183725  0.08200844\n",
            "   0.05196754]], shape=(3, 512), dtype=float32)\n"
          ]
        }
      ]
    },
    {
      "cell_type": "markdown",
      "metadata": {
        "id": "rYjvFE7dajb0"
      },
      "source": [
        "### Build Model Architecture"
      ]
    },
    {
      "cell_type": "code",
      "metadata": {
        "colab": {
          "base_uri": "https://localhost:8080/"
        },
        "id": "f3nWJfhdjp8w",
        "outputId": "343fedbe-20fc-400f-860f-8f2b47dcb8bb"
      },
      "source": [
        "model = tf.keras.models.Sequential()\n",
        "\n",
        "model.add(hub_layer)\n",
        "\n",
        "model.add(tf.keras.layers.Dense(256, activation='relu'))\n",
        "model.add(tf.keras.layers.Dropout(0.25))\n",
        "model.add(tf.keras.layers.Dense(256, activation='relu'))\n",
        "model.add(tf.keras.layers.Dropout(0.25))\n",
        "\n",
        "model.add(tf.keras.layers.Dense(1, activation='sigmoid'))\n",
        "\n",
        "model.compile(loss='binary_crossentropy', optimizer='adam', metrics=['accuracy'])\n",
        "model.summary()"
      ],
      "execution_count": null,
      "outputs": [
        {
          "output_type": "stream",
          "name": "stdout",
          "text": [
            "Model: \"sequential_5\"\n",
            "_________________________________________________________________\n",
            " Layer (type)                Output Shape              Param #   \n",
            "=================================================================\n",
            " keras_layer_2 (KerasLayer)  (None, 512)               256797824 \n",
            "                                                                 \n",
            " dense_15 (Dense)            (None, 256)               131328    \n",
            "                                                                 \n",
            " dropout_10 (Dropout)        (None, 256)               0         \n",
            "                                                                 \n",
            " dense_16 (Dense)            (None, 256)               65792     \n",
            "                                                                 \n",
            " dropout_11 (Dropout)        (None, 256)               0         \n",
            "                                                                 \n",
            " dense_17 (Dense)            (None, 1)                 257       \n",
            "                                                                 \n",
            "=================================================================\n",
            "Total params: 256,995,201\n",
            "Trainable params: 256,995,201\n",
            "Non-trainable params: 0\n",
            "_________________________________________________________________\n"
          ]
        }
      ]
    },
    {
      "cell_type": "markdown",
      "metadata": {
        "id": "IjYqKLkMajb2"
      },
      "source": [
        "### Train and Validate Model\n",
        "\n",
        "#### Note: This is a really large model and might crash or take a long time to train on infrastructure which has low GPU memory"
      ]
    },
    {
      "cell_type": "code",
      "metadata": {
        "id": "PsJAPVHsajb3"
      },
      "source": [
        "EPOCHS=5\n",
        "BATCH_SIZE=128"
      ],
      "execution_count": null,
      "outputs": []
    },
    {
      "cell_type": "code",
      "metadata": {
        "colab": {
          "base_uri": "https://localhost:8080/"
        },
        "id": "DPGdUWzFj5al",
        "outputId": "24f541fd-395a-443a-fc74-ff2fbb64a121"
      },
      "source": [
        "# Fit the model\n",
        "# es = tf.keras.callbacks.EarlyStopping(monitor='val_loss',\n",
        "#                                       patience=2,\n",
        "#                                       restore_best_weights=True,\n",
        "#                                       verbose=1)\n",
        "\n",
        "model.fit(np.array(norm_train_texts), train_sentiments,\n",
        "          validation_data=(np.array(norm_val_texts), val_sentiments),\n",
        "          epochs=EPOCHS,\n",
        "          batch_size=BATCH_SIZE,\n",
        "          shuffle=True,\n",
        "          verbose=1)"
      ],
      "execution_count": null,
      "outputs": [
        {
          "output_type": "stream",
          "name": "stdout",
          "text": [
            "Epoch 1/5\n",
            "40/40 [==============================] - 227s 5s/step - loss: 0.4880 - accuracy: 0.7734 - val_loss: 0.3193 - val_accuracy: 0.8636\n",
            "Epoch 2/5\n",
            "40/40 [==============================] - 157s 4s/step - loss: 0.1575 - accuracy: 0.9424 - val_loss: 0.2971 - val_accuracy: 0.8816\n",
            "Epoch 3/5\n",
            "40/40 [==============================] - 128s 3s/step - loss: 0.0216 - accuracy: 0.9952 - val_loss: 0.3967 - val_accuracy: 0.8782\n",
            "Epoch 4/5\n",
            "40/40 [==============================] - 109s 3s/step - loss: 0.0011 - accuracy: 1.0000 - val_loss: 0.4104 - val_accuracy: 0.8852\n",
            "Epoch 5/5\n",
            "40/40 [==============================] - 100s 3s/step - loss: 3.5250e-04 - accuracy: 1.0000 - val_loss: 0.4347 - val_accuracy: 0.8858\n"
          ]
        },
        {
          "output_type": "execute_result",
          "data": {
            "text/plain": [
              "<keras.callbacks.History at 0x7f9c6debb400>"
            ]
          },
          "metadata": {},
          "execution_count": 59
        }
      ]
    },
    {
      "cell_type": "markdown",
      "metadata": {
        "id": "RmPBH7Tfajb8"
      },
      "source": [
        "### Model Performance Evaluation on the Test Dataset"
      ]
    },
    {
      "cell_type": "code",
      "metadata": {
        "colab": {
          "base_uri": "https://localhost:8080/",
          "height": 286
        },
        "id": "febzhocgknWs",
        "outputId": "c48314da-3e5e-4d2b-ea89-e1d8b0a14bd7"
      },
      "source": [
        "predictions = model.predict(np.array(norm_test_texts), batch_size=512, verbose=0).ravel()\n",
        "predictions = [1 if prob > 0.5 else 0 for prob in predictions]\n",
        "print(\"Accuracy: %.2f%%\" % (accuracy_score(test_sentiments, predictions)*100))\n",
        "print(classification_report(test_sentiments, predictions))\n",
        "pd.DataFrame(confusion_matrix(test_sentiments, predictions))"
      ],
      "execution_count": null,
      "outputs": [
        {
          "output_type": "stream",
          "name": "stdout",
          "text": [
            "Accuracy: 88.07%\n",
            "              precision    recall  f1-score   support\n",
            "\n",
            "           0       0.88      0.88      0.88     20028\n",
            "           1       0.88      0.88      0.88     19972\n",
            "\n",
            "    accuracy                           0.88     40000\n",
            "   macro avg       0.88      0.88      0.88     40000\n",
            "weighted avg       0.88      0.88      0.88     40000\n",
            "\n"
          ]
        },
        {
          "output_type": "execute_result",
          "data": {
            "text/plain": [
              "       0      1\n",
              "0  17666   2362\n",
              "1   2411  17561"
            ],
            "text/html": [
              "\n",
              "  <div id=\"df-21f54cea-8a36-4f0e-afe1-d204da1b999d\">\n",
              "    <div class=\"colab-df-container\">\n",
              "      <div>\n",
              "<style scoped>\n",
              "    .dataframe tbody tr th:only-of-type {\n",
              "        vertical-align: middle;\n",
              "    }\n",
              "\n",
              "    .dataframe tbody tr th {\n",
              "        vertical-align: top;\n",
              "    }\n",
              "\n",
              "    .dataframe thead th {\n",
              "        text-align: right;\n",
              "    }\n",
              "</style>\n",
              "<table border=\"1\" class=\"dataframe\">\n",
              "  <thead>\n",
              "    <tr style=\"text-align: right;\">\n",
              "      <th></th>\n",
              "      <th>0</th>\n",
              "      <th>1</th>\n",
              "    </tr>\n",
              "  </thead>\n",
              "  <tbody>\n",
              "    <tr>\n",
              "      <th>0</th>\n",
              "      <td>17666</td>\n",
              "      <td>2362</td>\n",
              "    </tr>\n",
              "    <tr>\n",
              "      <th>1</th>\n",
              "      <td>2411</td>\n",
              "      <td>17561</td>\n",
              "    </tr>\n",
              "  </tbody>\n",
              "</table>\n",
              "</div>\n",
              "      <button class=\"colab-df-convert\" onclick=\"convertToInteractive('df-21f54cea-8a36-4f0e-afe1-d204da1b999d')\"\n",
              "              title=\"Convert this dataframe to an interactive table.\"\n",
              "              style=\"display:none;\">\n",
              "        \n",
              "  <svg xmlns=\"http://www.w3.org/2000/svg\" height=\"24px\"viewBox=\"0 0 24 24\"\n",
              "       width=\"24px\">\n",
              "    <path d=\"M0 0h24v24H0V0z\" fill=\"none\"/>\n",
              "    <path d=\"M18.56 5.44l.94 2.06.94-2.06 2.06-.94-2.06-.94-.94-2.06-.94 2.06-2.06.94zm-11 1L8.5 8.5l.94-2.06 2.06-.94-2.06-.94L8.5 2.5l-.94 2.06-2.06.94zm10 10l.94 2.06.94-2.06 2.06-.94-2.06-.94-.94-2.06-.94 2.06-2.06.94z\"/><path d=\"M17.41 7.96l-1.37-1.37c-.4-.4-.92-.59-1.43-.59-.52 0-1.04.2-1.43.59L10.3 9.45l-7.72 7.72c-.78.78-.78 2.05 0 2.83L4 21.41c.39.39.9.59 1.41.59.51 0 1.02-.2 1.41-.59l7.78-7.78 2.81-2.81c.8-.78.8-2.07 0-2.86zM5.41 20L4 18.59l7.72-7.72 1.47 1.35L5.41 20z\"/>\n",
              "  </svg>\n",
              "      </button>\n",
              "      \n",
              "  <style>\n",
              "    .colab-df-container {\n",
              "      display:flex;\n",
              "      flex-wrap:wrap;\n",
              "      gap: 12px;\n",
              "    }\n",
              "\n",
              "    .colab-df-convert {\n",
              "      background-color: #E8F0FE;\n",
              "      border: none;\n",
              "      border-radius: 50%;\n",
              "      cursor: pointer;\n",
              "      display: none;\n",
              "      fill: #1967D2;\n",
              "      height: 32px;\n",
              "      padding: 0 0 0 0;\n",
              "      width: 32px;\n",
              "    }\n",
              "\n",
              "    .colab-df-convert:hover {\n",
              "      background-color: #E2EBFA;\n",
              "      box-shadow: 0px 1px 2px rgba(60, 64, 67, 0.3), 0px 1px 3px 1px rgba(60, 64, 67, 0.15);\n",
              "      fill: #174EA6;\n",
              "    }\n",
              "\n",
              "    [theme=dark] .colab-df-convert {\n",
              "      background-color: #3B4455;\n",
              "      fill: #D2E3FC;\n",
              "    }\n",
              "\n",
              "    [theme=dark] .colab-df-convert:hover {\n",
              "      background-color: #434B5C;\n",
              "      box-shadow: 0px 1px 3px 1px rgba(0, 0, 0, 0.15);\n",
              "      filter: drop-shadow(0px 1px 2px rgba(0, 0, 0, 0.3));\n",
              "      fill: #FFFFFF;\n",
              "    }\n",
              "  </style>\n",
              "\n",
              "      <script>\n",
              "        const buttonEl =\n",
              "          document.querySelector('#df-21f54cea-8a36-4f0e-afe1-d204da1b999d button.colab-df-convert');\n",
              "        buttonEl.style.display =\n",
              "          google.colab.kernel.accessAllowed ? 'block' : 'none';\n",
              "\n",
              "        async function convertToInteractive(key) {\n",
              "          const element = document.querySelector('#df-21f54cea-8a36-4f0e-afe1-d204da1b999d');\n",
              "          const dataTable =\n",
              "            await google.colab.kernel.invokeFunction('convertToInteractive',\n",
              "                                                     [key], {});\n",
              "          if (!dataTable) return;\n",
              "\n",
              "          const docLinkHtml = 'Like what you see? Visit the ' +\n",
              "            '<a target=\"_blank\" href=https://colab.research.google.com/notebooks/data_table.ipynb>data table notebook</a>'\n",
              "            + ' to learn more about interactive tables.';\n",
              "          element.innerHTML = '';\n",
              "          dataTable['output_type'] = 'display_data';\n",
              "          await google.colab.output.renderOutput(dataTable, element);\n",
              "          const docLink = document.createElement('div');\n",
              "          docLink.innerHTML = docLinkHtml;\n",
              "          element.appendChild(docLink);\n",
              "        }\n",
              "      </script>\n",
              "    </div>\n",
              "  </div>\n",
              "  "
            ]
          },
          "metadata": {},
          "execution_count": 60
        }
      ]
    },
    {
      "cell_type": "markdown",
      "source": [
        "## Current infrastructure state"
      ],
      "metadata": {
        "id": "d1slaUHDyGQy"
      }
    },
    {
      "cell_type": "markdown",
      "source": [
        "![](https://i.imgur.com/9IvVVBt.png)"
      ],
      "metadata": {
        "id": "Mip41dYQyI4T"
      }
    },
    {
      "cell_type": "code",
      "source": [
        "!nvidia-smi"
      ],
      "metadata": {
        "colab": {
          "base_uri": "https://localhost:8080/"
        },
        "id": "RuSluiXBl_yv",
        "outputId": "7a89de27-b1ff-4640-dfdd-4fe526de882f"
      },
      "execution_count": null,
      "outputs": [
        {
          "output_type": "stream",
          "name": "stdout",
          "text": [
            "Tue Jun 20 16:16:44 2023       \n",
            "+-----------------------------------------------------------------------------+\n",
            "| NVIDIA-SMI 525.85.12    Driver Version: 525.85.12    CUDA Version: 12.0     |\n",
            "|-------------------------------+----------------------+----------------------+\n",
            "| GPU  Name        Persistence-M| Bus-Id        Disp.A | Volatile Uncorr. ECC |\n",
            "| Fan  Temp  Perf  Pwr:Usage/Cap|         Memory-Usage | GPU-Util  Compute M. |\n",
            "|                               |                      |               MIG M. |\n",
            "|===============================+======================+======================|\n",
            "|   0  NVIDIA A100-SXM...  Off  | 00000000:00:04.0 Off |                    0 |\n",
            "| N/A   32C    P0    52W / 400W |  18933MiB / 40960MiB |      0%      Default |\n",
            "|                               |                      |             Disabled |\n",
            "+-------------------------------+----------------------+----------------------+\n",
            "                                                                               \n",
            "+-----------------------------------------------------------------------------+\n",
            "| Processes:                                                                  |\n",
            "|  GPU   GI   CI        PID   Type   Process name                  GPU Memory |\n",
            "|        ID   ID                                                   Usage      |\n",
            "|=============================================================================|\n",
            "+-----------------------------------------------------------------------------+\n"
          ]
        }
      ]
    },
    {
      "cell_type": "markdown",
      "source": [
        "# Part 2 - Transformers\n",
        "\n",
        "\n",
        "Given these models take a LOT of GPU memory consumption, we __restart our google colab kernel here__ and __reload the data__ as follows:"
      ],
      "metadata": {
        "id": "7S1MmRFol8sF"
      }
    },
    {
      "cell_type": "markdown",
      "source": [
        "## Current infrastructure state"
      ],
      "metadata": {
        "id": "eBQDr7Pkyjld"
      }
    },
    {
      "cell_type": "markdown",
      "source": [
        "![](https://i.imgur.com/N9pLqeK.png)"
      ],
      "metadata": {
        "id": "jEvZJ4dfyfNQ"
      }
    },
    {
      "cell_type": "code",
      "source": [
        "!nvidia-smi"
      ],
      "metadata": {
        "colab": {
          "base_uri": "https://localhost:8080/"
        },
        "id": "b0xU60w_mU-0",
        "outputId": "44f13347-446f-490e-ab34-8e3b9b889484"
      },
      "execution_count": null,
      "outputs": [
        {
          "output_type": "stream",
          "name": "stdout",
          "text": [
            "Tue Jun 20 16:40:38 2023       \n",
            "+-----------------------------------------------------------------------------+\n",
            "| NVIDIA-SMI 525.85.12    Driver Version: 525.85.12    CUDA Version: 12.0     |\n",
            "|-------------------------------+----------------------+----------------------+\n",
            "| GPU  Name        Persistence-M| Bus-Id        Disp.A | Volatile Uncorr. ECC |\n",
            "| Fan  Temp  Perf  Pwr:Usage/Cap|         Memory-Usage | GPU-Util  Compute M. |\n",
            "|                               |                      |               MIG M. |\n",
            "|===============================+======================+======================|\n",
            "|   0  NVIDIA A100-SXM...  Off  | 00000000:00:04.0 Off |                    0 |\n",
            "| N/A   34C    P0    47W / 400W |      0MiB / 40960MiB |      0%      Default |\n",
            "|                               |                      |             Disabled |\n",
            "+-------------------------------+----------------------+----------------------+\n",
            "                                                                               \n",
            "+-----------------------------------------------------------------------------+\n",
            "| Processes:                                                                  |\n",
            "|  GPU   GI   CI        PID   Type   Process name                  GPU Memory |\n",
            "|        ID   ID                                                   Usage      |\n",
            "|=============================================================================|\n",
            "|  No running processes found                                                 |\n",
            "+-----------------------------------------------------------------------------+\n"
          ]
        }
      ]
    },
    {
      "cell_type": "code",
      "source": [
        "import pandas as pd\n",
        "import numpy as np\n",
        "import matplotlib.pyplot as plt\n",
        "import tensorflow as tf\n",
        "import tensorflow_hub as hub\n",
        "import transformers\n",
        "import tqdm\n",
        "from sklearn.metrics import confusion_matrix, classification_report, accuracy_score\n",
        "\n",
        "%matplotlib inline\n",
        "\n",
        "# fix random seed for reproducibility\n",
        "seed = 42\n",
        "np.random.seed(seed)\n",
        "tf.random.set_seed(seed)"
      ],
      "metadata": {
        "id": "2-z-uvPLmjgc"
      },
      "execution_count": null,
      "outputs": []
    },
    {
      "cell_type": "code",
      "source": [
        "print(\"TF Version: \", tf.__version__)\n",
        "print(\"Eager mode: \", tf.executing_eagerly())\n",
        "print(\"TF Hub version: \", hub.__version__)\n",
        "print(\"GPU is\", \"available\" if tf.config.list_physical_devices('GPU') else \"NOT AVAILABLE\")"
      ],
      "metadata": {
        "colab": {
          "base_uri": "https://localhost:8080/"
        },
        "id": "F0eIc1cqmorQ",
        "outputId": "30fe8134-4914-4005-b2d2-9e17d5fdf840"
      },
      "execution_count": null,
      "outputs": [
        {
          "output_type": "stream",
          "name": "stdout",
          "text": [
            "TF Version:  2.12.0\n",
            "Eager mode:  True\n",
            "TF Hub version:  0.13.0\n",
            "GPU is available\n"
          ]
        }
      ]
    },
    {
      "cell_type": "markdown",
      "source": [
        "## Load the dataset\n",
        "\n",
        "While you can pre-process the data to remove any noisy tokens, we don't do that here as for these models usually you don't need any excess pre-processing just like most deep learning models for NLP"
      ],
      "metadata": {
        "id": "-y3H69aCmz5L"
      }
    },
    {
      "cell_type": "code",
      "source": [
        "dataset = pd.read_csv(r'https://github.com/dipanjanS/nlp_workshop_dhs18/raw/master/Unit%2011%20-%20Sentiment%20Analysis%20-%20Unsupervised%20Learning/movie_reviews.csv.bz2', compression='bz2')\n",
        "dataset['sentiment'] = [1 if record == 'positive' else 0 for record in dataset['sentiment']]\n",
        "dataset.info()"
      ],
      "metadata": {
        "colab": {
          "base_uri": "https://localhost:8080/"
        },
        "id": "2vdP6of2m989",
        "outputId": "37aeef75-5433-4b7b-e7e4-fda6c8894acd"
      },
      "execution_count": null,
      "outputs": [
        {
          "output_type": "stream",
          "name": "stdout",
          "text": [
            "<class 'pandas.core.frame.DataFrame'>\n",
            "RangeIndex: 50000 entries, 0 to 49999\n",
            "Data columns (total 2 columns):\n",
            " #   Column     Non-Null Count  Dtype \n",
            "---  ------     --------------  ----- \n",
            " 0   review     50000 non-null  object\n",
            " 1   sentiment  50000 non-null  int64 \n",
            "dtypes: int64(1), object(1)\n",
            "memory usage: 781.4+ KB\n"
          ]
        }
      ]
    },
    {
      "cell_type": "code",
      "source": [
        "dataset.head()"
      ],
      "metadata": {
        "colab": {
          "base_uri": "https://localhost:8080/",
          "height": 206
        },
        "id": "yYNQfc7jnF4j",
        "outputId": "daf0e5d5-c88a-4153-ea47-de076bc8c052"
      },
      "execution_count": null,
      "outputs": [
        {
          "output_type": "execute_result",
          "data": {
            "text/plain": [
              "                                              review  sentiment\n",
              "0  One of the other reviewers has mentioned that ...          1\n",
              "1  A wonderful little production. <br /><br />The...          1\n",
              "2  I thought this was a wonderful way to spend ti...          1\n",
              "3  Basically there's a family where a little boy ...          0\n",
              "4  Petter Mattei's \"Love in the Time of Money\" is...          1"
            ],
            "text/html": [
              "\n",
              "  <div id=\"df-17490107-20a8-4e28-8d9d-c29ba30e5135\">\n",
              "    <div class=\"colab-df-container\">\n",
              "      <div>\n",
              "<style scoped>\n",
              "    .dataframe tbody tr th:only-of-type {\n",
              "        vertical-align: middle;\n",
              "    }\n",
              "\n",
              "    .dataframe tbody tr th {\n",
              "        vertical-align: top;\n",
              "    }\n",
              "\n",
              "    .dataframe thead th {\n",
              "        text-align: right;\n",
              "    }\n",
              "</style>\n",
              "<table border=\"1\" class=\"dataframe\">\n",
              "  <thead>\n",
              "    <tr style=\"text-align: right;\">\n",
              "      <th></th>\n",
              "      <th>review</th>\n",
              "      <th>sentiment</th>\n",
              "    </tr>\n",
              "  </thead>\n",
              "  <tbody>\n",
              "    <tr>\n",
              "      <th>0</th>\n",
              "      <td>One of the other reviewers has mentioned that ...</td>\n",
              "      <td>1</td>\n",
              "    </tr>\n",
              "    <tr>\n",
              "      <th>1</th>\n",
              "      <td>A wonderful little production. &lt;br /&gt;&lt;br /&gt;The...</td>\n",
              "      <td>1</td>\n",
              "    </tr>\n",
              "    <tr>\n",
              "      <th>2</th>\n",
              "      <td>I thought this was a wonderful way to spend ti...</td>\n",
              "      <td>1</td>\n",
              "    </tr>\n",
              "    <tr>\n",
              "      <th>3</th>\n",
              "      <td>Basically there's a family where a little boy ...</td>\n",
              "      <td>0</td>\n",
              "    </tr>\n",
              "    <tr>\n",
              "      <th>4</th>\n",
              "      <td>Petter Mattei's \"Love in the Time of Money\" is...</td>\n",
              "      <td>1</td>\n",
              "    </tr>\n",
              "  </tbody>\n",
              "</table>\n",
              "</div>\n",
              "      <button class=\"colab-df-convert\" onclick=\"convertToInteractive('df-17490107-20a8-4e28-8d9d-c29ba30e5135')\"\n",
              "              title=\"Convert this dataframe to an interactive table.\"\n",
              "              style=\"display:none;\">\n",
              "        \n",
              "  <svg xmlns=\"http://www.w3.org/2000/svg\" height=\"24px\"viewBox=\"0 0 24 24\"\n",
              "       width=\"24px\">\n",
              "    <path d=\"M0 0h24v24H0V0z\" fill=\"none\"/>\n",
              "    <path d=\"M18.56 5.44l.94 2.06.94-2.06 2.06-.94-2.06-.94-.94-2.06-.94 2.06-2.06.94zm-11 1L8.5 8.5l.94-2.06 2.06-.94-2.06-.94L8.5 2.5l-.94 2.06-2.06.94zm10 10l.94 2.06.94-2.06 2.06-.94-2.06-.94-.94-2.06-.94 2.06-2.06.94z\"/><path d=\"M17.41 7.96l-1.37-1.37c-.4-.4-.92-.59-1.43-.59-.52 0-1.04.2-1.43.59L10.3 9.45l-7.72 7.72c-.78.78-.78 2.05 0 2.83L4 21.41c.39.39.9.59 1.41.59.51 0 1.02-.2 1.41-.59l7.78-7.78 2.81-2.81c.8-.78.8-2.07 0-2.86zM5.41 20L4 18.59l7.72-7.72 1.47 1.35L5.41 20z\"/>\n",
              "  </svg>\n",
              "      </button>\n",
              "      \n",
              "  <style>\n",
              "    .colab-df-container {\n",
              "      display:flex;\n",
              "      flex-wrap:wrap;\n",
              "      gap: 12px;\n",
              "    }\n",
              "\n",
              "    .colab-df-convert {\n",
              "      background-color: #E8F0FE;\n",
              "      border: none;\n",
              "      border-radius: 50%;\n",
              "      cursor: pointer;\n",
              "      display: none;\n",
              "      fill: #1967D2;\n",
              "      height: 32px;\n",
              "      padding: 0 0 0 0;\n",
              "      width: 32px;\n",
              "    }\n",
              "\n",
              "    .colab-df-convert:hover {\n",
              "      background-color: #E2EBFA;\n",
              "      box-shadow: 0px 1px 2px rgba(60, 64, 67, 0.3), 0px 1px 3px 1px rgba(60, 64, 67, 0.15);\n",
              "      fill: #174EA6;\n",
              "    }\n",
              "\n",
              "    [theme=dark] .colab-df-convert {\n",
              "      background-color: #3B4455;\n",
              "      fill: #D2E3FC;\n",
              "    }\n",
              "\n",
              "    [theme=dark] .colab-df-convert:hover {\n",
              "      background-color: #434B5C;\n",
              "      box-shadow: 0px 1px 3px 1px rgba(0, 0, 0, 0.15);\n",
              "      filter: drop-shadow(0px 1px 2px rgba(0, 0, 0, 0.3));\n",
              "      fill: #FFFFFF;\n",
              "    }\n",
              "  </style>\n",
              "\n",
              "      <script>\n",
              "        const buttonEl =\n",
              "          document.querySelector('#df-17490107-20a8-4e28-8d9d-c29ba30e5135 button.colab-df-convert');\n",
              "        buttonEl.style.display =\n",
              "          google.colab.kernel.accessAllowed ? 'block' : 'none';\n",
              "\n",
              "        async function convertToInteractive(key) {\n",
              "          const element = document.querySelector('#df-17490107-20a8-4e28-8d9d-c29ba30e5135');\n",
              "          const dataTable =\n",
              "            await google.colab.kernel.invokeFunction('convertToInteractive',\n",
              "                                                     [key], {});\n",
              "          if (!dataTable) return;\n",
              "\n",
              "          const docLinkHtml = 'Like what you see? Visit the ' +\n",
              "            '<a target=\"_blank\" href=https://colab.research.google.com/notebooks/data_table.ipynb>data table notebook</a>'\n",
              "            + ' to learn more about interactive tables.';\n",
              "          element.innerHTML = '';\n",
              "          dataTable['output_type'] = 'display_data';\n",
              "          await google.colab.output.renderOutput(dataTable, element);\n",
              "          const docLink = document.createElement('div');\n",
              "          docLink.innerHTML = docLinkHtml;\n",
              "          element.appendChild(docLink);\n",
              "        }\n",
              "      </script>\n",
              "    </div>\n",
              "  </div>\n",
              "  "
            ]
          },
          "metadata": {},
          "execution_count": 5
        }
      ]
    },
    {
      "cell_type": "markdown",
      "metadata": {
        "id": "7sPa9SMDnIh6"
      },
      "source": [
        "## Preparing Train, Validation and Test Datasets\n",
        "\n",
        "Following is the dataset scheme we will use for modeling to simulate a small labeled dataset problem\n",
        "\n",
        "- __Train Dataset:__ 5000 Reviews\n",
        "- __Validation Dataset:__ 5000 Reviews\n",
        "- __Test Dataset:__ 40000 Reviews\n",
        "\n",
        "Thus we will be training all our models on only 5000 reviews and testing model performance on 40000 reviews!"
      ]
    },
    {
      "cell_type": "code",
      "metadata": {
        "colab": {
          "base_uri": "https://localhost:8080/"
        },
        "outputId": "582802ad-81b9-4707-ba91-c36d8a21ce94",
        "id": "UoQ3qwI8nIh7"
      },
      "source": [
        "reviews = dataset['review'].values\n",
        "sentiments = dataset['sentiment'].values\n",
        "\n",
        "train_reviews = reviews[:5000]\n",
        "val_reviews = reviews [5000:10000]\n",
        "test_reviews = reviews[10000:]\n",
        "\n",
        "\n",
        "train_sentiments = sentiments[:5000]\n",
        "val_sentiments = sentiments [5000:10000]\n",
        "test_sentiments = sentiments[10000:]\n",
        "\n",
        "train_reviews.shape, val_reviews.shape, test_reviews.shape"
      ],
      "execution_count": null,
      "outputs": [
        {
          "output_type": "execute_result",
          "data": {
            "text/plain": [
              "((5000,), (5000,), (40000,))"
            ]
          },
          "metadata": {},
          "execution_count": 6
        }
      ]
    },
    {
      "cell_type": "markdown",
      "metadata": {
        "id": "O-YydwrQajcM"
      },
      "source": [
        "## Model 4: BERT (Bi-directional Encoder Representations from Transformers)\n",
        "\n",
        "![](https://i.imgur.com/RMuSvTL.png)\n",
        "\n",
        "We will be using the BERT base model which has already been pre-trained by Google on MLM + Next Sentence Prediction Tasks"
      ]
    },
    {
      "cell_type": "markdown",
      "metadata": {
        "id": "0OIAAHBPajcM"
      },
      "source": [
        "### BERT Tokenization\n",
        "\n",
        "The BERT model we're using expects lowercase data. Here we leverage Huggingface `transformers`' `BertTokenizer`, which breaks words into word pieces.\n",
        "\n",
        "Word Piece Tokenizer is based on [Byte Pair Encodings (BPE)](https://www.aclweb.org/anthology/P16-1162).\n",
        "\n",
        "WordPiece and BPE are two similar and commonly used techniques to segment words into subword-level in NLP tasks. In both cases, the vocabulary is initialized with all the individual characters in the language, and then the most frequent/likely combinations of the symbols in the vocabulary are iteratively added to the vocabulary.\n",
        "\n",
        "magine that the model sees the word walking. Unless this word occurs at least a few times in the training corpus, the model can't learn to deal with this word very well. However, it may have the words walked, walker, walks, each occurring only a few times. Without subword segmentation, all these words are treated as completely different words by the model.\n",
        "\n",
        "However, if these get segmented as walk@@ ing, walk@@ ed, etc., notice that all of them will now have walk@@ in common, which will occur much frequently while training, and the model might be able to learn more about it.\n",
        "\n",
        "Huggingface's transformers library has easy to use utilities for each type of model"
      ]
    },
    {
      "cell_type": "code",
      "metadata": {
        "id": "E1BtlCzfajcM"
      },
      "source": [
        "tokenizer = transformers.BertTokenizer.from_pretrained('bert-base-uncased')"
      ],
      "execution_count": null,
      "outputs": []
    },
    {
      "cell_type": "markdown",
      "metadata": {
        "id": "0EKS_rEpajcN"
      },
      "source": [
        "### BERT Data Preparation\n",
        "\n",
        "We need to preprocess our data so that it matches the data format BERT was trained on. For this, we'll need to do a couple of things.\n",
        "\n",
        "- Lowercase our text (if we're using a BERT lowercase model)\n",
        "- Tokenize it (i.e. \"sally says hi\" -> [\"sally\", \"says\", \"hi\"])\n",
        "- Break words into WordPieces (i.e. \"calling\" -> [\"call\", \"##ing\"])\n",
        "- Map our words to indexes using a vocab file that BERT provides\n",
        "- Add special \"CLS\" and \"SEP\" tokens (see the readme)\n",
        "- Append \"mask\" and \"segment\" tokens to each input (see the BERT paper)"
      ]
    },
    {
      "cell_type": "code",
      "metadata": {
        "id": "MAEd7xjIajcO"
      },
      "source": [
        "def create_bert_input_features(tokenizer, docs, max_seq_length):\n",
        "\n",
        "    all_ids, all_masks, all_segments= [], [], []\n",
        "    for doc in tqdm.tqdm(docs, desc=\"Converting docs to features\"):\n",
        "\n",
        "        tokens = tokenizer.tokenize(doc)\n",
        "\n",
        "        if len(tokens) > max_seq_length-2:\n",
        "            tokens = tokens[0 : (max_seq_length-2)]\n",
        "        # with newer versions of transformers you don't need to explicitely add CLS and SEP\n",
        "        # they are automatically added by the tokenizer\n",
        "        tokens = ['[CLS]'] + tokens + ['[SEP]']\n",
        "        ids = tokenizer.convert_tokens_to_ids(tokens)\n",
        "        masks = [1] * len(ids) # [1,1,1.....] # < 500 ones\n",
        "\n",
        "        # Zero-pad up to the sequence length.\n",
        "        while len(ids) < max_seq_length:\n",
        "            ids.append(0)\n",
        "            masks.append(0)\n",
        "\n",
        "        segments = [0] * max_seq_length # [0,0,0...] # 500 zeros\n",
        "        all_ids.append(ids)\n",
        "        all_masks.append(masks)\n",
        "        all_segments.append(segments)\n",
        "\n",
        "    encoded = np.array([all_ids, all_masks, all_segments])\n",
        "\n",
        "    return encoded"
      ],
      "execution_count": null,
      "outputs": []
    },
    {
      "cell_type": "markdown",
      "metadata": {
        "id": "Yu7rZzcD01G9"
      },
      "source": [
        "```\n",
        "'the movie was great'\n",
        "\n",
        "[CLS], the, movie, was, great, [SEP]\n",
        "\n",
        "\n",
        "\n",
        "len = 500\n",
        "token_ids = [101, 32, 111, 10, 21, 102, 0, 0, 0, ...., 0]\n",
        "mask_ids = [1, 1, 1, 1, 1, 1, 0, 0, 0, 0, 0,....,0]\n",
        "segment_ids = [0, 0, 0, ....., 0]\n",
        "```"
      ]
    },
    {
      "cell_type": "markdown",
      "metadata": {
        "id": "tkqG8EQLajcQ"
      },
      "source": [
        "### Build Model Architecture\n",
        "\n",
        "![](https://i.imgur.com/ZtxlKiQ.png)"
      ]
    },
    {
      "cell_type": "code",
      "metadata": {
        "colab": {
          "base_uri": "https://localhost:8080/"
        },
        "id": "WTEpLgzjajcQ",
        "outputId": "827f9ad8-8853-473b-c3a8-c4050d16136a"
      },
      "source": [
        "MAX_SEQ_LENGTH = 500\n",
        "\n",
        "inp_id = tf.keras.layers.Input(shape=(MAX_SEQ_LENGTH,), dtype='int32', name=\"bert_input_ids\")\n",
        "inp_mask = tf.keras.layers.Input(shape=(MAX_SEQ_LENGTH,), dtype='int32', name=\"bert_input_masks\")\n",
        "inp_segment = tf.keras.layers.Input(shape=(MAX_SEQ_LENGTH,), dtype='int32', name=\"bert_segment_ids\")\n",
        "inputs = [inp_id, inp_mask, inp_segment]\n",
        "\n",
        "hidden_state = transformers.TFBertModel.from_pretrained('bert-base-uncased')(inputs)\n",
        "pooled_output = hidden_state[1]\n",
        "\n",
        "dense1 = tf.keras.layers.Dense(256, activation='relu')(pooled_output)\n",
        "drop1 = tf.keras.layers.Dropout(0.25)(dense1)\n",
        "dense2 = tf.keras.layers.Dense(256, activation='relu')(drop1)\n",
        "drop2 = tf.keras.layers.Dropout(0.25)(dense2)\n",
        "\n",
        "output = tf.keras.layers.Dense(1, activation='sigmoid')(drop2)\n",
        "\n",
        "model = tf.keras.Model(inputs=inputs, outputs=output)\n",
        "\n",
        "model.compile(optimizer=tf.optimizers.Adam(learning_rate=2e-5,\n",
        "                                           epsilon=1e-08),\n",
        "              loss='binary_crossentropy', metrics=['accuracy'])\n",
        "\n",
        "model.summary()"
      ],
      "execution_count": null,
      "outputs": [
        {
          "output_type": "stream",
          "name": "stderr",
          "text": [
            "Some weights of the PyTorch model were not used when initializing the TF 2.0 model TFBertModel: ['cls.predictions.transform.LayerNorm.weight', 'cls.seq_relationship.weight', 'cls.predictions.bias', 'cls.predictions.transform.dense.weight', 'cls.predictions.transform.LayerNorm.bias', 'cls.predictions.transform.dense.bias', 'cls.seq_relationship.bias']\n",
            "- This IS expected if you are initializing TFBertModel from a PyTorch model trained on another task or with another architecture (e.g. initializing a TFBertForSequenceClassification model from a BertForPreTraining model).\n",
            "- This IS NOT expected if you are initializing TFBertModel from a PyTorch model that you expect to be exactly identical (e.g. initializing a TFBertForSequenceClassification model from a BertForSequenceClassification model).\n",
            "All the weights of TFBertModel were initialized from the PyTorch model.\n",
            "If your task is similar to the task the model of the checkpoint was trained on, you can already use TFBertModel for predictions without further training.\n"
          ]
        },
        {
          "output_type": "stream",
          "name": "stdout",
          "text": [
            "Model: \"model\"\n",
            "__________________________________________________________________________________________________\n",
            " Layer (type)                   Output Shape         Param #     Connected to                     \n",
            "==================================================================================================\n",
            " bert_input_ids (InputLayer)    [(None, 500)]        0           []                               \n",
            "                                                                                                  \n",
            " bert_input_masks (InputLayer)  [(None, 500)]        0           []                               \n",
            "                                                                                                  \n",
            " bert_segment_ids (InputLayer)  [(None, 500)]        0           []                               \n",
            "                                                                                                  \n",
            " tf_bert_model (TFBertModel)    TFBaseModelOutputWi  109482240   ['bert_input_ids[0][0]',         \n",
            "                                thPoolingAndCrossAt               'bert_input_masks[0][0]',       \n",
            "                                tentions(last_hidde               'bert_segment_ids[0][0]']       \n",
            "                                n_state=(None, 500,                                               \n",
            "                                 768),                                                            \n",
            "                                 pooler_output=(Non                                               \n",
            "                                e, 768),                                                          \n",
            "                                 past_key_values=No                                               \n",
            "                                ne, hidden_states=N                                               \n",
            "                                one, attentions=Non                                               \n",
            "                                e, cross_attentions                                               \n",
            "                                =None)                                                            \n",
            "                                                                                                  \n",
            " dense (Dense)                  (None, 256)          196864      ['tf_bert_model[0][1]']          \n",
            "                                                                                                  \n",
            " dropout_37 (Dropout)           (None, 256)          0           ['dense[0][0]']                  \n",
            "                                                                                                  \n",
            " dense_1 (Dense)                (None, 256)          65792       ['dropout_37[0][0]']             \n",
            "                                                                                                  \n",
            " dropout_38 (Dropout)           (None, 256)          0           ['dense_1[0][0]']                \n",
            "                                                                                                  \n",
            " dense_2 (Dense)                (None, 1)            257         ['dropout_38[0][0]']             \n",
            "                                                                                                  \n",
            "==================================================================================================\n",
            "Total params: 109,745,153\n",
            "Trainable params: 109,745,153\n",
            "Non-trainable params: 0\n",
            "__________________________________________________________________________________________________\n"
          ]
        }
      ]
    },
    {
      "cell_type": "markdown",
      "metadata": {
        "id": "zRTMV4jMajcR"
      },
      "source": [
        "### Convert text to BERT input features\n",
        "\n",
        "![](https://i.imgur.com/3Le7Kyk.png)\n",
        "\n",
        "We leverage our utility function we created earlier to convert our text reviews into BERT input features."
      ]
    },
    {
      "cell_type": "code",
      "metadata": {
        "colab": {
          "base_uri": "https://localhost:8080/"
        },
        "id": "NC_9wq2fajcS",
        "outputId": "7ed79dfb-0573-4740-f632-f318614164ae"
      },
      "source": [
        "train_features_ids, train_features_masks, train_features_segments = create_bert_input_features(tokenizer,\n",
        "                                                                                               train_reviews,\n",
        "                                                                                               max_seq_length=MAX_SEQ_LENGTH)\n",
        "\n",
        "val_features_ids, val_features_masks, val_features_segments = create_bert_input_features(tokenizer,\n",
        "                                                                                         val_reviews,\n",
        "                                                                                         max_seq_length=MAX_SEQ_LENGTH)\n",
        "#test_features = create_bert_input_features(tokenizer, test_reviews, max_seq_length=MAX_SEQ_LENGTH)\n",
        "print('Train Features:', train_features_ids.shape, train_features_masks.shape, train_features_segments.shape)\n",
        "print('Val Features:', val_features_ids.shape, val_features_masks.shape, val_features_segments.shape)"
      ],
      "execution_count": null,
      "outputs": [
        {
          "output_type": "stream",
          "name": "stderr",
          "text": [
            "Converting docs to features: 100%|██████████| 5000/5000 [00:21<00:00, 233.61it/s]\n",
            "Converting docs to features: 100%|██████████| 5000/5000 [00:21<00:00, 237.68it/s]\n"
          ]
        },
        {
          "output_type": "stream",
          "name": "stdout",
          "text": [
            "Train Features: (5000, 500) (5000, 500) (5000, 500)\n",
            "Val Features: (5000, 500) (5000, 500) (5000, 500)\n"
          ]
        }
      ]
    },
    {
      "cell_type": "markdown",
      "metadata": {
        "id": "_AxRNcQ5ajcT"
      },
      "source": [
        "### Train and Validate Model"
      ]
    },
    {
      "cell_type": "code",
      "metadata": {
        "colab": {
          "base_uri": "https://localhost:8080/"
        },
        "id": "Ys_e6K0-ajcU",
        "outputId": "5b1e0b42-f504-487f-d565-4fb6c9cc0d6a"
      },
      "source": [
        "# es = tf.keras.callbacks.EarlyStopping(monitor='val_loss',\n",
        "#                                       patience=1,\n",
        "#                                       restore_best_weights=True,\n",
        "#                                       verbose=1)\n",
        "model.fit([train_features_ids,\n",
        "           train_features_masks,\n",
        "           train_features_segments], train_sentiments,\n",
        "          validation_data=([val_features_ids,\n",
        "                            val_features_masks,\n",
        "                            val_features_segments], val_sentiments),\n",
        "          epochs=3, # run more only if needed as this takes a long time\n",
        "          batch_size=15, # reduce this in case you get GPU OOM error\n",
        "          shuffle=True,\n",
        "          verbose=1)"
      ],
      "execution_count": null,
      "outputs": [
        {
          "output_type": "stream",
          "name": "stdout",
          "text": [
            "Epoch 1/3\n",
            "334/334 [==============================] - 183s 403ms/step - loss: 0.3625 - accuracy: 0.8238 - val_loss: 0.2269 - val_accuracy: 0.9128\n",
            "Epoch 2/3\n",
            "334/334 [==============================] - 115s 346ms/step - loss: 0.1567 - accuracy: 0.9448 - val_loss: 0.2417 - val_accuracy: 0.9088\n",
            "Epoch 3/3\n",
            "334/334 [==============================] - 105s 315ms/step - loss: 0.0708 - accuracy: 0.9788 - val_loss: 0.2607 - val_accuracy: 0.9154\n"
          ]
        },
        {
          "output_type": "execute_result",
          "data": {
            "text/plain": [
              "<keras.callbacks.History at 0x7f211c28ac50>"
            ]
          },
          "metadata": {},
          "execution_count": 11
        }
      ]
    },
    {
      "cell_type": "code",
      "metadata": {
        "id": "cEGY4ZjLajcV"
      },
      "source": [
        "model.save_weights('bert_ft_wts.h5')"
      ],
      "execution_count": null,
      "outputs": []
    },
    {
      "cell_type": "markdown",
      "metadata": {
        "id": "vZ65kkWBajcW"
      },
      "source": [
        "### Convert Test reviews to BERT input features"
      ]
    },
    {
      "cell_type": "code",
      "metadata": {
        "colab": {
          "base_uri": "https://localhost:8080/"
        },
        "id": "Lc2NFuOkajcW",
        "outputId": "006335f2-d727-4d1d-cddf-6dcd5e7e1f09"
      },
      "source": [
        "test_features_ids, test_features_masks, test_features_segments = create_bert_input_features(tokenizer,\n",
        "                                                                                            test_reviews,\n",
        "                                                                                            max_seq_length=MAX_SEQ_LENGTH)\n",
        "print('Test Features:', test_features_ids.shape, test_features_masks.shape, test_features_segments.shape)"
      ],
      "execution_count": null,
      "outputs": [
        {
          "output_type": "stream",
          "name": "stderr",
          "text": [
            "Converting docs to features: 100%|██████████| 40000/40000 [02:46<00:00, 239.63it/s]\n"
          ]
        },
        {
          "output_type": "stream",
          "name": "stdout",
          "text": [
            "Test Features: (40000, 500) (40000, 500) (40000, 500)\n"
          ]
        }
      ]
    },
    {
      "cell_type": "markdown",
      "metadata": {
        "id": "Nb_lPfpSajcY"
      },
      "source": [
        "### Model Performance Evaluation on the Test Dataset"
      ]
    },
    {
      "cell_type": "code",
      "metadata": {
        "colab": {
          "base_uri": "https://localhost:8080/",
          "height": 286
        },
        "id": "uSuV86S0ajcY",
        "outputId": "91fdc5ec-ab01-48c8-c8db-246498651df1"
      },
      "source": [
        "predictions = [1 if pr > 0.5 else 0\n",
        "                   for pr in model.predict([test_features_ids,\n",
        "                                            test_features_masks,\n",
        "                                            test_features_segments], verbose=0).ravel()]\n",
        "\n",
        "print(\"Accuracy: %.2f%%\" % (accuracy_score(test_sentiments, predictions)*100))\n",
        "print(classification_report(test_sentiments, predictions))\n",
        "pd.DataFrame(confusion_matrix(test_sentiments, predictions))"
      ],
      "execution_count": null,
      "outputs": [
        {
          "output_type": "stream",
          "name": "stdout",
          "text": [
            "Accuracy: 91.34%\n",
            "              precision    recall  f1-score   support\n",
            "\n",
            "           0       0.91      0.92      0.91     20028\n",
            "           1       0.92      0.91      0.91     19972\n",
            "\n",
            "    accuracy                           0.91     40000\n",
            "   macro avg       0.91      0.91      0.91     40000\n",
            "weighted avg       0.91      0.91      0.91     40000\n",
            "\n"
          ]
        },
        {
          "output_type": "execute_result",
          "data": {
            "text/plain": [
              "       0      1\n",
              "0  18421   1607\n",
              "1   1856  18116"
            ],
            "text/html": [
              "\n",
              "  <div id=\"df-6214e37a-d8f0-45e0-8091-28d2c7b3e539\">\n",
              "    <div class=\"colab-df-container\">\n",
              "      <div>\n",
              "<style scoped>\n",
              "    .dataframe tbody tr th:only-of-type {\n",
              "        vertical-align: middle;\n",
              "    }\n",
              "\n",
              "    .dataframe tbody tr th {\n",
              "        vertical-align: top;\n",
              "    }\n",
              "\n",
              "    .dataframe thead th {\n",
              "        text-align: right;\n",
              "    }\n",
              "</style>\n",
              "<table border=\"1\" class=\"dataframe\">\n",
              "  <thead>\n",
              "    <tr style=\"text-align: right;\">\n",
              "      <th></th>\n",
              "      <th>0</th>\n",
              "      <th>1</th>\n",
              "    </tr>\n",
              "  </thead>\n",
              "  <tbody>\n",
              "    <tr>\n",
              "      <th>0</th>\n",
              "      <td>18421</td>\n",
              "      <td>1607</td>\n",
              "    </tr>\n",
              "    <tr>\n",
              "      <th>1</th>\n",
              "      <td>1856</td>\n",
              "      <td>18116</td>\n",
              "    </tr>\n",
              "  </tbody>\n",
              "</table>\n",
              "</div>\n",
              "      <button class=\"colab-df-convert\" onclick=\"convertToInteractive('df-6214e37a-d8f0-45e0-8091-28d2c7b3e539')\"\n",
              "              title=\"Convert this dataframe to an interactive table.\"\n",
              "              style=\"display:none;\">\n",
              "        \n",
              "  <svg xmlns=\"http://www.w3.org/2000/svg\" height=\"24px\"viewBox=\"0 0 24 24\"\n",
              "       width=\"24px\">\n",
              "    <path d=\"M0 0h24v24H0V0z\" fill=\"none\"/>\n",
              "    <path d=\"M18.56 5.44l.94 2.06.94-2.06 2.06-.94-2.06-.94-.94-2.06-.94 2.06-2.06.94zm-11 1L8.5 8.5l.94-2.06 2.06-.94-2.06-.94L8.5 2.5l-.94 2.06-2.06.94zm10 10l.94 2.06.94-2.06 2.06-.94-2.06-.94-.94-2.06-.94 2.06-2.06.94z\"/><path d=\"M17.41 7.96l-1.37-1.37c-.4-.4-.92-.59-1.43-.59-.52 0-1.04.2-1.43.59L10.3 9.45l-7.72 7.72c-.78.78-.78 2.05 0 2.83L4 21.41c.39.39.9.59 1.41.59.51 0 1.02-.2 1.41-.59l7.78-7.78 2.81-2.81c.8-.78.8-2.07 0-2.86zM5.41 20L4 18.59l7.72-7.72 1.47 1.35L5.41 20z\"/>\n",
              "  </svg>\n",
              "      </button>\n",
              "      \n",
              "  <style>\n",
              "    .colab-df-container {\n",
              "      display:flex;\n",
              "      flex-wrap:wrap;\n",
              "      gap: 12px;\n",
              "    }\n",
              "\n",
              "    .colab-df-convert {\n",
              "      background-color: #E8F0FE;\n",
              "      border: none;\n",
              "      border-radius: 50%;\n",
              "      cursor: pointer;\n",
              "      display: none;\n",
              "      fill: #1967D2;\n",
              "      height: 32px;\n",
              "      padding: 0 0 0 0;\n",
              "      width: 32px;\n",
              "    }\n",
              "\n",
              "    .colab-df-convert:hover {\n",
              "      background-color: #E2EBFA;\n",
              "      box-shadow: 0px 1px 2px rgba(60, 64, 67, 0.3), 0px 1px 3px 1px rgba(60, 64, 67, 0.15);\n",
              "      fill: #174EA6;\n",
              "    }\n",
              "\n",
              "    [theme=dark] .colab-df-convert {\n",
              "      background-color: #3B4455;\n",
              "      fill: #D2E3FC;\n",
              "    }\n",
              "\n",
              "    [theme=dark] .colab-df-convert:hover {\n",
              "      background-color: #434B5C;\n",
              "      box-shadow: 0px 1px 3px 1px rgba(0, 0, 0, 0.15);\n",
              "      filter: drop-shadow(0px 1px 2px rgba(0, 0, 0, 0.3));\n",
              "      fill: #FFFFFF;\n",
              "    }\n",
              "  </style>\n",
              "\n",
              "      <script>\n",
              "        const buttonEl =\n",
              "          document.querySelector('#df-6214e37a-d8f0-45e0-8091-28d2c7b3e539 button.colab-df-convert');\n",
              "        buttonEl.style.display =\n",
              "          google.colab.kernel.accessAllowed ? 'block' : 'none';\n",
              "\n",
              "        async function convertToInteractive(key) {\n",
              "          const element = document.querySelector('#df-6214e37a-d8f0-45e0-8091-28d2c7b3e539');\n",
              "          const dataTable =\n",
              "            await google.colab.kernel.invokeFunction('convertToInteractive',\n",
              "                                                     [key], {});\n",
              "          if (!dataTable) return;\n",
              "\n",
              "          const docLinkHtml = 'Like what you see? Visit the ' +\n",
              "            '<a target=\"_blank\" href=https://colab.research.google.com/notebooks/data_table.ipynb>data table notebook</a>'\n",
              "            + ' to learn more about interactive tables.';\n",
              "          element.innerHTML = '';\n",
              "          dataTable['output_type'] = 'display_data';\n",
              "          await google.colab.output.renderOutput(dataTable, element);\n",
              "          const docLink = document.createElement('div');\n",
              "          docLink.innerHTML = docLinkHtml;\n",
              "          element.appendChild(docLink);\n",
              "        }\n",
              "      </script>\n",
              "    </div>\n",
              "  </div>\n",
              "  "
            ]
          },
          "metadata": {},
          "execution_count": 14
        }
      ]
    },
    {
      "cell_type": "markdown",
      "metadata": {
        "id": "AD9ANmhoajcZ"
      },
      "source": [
        "## Model 5: DistilBERT (Distilled BERT)\n",
        "\n",
        "![](https://i.imgur.com/FzCb8yM.png)\n",
        "\n",
        "![](https://i.imgur.com/X9Rvjrn.png)"
      ]
    },
    {
      "cell_type": "markdown",
      "metadata": {
        "id": "CgsGB-UWajcZ"
      },
      "source": [
        "### BERT Tokenization\n",
        "\n",
        "The DistilBERT model we're using expects lowercase data. Here we leverage Huggingface `transformers`' `DistilBertTokenizer`, which breaks words into word pieces.\n",
        "\n",
        "Word Piece Tokenizer is based on [Byte Pair Encodings (BPE)](https://www.aclweb.org/anthology/P16-1162).\n",
        "\n",
        "WordPiece and BPE are two similar and commonly used techniques to segment words into subword-level in NLP tasks. In both cases, the vocabulary is initialized with all the individual characters in the language, and then the most frequent/likely combinations of the symbols in the vocabulary are iteratively added to the vocabulary.\n",
        "\n",
        "magine that the model sees the word walking. Unless this word occurs at least a few times in the training corpus, the model can't learn to deal with this word very well. However, it may have the words walked, walker, walks, each occurring only a few times. Without subword segmentation, all these words are treated as completely different words by the model.\n",
        "\n",
        "However, if these get segmented as walk@@ ing, walk@@ ed, etc., notice that all of them will now have walk@@ in common, which will occur much frequently while training, and the model might be able to learn more about it.\n",
        "\n",
        "Huggingface's transformers library has easy to use utilities for each type of model"
      ]
    },
    {
      "cell_type": "code",
      "metadata": {
        "id": "Q9H4AeL_ajcZ",
        "colab": {
          "base_uri": "https://localhost:8080/",
          "height": 113,
          "referenced_widgets": [
            "fedc013aa7fe4fc1a7bb0da222852ada",
            "5994a8a027da4d2c93a40e6c9deb6a48",
            "47c52f00ac664580bd35b1eadcec4126",
            "ffa77ad7fa5845aa82583176539a212a",
            "57367bf47174488fbc6e3b0244555920",
            "9ae77a0e332343b3964188f3b20c8ee7",
            "e638c200a6584e7bb2596f0f751e65c6",
            "23c2f216d2f04a6f8cf156cf4e1e9a11",
            "37ca652971f54583ae95f07a90e170f2",
            "0a8fe66c544948b5b10f81cefeec6712",
            "f6d001a786ad4d6e9896106d9694eb12",
            "26306745580d48a3a1ef356d55bca8e6",
            "8abd15bd2d15404f89ab77339340be32",
            "2285c6a0427c485da6171fde2364d4a0",
            "ff889a9e380c44e1a72fe65d9e5d5f68",
            "14989877fac24773b60d64d76459c3bb",
            "811b5a8224084ca78b67651f4107f550",
            "3e9759223305457e875cbe9055bb73c5",
            "51072107a3004a908007376fe4004115",
            "27357eca9fb1417b9dd782efe7b7476b",
            "513929f91279490184fe9d4a92f52fe7",
            "3e10a11073f34706928bea3d27121f5d",
            "9f0fc21f620b4d97a358c86099111d3d",
            "d9e19cb25fc54b499fc48f234497e325",
            "3a5d1e3de63945f09745abc0bf81c3f3",
            "17314b33604b4c26a68c3e21a4f8ffd6",
            "419740e755464d27bcb4f2549faf8358",
            "2e47e3fac25f4ae982fd0172be05cfd2",
            "919a2c433338446b8c526fff8c795035",
            "e69f4d60e35f4860b5fdd990729c234d",
            "f5acbfeb76334de0bf33088663bf2efc",
            "2535079a98724a99920bedbbf8a0504b",
            "86b34a6ca51d41528f8dac4b07c576e8"
          ]
        },
        "outputId": "369137f0-9dff-457d-a07f-83c11d86ea15"
      },
      "source": [
        "tokenizer = transformers.DistilBertTokenizer.from_pretrained('distilbert-base-uncased')\n",
        "\n"
      ],
      "execution_count": null,
      "outputs": [
        {
          "output_type": "display_data",
          "data": {
            "text/plain": [
              "Downloading (…)solve/main/vocab.txt:   0%|          | 0.00/232k [00:00<?, ?B/s]"
            ],
            "application/vnd.jupyter.widget-view+json": {
              "version_major": 2,
              "version_minor": 0,
              "model_id": "fedc013aa7fe4fc1a7bb0da222852ada"
            }
          },
          "metadata": {}
        },
        {
          "output_type": "display_data",
          "data": {
            "text/plain": [
              "Downloading (…)okenizer_config.json:   0%|          | 0.00/28.0 [00:00<?, ?B/s]"
            ],
            "application/vnd.jupyter.widget-view+json": {
              "version_major": 2,
              "version_minor": 0,
              "model_id": "26306745580d48a3a1ef356d55bca8e6"
            }
          },
          "metadata": {}
        },
        {
          "output_type": "display_data",
          "data": {
            "text/plain": [
              "Downloading (…)lve/main/config.json:   0%|          | 0.00/483 [00:00<?, ?B/s]"
            ],
            "application/vnd.jupyter.widget-view+json": {
              "version_major": 2,
              "version_minor": 0,
              "model_id": "9f0fc21f620b4d97a358c86099111d3d"
            }
          },
          "metadata": {}
        }
      ]
    },
    {
      "cell_type": "markdown",
      "metadata": {
        "id": "ETJDWVw0ajca"
      },
      "source": [
        "### DistilBERT Data Preparation\n",
        "\n",
        "We need to preprocess our data so that it matches the data format DistilBERT was trained on. For this, we'll need to do a couple of things.\n",
        "\n",
        "- Lowercase our text (if we're using a BERT lowercase model)\n",
        "- Tokenize it (i.e. \"sally says hi\" -> [\"sally\", \"says\", \"hi\"])\n",
        "- Break words into WordPieces (i.e. \"calling\" -> [\"call\", \"##ing\"])\n",
        "- Map our words to indexes using a vocab file that BERT provides\n",
        "- Add special \"CLS\" and \"SEP\" tokens (see the readme)\n",
        "- Append \"mask\" tokens to each input (see https://medium.com/huggingface/distilbert-8cf3380435b5)"
      ]
    },
    {
      "cell_type": "code",
      "metadata": {
        "id": "azjnxnFRajcb"
      },
      "source": [
        "def create_bert_input_features(tokenizer, docs, max_seq_length):\n",
        "\n",
        "    all_ids, all_masks = [], []\n",
        "    for doc in tqdm.tqdm(docs, desc=\"Converting docs to features\"):\n",
        "\n",
        "        tokens = tokenizer.tokenize(doc)\n",
        "\n",
        "        if len(tokens) > max_seq_length-2:\n",
        "            tokens = tokens[0 : (max_seq_length-2)]\n",
        "        tokens = ['[CLS]'] + tokens + ['[SEP]']\n",
        "        ids = tokenizer.convert_tokens_to_ids(tokens)\n",
        "        masks = [1] * len(ids)\n",
        "\n",
        "        # Zero-pad up to the sequence length.\n",
        "        while len(ids) < max_seq_length:\n",
        "            ids.append(0)\n",
        "            masks.append(0)\n",
        "\n",
        "        all_ids.append(ids)\n",
        "        all_masks.append(masks)\n",
        "\n",
        "    encoded = np.array([all_ids, all_masks])\n",
        "\n",
        "    return encoded"
      ],
      "execution_count": null,
      "outputs": []
    },
    {
      "cell_type": "markdown",
      "metadata": {
        "id": "8SoR1dwHajcc"
      },
      "source": [
        "### Build Model Architecture"
      ]
    },
    {
      "cell_type": "code",
      "metadata": {
        "colab": {
          "base_uri": "https://localhost:8080/",
          "height": 729,
          "referenced_widgets": [
            "9363f689682b412fa5e5e160c1573c28",
            "9ee3c60fc5cd463b9aae19f7114b3bf4",
            "835c8b00beb0443486e1bee0bcf052b5",
            "d4d4235142a54cb1b4ca1e4618d8a0ff",
            "c940193ffc5949b081fc7ffabfff510d",
            "7d99721a72fc4a40b73c9d6f1e343218",
            "e94a2620a23f4b30a2bd78c76e90e951",
            "8d433c16760942c19aa650df2f6309a4",
            "767158daa66b48939c89ce174a9606ac",
            "177ebaf69b564a0dad6f728606ccc09d",
            "7424f8553b0d495a8185a7737cee9ce5"
          ]
        },
        "id": "EvdzoH7vajcc",
        "outputId": "1c6ea744-0c83-43b1-e534-c1ac7bc016b9"
      },
      "source": [
        "MAX_SEQ_LENGTH = 500\n",
        "\n",
        "inp_id = tf.keras.layers.Input(shape=(MAX_SEQ_LENGTH,), dtype='int32', name=\"bert_input_ids\")\n",
        "inp_mask = tf.keras.layers.Input(shape=(MAX_SEQ_LENGTH,), dtype='int32', name=\"bert_input_masks\")\n",
        "inputs = [inp_id, inp_mask]\n",
        "\n",
        "hidden_state = transformers.TFDistilBertModel.from_pretrained('distilbert-base-uncased')(inputs)[0]\n",
        "pooled_output = hidden_state[:, 0]\n",
        "\n",
        "dense1 = tf.keras.layers.Dense(256, activation='relu')(pooled_output)\n",
        "drop1 = tf.keras.layers.Dropout(0.25)(dense1)\n",
        "dense2 = tf.keras.layers.Dense(256, activation='relu')(drop1)\n",
        "drop2 = tf.keras.layers.Dropout(0.25)(dense2)\n",
        "\n",
        "output = tf.keras.layers.Dense(1, activation='sigmoid')(drop2)\n",
        "\n",
        "\n",
        "model = tf.keras.Model(inputs=inputs, outputs=output)\n",
        "model.compile(optimizer=tf.optimizers.Adam(learning_rate=2e-5,\n",
        "                                           epsilon=1e-08),\n",
        "              loss='binary_crossentropy', metrics=['accuracy'])\n",
        "\n",
        "model.summary()"
      ],
      "execution_count": null,
      "outputs": [
        {
          "output_type": "display_data",
          "data": {
            "text/plain": [
              "Downloading model.safetensors:   0%|          | 0.00/268M [00:00<?, ?B/s]"
            ],
            "application/vnd.jupyter.widget-view+json": {
              "version_major": 2,
              "version_minor": 0,
              "model_id": "9363f689682b412fa5e5e160c1573c28"
            }
          },
          "metadata": {}
        },
        {
          "output_type": "stream",
          "name": "stderr",
          "text": [
            "Some weights of the PyTorch model were not used when initializing the TF 2.0 model TFDistilBertModel: ['vocab_layer_norm.weight', 'vocab_layer_norm.bias', 'vocab_projector.bias', 'vocab_transform.weight', 'vocab_transform.bias']\n",
            "- This IS expected if you are initializing TFDistilBertModel from a PyTorch model trained on another task or with another architecture (e.g. initializing a TFBertForSequenceClassification model from a BertForPreTraining model).\n",
            "- This IS NOT expected if you are initializing TFDistilBertModel from a PyTorch model that you expect to be exactly identical (e.g. initializing a TFBertForSequenceClassification model from a BertForSequenceClassification model).\n",
            "All the weights of TFDistilBertModel were initialized from the PyTorch model.\n",
            "If your task is similar to the task the model of the checkpoint was trained on, you can already use TFDistilBertModel for predictions without further training.\n"
          ]
        },
        {
          "output_type": "stream",
          "name": "stdout",
          "text": [
            "Model: \"model_1\"\n",
            "__________________________________________________________________________________________________\n",
            " Layer (type)                   Output Shape         Param #     Connected to                     \n",
            "==================================================================================================\n",
            " bert_input_ids (InputLayer)    [(None, 500)]        0           []                               \n",
            "                                                                                                  \n",
            " bert_input_masks (InputLayer)  [(None, 500)]        0           []                               \n",
            "                                                                                                  \n",
            " tf_distil_bert_model (TFDistil  TFBaseModelOutput(l  66362880   ['bert_input_ids[0][0]',         \n",
            " BertModel)                     ast_hidden_state=(N               'bert_input_masks[0][0]']       \n",
            "                                one, 500, 768),                                                   \n",
            "                                 hidden_states=None                                               \n",
            "                                , attentions=None)                                                \n",
            "                                                                                                  \n",
            " tf.__operators__.getitem (Slic  (None, 768)         0           ['tf_distil_bert_model[0][0]']   \n",
            " ingOpLambda)                                                                                     \n",
            "                                                                                                  \n",
            " dense_3 (Dense)                (None, 256)          196864      ['tf.__operators__.getitem[0][0]'\n",
            "                                                                 ]                                \n",
            "                                                                                                  \n",
            " dropout_58 (Dropout)           (None, 256)          0           ['dense_3[0][0]']                \n",
            "                                                                                                  \n",
            " dense_4 (Dense)                (None, 256)          65792       ['dropout_58[0][0]']             \n",
            "                                                                                                  \n",
            " dropout_59 (Dropout)           (None, 256)          0           ['dense_4[0][0]']                \n",
            "                                                                                                  \n",
            " dense_5 (Dense)                (None, 1)            257         ['dropout_59[0][0]']             \n",
            "                                                                                                  \n",
            "==================================================================================================\n",
            "Total params: 66,625,793\n",
            "Trainable params: 66,625,793\n",
            "Non-trainable params: 0\n",
            "__________________________________________________________________________________________________\n"
          ]
        }
      ]
    },
    {
      "cell_type": "markdown",
      "metadata": {
        "id": "j-0k79jRajce"
      },
      "source": [
        "### Convert text to DistilBERT input features"
      ]
    },
    {
      "cell_type": "code",
      "metadata": {
        "colab": {
          "base_uri": "https://localhost:8080/"
        },
        "id": "dEZtopKYajcf",
        "outputId": "9000c22e-5dc0-4731-9fa4-1416963b537a"
      },
      "source": [
        "train_features_ids, train_features_masks = create_bert_input_features(tokenizer, train_reviews,\n",
        "                                                                      max_seq_length=MAX_SEQ_LENGTH)\n",
        "val_features_ids, val_features_masks = create_bert_input_features(tokenizer, val_reviews,\n",
        "                                                                  max_seq_length=MAX_SEQ_LENGTH)\n",
        "#test_features = create_bert_input_features(tokenizer, test_reviews, max_seq_length=MAX_SEQ_LENGTH)\n",
        "print('Train Features:', train_features_ids.shape, train_features_masks.shape)\n",
        "print('Val Features:', val_features_ids.shape, val_features_masks.shape)"
      ],
      "execution_count": null,
      "outputs": [
        {
          "output_type": "stream",
          "name": "stderr",
          "text": [
            "Converting docs to features: 100%|██████████| 5000/5000 [00:21<00:00, 230.79it/s]\n",
            "Converting docs to features: 100%|██████████| 5000/5000 [00:21<00:00, 235.95it/s]\n"
          ]
        },
        {
          "output_type": "stream",
          "name": "stdout",
          "text": [
            "Train Features: (5000, 500) (5000, 500)\n",
            "Val Features: (5000, 500) (5000, 500)\n"
          ]
        }
      ]
    },
    {
      "cell_type": "markdown",
      "metadata": {
        "id": "Q316Jw8jajcg"
      },
      "source": [
        "### Train and Validate Model"
      ]
    },
    {
      "cell_type": "code",
      "metadata": {
        "colab": {
          "base_uri": "https://localhost:8080/"
        },
        "id": "k4UqJQTOajcg",
        "outputId": "237a3b38-0abf-4df5-d709-dde42098d24b"
      },
      "source": [
        "# es = tf.keras.callbacks.EarlyStopping(monitor='val_loss',\n",
        "#                                       patience=1,\n",
        "#                                       restore_best_weights=True,\n",
        "#                                       verbose=1)\n",
        "\n",
        "model.fit([train_features_ids,\n",
        "           train_features_masks], train_sentiments,\n",
        "          validation_data=([val_features_ids,\n",
        "                            val_features_masks], val_sentiments),\n",
        "          epochs=3,\n",
        "          batch_size=20,\n",
        "          shuffle=True,\n",
        "          verbose=1)"
      ],
      "execution_count": null,
      "outputs": [
        {
          "output_type": "stream",
          "name": "stdout",
          "text": [
            "Epoch 1/3\n",
            "250/250 [==============================] - 83s 251ms/step - loss: 0.3650 - accuracy: 0.8280 - val_loss: 0.2511 - val_accuracy: 0.8952\n",
            "Epoch 2/3\n",
            "250/250 [==============================] - 54s 214ms/step - loss: 0.1789 - accuracy: 0.9374 - val_loss: 0.2449 - val_accuracy: 0.9024\n",
            "Epoch 3/3\n",
            "250/250 [==============================] - 50s 199ms/step - loss: 0.0889 - accuracy: 0.9718 - val_loss: 0.2968 - val_accuracy: 0.9006\n"
          ]
        },
        {
          "output_type": "execute_result",
          "data": {
            "text/plain": [
              "<keras.callbacks.History at 0x7f219b911090>"
            ]
          },
          "metadata": {},
          "execution_count": 20
        }
      ]
    },
    {
      "cell_type": "code",
      "metadata": {
        "id": "qTE-1XkMajch"
      },
      "source": [
        "model.save_weights('distillbert_ft_wts.h5')"
      ],
      "execution_count": null,
      "outputs": []
    },
    {
      "cell_type": "markdown",
      "metadata": {
        "id": "4iVZsw0kajcj"
      },
      "source": [
        "### Convert Test reviews to BERT input features"
      ]
    },
    {
      "cell_type": "code",
      "metadata": {
        "colab": {
          "base_uri": "https://localhost:8080/"
        },
        "id": "i1G3Xribajcj",
        "outputId": "1ed38198-72df-47f6-dc8f-184739a486f5"
      },
      "source": [
        "test_features_ids, test_features_masks = create_bert_input_features(tokenizer, test_reviews,\n",
        "                                                                    max_seq_length=MAX_SEQ_LENGTH)\n",
        "print('Test Features:', test_features_ids.shape, test_features_masks.shape)"
      ],
      "execution_count": null,
      "outputs": [
        {
          "output_type": "stream",
          "name": "stderr",
          "text": [
            "Converting docs to features: 100%|██████████| 40000/40000 [02:50<00:00, 234.14it/s]\n"
          ]
        },
        {
          "output_type": "stream",
          "name": "stdout",
          "text": [
            "Test Features: (40000, 500) (40000, 500)\n"
          ]
        }
      ]
    },
    {
      "cell_type": "markdown",
      "metadata": {
        "id": "OcxGMWWcajcl"
      },
      "source": [
        "### Model Performance Evaluation on the Test Dataset"
      ]
    },
    {
      "cell_type": "code",
      "metadata": {
        "colab": {
          "base_uri": "https://localhost:8080/",
          "height": 286
        },
        "id": "xEVSsaBBajcl",
        "outputId": "2cdec003-b901-4d6b-a899-66c03cd5bd2a"
      },
      "source": [
        "predictions = [1 if pr > 0.5 else 0\n",
        "                   for pr in model.predict([test_features_ids,\n",
        "                                            test_features_masks], batch_size=200, verbose=0).ravel()]\n",
        "\n",
        "print(\"Accuracy: %.2f%%\" % (accuracy_score(test_sentiments, predictions)*100))\n",
        "print(classification_report(test_sentiments, predictions))\n",
        "pd.DataFrame(confusion_matrix(test_sentiments, predictions))"
      ],
      "execution_count": null,
      "outputs": [
        {
          "output_type": "stream",
          "name": "stdout",
          "text": [
            "Accuracy: 90.70%\n",
            "              precision    recall  f1-score   support\n",
            "\n",
            "           0       0.93      0.88      0.90     20028\n",
            "           1       0.89      0.93      0.91     19972\n",
            "\n",
            "    accuracy                           0.91     40000\n",
            "   macro avg       0.91      0.91      0.91     40000\n",
            "weighted avg       0.91      0.91      0.91     40000\n",
            "\n"
          ]
        },
        {
          "output_type": "execute_result",
          "data": {
            "text/plain": [
              "       0      1\n",
              "0  17613   2415\n",
              "1   1307  18665"
            ],
            "text/html": [
              "\n",
              "  <div id=\"df-927acdb7-cc60-4b8b-bd88-d78f354ded3d\">\n",
              "    <div class=\"colab-df-container\">\n",
              "      <div>\n",
              "<style scoped>\n",
              "    .dataframe tbody tr th:only-of-type {\n",
              "        vertical-align: middle;\n",
              "    }\n",
              "\n",
              "    .dataframe tbody tr th {\n",
              "        vertical-align: top;\n",
              "    }\n",
              "\n",
              "    .dataframe thead th {\n",
              "        text-align: right;\n",
              "    }\n",
              "</style>\n",
              "<table border=\"1\" class=\"dataframe\">\n",
              "  <thead>\n",
              "    <tr style=\"text-align: right;\">\n",
              "      <th></th>\n",
              "      <th>0</th>\n",
              "      <th>1</th>\n",
              "    </tr>\n",
              "  </thead>\n",
              "  <tbody>\n",
              "    <tr>\n",
              "      <th>0</th>\n",
              "      <td>17613</td>\n",
              "      <td>2415</td>\n",
              "    </tr>\n",
              "    <tr>\n",
              "      <th>1</th>\n",
              "      <td>1307</td>\n",
              "      <td>18665</td>\n",
              "    </tr>\n",
              "  </tbody>\n",
              "</table>\n",
              "</div>\n",
              "      <button class=\"colab-df-convert\" onclick=\"convertToInteractive('df-927acdb7-cc60-4b8b-bd88-d78f354ded3d')\"\n",
              "              title=\"Convert this dataframe to an interactive table.\"\n",
              "              style=\"display:none;\">\n",
              "        \n",
              "  <svg xmlns=\"http://www.w3.org/2000/svg\" height=\"24px\"viewBox=\"0 0 24 24\"\n",
              "       width=\"24px\">\n",
              "    <path d=\"M0 0h24v24H0V0z\" fill=\"none\"/>\n",
              "    <path d=\"M18.56 5.44l.94 2.06.94-2.06 2.06-.94-2.06-.94-.94-2.06-.94 2.06-2.06.94zm-11 1L8.5 8.5l.94-2.06 2.06-.94-2.06-.94L8.5 2.5l-.94 2.06-2.06.94zm10 10l.94 2.06.94-2.06 2.06-.94-2.06-.94-.94-2.06-.94 2.06-2.06.94z\"/><path d=\"M17.41 7.96l-1.37-1.37c-.4-.4-.92-.59-1.43-.59-.52 0-1.04.2-1.43.59L10.3 9.45l-7.72 7.72c-.78.78-.78 2.05 0 2.83L4 21.41c.39.39.9.59 1.41.59.51 0 1.02-.2 1.41-.59l7.78-7.78 2.81-2.81c.8-.78.8-2.07 0-2.86zM5.41 20L4 18.59l7.72-7.72 1.47 1.35L5.41 20z\"/>\n",
              "  </svg>\n",
              "      </button>\n",
              "      \n",
              "  <style>\n",
              "    .colab-df-container {\n",
              "      display:flex;\n",
              "      flex-wrap:wrap;\n",
              "      gap: 12px;\n",
              "    }\n",
              "\n",
              "    .colab-df-convert {\n",
              "      background-color: #E8F0FE;\n",
              "      border: none;\n",
              "      border-radius: 50%;\n",
              "      cursor: pointer;\n",
              "      display: none;\n",
              "      fill: #1967D2;\n",
              "      height: 32px;\n",
              "      padding: 0 0 0 0;\n",
              "      width: 32px;\n",
              "    }\n",
              "\n",
              "    .colab-df-convert:hover {\n",
              "      background-color: #E2EBFA;\n",
              "      box-shadow: 0px 1px 2px rgba(60, 64, 67, 0.3), 0px 1px 3px 1px rgba(60, 64, 67, 0.15);\n",
              "      fill: #174EA6;\n",
              "    }\n",
              "\n",
              "    [theme=dark] .colab-df-convert {\n",
              "      background-color: #3B4455;\n",
              "      fill: #D2E3FC;\n",
              "    }\n",
              "\n",
              "    [theme=dark] .colab-df-convert:hover {\n",
              "      background-color: #434B5C;\n",
              "      box-shadow: 0px 1px 3px 1px rgba(0, 0, 0, 0.15);\n",
              "      filter: drop-shadow(0px 1px 2px rgba(0, 0, 0, 0.3));\n",
              "      fill: #FFFFFF;\n",
              "    }\n",
              "  </style>\n",
              "\n",
              "      <script>\n",
              "        const buttonEl =\n",
              "          document.querySelector('#df-927acdb7-cc60-4b8b-bd88-d78f354ded3d button.colab-df-convert');\n",
              "        buttonEl.style.display =\n",
              "          google.colab.kernel.accessAllowed ? 'block' : 'none';\n",
              "\n",
              "        async function convertToInteractive(key) {\n",
              "          const element = document.querySelector('#df-927acdb7-cc60-4b8b-bd88-d78f354ded3d');\n",
              "          const dataTable =\n",
              "            await google.colab.kernel.invokeFunction('convertToInteractive',\n",
              "                                                     [key], {});\n",
              "          if (!dataTable) return;\n",
              "\n",
              "          const docLinkHtml = 'Like what you see? Visit the ' +\n",
              "            '<a target=\"_blank\" href=https://colab.research.google.com/notebooks/data_table.ipynb>data table notebook</a>'\n",
              "            + ' to learn more about interactive tables.';\n",
              "          element.innerHTML = '';\n",
              "          dataTable['output_type'] = 'display_data';\n",
              "          await google.colab.output.renderOutput(dataTable, element);\n",
              "          const docLink = document.createElement('div');\n",
              "          docLink.innerHTML = docLinkHtml;\n",
              "          element.appendChild(docLink);\n",
              "        }\n",
              "      </script>\n",
              "    </div>\n",
              "  </div>\n",
              "  "
            ]
          },
          "metadata": {},
          "execution_count": 23
        }
      ]
    },
    {
      "cell_type": "markdown",
      "source": [
        "## Current infrastructure state"
      ],
      "metadata": {
        "id": "SmBCHn0sytCs"
      }
    },
    {
      "cell_type": "markdown",
      "source": [
        "![](https://i.imgur.com/VclQBxP.png)"
      ],
      "metadata": {
        "id": "B8HB3EN-yxLD"
      }
    }
  ]
}