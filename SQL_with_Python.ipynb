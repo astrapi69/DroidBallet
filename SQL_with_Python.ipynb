{
  "cells": [
    {
      "cell_type": "markdown",
      "metadata": {
        "id": "view-in-github",
        "colab_type": "text"
      },
      "source": [
        "<a href=\"https://colab.research.google.com/github/astrapi69/DroidBallet/blob/master/SQL_with_Python.ipynb\" target=\"_parent\"><img src=\"https://colab.research.google.com/assets/colab-badge.svg\" alt=\"Open In Colab\"/></a>"
      ]
    },
    {
      "cell_type": "markdown",
      "metadata": {
        "id": "pp9cVITdNJqF"
      },
      "source": [
        "<center><a target=\"_blank\" href=\"https://academy.constructor.org/\"><img src=\"https://jobtracker.ai/static/media/constructor_academy_colour.b86fa87f.png\" width=\"200\" style=\"background:none; border:none; box-shadow:none;\" /></a> </center>\n",
        "\n",
        "_____\n",
        "<center> <h1>  </h1> </center>\n",
        "<center> <h1> Advacend SQL </h1> </center>\n",
        "\n",
        "<p style=\"margin-bottom:1cm;\"></p>\n",
        "\n",
        "_____\n",
        "\n",
        "<center>Constructor Academy, 2024</center>"
      ]
    },
    {
      "cell_type": "markdown",
      "metadata": {
        "id": "-5ZnKsk5NJqJ"
      },
      "source": [
        "# Connecting to a database with Python\n",
        "\n",
        "To be able to extract data and manipulate a database with python, we first import two packages:"
      ]
    },
    {
      "cell_type": "code",
      "execution_count": null,
      "metadata": {
        "id": "NZlbrGslNJqJ"
      },
      "outputs": [],
      "source": [
        "import sqlalchemy as db\n",
        "import pandas as pd\n",
        "from sqlalchemy import text"
      ]
    },
    {
      "cell_type": "code",
      "source": [
        "db.__version__"
      ],
      "metadata": {
        "id": "FElRneYUiXBP"
      },
      "execution_count": null,
      "outputs": []
    },
    {
      "cell_type": "markdown",
      "metadata": {
        "id": "ZrHMYFn3NJqK"
      },
      "source": [
        "[SQLalchemy](https://www.sqlalchemy.org) is a powerful library that allows python coders to interact with a SQL database. In Combination with Pandas, it allows you to query and modify databases and to  get the results of queries in the convenient form of a dataframe.\n",
        "\n",
        "First, we connect to the database (library.db) which we created in SQL Day 1:"
      ]
    },
    {
      "cell_type": "code",
      "execution_count": null,
      "metadata": {
        "id": "-uzgq31MNJqL"
      },
      "outputs": [],
      "source": [
        "engine = db.create_engine('sqlite:///content/library.db', echo=True)"
      ]
    },
    {
      "cell_type": "markdown",
      "metadata": {
        "id": "OFo_lBEcNJqL"
      },
      "source": [
        "connection string can vary depending on your operating system. check [documentation](https://docs.sqlalchemy.org/en/14/dialects/sqlite.html#connect-strings)"
      ]
    },
    {
      "cell_type": "markdown",
      "metadata": {
        "id": "62vUNINbNJqL"
      },
      "source": [
        "You need to specify the relative path of the SQLite database file after the `///`.\n",
        "We use the option `echo=True`, which will display the SQL query used by SQLAlchemy.\n",
        "\n",
        "We can display the list of tables in this database using:"
      ]
    },
    {
      "cell_type": "code",
      "source": [
        "engine"
      ],
      "metadata": {
        "id": "grdo67d3icNs"
      },
      "execution_count": null,
      "outputs": []
    },
    {
      "cell_type": "code",
      "execution_count": null,
      "metadata": {
        "tags": [],
        "id": "yfe_Sgc0NJqM",
        "outputId": "19ec8e02-23bc-43bf-dc88-481c97f2e70e"
      },
      "outputs": [
        {
          "name": "stdout",
          "output_type": "stream",
          "text": [
            "2021-10-11 21:34:24,708 INFO sqlalchemy.engine.base.Engine SELECT CAST('test plain returns' AS VARCHAR(60)) AS anon_1\n",
            "2021-10-11 21:34:24,710 INFO sqlalchemy.engine.base.Engine ()\n",
            "2021-10-11 21:34:24,712 INFO sqlalchemy.engine.base.Engine SELECT CAST('test unicode returns' AS VARCHAR(60)) AS anon_1\n",
            "2021-10-11 21:34:24,713 INFO sqlalchemy.engine.base.Engine ()\n",
            "2021-10-11 21:34:24,714 INFO sqlalchemy.engine.base.Engine SELECT name FROM sqlite_master WHERE type='table' ORDER BY name\n",
            "2021-10-11 21:34:24,715 INFO sqlalchemy.engine.base.Engine ()\n"
          ]
        },
        {
          "data": {
            "text/plain": [
              "['Author',\n",
              " 'Book',\n",
              " 'Book_format',\n",
              " 'Book_theme',\n",
              " 'Borrow',\n",
              " 'Department',\n",
              " 'Employee',\n",
              " 'Format',\n",
              " 'Theme',\n",
              " 'User',\n",
              " 'sqlite_sequence']"
            ]
          },
          "execution_count": 3,
          "metadata": {},
          "output_type": "execute_result"
        }
      ],
      "source": [
        "inspector = db.inspect(engine)\n",
        "inspector.get_table_names()"
      ]
    },
    {
      "cell_type": "markdown",
      "metadata": {
        "id": "cQIwFwSVNJqN"
      },
      "source": [
        "\n",
        "For a given table, we can also display information on columns. Let's Check out the User table:"
      ]
    },
    {
      "cell_type": "code",
      "execution_count": null,
      "metadata": {
        "id": "7z8vmci8NJqN",
        "outputId": "06c3d4ec-6480-4d10-8e7a-103919363e69"
      },
      "outputs": [
        {
          "name": "stdout",
          "output_type": "stream",
          "text": [
            "2021-10-11 21:59:45,771 INFO sqlalchemy.engine.base.Engine PRAGMA main.table_info(\"User\")\n",
            "2021-10-11 21:59:45,772 INFO sqlalchemy.engine.base.Engine ()\n"
          ]
        },
        {
          "data": {
            "text/html": [
              "<div>\n",
              "<style scoped>\n",
              "    .dataframe tbody tr th:only-of-type {\n",
              "        vertical-align: middle;\n",
              "    }\n",
              "\n",
              "    .dataframe tbody tr th {\n",
              "        vertical-align: top;\n",
              "    }\n",
              "\n",
              "    .dataframe thead th {\n",
              "        text-align: right;\n",
              "    }\n",
              "</style>\n",
              "<table border=\"1\" class=\"dataframe\">\n",
              "  <thead>\n",
              "    <tr style=\"text-align: right;\">\n",
              "      <th></th>\n",
              "      <th>name</th>\n",
              "      <th>type</th>\n",
              "      <th>nullable</th>\n",
              "      <th>default</th>\n",
              "      <th>autoincrement</th>\n",
              "      <th>primary_key</th>\n",
              "    </tr>\n",
              "  </thead>\n",
              "  <tbody>\n",
              "    <tr>\n",
              "      <th>0</th>\n",
              "      <td>id</td>\n",
              "      <td>INTEGER</td>\n",
              "      <td>True</td>\n",
              "      <td>None</td>\n",
              "      <td>auto</td>\n",
              "      <td>1</td>\n",
              "    </tr>\n",
              "    <tr>\n",
              "      <th>1</th>\n",
              "      <td>first_name</td>\n",
              "      <td>TEXT</td>\n",
              "      <td>False</td>\n",
              "      <td>None</td>\n",
              "      <td>auto</td>\n",
              "      <td>0</td>\n",
              "    </tr>\n",
              "    <tr>\n",
              "      <th>2</th>\n",
              "      <td>last_name</td>\n",
              "      <td>TEXT</td>\n",
              "      <td>False</td>\n",
              "      <td>None</td>\n",
              "      <td>auto</td>\n",
              "      <td>0</td>\n",
              "    </tr>\n",
              "    <tr>\n",
              "      <th>3</th>\n",
              "      <td>email</td>\n",
              "      <td>TEXT</td>\n",
              "      <td>False</td>\n",
              "      <td>None</td>\n",
              "      <td>auto</td>\n",
              "      <td>0</td>\n",
              "    </tr>\n",
              "    <tr>\n",
              "      <th>4</th>\n",
              "      <td>phone</td>\n",
              "      <td>TEXT</td>\n",
              "      <td>True</td>\n",
              "      <td>None</td>\n",
              "      <td>auto</td>\n",
              "      <td>0</td>\n",
              "    </tr>\n",
              "    <tr>\n",
              "      <th>5</th>\n",
              "      <td>address</td>\n",
              "      <td>TEXT</td>\n",
              "      <td>True</td>\n",
              "      <td>None</td>\n",
              "      <td>auto</td>\n",
              "      <td>0</td>\n",
              "    </tr>\n",
              "    <tr>\n",
              "      <th>6</th>\n",
              "      <td>zip</td>\n",
              "      <td>TEXT</td>\n",
              "      <td>True</td>\n",
              "      <td>None</td>\n",
              "      <td>auto</td>\n",
              "      <td>0</td>\n",
              "    </tr>\n",
              "    <tr>\n",
              "      <th>7</th>\n",
              "      <td>city</td>\n",
              "      <td>TEXT</td>\n",
              "      <td>False</td>\n",
              "      <td>None</td>\n",
              "      <td>auto</td>\n",
              "      <td>0</td>\n",
              "    </tr>\n",
              "    <tr>\n",
              "      <th>8</th>\n",
              "      <td>description</td>\n",
              "      <td>TEXT</td>\n",
              "      <td>True</td>\n",
              "      <td>None</td>\n",
              "      <td>auto</td>\n",
              "      <td>0</td>\n",
              "    </tr>\n",
              "    <tr>\n",
              "      <th>9</th>\n",
              "      <td>created</td>\n",
              "      <td>DATETIME</td>\n",
              "      <td>True</td>\n",
              "      <td>None</td>\n",
              "      <td>auto</td>\n",
              "      <td>0</td>\n",
              "    </tr>\n",
              "  </tbody>\n",
              "</table>\n",
              "</div>"
            ],
            "text/plain": [
              "          name      type  nullable default autoincrement  primary_key\n",
              "0           id   INTEGER      True    None          auto            1\n",
              "1   first_name      TEXT     False    None          auto            0\n",
              "2    last_name      TEXT     False    None          auto            0\n",
              "3        email      TEXT     False    None          auto            0\n",
              "4        phone      TEXT      True    None          auto            0\n",
              "5      address      TEXT      True    None          auto            0\n",
              "6          zip      TEXT      True    None          auto            0\n",
              "7         city      TEXT     False    None          auto            0\n",
              "8  description      TEXT      True    None          auto            0\n",
              "9      created  DATETIME      True    None          auto            0"
            ]
          },
          "execution_count": 12,
          "metadata": {},
          "output_type": "execute_result"
        }
      ],
      "source": [
        "pd.DataFrame(inspector.get_columns('User'))"
      ]
    },
    {
      "cell_type": "markdown",
      "metadata": {
        "id": "6E7ntm8qNJqN"
      },
      "source": [
        "# SQL Commands"
      ]
    },
    {
      "cell_type": "markdown",
      "metadata": {
        "id": "d1lyPq3aNJqO"
      },
      "source": [
        "We can execute any SQL queries using the execute method of the connection object. Let's say we want to examine the first row of the User table. The command is:"
      ]
    },
    {
      "cell_type": "code",
      "source": [
        "con = engine.connect()\n",
        "rows = con.execute(text('SELECT * FROM User;'))\n",
        "for row in rows:\n",
        "  print(row)\n",
        "con.close()"
      ],
      "metadata": {
        "id": "YlgJi8GYimjU"
      },
      "execution_count": null,
      "outputs": []
    },
    {
      "cell_type": "code",
      "execution_count": null,
      "metadata": {
        "id": "fkZpqG9xNJqO",
        "outputId": "3d2d8948-b0a1-45c2-9a52-7508b852edb7"
      },
      "outputs": [
        {
          "name": "stdout",
          "output_type": "stream",
          "text": [
            "2021-10-11 21:59:51,636 INFO sqlalchemy.engine.base.Engine SELECT * FROM User LIMIT 1;\n",
            "2021-10-11 21:59:51,637 INFO sqlalchemy.engine.base.Engine ()\n",
            "(12, 'Manu', 'Ginobili', 'el@manu.ch', None, 'Bahnhofstrasse', '6000', 'Luzern', None, '2004-03-11')\n"
          ]
        }
      ],
      "source": [
        "with engine.connect() as con:\n",
        "    rows = con.execute(text('SELECT * FROM User LIMIT 1;'))\n",
        "    for row in rows:\n",
        "        print(row)"
      ]
    },
    {
      "cell_type": "markdown",
      "metadata": {
        "id": "Q1CtuDlyNJqO"
      },
      "source": [
        "Let's dissect the command that we just executed:\n",
        "\n",
        "- **First,** we opened a connection with the database engine:\n",
        "```python\n",
        "with engine.connect() as con:\n",
        "```\n",
        "We use a `with ... as` statement, so that the connection is closed at the end of the block.\n",
        "- **Then,** we use the `execute` method on the connection object `con`:\n",
        "```python\n",
        "con.execute(SQL_string)\n",
        "```\n",
        "with `SQL_string` the SQL command to display the first row of the Employee table:\n",
        "```SQL\n",
        "SELECT * FROM Employee LIMIT 1;\n",
        "```\n",
        "This statement queries the values of all the columns of the employee table, for the first row."
      ]
    },
    {
      "cell_type": "markdown",
      "metadata": {
        "id": "46d2RkdGNJqP"
      },
      "source": [
        "**USER Interaction**"
      ]
    },
    {
      "cell_type": "code",
      "execution_count": null,
      "metadata": {
        "id": "wwnvIRSfNJqP",
        "outputId": "7c4b6825-45b3-4fd1-c356-35c8de9ce343"
      },
      "outputs": [
        {
          "name": "stdout",
          "output_type": "stream",
          "text": [
            "2021-10-11 22:00:04,101 INFO sqlalchemy.engine.base.Engine SELECT * FROM User WHERE first_name = ?;\n",
            "2021-10-11 22:00:04,102 INFO sqlalchemy.engine.base.Engine ('Manu',)\n",
            "<sqlalchemy.engine.result.ResultProxy object at 0x7ff8a3eba5d0>\n",
            "(12, 'Manu', 'Ginobili', 'el@manu.ch', None, 'Bahnhofstrasse', '6000', 'Luzern', None, '2004-03-11')\n"
          ]
        }
      ],
      "source": [
        "name_ = \"Manu\"\n",
        "with engine.connect() as con:\n",
        "    rows = con.execute(text(f'SELECT * FROM User WHERE first_name = \"{name_}\";'))\n",
        "    print(rows)\n",
        "    for row in rows:\n",
        "        print(row)"
      ]
    },
    {
      "cell_type": "code",
      "execution_count": null,
      "metadata": {
        "outputId": "7c4b6825-45b3-4fd1-c356-35c8de9ce343",
        "id": "XkzndD3tjHXx"
      },
      "outputs": [
        {
          "name": "stdout",
          "output_type": "stream",
          "text": [
            "2021-10-11 22:00:04,101 INFO sqlalchemy.engine.base.Engine SELECT * FROM User WHERE first_name = ?;\n",
            "2021-10-11 22:00:04,102 INFO sqlalchemy.engine.base.Engine ('Manu',)\n",
            "<sqlalchemy.engine.result.ResultProxy object at 0x7ff8a3eba5d0>\n",
            "(12, 'Manu', 'Ginobili', 'el@manu.ch', None, 'Bahnhofstrasse', '6000', 'Luzern', None, '2004-03-11')\n"
          ]
        }
      ],
      "source": [
        "values = {'name': \"Manu\"}\n",
        "stmt = text('SELECT * FROM User WHERE first_name = :name')\n",
        "with engine.connect() as con:\n",
        "    rows = con.execute(stmt, values)\n",
        "    for row in rows:\n",
        "        print(row)"
      ]
    },
    {
      "cell_type": "markdown",
      "metadata": {
        "id": "ZkUN0bw1NJqP"
      },
      "source": [
        "### INSERT\n",
        "\n",
        "To insert a new User:"
      ]
    },
    {
      "cell_type": "code",
      "execution_count": null,
      "metadata": {
        "id": "8R6gpyZgNJqQ",
        "outputId": "bc84083c-4958-499b-e242-909a376ada6e"
      },
      "outputs": [
        {
          "name": "stdout",
          "output_type": "stream",
          "text": [
            "2021-05-28 14:40:57,631 INFO sqlalchemy.engine.base.Engine \n",
            "        INSERT INTO Customer (FirstName , LastName, Email)\n",
            "        VALUES \n",
            "             ('John', 'Doe', 'blabla@gmail.com'),\n",
            "             ('Barack',  'Obama', 'blablabla@gmail.com');\n",
            "2021-05-28 14:40:57,632 INFO sqlalchemy.engine.base.Engine ()\n",
            "2021-05-28 14:40:57,633 INFO sqlalchemy.engine.base.Engine COMMIT\n"
          ]
        }
      ],
      "source": [
        "with engine.connect() as con:\n",
        "    res = con.execute(text('''\n",
        "        INSERT INTO User (first_name , last_name, email, city)\n",
        "        VALUES\n",
        "             ('John', 'Doe', 'blabla@gmail.com', 'Bern'),\n",
        "             ('Barack',  'Obama', 'blablabla@gmail.com', 'Basel');'''))\n",
        "    # con.commit()"
      ]
    },
    {
      "cell_type": "markdown",
      "metadata": {
        "id": "TnQx_6VgNJqQ"
      },
      "source": [
        "- Let's check that Barack Obama is in the database:"
      ]
    },
    {
      "cell_type": "code",
      "execution_count": null,
      "metadata": {
        "id": "73RrZOMvNJqQ",
        "outputId": "61703c07-7e92-49f2-b96a-c49719067325"
      },
      "outputs": [
        {
          "name": "stdout",
          "output_type": "stream",
          "text": [
            "2021-05-28 14:41:02,408 INFO sqlalchemy.engine.base.Engine SELECT * FROM Customer WHERE FirstName == \"Barack\";\n",
            "2021-05-28 14:41:02,410 INFO sqlalchemy.engine.base.Engine ()\n",
            "(61, 'Barack', 'Obama', None, None, None, None, None, None, None, None, 'blablabla@gmail.com', None)\n"
          ]
        }
      ],
      "source": [
        "with engine.connect() as con:\n",
        "    res = con.execute(text('SELECT * FROM User WHERE first_name = \"Barack\";'))\n",
        "    con.commit()\n",
        "    for row in res:\n",
        "        print(row)"
      ]
    },
    {
      "cell_type": "markdown",
      "metadata": {
        "id": "ijIXAcAYNJqQ"
      },
      "source": [
        "Here you can see that a CustomerID was set automatically for the new customer Barack Obama."
      ]
    },
    {
      "cell_type": "markdown",
      "metadata": {
        "id": "vpc61be2NJqR"
      },
      "source": [
        "### UPDATE"
      ]
    },
    {
      "cell_type": "markdown",
      "metadata": {
        "id": "6d2GKAECNJqR"
      },
      "source": [
        "If we want to update data for a row that already exists, we can simply use the `UPDATE` keyword:"
      ]
    },
    {
      "cell_type": "code",
      "source": [
        "barrack_id = row[0]"
      ],
      "metadata": {
        "id": "fh91S1AVjSPq"
      },
      "execution_count": null,
      "outputs": []
    },
    {
      "cell_type": "code",
      "execution_count": null,
      "metadata": {
        "id": "0fUYkyesNJqR",
        "outputId": "d78a4305-8bba-4eba-88e3-c6c5888325e6"
      },
      "outputs": [
        {
          "name": "stdout",
          "output_type": "stream",
          "text": [
            "2021-05-28 14:41:07,797 INFO sqlalchemy.engine.base.Engine \n",
            "        UPDATE Customer\n",
            "        SET Email = 'barack.obama@gmail.com'\n",
            "        WHERE\n",
            "        CustomerId = 63;\n",
            "2021-05-28 14:41:07,798 INFO sqlalchemy.engine.base.Engine ()\n",
            "2021-05-28 14:41:07,799 INFO sqlalchemy.engine.base.Engine COMMIT\n"
          ]
        }
      ],
      "source": [
        "with engine.connect() as con:\n",
        "    res = con.execute(text('''\n",
        "        UPDATE User\n",
        "        SET email = 'barack.obama@gmail.com'\n",
        "        WHERE\n",
        "        id = :id_;'''), ({\"id_\": barrack_id}))\n",
        "    # con.commit()"
      ]
    },
    {
      "cell_type": "markdown",
      "metadata": {
        "id": "ec1jt1A9NJqR"
      },
      "source": [
        "We can check that the row has been updated:"
      ]
    },
    {
      "cell_type": "code",
      "execution_count": null,
      "metadata": {
        "id": "PEy9J38zNJqR",
        "outputId": "41ddcae0-da80-4ea3-c9d0-d106b63094a6"
      },
      "outputs": [
        {
          "name": "stdout",
          "output_type": "stream",
          "text": [
            "2021-05-28 14:41:13,160 INFO sqlalchemy.engine.base.Engine SELECT * FROM Customer WHERE FirstName == \"Barack\";\n",
            "2021-05-28 14:41:13,162 INFO sqlalchemy.engine.base.Engine ()\n",
            "(61, 'Barack', 'Obama', None, None, None, None, None, None, None, None, 'blablabla@gmail.com', None)\n"
          ]
        }
      ],
      "source": [
        "with engine.connect() as con:\n",
        "    res = con.execute(text('SELECT * FROM User WHERE first_name = \"Barack\";'))\n",
        "    for row in res:\n",
        "        print(row)"
      ]
    },
    {
      "cell_type": "markdown",
      "metadata": {
        "id": "lmBqCRd6NJqR"
      },
      "source": [
        "### DELETE\n",
        "\n",
        "Finally, we can delete a row using the `DELETE FROM` keywords:"
      ]
    },
    {
      "cell_type": "code",
      "execution_count": null,
      "metadata": {
        "id": "t_PoEmXtNJqS",
        "outputId": "4b64ee25-ba1a-4259-de8b-d6927ba37df5"
      },
      "outputs": [
        {
          "name": "stdout",
          "output_type": "stream",
          "text": [
            "2021-05-28 14:41:23,816 INFO sqlalchemy.engine.base.Engine \n",
            "        DELETE FROM Customer\n",
            "        WHERE CustomerID==63;\n",
            "2021-05-28 14:41:23,818 INFO sqlalchemy.engine.base.Engine ()\n",
            "2021-05-28 14:41:23,821 INFO sqlalchemy.engine.base.Engine COMMIT\n"
          ]
        }
      ],
      "source": [
        "id_ = ???\n",
        "with engine.connect() as con:\n",
        "    res = con.execute(text(f'''\n",
        "        DELETE FROM User\n",
        "        WHERE id = \"{id_}\";'''))\n",
        "    # con.commit()"
      ]
    },
    {
      "cell_type": "markdown",
      "metadata": {
        "id": "GNldQt9_NJqS"
      },
      "source": [
        "# Query/write data using SQL through pandas"
      ]
    },
    {
      "cell_type": "markdown",
      "metadata": {
        "id": "0xVmYNGlNJqS"
      },
      "source": [
        "As you can see from the last section on `SELECT`, the output of the SQL query is not so convenient, and particularly, if you are performing data analysis, it might be better for you to directly read/write to a SQL database from pandas dataframes. Be aware, however, that this method becomes very slow for large amounts of data.\n",
        "\n",
        "Pandas provides 2 main functions to interact with a database:\n",
        "\n",
        "- `read_sql_query` ([see documentation](https://pandas.pydata.org/pandas-docs/stable/reference/api/pandas.read_sql_query.html)), that outputs a dataframe from a sql query.\n",
        "\n",
        "The syntax is the following:\n",
        "\n",
        "```python\n",
        "df = pd.read_sql_query('SQL query', connection)\n",
        "```\n",
        "    - 'SQL query' is a string containing the SQL query\n",
        "    - connection is the connected engine object that we defined earlier (con)\n",
        "    - we obtain df, a dataframe containing the result of the query\n",
        "\n",
        "\n",
        "- `to_sql` ([see documentation](https://pandas.pydata.org/pandas-docs/stable/reference/api/pandas.DataFrame.to_sql.html)), which is a dataframe method that writes the dataframe into a SQL database.\n",
        "\n",
        "The syntax is the following:\n",
        "\n",
        "```python\n",
        "df.to_sql('name', connection)\n",
        "```\n",
        "    - name is the name of the table in the SQL database\n",
        "    - connection is the SQLalchemy connection object\n"
      ]
    },
    {
      "cell_type": "markdown",
      "metadata": {
        "id": "SH8o-98NNJqS"
      },
      "source": [
        "## read_sql_query\n",
        "Let's try it on the User table:"
      ]
    },
    {
      "cell_type": "code",
      "execution_count": null,
      "metadata": {
        "id": "V5T96eW1NJqS",
        "outputId": "0b47a221-2d4c-4950-cd96-ca0971223bab"
      },
      "outputs": [
        {
          "name": "stdout",
          "output_type": "stream",
          "text": [
            "2021-10-11 22:04:46,458 INFO sqlalchemy.engine.base.Engine \n",
            "    SELECT *\n",
            "    FROM User;\n",
            "        \n",
            "2021-10-11 22:04:46,459 INFO sqlalchemy.engine.base.Engine ()\n"
          ]
        },
        {
          "data": {
            "text/html": [
              "<div>\n",
              "<style scoped>\n",
              "    .dataframe tbody tr th:only-of-type {\n",
              "        vertical-align: middle;\n",
              "    }\n",
              "\n",
              "    .dataframe tbody tr th {\n",
              "        vertical-align: top;\n",
              "    }\n",
              "\n",
              "    .dataframe thead th {\n",
              "        text-align: right;\n",
              "    }\n",
              "</style>\n",
              "<table border=\"1\" class=\"dataframe\">\n",
              "  <thead>\n",
              "    <tr style=\"text-align: right;\">\n",
              "      <th></th>\n",
              "      <th>id</th>\n",
              "      <th>first_name</th>\n",
              "      <th>last_name</th>\n",
              "      <th>email</th>\n",
              "      <th>phone</th>\n",
              "      <th>address</th>\n",
              "      <th>zip</th>\n",
              "      <th>city</th>\n",
              "      <th>description</th>\n",
              "      <th>created</th>\n",
              "    </tr>\n",
              "  </thead>\n",
              "  <tbody>\n",
              "    <tr>\n",
              "      <th>0</th>\n",
              "      <td>12</td>\n",
              "      <td>Manu</td>\n",
              "      <td>Ginobili</td>\n",
              "      <td>el@manu.ch</td>\n",
              "      <td>None</td>\n",
              "      <td>Bahnhofstrasse</td>\n",
              "      <td>6000</td>\n",
              "      <td>Luzern</td>\n",
              "      <td>None</td>\n",
              "      <td>2004-03-11</td>\n",
              "    </tr>\n",
              "    <tr>\n",
              "      <th>1</th>\n",
              "      <td>33</td>\n",
              "      <td>Chauncey</td>\n",
              "      <td>Billups</td>\n",
              "      <td>chauncey@billups.com</td>\n",
              "      <td>None</td>\n",
              "      <td>None</td>\n",
              "      <td>6600</td>\n",
              "      <td>Locarno</td>\n",
              "      <td>D-fense for the culture</td>\n",
              "      <td>2001-05-15</td>\n",
              "    </tr>\n",
              "    <tr>\n",
              "      <th>2</th>\n",
              "      <td>215</td>\n",
              "      <td>Mike</td>\n",
              "      <td>Malone</td>\n",
              "      <td>mike@malone.ch</td>\n",
              "      <td>None</td>\n",
              "      <td>Rue des Templiers</td>\n",
              "      <td>1700</td>\n",
              "      <td>Fribourg</td>\n",
              "      <td>None</td>\n",
              "      <td>2005-10-23</td>\n",
              "    </tr>\n",
              "    <tr>\n",
              "      <th>3</th>\n",
              "      <td>304</td>\n",
              "      <td>Kyrie</td>\n",
              "      <td>Irving</td>\n",
              "      <td>flat@mindset.com</td>\n",
              "      <td>+41 243 503</td>\n",
              "      <td>None</td>\n",
              "      <td>9000</td>\n",
              "      <td>St Gallen</td>\n",
              "      <td>Everything is flat, even the books</td>\n",
              "      <td>2014-01-02</td>\n",
              "    </tr>\n",
              "    <tr>\n",
              "      <th>4</th>\n",
              "      <td>336</td>\n",
              "      <td>Joe</td>\n",
              "      <td>Johnsson</td>\n",
              "      <td>joe@johnsson.com</td>\n",
              "      <td>None</td>\n",
              "      <td>None</td>\n",
              "      <td>1000</td>\n",
              "      <td>Lausanne</td>\n",
              "      <td>Super cool</td>\n",
              "      <td>1998-04-20</td>\n",
              "    </tr>\n",
              "  </tbody>\n",
              "</table>\n",
              "</div>"
            ],
            "text/plain": [
              "    id first_name last_name                 email        phone  \\\n",
              "0   12       Manu  Ginobili            el@manu.ch         None   \n",
              "1   33   Chauncey   Billups  chauncey@billups.com         None   \n",
              "2  215       Mike    Malone        mike@malone.ch         None   \n",
              "3  304      Kyrie    Irving      flat@mindset.com  +41 243 503   \n",
              "4  336        Joe  Johnsson      joe@johnsson.com         None   \n",
              "\n",
              "             address   zip       city                         description  \\\n",
              "0     Bahnhofstrasse  6000     Luzern                                None   \n",
              "1               None  6600    Locarno             D-fense for the culture   \n",
              "2  Rue des Templiers  1700   Fribourg                                None   \n",
              "3               None  9000  St Gallen  Everything is flat, even the books   \n",
              "4               None  1000   Lausanne                          Super cool   \n",
              "\n",
              "      created  \n",
              "0  2004-03-11  \n",
              "1  2001-05-15  \n",
              "2  2005-10-23  \n",
              "3  2014-01-02  \n",
              "4  1998-04-20  "
            ]
          },
          "execution_count": 15,
          "metadata": {},
          "output_type": "execute_result"
        }
      ],
      "source": [
        "with engine.connect() as con:\n",
        "    df = pd.read_sql_query(text(\"\"\"\n",
        "    SELECT *\n",
        "    FROM User;\n",
        "        \"\"\"), con)\n",
        "df.head()"
      ]
    },
    {
      "cell_type": "markdown",
      "metadata": {
        "id": "IZecgns6NJqS"
      },
      "source": [
        "As promised, we obtained a fresh dataframe to play with!"
      ]
    },
    {
      "cell_type": "markdown",
      "metadata": {
        "id": "arpHKZBQNJqT"
      },
      "source": [
        "## to_sql\n",
        "\n",
        "now let's create a new Album column:"
      ]
    },
    {
      "cell_type": "code",
      "execution_count": null,
      "metadata": {
        "id": "n9nE1ZIiNJqT"
      },
      "outputs": [],
      "source": [
        "dfnew = df.iloc[-2:,:].copy()"
      ]
    },
    {
      "cell_type": "code",
      "execution_count": null,
      "metadata": {
        "id": "EEkJ51LrNJqT",
        "outputId": "eaaa7f08-6c29-4b04-bb71-b343df1f84b9"
      },
      "outputs": [
        {
          "data": {
            "text/html": [
              "<div>\n",
              "<style scoped>\n",
              "    .dataframe tbody tr th:only-of-type {\n",
              "        vertical-align: middle;\n",
              "    }\n",
              "\n",
              "    .dataframe tbody tr th {\n",
              "        vertical-align: top;\n",
              "    }\n",
              "\n",
              "    .dataframe thead th {\n",
              "        text-align: right;\n",
              "    }\n",
              "</style>\n",
              "<table border=\"1\" class=\"dataframe\">\n",
              "  <thead>\n",
              "    <tr style=\"text-align: right;\">\n",
              "      <th></th>\n",
              "      <th>id</th>\n",
              "      <th>first_name</th>\n",
              "      <th>last_name</th>\n",
              "      <th>email</th>\n",
              "      <th>phone</th>\n",
              "      <th>address</th>\n",
              "      <th>zip</th>\n",
              "      <th>city</th>\n",
              "      <th>description</th>\n",
              "      <th>created</th>\n",
              "    </tr>\n",
              "  </thead>\n",
              "  <tbody>\n",
              "    <tr>\n",
              "      <th>9</th>\n",
              "      <td>889</td>\n",
              "      <td>Shaquille</td>\n",
              "      <td>Oneal</td>\n",
              "      <td>baby@shaq.ch</td>\n",
              "      <td>None</td>\n",
              "      <td>Rue du lac</td>\n",
              "      <td>1200</td>\n",
              "      <td>Geneva</td>\n",
              "      <td>Baby shaq doo doo doo</td>\n",
              "      <td>2001-11-15</td>\n",
              "    </tr>\n",
              "    <tr>\n",
              "      <th>10</th>\n",
              "      <td>890</td>\n",
              "      <td>Lisa</td>\n",
              "      <td>Christl</td>\n",
              "      <td>l@gmail.com</td>\n",
              "      <td>+41 220</td>\n",
              "      <td>Munich</td>\n",
              "      <td>9000</td>\n",
              "      <td>Munich</td>\n",
              "      <td>Super Cool</td>\n",
              "      <td>2021-10-08</td>\n",
              "    </tr>\n",
              "  </tbody>\n",
              "</table>\n",
              "</div>"
            ],
            "text/plain": [
              "     id first_name last_name         email    phone     address   zip    city  \\\n",
              "9   889  Shaquille     Oneal  baby@shaq.ch     None  Rue du lac  1200  Geneva   \n",
              "10  890       Lisa   Christl   l@gmail.com  +41 220      Munich  9000  Munich   \n",
              "\n",
              "              description     created  \n",
              "9   Baby shaq doo doo doo  2001-11-15  \n",
              "10             Super Cool  2021-10-08  "
            ]
          },
          "execution_count": 17,
          "metadata": {},
          "output_type": "execute_result"
        }
      ],
      "source": [
        "dfnew"
      ]
    },
    {
      "cell_type": "code",
      "execution_count": null,
      "metadata": {
        "id": "W14RTQqwNJqT"
      },
      "outputs": [],
      "source": [
        "dfnew['id'] = [900,901]"
      ]
    },
    {
      "cell_type": "code",
      "execution_count": null,
      "metadata": {
        "id": "yJTQ3HTpNJqT",
        "outputId": "6cfa5385-0869-42f4-bc67-7f0e37ceaef7"
      },
      "outputs": [
        {
          "name": "stdout",
          "output_type": "stream",
          "text": [
            "2021-05-28 14:47:24,748 INFO sqlalchemy.engine.base.Engine PRAGMA main.table_info(\"Album\")\n",
            "2021-05-28 14:47:24,751 INFO sqlalchemy.engine.base.Engine ()\n",
            "2021-05-28 14:47:24,755 INFO sqlalchemy.engine.base.Engine BEGIN (implicit)\n",
            "2021-05-28 14:47:24,759 INFO sqlalchemy.engine.base.Engine INSERT INTO \"Album\" (\"AlbumId\", \"Title\", \"ArtistId\", \"Column1\") VALUES (?, ?, ?, ?)\n",
            "2021-05-28 14:47:24,761 INFO sqlalchemy.engine.base.Engine ((348, 'Mozart: Chamber Music', 274, None), (349, 'Koyaanisqatsi (Soundtrack from the Motion Picture)', 275, None))\n",
            "2021-05-28 14:47:24,762 INFO sqlalchemy.engine.base.Engine COMMIT\n",
            "2021-05-28 14:47:24,767 INFO sqlalchemy.engine.base.Engine SELECT name FROM sqlite_master WHERE type='table' ORDER BY name\n",
            "2021-05-28 14:47:24,767 INFO sqlalchemy.engine.base.Engine ()\n"
          ]
        }
      ],
      "source": [
        "with engine.connect() as con:\n",
        "    dfnew.to_sql('User', con, if_exists='append', index=False)"
      ]
    }
  ],
  "metadata": {
    "celltoolbar": "Raw Cell Format",
    "kernelspec": {
      "display_name": "Python 3",
      "language": "python",
      "name": "python3"
    },
    "language_info": {
      "codemirror_mode": {
        "name": "ipython",
        "version": 3
      },
      "file_extension": ".py",
      "mimetype": "text/x-python",
      "name": "python",
      "nbconvert_exporter": "python",
      "pygments_lexer": "ipython3",
      "version": "3.8.8"
    },
    "colab": {
      "provenance": [],
      "include_colab_link": true
    }
  },
  "nbformat": 4,
  "nbformat_minor": 0
}