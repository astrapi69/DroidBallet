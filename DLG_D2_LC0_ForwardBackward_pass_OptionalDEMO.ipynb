{
  "cells": [
    {
      "cell_type": "markdown",
      "metadata": {
        "id": "view-in-github",
        "colab_type": "text"
      },
      "source": [
        "<a href=\"https://colab.research.google.com/github/astrapi69/DroidBallet/blob/master/DLG_D2_LC0_ForwardBackward_pass_OptionalDEMO.ipynb\" target=\"_parent\"><img src=\"https://colab.research.google.com/assets/colab-badge.svg\" alt=\"Open In Colab\"/></a>"
      ]
    },
    {
      "cell_type": "markdown",
      "source": [
        "<center><a target=\"_blank\" href=\"https://academy.constructor.org/\"><img src=\"https://jobtracker.ai/static/media/constructor_academy_colour.b86fa87f.png\" width=\"200\" style=\"background:none; border:none; box-shadow:none;\" /></a> </center>\n",
        "\n",
        "_____\n",
        "\n",
        "<center>Constructor Academy, 2024</center>\n"
      ],
      "metadata": {
        "id": "IqJmhMU6grkZ"
      },
      "id": "IqJmhMU6grkZ"
    },
    {
      "cell_type": "markdown",
      "source": [
        "# Backpropagation From Scratch"
      ],
      "metadata": {
        "id": "J7neihiWfAhy"
      },
      "id": "J7neihiWfAhy"
    },
    {
      "cell_type": "code",
      "execution_count": null,
      "id": "2c7b6bc7-dd02-42ab-8096-7099ed409de0",
      "metadata": {
        "id": "2c7b6bc7-dd02-42ab-8096-7099ed409de0"
      },
      "outputs": [],
      "source": [
        "import numpy as np"
      ]
    },
    {
      "cell_type": "markdown",
      "source": [
        "Let's start with the definition of:\n",
        "- helper functions\n",
        "- initial parameters\n",
        "- weights, etc.\n",
        "\n",
        "First, let's introduce an activation function. In our case we will use `sigmoid` as a simplest one available.\n"
      ],
      "metadata": {
        "id": "HD1g98M4r8W8"
      },
      "id": "HD1g98M4r8W8"
    },
    {
      "cell_type": "code",
      "execution_count": null,
      "id": "f80cf52c-a07e-47ad-a504-32c7436a52bd",
      "metadata": {
        "id": "f80cf52c-a07e-47ad-a504-32c7436a52bd",
        "outputId": "0bd806aa-a85c-4fd5-b863-9934ef755fda",
        "colab": {
          "base_uri": "https://localhost:8080/"
        }
      },
      "outputs": [
        {
          "output_type": "execute_result",
          "data": {
            "text/plain": [
              "0.9525741268224334"
            ]
          },
          "metadata": {},
          "execution_count": 3
        }
      ],
      "source": [
        "# define the sigmoid function\n",
        "def sigmoid(x, deriv = False):\n",
        "    if(deriv == True):\n",
        "        return sigmoid(x)*(1-sigmoid(x))\n",
        "    return 1/(1+np.exp(-x))\n",
        "\n",
        "sigmoid(3, deriv = False)"
      ]
    },
    {
      "cell_type": "code",
      "source": [
        "sigmoid(3, deriv = True)"
      ],
      "metadata": {
        "colab": {
          "base_uri": "https://localhost:8080/"
        },
        "id": "MFdBwpfUsEUc",
        "outputId": "042f3515-ae01-43aa-e833-109c5af9b712"
      },
      "id": "MFdBwpfUsEUc",
      "execution_count": null,
      "outputs": [
        {
          "output_type": "execute_result",
          "data": {
            "text/plain": [
              "0.045176659730912"
            ]
          },
          "metadata": {},
          "execution_count": 4
        }
      ]
    },
    {
      "cell_type": "code",
      "source": [],
      "metadata": {
        "id": "yJia7M4cfDMe"
      },
      "id": "yJia7M4cfDMe",
      "execution_count": null,
      "outputs": []
    },
    {
      "cell_type": "code",
      "execution_count": null,
      "id": "7c965ea2-8d08-492c-8254-58bb0cd21e81",
      "metadata": {
        "id": "7c965ea2-8d08-492c-8254-58bb0cd21e81",
        "outputId": "e0027321-62e0-4765-8dd3-d33c915d74f5",
        "colab": {
          "base_uri": "https://localhost:8080/",
          "height": 265
        }
      },
      "outputs": [
        {
          "output_type": "display_data",
          "data": {
            "text/plain": [
              "<Figure size 432x288 with 1 Axes>"
            ],
            "image/png": "[encoded data removed]"
          },
          "metadata": {
            "needs_background": "light"
          }
        }
      ],
      "source": [
        "# visualize sigmoid function\n",
        "import matplotlib.pyplot as plt\n",
        "\n",
        "plt.plot(np.arange(-5,5),sigmoid(np.arange(-5,5)))\n",
        "plt.plot(np.arange(-5,5),sigmoid(np.arange(-5,5), deriv = True))\n",
        "None"
      ]
    },
    {
      "cell_type": "code",
      "execution_count": null,
      "id": "44c76092-dd56-4c31-85df-d6dfc4c261b1",
      "metadata": {
        "id": "44c76092-dd56-4c31-85df-d6dfc4c261b1"
      },
      "outputs": [],
      "source": [
        "# choose a random seed for reproducible results\n",
        "np.random.seed(1)\n",
        "\n",
        "# learning rate\n",
        "learning_rate = .1\n",
        "\n",
        "# number of nodes in the hidden layer\n",
        "num_hidden = 3"
      ]
    },
    {
      "cell_type": "code",
      "execution_count": null,
      "id": "725e4923-541b-488a-a527-41bdb0c24a3a",
      "metadata": {
        "id": "725e4923-541b-488a-a527-41bdb0c24a3a",
        "outputId": "8efde9c1-bf3b-4a42-cd82-77bab7b85798",
        "colab": {
          "base_uri": "https://localhost:8080/"
        }
      },
      "outputs": [
        {
          "output_type": "execute_result",
          "data": {
            "text/plain": [
              "array([[0, 0, 1],\n",
              "       [1, 1, 1],\n",
              "       [1, 0, 1],\n",
              "       [0, 1, 1]])"
            ]
          },
          "metadata": {},
          "execution_count": 5
        }
      ],
      "source": [
        "# inputs\n",
        "# question - how many features?\n",
        "\n",
        "X = np.array([\n",
        "    [0, 0, 1],\n",
        "    [1, 1, 1],\n",
        "    [1, 0, 1],\n",
        "    [0, 1, 1],\n",
        "])\n",
        "X"
      ]
    },
    {
      "cell_type": "code",
      "execution_count": null,
      "id": "b8147662-f7fd-400f-b06d-f5d9140ddad0",
      "metadata": {
        "id": "b8147662-f7fd-400f-b06d-f5d9140ddad0",
        "outputId": "87fcbcf9-a34a-4853-8d6e-4ba8b6104cb2",
        "colab": {
          "base_uri": "https://localhost:8080/"
        }
      },
      "outputs": [
        {
          "output_type": "execute_result",
          "data": {
            "text/plain": [
              "array([[0],\n",
              "       [1],\n",
              "       [1],\n",
              "       [0]])"
            ]
          },
          "metadata": {},
          "execution_count": 6
        }
      ],
      "source": [
        "# outputs\n",
        "y = np.array([[0], [1], [1], [0]])\n",
        "y"
      ]
    },
    {
      "cell_type": "code",
      "execution_count": null,
      "id": "37e2bbf5-efb5-489d-9827-9cbbcb3c11bf",
      "metadata": {
        "id": "37e2bbf5-efb5-489d-9827-9cbbcb3c11bf",
        "outputId": "cbc44067-1d70-457d-fa9b-e591be9d3fde",
        "colab": {
          "base_uri": "https://localhost:8080/"
        }
      },
      "outputs": [
        {
          "output_type": "execute_result",
          "data": {
            "text/plain": [
              "1"
            ]
          },
          "metadata": {},
          "execution_count": 7
        }
      ],
      "source": [
        "y.shape[1]"
      ]
    },
    {
      "cell_type": "code",
      "execution_count": null,
      "id": "62dea195-5bf7-423e-9164-da3005c4435d",
      "metadata": {
        "id": "62dea195-5bf7-423e-9164-da3005c4435d"
      },
      "outputs": [],
      "source": [
        "# initialize weights randomly with mean 0 and range (-1, 1)\n",
        "# don't consider bias for simplicity\n",
        "\n",
        "hidden_weights = 2*np.random.random((X.shape[1], num_hidden)) - 1\n",
        "output_weights = 2*np.random.random((num_hidden, y.shape[1])) - 1"
      ]
    },
    {
      "cell_type": "code",
      "execution_count": null,
      "id": "80988512-f7c3-41eb-a797-1985c61b625b",
      "metadata": {
        "id": "80988512-f7c3-41eb-a797-1985c61b625b",
        "outputId": "222d000f-575c-4d6f-f825-c0f9f9886596",
        "colab": {
          "base_uri": "https://localhost:8080/"
        }
      },
      "outputs": [
        {
          "output_type": "stream",
          "name": "stdout",
          "text": [
            "Weights for the hidden layer \n",
            " [[-0.16595599  0.44064899 -0.99977125]\n",
            " [-0.39533485 -0.70648822 -0.81532281]\n",
            " [-0.62747958 -0.30887855 -0.20646505]] \n",
            "\n",
            "Weights for the output layer \n",
            " [[ 0.07763347]\n",
            " [-0.16161097]\n",
            " [ 0.370439  ]]\n"
          ]
        }
      ],
      "source": [
        "print(f\"Weights for the hidden layer \\n {hidden_weights} \\n\")\n",
        "print(f\"Weights for the output layer \\n {output_weights}\")"
      ]
    },
    {
      "cell_type": "markdown",
      "id": "aa3ec809-2084-49b5-bc54-5d718adaeaef",
      "metadata": {
        "id": "aa3ec809-2084-49b5-bc54-5d718adaeaef"
      },
      "source": [
        "## Forward pass\n",
        "<center> <img src=\"https://drive.google.com/uc?export=view&id=1D3pxD1nnxVwi57U1pqfO206dgjTtRaze\" width=800/> </center>\n",
        "\n",
        "$$\\mathbf{Z_h} =\\mathbf{X\\cdot W_h} + \\mathbf{b}$$\n",
        "$$\\mathbf{H} = \\sigma(\\mathbf{Z_h}) = \\frac{1}{1+e^{\\mathbf{-Z_h}}}$$\n",
        "\n",
        "$$\\mathbf{\\hat y} =  \\mathbf{Z_o} = \\mathbf{H}\\cdot \\mathbf{W_o} + \\mathbf{b_o}$$"
      ]
    },
    {
      "cell_type": "code",
      "execution_count": null,
      "id": "2da42998-90d4-4c16-96ec-02464cbef8a7",
      "metadata": {
        "id": "2da42998-90d4-4c16-96ec-02464cbef8a7",
        "outputId": "47de5810-8b43-400c-cd3b-e9160f1699be"
      },
      "outputs": [
        {
          "data": {
            "text/plain": [
              "array([[-0.62747958, -0.30887855, -0.20646505],\n",
              "       [-1.18877042, -0.57471778, -2.02155911],\n",
              "       [-0.79343557,  0.13177044, -1.2062363 ],\n",
              "       [-1.02281443, -1.01536676, -1.02178786]])"
            ]
          },
          "execution_count": 76,
          "metadata": {},
          "output_type": "execute_result"
        }
      ],
      "source": [
        "# calculate outputs for the hidden layer (2nd layer)\n",
        "Zh = np.dot(X, hidden_weights) # 4x3, 3x3 => 4X3\n",
        "Zh"
      ]
    },
    {
      "cell_type": "code",
      "execution_count": null,
      "id": "3908a9c9-bb26-4fce-be35-dfd38c0129be",
      "metadata": {
        "id": "3908a9c9-bb26-4fce-be35-dfd38c0129be",
        "outputId": "847986d7-1ad4-44d6-cce0-e81c43d41c27"
      },
      "outputs": [
        {
          "data": {
            "text/plain": [
              "array([[0.34808226, 0.4233885 , 0.44856632],\n",
              "       [0.23347892, 0.36014894, 0.11695787],\n",
              "       [0.31143146, 0.53289503, 0.23036767],\n",
              "       [0.26447955, 0.26593088, 0.26467929]])"
            ]
          },
          "execution_count": 77,
          "metadata": {},
          "output_type": "execute_result"
        }
      ],
      "source": [
        "hidden_layer_outputs = sigmoid(Zh)\n",
        "hidden_layer_outputs"
      ]
    },
    {
      "cell_type": "code",
      "execution_count": null,
      "id": "de4d9fc7-a1ff-483d-90ae-c24250d908a5",
      "metadata": {
        "id": "de4d9fc7-a1ff-483d-90ae-c24250d908a5",
        "outputId": "e4508e33-c4b4-4c61-e583-b35035a9bd10"
      },
      "outputs": [
        {
          "data": {
            "text/plain": [
              "array([[0.12476506],\n",
              "       [0.00324752],\n",
              "       [0.02339299],\n",
              "       [0.07560265]])"
            ]
          },
          "execution_count": 64,
          "metadata": {},
          "output_type": "execute_result"
        }
      ],
      "source": [
        "# calculate outputs for the output layer (3d layer)\n",
        "\n",
        "output_layer_outputs = np.dot(hidden_layer_outputs, output_weights) # dimensions?\n",
        "output_layer_outputs"
      ]
    },
    {
      "cell_type": "code",
      "execution_count": null,
      "id": "04d04832-1011-4606-bcf1-f45d66c32fcf",
      "metadata": {
        "id": "04d04832-1011-4606-bcf1-f45d66c32fcf",
        "outputId": "e80b2509-8889-429a-9a45-9177ce870eb6"
      },
      "outputs": [
        {
          "data": {
            "text/plain": [
              "array([[0],\n",
              "       [1],\n",
              "       [1],\n",
              "       [0]])"
            ]
          },
          "execution_count": 78,
          "metadata": {},
          "output_type": "execute_result"
        }
      ],
      "source": [
        "y"
      ]
    },
    {
      "cell_type": "markdown",
      "id": "8eed5a34-9a22-4d35-a212-34d0e8fc4a9e",
      "metadata": {
        "id": "8eed5a34-9a22-4d35-a212-34d0e8fc4a9e"
      },
      "source": [
        "## Backward pass\n"
      ]
    },
    {
      "cell_type": "markdown",
      "id": "ca36f5d1-668d-4106-9345-3f3a32ace135",
      "metadata": {
        "id": "ca36f5d1-668d-4106-9345-3f3a32ace135"
      },
      "source": [
        "The goals of backpropagation are straightforward: adjust each weight in the network in proportion to how much it contributes to overall error. If we iteratively reduce each weight’s error, eventually we’ll have a series of weights that produce good predictions.\n",
        "\n",
        "We first calculate the output layer error and pass the result to the hidden layer before it. After calculating the hidden layer error, we pass its error value back to the previous hidden layer before it. And so on and so forth. As we move back through the network we calculate the derivative of cost with respect that layer’s weights. This resulting derivative tells us in which direction to adjust our weights to reduce overall cost."
      ]
    },
    {
      "cell_type": "markdown",
      "id": "abdaecdb-a27e-4608-8c66-c04703e1f652",
      "metadata": {
        "id": "abdaecdb-a27e-4608-8c66-c04703e1f652"
      },
      "source": [
        "**Note**: The term *layer error* refers to the derivative of cost with respect to a layer’s *input*.   \n",
        "It answers the question: how does the *cost function output* change when the *input* to that layer changes?"
      ]
    },
    {
      "cell_type": "markdown",
      "id": "17e5f4e8-ef82-4cfd-b4a8-63810dc4d801",
      "metadata": {
        "id": "17e5f4e8-ef82-4cfd-b4a8-63810dc4d801"
      },
      "source": [
        "To calculate *output layer error* we need to find the derivative of cost with respect to the output layer weights, $W_o$. It answers the question - how are the final layer's weights impacting overall error in the network? Let's consider the following cost function (MSE):\n",
        "\n",
        "$$C = \\frac12(\\hat y - y)^2$$\n",
        "\n",
        "The derivative is then using chain rule is:   \n",
        "For the *final layer's error term*: $E_o = C^\\prime (Z_o (H,W_o)) = (\\hat y - y) \\cdot H$;   \n",
        "For the *hidden layer's error term*: $E_{h} = C^{\\prime}\\left(Z_{h} (X, W_h) \\right)=(\\hat{y}-y) \\cdot W_{o} \\cdot \\sigma^{\\prime}\\left(Z_{h}\\right) \\cdot X$"
      ]
    },
    {
      "cell_type": "markdown",
      "id": "ad185a8c-a7a5-4832-a67e-df66a6968bff",
      "metadata": {
        "id": "ad185a8c-a7a5-4832-a67e-df66a6968bff"
      },
      "source": [
        "We will separate these expressions above for the sake of simplicity of computations, adding $H$ and $X$ later. So, what we have now:\n",
        "\n",
        "- For the final layer's error term: $$E_o = (\\hat y - y) $$  \n",
        "\n",
        "- For the hidden layer's error term:\n",
        "$$\n",
        "E_{h} =(\\hat{y}-y) \\cdot W_{o} \\cdot \\sigma^{\\prime}\\left(Z_{h}\\right)\n",
        "$$\n",
        "\n",
        "Next we can swap in the $E_{o}$ term above to avoid duplication and create a new simplified equation for Hidden layer error:\n",
        "\n",
        "$$\n",
        "E_{h}=E_{o} \\cdot W_{o} \\cdot \\sigma^{\\prime}\\left(Z_{h}\\right)\n",
        "$$\n",
        "\n",
        "This formula is at the core of back propagation. We calculate the current layer's error, and pass it back to the previous layer, continuing the process until we arrive at our first hidden layer. Along the way we update the weights using the derivative of cost with respect to each weight."
      ]
    },
    {
      "cell_type": "code",
      "execution_count": null,
      "id": "0f973261-30dd-4644-987f-a5bccd1c00a6",
      "metadata": {
        "id": "0f973261-30dd-4644-987f-a5bccd1c00a6",
        "outputId": "9f114570-b19c-4f4e-a7b7-6e10828bd924"
      },
      "outputs": [
        {
          "data": {
            "text/plain": [
              "array([[ 0.12476506],\n",
              "       [-0.99675248],\n",
              "       [-0.97660701],\n",
              "       [ 0.07560265]])"
            ]
          },
          "execution_count": 11,
          "metadata": {},
          "output_type": "execute_result"
        }
      ],
      "source": [
        "# output layer error term\n",
        "output_error = output_layer_outputs - y\n",
        "output_error"
      ]
    },
    {
      "cell_type": "code",
      "execution_count": null,
      "id": "3368d188-804d-4ff9-922f-9af0346b9ac4",
      "metadata": {
        "id": "3368d188-804d-4ff9-922f-9af0346b9ac4"
      },
      "outputs": [],
      "source": [
        "#sigmoid(Zh, deriv = True)"
      ]
    },
    {
      "cell_type": "code",
      "execution_count": null,
      "id": "73994d6a-d0b9-49ea-9408-b8e5addc48f2",
      "metadata": {
        "id": "73994d6a-d0b9-49ea-9408-b8e5addc48f2",
        "outputId": "ab8c4e4a-77b1-4e50-a639-9984fb7db906"
      },
      "outputs": [
        {
          "data": {
            "text/plain": [
              "array([[-6.16777077e-08,  1.38133096e-07, -3.20805056e-07],\n",
              "       [-5.85459871e-08,  1.56930820e-07, -1.61214446e-07],\n",
              "       [ 6.99936268e-08, -1.69132414e-07,  2.76134957e-07],\n",
              "       [ 5.46385709e-08, -1.14140578e-07,  2.60841666e-07]])"
            ]
          },
          "execution_count": 81,
          "metadata": {},
          "output_type": "execute_result"
        }
      ],
      "source": [
        "# hidden layer error term\n",
        "hidden_error = sigmoid(Zh, deriv = True) * np.dot(output_error, output_weights.T)\n",
        "hidden_error"
      ]
    },
    {
      "cell_type": "markdown",
      "id": "c1f2bd89-cd98-4b97-8e3e-2a498cdf6e4e",
      "metadata": {
        "id": "c1f2bd89-cd98-4b97-8e3e-2a498cdf6e4e"
      },
      "source": [
        "To find the derivative of cost with respect to any weight in our network, we simply multiply the corresponding layer's error times its input (adding **H**  and  **X**  separated earlier):\n",
        "\n",
        "$$\n",
        "C^{\\prime}(w) =  CurrentLayerInput * CurrentLayerError\n",
        "$$"
      ]
    },
    {
      "cell_type": "code",
      "execution_count": null,
      "id": "784ce73b-c6ef-469c-b97b-4d9b50dd4147",
      "metadata": {
        "id": "784ce73b-c6ef-469c-b97b-4d9b50dd4147"
      },
      "outputs": [],
      "source": [
        "# Calculating the gradients - output layer\n",
        "total_output_gradient= np.dot(hidden_layer_outputs.T, output_error)\n",
        "\n",
        "# Calculating the gradients - hidden layer\n",
        "total_hidden_gradient = np.dot(X.T, hidden_error)"
      ]
    },
    {
      "cell_type": "code",
      "execution_count": null,
      "id": "7688dcba-0e9d-4755-a1ac-47a0347d44e1",
      "metadata": {
        "id": "7688dcba-0e9d-4755-a1ac-47a0347d44e1",
        "outputId": "b9d17975-0f99-4035-e2e8-4d66e52b8e35"
      },
      "outputs": [
        {
          "name": "stdout",
          "output_type": "stream",
          "text": [
            "[[-0.165956    0.44064899 -0.99977132]\n",
            " [-0.39533485 -0.70648824 -0.81532287]\n",
            " [-0.62747958 -0.30887855 -0.20646508]]\n",
            "[[ 0.07763343]\n",
            " [-0.16161109]\n",
            " [ 0.37043908]]\n"
          ]
        }
      ],
      "source": [
        "# update weights\n",
        "hidden_weights += - learning_rate * total_hidden_gradient\n",
        "output_weights += - learning_rate * total_output_gradient\n",
        "print(hidden_weights)\n",
        "print(output_weights)"
      ]
    },
    {
      "cell_type": "markdown",
      "id": "6a9002f4-8a9c-4390-af89-17de2b7e40a2",
      "metadata": {
        "id": "6a9002f4-8a9c-4390-af89-17de2b7e40a2"
      },
      "source": [
        "## Let's assemble everything and train our NN!"
      ]
    },
    {
      "cell_type": "markdown",
      "id": "176f6fa3-2c4e-423b-8954-454d8be3e38e",
      "metadata": {
        "id": "176f6fa3-2c4e-423b-8954-454d8be3e38e"
      },
      "source": [
        "Thus, for a feedforward neural network with sigmoidal hidden units and an identity output unit, the error term equations are as follows:\n",
        "\n",
        "For the final layer's error term: $E_o = (\\hat y - y)\\cdot \\sigma^{\\prime} (Z_o)$  \n",
        "For the hidden layers' error terms:  $E_h = W_o \\cdot E_o \\cdot \\sigma^{\\prime} (Z_h)$   \n",
        "Cost-weights derivatives: $C^{\\prime}(w) =  CurrentLayerInput * CurrentLayerError$\n",
        "\n",
        "\n"
      ]
    },
    {
      "cell_type": "code",
      "execution_count": null,
      "id": "4ba13d71-b8bf-422e-84d0-c7b2803a5290",
      "metadata": {
        "id": "4ba13d71-b8bf-422e-84d0-c7b2803a5290",
        "outputId": "eb691ec6-964f-4c82-d88c-a17df0effdc2"
      },
      "outputs": [
        {
          "name": "stdout",
          "output_type": "stream",
          "text": [
            "Output After Training: \n",
            "[[-5.48117107e-13]\n",
            " [ 1.00000000e+00]\n",
            " [ 1.00000000e+00]\n",
            " [ 5.66546809e-13]]\n",
            "CPU times: user 266 ms, sys: 2.78 ms, total: 269 ms\n",
            "Wall time: 270 ms\n"
          ]
        }
      ],
      "source": [
        "%%time\n",
        "# number of iterations of gradient descent\n",
        "num_iterations = 10000\n",
        "\n",
        "# for each iteration of gradient descent\n",
        "for i in range(num_iterations):\n",
        "\n",
        "    # forward phase\n",
        "    Zh = np.dot(X, hidden_weights)\n",
        "    hidden_layer_outputs = sigmoid(Zh)\n",
        "    output_layer_outputs = np.dot(hidden_layer_outputs, output_weights)\n",
        "\n",
        "\n",
        "    # backward phase\n",
        "\n",
        "    # output layer error term\n",
        "    output_error = output_layer_outputs - y\n",
        "\n",
        "    # hidden layer error term\n",
        "    hidden_error = sigmoid(Zh, deriv = True) * np.dot(output_error, output_weights.T)\n",
        "\n",
        "    # Calculating the gradients - output layer\n",
        "    total_output_gradient= np.dot(hidden_layer_outputs.T, output_error)\n",
        "\n",
        "    # Calculating the gradients - hidden layer\n",
        "    total_hidden_gradient = np.dot(X.T, hidden_error)\n",
        "\n",
        "    # update weights\n",
        "    output_weights += - learning_rate * total_output_gradient # we move down the slope\n",
        "    hidden_weights += - learning_rate * total_hidden_gradient\n",
        "\n",
        "# print the final outputs of the neural network on the inputs X\n",
        "print(\"Output After Training: \\n{}\".format(output_layer_outputs))"
      ]
    },
    {
      "cell_type": "code",
      "execution_count": null,
      "id": "5907f1a7-0b5f-47a3-ad82-451aef362ab2",
      "metadata": {
        "id": "5907f1a7-0b5f-47a3-ad82-451aef362ab2",
        "outputId": "49cbea47-565c-4e25-fb16-69ca1ea11759"
      },
      "outputs": [
        {
          "data": {
            "text/plain": [
              "array([[0],\n",
              "       [1],\n",
              "       [1],\n",
              "       [0]])"
            ]
          },
          "execution_count": 92,
          "metadata": {},
          "output_type": "execute_result"
        }
      ],
      "source": [
        "y"
      ]
    },
    {
      "cell_type": "code",
      "execution_count": null,
      "id": "1ebc55ac-207c-416f-943f-3676bd49d804",
      "metadata": {
        "id": "1ebc55ac-207c-416f-943f-3676bd49d804",
        "outputId": "1dedae26-33ef-4b97-cc90-4bfb4cd25038"
      },
      "outputs": [
        {
          "data": {
            "text/plain": [
              "array([[-1.38587830e-09],\n",
              "       [-1.66805814e-09],\n",
              "       [ 1.66430802e-09],\n",
              "       [ 1.43212964e-09]])"
            ]
          },
          "execution_count": 93,
          "metadata": {},
          "output_type": "execute_result"
        }
      ],
      "source": [
        "output_layer_outputs-y"
      ]
    },
    {
      "cell_type": "code",
      "execution_count": null,
      "id": "62a5e77b-0539-4a40-87b6-ae4f5d821532",
      "metadata": {
        "id": "62a5e77b-0539-4a40-87b6-ae4f5d821532"
      },
      "outputs": [],
      "source": []
    },
    {
      "cell_type": "markdown",
      "id": "36931dc8-503a-4e57-a96e-91dfe0c7afa2",
      "metadata": {
        "id": "36931dc8-503a-4e57-a96e-91dfe0c7afa2"
      },
      "source": [
        "## Vanishing Gradient Problem"
      ]
    },
    {
      "cell_type": "markdown",
      "id": "5befbfa5-b7db-4e36-bfb3-ae7f6d1c1a2a",
      "metadata": {
        "id": "5befbfa5-b7db-4e36-bfb3-ae7f6d1c1a2a"
      },
      "source": [
        "For 1 hidden layer NN we have the following formula for the hidden layer error:\n",
        "$\n",
        "E_h=(\\hat{y}-y) \\cdot W_{o} \\cdot \\sigma^{\\prime}\\left(Z_{h}\\right)\n",
        "$\n",
        "\n",
        "How it will change for the multiple layer NN?\n",
        "\n",
        "It will look something like this for the first hidden layer of the bigger NN (3 layer NN):\n",
        "$\n",
        "E_{h1}=(\\hat{y}-y)\n",
        "\\cdot W_{o} \\cdot \\sigma^{\\prime}\\left(Z_{h3}\\right)  \n",
        "\\cdot W_{h3} \\cdot \\sigma^{\\prime}\\left(Z_{h2}   \\right)\n",
        "\\cdot W_{h2} \\cdot \\sigma^{\\prime}\\left(Z_{h1} \\right)\n",
        "$"
      ]
    },
    {
      "cell_type": "code",
      "execution_count": null,
      "id": "ee2b97da-6c75-4aaa-9ed5-c46d2c7f3183",
      "metadata": {
        "id": "ee2b97da-6c75-4aaa-9ed5-c46d2c7f3183"
      },
      "outputs": [],
      "source": [
        "def sigmoid(x, deriv = False):\n",
        "    if(deriv == True):\n",
        "        return sigmoid(x)*(1-sigmoid(x))\n",
        "    return 1/(1+np.exp(-x))"
      ]
    },
    {
      "cell_type": "code",
      "execution_count": null,
      "id": "778d3668-02cd-4ed3-ab8c-ccf925304340",
      "metadata": {
        "id": "778d3668-02cd-4ed3-ab8c-ccf925304340"
      },
      "outputs": [],
      "source": []
    },
    {
      "cell_type": "code",
      "execution_count": null,
      "id": "79a6247d-933c-411d-88b7-2314197895fc",
      "metadata": {
        "id": "79a6247d-933c-411d-88b7-2314197895fc",
        "outputId": "70d81116-c061-4804-f68f-a12dcdf0b951",
        "colab": {
          "base_uri": "https://localhost:8080/",
          "height": 131
        }
      },
      "outputs": [
        {
          "output_type": "error",
          "ename": "SyntaxError",
          "evalue": "ignored",
          "traceback": [
            "\u001b[0;36m  File \u001b[0;32m\"<ipython-input-2-b8a676fbf0d6>\"\u001b[0;36m, line \u001b[0;32m1\u001b[0m\n\u001b[0;31m    sigmoid(5, deriv = True)**\u001b[0m\n\u001b[0m                              ^\u001b[0m\n\u001b[0;31mSyntaxError\u001b[0m\u001b[0;31m:\u001b[0m invalid syntax\n"
          ]
        }
      ],
      "source": [
        "sigmoid(5, deriv = True)**3"
      ]
    },
    {
      "cell_type": "code",
      "execution_count": null,
      "id": "7adc6aee-4415-4ad8-ac42-d96a09408f20",
      "metadata": {
        "id": "7adc6aee-4415-4ad8-ac42-d96a09408f20"
      },
      "outputs": [],
      "source": []
    },
    {
      "cell_type": "code",
      "execution_count": null,
      "id": "b5e80022-d633-449d-8fa2-4c89a6624b5e",
      "metadata": {
        "id": "b5e80022-d633-449d-8fa2-4c89a6624b5e"
      },
      "outputs": [],
      "source": []
    },
    {
      "cell_type": "code",
      "execution_count": null,
      "id": "e052d2ab-a35e-41d6-b105-a59f148d897b",
      "metadata": {
        "id": "e052d2ab-a35e-41d6-b105-a59f148d897b"
      },
      "outputs": [],
      "source": [
        "# sigmoid multiplication\n",
        "def relu(x, deriv = False):\n",
        "    if(deriv == True):\n",
        "        if x > 0:\n",
        "            return 1\n",
        "        elif x <= 0:\n",
        "            return 0\n",
        "    return max(0.0, x)"
      ]
    },
    {
      "cell_type": "code",
      "execution_count": null,
      "id": "9700e27a-dfea-42cf-be5e-b0cddf8a2be2",
      "metadata": {
        "id": "9700e27a-dfea-42cf-be5e-b0cddf8a2be2",
        "outputId": "da886cf0-1024-4de5-9763-ed2d45edd4c2"
      },
      "outputs": [
        {
          "data": {
            "text/plain": [
              "0"
            ]
          },
          "execution_count": 100,
          "metadata": {},
          "output_type": "execute_result"
        }
      ],
      "source": [
        "# update weights\n",
        "relu(-5, deriv = True)**5"
      ]
    },
    {
      "cell_type": "code",
      "execution_count": null,
      "id": "ee72ed74-c8c3-44d2-a09f-4e04d44d53a4",
      "metadata": {
        "id": "ee72ed74-c8c3-44d2-a09f-4e04d44d53a4"
      },
      "outputs": [],
      "source": [
        "# try other activation functions to see the difference (if you are curious)"
      ]
    },
    {
      "cell_type": "markdown",
      "id": "d828f156-74eb-4c6a-91d8-662c264105ce",
      "metadata": {
        "id": "d828f156-74eb-4c6a-91d8-662c264105ce"
      },
      "source": [
        "## Weights initialization\n",
        "\n",
        "**He Weight Initialization**  \n",
        "https://machinelearningmastery.com/weight-initialization-for-deep-learning-neural-networks/\n",
        "\n",
        "The he initialization method is calculated as a random number with a Gaussian probability distribution (G) with a mean of 0.0 and a standard deviation of sqrt(2/n), where n is the number of inputs to the node.\n",
        "\n",
        "weight = G (0.0, sqrt(2/n))\n",
        "We can implement this directly in Python.\n",
        "$$\\frac 12 n^l Var (W^l) = 1$$"
      ]
    },
    {
      "cell_type": "code",
      "execution_count": null,
      "id": "55511131-ffc7-4134-ac0a-924b9f671ab5",
      "metadata": {
        "id": "55511131-ffc7-4134-ac0a-924b9f671ab5",
        "outputId": "a75e423a-e03e-42af-a8d8-91057c79d5be"
      },
      "outputs": [
        {
          "data": {
            "text/plain": [
              "array([[ 0.26049433, -0.20361006,  1.19380613],\n",
              "       [-1.68209785, -0.26325254, -0.31357907],\n",
              "       [ 0.92571887, -0.89805746, -0.14078704]])"
            ]
          },
          "execution_count": 55,
          "metadata": {},
          "output_type": "execute_result"
        }
      ],
      "source": [
        "w=np.random.randn(X.shape[1],num_hidden)*np.sqrt(2/X.shape[1])\n",
        "w"
      ]
    },
    {
      "cell_type": "code",
      "execution_count": null,
      "id": "b8de55a6-79f6-46c7-a438-66e74d1c4a8e",
      "metadata": {
        "id": "b8de55a6-79f6-46c7-a438-66e74d1c4a8e"
      },
      "outputs": [],
      "source": []
    }
  ],
  "metadata": {
    "kernelspec": {
      "display_name": "Python 3 (ipykernel)",
      "language": "python",
      "name": "python3"
    },
    "language_info": {
      "codemirror_mode": {
        "name": "ipython",
        "version": 3
      },
      "file_extension": ".py",
      "mimetype": "text/x-python",
      "name": "python",
      "nbconvert_exporter": "python",
      "pygments_lexer": "ipython3",
      "version": "3.9.7"
    },
    "colab": {
      "provenance": [],
      "include_colab_link": true
    }
  },
  "nbformat": 4,
  "nbformat_minor": 5
}