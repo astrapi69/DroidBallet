{
  "cells": [
    {
      "cell_type": "markdown",
      "metadata": {
        "id": "view-in-github",
        "colab_type": "text"
      },
      "source": [
        "<a href=\"https://colab.research.google.com/github/astrapi69/DroidBallet/blob/master/ML_Manufacturing_Machine_Anomaly_Detection.ipynb\" target=\"_parent\"><img src=\"https://colab.research.google.com/assets/colab-badge.svg\" alt=\"Open In Colab\"/></a>"
      ]
    },
    {
      "cell_type": "markdown",
      "metadata": {
        "id": "5gTy8DRrHiXm",
        "papermill": {
          "duration": 0.058972,
          "end_time": "2020-09-29T09:37:41.037375",
          "exception": false,
          "start_time": "2020-09-29T09:37:40.978403",
          "status": "completed"
        },
        "tags": []
      },
      "source": [
        "# Exercises"
      ]
    },
    {
      "cell_type": "code",
      "execution_count": null,
      "metadata": {
        "id": "rSoE-f8PfLHc"
      },
      "outputs": [],
      "source": [
        "# install if needed\n",
        "#!pip install pyod"
      ]
    },
    {
      "cell_type": "markdown",
      "metadata": {
        "id": "cTohKP1YHiXo",
        "papermill": {
          "duration": 0.046735,
          "end_time": "2020-09-29T09:37:41.363078",
          "exception": false,
          "start_time": "2020-09-29T09:37:41.316343",
          "status": "completed"
        },
        "tags": []
      },
      "source": [
        "## Overview: Manufacturing Machine Anomaly Detection\n",
        "\n",
        "### Project Detail\n",
        "\n",
        ">In this project, we use [NAB-dataset](https://drive.google.com/file/d/12fFZ9k8wsmWBVUhcsVxmKsqHxaVzAzqt/view?usp=sharing), which is a novel benchmark for evaluating algorithms for anomaly detection in several fields.  \n",
        ">There are 58 timeseries data from various kind of sources.\n",
        ">* **Real data**\n",
        ">    * realAWSCloudwatch\n",
        ">    * realAdExchange\n",
        ">    * realKnownCause\n",
        ">    * realTraffic\n",
        ">    * realTweets\n",
        ">* **Artificial data**\n",
        ">    * artificialNoAnomaly\n",
        ">    * artificialWithAnomaly\n",
        ">\n",
        ">Among these datasets, you will analyze **'machine_temperature_system_failure'** from realKnownCause dataset which focuses on an actual manufacturing device.\n",
        "\n",
        ">This dataset does not include which were the actual anomaly rows, so we need to refer to the [NAB github page](https://github.com/numenta/NAB/blob/master/labels/combined_windows.json).\n",
        "\n",
        "\n"
      ]
    },
    {
      "cell_type": "markdown",
      "metadata": {
        "id": "RrEwjmNKHiXq",
        "papermill": {
          "duration": 0.123786,
          "end_time": "2020-09-29T09:38:00.753584",
          "exception": false,
          "start_time": "2020-09-29T09:38:00.629798",
          "status": "completed"
        },
        "tags": []
      },
      "source": [
        "### Load the dataset\n",
        ">As above, we use 'machine_temperature_system_failure.csv' for our analysis.  \n",
        ">According to dataset information, it has the following features :\n",
        ">* Temperature sensor data of an internal component of a large, industrial machine."
      ]
    },
    {
      "cell_type": "code",
      "execution_count": null,
      "metadata": {
        "_kg_hide-output": true,
        "execution": {
          "iopub.execute_input": "2020-09-29T09:38:01.284659Z",
          "iopub.status.busy": "2020-09-29T09:38:01.283870Z",
          "iopub.status.idle": "2020-09-29T09:38:01.341536Z",
          "shell.execute_reply": "2020-09-29T09:38:01.340687Z"
        },
        "id": "meB98fTYHiXq",
        "papermill": {
          "duration": 0.190038,
          "end_time": "2020-09-29T09:38:01.341673",
          "exception": false,
          "start_time": "2020-09-29T09:38:01.151635",
          "status": "completed"
        },
        "tags": [],
        "colab": {
          "base_uri": "https://localhost:8080/",
          "height": 363
        },
        "outputId": "a4a9b081-4ae7-4ac1-d382-6e9a9921167e"
      },
      "outputs": [
        {
          "output_type": "execute_result",
          "data": {
            "text/plain": [
              "             timestamp      value\n",
              "0  2013-12-02 21:15:00  73.967322\n",
              "1  2013-12-02 21:20:00  74.935882\n",
              "2  2013-12-02 21:25:00  76.124162\n",
              "3  2013-12-02 21:30:00  78.140707\n",
              "4  2013-12-02 21:35:00  79.329836\n",
              "5  2013-12-02 21:40:00  78.710418\n",
              "6  2013-12-02 21:45:00  80.269784\n",
              "7  2013-12-02 21:50:00  80.272828\n",
              "8  2013-12-02 21:55:00  80.353425\n",
              "9  2013-12-02 22:00:00  79.486523"
            ],
            "text/html": [
              "\n",
              "  <div id=\"df-fc3ad073-bbd3-404e-b1f3-5b8c00123db6\" class=\"colab-df-container\">\n",
              "    <div>\n",
              "<style scoped>\n",
              "    .dataframe tbody tr th:only-of-type {\n",
              "        vertical-align: middle;\n",
              "    }\n",
              "\n",
              "    .dataframe tbody tr th {\n",
              "        vertical-align: top;\n",
              "    }\n",
              "\n",
              "    .dataframe thead th {\n",
              "        text-align: right;\n",
              "    }\n",
              "</style>\n",
              "<table border=\"1\" class=\"dataframe\">\n",
              "  <thead>\n",
              "    <tr style=\"text-align: right;\">\n",
              "      <th></th>\n",
              "      <th>timestamp</th>\n",
              "      <th>value</th>\n",
              "    </tr>\n",
              "  </thead>\n",
              "  <tbody>\n",
              "    <tr>\n",
              "      <th>0</th>\n",
              "      <td>2013-12-02 21:15:00</td>\n",
              "      <td>73.967322</td>\n",
              "    </tr>\n",
              "    <tr>\n",
              "      <th>1</th>\n",
              "      <td>2013-12-02 21:20:00</td>\n",
              "      <td>74.935882</td>\n",
              "    </tr>\n",
              "    <tr>\n",
              "      <th>2</th>\n",
              "      <td>2013-12-02 21:25:00</td>\n",
              "      <td>76.124162</td>\n",
              "    </tr>\n",
              "    <tr>\n",
              "      <th>3</th>\n",
              "      <td>2013-12-02 21:30:00</td>\n",
              "      <td>78.140707</td>\n",
              "    </tr>\n",
              "    <tr>\n",
              "      <th>4</th>\n",
              "      <td>2013-12-02 21:35:00</td>\n",
              "      <td>79.329836</td>\n",
              "    </tr>\n",
              "    <tr>\n",
              "      <th>5</th>\n",
              "      <td>2013-12-02 21:40:00</td>\n",
              "      <td>78.710418</td>\n",
              "    </tr>\n",
              "    <tr>\n",
              "      <th>6</th>\n",
              "      <td>2013-12-02 21:45:00</td>\n",
              "      <td>80.269784</td>\n",
              "    </tr>\n",
              "    <tr>\n",
              "      <th>7</th>\n",
              "      <td>2013-12-02 21:50:00</td>\n",
              "      <td>80.272828</td>\n",
              "    </tr>\n",
              "    <tr>\n",
              "      <th>8</th>\n",
              "      <td>2013-12-02 21:55:00</td>\n",
              "      <td>80.353425</td>\n",
              "    </tr>\n",
              "    <tr>\n",
              "      <th>9</th>\n",
              "      <td>2013-12-02 22:00:00</td>\n",
              "      <td>79.486523</td>\n",
              "    </tr>\n",
              "  </tbody>\n",
              "</table>\n",
              "</div>\n",
              "    <div class=\"colab-df-buttons\">\n",
              "\n",
              "  <div class=\"colab-df-container\">\n",
              "    <button class=\"colab-df-convert\" onclick=\"convertToInteractive('df-fc3ad073-bbd3-404e-b1f3-5b8c00123db6')\"\n",
              "            title=\"Convert this dataframe to an interactive table.\"\n",
              "            style=\"display:none;\">\n",
              "\n",
              "  <svg xmlns=\"http://www.w3.org/2000/svg\" height=\"24px\" viewBox=\"0 -960 960 960\">\n",
              "    <path d=\"M120-120v-720h720v720H120Zm60-500h600v-160H180v160Zm220 220h160v-160H400v160Zm0 220h160v-160H400v160ZM180-400h160v-160H180v160Zm440 0h160v-160H620v160ZM180-180h160v-160H180v160Zm440 0h160v-160H620v160Z\"/>\n",
              "  </svg>\n",
              "    </button>\n",
              "\n",
              "  <style>\n",
              "    .colab-df-container {\n",
              "      display:flex;\n",
              "      gap: 12px;\n",
              "    }\n",
              "\n",
              "    .colab-df-convert {\n",
              "      background-color: #E8F0FE;\n",
              "      border: none;\n",
              "      border-radius: 50%;\n",
              "      cursor: pointer;\n",
              "      display: none;\n",
              "      fill: #1967D2;\n",
              "      height: 32px;\n",
              "      padding: 0 0 0 0;\n",
              "      width: 32px;\n",
              "    }\n",
              "\n",
              "    .colab-df-convert:hover {\n",
              "      background-color: #E2EBFA;\n",
              "      box-shadow: 0px 1px 2px rgba(60, 64, 67, 0.3), 0px 1px 3px 1px rgba(60, 64, 67, 0.15);\n",
              "      fill: #174EA6;\n",
              "    }\n",
              "\n",
              "    .colab-df-buttons div {\n",
              "      margin-bottom: 4px;\n",
              "    }\n",
              "\n",
              "    [theme=dark] .colab-df-convert {\n",
              "      background-color: #3B4455;\n",
              "      fill: #D2E3FC;\n",
              "    }\n",
              "\n",
              "    [theme=dark] .colab-df-convert:hover {\n",
              "      background-color: #434B5C;\n",
              "      box-shadow: 0px 1px 3px 1px rgba(0, 0, 0, 0.15);\n",
              "      filter: drop-shadow(0px 1px 2px rgba(0, 0, 0, 0.3));\n",
              "      fill: #FFFFFF;\n",
              "    }\n",
              "  </style>\n",
              "\n",
              "    <script>\n",
              "      const buttonEl =\n",
              "        document.querySelector('#df-fc3ad073-bbd3-404e-b1f3-5b8c00123db6 button.colab-df-convert');\n",
              "      buttonEl.style.display =\n",
              "        google.colab.kernel.accessAllowed ? 'block' : 'none';\n",
              "\n",
              "      async function convertToInteractive(key) {\n",
              "        const element = document.querySelector('#df-fc3ad073-bbd3-404e-b1f3-5b8c00123db6');\n",
              "        const dataTable =\n",
              "          await google.colab.kernel.invokeFunction('convertToInteractive',\n",
              "                                                    [key], {});\n",
              "        if (!dataTable) return;\n",
              "\n",
              "        const docLinkHtml = 'Like what you see? Visit the ' +\n",
              "          '<a target=\"_blank\" href=https://colab.research.google.com/notebooks/data_table.ipynb>data table notebook</a>'\n",
              "          + ' to learn more about interactive tables.';\n",
              "        element.innerHTML = '';\n",
              "        dataTable['output_type'] = 'display_data';\n",
              "        await google.colab.output.renderOutput(dataTable, element);\n",
              "        const docLink = document.createElement('div');\n",
              "        docLink.innerHTML = docLinkHtml;\n",
              "        element.appendChild(docLink);\n",
              "      }\n",
              "    </script>\n",
              "  </div>\n",
              "\n",
              "\n",
              "<div id=\"df-4b98aab5-2b42-4024-85c1-d2f57ca68cf1\">\n",
              "  <button class=\"colab-df-quickchart\" onclick=\"quickchart('df-4b98aab5-2b42-4024-85c1-d2f57ca68cf1')\"\n",
              "            title=\"Suggest charts\"\n",
              "            style=\"display:none;\">\n",
              "\n",
              "<svg xmlns=\"http://www.w3.org/2000/svg\" height=\"24px\"viewBox=\"0 0 24 24\"\n",
              "     width=\"24px\">\n",
              "    <g>\n",
              "        <path d=\"M19 3H5c-1.1 0-2 .9-2 2v14c0 1.1.9 2 2 2h14c1.1 0 2-.9 2-2V5c0-1.1-.9-2-2-2zM9 17H7v-7h2v7zm4 0h-2V7h2v10zm4 0h-2v-4h2v4z\"/>\n",
              "    </g>\n",
              "</svg>\n",
              "  </button>\n",
              "\n",
              "<style>\n",
              "  .colab-df-quickchart {\n",
              "      --bg-color: #E8F0FE;\n",
              "      --fill-color: #1967D2;\n",
              "      --hover-bg-color: #E2EBFA;\n",
              "      --hover-fill-color: #174EA6;\n",
              "      --disabled-fill-color: #AAA;\n",
              "      --disabled-bg-color: #DDD;\n",
              "  }\n",
              "\n",
              "  [theme=dark] .colab-df-quickchart {\n",
              "      --bg-color: #3B4455;\n",
              "      --fill-color: #D2E3FC;\n",
              "      --hover-bg-color: #434B5C;\n",
              "      --hover-fill-color: #FFFFFF;\n",
              "      --disabled-bg-color: #3B4455;\n",
              "      --disabled-fill-color: #666;\n",
              "  }\n",
              "\n",
              "  .colab-df-quickchart {\n",
              "    background-color: var(--bg-color);\n",
              "    border: none;\n",
              "    border-radius: 50%;\n",
              "    cursor: pointer;\n",
              "    display: none;\n",
              "    fill: var(--fill-color);\n",
              "    height: 32px;\n",
              "    padding: 0;\n",
              "    width: 32px;\n",
              "  }\n",
              "\n",
              "  .colab-df-quickchart:hover {\n",
              "    background-color: var(--hover-bg-color);\n",
              "    box-shadow: 0 1px 2px rgba(60, 64, 67, 0.3), 0 1px 3px 1px rgba(60, 64, 67, 0.15);\n",
              "    fill: var(--button-hover-fill-color);\n",
              "  }\n",
              "\n",
              "  .colab-df-quickchart-complete:disabled,\n",
              "  .colab-df-quickchart-complete:disabled:hover {\n",
              "    background-color: var(--disabled-bg-color);\n",
              "    fill: var(--disabled-fill-color);\n",
              "    box-shadow: none;\n",
              "  }\n",
              "\n",
              "  .colab-df-spinner {\n",
              "    border: 2px solid var(--fill-color);\n",
              "    border-color: transparent;\n",
              "    border-bottom-color: var(--fill-color);\n",
              "    animation:\n",
              "      spin 1s steps(1) infinite;\n",
              "  }\n",
              "\n",
              "  @keyframes spin {\n",
              "    0% {\n",
              "      border-color: transparent;\n",
              "      border-bottom-color: var(--fill-color);\n",
              "      border-left-color: var(--fill-color);\n",
              "    }\n",
              "    20% {\n",
              "      border-color: transparent;\n",
              "      border-left-color: var(--fill-color);\n",
              "      border-top-color: var(--fill-color);\n",
              "    }\n",
              "    30% {\n",
              "      border-color: transparent;\n",
              "      border-left-color: var(--fill-color);\n",
              "      border-top-color: var(--fill-color);\n",
              "      border-right-color: var(--fill-color);\n",
              "    }\n",
              "    40% {\n",
              "      border-color: transparent;\n",
              "      border-right-color: var(--fill-color);\n",
              "      border-top-color: var(--fill-color);\n",
              "    }\n",
              "    60% {\n",
              "      border-color: transparent;\n",
              "      border-right-color: var(--fill-color);\n",
              "    }\n",
              "    80% {\n",
              "      border-color: transparent;\n",
              "      border-right-color: var(--fill-color);\n",
              "      border-bottom-color: var(--fill-color);\n",
              "    }\n",
              "    90% {\n",
              "      border-color: transparent;\n",
              "      border-bottom-color: var(--fill-color);\n",
              "    }\n",
              "  }\n",
              "</style>\n",
              "\n",
              "  <script>\n",
              "    async function quickchart(key) {\n",
              "      const quickchartButtonEl =\n",
              "        document.querySelector('#' + key + ' button');\n",
              "      quickchartButtonEl.disabled = true;  // To prevent multiple clicks.\n",
              "      quickchartButtonEl.classList.add('colab-df-spinner');\n",
              "      try {\n",
              "        const charts = await google.colab.kernel.invokeFunction(\n",
              "            'suggestCharts', [key], {});\n",
              "      } catch (error) {\n",
              "        console.error('Error during call to suggestCharts:', error);\n",
              "      }\n",
              "      quickchartButtonEl.classList.remove('colab-df-spinner');\n",
              "      quickchartButtonEl.classList.add('colab-df-quickchart-complete');\n",
              "    }\n",
              "    (() => {\n",
              "      let quickchartButtonEl =\n",
              "        document.querySelector('#df-4b98aab5-2b42-4024-85c1-d2f57ca68cf1 button');\n",
              "      quickchartButtonEl.style.display =\n",
              "        google.colab.kernel.accessAllowed ? 'block' : 'none';\n",
              "    })();\n",
              "  </script>\n",
              "</div>\n",
              "    </div>\n",
              "  </div>\n"
            ]
          },
          "metadata": {},
          "execution_count": 2
        }
      ],
      "source": [
        "import pandas as pd\n",
        "\n",
        "orig_url = \"https://drive.google.com/file/d/12fFZ9k8wsmWBVUhcsVxmKsqHxaVzAzqt/view?usp=sharing\"\n",
        "file_id = orig_url.split('/')[-2]\n",
        "data_path='https://drive.google.com/uc?export=download&id=' + file_id\n",
        "\n",
        "df = pd.read_csv(data_path)\n",
        "df.head(10)"
      ]
    },
    {
      "cell_type": "markdown",
      "metadata": {
        "id": "4DtTRRrZHiXr",
        "papermill": {
          "duration": 0.124664,
          "end_time": "2020-09-29T09:38:01.843630",
          "exception": false,
          "start_time": "2020-09-29T09:38:01.718966",
          "status": "completed"
        },
        "tags": []
      },
      "source": [
        "### Pre-processing"
      ]
    },
    {
      "cell_type": "markdown",
      "metadata": {
        "id": "j31rues2HiXr",
        "papermill": {
          "duration": 0.126208,
          "end_time": "2020-09-29T09:38:02.095266",
          "exception": false,
          "start_time": "2020-09-29T09:38:01.969058",
          "status": "completed"
        },
        "tags": []
      },
      "source": [
        "#### Anomaly Points\n",
        ">We can get anomaly points information [here](https://github.com/numenta/NAB/blob/master/labels/combined_windows.json)\n",
        "\n",
        "This is usually rare unless we get feedback from domain experts regarding which days there was an issue \\ anomaly in the machine.\n",
        "\n",
        "But we can use this to generate ground truth labels for each row of data in terms of whether it was truly an anomaly or not!"
      ]
    },
    {
      "cell_type": "code",
      "execution_count": null,
      "metadata": {
        "execution": {
          "iopub.execute_input": "2020-09-29T09:38:02.356296Z",
          "iopub.status.busy": "2020-09-29T09:38:02.355077Z",
          "iopub.status.idle": "2020-09-29T09:38:02.358948Z",
          "shell.execute_reply": "2020-09-29T09:38:02.358327Z"
        },
        "id": "a7hH2U_nHiXr",
        "papermill": {
          "duration": 0.137288,
          "end_time": "2020-09-29T09:38:02.359085",
          "exception": false,
          "start_time": "2020-09-29T09:38:02.221797",
          "status": "completed"
        },
        "tags": []
      },
      "outputs": [],
      "source": [
        "anomaly_points = [\n",
        "        [\"2013-12-10 06:25:00.000000\",\"2013-12-12 05:35:00.000000\"],\n",
        "        [\"2013-12-15 17:50:00.000000\",\"2013-12-17 17:00:00.000000\"],\n",
        "        [\"2014-01-27 14:20:00.000000\",\"2014-01-29 13:30:00.000000\"],\n",
        "        [\"2014-02-07 14:55:00.000000\",\"2014-02-09 14:05:00.000000\"]\n",
        "]"
      ]
    },
    {
      "cell_type": "code",
      "execution_count": null,
      "metadata": {
        "execution": {
          "iopub.execute_input": "2020-09-29T09:38:02.629860Z",
          "iopub.status.busy": "2020-09-29T09:38:02.627479Z",
          "iopub.status.idle": "2020-09-29T09:38:02.640938Z",
          "shell.execute_reply": "2020-09-29T09:38:02.640207Z"
        },
        "id": "2cbOscGZHiXs",
        "papermill": {
          "duration": 0.156193,
          "end_time": "2020-09-29T09:38:02.641086",
          "exception": false,
          "start_time": "2020-09-29T09:38:02.484893",
          "status": "completed"
        },
        "tags": []
      },
      "outputs": [],
      "source": [
        "df['timestamp'] = pd.to_datetime(df['timestamp'])\n",
        "\n",
        "#is anomaly? : True => 1, False => 0\n",
        "\n",
        "# by default nothing is an anomaly\n",
        "df['anomaly'] = 0\n",
        "\n",
        "# convert time slices of data as anomalies (in the anomaly column) by setting it to 1\n",
        "for start, end in anomaly_points:\n",
        "    df.loc[((df['timestamp'] >= start) & (df['timestamp'] <= end)), 'anomaly'] = 1"
      ]
    },
    {
      "cell_type": "code",
      "execution_count": null,
      "metadata": {
        "id": "bLxfb0GoRC7X"
      },
      "outputs": [],
      "source": [
        "df['anomaly'].value_counts()"
      ]
    },
    {
      "cell_type": "code",
      "execution_count": null,
      "metadata": {
        "id": "eJmELK_RRTkv"
      },
      "outputs": [],
      "source": [
        "df['anomaly'].value_counts(normalize=True)"
      ]
    },
    {
      "cell_type": "markdown",
      "metadata": {
        "id": "5U3pBMHfHiXt",
        "papermill": {
          "duration": 0.126344,
          "end_time": "2020-09-29T09:38:04.572041",
          "exception": false,
          "start_time": "2020-09-29T09:38:04.445697",
          "status": "completed"
        },
        "tags": []
      },
      "source": [
        "Roughly 10% of data has anomalies"
      ]
    },
    {
      "cell_type": "markdown",
      "metadata": {
        "id": "LLVh1taJHiXt",
        "papermill": {
          "duration": 0.128017,
          "end_time": "2020-09-29T09:38:04.826470",
          "exception": false,
          "start_time": "2020-09-29T09:38:04.698453",
          "status": "completed"
        },
        "tags": []
      },
      "source": [
        "## EDA"
      ]
    },
    {
      "cell_type": "markdown",
      "metadata": {
        "id": "i3iA4Ld_SGS8"
      },
      "source": [
        "Let's plot some graphs now!"
      ]
    },
    {
      "cell_type": "code",
      "execution_count": null,
      "metadata": {
        "id": "bO7nFr13SKxT"
      },
      "outputs": [],
      "source": [
        "# creating a separate DF to use for visuals \\ adding time elements\n",
        "visual_df = df.copy()"
      ]
    },
    {
      "cell_type": "markdown",
      "metadata": {
        "id": "IniimuS1HiXs",
        "papermill": {
          "duration": 0.124253,
          "end_time": "2020-09-29T09:38:02.890165",
          "exception": false,
          "start_time": "2020-09-29T09:38:02.765912",
          "status": "completed"
        },
        "tags": []
      },
      "source": [
        "### Datetime Information"
      ]
    },
    {
      "cell_type": "code",
      "execution_count": null,
      "metadata": {
        "execution": {
          "iopub.execute_input": "2020-09-29T09:38:03.185194Z",
          "iopub.status.busy": "2020-09-29T09:38:03.174784Z",
          "iopub.status.idle": "2020-09-29T09:38:04.031640Z",
          "shell.execute_reply": "2020-09-29T09:38:04.030798Z"
        },
        "id": "ISo46hMtHiXs",
        "papermill": {
          "duration": 1.016537,
          "end_time": "2020-09-29T09:38:04.031792",
          "exception": false,
          "start_time": "2020-09-29T09:38:03.015255",
          "status": "completed"
        },
        "tags": []
      },
      "outputs": [],
      "source": [
        "visual_df['year'] = df['timestamp'].dt.year\n",
        "visual_df['month'] = df['timestamp'].dt.month\n",
        "visual_df['day'] = df['timestamp'].dt.day_name()\n",
        "visual_df['hour'] = df['timestamp'].dt.hour"
      ]
    },
    {
      "cell_type": "code",
      "execution_count": null,
      "metadata": {
        "id": "dOIQ1YOXTNyj"
      },
      "outputs": [],
      "source": [
        "visual_df.head()"
      ]
    },
    {
      "cell_type": "code",
      "execution_count": null,
      "metadata": {
        "id": "_XWczf1OT4Js"
      },
      "outputs": [],
      "source": [
        "import seaborn as sns\n",
        "import matplotlib.pyplot as plt\n"
      ]
    },
    {
      "cell_type": "markdown",
      "metadata": {
        "id": "KMJtI1rHlqhB"
      },
      "source": [
        "### Looking at Anomalies based on Year, Month and Weekday"
      ]
    },
    {
      "cell_type": "code",
      "execution_count": null,
      "metadata": {
        "id": "oNW8i6RwURhZ"
      },
      "outputs": [],
      "source": [
        "sns.countplot(x='year', hue='anomaly', data=visual_df);"
      ]
    },
    {
      "cell_type": "code",
      "execution_count": null,
      "metadata": {
        "id": "RYomfcRYVrpv"
      },
      "outputs": [],
      "source": [
        "sns.countplot(x='month', hue='anomaly', data=visual_df);"
      ]
    },
    {
      "cell_type": "code",
      "execution_count": null,
      "metadata": {
        "id": "cOKpQIpdVubo"
      },
      "outputs": [],
      "source": [
        "sns.countplot(x='day', hue='anomaly', data=visual_df);"
      ]
    },
    {
      "cell_type": "markdown",
      "metadata": {
        "id": "Tu18KaNxlwwn"
      },
      "source": [
        "### Visualizing Anomaly Distributions"
      ]
    },
    {
      "cell_type": "code",
      "execution_count": null,
      "metadata": {
        "id": "pXjG1vByV3c5"
      },
      "outputs": [],
      "source": [
        "sns.kdeplot(x='value', hue='anomaly', data=visual_df, shade=True);"
      ]
    },
    {
      "cell_type": "code",
      "execution_count": null,
      "metadata": {
        "id": "_jRZY-dDWGxd"
      },
      "outputs": [],
      "source": [
        "sns.boxplot(y='value', x='anomaly', data=visual_df);"
      ]
    },
    {
      "cell_type": "markdown",
      "metadata": {
        "id": "AKzbuMbzHiXv",
        "papermill": {
          "duration": 0.130313,
          "end_time": "2020-09-29T09:38:08.498711",
          "exception": false,
          "start_time": "2020-09-29T09:38:08.368398",
          "status": "completed"
        },
        "tags": []
      },
      "source": [
        "### Time Series Analysis"
      ]
    },
    {
      "cell_type": "markdown",
      "metadata": {
        "id": "6j-j34VNHiXw",
        "papermill": {
          "duration": 0.134217,
          "end_time": "2020-09-29T09:38:08.763687",
          "exception": false,
          "start_time": "2020-09-29T09:38:08.629470",
          "status": "completed"
        },
        "tags": []
      },
      "source": [
        ">plot temperature & its given anomaly points."
      ]
    },
    {
      "cell_type": "code",
      "execution_count": null,
      "metadata": {
        "_kg_hide-input": true,
        "execution": {
          "iopub.execute_input": "2020-09-29T09:38:09.042397Z",
          "iopub.status.busy": "2020-09-29T09:38:09.041467Z",
          "iopub.status.idle": "2020-09-29T09:38:09.487926Z",
          "shell.execute_reply": "2020-09-29T09:38:09.488672Z"
        },
        "id": "NcP4Yc6LHiXw",
        "papermill": {
          "duration": 0.592937,
          "end_time": "2020-09-29T09:38:09.488867",
          "exception": false,
          "start_time": "2020-09-29T09:38:08.895930",
          "status": "completed"
        },
        "tags": []
      },
      "outputs": [],
      "source": [
        "plt.figure(figsize=(16, 6))\n",
        "sns.scatterplot(x='timestamp', y='value', data=visual_df, marker=\".\");"
      ]
    },
    {
      "cell_type": "code",
      "execution_count": null,
      "metadata": {
        "id": "MGK6q2sgX1Gt"
      },
      "outputs": [],
      "source": [
        "plt.figure(figsize=(16, 6))\n",
        "sns.scatterplot(x='timestamp', y='value', data=visual_df, hue='anomaly', marker=\".\");"
      ]
    },
    {
      "cell_type": "markdown",
      "metadata": {
        "id": "udpFtkRzHiXx",
        "papermill": {
          "duration": 0.144746,
          "end_time": "2020-09-29T09:38:10.188005",
          "exception": false,
          "start_time": "2020-09-29T09:38:10.043259",
          "status": "completed"
        },
        "tags": []
      },
      "source": [
        "<a href=\"#top\" class=\"btn btn-success btn-sm active\" role=\"button\" aria-pressed=\"true\" style=\"color:white;\">Table of Contents</a>"
      ]
    },
    {
      "cell_type": "markdown",
      "metadata": {
        "id": "-CAj2XfsHiXx",
        "papermill": {
          "duration": 0.142178,
          "end_time": "2020-09-29T09:38:10.474891",
          "exception": false,
          "start_time": "2020-09-29T09:38:10.332713",
          "status": "completed"
        },
        "tags": []
      },
      "source": [
        "## Modeling\n",
        ">We will build several anomaly detection models and compare them each other. Let's create our datset `X` and ground truth labels `y`. Remember to use `y` only to evaluate model performance. In reality you are not supposed to know `y` beforehand. So don't use it for modeling\n",
        "\n",
        "We will train and evaluate the following models\n",
        "\n",
        "- 3-Sigma\n",
        "- Boxplot\n",
        "- Local Outlier Factor (LOF)\n",
        "- Isolation Forest\n",
        "- Mean Absolute Deviation (MAD)"
      ]
    },
    {
      "cell_type": "markdown",
      "metadata": {
        "id": "1ASudXABmGaj"
      },
      "source": [
        "### Prepare Dataset"
      ]
    },
    {
      "cell_type": "code",
      "execution_count": null,
      "metadata": {
        "id": "6er8SZi8adV3"
      },
      "outputs": [],
      "source": [
        "X = df[['timestamp', 'value']]\n",
        "y = df['anomaly']\n",
        "\n",
        "X.head()"
      ]
    },
    {
      "cell_type": "markdown",
      "metadata": {
        "id": "Rp6LWfm0HiXx",
        "papermill": {
          "duration": 0.141979,
          "end_time": "2020-09-29T09:38:10.759225",
          "exception": false,
          "start_time": "2020-09-29T09:38:10.617246",
          "status": "completed"
        },
        "tags": []
      },
      "source": [
        "### Model: 1. The 3-sigma Model\n",
        "\n",
        "Compute mean and standard deviation and use the 3-STD (3-sigma) rule to compute the lower and upper limit.\n",
        "\n",
        "Remember,\n",
        "\n",
        "LL = mean - 3sigma\n",
        "UL = mean + 3sigma\n",
        "\n",
        "Find out if each row of data is an outlier or not based on the temperature (`value`) column from `X` and compute performance using the ground truth labels in `y` using `classification_report`"
      ]
    },
    {
      "cell_type": "markdown",
      "metadata": {
        "id": "8kSCuJqud4iN"
      },
      "source": [
        "#### Build Model and Compute Outliers"
      ]
    },
    {
      "cell_type": "code",
      "execution_count": null,
      "metadata": {
        "id": "xr1b_W_IcdUU"
      },
      "outputs": [],
      "source": []
    },
    {
      "cell_type": "code",
      "execution_count": null,
      "metadata": {
        "id": "Zc6vxdqIcrWv"
      },
      "outputs": [],
      "source": []
    },
    {
      "cell_type": "markdown",
      "metadata": {
        "id": "IzPW2sZUd_CX"
      },
      "source": [
        "#### Evaluate Model Performance"
      ]
    },
    {
      "cell_type": "code",
      "execution_count": null,
      "metadata": {
        "id": "0tQPe3Uqcv0Z"
      },
      "outputs": [],
      "source": [
        "from sklearn.metrics import classification_report\n",
        "\n"
      ]
    },
    {
      "cell_type": "markdown",
      "metadata": {
        "id": "76RtwrtIeBn_"
      },
      "source": [
        "#### Visualize Outliers using TimeSeries\n",
        "\n",
        "Use a similar scatterplot as before"
      ]
    },
    {
      "cell_type": "code",
      "execution_count": null,
      "metadata": {
        "id": "_CQoPi0Jcr9O"
      },
      "outputs": [],
      "source": []
    },
    {
      "cell_type": "markdown",
      "metadata": {
        "id": "luihuALXeQQ-",
        "papermill": {
          "duration": 0.141979,
          "end_time": "2020-09-29T09:38:10.759225",
          "exception": false,
          "start_time": "2020-09-29T09:38:10.617246",
          "status": "completed"
        },
        "tags": []
      },
      "source": [
        "### Model: 2. The Box-Plot Model\n",
        "\n",
        "Compute Q1 and Q3 and use the IQR rule to compute the lower and upper whiskers.\n",
        "\n",
        "Remember,\n",
        "\n",
        "LW = Q1 - 1.5xIQR\n",
        "UW = Q3 + 1.5xIQR\n",
        "\n",
        "Find out if each row of data is an outlier or not based on the temperature (`value`) column from `X` and compute performance using the ground truth labels in `y` using `classification_report`"
      ]
    },
    {
      "cell_type": "markdown",
      "metadata": {
        "id": "jrSU3rI3eQRA"
      },
      "source": [
        "#### Build Model and Compute Outliers"
      ]
    },
    {
      "cell_type": "code",
      "execution_count": null,
      "metadata": {
        "id": "s0aU-RpIeQRA"
      },
      "outputs": [],
      "source": []
    },
    {
      "cell_type": "code",
      "execution_count": null,
      "metadata": {
        "id": "RojuKuR9eQRB"
      },
      "outputs": [],
      "source": []
    },
    {
      "cell_type": "markdown",
      "metadata": {
        "id": "F4SVybrpeQRB"
      },
      "source": [
        "#### Evaluate Model Performance"
      ]
    },
    {
      "cell_type": "code",
      "execution_count": null,
      "metadata": {
        "id": "BeTKZn5ueQRB"
      },
      "outputs": [],
      "source": []
    },
    {
      "cell_type": "markdown",
      "metadata": {
        "id": "mEbnhsEheQRC"
      },
      "source": [
        "#### Visualize Outliers using TimeSeries\n",
        "\n",
        "Use a similar scatterplot as before"
      ]
    },
    {
      "cell_type": "code",
      "execution_count": null,
      "metadata": {
        "id": "5HS5jfXveQRC"
      },
      "outputs": [],
      "source": []
    },
    {
      "cell_type": "markdown",
      "metadata": {
        "id": "_fHrZ_d4e0Z9",
        "papermill": {
          "duration": 0.141979,
          "end_time": "2020-09-29T09:38:10.759225",
          "exception": false,
          "start_time": "2020-09-29T09:38:10.617246",
          "status": "completed"
        },
        "tags": []
      },
      "source": [
        "### Model: 3. The Local Outlier Factor Model\n",
        "\n",
        "You have already used LOF and learnt about it before. Now use it for outlier detection and evaluate its performance and visualize the outliers.\n",
        "\n",
        "Use a default contamination rate of 0.1 for this model\n",
        "\n",
        "You can use the `pyod` library for this model"
      ]
    },
    {
      "cell_type": "markdown",
      "metadata": {
        "id": "QYWKoU3ce0Z-"
      },
      "source": [
        "#### Build Model and Compute Outliers"
      ]
    },
    {
      "cell_type": "code",
      "execution_count": null,
      "metadata": {
        "id": "BcQqwfUfe0Z_"
      },
      "outputs": [],
      "source": []
    },
    {
      "cell_type": "markdown",
      "metadata": {
        "id": "dk2csidge0aA"
      },
      "source": [
        "#### Evaluate Model Performance"
      ]
    },
    {
      "cell_type": "code",
      "execution_count": null,
      "metadata": {
        "id": "GaQdWF8Xe0aA"
      },
      "outputs": [],
      "source": []
    },
    {
      "cell_type": "markdown",
      "metadata": {
        "id": "OV-UPNOne0aB"
      },
      "source": [
        "#### Visualize Outliers using TimeSeries\n",
        "\n",
        "Use a similar scatterplot as before"
      ]
    },
    {
      "cell_type": "code",
      "execution_count": null,
      "metadata": {
        "id": "Al2zhqrBe0aB"
      },
      "outputs": [],
      "source": []
    },
    {
      "cell_type": "markdown",
      "metadata": {
        "id": "swDLDEY8gqTw",
        "papermill": {
          "duration": 0.141979,
          "end_time": "2020-09-29T09:38:10.759225",
          "exception": false,
          "start_time": "2020-09-29T09:38:10.617246",
          "status": "completed"
        },
        "tags": []
      },
      "source": [
        "### Model: 4. The Isolation Forest Model\n",
        "\n",
        "You have already used IForest and learnt about it before. Now use it for outlier detection and evaluate its performance and visualize the outliers.\n",
        "\n",
        "Use a default contamination rate of 0.1 for this model\n",
        "\n",
        "You can use the `pyod` library for this model"
      ]
    },
    {
      "cell_type": "markdown",
      "metadata": {
        "id": "M9vlg9AKgqTx"
      },
      "source": [
        "#### Build Model and Compute Outliers"
      ]
    },
    {
      "cell_type": "code",
      "execution_count": null,
      "metadata": {
        "id": "-fu7m6PTgqTx"
      },
      "outputs": [],
      "source": []
    },
    {
      "cell_type": "markdown",
      "metadata": {
        "id": "IVfpGShlgqTx"
      },
      "source": [
        "#### Evaluate Model Performance"
      ]
    },
    {
      "cell_type": "code",
      "execution_count": null,
      "metadata": {
        "id": "xM2MXa4mgqTy"
      },
      "outputs": [],
      "source": []
    },
    {
      "cell_type": "markdown",
      "metadata": {
        "id": "PjSiMpGHgqTz"
      },
      "source": [
        "#### Visualize Outliers using TimeSeries\n",
        "\n",
        "Use a similar scatterplot as before"
      ]
    },
    {
      "cell_type": "code",
      "execution_count": null,
      "metadata": {
        "id": "ouY--5IagqTz"
      },
      "outputs": [],
      "source": []
    },
    {
      "cell_type": "markdown",
      "metadata": {
        "id": "cuIomf_SgrFI",
        "papermill": {
          "duration": 0.141979,
          "end_time": "2020-09-29T09:38:10.759225",
          "exception": false,
          "start_time": "2020-09-29T09:38:10.617246",
          "status": "completed"
        },
        "tags": []
      },
      "source": [
        "### Model: 5. The Median Absolute deviation (MAD) Model\n",
        "\n",
        "Median Absolute deviation (MAD) is usually used for univariate data. It is a statistical model and is a very simple measure of variation in a sample. In that sense, it is quite similar to the standard deviation in terms of measuring statistical dispersion.\n",
        "\n",
        "For a univariate data set $X_1, X_2, ..., X_n$, the MAD is defined as the median of the absolute deviations (residuals) from the data's median $\\tilde{X} = median(X)$:\n",
        "\n",
        "$$MAD = median(|X_i - \\tilde{X}|)$$\n",
        "\n",
        "To calculate a range of values that will not be considered outliers, we take the median value of the data and add/substract the MAD value multiplied with a threshold multiplier $t$:\n",
        "\n",
        "$$ \\tilde{X} \\pm MAD*t$$\n",
        "\n",
        "\n",
        "Luckily PyOD can do everything for us! You just need to specify the `threshold` value $t$ in the model\n",
        "\n",
        "You can use the `pyod` library for this model\n",
        "\n",
        "You can use the default threshold of 3.5.\n",
        "\n",
        "\n"
      ]
    },
    {
      "cell_type": "markdown",
      "metadata": {
        "id": "Gl5wrb3jgrFJ"
      },
      "source": [
        "#### Build Model and Compute Outliers"
      ]
    },
    {
      "cell_type": "code",
      "execution_count": null,
      "metadata": {
        "id": "vkU0c60mgrFJ"
      },
      "outputs": [],
      "source": []
    },
    {
      "cell_type": "markdown",
      "metadata": {
        "id": "dn3ZtzTrgrFK"
      },
      "source": [
        "#### Evaluate Model Performance"
      ]
    },
    {
      "cell_type": "code",
      "execution_count": null,
      "metadata": {
        "id": "pRFpeELpgrFK"
      },
      "outputs": [],
      "source": []
    },
    {
      "cell_type": "markdown",
      "metadata": {
        "id": "gY0evcPngrFL"
      },
      "source": [
        "#### Visualize Outliers using TimeSeries\n",
        "\n",
        "Use a similar scatterplot as before"
      ]
    },
    {
      "cell_type": "code",
      "execution_count": null,
      "metadata": {
        "id": "fVUDlWXUgrFL"
      },
      "outputs": [],
      "source": []
    },
    {
      "cell_type": "markdown",
      "source": [
        "### Bonus: Rolling MAD\n",
        "\n",
        "For time-series data such as this we usually compute a \"rolling MAD\" for a window that is moving over the data and then have a series of median values and MAD thresholds. Calculate a \"rolling MAD\" and experiment with the window size."
      ],
      "metadata": {
        "id": "VIUmNASjampk"
      }
    },
    {
      "cell_type": "code",
      "source": [],
      "metadata": {
        "id": "odsVuUGpaqyU"
      },
      "execution_count": null,
      "outputs": []
    },
    {
      "cell_type": "markdown",
      "metadata": {
        "id": "hnlAVLhtHiX5",
        "papermill": {
          "duration": 0.248149,
          "end_time": "2020-09-29T09:39:02.101067",
          "exception": false,
          "start_time": "2020-09-29T09:39:01.852918",
          "status": "completed"
        },
        "tags": []
      },
      "source": [
        "## Conclusion\n",
        "\n",
        "\n",
        "Which models worked the best? Answer the same below based on your observation.\n",
        "\n",
        "Simpler statistical models like boxplot and MAD performed better!"
      ]
    },
    {
      "cell_type": "markdown",
      "metadata": {
        "id": "ROK4j2IeHiX5",
        "papermill": {
          "duration": 0.254299,
          "end_time": "2020-09-29T09:39:03.136522",
          "exception": false,
          "start_time": "2020-09-29T09:39:02.882223",
          "status": "completed"
        },
        "tags": []
      },
      "source": [
        "## References\n",
        "> * **NAB Anomaly Points References**  \n",
        "> https://github.com/numenta/NAB/blob/master/labels/combined_windows.json  \n",
        "> * **PyOD documentation**  \n",
        "> https://pyod.readthedocs.io/en/latest/  "
      ]
    }
  ],
  "metadata": {
    "colab": {
      "provenance": [],
      "include_colab_link": true
    },
    "kernelspec": {
      "display_name": "Python 3",
      "language": "python",
      "name": "python3"
    },
    "language_info": {
      "codemirror_mode": {
        "name": "ipython",
        "version": 3
      },
      "file_extension": ".py",
      "mimetype": "text/x-python",
      "name": "python",
      "nbconvert_exporter": "python",
      "pygments_lexer": "ipython3",
      "version": "3.8.8"
    },
    "papermill": {
      "duration": 87.850349,
      "end_time": "2020-09-29T09:39:03.971745",
      "environment_variables": {},
      "exception": null,
      "input_path": "__notebook__.ipynb",
      "output_path": "__notebook__.ipynb",
      "parameters": {},
      "start_time": "2020-09-29T09:37:36.121396",
      "version": "2.1.0"
    },
    "toc-showcode": false,
    "toc-showmarkdowntxt": false,
    "toc-showtags": false
  },
  "nbformat": 4,
  "nbformat_minor": 0
}