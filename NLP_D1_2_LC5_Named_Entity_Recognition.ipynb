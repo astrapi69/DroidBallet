{
  "nbformat": 4,
  "nbformat_minor": 0,
  "metadata": {
    "colab": {
      "provenance": [],
      "include_colab_link": true
    },
    "kernelspec": {
      "display_name": "Python 3",
      "language": "python",
      "name": "python3"
    },
    "language_info": {
      "codemirror_mode": {
        "name": "ipython",
        "version": 3
      },
      "file_extension": ".py",
      "mimetype": "text/x-python",
      "name": "python",
      "nbconvert_exporter": "python",
      "pygments_lexer": "ipython3",
      "version": "3.7.6"
    }
  },
  "cells": [
    {
      "cell_type": "markdown",
      "metadata": {
        "id": "view-in-github",
        "colab_type": "text"
      },
      "source": [
        "<a href=\"https://colab.research.google.com/github/astrapi69/DroidBallet/blob/master/NLP_D1_2_LC5_Named_Entity_Recognition.ipynb\" target=\"_parent\"><img src=\"https://colab.research.google.com/assets/colab-badge.svg\" alt=\"Open In Colab\"/></a>"
      ]
    },
    {
      "cell_type": "markdown",
      "source": [
        "<center><a target=\"_blank\" href=\"https://learning.constructor.org/\"><img src=\"https://drive.google.com/uc?id=1RNy-ds7KWXFs7YheGo9OQwO3OnpvRSU1\" width=\"200\" style=\"background:none; border:none; box-shadow:none;\" /></a> </center>\n",
        "\n",
        "_____\n",
        "\n",
        "<center>Constructor Academy, 2024</center>"
      ],
      "metadata": {
        "id": "0sQJCY-eUcsL"
      }
    },
    {
      "cell_type": "markdown",
      "metadata": {
        "id": "UqtCNDFVWkv-"
      },
      "source": [
        "# Named Entity Recognition\n",
        "\n",
        "In any text document, there are particular terms that represent specific entities that are more informative and have a unique context. These entities are known as named entities , which more specifically refer to terms that represent real-world objects like people, places, organizations, and so on, which are often denoted by proper names.\n",
        "\n",
        "__Named entity recognition (NER)__ , also known as entity chunking/extraction , is a popular technique used in information extraction to identify and segment the named entities and classify or categorize them under various predefined classes.\n",
        "\n",
        "There are out of the box NER taggers available through popular libraries like __`nltk`__ and __`spacy`__. Each library follows a different approach to solve the problem."
      ]
    },
    {
      "cell_type": "markdown",
      "metadata": {
        "id": "f0vWGV-xWkv_"
      },
      "source": [
        "## NER with SpaCy"
      ]
    },
    {
      "cell_type": "code",
      "metadata": {
        "id": "_dRV4z_HWkwA",
        "colab": {
          "base_uri": "https://localhost:8080/"
        },
        "outputId": "606108fc-bacc-44eb-affb-72bcabda076d"
      },
      "source": [
        "text = \"\"\"Three more countries have joined an “international grand committee” of parliaments, adding to calls for\n",
        "Facebook’s boss, Mark Zuckerberg, to give evidence on misinformation to the coalition. Brazil, Latvia and Singapore\n",
        "bring the total to eight different parliaments across the world, with plans to send representatives to London on 27\n",
        "November with the intention of hearing from Zuckerberg. Since the Cambridge Analytica scandal broke, the Facebook chief\n",
        "has only appeared in front of two legislatures: the American Senate and House of Representatives, and the European parliament.\n",
        "Facebook has consistently rebuffed attempts from others, including the UK and Canadian parliaments, to hear from Zuckerberg.\n",
        "He added that an article in the New York Times on Thursday, in which the paper alleged a pattern of behaviour from Facebook\n",
        "to “delay, deny and deflect” negative news stories, “raises further questions about how recent data breaches were allegedly\n",
        "dealt with within Facebook.”\n",
        "\"\"\"\n",
        "print(text)"
      ],
      "execution_count": null,
      "outputs": [
        {
          "output_type": "stream",
          "name": "stdout",
          "text": [
            "Three more countries have joined an “international grand committee” of parliaments, adding to calls for\n",
            "Facebook’s boss, Mark Zuckerberg, to give evidence on misinformation to the coalition. Brazil, Latvia and Singapore\n",
            "bring the total to eight different parliaments across the world, with plans to send representatives to London on 27\n",
            "November with the intention of hearing from Zuckerberg. Since the Cambridge Analytica scandal broke, the Facebook chief\n",
            "has only appeared in front of two legislatures: the American Senate and House of Representatives, and the European parliament.\n",
            "Facebook has consistently rebuffed attempts from others, including the UK and Canadian parliaments, to hear from Zuckerberg.\n",
            "He added that an article in the New York Times on Thursday, in which the paper alleged a pattern of behaviour from Facebook\n",
            "to “delay, deny and deflect” negative news stories, “raises further questions about how recent data breaches were allegedly\n",
            "dealt with within Facebook.”\n",
            "\n"
          ]
        }
      ]
    },
    {
      "cell_type": "code",
      "metadata": {
        "id": "b8e6nHP9WkwC",
        "colab": {
          "base_uri": "https://localhost:8080/",
          "height": 140
        },
        "outputId": "5000b451-316d-472d-e040-d442dd8718a0"
      },
      "source": [
        "import re\n",
        "\n",
        "text = re.sub(r'\\n', ' ', text) # removing extra newlines\n",
        "text"
      ],
      "execution_count": null,
      "outputs": [
        {
          "output_type": "execute_result",
          "data": {
            "text/plain": [
              "'Three more countries have joined an “international grand committee” of parliaments, adding to calls for Facebook’s boss, Mark Zuckerberg, to give evidence on misinformation to the coalition. Brazil, Latvia and Singapore bring the total to eight different parliaments across the world, with plans to send representatives to London on 27 November with the intention of hearing from Zuckerberg. Since the Cambridge Analytica scandal broke, the Facebook chief has only appeared in front of two legislatures: the American Senate and House of Representatives, and the European parliament. Facebook has consistently rebuffed attempts from others, including the UK and Canadian parliaments, to hear from Zuckerberg. He added that an article in the New York Times on Thursday, in which the paper alleged a pattern of behaviour from Facebook to “delay, deny and deflect” negative news stories, “raises further questions about how recent data breaches were allegedly dealt with within Facebook.” '"
            ],
            "application/vnd.google.colaboratory.intrinsic+json": {
              "type": "string"
            }
          },
          "metadata": {},
          "execution_count": 10
        }
      ]
    },
    {
      "cell_type": "code",
      "metadata": {
        "id": "5wRsBny_WkwE"
      },
      "source": [
        "import spacy\n",
        "import numpy as np\n",
        "\n",
        "nlp = spacy.load('en_core_web_sm')\n",
        "text_nlp = nlp(text)"
      ],
      "execution_count": null,
      "outputs": []
    },
    {
      "cell_type": "code",
      "metadata": {
        "id": "V-qBRZOcWkwH",
        "colab": {
          "base_uri": "https://localhost:8080/"
        },
        "outputId": "6b2a51d1-10c1-4901-fb76-02820ad7770a"
      },
      "source": [
        "# print named entities in article\n",
        "ner_tagged = [(word.text, word.ent_type_) for word in text_nlp]\n",
        "ner_tagged"
      ],
      "execution_count": null,
      "outputs": [
        {
          "output_type": "execute_result",
          "data": {
            "text/plain": [
              "[('Three', 'CARDINAL'),\n",
              " ('more', ''),\n",
              " ('countries', ''),\n",
              " ('have', ''),\n",
              " ('joined', ''),\n",
              " ('an', ''),\n",
              " ('“', ''),\n",
              " ('international', ''),\n",
              " ('grand', ''),\n",
              " ('committee', ''),\n",
              " ('”', ''),\n",
              " ('of', ''),\n",
              " ('parliaments', ''),\n",
              " (',', ''),\n",
              " ('adding', ''),\n",
              " ('to', ''),\n",
              " ('calls', ''),\n",
              " ('for', ''),\n",
              " ('Facebook', 'ORG'),\n",
              " ('’s', ''),\n",
              " ('boss', ''),\n",
              " (',', ''),\n",
              " ('Mark', 'PERSON'),\n",
              " ('Zuckerberg', 'PERSON'),\n",
              " (',', ''),\n",
              " ('to', ''),\n",
              " ('give', ''),\n",
              " ('evidence', ''),\n",
              " ('on', ''),\n",
              " ('misinformation', ''),\n",
              " ('to', ''),\n",
              " ('the', ''),\n",
              " ('coalition', ''),\n",
              " ('.', ''),\n",
              " ('Brazil', 'GPE'),\n",
              " (',', ''),\n",
              " ('Latvia', 'GPE'),\n",
              " ('and', ''),\n",
              " ('Singapore', 'GPE'),\n",
              " ('bring', ''),\n",
              " ('the', ''),\n",
              " ('total', ''),\n",
              " ('to', ''),\n",
              " ('eight', 'CARDINAL'),\n",
              " ('different', ''),\n",
              " ('parliaments', ''),\n",
              " ('across', ''),\n",
              " ('the', ''),\n",
              " ('world', ''),\n",
              " (',', ''),\n",
              " ('with', ''),\n",
              " ('plans', ''),\n",
              " ('to', ''),\n",
              " ('send', ''),\n",
              " ('representatives', ''),\n",
              " ('to', ''),\n",
              " ('London', 'GPE'),\n",
              " ('on', ''),\n",
              " ('27', 'DATE'),\n",
              " ('November', 'DATE'),\n",
              " ('with', ''),\n",
              " ('the', ''),\n",
              " ('intention', ''),\n",
              " ('of', ''),\n",
              " ('hearing', ''),\n",
              " ('from', ''),\n",
              " ('Zuckerberg', 'PERSON'),\n",
              " ('.', ''),\n",
              " ('Since', ''),\n",
              " ('the', ''),\n",
              " ('Cambridge', 'GPE'),\n",
              " ('Analytica', 'GPE'),\n",
              " ('scandal', ''),\n",
              " ('broke', ''),\n",
              " (',', ''),\n",
              " ('the', ''),\n",
              " ('Facebook', 'ORG'),\n",
              " ('chief', ''),\n",
              " ('has', ''),\n",
              " ('only', ''),\n",
              " ('appeared', ''),\n",
              " ('in', ''),\n",
              " ('front', ''),\n",
              " ('of', ''),\n",
              " ('two', 'CARDINAL'),\n",
              " ('legislatures', ''),\n",
              " (':', ''),\n",
              " ('the', ''),\n",
              " ('American', 'NORP'),\n",
              " ('Senate', 'ORG'),\n",
              " ('and', ''),\n",
              " ('House', 'ORG'),\n",
              " ('of', 'ORG'),\n",
              " ('Representatives', 'ORG'),\n",
              " (',', ''),\n",
              " ('and', ''),\n",
              " ('the', ''),\n",
              " ('European', 'NORP'),\n",
              " ('parliament', ''),\n",
              " ('.', ''),\n",
              " ('Facebook', ''),\n",
              " ('has', ''),\n",
              " ('consistently', ''),\n",
              " ('rebuffed', ''),\n",
              " ('attempts', ''),\n",
              " ('from', ''),\n",
              " ('others', ''),\n",
              " (',', ''),\n",
              " ('including', ''),\n",
              " ('the', ''),\n",
              " ('UK', 'GPE'),\n",
              " ('and', ''),\n",
              " ('Canadian', 'NORP'),\n",
              " ('parliaments', ''),\n",
              " (',', ''),\n",
              " ('to', ''),\n",
              " ('hear', ''),\n",
              " ('from', ''),\n",
              " ('Zuckerberg', 'PERSON'),\n",
              " ('.', ''),\n",
              " ('He', ''),\n",
              " ('added', ''),\n",
              " ('that', ''),\n",
              " ('an', ''),\n",
              " ('article', ''),\n",
              " ('in', ''),\n",
              " ('the', 'ORG'),\n",
              " ('New', 'ORG'),\n",
              " ('York', 'ORG'),\n",
              " ('Times', 'ORG'),\n",
              " ('on', ''),\n",
              " ('Thursday', 'DATE'),\n",
              " (',', ''),\n",
              " ('in', ''),\n",
              " ('which', ''),\n",
              " ('the', ''),\n",
              " ('paper', ''),\n",
              " ('alleged', ''),\n",
              " ('a', ''),\n",
              " ('pattern', ''),\n",
              " ('of', ''),\n",
              " ('behaviour', ''),\n",
              " ('from', ''),\n",
              " ('Facebook', ''),\n",
              " ('to', ''),\n",
              " ('“', ''),\n",
              " ('delay', ''),\n",
              " (',', ''),\n",
              " ('deny', ''),\n",
              " ('and', ''),\n",
              " ('deflect', ''),\n",
              " ('”', ''),\n",
              " ('negative', ''),\n",
              " ('news', ''),\n",
              " ('stories', ''),\n",
              " (',', ''),\n",
              " ('“', ''),\n",
              " ('raises', ''),\n",
              " ('further', ''),\n",
              " ('questions', ''),\n",
              " ('about', ''),\n",
              " ('how', ''),\n",
              " ('recent', ''),\n",
              " ('data', ''),\n",
              " ('breaches', ''),\n",
              " ('were', ''),\n",
              " ('allegedly', ''),\n",
              " ('dealt', ''),\n",
              " ('with', ''),\n",
              " ('within', ''),\n",
              " ('Facebook', 'PERSON'),\n",
              " ('.', ''),\n",
              " ('”', '')]"
            ]
          },
          "metadata": {},
          "execution_count": 12
        }
      ]
    },
    {
      "cell_type": "code",
      "metadata": {
        "id": "m_E-aMCgWkwJ",
        "colab": {
          "base_uri": "https://localhost:8080/",
          "height": 262
        },
        "outputId": "54a8f940-cc3d-4321-a680-60fb9b05c5ce"
      },
      "source": [
        "from spacy import displacy\n",
        "\n",
        "# visualize named entities\n",
        "displacy.render(text_nlp, style='ent', jupyter=True)"
      ],
      "execution_count": null,
      "outputs": [
        {
          "output_type": "display_data",
          "data": {
            "text/plain": [
              "<IPython.core.display.HTML object>"
            ],
            "text/html": [
              "<span class=\"tex2jax_ignore\"><div class=\"entities\" style=\"line-height: 2.5; direction: ltr\">\n",
              "<mark class=\"entity\" style=\"background: #e4e7d2; padding: 0.45em 0.6em; margin: 0 0.25em; line-height: 1; border-radius: 0.35em;\">\n",
              "    Three\n",
              "    <span style=\"font-size: 0.8em; font-weight: bold; line-height: 1; border-radius: 0.35em; vertical-align: middle; margin-left: 0.5rem\">CARDINAL</span>\n",
              "</mark>\n",
              " more countries have joined an “international grand committee” of parliaments, adding to calls for \n",
              "<mark class=\"entity\" style=\"background: #7aecec; padding: 0.45em 0.6em; margin: 0 0.25em; line-height: 1; border-radius: 0.35em;\">\n",
              "    Facebook\n",
              "    <span style=\"font-size: 0.8em; font-weight: bold; line-height: 1; border-radius: 0.35em; vertical-align: middle; margin-left: 0.5rem\">ORG</span>\n",
              "</mark>\n",
              "’s boss, \n",
              "<mark class=\"entity\" style=\"background: #aa9cfc; padding: 0.45em 0.6em; margin: 0 0.25em; line-height: 1; border-radius: 0.35em;\">\n",
              "    Mark Zuckerberg\n",
              "    <span style=\"font-size: 0.8em; font-weight: bold; line-height: 1; border-radius: 0.35em; vertical-align: middle; margin-left: 0.5rem\">PERSON</span>\n",
              "</mark>\n",
              ", to give evidence on misinformation to the coalition. \n",
              "<mark class=\"entity\" style=\"background: #feca74; padding: 0.45em 0.6em; margin: 0 0.25em; line-height: 1; border-radius: 0.35em;\">\n",
              "    Brazil\n",
              "    <span style=\"font-size: 0.8em; font-weight: bold; line-height: 1; border-radius: 0.35em; vertical-align: middle; margin-left: 0.5rem\">GPE</span>\n",
              "</mark>\n",
              ", \n",
              "<mark class=\"entity\" style=\"background: #feca74; padding: 0.45em 0.6em; margin: 0 0.25em; line-height: 1; border-radius: 0.35em;\">\n",
              "    Latvia\n",
              "    <span style=\"font-size: 0.8em; font-weight: bold; line-height: 1; border-radius: 0.35em; vertical-align: middle; margin-left: 0.5rem\">GPE</span>\n",
              "</mark>\n",
              " and \n",
              "<mark class=\"entity\" style=\"background: #feca74; padding: 0.45em 0.6em; margin: 0 0.25em; line-height: 1; border-radius: 0.35em;\">\n",
              "    Singapore\n",
              "    <span style=\"font-size: 0.8em; font-weight: bold; line-height: 1; border-radius: 0.35em; vertical-align: middle; margin-left: 0.5rem\">GPE</span>\n",
              "</mark>\n",
              " bring the total to \n",
              "<mark class=\"entity\" style=\"background: #e4e7d2; padding: 0.45em 0.6em; margin: 0 0.25em; line-height: 1; border-radius: 0.35em;\">\n",
              "    eight\n",
              "    <span style=\"font-size: 0.8em; font-weight: bold; line-height: 1; border-radius: 0.35em; vertical-align: middle; margin-left: 0.5rem\">CARDINAL</span>\n",
              "</mark>\n",
              " different parliaments across the world, with plans to send representatives to \n",
              "<mark class=\"entity\" style=\"background: #feca74; padding: 0.45em 0.6em; margin: 0 0.25em; line-height: 1; border-radius: 0.35em;\">\n",
              "    London\n",
              "    <span style=\"font-size: 0.8em; font-weight: bold; line-height: 1; border-radius: 0.35em; vertical-align: middle; margin-left: 0.5rem\">GPE</span>\n",
              "</mark>\n",
              " on \n",
              "<mark class=\"entity\" style=\"background: #bfe1d9; padding: 0.45em 0.6em; margin: 0 0.25em; line-height: 1; border-radius: 0.35em;\">\n",
              "    27 November\n",
              "    <span style=\"font-size: 0.8em; font-weight: bold; line-height: 1; border-radius: 0.35em; vertical-align: middle; margin-left: 0.5rem\">DATE</span>\n",
              "</mark>\n",
              " with the intention of hearing from \n",
              "<mark class=\"entity\" style=\"background: #aa9cfc; padding: 0.45em 0.6em; margin: 0 0.25em; line-height: 1; border-radius: 0.35em;\">\n",
              "    Zuckerberg\n",
              "    <span style=\"font-size: 0.8em; font-weight: bold; line-height: 1; border-radius: 0.35em; vertical-align: middle; margin-left: 0.5rem\">PERSON</span>\n",
              "</mark>\n",
              ". Since the \n",
              "<mark class=\"entity\" style=\"background: #feca74; padding: 0.45em 0.6em; margin: 0 0.25em; line-height: 1; border-radius: 0.35em;\">\n",
              "    Cambridge Analytica\n",
              "    <span style=\"font-size: 0.8em; font-weight: bold; line-height: 1; border-radius: 0.35em; vertical-align: middle; margin-left: 0.5rem\">GPE</span>\n",
              "</mark>\n",
              " scandal broke, the \n",
              "<mark class=\"entity\" style=\"background: #7aecec; padding: 0.45em 0.6em; margin: 0 0.25em; line-height: 1; border-radius: 0.35em;\">\n",
              "    Facebook\n",
              "    <span style=\"font-size: 0.8em; font-weight: bold; line-height: 1; border-radius: 0.35em; vertical-align: middle; margin-left: 0.5rem\">ORG</span>\n",
              "</mark>\n",
              " chief has only appeared in front of \n",
              "<mark class=\"entity\" style=\"background: #e4e7d2; padding: 0.45em 0.6em; margin: 0 0.25em; line-height: 1; border-radius: 0.35em;\">\n",
              "    two\n",
              "    <span style=\"font-size: 0.8em; font-weight: bold; line-height: 1; border-radius: 0.35em; vertical-align: middle; margin-left: 0.5rem\">CARDINAL</span>\n",
              "</mark>\n",
              " legislatures: the \n",
              "<mark class=\"entity\" style=\"background: #c887fb; padding: 0.45em 0.6em; margin: 0 0.25em; line-height: 1; border-radius: 0.35em;\">\n",
              "    American\n",
              "    <span style=\"font-size: 0.8em; font-weight: bold; line-height: 1; border-radius: 0.35em; vertical-align: middle; margin-left: 0.5rem\">NORP</span>\n",
              "</mark>\n",
              " \n",
              "<mark class=\"entity\" style=\"background: #7aecec; padding: 0.45em 0.6em; margin: 0 0.25em; line-height: 1; border-radius: 0.35em;\">\n",
              "    Senate\n",
              "    <span style=\"font-size: 0.8em; font-weight: bold; line-height: 1; border-radius: 0.35em; vertical-align: middle; margin-left: 0.5rem\">ORG</span>\n",
              "</mark>\n",
              " and \n",
              "<mark class=\"entity\" style=\"background: #7aecec; padding: 0.45em 0.6em; margin: 0 0.25em; line-height: 1; border-radius: 0.35em;\">\n",
              "    House of Representatives\n",
              "    <span style=\"font-size: 0.8em; font-weight: bold; line-height: 1; border-radius: 0.35em; vertical-align: middle; margin-left: 0.5rem\">ORG</span>\n",
              "</mark>\n",
              ", and the \n",
              "<mark class=\"entity\" style=\"background: #c887fb; padding: 0.45em 0.6em; margin: 0 0.25em; line-height: 1; border-radius: 0.35em;\">\n",
              "    European\n",
              "    <span style=\"font-size: 0.8em; font-weight: bold; line-height: 1; border-radius: 0.35em; vertical-align: middle; margin-left: 0.5rem\">NORP</span>\n",
              "</mark>\n",
              " parliament. Facebook has consistently rebuffed attempts from others, including the \n",
              "<mark class=\"entity\" style=\"background: #feca74; padding: 0.45em 0.6em; margin: 0 0.25em; line-height: 1; border-radius: 0.35em;\">\n",
              "    UK\n",
              "    <span style=\"font-size: 0.8em; font-weight: bold; line-height: 1; border-radius: 0.35em; vertical-align: middle; margin-left: 0.5rem\">GPE</span>\n",
              "</mark>\n",
              " and \n",
              "<mark class=\"entity\" style=\"background: #c887fb; padding: 0.45em 0.6em; margin: 0 0.25em; line-height: 1; border-radius: 0.35em;\">\n",
              "    Canadian\n",
              "    <span style=\"font-size: 0.8em; font-weight: bold; line-height: 1; border-radius: 0.35em; vertical-align: middle; margin-left: 0.5rem\">NORP</span>\n",
              "</mark>\n",
              " parliaments, to hear from \n",
              "<mark class=\"entity\" style=\"background: #aa9cfc; padding: 0.45em 0.6em; margin: 0 0.25em; line-height: 1; border-radius: 0.35em;\">\n",
              "    Zuckerberg\n",
              "    <span style=\"font-size: 0.8em; font-weight: bold; line-height: 1; border-radius: 0.35em; vertical-align: middle; margin-left: 0.5rem\">PERSON</span>\n",
              "</mark>\n",
              ". He added that an article in \n",
              "<mark class=\"entity\" style=\"background: #7aecec; padding: 0.45em 0.6em; margin: 0 0.25em; line-height: 1; border-radius: 0.35em;\">\n",
              "    the New York Times\n",
              "    <span style=\"font-size: 0.8em; font-weight: bold; line-height: 1; border-radius: 0.35em; vertical-align: middle; margin-left: 0.5rem\">ORG</span>\n",
              "</mark>\n",
              " on \n",
              "<mark class=\"entity\" style=\"background: #bfe1d9; padding: 0.45em 0.6em; margin: 0 0.25em; line-height: 1; border-radius: 0.35em;\">\n",
              "    Thursday\n",
              "    <span style=\"font-size: 0.8em; font-weight: bold; line-height: 1; border-radius: 0.35em; vertical-align: middle; margin-left: 0.5rem\">DATE</span>\n",
              "</mark>\n",
              ", in which the paper alleged a pattern of behaviour from Facebook to “delay, deny and deflect” negative news stories, “raises further questions about how recent data breaches were allegedly dealt with within \n",
              "<mark class=\"entity\" style=\"background: #aa9cfc; padding: 0.45em 0.6em; margin: 0 0.25em; line-height: 1; border-radius: 0.35em;\">\n",
              "    Facebook\n",
              "    <span style=\"font-size: 0.8em; font-weight: bold; line-height: 1; border-radius: 0.35em; vertical-align: middle; margin-left: 0.5rem\">PERSON</span>\n",
              "</mark>\n",
              ".” </div></span>"
            ]
          },
          "metadata": {}
        }
      ]
    },
    {
      "cell_type": "markdown",
      "metadata": {
        "id": "rOWeUtk6WkwL"
      },
      "source": [
        "Spacy offers fast NER tagger based on a number of techniques. The exact algorithm hasn't been talked about in much detail but the documentation marks it as <font color=blue> \"The exact algorithm is a pastiche of well-known methods, and is not currently described in any single publication \" </font>\n",
        "\n",
        "The entities identified by spacy NER tagger are as shown in the following table \\(details here: [spacy_documentation](https://spacy.io/api/annotation#named-entities)\\)\n",
        "\n",
        "![](https://i.imgur.com/EEYbJUl.png)"
      ]
    },
    {
      "cell_type": "code",
      "metadata": {
        "id": "LwTRhs43WkwM"
      },
      "source": [
        "named_entities = []\n",
        "temp_entity_name = ''\n",
        "temp_named_entity = None\n",
        "for term, tag in ner_tagged:\n",
        "    if tag: # for each word with a tag keep combining them together till the tag ends\n",
        "        temp_entity_name = ' '.join([temp_entity_name, term]).strip()\n",
        "        temp_named_entity = (temp_entity_name, tag)\n",
        "    else:\n",
        "        if temp_named_entity:\n",
        "            named_entities.append(temp_named_entity)\n",
        "            temp_entity_name = ''\n",
        "            temp_named_entity = None"
      ],
      "execution_count": null,
      "outputs": []
    },
    {
      "cell_type": "code",
      "metadata": {
        "id": "VFbN8w73WkwO",
        "colab": {
          "base_uri": "https://localhost:8080/"
        },
        "outputId": "eb384229-c0f0-41f2-a6ce-e15ce5574fdc"
      },
      "source": [
        "named_entities"
      ],
      "execution_count": null,
      "outputs": [
        {
          "output_type": "execute_result",
          "data": {
            "text/plain": [
              "[('Three', 'CARDINAL'),\n",
              " ('Facebook', 'ORG'),\n",
              " ('Mark Zuckerberg', 'PERSON'),\n",
              " ('Brazil', 'GPE'),\n",
              " ('Latvia', 'GPE'),\n",
              " ('Singapore', 'GPE'),\n",
              " ('eight', 'CARDINAL'),\n",
              " ('London', 'GPE'),\n",
              " ('27 November', 'DATE'),\n",
              " ('Zuckerberg', 'PERSON'),\n",
              " ('Cambridge Analytica', 'GPE'),\n",
              " ('Facebook', 'ORG'),\n",
              " ('two', 'CARDINAL'),\n",
              " ('American Senate', 'ORG'),\n",
              " ('House of Representatives', 'ORG'),\n",
              " ('European', 'NORP'),\n",
              " ('UK', 'GPE'),\n",
              " ('Canadian', 'NORP'),\n",
              " ('Zuckerberg', 'PERSON'),\n",
              " ('the New York Times', 'ORG'),\n",
              " ('Thursday', 'DATE'),\n",
              " ('Facebook', 'PERSON')]"
            ]
          },
          "metadata": {},
          "execution_count": 15
        }
      ]
    },
    {
      "cell_type": "code",
      "metadata": {
        "id": "bcUB1xmRWkwQ",
        "colab": {
          "base_uri": "https://localhost:8080/"
        },
        "outputId": "62dc9a0a-f64c-424b-b790-705c144e3cf5"
      },
      "source": [
        "from collections import Counter\n",
        "c = Counter([item[1] for item in named_entities])\n",
        "c.most_common()"
      ],
      "execution_count": null,
      "outputs": [
        {
          "output_type": "execute_result",
          "data": {
            "text/plain": [
              "[('GPE', 6),\n",
              " ('ORG', 5),\n",
              " ('PERSON', 4),\n",
              " ('CARDINAL', 3),\n",
              " ('DATE', 2),\n",
              " ('NORP', 2)]"
            ]
          },
          "metadata": {},
          "execution_count": 16
        }
      ]
    },
    {
      "cell_type": "markdown",
      "metadata": {
        "id": "LiYFy54bXUFD"
      },
      "source": [
        "## Training your own NER Models\n",
        "\n",
        "1. Conditional Random Field based models\n",
        "2. Sequntial Deep Learning Models (bi-LSTMs, Transformers)\n",
        "3. Spacy has training capabilities -> https://spacy.io/usage/training#ner\n"
      ]
    }
  ]
}