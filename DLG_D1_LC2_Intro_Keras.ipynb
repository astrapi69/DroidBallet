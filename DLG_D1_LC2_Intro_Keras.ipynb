{
  "nbformat": 4,
  "nbformat_minor": 0,
  "metadata": {
    "celltoolbar": "Slideshow",
    "colab": {
      "provenance": [],
      "include_colab_link": true
    },
    "kernelspec": {
      "display_name": "DLG",
      "language": "python",
      "name": "dlg"
    },
    "language_info": {
      "codemirror_mode": {
        "name": "ipython",
        "version": 3
      },
      "file_extension": ".py",
      "mimetype": "text/x-python",
      "name": "python",
      "nbconvert_exporter": "python",
      "pygments_lexer": "ipython3",
      "version": "3.7.9"
    }
  },
  "cells": [
    {
      "cell_type": "markdown",
      "metadata": {
        "id": "view-in-github",
        "colab_type": "text"
      },
      "source": [
        "<a href=\"https://colab.research.google.com/github/astrapi69/DroidBallet/blob/master/DLG_D1_LC2_Intro_Keras.ipynb\" target=\"_parent\"><img src=\"https://colab.research.google.com/assets/colab-badge.svg\" alt=\"Open In Colab\"/></a>"
      ]
    },
    {
      "cell_type": "markdown",
      "metadata": {
        "id": "iS3p7BaBs8F4"
      },
      "source": [
        "<center><a target=\"_blank\" href=\"https://learning.constructor.org/\"><img src=\"https://drive.google.com/uc?id=1wxkbM60NlBlkbGK1JqUypKL24RrTiiYk\" width=\"200\" style=\"background:none; border:none; box-shadow:none;\" /></a> </center>\n",
        "\n",
        "<p style=\"margin-bottom:1cm;\"></p>\n",
        "\n",
        "_____\n",
        "\n",
        "<center>Constructor Learning, 2023</center>"
      ]
    },
    {
      "cell_type": "markdown",
      "metadata": {
        "id": "5Rq_ZcYswTFC"
      },
      "source": [
        "# Implementing ANNs with Keras (Live Coding)\n"
      ]
    },
    {
      "cell_type": "raw",
      "metadata": {
        "raw_mimetype": "text/restructuredtext",
        "id": "mB3Sy-ge4GcB"
      },
      "source": [
        ".. contents::\n",
        "    :depth: 2\n",
        "    :local:\n",
        "    :backlinks: entry"
      ]
    },
    {
      "cell_type": "code",
      "metadata": {
        "id": "bRkdH0S7s8F5"
      },
      "source": [
        "# proper code formating\n",
        "#%load_ext lab_black"
      ],
      "execution_count": null,
      "outputs": []
    },
    {
      "cell_type": "markdown",
      "metadata": {
        "id": "yuV1PY9us8F9"
      },
      "source": [
        "## Basic Regression Example"
      ]
    },
    {
      "cell_type": "markdown",
      "metadata": {
        "id": "U2hFyPhUs8F-"
      },
      "source": [
        "The following example is based on: [Hands on Machine Learning with Scikit-Learn, Keras & Tensorflow](https://github.com/ageron/handson-ml2/blob/master/11_training_deep_neural_networks.ipynb)\n",
        "\n",
        "Let's load TensorFlow and check which version we are using. It should be TensorFlow 2.x.x."
      ]
    },
    {
      "cell_type": "code",
      "metadata": {
        "id": "kAZrdApMLvhq"
      },
      "source": [
        "import tensorflow as tf"
      ],
      "execution_count": null,
      "outputs": []
    },
    {
      "cell_type": "code",
      "metadata": {
        "colab": {
          "base_uri": "https://localhost:8080/"
        },
        "id": "LEywU7OxMJQ9",
        "outputId": "cc041af6-98fe-446e-cb16-8216c6ada765"
      },
      "source": [
        "# TensorFlow ≥2.0 is required\n",
        "assert tf.__version__ >= \"2.0\"\n",
        "print(tf.__version__)"
      ],
      "execution_count": null,
      "outputs": [
        {
          "output_type": "stream",
          "name": "stdout",
          "text": [
            "2.12.0\n"
          ]
        }
      ]
    },
    {
      "cell_type": "code",
      "metadata": {
        "id": "TXRbUtGZs8GC"
      },
      "source": [
        "import numpy as np\n",
        "import pandas as pd\n",
        "import matplotlib.pyplot as plt\n",
        "import pydot\n",
        "import pydotplus\n",
        "import graphviz\n",
        "from tensorflow import keras\n",
        "\n",
        "np.random.seed(42)  # for reproducibility\n",
        "tf.random.set_seed(42)  # for reproducibility"
      ],
      "execution_count": null,
      "outputs": []
    },
    {
      "cell_type": "markdown",
      "metadata": {
        "id": "hTL6sQyds8GF"
      },
      "source": [
        "### Load Data\n",
        "Let's load a simple data set for a regression problem. We use the California housing dataset as a example since it can be obtained directly via scikit-learn."
      ]
    },
    {
      "cell_type": "code",
      "metadata": {
        "colab": {
          "base_uri": "https://localhost:8080/"
        },
        "id": "67Bqg6q7s8GF",
        "outputId": "4298e009-a51c-44f8-9b70-4d4d8c984593"
      },
      "source": [
        "from sklearn.datasets import fetch_california_housing\n",
        "from sklearn.model_selection import train_test_split\n",
        "\n",
        "# Load Data\n",
        "dataset = fetch_california_housing()\n",
        "print(dataset.data.shape)\n",
        "\n",
        "X_train_full, X_test, y_train_full, y_test = train_test_split(\n",
        "    dataset.data, dataset.target, random_state=42\n",
        ")\n",
        "X_train, X_valid, y_train, y_valid = train_test_split(\n",
        "    X_train_full, y_train_full, random_state=42\n",
        ")"
      ],
      "execution_count": null,
      "outputs": [
        {
          "output_type": "stream",
          "name": "stdout",
          "text": [
            "(20640, 8)\n"
          ]
        }
      ]
    },
    {
      "cell_type": "markdown",
      "metadata": {
        "id": "5Nac7gKDwTFQ"
      },
      "source": [
        "### Scale Data"
      ]
    },
    {
      "cell_type": "code",
      "metadata": {
        "id": "PbK7X-U8s8GI"
      },
      "source": [
        "#First we have to scale the features. This is nothing new. Let's just use scikit-learn for it.\n",
        "from sklearn.preprocessing import StandardScaler\n",
        "\n",
        "scaler = StandardScaler()\n",
        "X_train = scaler.fit_transform(X_train)\n",
        "X_valid = scaler.transform(X_valid)\n",
        "X_test = scaler.transform(X_test)"
      ],
      "execution_count": null,
      "outputs": []
    },
    {
      "cell_type": "markdown",
      "metadata": {
        "id": "J6WmTMd6s8GL"
      },
      "source": [
        "### Define Model (Sequential API)\n",
        "Define a simple feed forward neural network architecture model via the sequential keras api\n",
        "\n",
        "#### When to use a Sequential model:\n",
        "A Sequential model is appropriate for a plain stack of layers where each layer has exactly one input tensor and one output tensor.\n",
        "\n",
        "#### A Sequential model is not appropriate when:\n",
        "Your model has multiple inputs or multiple outputs\n",
        "Any of your layers has multiple inputs or multiple outputs\n",
        "You need to do layer sharing\n",
        "You want non-linear topology (e.g. a residual connection, a multi-branch model)\n"
      ]
    },
    {
      "cell_type": "code",
      "source": [
        "X_train.shape"
      ],
      "metadata": {
        "colab": {
          "base_uri": "https://localhost:8080/"
        },
        "id": "kDeYv7LvcVPK",
        "outputId": "c5ebb452-148a-4258-d8ec-44e0668dc4fe"
      },
      "execution_count": null,
      "outputs": [
        {
          "output_type": "execute_result",
          "data": {
            "text/plain": [
              "(11610, 8)"
            ]
          },
          "metadata": {},
          "execution_count": 6
        }
      ]
    },
    {
      "cell_type": "code",
      "metadata": {
        "id": "Q3NyhZF3s8GL"
      },
      "source": [
        "# TODO: Add number of output neurons\n",
        "model = tf.keras.models.Sequential(\n",
        "    [\n",
        "        tf.keras.layers.Dense(10, activation=\"relu\", input_shape=X_train.shape[1:]),\n",
        "        tf.keras.layers.Dense(10, activation=\"relu\"),\n",
        "        tf.keras.layers.Dense(??),  # ?? How many output neurons do you need for regresion\n",
        "    ]\n",
        ")"
      ],
      "execution_count": null,
      "outputs": []
    },
    {
      "cell_type": "code",
      "metadata": {
        "id": "PLjfOM09wTFW",
        "colab": {
          "base_uri": "https://localhost:8080/"
        },
        "outputId": "5a6995ae-9c9d-40c8-b807-628a6d175602"
      },
      "source": [
        "#Its layers are accessible via the layers attribute:\n",
        "model.layers"
      ],
      "execution_count": null,
      "outputs": [
        {
          "output_type": "execute_result",
          "data": {
            "text/plain": [
              "[<keras.layers.core.dense.Dense at 0x7f678cd676a0>,\n",
              " <keras.layers.core.dense.Dense at 0x7f678cd67700>,\n",
              " <keras.layers.core.dense.Dense at 0x7f678f2d7b50>]"
            ]
          },
          "metadata": {},
          "execution_count": 8
        }
      ]
    },
    {
      "cell_type": "code",
      "metadata": {
        "id": "dj6E_LdNwTFY",
        "colab": {
          "base_uri": "https://localhost:8080/"
        },
        "outputId": "754fe80d-c381-4304-c8a1-8112dd5ec7f6"
      },
      "source": [
        "model.summary()"
      ],
      "execution_count": null,
      "outputs": [
        {
          "output_type": "stream",
          "name": "stdout",
          "text": [
            "Model: \"sequential\"\n",
            "_________________________________________________________________\n",
            " Layer (type)                Output Shape              Param #   \n",
            "=================================================================\n",
            " dense (Dense)               (None, 10)                90        \n",
            "                                                                 \n",
            " dense_1 (Dense)             (None, 10)                110       \n",
            "                                                                 \n",
            " dense_2 (Dense)             (None, 1)                 11        \n",
            "                                                                 \n",
            "=================================================================\n",
            "Total params: 211\n",
            "Trainable params: 211\n",
            "Non-trainable params: 0\n",
            "_________________________________________________________________\n"
          ]
        }
      ]
    },
    {
      "cell_type": "code",
      "metadata": {
        "id": "AOXWrjz9wTFf",
        "colab": {
          "base_uri": "https://localhost:8080/",
          "height": 369
        },
        "outputId": "cb419b8d-1f34-4f3a-a696-4517f6f1a1e8"
      },
      "source": [
        "# draw a graph of the model (pydot, pydotplus and graphviz have to be installed)\n",
        "tf.keras.utils.plot_model(model)"
      ],
      "execution_count": null,
      "outputs": [
        {
          "output_type": "execute_result",
          "data": {
            "image/png": "[encoded data removed]",
            "text/plain": [
              "<IPython.core.display.Image object>"
            ]
          },
          "metadata": {},
          "execution_count": 10
        }
      ]
    },
    {
      "cell_type": "markdown",
      "metadata": {
        "id": "cSi6aRjZwTFh"
      },
      "source": [
        "### Compile Model\n",
        "After defining the model, we are now ready to compile the model.\n",
        "\n",
        "This will create a Python object which will build the network.\n",
        "\n",
        "The compilation steps ask you to define the loss function and kind of optimizer you want to use. These options depend on the problem you are trying to solve"
      ]
    },
    {
      "cell_type": "code",
      "metadata": {
        "id": "_Ms1N2RIwTFi"
      },
      "source": [
        "# compile the model using a simple SGD optimizer\n",
        "sgd_optimizer = tf.keras.optimizers.SGD(learning_rate=1e-3)\n",
        "\n",
        "# TODO: Add loss function\n",
        "model.compile(\n",
        "    loss=???,\n",
        "    optimizer=sgd_optimizer,\n",
        "    metrics=[\"mae\", \"mse\"]\n",
        ")"
      ],
      "execution_count": null,
      "outputs": []
    },
    {
      "cell_type": "markdown",
      "metadata": {
        "id": "Ho44PoHEs8GO"
      },
      "source": [
        "### Train Model\n",
        "Now we need to train our model so that the parameters get tuned to provide the correct outputs for a given input. We do this by feeding inputs at the input layer and then getting an output, we then calculate the loss function using the output and use backpropagation to tune the model parameters. This will fit the model parameters to the data.\n",
        "\n",
        "\n",
        "We calculate the mean square error on the test set."
      ]
    },
    {
      "cell_type": "code",
      "metadata": {
        "id": "gmy8xxgGs8GP",
        "colab": {
          "base_uri": "https://localhost:8080/"
        },
        "outputId": "dbc9748e-8f0f-45b1-dd44-73443e9dc4a6"
      },
      "source": [
        "# Train your model for 10 epochs\n",
        "# You can increase the number of epochs to improve performance\n",
        "\n",
        "# TODO: Add validation data set\n",
        "history = model.fit(X_train, y_train, epochs=30, validation_data=???)\n",
        "history"
      ],
      "execution_count": null,
      "outputs": [
        {
          "output_type": "stream",
          "name": "stdout",
          "text": [
            "Epoch 1/30\n",
            "363/363 [==============================] - 2s 4ms/step - loss: 3.1156 - mae: 1.3063 - mse: 3.1156 - val_loss: 1.6920 - val_mae: 0.8694 - val_mse: 1.6920\n",
            "Epoch 2/30\n",
            "363/363 [==============================] - 1s 3ms/step - loss: 1.0511 - mae: 0.7669 - mse: 1.0511 - val_loss: 0.9683 - val_mae: 0.6941 - val_mse: 0.9683\n",
            "Epoch 3/30\n",
            "363/363 [==============================] - 1s 3ms/step - loss: 0.7619 - mae: 0.6637 - mse: 0.7619 - val_loss: 0.8211 - val_mae: 0.6267 - val_mse: 0.8211\n",
            "Epoch 4/30\n",
            "363/363 [==============================] - 1s 3ms/step - loss: 0.6758 - mae: 0.6175 - mse: 0.6758 - val_loss: 0.6152 - val_mae: 0.5953 - val_mse: 0.6152\n",
            "Epoch 5/30\n",
            "363/363 [==============================] - 1s 3ms/step - loss: 0.6258 - mae: 0.5897 - mse: 0.6258 - val_loss: 0.5678 - val_mae: 0.5623 - val_mse: 0.5678\n",
            "Epoch 6/30\n",
            "363/363 [==============================] - 1s 4ms/step - loss: 0.5862 - mae: 0.5675 - mse: 0.5862 - val_loss: 0.5354 - val_mae: 0.5467 - val_mse: 0.5354\n",
            "Epoch 7/30\n",
            "363/363 [==============================] - 1s 4ms/step - loss: 0.5558 - mae: 0.5496 - mse: 0.5558 - val_loss: 0.5318 - val_mae: 0.5263 - val_mse: 0.5318\n",
            "Epoch 8/30\n",
            "363/363 [==============================] - 1s 3ms/step - loss: 0.5308 - mae: 0.5345 - mse: 0.5308 - val_loss: 0.4827 - val_mae: 0.5085 - val_mse: 0.4827\n",
            "Epoch 9/30\n",
            "363/363 [==============================] - 1s 3ms/step - loss: 0.5090 - mae: 0.5213 - mse: 0.5090 - val_loss: 0.4649 - val_mae: 0.5003 - val_mse: 0.4649\n",
            "Epoch 10/30\n",
            "363/363 [==============================] - 1s 3ms/step - loss: 0.4920 - mae: 0.5107 - mse: 0.4920 - val_loss: 0.4659 - val_mae: 0.4869 - val_mse: 0.4659\n",
            "Epoch 11/30\n",
            "363/363 [==============================] - 1s 3ms/step - loss: 0.4784 - mae: 0.5015 - mse: 0.4784 - val_loss: 0.4804 - val_mae: 0.4937 - val_mse: 0.4804\n",
            "Epoch 12/30\n",
            "363/363 [==============================] - 1s 3ms/step - loss: 0.4675 - mae: 0.4956 - mse: 0.4675 - val_loss: 0.4341 - val_mae: 0.4708 - val_mse: 0.4341\n",
            "Epoch 13/30\n",
            "363/363 [==============================] - 1s 3ms/step - loss: 0.4586 - mae: 0.4893 - mse: 0.4586 - val_loss: 0.4185 - val_mae: 0.4685 - val_mse: 0.4185\n",
            "Epoch 14/30\n",
            "363/363 [==============================] - 2s 4ms/step - loss: 0.4513 - mae: 0.4845 - mse: 0.4513 - val_loss: 0.4167 - val_mae: 0.4645 - val_mse: 0.4167\n",
            "Epoch 15/30\n",
            "363/363 [==============================] - 1s 2ms/step - loss: 0.4448 - mae: 0.4804 - mse: 0.4448 - val_loss: 0.4056 - val_mae: 0.4579 - val_mse: 0.4056\n",
            "Epoch 16/30\n",
            "363/363 [==============================] - 1s 2ms/step - loss: 0.4396 - mae: 0.4778 - mse: 0.4396 - val_loss: 0.4007 - val_mae: 0.4549 - val_mse: 0.4007\n",
            "Epoch 17/30\n",
            "363/363 [==============================] - 1s 2ms/step - loss: 0.4347 - mae: 0.4746 - mse: 0.4347 - val_loss: 0.4286 - val_mae: 0.4558 - val_mse: 0.4286\n",
            "Epoch 18/30\n",
            "363/363 [==============================] - 1s 2ms/step - loss: 0.4313 - mae: 0.4722 - mse: 0.4313 - val_loss: 0.4065 - val_mae: 0.4498 - val_mse: 0.4065\n",
            "Epoch 19/30\n",
            "363/363 [==============================] - 1s 2ms/step - loss: 0.4271 - mae: 0.4697 - mse: 0.4271 - val_loss: 0.4030 - val_mae: 0.4469 - val_mse: 0.4030\n",
            "Epoch 20/30\n",
            "363/363 [==============================] - 1s 2ms/step - loss: 0.4247 - mae: 0.4679 - mse: 0.4247 - val_loss: 0.4363 - val_mae: 0.4521 - val_mse: 0.4363\n",
            "Epoch 21/30\n",
            "363/363 [==============================] - 1s 2ms/step - loss: 0.4215 - mae: 0.4663 - mse: 0.4215 - val_loss: 0.4306 - val_mae: 0.4519 - val_mse: 0.4306\n",
            "Epoch 22/30\n",
            "363/363 [==============================] - 1s 2ms/step - loss: 0.4194 - mae: 0.4653 - mse: 0.4194 - val_loss: 0.4429 - val_mae: 0.4511 - val_mse: 0.4429\n",
            "Epoch 23/30\n",
            "363/363 [==============================] - 1s 2ms/step - loss: 0.4167 - mae: 0.4642 - mse: 0.4167 - val_loss: 0.3848 - val_mae: 0.4389 - val_mse: 0.3848\n",
            "Epoch 24/30\n",
            "363/363 [==============================] - 1s 2ms/step - loss: 0.4149 - mae: 0.4622 - mse: 0.4149 - val_loss: 0.3934 - val_mae: 0.4413 - val_mse: 0.3934\n",
            "Epoch 25/30\n",
            "363/363 [==============================] - 1s 2ms/step - loss: 0.4128 - mae: 0.4615 - mse: 0.4128 - val_loss: 0.4494 - val_mae: 0.4490 - val_mse: 0.4494\n",
            "Epoch 26/30\n",
            "363/363 [==============================] - 1s 2ms/step - loss: 0.4114 - mae: 0.4607 - mse: 0.4114 - val_loss: 0.4047 - val_mae: 0.4424 - val_mse: 0.4047\n",
            "Epoch 27/30\n",
            "363/363 [==============================] - 1s 2ms/step - loss: 0.4104 - mae: 0.4601 - mse: 0.4104 - val_loss: 0.3787 - val_mae: 0.4364 - val_mse: 0.3787\n",
            "Epoch 28/30\n",
            "363/363 [==============================] - 1s 2ms/step - loss: 0.4091 - mae: 0.4585 - mse: 0.4091 - val_loss: 0.4098 - val_mae: 0.4458 - val_mse: 0.4098\n",
            "Epoch 29/30\n",
            "363/363 [==============================] - 1s 2ms/step - loss: 0.4082 - mae: 0.4586 - mse: 0.4082 - val_loss: 0.3854 - val_mae: 0.4411 - val_mse: 0.3854\n",
            "Epoch 30/30\n",
            "363/363 [==============================] - 1s 2ms/step - loss: 0.4071 - mae: 0.4578 - mse: 0.4071 - val_loss: 0.4313 - val_mae: 0.4442 - val_mse: 0.4313\n"
          ]
        },
        {
          "output_type": "execute_result",
          "data": {
            "text/plain": [
              "<keras.callbacks.History at 0x7f7eedff8110>"
            ]
          },
          "metadata": {},
          "execution_count": 21
        }
      ]
    },
    {
      "cell_type": "markdown",
      "metadata": {
        "id": "FR4MSOVwwTFn"
      },
      "source": [
        "### Predict with Model"
      ]
    },
    {
      "cell_type": "code",
      "metadata": {
        "id": "-EEobXNPwTFo",
        "colab": {
          "base_uri": "https://localhost:8080/"
        },
        "outputId": "f6ed4c8c-0f16-4008-d93a-ebb548440547"
      },
      "source": [
        "#predict on unseen X_test\n",
        "model.predict(X_test)"
      ],
      "execution_count": null,
      "outputs": [
        {
          "output_type": "execute_result",
          "data": {
            "text/plain": [
              "array([[1.0714624],\n",
              "       [1.77584  ],\n",
              "       [3.5769224],\n",
              "       ...,\n",
              "       [1.1527466],\n",
              "       [2.2865965],\n",
              "       [3.7929869]], dtype=float32)"
            ]
          },
          "metadata": {},
          "execution_count": 22
        }
      ]
    },
    {
      "cell_type": "code",
      "metadata": {
        "id": "tWDN2XNbwTFr",
        "colab": {
          "base_uri": "https://localhost:8080/"
        },
        "outputId": "2e8e599c-4616-4e2f-febe-54b478139a86"
      },
      "source": [
        "# Validation on the test data set\n",
        "mse_test = model.evaluate(X_test, y_test, verbose=0)\n",
        "print(\"MSE of test set: {}\".format(mse_test))"
      ],
      "execution_count": null,
      "outputs": [
        {
          "output_type": "stream",
          "name": "stdout",
          "text": [
            "MSE of test set: [0.3995186686515808, 0.4535669684410095, 0.3995186686515808]\n"
          ]
        }
      ]
    },
    {
      "cell_type": "markdown",
      "metadata": {
        "id": "JMKxc--rs8GR"
      },
      "source": [
        "### Investigate Loss during training\n",
        "Let's have a look at the evolution of the loss during the training. You might want too test what happens if you train for much more epochs."
      ]
    },
    {
      "cell_type": "code",
      "metadata": {
        "id": "S5Oo_D8hs8GS",
        "colab": {
          "base_uri": "https://localhost:8080/",
          "height": 265
        },
        "outputId": "3cff2eec-5aac-4baa-9127-afed51f50ae4"
      },
      "source": [
        "\n",
        "cols_to_plot = [\"loss\", \"val_loss\"]\n",
        "plt.plot(pd.DataFrame(history.history)[cols_to_plot])\n",
        "plt.legend(cols_to_plot, loc=\"upper right\")\n",
        "plt.grid(True)"
      ],
      "execution_count": null,
      "outputs": [
        {
          "output_type": "display_data",
          "data": {
            "text/plain": [
              "<Figure size 432x288 with 1 Axes>"
            ],
            "image/png": "[encoded data removed]"
          },
          "metadata": {
            "needs_background": "light"
          }
        }
      ]
    },
    {
      "cell_type": "code",
      "metadata": {
        "id": "z9eqr3vlwTFv",
        "colab": {
          "base_uri": "https://localhost:8080/",
          "height": 990
        },
        "outputId": "bc47349d-e9d6-4aa1-bd9e-3cd3792a7903"
      },
      "source": [
        "# dataframe of two different loss functions\n",
        "pd.DataFrame(history.history)[cols_to_plot]"
      ],
      "execution_count": null,
      "outputs": [
        {
          "output_type": "execute_result",
          "data": {
            "text/plain": [
              "        loss  val_loss\n",
              "0   3.115577  1.692044\n",
              "1   1.051065  0.968274\n",
              "2   0.761859  0.821110\n",
              "3   0.675758  0.615217\n",
              "4   0.625831  0.567766\n",
              "5   0.586245  0.535384\n",
              "6   0.555788  0.531850\n",
              "7   0.530768  0.482655\n",
              "8   0.509024  0.464919\n",
              "9   0.492024  0.465928\n",
              "10  0.478399  0.480414\n",
              "11  0.467456  0.434127\n",
              "12  0.458565  0.418493\n",
              "13  0.451311  0.416701\n",
              "14  0.444837  0.405634\n",
              "15  0.439575  0.400736\n",
              "16  0.434723  0.428612\n",
              "17  0.431312  0.406453\n",
              "18  0.427064  0.402999\n",
              "19  0.424714  0.436272\n",
              "20  0.421509  0.430642\n",
              "21  0.419397  0.442862\n",
              "22  0.416747  0.384760\n",
              "23  0.414914  0.393387\n",
              "24  0.412787  0.449374\n",
              "25  0.411423  0.404716\n",
              "26  0.410422  0.378697\n",
              "27  0.409092  0.409787\n",
              "28  0.408218  0.385446\n",
              "29  0.407064  0.431266"
            ],
            "text/html": [
              "\n",
              "  <div id=\"df-6e157d9e-09f7-43e5-b48e-0a49d8b0dec7\">\n",
              "    <div class=\"colab-df-container\">\n",
              "      <div>\n",
              "<style scoped>\n",
              "    .dataframe tbody tr th:only-of-type {\n",
              "        vertical-align: middle;\n",
              "    }\n",
              "\n",
              "    .dataframe tbody tr th {\n",
              "        vertical-align: top;\n",
              "    }\n",
              "\n",
              "    .dataframe thead th {\n",
              "        text-align: right;\n",
              "    }\n",
              "</style>\n",
              "<table border=\"1\" class=\"dataframe\">\n",
              "  <thead>\n",
              "    <tr style=\"text-align: right;\">\n",
              "      <th></th>\n",
              "      <th>loss</th>\n",
              "      <th>val_loss</th>\n",
              "    </tr>\n",
              "  </thead>\n",
              "  <tbody>\n",
              "    <tr>\n",
              "      <th>0</th>\n",
              "      <td>3.115577</td>\n",
              "      <td>1.692044</td>\n",
              "    </tr>\n",
              "    <tr>\n",
              "      <th>1</th>\n",
              "      <td>1.051065</td>\n",
              "      <td>0.968274</td>\n",
              "    </tr>\n",
              "    <tr>\n",
              "      <th>2</th>\n",
              "      <td>0.761859</td>\n",
              "      <td>0.821110</td>\n",
              "    </tr>\n",
              "    <tr>\n",
              "      <th>3</th>\n",
              "      <td>0.675758</td>\n",
              "      <td>0.615217</td>\n",
              "    </tr>\n",
              "    <tr>\n",
              "      <th>4</th>\n",
              "      <td>0.625831</td>\n",
              "      <td>0.567766</td>\n",
              "    </tr>\n",
              "    <tr>\n",
              "      <th>5</th>\n",
              "      <td>0.586245</td>\n",
              "      <td>0.535384</td>\n",
              "    </tr>\n",
              "    <tr>\n",
              "      <th>6</th>\n",
              "      <td>0.555788</td>\n",
              "      <td>0.531850</td>\n",
              "    </tr>\n",
              "    <tr>\n",
              "      <th>7</th>\n",
              "      <td>0.530768</td>\n",
              "      <td>0.482655</td>\n",
              "    </tr>\n",
              "    <tr>\n",
              "      <th>8</th>\n",
              "      <td>0.509024</td>\n",
              "      <td>0.464919</td>\n",
              "    </tr>\n",
              "    <tr>\n",
              "      <th>9</th>\n",
              "      <td>0.492024</td>\n",
              "      <td>0.465928</td>\n",
              "    </tr>\n",
              "    <tr>\n",
              "      <th>10</th>\n",
              "      <td>0.478399</td>\n",
              "      <td>0.480414</td>\n",
              "    </tr>\n",
              "    <tr>\n",
              "      <th>11</th>\n",
              "      <td>0.467456</td>\n",
              "      <td>0.434127</td>\n",
              "    </tr>\n",
              "    <tr>\n",
              "      <th>12</th>\n",
              "      <td>0.458565</td>\n",
              "      <td>0.418493</td>\n",
              "    </tr>\n",
              "    <tr>\n",
              "      <th>13</th>\n",
              "      <td>0.451311</td>\n",
              "      <td>0.416701</td>\n",
              "    </tr>\n",
              "    <tr>\n",
              "      <th>14</th>\n",
              "      <td>0.444837</td>\n",
              "      <td>0.405634</td>\n",
              "    </tr>\n",
              "    <tr>\n",
              "      <th>15</th>\n",
              "      <td>0.439575</td>\n",
              "      <td>0.400736</td>\n",
              "    </tr>\n",
              "    <tr>\n",
              "      <th>16</th>\n",
              "      <td>0.434723</td>\n",
              "      <td>0.428612</td>\n",
              "    </tr>\n",
              "    <tr>\n",
              "      <th>17</th>\n",
              "      <td>0.431312</td>\n",
              "      <td>0.406453</td>\n",
              "    </tr>\n",
              "    <tr>\n",
              "      <th>18</th>\n",
              "      <td>0.427064</td>\n",
              "      <td>0.402999</td>\n",
              "    </tr>\n",
              "    <tr>\n",
              "      <th>19</th>\n",
              "      <td>0.424714</td>\n",
              "      <td>0.436272</td>\n",
              "    </tr>\n",
              "    <tr>\n",
              "      <th>20</th>\n",
              "      <td>0.421509</td>\n",
              "      <td>0.430642</td>\n",
              "    </tr>\n",
              "    <tr>\n",
              "      <th>21</th>\n",
              "      <td>0.419397</td>\n",
              "      <td>0.442862</td>\n",
              "    </tr>\n",
              "    <tr>\n",
              "      <th>22</th>\n",
              "      <td>0.416747</td>\n",
              "      <td>0.384760</td>\n",
              "    </tr>\n",
              "    <tr>\n",
              "      <th>23</th>\n",
              "      <td>0.414914</td>\n",
              "      <td>0.393387</td>\n",
              "    </tr>\n",
              "    <tr>\n",
              "      <th>24</th>\n",
              "      <td>0.412787</td>\n",
              "      <td>0.449374</td>\n",
              "    </tr>\n",
              "    <tr>\n",
              "      <th>25</th>\n",
              "      <td>0.411423</td>\n",
              "      <td>0.404716</td>\n",
              "    </tr>\n",
              "    <tr>\n",
              "      <th>26</th>\n",
              "      <td>0.410422</td>\n",
              "      <td>0.378697</td>\n",
              "    </tr>\n",
              "    <tr>\n",
              "      <th>27</th>\n",
              "      <td>0.409092</td>\n",
              "      <td>0.409787</td>\n",
              "    </tr>\n",
              "    <tr>\n",
              "      <th>28</th>\n",
              "      <td>0.408218</td>\n",
              "      <td>0.385446</td>\n",
              "    </tr>\n",
              "    <tr>\n",
              "      <th>29</th>\n",
              "      <td>0.407064</td>\n",
              "      <td>0.431266</td>\n",
              "    </tr>\n",
              "  </tbody>\n",
              "</table>\n",
              "</div>\n",
              "      <button class=\"colab-df-convert\" onclick=\"convertToInteractive('df-6e157d9e-09f7-43e5-b48e-0a49d8b0dec7')\"\n",
              "              title=\"Convert this dataframe to an interactive table.\"\n",
              "              style=\"display:none;\">\n",
              "        \n",
              "  <svg xmlns=\"http://www.w3.org/2000/svg\" height=\"24px\"viewBox=\"0 0 24 24\"\n",
              "       width=\"24px\">\n",
              "    <path d=\"M0 0h24v24H0V0z\" fill=\"none\"/>\n",
              "    <path d=\"M18.56 5.44l.94 2.06.94-2.06 2.06-.94-2.06-.94-.94-2.06-.94 2.06-2.06.94zm-11 1L8.5 8.5l.94-2.06 2.06-.94-2.06-.94L8.5 2.5l-.94 2.06-2.06.94zm10 10l.94 2.06.94-2.06 2.06-.94-2.06-.94-.94-2.06-.94 2.06-2.06.94z\"/><path d=\"M17.41 7.96l-1.37-1.37c-.4-.4-.92-.59-1.43-.59-.52 0-1.04.2-1.43.59L10.3 9.45l-7.72 7.72c-.78.78-.78 2.05 0 2.83L4 21.41c.39.39.9.59 1.41.59.51 0 1.02-.2 1.41-.59l7.78-7.78 2.81-2.81c.8-.78.8-2.07 0-2.86zM5.41 20L4 18.59l7.72-7.72 1.47 1.35L5.41 20z\"/>\n",
              "  </svg>\n",
              "      </button>\n",
              "      \n",
              "  <style>\n",
              "    .colab-df-container {\n",
              "      display:flex;\n",
              "      flex-wrap:wrap;\n",
              "      gap: 12px;\n",
              "    }\n",
              "\n",
              "    .colab-df-convert {\n",
              "      background-color: #E8F0FE;\n",
              "      border: none;\n",
              "      border-radius: 50%;\n",
              "      cursor: pointer;\n",
              "      display: none;\n",
              "      fill: #1967D2;\n",
              "      height: 32px;\n",
              "      padding: 0 0 0 0;\n",
              "      width: 32px;\n",
              "    }\n",
              "\n",
              "    .colab-df-convert:hover {\n",
              "      background-color: #E2EBFA;\n",
              "      box-shadow: 0px 1px 2px rgba(60, 64, 67, 0.3), 0px 1px 3px 1px rgba(60, 64, 67, 0.15);\n",
              "      fill: #174EA6;\n",
              "    }\n",
              "\n",
              "    [theme=dark] .colab-df-convert {\n",
              "      background-color: #3B4455;\n",
              "      fill: #D2E3FC;\n",
              "    }\n",
              "\n",
              "    [theme=dark] .colab-df-convert:hover {\n",
              "      background-color: #434B5C;\n",
              "      box-shadow: 0px 1px 3px 1px rgba(0, 0, 0, 0.15);\n",
              "      filter: drop-shadow(0px 1px 2px rgba(0, 0, 0, 0.3));\n",
              "      fill: #FFFFFF;\n",
              "    }\n",
              "  </style>\n",
              "\n",
              "      <script>\n",
              "        const buttonEl =\n",
              "          document.querySelector('#df-6e157d9e-09f7-43e5-b48e-0a49d8b0dec7 button.colab-df-convert');\n",
              "        buttonEl.style.display =\n",
              "          google.colab.kernel.accessAllowed ? 'block' : 'none';\n",
              "\n",
              "        async function convertToInteractive(key) {\n",
              "          const element = document.querySelector('#df-6e157d9e-09f7-43e5-b48e-0a49d8b0dec7');\n",
              "          const dataTable =\n",
              "            await google.colab.kernel.invokeFunction('convertToInteractive',\n",
              "                                                     [key], {});\n",
              "          if (!dataTable) return;\n",
              "\n",
              "          const docLinkHtml = 'Like what you see? Visit the ' +\n",
              "            '<a target=\"_blank\" href=https://colab.research.google.com/notebooks/data_table.ipynb>data table notebook</a>'\n",
              "            + ' to learn more about interactive tables.';\n",
              "          element.innerHTML = '';\n",
              "          dataTable['output_type'] = 'display_data';\n",
              "          await google.colab.output.renderOutput(dataTable, element);\n",
              "          const docLink = document.createElement('div');\n",
              "          docLink.innerHTML = docLinkHtml;\n",
              "          element.appendChild(docLink);\n",
              "        }\n",
              "      </script>\n",
              "    </div>\n",
              "  </div>\n",
              "  "
            ]
          },
          "metadata": {},
          "execution_count": 25
        }
      ]
    },
    {
      "cell_type": "markdown",
      "metadata": {
        "id": "QnVz0PYFs8GU"
      },
      "source": [
        "Predict a few data points of the test set to see whether the model works."
      ]
    },
    {
      "cell_type": "code",
      "metadata": {
        "id": "AWL5NxxBs8GU",
        "colab": {
          "base_uri": "https://localhost:8080/"
        },
        "outputId": "95c9aa31-8b95-4079-ae4c-87f0d768694f"
      },
      "source": [
        "y_pred = model.predict(X_test[:3])\n",
        "y_pred"
      ],
      "execution_count": null,
      "outputs": [
        {
          "output_type": "execute_result",
          "data": {
            "text/plain": [
              "array([[1.0714624],\n",
              "       [1.77584  ],\n",
              "       [3.5769224]], dtype=float32)"
            ]
          },
          "metadata": {},
          "execution_count": 26
        }
      ]
    },
    {
      "cell_type": "markdown",
      "metadata": {
        "id": "Py5YIUb_s8Gf"
      },
      "source": [
        "## Advanced Functionalities\n",
        "\n",
        "\n",
        "### Functional API\n",
        "#### When to use the Keras functional API\n",
        "\n",
        "The Keras functional API is a way to create models that are more flexible than the tf.keras.Sequential API.\n",
        "The functional API can handle models with non-linear topology, shared layers, and even multiple inputs or outputs.\n",
        "\n",
        "For these cases the functional API can be used.\n",
        "The following example of a Wide & Deep neural network (see [paper](https://ai.google/research/pubs/pub45413)), which connects part of the inputs directly with the output layer, is based on: [Hands on Machine Learning with Scikit-Learn, Keras & Tensorflow](https://github.com/ageron/handson-ml2/blob/master/11_training_deep_neural_networks.ipynb)\n",
        "\n",
        "For a more advanced examples of using the functional API see this [TensorFlow Guide](https://www.tensorflow.org/guide/keras/functional).\n",
        "\n",
        "\n"
      ]
    },
    {
      "cell_type": "code",
      "metadata": {
        "id": "w85-st-bs8Gg"
      },
      "source": [
        "input_A = keras.layers.Input(shape=[5], name=\"wide_input\")\n",
        "input_B = keras.layers.Input(shape=[6], name=\"deep_input\")\n",
        "hidden1 = keras.layers.Dense(30, activation=\"relu\")(input_B)\n",
        "hidden2 = keras.layers.Dense(30, activation=\"relu\")(hidden1)\n",
        "concat = keras.layers.concatenate([input_A, hidden2])\n",
        "output = keras.layers.Dense(1, name=\"output\")(concat)\n",
        "model = keras.models.Model(inputs=[input_A, input_B], outputs=[output])"
      ],
      "execution_count": null,
      "outputs": []
    },
    {
      "cell_type": "code",
      "metadata": {
        "colab": {
          "base_uri": "https://localhost:8080/",
          "height": 466
        },
        "id": "BO2uQVkys8Gj",
        "outputId": "51f29a6d-43e1-4ae4-9433-37cf00b59449"
      },
      "source": [
        "tf.keras.utils.plot_model(model)"
      ],
      "execution_count": null,
      "outputs": [
        {
          "output_type": "execute_result",
          "data": {
            "text/plain": [
              "<IPython.core.display.Image object>"
            ],
            "image/png": "[encoded data removed]"
          },
          "metadata": {},
          "execution_count": 29
        }
      ]
    },
    {
      "cell_type": "code",
      "metadata": {
        "colab": {
          "base_uri": "https://localhost:8080/"
        },
        "id": "I6KQGaCgs8Gl",
        "outputId": "bf6e87a7-c281-49a0-88a8-2086906c67cc"
      },
      "source": [
        "model.compile(loss=\"mse\", optimizer=keras.optimizers.SGD(learning_rate=1e-3))\n",
        "\n",
        "X_train_A, X_train_B = X_train[:, :5], X_train[:, 2:]\n",
        "X_valid_A, X_valid_B = X_valid[:, :5], X_valid[:, 2:]\n",
        "X_test_A, X_test_B = X_test[:, :5], X_test[:, 2:]\n",
        "X_new_A, X_new_B = X_test_A[:3], X_test_B[:3]\n",
        "\n",
        "history = model.fit(\n",
        "    (X_train_A, X_train_B),\n",
        "    y_train,\n",
        "    epochs=10,\n",
        "    validation_data=((X_valid_A, X_valid_B), y_valid),\n",
        ")\n",
        "mse_test = model.evaluate((X_test_A, X_test_B), y_test, verbose=0)\n",
        "print(\"MSE of test data set: {}\".format(mse_test))"
      ],
      "execution_count": null,
      "outputs": [
        {
          "output_type": "stream",
          "name": "stdout",
          "text": [
            "Epoch 1/10\n"
          ]
        },
        {
          "output_type": "stream",
          "name": "stderr",
          "text": [
            "/usr/local/lib/python3.7/dist-packages/keras/optimizer_v2/gradient_descent.py:102: UserWarning: The `lr` argument is deprecated, use `learning_rate` instead.\n",
            "  super(SGD, self).__init__(name, **kwargs)\n"
          ]
        },
        {
          "output_type": "stream",
          "name": "stdout",
          "text": [
            "363/363 [==============================] - 1s 2ms/step - loss: 1.7643 - val_loss: 0.8560\n",
            "Epoch 2/10\n",
            "363/363 [==============================] - 1s 2ms/step - loss: 0.7584 - val_loss: 0.6710\n",
            "Epoch 3/10\n",
            "363/363 [==============================] - 1s 2ms/step - loss: 0.6584 - val_loss: 0.6169\n",
            "Epoch 4/10\n",
            "363/363 [==============================] - 1s 2ms/step - loss: 0.6023 - val_loss: 0.5710\n",
            "Epoch 5/10\n",
            "363/363 [==============================] - 1s 2ms/step - loss: 0.5663 - val_loss: 0.5420\n",
            "Epoch 6/10\n",
            "363/363 [==============================] - 1s 2ms/step - loss: 0.5380 - val_loss: 0.5176\n",
            "Epoch 7/10\n",
            "363/363 [==============================] - 1s 2ms/step - loss: 0.5187 - val_loss: 0.5065\n",
            "Epoch 8/10\n",
            "363/363 [==============================] - 1s 2ms/step - loss: 0.5025 - val_loss: 0.4790\n",
            "Epoch 9/10\n",
            "363/363 [==============================] - 1s 2ms/step - loss: 0.4889 - val_loss: 0.4564\n",
            "Epoch 10/10\n",
            "363/363 [==============================] - 1s 2ms/step - loss: 0.4781 - val_loss: 0.4451\n",
            "MSE of test data set: 0.47398096323013306\n"
          ]
        }
      ]
    },
    {
      "cell_type": "markdown",
      "metadata": {
        "id": "4CUILP4TwTF8"
      },
      "source": [
        "### Custom Loss Functions"
      ]
    },
    {
      "cell_type": "code",
      "metadata": {
        "id": "kTxaAAdwwTF8"
      },
      "source": [
        "def huber_fn(y_true, y_pred):\n",
        "    error = y_true - y_pred\n",
        "    is_small_error = tf.abs(error) < 1\n",
        "    squared_loss = tf.square(error) / 2\n",
        "    linear_loss  = tf.abs(error) - 0.5\n",
        "    return tf.where(is_small_error, squared_loss, linear_loss)"
      ],
      "execution_count": null,
      "outputs": []
    },
    {
      "cell_type": "code",
      "metadata": {
        "colab": {
          "base_uri": "https://localhost:8080/",
          "height": 269
        },
        "id": "MHoqCaL8wTF-",
        "outputId": "5c6a4560-1bf7-435a-a7ff-3e88cac0b791"
      },
      "source": [
        "\n",
        "plt.figure(figsize=(8, 3.5))\n",
        "z = np.linspace(-4, 4, 200)\n",
        "plt.plot(z, huber_fn(0, z), \"b-\", linewidth=2, label=\"huber($z$)\")\n",
        "plt.plot(z, z**2 / 2, \"b:\", linewidth=1, label=r\"$\\frac{1}{2}z^2$\")\n",
        "plt.plot([-1, -1], [0, huber_fn(0., -1.)], \"r--\")\n",
        "plt.plot([1, 1], [0, huber_fn(0., 1.)], \"r--\")\n",
        "plt.gca().axhline(y=0, color='k')\n",
        "plt.gca().axvline(x=0, color='k')\n",
        "plt.axis([-4, 4, 0, 4])\n",
        "plt.grid(True)\n",
        "plt.xlabel(\"$z$\")\n",
        "plt.legend(fontsize=14)\n",
        "plt.title(\"Huber loss\", fontsize=14)\n",
        "plt.show()"
      ],
      "execution_count": null,
      "outputs": [
        {
          "output_type": "display_data",
          "data": {
            "text/plain": [
              "<Figure size 576x252 with 1 Axes>"
            ],
            "image/png": "[encoded data removed]"
          },
          "metadata": {
            "needs_background": "light"
          }
        }
      ]
    },
    {
      "cell_type": "code",
      "metadata": {
        "id": "RzdrYJKUwTGA"
      },
      "source": [
        "input_shape = X_train.shape[1:]\n",
        "\n",
        "model = keras.models.Sequential([\n",
        "    keras.layers.Dense(30, activation=\"selu\", kernel_initializer=\"lecun_normal\",\n",
        "                       input_shape=input_shape),\n",
        "    keras.layers.Dense(1),\n",
        "])"
      ],
      "execution_count": null,
      "outputs": []
    },
    {
      "cell_type": "code",
      "metadata": {
        "id": "70os5WldwTGC"
      },
      "source": [
        "model.compile(loss=huber_fn, optimizer=\"nadam\", metrics=[\"mae\"])\n"
      ],
      "execution_count": null,
      "outputs": []
    },
    {
      "cell_type": "code",
      "metadata": {
        "colab": {
          "base_uri": "https://localhost:8080/"
        },
        "id": "mK915w6cwTGG",
        "outputId": "a2efc70a-5f04-4c10-e50a-caff0d3cd93b"
      },
      "source": [
        "model.fit(X_train, y_train, epochs=2,\n",
        "          validation_data=(X_valid, y_valid))"
      ],
      "execution_count": null,
      "outputs": [
        {
          "output_type": "stream",
          "name": "stdout",
          "text": [
            "Epoch 1/2\n",
            "363/363 [==============================] - 1s 2ms/step - loss: 0.5143 - mae: 0.8605 - val_loss: 0.2461 - val_mae: 0.5322\n",
            "Epoch 2/2\n",
            "363/363 [==============================] - 1s 2ms/step - loss: 0.2082 - mae: 0.5001 - val_loss: 0.2119 - val_mae: 0.4973\n"
          ]
        },
        {
          "output_type": "execute_result",
          "data": {
            "text/plain": [
              "<keras.callbacks.History at 0x7f7f71527d10>"
            ]
          },
          "metadata": {},
          "execution_count": 35
        }
      ]
    },
    {
      "cell_type": "markdown",
      "metadata": {
        "id": "Z2Bl6Kjvs8Gw"
      },
      "source": [
        "### Callbacks\n"
      ]
    },
    {
      "cell_type": "code",
      "metadata": {
        "id": "-VtDsCows8Gw",
        "colab": {
          "base_uri": "https://localhost:8080/"
        },
        "outputId": "ea03afbc-46c2-4f5d-8028-9b192fdb6ece"
      },
      "source": [
        "model = keras.models.Sequential(\n",
        "    [keras.layers.Dense(30, activation=\"relu\", input_shape=[8]), keras.layers.Dense(1)]\n",
        ")\n",
        "model.compile(loss=\"mse\", optimizer=keras.optimizers.SGD(learning_rate=1e-3))"
      ],
      "execution_count": null,
      "outputs": [
        {
          "output_type": "stream",
          "name": "stderr",
          "text": [
            "/usr/local/lib/python3.7/dist-packages/keras/optimizer_v2/gradient_descent.py:102: UserWarning: The `lr` argument is deprecated, use `learning_rate` instead.\n",
            "  super(SGD, self).__init__(name, **kwargs)\n"
          ]
        }
      ]
    },
    {
      "cell_type": "markdown",
      "metadata": {
        "id": "0GdJfmeCwTGM"
      },
      "source": [
        "#### Define Callback Functions\n",
        "First let's define some callback functions so that we can checkpoint our model and save it model parameters to file each time we get better results.\n",
        "\n",
        "More info on available Keras Callbacks:\n",
        "https://keras.io/api/callbacks/\n",
        "\n",
        "More info on ModelCheckpoint class:\n",
        "https://keras.io/api/callbacks/model_checkpoint/\n"
      ]
    },
    {
      "cell_type": "code",
      "metadata": {
        "id": "AQC82yKxs8Gy"
      },
      "source": [
        "#\n",
        "checkpoint_cb = keras.callbacks.ModelCheckpoint(\n",
        "    \"my_latest_nn_model.h5\", save_best_only=True\n",
        ")"
      ],
      "execution_count": null,
      "outputs": []
    },
    {
      "cell_type": "code",
      "metadata": {
        "colab": {
          "base_uri": "https://localhost:8080/"
        },
        "id": "gQyqXpxks8Gz",
        "outputId": "03ed6c76-ebe9-4281-bc5e-90a615d59659"
      },
      "source": [
        "history = model.fit(\n",
        "    X_train,\n",
        "    y_train,\n",
        "    epochs=10,\n",
        "    validation_data=(X_valid, y_valid),\n",
        "    callbacks=[checkpoint_cb],\n",
        ")\n",
        "model = keras.models.load_model(\"my_latest_nn_model.h5\")  # rollback to best model"
      ],
      "execution_count": null,
      "outputs": [
        {
          "output_type": "stream",
          "name": "stdout",
          "text": [
            "Epoch 1/10\n",
            "363/363 [==============================] - 1s 2ms/step - loss: 2.0751 - val_loss: 0.9873\n",
            "Epoch 2/10\n",
            "363/363 [==============================] - 1s 2ms/step - loss: 0.7092 - val_loss: 0.6552\n",
            "Epoch 3/10\n",
            "363/363 [==============================] - 1s 2ms/step - loss: 0.6324 - val_loss: 0.6199\n",
            "Epoch 4/10\n",
            "363/363 [==============================] - 1s 2ms/step - loss: 0.5907 - val_loss: 0.5724\n",
            "Epoch 5/10\n",
            "363/363 [==============================] - 1s 2ms/step - loss: 0.5612 - val_loss: 0.5425\n",
            "Epoch 6/10\n",
            "363/363 [==============================] - 1s 1ms/step - loss: 0.5368 - val_loss: 0.5197\n",
            "Epoch 7/10\n",
            "363/363 [==============================] - 1s 2ms/step - loss: 0.5181 - val_loss: 0.5139\n",
            "Epoch 8/10\n",
            "363/363 [==============================] - 1s 2ms/step - loss: 0.5024 - val_loss: 0.4828\n",
            "Epoch 9/10\n",
            "363/363 [==============================] - 1s 2ms/step - loss: 0.4891 - val_loss: 0.4691\n",
            "Epoch 10/10\n",
            "363/363 [==============================] - 1s 2ms/step - loss: 0.4782 - val_loss: 0.4584\n"
          ]
        }
      ]
    },
    {
      "cell_type": "markdown",
      "metadata": {
        "id": "bw-HyWtGs8Go"
      },
      "source": [
        "### Store your Model"
      ]
    },
    {
      "cell_type": "code",
      "metadata": {
        "id": "swyghQV4s8Go"
      },
      "source": [
        "model = keras.models.Sequential(\n",
        "    [\n",
        "        keras.layers.Dense(10, activation=\"relu\", input_shape=[8]),\n",
        "        keras.layers.Dense(10, activation=\"relu\"),\n",
        "        keras.layers.Dense(1),\n",
        "    ]\n",
        ")"
      ],
      "execution_count": null,
      "outputs": []
    },
    {
      "cell_type": "code",
      "metadata": {
        "colab": {
          "base_uri": "https://localhost:8080/"
        },
        "id": "7fZjtKIts8Gq",
        "outputId": "fedb604e-0860-4fc3-a2e1-85a4950f79ea"
      },
      "source": [
        "model.compile(loss=\"mse\", optimizer=keras.optimizers.SGD(learning_rate=1e-3))\n",
        "history = model.fit(X_train, y_train, epochs=2, validation_data=(X_valid, y_valid))"
      ],
      "execution_count": null,
      "outputs": [
        {
          "output_type": "stream",
          "name": "stdout",
          "text": [
            "Epoch 1/2\n"
          ]
        },
        {
          "output_type": "stream",
          "name": "stderr",
          "text": [
            "/usr/local/lib/python3.7/dist-packages/keras/optimizer_v2/gradient_descent.py:102: UserWarning: The `lr` argument is deprecated, use `learning_rate` instead.\n",
            "  super(SGD, self).__init__(name, **kwargs)\n"
          ]
        },
        {
          "output_type": "stream",
          "name": "stdout",
          "text": [
            "363/363 [==============================] - 1s 2ms/step - loss: 2.5817 - val_loss: 3.9930\n",
            "Epoch 2/2\n",
            "363/363 [==============================] - 1s 2ms/step - loss: 1.0572 - val_loss: 1.9253\n"
          ]
        }
      ]
    },
    {
      "cell_type": "markdown",
      "metadata": {
        "id": "4sQQ19uDs8Gr"
      },
      "source": [
        "Models created with the sequential or functional API can simple be saved and loaded:"
      ]
    },
    {
      "cell_type": "code",
      "metadata": {
        "id": "E1gpfiWFs8Gs"
      },
      "source": [
        "model.save(\"my_nn_model.h5\")\n",
        "model = keras.models.load_model(\"my_nn_model.h5\")"
      ],
      "execution_count": null,
      "outputs": []
    },
    {
      "cell_type": "markdown",
      "metadata": {
        "id": "wzzbjV9qs8Gt"
      },
      "source": [
        "For some custom built models the save method does not work. In this case the weights can be saved. The model structure has to be saved separately."
      ]
    },
    {
      "cell_type": "code",
      "metadata": {
        "colab": {
          "base_uri": "https://localhost:8080/"
        },
        "id": "qz8IoSWEs8Gu",
        "outputId": "1b999eb3-142c-4acf-a87e-839dbe28ea92"
      },
      "source": [
        "model.save_weights(\"my_keras_weights.ckpt\")\n",
        "model.load_weights(\"my_keras_weights.ckpt\")"
      ],
      "execution_count": null,
      "outputs": [
        {
          "output_type": "execute_result",
          "data": {
            "text/plain": [
              "<tensorflow.python.training.tracking.util.CheckpointLoadStatus at 0x7f7eedb0e650>"
            ]
          },
          "metadata": {},
          "execution_count": 42
        }
      ]
    },
    {
      "cell_type": "markdown",
      "metadata": {
        "id": "6llc9hKCHEUn"
      },
      "source": [
        "## Advanced Examples:"
      ]
    },
    {
      "cell_type": "markdown",
      "metadata": {
        "id": "SJHbI2z3wTGg"
      },
      "source": [
        "### Advanced metrics\n",
        "\n",
        "A metric is a function that is used to judge the performance of your model.\n",
        "\n",
        "Metric functions are similar to loss functions, except that the results from evaluating a metric are not used when training the model. Note that you may use any loss function as a metric.\n",
        "\n",
        "More info on keras metrics: https://keras.io/api/metrics/\n",
        "\n",
        "\n"
      ]
    },
    {
      "cell_type": "code",
      "metadata": {
        "id": "Uj1t2ud9wTGg"
      },
      "source": [
        "from keras import metrics"
      ],
      "execution_count": null,
      "outputs": []
    },
    {
      "cell_type": "code",
      "metadata": {
        "id": "B9bPDn9wwTGi",
        "colab": {
          "base_uri": "https://localhost:8080/"
        },
        "outputId": "49aac666-630d-483d-d76e-30d86e7ae3ce"
      },
      "source": [
        "METRICS = [\n",
        "      keras.metrics.TruePositives(name='tp'),\n",
        "      keras.metrics.FalsePositives(name='fp'),\n",
        "      keras.metrics.TrueNegatives(name='tn'),\n",
        "      keras.metrics.FalseNegatives(name='fn'),\n",
        "      keras.metrics.BinaryAccuracy(name='accuracy'),\n",
        "      keras.metrics.Precision(name='precision'),\n",
        "      keras.metrics.Recall(name='recall'),\n",
        "      keras.metrics.AUC(name='auc'),\n",
        "]\n",
        "\n",
        "\n",
        "model.compile(\n",
        "  optimizer=keras.optimizers.Adam(learning_rate=1e-3),\n",
        "  loss=keras.losses.BinaryCrossentropy(),\n",
        "  metrics=METRICS)\n"
      ],
      "execution_count": null,
      "outputs": [
        {
          "output_type": "stream",
          "name": "stderr",
          "text": [
            "/usr/local/lib/python3.7/dist-packages/keras/optimizer_v2/adam.py:105: UserWarning: The `lr` argument is deprecated, use `learning_rate` instead.\n",
            "  super(Adam, self).__init__(name, **kwargs)\n"
          ]
        }
      ]
    },
    {
      "cell_type": "markdown",
      "metadata": {
        "id": "FV5BQxzgwTGn"
      },
      "source": [
        "### Regularization and Dropout\n"
      ]
    },
    {
      "cell_type": "code",
      "metadata": {
        "id": "fxkRdYfuwTGn"
      },
      "source": [
        "model = keras.Sequential([\n",
        "  tf.keras.layers.Dense(16, activation='relu',\n",
        "  input_shape=(X_train.shape[-1],)),\n",
        "  tf.keras.layers.Dropout(0.5), #this is where we add dropout\n",
        "  tf.keras.layers.Dense(1, activation='sigmoid', bias_initializer='zeros'),\n",
        "])\n"
      ],
      "execution_count": null,
      "outputs": []
    },
    {
      "cell_type": "markdown",
      "metadata": {
        "id": "CkV_SJifs8G2"
      },
      "source": [
        "### Early Stopping"
      ]
    },
    {
      "cell_type": "code",
      "metadata": {
        "id": "4G9Nc-mbwTGt"
      },
      "source": [
        "model = keras.models.Sequential(\n",
        "    [keras.layers.Dense(30, activation=\"relu\", input_shape=[8]), keras.layers.Dense(1)]\n",
        ")\n"
      ],
      "execution_count": null,
      "outputs": []
    },
    {
      "cell_type": "code",
      "metadata": {
        "id": "LaIkbLG0wTGv"
      },
      "source": [
        "model.compile(loss=\"mse\", optimizer=tf.keras.optimizers.SGD(learning_rate=2e-3))\n",
        "\n"
      ],
      "execution_count": null,
      "outputs": []
    },
    {
      "cell_type": "code",
      "metadata": {
        "colab": {
          "base_uri": "https://localhost:8080/"
        },
        "id": "t8x3KiDOwTGy",
        "outputId": "648a3e84-6bb8-48d1-fec5-631fa5bdf60c"
      },
      "source": [
        "early_stopping_cb = keras.callbacks.EarlyStopping(patience=5, restore_best_weights=True)\n",
        "early_stopping_cb"
      ],
      "execution_count": null,
      "outputs": [
        {
          "output_type": "execute_result",
          "data": {
            "text/plain": [
              "<keras.callbacks.EarlyStopping at 0x7f7ee7c4a410>"
            ]
          },
          "metadata": {},
          "execution_count": 48
        }
      ]
    },
    {
      "cell_type": "code",
      "metadata": {
        "colab": {
          "base_uri": "https://localhost:8080/"
        },
        "id": "gD0nC6wes8G2",
        "outputId": "45331791-1495-46a2-deb2-8bfe5ec82f42"
      },
      "source": [
        "\n",
        "history = model.fit(\n",
        "    X_train,\n",
        "    y_train,\n",
        "    epochs=50,\n",
        "    validation_data=(X_valid, y_valid),\n",
        "    callbacks=[early_stopping_cb],\n",
        ")\n",
        "\n",
        "history.history"
      ],
      "execution_count": null,
      "outputs": [
        {
          "output_type": "stream",
          "name": "stdout",
          "text": [
            "Epoch 1/50\n",
            "363/363 [==============================] - 1s 2ms/step - loss: 1.5734 - val_loss: 3.8393\n",
            "Epoch 2/50\n",
            "363/363 [==============================] - 1s 2ms/step - loss: 0.7481 - val_loss: 0.7685\n",
            "Epoch 3/50\n",
            "363/363 [==============================] - 1s 2ms/step - loss: 0.6222 - val_loss: 0.5470\n",
            "Epoch 4/50\n",
            "363/363 [==============================] - 1s 2ms/step - loss: 0.5575 - val_loss: 0.5643\n",
            "Epoch 5/50\n",
            "363/363 [==============================] - 1s 2ms/step - loss: 0.5169 - val_loss: 0.5024\n",
            "Epoch 6/50\n",
            "363/363 [==============================] - 1s 2ms/step - loss: 0.4833 - val_loss: 0.4793\n",
            "Epoch 7/50\n",
            "363/363 [==============================] - 1s 2ms/step - loss: 0.4649 - val_loss: 0.4426\n",
            "Epoch 8/50\n",
            "363/363 [==============================] - 1s 2ms/step - loss: 0.4497 - val_loss: 0.4501\n",
            "Epoch 9/50\n",
            "363/363 [==============================] - 1s 2ms/step - loss: 0.4391 - val_loss: 0.4554\n",
            "Epoch 10/50\n",
            "363/363 [==============================] - 1s 2ms/step - loss: 0.4319 - val_loss: 0.4609\n",
            "Epoch 11/50\n",
            "363/363 [==============================] - 1s 2ms/step - loss: 0.4265 - val_loss: 0.4452\n",
            "Epoch 12/50\n",
            "363/363 [==============================] - 1s 2ms/step - loss: 0.4219 - val_loss: 0.4747\n"
          ]
        },
        {
          "output_type": "execute_result",
          "data": {
            "text/plain": [
              "{'loss': [1.5733718872070312,\n",
              "  0.7480759024620056,\n",
              "  0.6221604347229004,\n",
              "  0.5574969053268433,\n",
              "  0.5168893337249756,\n",
              "  0.4833098351955414,\n",
              "  0.46488699316978455,\n",
              "  0.44971922039985657,\n",
              "  0.43905648589134216,\n",
              "  0.4319053590297699,\n",
              "  0.42652034759521484,\n",
              "  0.42190924286842346],\n",
              " 'val_loss': [3.8393149375915527,\n",
              "  0.7685129046440125,\n",
              "  0.5470231175422668,\n",
              "  0.5642936825752258,\n",
              "  0.5024240016937256,\n",
              "  0.47927072644233704,\n",
              "  0.4425591826438904,\n",
              "  0.45009636878967285,\n",
              "  0.4553939998149872,\n",
              "  0.46093693375587463,\n",
              "  0.4452221393585205,\n",
              "  0.4747397005558014]}"
            ]
          },
          "metadata": {},
          "execution_count": 49
        }
      ]
    },
    {
      "cell_type": "code",
      "metadata": {
        "colab": {
          "base_uri": "https://localhost:8080/"
        },
        "id": "JfpbJ60UwTG3",
        "outputId": "6267fe8b-5e64-4ca0-9c11-c3910bcce748"
      },
      "source": [
        "mse_test = model.evaluate(X_test, y_test, verbose=0)\n",
        "mse_test"
      ],
      "execution_count": null,
      "outputs": [
        {
          "output_type": "execute_result",
          "data": {
            "text/plain": [
              "0.4501399099826813"
            ]
          },
          "metadata": {},
          "execution_count": 50
        }
      ]
    },
    {
      "cell_type": "code",
      "metadata": {
        "colab": {
          "base_uri": "https://localhost:8080/",
          "height": 283
        },
        "id": "NnQbCcn3s8G4",
        "outputId": "23e07832-37fe-493a-c686-cfed339583b8"
      },
      "source": [
        "cols_to_plot = [\"loss\", \"val_loss\"]\n",
        "plt.plot(pd.DataFrame(history.history)[cols_to_plot])\n",
        "plt.ylabel('Loss')\n",
        "plt.xlabel('No. epoch')\n",
        "plt.legend(cols_to_plot, loc=\"upper right\")\n",
        "plt.ylim([0.2, 1])\n",
        "plt.grid(True)"
      ],
      "execution_count": null,
      "outputs": [
        {
          "output_type": "display_data",
          "data": {
            "text/plain": [
              "<Figure size 432x288 with 1 Axes>"
            ],
            "image/png": "[encoded data removed]"
          },
          "metadata": {
            "needs_background": "light"
          }
        }
      ]
    },
    {
      "cell_type": "markdown",
      "metadata": {
        "id": "s5Yrk7CTwTHD"
      },
      "source": [
        "### Weight Initialization\n",
        "\n",
        "Initializers define the way to set the initial random weights of Keras layers.\n",
        "\n",
        "The keyword arguments used for passing initializers to layers depends on the layer. Usually, it is simply kernel_initializer and bias_initializer\n",
        "\n",
        "More Initializers:\n",
        "https://keras.io/api/layers/initializers/\n",
        "\n",
        "\n",
        "\n"
      ]
    },
    {
      "cell_type": "code",
      "metadata": {
        "id": "zL12Qz6UPVlv"
      },
      "source": [
        "from tensorflow.keras import layers\n",
        "from tensorflow.keras import initializers\n",
        "\n",
        "layer = layers.Dense(\n",
        "    units=64,\n",
        "    kernel_initializer=initializers.RandomNormal(stddev=0.01),\n",
        "    bias_initializer=initializers.Zeros()\n",
        ")\n"
      ],
      "execution_count": null,
      "outputs": []
    },
    {
      "cell_type": "code",
      "metadata": {
        "id": "D3wjvGyvwTHE"
      },
      "source": [
        "#All built-in initializers can also be passed via their string identifier:\n",
        "\n",
        "layer = layers.Dense(\n",
        "    units=64,\n",
        "    kernel_initializer='random_normal',\n",
        "    bias_initializer='zeros'\n",
        ")"
      ],
      "execution_count": null,
      "outputs": []
    },
    {
      "cell_type": "code",
      "metadata": {
        "colab": {
          "base_uri": "https://localhost:8080/"
        },
        "id": "s2HQ7qmcwTHG",
        "outputId": "ec5cd3bb-72f9-4d85-d453-4e846ac91abd"
      },
      "source": [
        "# This initializer generates tensors with a normal distribution.\n",
        "\n",
        "tf.keras.initializers.RandomNormal(mean=0.0, stddev=0.05, seed=None)\n"
      ],
      "execution_count": null,
      "outputs": [
        {
          "output_type": "execute_result",
          "data": {
            "text/plain": [
              "<keras.initializers.initializers_v2.RandomNormal at 0x7f7ee7ad8fd0>"
            ]
          },
          "metadata": {},
          "execution_count": 54
        }
      ]
    },
    {
      "cell_type": "markdown",
      "metadata": {
        "id": "aqiZ8xqDwTHI"
      },
      "source": [
        "\n",
        "### Training History\n",
        "\n"
      ]
    },
    {
      "cell_type": "code",
      "metadata": {
        "colab": {
          "base_uri": "https://localhost:8080/"
        },
        "id": "PAmRwRbPwTHI",
        "outputId": "0dff46cb-183f-422d-e833-b1321cba6229"
      },
      "source": [
        "# history object\n",
        "\n",
        "# When running this model, Keras maintains a so-called History object in the background.\n",
        "# The history object is the output of the fit operation so it can be accessed in your Python script by slightly adapting that row in the above code to:\n",
        "\n",
        "# The History.history attribute is a dictionary recording training loss values and metrics values at successive epochs, as well as validation loss values and validation metrics values (if applicable).\n",
        "\n",
        "history = model.fit(\n",
        "    X_train,\n",
        "    y_train,\n",
        "    epochs=100,\n",
        "    validation_data=(X_valid, y_valid),\n",
        "    callbacks=[checkpoint_cb, early_stopping_cb],\n",
        ")\n",
        "\n",
        "history.history"
      ],
      "execution_count": null,
      "outputs": [
        {
          "output_type": "stream",
          "name": "stdout",
          "text": [
            "Epoch 1/100\n",
            "363/363 [==============================] - 1s 2ms/step - loss: 0.4497 - val_loss: 0.4473\n",
            "Epoch 2/100\n",
            "363/363 [==============================] - 1s 2ms/step - loss: 0.4400 - val_loss: 0.4879\n",
            "Epoch 3/100\n",
            "363/363 [==============================] - 1s 2ms/step - loss: 0.4327 - val_loss: 0.4755\n",
            "Epoch 4/100\n",
            "363/363 [==============================] - 1s 2ms/step - loss: 0.4260 - val_loss: 0.4808\n",
            "Epoch 5/100\n",
            "363/363 [==============================] - 1s 2ms/step - loss: 0.4226 - val_loss: 0.4408\n",
            "Epoch 6/100\n",
            "363/363 [==============================] - 1s 2ms/step - loss: 0.4177 - val_loss: 0.4878\n",
            "Epoch 7/100\n",
            "363/363 [==============================] - 1s 2ms/step - loss: 0.4155 - val_loss: 0.4633\n",
            "Epoch 8/100\n",
            "363/363 [==============================] - 1s 2ms/step - loss: 0.4126 - val_loss: 0.4287\n",
            "Epoch 9/100\n",
            "363/363 [==============================] - 1s 2ms/step - loss: 0.4099 - val_loss: 0.4446\n",
            "Epoch 10/100\n",
            "363/363 [==============================] - 1s 2ms/step - loss: 0.4078 - val_loss: 0.4757\n",
            "Epoch 11/100\n",
            "363/363 [==============================] - 1s 2ms/step - loss: 0.4064 - val_loss: 0.4154\n",
            "Epoch 12/100\n",
            "363/363 [==============================] - 1s 2ms/step - loss: 0.4041 - val_loss: 0.4789\n",
            "Epoch 13/100\n",
            "363/363 [==============================] - 1s 2ms/step - loss: 0.4027 - val_loss: 0.4580\n",
            "Epoch 14/100\n",
            "363/363 [==============================] - 1s 2ms/step - loss: 0.4013 - val_loss: 0.4179\n",
            "Epoch 15/100\n",
            "363/363 [==============================] - 1s 2ms/step - loss: 0.3994 - val_loss: 0.4306\n",
            "Epoch 16/100\n",
            "363/363 [==============================] - 1s 2ms/step - loss: 0.3980 - val_loss: 0.4112\n",
            "Epoch 17/100\n",
            "363/363 [==============================] - 1s 2ms/step - loss: 0.3967 - val_loss: 0.4567\n",
            "Epoch 18/100\n",
            "363/363 [==============================] - 1s 2ms/step - loss: 0.3959 - val_loss: 0.4456\n",
            "Epoch 19/100\n",
            "363/363 [==============================] - 1s 2ms/step - loss: 0.3941 - val_loss: 0.4199\n",
            "Epoch 20/100\n",
            "363/363 [==============================] - 1s 2ms/step - loss: 0.3933 - val_loss: 0.4788\n",
            "Epoch 21/100\n",
            "363/363 [==============================] - 1s 2ms/step - loss: 0.3923 - val_loss: 0.4409\n"
          ]
        },
        {
          "output_type": "execute_result",
          "data": {
            "text/plain": [
              "{'loss': [0.44974395632743835,\n",
              "  0.4399530589580536,\n",
              "  0.43268460035324097,\n",
              "  0.42598757147789,\n",
              "  0.42259690165519714,\n",
              "  0.4176982045173645,\n",
              "  0.41545745730400085,\n",
              "  0.4126279652118683,\n",
              "  0.4099140167236328,\n",
              "  0.4077596664428711,\n",
              "  0.4063584506511688,\n",
              "  0.4041284918785095,\n",
              "  0.40269967913627625,\n",
              "  0.40126410126686096,\n",
              "  0.39938193559646606,\n",
              "  0.3980250954627991,\n",
              "  0.396749883890152,\n",
              "  0.395911306142807,\n",
              "  0.394142210483551,\n",
              "  0.3933323621749878,\n",
              "  0.39226293563842773],\n",
              " 'val_loss': [0.4472764730453491,\n",
              "  0.4878636300563812,\n",
              "  0.47551411390304565,\n",
              "  0.4808345139026642,\n",
              "  0.4407771825790405,\n",
              "  0.48784786462783813,\n",
              "  0.4632568359375,\n",
              "  0.4287375807762146,\n",
              "  0.4446317255496979,\n",
              "  0.47572061419487,\n",
              "  0.41542065143585205,\n",
              "  0.47886842489242554,\n",
              "  0.4580155313014984,\n",
              "  0.41790297627449036,\n",
              "  0.4306394159793854,\n",
              "  0.4112139642238617,\n",
              "  0.45667609572410583,\n",
              "  0.445570170879364,\n",
              "  0.41987860202789307,\n",
              "  0.4788174629211426,\n",
              "  0.4409233629703522]}"
            ]
          },
          "metadata": {},
          "execution_count": 55
        }
      ]
    },
    {
      "cell_type": "markdown",
      "metadata": {
        "id": "_vRyjo8SwTHL"
      },
      "source": [
        "### Class Weights"
      ]
    },
    {
      "cell_type": "code",
      "metadata": {
        "id": "62wPkNYIO4fH"
      },
      "source": [
        "from sklearn.utils import class_weight\n",
        "class_weight = class_weight.compute_class_weight(class_weight = 'balanced',\n",
        "                                               classes = np.unique(y_train),\n",
        "                                               y = y_train)"
      ],
      "execution_count": null,
      "outputs": []
    },
    {
      "cell_type": "code",
      "metadata": {
        "id": "PpKgAWy2oCBh"
      },
      "source": [
        "class_weight = dict(enumerate(class_weight))\n"
      ],
      "execution_count": null,
      "outputs": []
    },
    {
      "cell_type": "code",
      "metadata": {
        "id": "T5auLWT0wTHL",
        "colab": {
          "base_uri": "https://localhost:8080/"
        },
        "outputId": "4205b1e0-5d70-4e1a-ceca-691774f4fb09"
      },
      "source": [
        "#\n",
        "model.fit(X_train,\n",
        "          y_train,\n",
        "          epochs=5,\n",
        "          batch_size=32,\n",
        "          class_weight=class_weight)"
      ],
      "execution_count": null,
      "outputs": [
        {
          "output_type": "stream",
          "name": "stdout",
          "text": [
            "Epoch 1/5\n",
            "363/363 [==============================] - 1s 2ms/step - loss: 1.3132\n",
            "Epoch 2/5\n",
            "363/363 [==============================] - 1s 2ms/step - loss: 1.3021\n",
            "Epoch 3/5\n",
            "363/363 [==============================] - 1s 2ms/step - loss: 1.3572\n",
            "Epoch 4/5\n",
            "363/363 [==============================] - 1s 2ms/step - loss: 1.2900\n",
            "Epoch 5/5\n",
            "363/363 [==============================] - 1s 2ms/step - loss: 1.2938\n"
          ]
        },
        {
          "output_type": "execute_result",
          "data": {
            "text/plain": [
              "<keras.callbacks.History at 0x7f7ee79e0f90>"
            ]
          },
          "metadata": {},
          "execution_count": 59
        }
      ]
    },
    {
      "cell_type": "code",
      "source": [],
      "metadata": {
        "id": "iD1MEfz-Rskw"
      },
      "execution_count": null,
      "outputs": []
    }
  ]
}