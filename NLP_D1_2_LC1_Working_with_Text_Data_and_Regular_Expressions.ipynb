{
  "nbformat": 4,
  "nbformat_minor": 0,
  "metadata": {
    "colab": {
      "provenance": [],
      "include_colab_link": true
    },
    "kernelspec": {
      "display_name": "Python 3",
      "language": "python",
      "name": "python3"
    },
    "language_info": {
      "codemirror_mode": {
        "name": "ipython",
        "version": 3
      },
      "file_extension": ".py",
      "mimetype": "text/x-python",
      "name": "python",
      "nbconvert_exporter": "python",
      "pygments_lexer": "ipython3",
      "version": "3.7.6"
    }
  },
  "cells": [
    {
      "cell_type": "markdown",
      "metadata": {
        "id": "view-in-github",
        "colab_type": "text"
      },
      "source": [
        "<a href=\"https://colab.research.google.com/github/astrapi69/DroidBallet/blob/master/NLP_D1_2_LC1_Working_with_Text_Data_and_Regular_Expressions.ipynb\" target=\"_parent\"><img src=\"https://colab.research.google.com/assets/colab-badge.svg\" alt=\"Open In Colab\"/></a>"
      ]
    },
    {
      "cell_type": "markdown",
      "source": [
        "<center><a target=\"_blank\" href=\"https://learning.constructor.org/\"><img src=\"https://drive.google.com/uc?id=1RNy-ds7KWXFs7YheGo9OQwO3OnpvRSU1\" width=\"200\" style=\"background:none; border:none; box-shadow:none;\" /></a> </center>\n",
        "\n",
        "_____\n",
        "\n",
        "<center>Constructor Academy, 2024</center>\n"
      ],
      "metadata": {
        "id": "a7SHe-prCSdl"
      }
    },
    {
      "cell_type": "markdown",
      "metadata": {
        "id": "sDV8fyxmiprR"
      },
      "source": [
        "# Working with Text Data and Regular Expressions\n",
        "\n",
        "Strings are a native data type in python which is one of the reasons python is the go-to language for NLP related tasks.\n",
        "\n",
        "In this notebook, we will:\n",
        " - Explore Strings up and close\n",
        " - Understand different operations that you can apply on strings\n",
        " - String Manipulation techniques\n",
        "\n",
        "We will also briefly cover __Regular Expressions__ in this notebook."
      ]
    },
    {
      "cell_type": "markdown",
      "metadata": {
        "id": "XczOw4Bhiw8C"
      },
      "source": [
        "## String Under the Hood\n",
        "\n",
        "- A string is defined using alpha-numeric characters enclosed within double quotes\n",
        "- Each string object has a unique memory address which you can get using ``id(str)`` function\n",
        "- String is a native data-type"
      ]
    },
    {
      "cell_type": "code",
      "metadata": {
        "colab": {
          "base_uri": "https://localhost:8080/"
        },
        "id": "yZDTMph4ir8o",
        "outputId": "35daf03f-b292-4fb1-fd8d-ed1666fb1a06"
      },
      "source": [
        "new_string = \"This is a String\"  # storing a string\n",
        "\n",
        "print('ID:', id(new_string))  # shows the object identifier (address)\n",
        "print('Type:', type(new_string))  # shows the object type\n",
        "print('Value:', new_string)  # shows the object value"
      ],
      "execution_count": null,
      "outputs": [
        {
          "output_type": "stream",
          "name": "stdout",
          "text": [
            "ID: 137239280964656\n",
            "Type: <class 'str'>\n",
            "Value: This is a String\n"
          ]
        }
      ]
    },
    {
      "cell_type": "markdown",
      "metadata": {
        "id": "FIa_NQD-U9BB"
      },
      "source": [
        "There are various types of strings\n",
        "\n",
        "The above rules tell us different types of string prefixes exist which can be used with different string types to produce string literals. In simple terms, the following types of string literals are used the most.\n",
        "\n",
        "- Short strings: These strings are usually enclosed with single (') or double quotes (\") around the characters. Some examples would be, 'Hello' and \"Hello\".\n",
        "\n",
        "- Long strings: These strings are usually enclosed with three single (''') or double quotes (\"\"\") around the characters. Some examples would be, \"\"\"Hello, I'm a long string\"\"\" or '''Hello I\\'m a long string '''. Do note the (\\') indicates an escape sequence which we shall talk about soon.\n",
        "\n",
        "- Escape sequences in strings: These strings often have escape sequences embedded in them where the rule for escape sequences in mentioned above which starts with a backslash (\\) followed by any ASCII character. Hence they perform backspace interpolation. Popular escape sequences include (\\n) indicating a new line character and (\\t) indicating a tab.\n",
        "\n",
        "- Bytes: These are used to represent bytestrings which create objects of the bytes data type. These strings can be created as bytes('…') or using the b'...' notation. Examples would be bytes('hello') and b'hello'.\n",
        "\n",
        "- Raw strings: These strings were originally created for specifically for regular expressions (regex) and creating regex patterns. These strings can be created using the r'...' notation and keep the string in its raw or native form. Hence it does not perform any backspace interpolation and turns off the escape sequences. An example would be r'Hello'.\n",
        "\n",
        "- Unicode: These strings support Unicode characters in text and they are usually non-ascii character sequences. These strings are denoted with the u'...' notation. However typically in Python 3.x all string literals are typically represented as Unicode. Besides the string notation, there are several specific ways to represent special Unicode characters in the string. The usual include the hex byte value escape sequence of the format '\\xVV'. Besides this, we also have Unicode escape sequences of the form '\\uVVVV' and '\\uVVVVVVVV' where the first form uses 4 hex-digits for encoding a 16 bit character and the second uses 8 hex-digits for encoding a 32-bit character. Some examples would be u 'H\\xe8llo' and u 'H\\u00e8llo' which represents the string 'Hèllo'.\n"
      ]
    },
    {
      "cell_type": "code",
      "metadata": {
        "colab": {
          "base_uri": "https://localhost:8080/"
        },
        "id": "9WpnHzvJi3ad",
        "outputId": "a1c02369-e692-48ec-fb59-d574d99d5c6a"
      },
      "source": [
        "# simple string\n",
        "# You concatenate two strings with \"+\" operator\n",
        "simple_string = 'Hello!' + \" I'm a simple string\"\n",
        "print(simple_string)"
      ],
      "execution_count": null,
      "outputs": [
        {
          "output_type": "stream",
          "name": "stdout",
          "text": [
            "Hello! I'm a simple string\n"
          ]
        }
      ]
    },
    {
      "cell_type": "code",
      "source": [
        "'I\\'m a simple string'"
      ],
      "metadata": {
        "colab": {
          "base_uri": "https://localhost:8080/",
          "height": 35
        },
        "id": "IAePJMQrPFEd",
        "outputId": "bb292bb4-9326-421f-a729-6d9c7c248e2e"
      },
      "execution_count": null,
      "outputs": [
        {
          "output_type": "execute_result",
          "data": {
            "text/plain": [
              "\"I'm a simple string\""
            ],
            "application/vnd.google.colaboratory.intrinsic+json": {
              "type": "string"
            }
          },
          "metadata": {},
          "execution_count": 3
        }
      ]
    },
    {
      "cell_type": "code",
      "metadata": {
        "colab": {
          "base_uri": "https://localhost:8080/",
          "height": 35
        },
        "id": "nZNl2zOci5Mi",
        "outputId": "604802b7-cd99-4b16-ccb5-bb5f823b9614"
      },
      "source": [
        "# multi-line string, note the \\n (newline) escape character automatically created\n",
        "multi_line_string = \"\"\"Hello I'm\n",
        "a multi-line\n",
        "string!\"\"\"\n",
        "\n",
        "multi_line_string\n"
      ],
      "execution_count": null,
      "outputs": [
        {
          "output_type": "execute_result",
          "data": {
            "text/plain": [
              "\"Hello I'm\\na multi-line\\nstring!\""
            ],
            "application/vnd.google.colaboratory.intrinsic+json": {
              "type": "string"
            }
          },
          "metadata": {},
          "execution_count": 4
        }
      ]
    },
    {
      "cell_type": "code",
      "metadata": {
        "colab": {
          "base_uri": "https://localhost:8080/"
        },
        "id": "DvIfVajHi9TJ",
        "outputId": "c148fafd-9945-43f2-c65c-76ada221291e"
      },
      "source": [
        "print(multi_line_string)"
      ],
      "execution_count": null,
      "outputs": [
        {
          "output_type": "stream",
          "name": "stdout",
          "text": [
            "Hello I'm\n",
            "a multi-line\n",
            "string!\n"
          ]
        }
      ]
    },
    {
      "cell_type": "code",
      "metadata": {
        "colab": {
          "base_uri": "https://localhost:8080/"
        },
        "id": "0QYhjCpLjDAM",
        "outputId": "2b2ca047-f005-4101-975b-a43ac0782916"
      },
      "source": [
        "# unicode string literals \\u00e8\n",
        "# python strings extend to unicode characters.\n",
        "string_with_unicode = 'H\\u00e8llo!' # \\u00e8 -> è\n",
        "print(string_with_unicode)"
      ],
      "execution_count": null,
      "outputs": [
        {
          "output_type": "stream",
          "name": "stdout",
          "text": [
            "Hèllo!\n"
          ]
        }
      ]
    },
    {
      "cell_type": "code",
      "metadata": {
        "colab": {
          "base_uri": "https://localhost:8080/"
        },
        "id": "C_e8CB0gjE56",
        "outputId": "39bfe756-bc3b-422a-8586-a1f73f81582b"
      },
      "source": [
        "# Lets show some love for pizza using unicode and python\n",
        "more_unicode = 'I love Pizza 🍕!  Shall we book a cab 🚕 to get pizza?'\n",
        "print(more_unicode)"
      ],
      "execution_count": null,
      "outputs": [
        {
          "output_type": "stream",
          "name": "stdout",
          "text": [
            "I love Pizza 🍕!  Shall we book a cab 🚕 to get pizza?\n"
          ]
        }
      ]
    },
    {
      "cell_type": "code",
      "metadata": {
        "colab": {
          "base_uri": "https://localhost:8080/"
        },
        "id": "ZC8MmJ_80Hbv",
        "outputId": "a94ac27b-6a05-4940-8a94-f250500b4557"
      },
      "source": [
        "[string_with_unicode, more_unicode, 'abc']"
      ],
      "execution_count": null,
      "outputs": [
        {
          "output_type": "execute_result",
          "data": {
            "text/plain": [
              "['Hèllo!', 'I love Pizza 🍕!  Shall we book a cab 🚕 to get pizza?', 'abc']"
            ]
          },
          "metadata": {},
          "execution_count": 8
        }
      ]
    },
    {
      "cell_type": "code",
      "metadata": {
        "colab": {
          "base_uri": "https://localhost:8080/",
          "height": 35
        },
        "id": "S1AFOwcbjMG9",
        "outputId": "3071afca-6653-4ab4-9b7d-9cec8804e9e0"
      },
      "source": [
        "# you can join two strings using the ``join`` function\n",
        "# syntax '<join-char>'.join([list of strings to be joined])\n",
        "' '.join(\n",
        "    [string_with_unicode,\n",
        "     more_unicode,\n",
        "     'abc'])"
      ],
      "execution_count": null,
      "outputs": [
        {
          "output_type": "execute_result",
          "data": {
            "text/plain": [
              "'Hèllo! I love Pizza 🍕!  Shall we book a cab 🚕 to get pizza? abc'"
            ],
            "application/vnd.google.colaboratory.intrinsic+json": {
              "type": "string"
            }
          },
          "metadata": {},
          "execution_count": 9
        }
      ]
    },
    {
      "cell_type": "markdown",
      "metadata": {
        "id": "yEc4WHJpjQ02"
      },
      "source": [
        "## String Operations\n",
        "\n",
        "Strings are iterable sequences and hence a lot of operations can be performed on them which are used especially when processing and parsing textual data into easy to consume formats. There are several operations which can be performed on strings. We have categorized them into the following segments.\n",
        "\n",
        "- Basic operations - concatenation, substrings etc.\n",
        "- Indexing and Slicing\n",
        "- Methods\n",
        "- Formatting\n",
        "- Regular Expressions\n",
        "\n",
        "\n",
        "These would cover the most frequently used techniques for working with strings"
      ]
    },
    {
      "cell_type": "markdown",
      "metadata": {
        "id": "QJkebOipjSvt"
      },
      "source": [
        "### Concatenation\n",
        "\n",
        "- '+' and ' ' operators are simple concatenation operators\n",
        "- We also enclose all strings in paranthesis '(s1 s2...s)` to concatenate all strings with space\n",
        "- '*' operator is used to specify number of repititions of a given string"
      ]
    },
    {
      "cell_type": "code",
      "metadata": {
        "colab": {
          "base_uri": "https://localhost:8080/",
          "height": 35
        },
        "id": "GSZSkrgTjPN1",
        "outputId": "25819681-ce0c-4109-809f-d14b5e46df4c"
      },
      "source": [
        "'Hello 😊' + ' and welcome ' + 'to Python 🐍!'"
      ],
      "execution_count": null,
      "outputs": [
        {
          "output_type": "execute_result",
          "data": {
            "text/plain": [
              "'Hello 😊 and welcome to Python 🐍!'"
            ],
            "application/vnd.google.colaboratory.intrinsic+json": {
              "type": "string"
            }
          },
          "metadata": {},
          "execution_count": 10
        }
      ]
    },
    {
      "cell_type": "code",
      "metadata": {
        "colab": {
          "base_uri": "https://localhost:8080/",
          "height": 35
        },
        "id": "9ACxl_zyjXOG",
        "outputId": "49f8898b-1dc4-42f0-f68d-84c221a53d4f"
      },
      "source": [
        "'Hello 😊' ' and welcome ' 'to Python 🐍!'"
      ],
      "execution_count": null,
      "outputs": [
        {
          "output_type": "execute_result",
          "data": {
            "text/plain": [
              "'Hello 😊 and welcome to Python 🐍!'"
            ],
            "application/vnd.google.colaboratory.intrinsic+json": {
              "type": "string"
            }
          },
          "metadata": {},
          "execution_count": 11
        }
      ]
    },
    {
      "cell_type": "code",
      "source": [
        "' '.join(['Hello 😊',\n",
        " ' and welcome ',\n",
        " 'to Python 🐍!'])"
      ],
      "metadata": {
        "colab": {
          "base_uri": "https://localhost:8080/",
          "height": 35
        },
        "id": "jIJvl8KT5acZ",
        "outputId": "2b82fe16-3ee5-48bd-ec8a-f09af9318520"
      },
      "execution_count": null,
      "outputs": [
        {
          "output_type": "execute_result",
          "data": {
            "text/plain": [
              "'Hello 😊  and welcome  to Python 🐍!'"
            ],
            "application/vnd.google.colaboratory.intrinsic+json": {
              "type": "string"
            }
          },
          "metadata": {},
          "execution_count": 12
        }
      ]
    },
    {
      "cell_type": "code",
      "metadata": {
        "colab": {
          "base_uri": "https://localhost:8080/",
          "height": 35
        },
        "id": "Jza6Ygtnjabo",
        "outputId": "7ecdd38a-fcd1-4c65-a6d5-fc4c8f9529da"
      },
      "source": [
        "# concat variables and literals\n",
        "s1 = 'Python 💻!'\n",
        "'Hello 😊 ' + s1"
      ],
      "execution_count": null,
      "outputs": [
        {
          "output_type": "execute_result",
          "data": {
            "text/plain": [
              "'Hello 😊 Python 💻!'"
            ],
            "application/vnd.google.colaboratory.intrinsic+json": {
              "type": "string"
            }
          },
          "metadata": {},
          "execution_count": 13
        }
      ]
    },
    {
      "cell_type": "code",
      "metadata": {
        "colab": {
          "base_uri": "https://localhost:8080/",
          "height": 35
        },
        "id": "zn0ggiPy0-_u",
        "outputId": "7434fffa-6858-4d0d-947c-86588f63cdc4"
      },
      "source": [
        "'a'*5"
      ],
      "execution_count": null,
      "outputs": [
        {
          "output_type": "execute_result",
          "data": {
            "text/plain": [
              "'aaaaa'"
            ],
            "application/vnd.google.colaboratory.intrinsic+json": {
              "type": "string"
            }
          },
          "metadata": {},
          "execution_count": 14
        }
      ]
    },
    {
      "cell_type": "code",
      "metadata": {
        "colab": {
          "base_uri": "https://localhost:8080/",
          "height": 35
        },
        "id": "ppWbvc8hjetN",
        "outputId": "020a3e6e-94b2-49e8-d971-de02100063cc"
      },
      "source": [
        "# pattern based string concat\n",
        "# or repeat a given string for specified number of times\n",
        "s2 = '--🐍Python🐍--'\n",
        "s2 * 5"
      ],
      "execution_count": null,
      "outputs": [
        {
          "output_type": "execute_result",
          "data": {
            "text/plain": [
              "'--🐍Python🐍----🐍Python🐍----🐍Python🐍----🐍Python🐍----🐍Python🐍--'"
            ],
            "application/vnd.google.colaboratory.intrinsic+json": {
              "type": "string"
            }
          },
          "metadata": {},
          "execution_count": 15
        }
      ]
    },
    {
      "cell_type": "code",
      "metadata": {
        "colab": {
          "base_uri": "https://localhost:8080/",
          "height": 35
        },
        "id": "o3L3l21ajkTf",
        "outputId": "5e8a44a8-5d6f-4d79-fe36-39623320b015"
      },
      "source": [
        "# of course, concatenate and repeat\n",
        "(s1 + s2)*3"
      ],
      "execution_count": null,
      "outputs": [
        {
          "output_type": "execute_result",
          "data": {
            "text/plain": [
              "'Python 💻!--🐍Python🐍--Python 💻!--🐍Python🐍--Python 💻!--🐍Python🐍--'"
            ],
            "application/vnd.google.colaboratory.intrinsic+json": {
              "type": "string"
            }
          },
          "metadata": {},
          "execution_count": 16
        }
      ]
    },
    {
      "cell_type": "code",
      "metadata": {
        "colab": {
          "base_uri": "https://localhost:8080/",
          "height": 35
        },
        "id": "p_QHm_jVjnW7",
        "outputId": "ee831073-4f3c-4491-a51a-042c4848952a"
      },
      "source": [
        "# parenthesis as an operator for string concat\n",
        "s3 = ('This '\n",
        "      'is another way '\n",
        "      'to concatenate '\n",
        "      'several strings!')\n",
        "s3"
      ],
      "execution_count": null,
      "outputs": [
        {
          "output_type": "execute_result",
          "data": {
            "text/plain": [
              "'This is another way to concatenate several strings!'"
            ],
            "application/vnd.google.colaboratory.intrinsic+json": {
              "type": "string"
            }
          },
          "metadata": {},
          "execution_count": 17
        }
      ]
    },
    {
      "cell_type": "markdown",
      "metadata": {
        "id": "StNGEsYRjxij"
      },
      "source": [
        "### Substrings\n",
        "\n",
        "- The \"in\" operator can be used to check if a sequence of characters are contained in a string"
      ]
    },
    {
      "cell_type": "code",
      "source": [
        "s3"
      ],
      "metadata": {
        "colab": {
          "base_uri": "https://localhost:8080/",
          "height": 35
        },
        "id": "kdqAz6x750YK",
        "outputId": "3435d4e8-ef31-4da5-fb36-97e58a2f9587"
      },
      "execution_count": null,
      "outputs": [
        {
          "output_type": "execute_result",
          "data": {
            "text/plain": [
              "'This is another way to concatenate several strings!'"
            ],
            "application/vnd.google.colaboratory.intrinsic+json": {
              "type": "string"
            }
          },
          "metadata": {},
          "execution_count": 18
        }
      ]
    },
    {
      "cell_type": "code",
      "metadata": {
        "colab": {
          "base_uri": "https://localhost:8080/"
        },
        "id": "jWaFt-jgjuo1",
        "outputId": "ff00de5b-a04d-4f4d-deeb-6028f89becef"
      },
      "source": [
        "'way' in s3"
      ],
      "execution_count": null,
      "outputs": [
        {
          "output_type": "execute_result",
          "data": {
            "text/plain": [
              "True"
            ]
          },
          "metadata": {},
          "execution_count": 19
        }
      ]
    },
    {
      "cell_type": "code",
      "source": [
        "'s an' in s3"
      ],
      "metadata": {
        "colab": {
          "base_uri": "https://localhost:8080/"
        },
        "id": "2MD--_azQjaz",
        "outputId": "014fd5ae-9c30-4a73-ad82-7a9c7ab7d508"
      },
      "execution_count": null,
      "outputs": [
        {
          "output_type": "execute_result",
          "data": {
            "text/plain": [
              "True"
            ]
          },
          "metadata": {},
          "execution_count": 20
        }
      ]
    },
    {
      "cell_type": "code",
      "source": [
        "s3.split()"
      ],
      "metadata": {
        "colab": {
          "base_uri": "https://localhost:8080/"
        },
        "id": "ZAtkC7RN6Ce2",
        "outputId": "3d5db48e-7589-4dc3-b0bb-124caf3eb08a"
      },
      "execution_count": null,
      "outputs": [
        {
          "output_type": "execute_result",
          "data": {
            "text/plain": [
              "['This', 'is', 'another', 'way', 'to', 'concatenate', 'several', 'strings!']"
            ]
          },
          "metadata": {},
          "execution_count": 21
        }
      ]
    },
    {
      "cell_type": "markdown",
      "metadata": {
        "id": "y6Emwpwej3RV"
      },
      "source": [
        "### Length of String\n",
        "- \"len\" function is a simple way to get the lenght or number of characters in a given string object"
      ]
    },
    {
      "cell_type": "code",
      "metadata": {
        "colab": {
          "base_uri": "https://localhost:8080/"
        },
        "id": "11vRHb40j0or",
        "outputId": "a39fd2d2-b7fc-432e-ca72-6976531258a4"
      },
      "source": [
        "len(s3)"
      ],
      "execution_count": null,
      "outputs": [
        {
          "output_type": "execute_result",
          "data": {
            "text/plain": [
              "51"
            ]
          },
          "metadata": {},
          "execution_count": 22
        }
      ]
    },
    {
      "cell_type": "code",
      "metadata": {
        "colab": {
          "base_uri": "https://localhost:8080/",
          "height": 35
        },
        "id": "CqpSGM3ufLgG",
        "outputId": "f4c193e3-b90b-423a-c8f9-17a7f1594175"
      },
      "source": [
        "s3"
      ],
      "execution_count": null,
      "outputs": [
        {
          "output_type": "execute_result",
          "data": {
            "text/plain": [
              "'This is another way to concatenate several strings!'"
            ],
            "application/vnd.google.colaboratory.intrinsic+json": {
              "type": "string"
            }
          },
          "metadata": {},
          "execution_count": 23
        }
      ]
    },
    {
      "cell_type": "code",
      "source": [
        "s3.split()"
      ],
      "metadata": {
        "colab": {
          "base_uri": "https://localhost:8080/"
        },
        "id": "y1bwARxR6YO6",
        "outputId": "2acc2008-c340-4bf6-b773-9085dc1a2d70"
      },
      "execution_count": null,
      "outputs": [
        {
          "output_type": "execute_result",
          "data": {
            "text/plain": [
              "['This', 'is', 'another', 'way', 'to', 'concatenate', 'several', 'strings!']"
            ]
          },
          "metadata": {},
          "execution_count": 24
        }
      ]
    },
    {
      "cell_type": "code",
      "source": [
        "len(s3.split())"
      ],
      "metadata": {
        "colab": {
          "base_uri": "https://localhost:8080/"
        },
        "id": "Mw9ynw5z6O2p",
        "outputId": "1e0a02a8-3f0c-4e46-ff01-11a4368347fb"
      },
      "execution_count": null,
      "outputs": [
        {
          "output_type": "execute_result",
          "data": {
            "text/plain": [
              "8"
            ]
          },
          "metadata": {},
          "execution_count": 25
        }
      ]
    },
    {
      "cell_type": "markdown",
      "metadata": {
        "id": "atKINTEGj-14"
      },
      "source": [
        "## String Manipulation\n",
        "- Strings can be manipulated in the same we can manipulate arrays, i.e. using indices\n",
        "- Python strings can be sliced from both sides with special indexing capabilities"
      ]
    },
    {
      "cell_type": "code",
      "metadata": {
        "colab": {
          "base_uri": "https://localhost:8080/"
        },
        "id": "PgmQxi43j5wB",
        "outputId": "b4b9b852-4018-457f-c0e2-ffe8aebd4cec"
      },
      "source": [
        "# creating a string\n",
        "s = 'PYTHON'\n",
        "s, type(s)"
      ],
      "execution_count": null,
      "outputs": [
        {
          "output_type": "execute_result",
          "data": {
            "text/plain": [
              "('PYTHON', str)"
            ]
          },
          "metadata": {},
          "execution_count": 26
        }
      ]
    },
    {
      "cell_type": "code",
      "source": [
        "list(s)"
      ],
      "metadata": {
        "colab": {
          "base_uri": "https://localhost:8080/"
        },
        "id": "onV_EocP6gk9",
        "outputId": "a3d38678-b50a-451e-c354-ed02fe708b3c"
      },
      "execution_count": null,
      "outputs": [
        {
          "output_type": "execute_result",
          "data": {
            "text/plain": [
              "['P', 'Y', 'T', 'H', 'O', 'N']"
            ]
          },
          "metadata": {},
          "execution_count": 27
        }
      ]
    },
    {
      "cell_type": "markdown",
      "metadata": {
        "id": "ITTbs7thkExi"
      },
      "source": [
        "### Indexing\n",
        "\n",
        "Strings are iterables which are sequences of characters. Hence they can be indexed, sliced and iterated through similar to other iterables like lists. Each character has a specific position in the string which is its index and using indexes, we can access specific parts of the string.\n",
        "\n",
        "Accessing a single character using a specific position or index in the string is termed as indexing and accessing a part of a string i.e., a substring using a start and end index is termed as slicing.\n",
        "\n",
        "Python supports two types of indexes, one starting from 0 and increases by 1 each time per character till the end of the string and the other starting from -1 at the end of the string and decreases by 1 each time for each character till the beginning of the string\n",
        "\n",
        "![](https://i.imgur.com/u9tEKkM.png)"
      ]
    },
    {
      "cell_type": "code",
      "metadata": {
        "colab": {
          "base_uri": "https://localhost:8080/"
        },
        "id": "egU6HcCmkB72",
        "outputId": "a175e939-c4bd-4498-8149-bfcaf1586eb4"
      },
      "source": [
        "# depicting string indexes\n",
        "for index, character in enumerate(s):\n",
        "    print('Character ->', character, 'has index->', index)"
      ],
      "execution_count": null,
      "outputs": [
        {
          "output_type": "stream",
          "name": "stdout",
          "text": [
            "Character -> P has index-> 0\n",
            "Character -> Y has index-> 1\n",
            "Character -> T has index-> 2\n",
            "Character -> H has index-> 3\n",
            "Character -> O has index-> 4\n",
            "Character -> N has index-> 5\n"
          ]
        }
      ]
    },
    {
      "cell_type": "code",
      "metadata": {
        "colab": {
          "base_uri": "https://localhost:8080/",
          "height": 35
        },
        "id": "k31kg-L5fda-",
        "outputId": "08f27f7a-16f8-4feb-c793-91effc2720b5"
      },
      "source": [
        "s"
      ],
      "execution_count": null,
      "outputs": [
        {
          "output_type": "execute_result",
          "data": {
            "text/plain": [
              "'PYTHON'"
            ],
            "application/vnd.google.colaboratory.intrinsic+json": {
              "type": "string"
            }
          },
          "metadata": {},
          "execution_count": 29
        }
      ]
    },
    {
      "cell_type": "code",
      "metadata": {
        "colab": {
          "base_uri": "https://localhost:8080/"
        },
        "id": "wbCo3sQakF4L",
        "outputId": "b719093a-3fa8-45f4-a777-d221b4aa661d"
      },
      "source": [
        "s[0], s[1], s[2], s[3], s[4], s[5]"
      ],
      "execution_count": null,
      "outputs": [
        {
          "output_type": "execute_result",
          "data": {
            "text/plain": [
              "('P', 'Y', 'T', 'H', 'O', 'N')"
            ]
          },
          "metadata": {},
          "execution_count": 30
        }
      ]
    },
    {
      "cell_type": "code",
      "metadata": {
        "colab": {
          "base_uri": "https://localhost:8080/"
        },
        "id": "X8uJ7xBkkHqf",
        "outputId": "126e9f69-dbdf-4982-9b7a-fb96b757afc6"
      },
      "source": [
        "s[-1], s[-2], s[-3], s[-4], s[-5], s[-6]"
      ],
      "execution_count": null,
      "outputs": [
        {
          "output_type": "execute_result",
          "data": {
            "text/plain": [
              "('N', 'O', 'H', 'T', 'Y', 'P')"
            ]
          },
          "metadata": {},
          "execution_count": 31
        }
      ]
    },
    {
      "cell_type": "code",
      "source": [
        "list(s)"
      ],
      "metadata": {
        "colab": {
          "base_uri": "https://localhost:8080/"
        },
        "id": "oFKnkaYJRAXj",
        "outputId": "5626e0e5-eaf0-4570-d163-982594bc7a9e"
      },
      "execution_count": null,
      "outputs": [
        {
          "output_type": "execute_result",
          "data": {
            "text/plain": [
              "['P', 'Y', 'T', 'H', 'O', 'N']"
            ]
          },
          "metadata": {},
          "execution_count": 32
        }
      ]
    },
    {
      "cell_type": "markdown",
      "metadata": {
        "id": "UdU4FEO0kLFg"
      },
      "source": [
        "### Slicing"
      ]
    },
    {
      "cell_type": "code",
      "metadata": {
        "colab": {
          "base_uri": "https://localhost:8080/",
          "height": 35
        },
        "id": "trJIki2ukI9l",
        "outputId": "d9beeb37-ef98-4f9d-ce3a-f4f990086cea"
      },
      "source": [
        "s[:]"
      ],
      "execution_count": null,
      "outputs": [
        {
          "output_type": "execute_result",
          "data": {
            "text/plain": [
              "'PYTHON'"
            ],
            "application/vnd.google.colaboratory.intrinsic+json": {
              "type": "string"
            }
          },
          "metadata": {},
          "execution_count": 33
        }
      ]
    },
    {
      "cell_type": "markdown",
      "metadata": {
        "id": "Cnh2C-sr5qvS"
      },
      "source": [
        "- Python strings are 0 indexed\n",
        "- The range mentioned in the square braces includes the lower bound but not the upper bound"
      ]
    },
    {
      "cell_type": "code",
      "metadata": {
        "colab": {
          "base_uri": "https://localhost:8080/",
          "height": 35
        },
        "id": "th7BaEf1kMFj",
        "outputId": "eb492933-08eb-465f-e8ab-d819ca1b8d0f"
      },
      "source": [
        "s[1:4]"
      ],
      "execution_count": null,
      "outputs": [
        {
          "output_type": "execute_result",
          "data": {
            "text/plain": [
              "'YTH'"
            ],
            "application/vnd.google.colaboratory.intrinsic+json": {
              "type": "string"
            }
          },
          "metadata": {},
          "execution_count": 34
        }
      ]
    },
    {
      "cell_type": "code",
      "source": [
        "s[:3]"
      ],
      "metadata": {
        "colab": {
          "base_uri": "https://localhost:8080/",
          "height": 35
        },
        "id": "Xy_Y5CxQRbbH",
        "outputId": "172fe75a-9d6e-4b96-8fb5-8f5335fe2377"
      },
      "execution_count": null,
      "outputs": [
        {
          "output_type": "execute_result",
          "data": {
            "text/plain": [
              "'PYT'"
            ],
            "application/vnd.google.colaboratory.intrinsic+json": {
              "type": "string"
            }
          },
          "metadata": {},
          "execution_count": 35
        }
      ]
    },
    {
      "cell_type": "markdown",
      "metadata": {
        "id": "FftWE12V58P7"
      },
      "source": [
        "- You can count from the end as well\n",
        "- -1 is the last index, -2 is second last and so on"
      ]
    },
    {
      "cell_type": "code",
      "metadata": {
        "colab": {
          "base_uri": "https://localhost:8080/",
          "height": 35
        },
        "id": "j73QypJFkOh5",
        "outputId": "8ce259ef-27b3-4f67-e8eb-fff9b73d23f9"
      },
      "source": [
        "s[-3:]"
      ],
      "execution_count": null,
      "outputs": [
        {
          "output_type": "execute_result",
          "data": {
            "text/plain": [
              "'HON'"
            ],
            "application/vnd.google.colaboratory.intrinsic+json": {
              "type": "string"
            }
          },
          "metadata": {},
          "execution_count": 36
        }
      ]
    },
    {
      "cell_type": "code",
      "metadata": {
        "colab": {
          "base_uri": "https://localhost:8080/"
        },
        "id": "H4ezFw7AkQET",
        "outputId": "8c2076f2-ac72-4b65-faae-6b4eb6a0662d"
      },
      "source": [
        "s[:3] , s[-3:]"
      ],
      "execution_count": null,
      "outputs": [
        {
          "output_type": "execute_result",
          "data": {
            "text/plain": [
              "('PYT', 'HON')"
            ]
          },
          "metadata": {},
          "execution_count": 37
        }
      ]
    },
    {
      "cell_type": "markdown",
      "metadata": {
        "id": "JFKRvDUm6Fkf"
      },
      "source": [
        "- You can move within string with a stride greater than 1 as well"
      ]
    },
    {
      "cell_type": "code",
      "source": [
        "s"
      ],
      "metadata": {
        "colab": {
          "base_uri": "https://localhost:8080/",
          "height": 35
        },
        "id": "MY_I69EARiFf",
        "outputId": "fa4bfb5d-f16e-4714-ab4e-198f605be59e"
      },
      "execution_count": null,
      "outputs": [
        {
          "output_type": "execute_result",
          "data": {
            "text/plain": [
              "'PYTHON'"
            ],
            "application/vnd.google.colaboratory.intrinsic+json": {
              "type": "string"
            }
          },
          "metadata": {},
          "execution_count": 38
        }
      ]
    },
    {
      "cell_type": "code",
      "metadata": {
        "colab": {
          "base_uri": "https://localhost:8080/",
          "height": 35
        },
        "id": "T6kTFWS5kTS_",
        "outputId": "0e4d6844-6849-4291-b25e-1ce3f070b108"
      },
      "source": [
        "# slicing with offsets\n",
        "s[ : :2]  # print every 2nd character in string"
      ],
      "execution_count": null,
      "outputs": [
        {
          "output_type": "execute_result",
          "data": {
            "text/plain": [
              "'PTO'"
            ],
            "application/vnd.google.colaboratory.intrinsic+json": {
              "type": "string"
            }
          },
          "metadata": {},
          "execution_count": 39
        }
      ]
    },
    {
      "cell_type": "code",
      "source": [
        "s = '$45.88'\n",
        "s2 = '$33.25'\n",
        "\n",
        "s + s2"
      ],
      "metadata": {
        "colab": {
          "base_uri": "https://localhost:8080/",
          "height": 35
        },
        "id": "FITuFBq062fL",
        "outputId": "2cf665e1-6586-4439-d3ac-e7244f3ffe6f"
      },
      "execution_count": null,
      "outputs": [
        {
          "output_type": "execute_result",
          "data": {
            "text/plain": [
              "'$45.88$33.25'"
            ],
            "application/vnd.google.colaboratory.intrinsic+json": {
              "type": "string"
            }
          },
          "metadata": {},
          "execution_count": 40
        }
      ]
    },
    {
      "cell_type": "code",
      "source": [
        "s[1:]"
      ],
      "metadata": {
        "colab": {
          "base_uri": "https://localhost:8080/",
          "height": 35
        },
        "id": "q1aoCcz9RtMo",
        "outputId": "d3d9523b-0301-4771-afdc-ef863c0df751"
      },
      "execution_count": null,
      "outputs": [
        {
          "output_type": "execute_result",
          "data": {
            "text/plain": [
              "'45.88'"
            ],
            "application/vnd.google.colaboratory.intrinsic+json": {
              "type": "string"
            }
          },
          "metadata": {},
          "execution_count": 41
        }
      ]
    },
    {
      "cell_type": "code",
      "source": [
        "float(s[1:]) + float(s2[1:])"
      ],
      "metadata": {
        "colab": {
          "base_uri": "https://localhost:8080/"
        },
        "id": "TqRlQQ8p6_l1",
        "outputId": "838e60a0-a60c-41ed-c8c4-848339e18a61"
      },
      "execution_count": null,
      "outputs": [
        {
          "output_type": "execute_result",
          "data": {
            "text/plain": [
              "79.13"
            ]
          },
          "metadata": {},
          "execution_count": 42
        }
      ]
    },
    {
      "cell_type": "markdown",
      "metadata": {
        "id": "1oenT0lBkcfQ"
      },
      "source": [
        "## Strings are IMMUTABLE\n",
        "- You cannot change strings"
      ]
    },
    {
      "cell_type": "code",
      "source": [
        "s = 'PYTHON'"
      ],
      "metadata": {
        "id": "7O8c3emL7OLa"
      },
      "execution_count": null,
      "outputs": []
    },
    {
      "cell_type": "code",
      "metadata": {
        "colab": {
          "base_uri": "https://localhost:8080/",
          "height": 35
        },
        "id": "JwKmTO8k1sGl",
        "outputId": "790cb3eb-d926-4181-b3ba-03d524b67f10"
      },
      "source": [
        "s"
      ],
      "execution_count": null,
      "outputs": [
        {
          "output_type": "execute_result",
          "data": {
            "text/plain": [
              "'PYTHON'"
            ],
            "application/vnd.google.colaboratory.intrinsic+json": {
              "type": "string"
            }
          },
          "metadata": {},
          "execution_count": 44
        }
      ]
    },
    {
      "cell_type": "code",
      "source": [
        "s[0]"
      ],
      "metadata": {
        "colab": {
          "base_uri": "https://localhost:8080/",
          "height": 35
        },
        "id": "cGocq6nDR8Q5",
        "outputId": "96d371f5-0c2e-443e-f31f-6941208f297c"
      },
      "execution_count": null,
      "outputs": [
        {
          "output_type": "execute_result",
          "data": {
            "text/plain": [
              "'P'"
            ],
            "application/vnd.google.colaboratory.intrinsic+json": {
              "type": "string"
            }
          },
          "metadata": {},
          "execution_count": 45
        }
      ]
    },
    {
      "cell_type": "code",
      "metadata": {
        "colab": {
          "base_uri": "https://localhost:8080/",
          "height": 162
        },
        "id": "jfte5C8TkZ8n",
        "outputId": "12c93c17-fc63-44ee-8624-e6688b26ea1f"
      },
      "source": [
        "# strings are immutable hence assignment throws error\n",
        "s[0] = 'X'"
      ],
      "execution_count": null,
      "outputs": [
        {
          "output_type": "error",
          "ename": "TypeError",
          "evalue": "'str' object does not support item assignment",
          "traceback": [
            "\u001b[0;31m---------------------------------------------------------------------------\u001b[0m",
            "\u001b[0;31mTypeError\u001b[0m                                 Traceback (most recent call last)",
            "\u001b[0;32m<ipython-input-46-0d7229b05a1f>\u001b[0m in \u001b[0;36m<cell line: 2>\u001b[0;34m()\u001b[0m\n\u001b[1;32m      1\u001b[0m \u001b[0;31m# strings are immutable hence assignment throws error\u001b[0m\u001b[0;34m\u001b[0m\u001b[0;34m\u001b[0m\u001b[0m\n\u001b[0;32m----> 2\u001b[0;31m \u001b[0ms\u001b[0m\u001b[0;34m[\u001b[0m\u001b[0;36m0\u001b[0m\u001b[0;34m]\u001b[0m \u001b[0;34m=\u001b[0m \u001b[0;34m'X'\u001b[0m\u001b[0;34m\u001b[0m\u001b[0;34m\u001b[0m\u001b[0m\n\u001b[0m",
            "\u001b[0;31mTypeError\u001b[0m: 'str' object does not support item assignment"
          ]
        }
      ]
    },
    {
      "cell_type": "code",
      "metadata": {
        "colab": {
          "base_uri": "https://localhost:8080/",
          "height": 35
        },
        "id": "18dDmOIbgBeW",
        "outputId": "a8c92af1-4be4-4b37-fa04-2df28cb9155f"
      },
      "source": [
        "s[1:]"
      ],
      "execution_count": null,
      "outputs": [
        {
          "output_type": "execute_result",
          "data": {
            "text/plain": [
              "'YTHON'"
            ],
            "application/vnd.google.colaboratory.intrinsic+json": {
              "type": "string"
            }
          },
          "metadata": {},
          "execution_count": 47
        }
      ]
    },
    {
      "cell_type": "code",
      "metadata": {
        "colab": {
          "base_uri": "https://localhost:8080/",
          "height": 35
        },
        "id": "iS-BQaD61x3F",
        "outputId": "71aab70b-4abc-4b17-c613-c8c24745987f"
      },
      "source": [
        "'X' + s[1:]"
      ],
      "execution_count": null,
      "outputs": [
        {
          "output_type": "execute_result",
          "data": {
            "text/plain": [
              "'XYTHON'"
            ],
            "application/vnd.google.colaboratory.intrinsic+json": {
              "type": "string"
            }
          },
          "metadata": {},
          "execution_count": 48
        }
      ]
    },
    {
      "cell_type": "code",
      "metadata": {
        "id": "EnUg_uxYkeyS",
        "colab": {
          "base_uri": "https://localhost:8080/"
        },
        "outputId": "89f5ee4d-3d0a-46c0-e93e-0780fabf11bc"
      },
      "source": [
        "print('Original String id:', id(s))\n",
        "# creates a new string\n",
        "s = 'X' + s[1:]\n",
        "print(s)\n",
        "print('New String id:', id(s))"
      ],
      "execution_count": null,
      "outputs": [
        {
          "output_type": "stream",
          "name": "stdout",
          "text": [
            "Original String id: 137239414751088\n",
            "XYTHON\n",
            "New String id: 137238992569776\n"
          ]
        }
      ]
    },
    {
      "cell_type": "markdown",
      "metadata": {
        "id": "-X4A-MLUknzF"
      },
      "source": [
        "## Case Conversion\n",
        "- Python loves strings and provides a number of utilities to handle various aspects such as case conversion, etc.\n",
        "- Different conversion methods are available by default with all string objects"
      ]
    },
    {
      "cell_type": "code",
      "metadata": {
        "id": "gCTQzmSHkhtb",
        "colab": {
          "base_uri": "https://localhost:8080/",
          "height": 35
        },
        "outputId": "4582ec89-e195-4217-8e09-172529e1061f"
      },
      "source": [
        "s = 'python is great'\n",
        "s"
      ],
      "execution_count": null,
      "outputs": [
        {
          "output_type": "execute_result",
          "data": {
            "text/plain": [
              "'python is great'"
            ],
            "application/vnd.google.colaboratory.intrinsic+json": {
              "type": "string"
            }
          },
          "metadata": {},
          "execution_count": 50
        }
      ]
    },
    {
      "cell_type": "code",
      "metadata": {
        "colab": {
          "base_uri": "https://localhost:8080/",
          "height": 35
        },
        "id": "LL4pgtcFkqBv",
        "outputId": "f313a0c8-16e7-4522-bf32-e504ba0e2b53"
      },
      "source": [
        "s.capitalize()"
      ],
      "execution_count": null,
      "outputs": [
        {
          "output_type": "execute_result",
          "data": {
            "text/plain": [
              "'Python is great'"
            ],
            "application/vnd.google.colaboratory.intrinsic+json": {
              "type": "string"
            }
          },
          "metadata": {},
          "execution_count": 51
        }
      ]
    },
    {
      "cell_type": "code",
      "metadata": {
        "colab": {
          "base_uri": "https://localhost:8080/",
          "height": 35
        },
        "id": "Ms-sGEOxkrwt",
        "outputId": "e5ff4835-02e7-4370-cc22-f2f1b8913b70"
      },
      "source": [
        "s.upper()"
      ],
      "execution_count": null,
      "outputs": [
        {
          "output_type": "execute_result",
          "data": {
            "text/plain": [
              "'PYTHON IS GREAT'"
            ],
            "application/vnd.google.colaboratory.intrinsic+json": {
              "type": "string"
            }
          },
          "metadata": {},
          "execution_count": 52
        }
      ]
    },
    {
      "cell_type": "code",
      "metadata": {
        "colab": {
          "base_uri": "https://localhost:8080/",
          "height": 35
        },
        "id": "rLW9zgekktTx",
        "outputId": "6fbd73cf-90c4-4fea-892d-ff71cfcaac00"
      },
      "source": [
        "s.title()"
      ],
      "execution_count": null,
      "outputs": [
        {
          "output_type": "execute_result",
          "data": {
            "text/plain": [
              "'Python Is Great'"
            ],
            "application/vnd.google.colaboratory.intrinsic+json": {
              "type": "string"
            }
          },
          "metadata": {},
          "execution_count": 53
        }
      ]
    },
    {
      "cell_type": "code",
      "metadata": {
        "colab": {
          "base_uri": "https://localhost:8080/",
          "height": 35
        },
        "id": "PngAwnEsgXNs",
        "outputId": "79a65e76-7e62-46ca-8d66-934671c34db0"
      },
      "source": [
        "s = s.title()\n",
        "s"
      ],
      "execution_count": null,
      "outputs": [
        {
          "output_type": "execute_result",
          "data": {
            "text/plain": [
              "'Python Is Great'"
            ],
            "application/vnd.google.colaboratory.intrinsic+json": {
              "type": "string"
            }
          },
          "metadata": {},
          "execution_count": 54
        }
      ]
    },
    {
      "cell_type": "code",
      "metadata": {
        "colab": {
          "base_uri": "https://localhost:8080/",
          "height": 35
        },
        "id": "0-TFCxX0ga6g",
        "outputId": "2c75a0c6-76d1-4f60-e471-5be0bdcc2fc4"
      },
      "source": [
        "s.lower()"
      ],
      "execution_count": null,
      "outputs": [
        {
          "output_type": "execute_result",
          "data": {
            "text/plain": [
              "'python is great'"
            ],
            "application/vnd.google.colaboratory.intrinsic+json": {
              "type": "string"
            }
          },
          "metadata": {},
          "execution_count": 55
        }
      ]
    },
    {
      "cell_type": "markdown",
      "metadata": {
        "id": "54X3y1ROkwgD"
      },
      "source": [
        "## Replacement\n",
        "- To substitute specific characters in a string, simply use ``replace`` method"
      ]
    },
    {
      "cell_type": "code",
      "metadata": {
        "id": "H8yVBwk92OZa"
      },
      "source": [
        "s = 'Python is great'"
      ],
      "execution_count": null,
      "outputs": []
    },
    {
      "cell_type": "code",
      "metadata": {
        "colab": {
          "base_uri": "https://localhost:8080/",
          "height": 35
        },
        "id": "17e-CG3hkurD",
        "outputId": "38d5f2c3-d36f-4c7d-8aab-ddbec95fc505"
      },
      "source": [
        "s.replace('Python', 'NLP')"
      ],
      "execution_count": null,
      "outputs": [
        {
          "output_type": "execute_result",
          "data": {
            "text/plain": [
              "'NLP is great'"
            ],
            "application/vnd.google.colaboratory.intrinsic+json": {
              "type": "string"
            }
          },
          "metadata": {},
          "execution_count": 57
        }
      ]
    },
    {
      "cell_type": "markdown",
      "metadata": {
        "id": "XjBdvNK_k1q6"
      },
      "source": [
        "## Checks\n",
        "- Strings can be checked whether they are composed of:\n",
        "  - numbers -> ``isdecimal``\n",
        "  - alpha-numeric -> ``isalnum``\n",
        "  - alphabets -> ``isalpha``"
      ]
    },
    {
      "cell_type": "code",
      "metadata": {
        "colab": {
          "base_uri": "https://localhost:8080/"
        },
        "id": "2r9Tq6AdkyTU",
        "outputId": "fc21bb26-65c7-40da-fcbf-dcff6f6413b8"
      },
      "source": [
        "'12345'.isdecimal()"
      ],
      "execution_count": null,
      "outputs": [
        {
          "output_type": "execute_result",
          "data": {
            "text/plain": [
              "True"
            ]
          },
          "metadata": {},
          "execution_count": 58
        }
      ]
    },
    {
      "cell_type": "code",
      "source": [
        "'abc'.isdecimal()"
      ],
      "metadata": {
        "colab": {
          "base_uri": "https://localhost:8080/"
        },
        "id": "7Xpy8Tu4SgFS",
        "outputId": "1d8ac08d-50e6-415e-ec22-c76399036058"
      },
      "execution_count": null,
      "outputs": [
        {
          "output_type": "execute_result",
          "data": {
            "text/plain": [
              "False"
            ]
          },
          "metadata": {},
          "execution_count": 59
        }
      ]
    },
    {
      "cell_type": "code",
      "metadata": {
        "colab": {
          "base_uri": "https://localhost:8080/"
        },
        "id": "l8daNUaPk2vS",
        "outputId": "d2a40c13-3d99-482b-b51d-a3d1dffe6720"
      },
      "source": [
        "'number'.isalpha()"
      ],
      "execution_count": null,
      "outputs": [
        {
          "output_type": "execute_result",
          "data": {
            "text/plain": [
              "True"
            ]
          },
          "metadata": {},
          "execution_count": 60
        }
      ]
    },
    {
      "cell_type": "code",
      "metadata": {
        "colab": {
          "base_uri": "https://localhost:8080/"
        },
        "id": "TMW5ce47k4Zn",
        "outputId": "68d87aea-d046-4aad-83ce-29f03182889b"
      },
      "source": [
        "'12abc'.isalnum()"
      ],
      "execution_count": null,
      "outputs": [
        {
          "output_type": "execute_result",
          "data": {
            "text/plain": [
              "True"
            ]
          },
          "metadata": {},
          "execution_count": 61
        }
      ]
    },
    {
      "cell_type": "code",
      "source": [
        "'abc'.isalnum()"
      ],
      "metadata": {
        "colab": {
          "base_uri": "https://localhost:8080/"
        },
        "id": "5Qh8p59ESm6y",
        "outputId": "c194e777-435e-472a-9f41-7b432afe0c50"
      },
      "execution_count": null,
      "outputs": [
        {
          "output_type": "execute_result",
          "data": {
            "text/plain": [
              "True"
            ]
          },
          "metadata": {},
          "execution_count": 62
        }
      ]
    },
    {
      "cell_type": "code",
      "metadata": {
        "colab": {
          "base_uri": "https://localhost:8080/"
        },
        "id": "PJWe5p_Hk8n4",
        "outputId": "8318eff1-3920-4fc4-d533-62e282c0d7c0"
      },
      "source": [
        "'1+1'.isalnum()"
      ],
      "execution_count": null,
      "outputs": [
        {
          "output_type": "execute_result",
          "data": {
            "text/plain": [
              "False"
            ]
          },
          "metadata": {},
          "execution_count": 63
        }
      ]
    },
    {
      "cell_type": "markdown",
      "metadata": {
        "id": "B82mPHa_lCcx"
      },
      "source": [
        "## Splits and Joins\n",
        "- Splitting strings based on specific characters is pretty simple. ``split(<split-char>)``\n",
        "- Joining is also simple. ``<join-character>.join([list of string objects])``"
      ]
    },
    {
      "cell_type": "code",
      "source": [
        "s = 'This is a string'\n",
        "s"
      ],
      "metadata": {
        "colab": {
          "base_uri": "https://localhost:8080/",
          "height": 35
        },
        "id": "Q4nrV9kw8Clo",
        "outputId": "c3dfd668-c51f-456f-b37c-67f803497927"
      },
      "execution_count": null,
      "outputs": [
        {
          "output_type": "execute_result",
          "data": {
            "text/plain": [
              "'This is a string'"
            ],
            "application/vnd.google.colaboratory.intrinsic+json": {
              "type": "string"
            }
          },
          "metadata": {},
          "execution_count": 64
        }
      ]
    },
    {
      "cell_type": "code",
      "source": [
        "s.split() # Same as split(' ')"
      ],
      "metadata": {
        "colab": {
          "base_uri": "https://localhost:8080/"
        },
        "id": "sWvyxaQ58FJT",
        "outputId": "1883112e-7087-444b-b195-15d0a7a89443"
      },
      "execution_count": null,
      "outputs": [
        {
          "output_type": "execute_result",
          "data": {
            "text/plain": [
              "['This', 'is', 'a', 'string']"
            ]
          },
          "metadata": {},
          "execution_count": 65
        }
      ]
    },
    {
      "cell_type": "code",
      "source": [
        "s.split(' ')"
      ],
      "metadata": {
        "colab": {
          "base_uri": "https://localhost:8080/"
        },
        "id": "7swqPu2h8G9w",
        "outputId": "728b6c95-734f-4fb4-c124-0269d37f4272"
      },
      "execution_count": null,
      "outputs": [
        {
          "output_type": "execute_result",
          "data": {
            "text/plain": [
              "['This', 'is', 'a', 'string']"
            ]
          },
          "metadata": {},
          "execution_count": 66
        }
      ]
    },
    {
      "cell_type": "code",
      "source": [
        "s.split(',') # wrong separator doesn't work"
      ],
      "metadata": {
        "colab": {
          "base_uri": "https://localhost:8080/"
        },
        "id": "AD0moNo28J1o",
        "outputId": "f39c038a-9b7a-4993-840b-097c63e021ca"
      },
      "execution_count": null,
      "outputs": [
        {
          "output_type": "execute_result",
          "data": {
            "text/plain": [
              "['This is a string']"
            ]
          },
          "metadata": {},
          "execution_count": 67
        }
      ]
    },
    {
      "cell_type": "code",
      "metadata": {
        "colab": {
          "base_uri": "https://localhost:8080/",
          "height": 35
        },
        "id": "ZRuFZ9u7k_fO",
        "outputId": "526b74a2-c2ec-4dc5-82a1-bc06174aa539"
      },
      "source": [
        "s = 'I,am,a,comma,separated,string'\n",
        "\n",
        "s"
      ],
      "execution_count": null,
      "outputs": [
        {
          "output_type": "execute_result",
          "data": {
            "text/plain": [
              "'I,am,a,comma,separated,string'"
            ],
            "application/vnd.google.colaboratory.intrinsic+json": {
              "type": "string"
            }
          },
          "metadata": {},
          "execution_count": 68
        }
      ]
    },
    {
      "cell_type": "code",
      "metadata": {
        "colab": {
          "base_uri": "https://localhost:8080/"
        },
        "id": "dZ7WZDJl3Dib",
        "outputId": "a2d7d57d-58c5-4ebb-c06f-fe3f539dff6f"
      },
      "source": [
        "s_new = s.split(',')\n",
        "s_new"
      ],
      "execution_count": null,
      "outputs": [
        {
          "output_type": "execute_result",
          "data": {
            "text/plain": [
              "['I', 'am', 'a', 'comma', 'separated', 'string']"
            ]
          },
          "metadata": {},
          "execution_count": 69
        }
      ]
    },
    {
      "cell_type": "code",
      "source": [
        "' '.join(s_new)"
      ],
      "metadata": {
        "colab": {
          "base_uri": "https://localhost:8080/",
          "height": 35
        },
        "id": "FYsq5LZ8SI8R",
        "outputId": "c0d0f1fe-bc91-42b9-9443-e4550494f09f"
      },
      "execution_count": null,
      "outputs": [
        {
          "output_type": "execute_result",
          "data": {
            "text/plain": [
              "'I am a comma separated string'"
            ],
            "application/vnd.google.colaboratory.intrinsic+json": {
              "type": "string"
            }
          },
          "metadata": {},
          "execution_count": 70
        }
      ]
    },
    {
      "cell_type": "code",
      "metadata": {
        "colab": {
          "base_uri": "https://localhost:8080/",
          "height": 35
        },
        "id": "pzo4c7GQ20D9",
        "outputId": "5252757d-f9d3-414c-e465-2a0a43225190"
      },
      "source": [
        "s = 'Splitting strings based - on specific characters - is pretty simple'\n",
        "s"
      ],
      "execution_count": null,
      "outputs": [
        {
          "output_type": "execute_result",
          "data": {
            "text/plain": [
              "'Splitting strings based - on specific characters - is pretty simple'"
            ],
            "application/vnd.google.colaboratory.intrinsic+json": {
              "type": "string"
            }
          },
          "metadata": {},
          "execution_count": 71
        }
      ]
    },
    {
      "cell_type": "code",
      "metadata": {
        "colab": {
          "base_uri": "https://localhost:8080/"
        },
        "id": "nf_EtElQ23Uw",
        "outputId": "6363f57c-525e-41a9-8221-3acbc7077168"
      },
      "source": [
        "l = s.split(' - ')\n",
        "l"
      ],
      "execution_count": null,
      "outputs": [
        {
          "output_type": "execute_result",
          "data": {
            "text/plain": [
              "['Splitting strings based', 'on specific characters', 'is pretty simple']"
            ]
          },
          "metadata": {},
          "execution_count": 72
        }
      ]
    },
    {
      "cell_type": "code",
      "metadata": {
        "colab": {
          "base_uri": "https://localhost:8080/",
          "height": 35
        },
        "id": "DoklXIJGlDte",
        "outputId": "250ffd9a-5e2a-4cda-ac01-290a5e3f6f70"
      },
      "source": [
        "' '.join(l)"
      ],
      "execution_count": null,
      "outputs": [
        {
          "output_type": "execute_result",
          "data": {
            "text/plain": [
              "'Splitting strings based on specific characters is pretty simple'"
            ],
            "application/vnd.google.colaboratory.intrinsic+json": {
              "type": "string"
            }
          },
          "metadata": {},
          "execution_count": 73
        }
      ]
    },
    {
      "cell_type": "code",
      "metadata": {
        "colab": {
          "base_uri": "https://localhost:8080/",
          "height": 35
        },
        "id": "gITj7-JTlFPa",
        "outputId": "ec4a477c-a6cc-49de-efd6-3ff316a08a23"
      },
      "source": [
        "# stripping whitespace characters\n",
        "s = '   I am surrounded    by spaces    '\n",
        "s"
      ],
      "execution_count": null,
      "outputs": [
        {
          "output_type": "execute_result",
          "data": {
            "text/plain": [
              "'   I am surrounded    by spaces    '"
            ],
            "application/vnd.google.colaboratory.intrinsic+json": {
              "type": "string"
            }
          },
          "metadata": {},
          "execution_count": 74
        }
      ]
    },
    {
      "cell_type": "code",
      "metadata": {
        "colab": {
          "base_uri": "https://localhost:8080/",
          "height": 35
        },
        "id": "GBy__AIv3isF",
        "outputId": "e661e3a1-d0c4-46c3-c152-0385c882252d"
      },
      "source": [
        "s.strip()"
      ],
      "execution_count": null,
      "outputs": [
        {
          "output_type": "execute_result",
          "data": {
            "text/plain": [
              "'I am surrounded    by spaces'"
            ],
            "application/vnd.google.colaboratory.intrinsic+json": {
              "type": "string"
            }
          },
          "metadata": {},
          "execution_count": 75
        }
      ]
    },
    {
      "cell_type": "code",
      "metadata": {
        "colab": {
          "base_uri": "https://localhost:8080/"
        },
        "id": "hjDCpOdBh3E1",
        "outputId": "79b5d320-f810-4020-9960-d4e3de9e33ee"
      },
      "source": [
        "s.strip().split()"
      ],
      "execution_count": null,
      "outputs": [
        {
          "output_type": "execute_result",
          "data": {
            "text/plain": [
              "['I', 'am', 'surrounded', 'by', 'spaces']"
            ]
          },
          "metadata": {},
          "execution_count": 76
        }
      ]
    },
    {
      "cell_type": "code",
      "metadata": {
        "colab": {
          "base_uri": "https://localhost:8080/",
          "height": 35
        },
        "id": "m59VpCSglH-p",
        "outputId": "cffbc60e-04fd-48e8-f8ce-3597d717bda0"
      },
      "source": [
        "' '.join(s.split())"
      ],
      "execution_count": null,
      "outputs": [
        {
          "output_type": "execute_result",
          "data": {
            "text/plain": [
              "'I am surrounded by spaces'"
            ],
            "application/vnd.google.colaboratory.intrinsic+json": {
              "type": "string"
            }
          },
          "metadata": {},
          "execution_count": 77
        }
      ]
    },
    {
      "cell_type": "markdown",
      "metadata": {
        "id": "z2V9CJCjlOoF"
      },
      "source": [
        "## Formatting\n",
        "- What fun it would be if we could not format strings\n",
        "- Python provides a number of ways of formating strings"
      ]
    },
    {
      "cell_type": "markdown",
      "metadata": {
        "id": "lsYC4PfTldD-"
      },
      "source": [
        "### New Style\n",
        "- The recent versions of python prefer the following method of formating strings"
      ]
    },
    {
      "cell_type": "code",
      "metadata": {
        "colab": {
          "base_uri": "https://localhost:8080/",
          "height": 35
        },
        "id": "UMWaJZCJlaES",
        "outputId": "79847cf7-8bcd-4dd0-8a01-a00b3d4d484b"
      },
      "source": [
        "'Hello {} {}, it is a great {} to meet you at {}'.format('Mr.', 'Jones', 'pleasure', round(5.3453,2))"
      ],
      "execution_count": null,
      "outputs": [
        {
          "output_type": "execute_result",
          "data": {
            "text/plain": [
              "'Hello Mr. Jones, it is a great pleasure to meet you at 5.35'"
            ],
            "application/vnd.google.colaboratory.intrinsic+json": {
              "type": "string"
            }
          },
          "metadata": {},
          "execution_count": 78
        }
      ]
    },
    {
      "cell_type": "code",
      "metadata": {
        "colab": {
          "base_uri": "https://localhost:8080/",
          "height": 35
        },
        "id": "VrUtTs1nlfMB",
        "outputId": "fb0c6a29-8c48-4d39-869c-b91932832c9d"
      },
      "source": [
        "'Hello {} {}, it is a great {} to meet you at {} o\\' clock'.format('Sir', 'Arthur', 'honor', 9)"
      ],
      "execution_count": null,
      "outputs": [
        {
          "output_type": "execute_result",
          "data": {
            "text/plain": [
              "\"Hello Sir Arthur, it is a great honor to meet you at 9 o' clock\""
            ],
            "application/vnd.google.colaboratory.intrinsic+json": {
              "type": "string"
            }
          },
          "metadata": {},
          "execution_count": 79
        }
      ]
    },
    {
      "cell_type": "code",
      "metadata": {
        "colab": {
          "base_uri": "https://localhost:8080/",
          "height": 35
        },
        "id": "22oU5iLylgz1",
        "outputId": "e80d6110-b2fd-47d5-dcd8-0ee53319f46c"
      },
      "source": [
        "'I have a {food_item} and a {drink_item} with me'.format(drink_item='soda', food_item='sandwich')"
      ],
      "execution_count": null,
      "outputs": [
        {
          "output_type": "execute_result",
          "data": {
            "text/plain": [
              "'I have a sandwich and a soda with me'"
            ],
            "application/vnd.google.colaboratory.intrinsic+json": {
              "type": "string"
            }
          },
          "metadata": {},
          "execution_count": 80
        }
      ]
    },
    {
      "cell_type": "markdown",
      "source": [
        "### Newest Style\n",
        "- The most recent versions of python prefer the following method of formating strings - f-strings"
      ],
      "metadata": {
        "id": "M-H3Vsorb_bK"
      }
    },
    {
      "cell_type": "code",
      "source": [
        "# lookup f string python"
      ],
      "metadata": {
        "id": "XZYhUQvUS8PK"
      },
      "execution_count": null,
      "outputs": []
    },
    {
      "cell_type": "code",
      "source": [
        "name = \"Eric\"\n",
        "age = 74\n",
        "s = f\"Hello, {name}. You are {age}.\"\n",
        "s"
      ],
      "metadata": {
        "colab": {
          "base_uri": "https://localhost:8080/",
          "height": 35
        },
        "id": "3RkaHnXST1u7",
        "outputId": "4244dcf8-2de9-42b3-b21d-f672f16c585f"
      },
      "execution_count": null,
      "outputs": [
        {
          "output_type": "execute_result",
          "data": {
            "text/plain": [
              "'Hello, Eric. You are 74.'"
            ],
            "application/vnd.google.colaboratory.intrinsic+json": {
              "type": "string"
            }
          },
          "metadata": {},
          "execution_count": 82
        }
      ]
    },
    {
      "cell_type": "markdown",
      "metadata": {
        "id": "T9aWr-Rjlsfn"
      },
      "source": [
        "## Regular Expressions\n",
        "A regular expression is a sequence of characters that define a search pattern. Patterns are used by string-searching algorithms for \"find\" or \"find and replace\" operations on strings, or for input validation.\n",
        "\n",
        "Python provides a simple yet powerful library ``re`` to use regular-expressions"
      ]
    },
    {
      "cell_type": "markdown",
      "metadata": {
        "id": "kN-3votYXCob"
      },
      "source": [
        "Regular expressions, known more popularly as regexes allows you to create string patterns and use them for searching and substituting specific pattern matches in textual data. Python offers a rich module named re for creating and using regular expressions. Entire books have been written on this topic because it is easy to use but difficult to master. Discussing every aspect of regular expressions would not be possible in the current scope but we will cover the main areas with sufficient examples which should be enough to get started on this topic.\n",
        "\n",
        "Regular expressions or regexes are specific patterns often denotes using the raw string notation. These patterns match a specific set of strings based on the rules expressed by the patterns. These patterns then are usually compiled into bytecode which is then executed for matching strings using a matching engine. The re module also provides several flags which can change the way the pattern matches are executed. Some important flags are mentioned as follows.\n",
        "\n",
        "- re.I or re.IGNORECASE is used to match patterns ignoring case sensitivity\n",
        "- re.S or re.DOTALL causes the period (.) character to match any character including new lines\n",
        "- re.U or re.UNICODE helps in matching Unicode based characters also (deprecated in Python 3.x)\n"
      ]
    },
    {
      "cell_type": "code",
      "metadata": {
        "id": "gCg-slBollh0"
      },
      "source": [
        "s1 = 'Python is an excellent language'\n",
        "s2 = 'I love the Python language. I also use Python to build applications at work!'"
      ],
      "execution_count": null,
      "outputs": []
    },
    {
      "cell_type": "code",
      "metadata": {
        "id": "8cCgsMxjlvQe"
      },
      "source": [
        "import re\n",
        "\n",
        "pattern = 'python'\n",
        "# match only returns a match if regex match is found at the beginning of the string\n",
        "re.match(pattern, s1)"
      ],
      "execution_count": null,
      "outputs": []
    },
    {
      "cell_type": "markdown",
      "metadata": {
        "id": "Y6rxmZ4w8Rt1"
      },
      "source": [
        "## Lets find some strings"
      ]
    },
    {
      "cell_type": "code",
      "metadata": {
        "colab": {
          "base_uri": "https://localhost:8080/"
        },
        "id": "GWPTIyxEl0zJ",
        "outputId": "2832be03-d1b4-4d39-8129-83e3d054fd4a"
      },
      "source": [
        "# pattern is in lower case hence ignore case flag helps\n",
        "# in matching same pattern with different cases\n",
        "re.match(pattern, s1, flags=re.I)"
      ],
      "execution_count": null,
      "outputs": [
        {
          "output_type": "execute_result",
          "data": {
            "text/plain": [
              "<re.Match object; span=(0, 6), match='Python'>"
            ]
          },
          "metadata": {},
          "execution_count": 85
        }
      ]
    },
    {
      "cell_type": "code",
      "metadata": {
        "colab": {
          "base_uri": "https://localhost:8080/"
        },
        "id": "gqaMCboAl2ve",
        "outputId": "ae8e232e-5f40-484c-926e-3d636736e240"
      },
      "source": [
        "# printing matched string and its indices in the original string\n",
        "m = re.match(pattern, s1, flags=re.IGNORECASE)\n",
        "print('Found match {} ranging from index {} - {} in the string \"{}\"'.format(m.group(0),\n",
        "                                                                            m.start(),\n",
        "                                                                            m.end(), s1))"
      ],
      "execution_count": null,
      "outputs": [
        {
          "output_type": "stream",
          "name": "stdout",
          "text": [
            "Found match Python ranging from index 0 - 6 in the string \"Python is an excellent language\"\n"
          ]
        }
      ]
    },
    {
      "cell_type": "code",
      "source": [
        "m.group(0), m.start(), m.end()"
      ],
      "metadata": {
        "colab": {
          "base_uri": "https://localhost:8080/"
        },
        "id": "DxWl_6lK-sJs",
        "outputId": "0e94b231-4d48-4701-d1e5-dd4d374d2054"
      },
      "execution_count": null,
      "outputs": [
        {
          "output_type": "execute_result",
          "data": {
            "text/plain": [
              "('Python', 0, 6)"
            ]
          },
          "metadata": {},
          "execution_count": 87
        }
      ]
    },
    {
      "cell_type": "code",
      "metadata": {
        "colab": {
          "base_uri": "https://localhost:8080/",
          "height": 35
        },
        "id": "-QhWBeAnjkUF",
        "outputId": "20ef419f-5931-4c00-d568-b6f14aee0620"
      },
      "source": [
        "s1"
      ],
      "execution_count": null,
      "outputs": [
        {
          "output_type": "execute_result",
          "data": {
            "text/plain": [
              "'Python is an excellent language'"
            ],
            "application/vnd.google.colaboratory.intrinsic+json": {
              "type": "string"
            }
          },
          "metadata": {},
          "execution_count": 88
        }
      ]
    },
    {
      "cell_type": "code",
      "metadata": {
        "colab": {
          "base_uri": "https://localhost:8080/",
          "height": 35
        },
        "id": "JLKx19g95UQB",
        "outputId": "5ba18e20-5ed8-494f-de06-27a9e2942951"
      },
      "source": [
        "s1[m.start():m.end()]"
      ],
      "execution_count": null,
      "outputs": [
        {
          "output_type": "execute_result",
          "data": {
            "text/plain": [
              "'Python'"
            ],
            "application/vnd.google.colaboratory.intrinsic+json": {
              "type": "string"
            }
          },
          "metadata": {},
          "execution_count": 89
        }
      ]
    },
    {
      "cell_type": "code",
      "source": [
        "s2"
      ],
      "metadata": {
        "colab": {
          "base_uri": "https://localhost:8080/",
          "height": 35
        },
        "id": "gmV7WYUH_Ha_",
        "outputId": "eb27962f-438c-47a4-fedd-ef06568f344c"
      },
      "execution_count": null,
      "outputs": [
        {
          "output_type": "execute_result",
          "data": {
            "text/plain": [
              "'I love the Python language. I also use Python to build applications at work!'"
            ],
            "application/vnd.google.colaboratory.intrinsic+json": {
              "type": "string"
            }
          },
          "metadata": {},
          "execution_count": 90
        }
      ]
    },
    {
      "cell_type": "code",
      "metadata": {
        "id": "_1ZUepz-l6Mt"
      },
      "source": [
        "# match does not work when pattern is not there in the beginning of string s2\n",
        "re.match(pattern, s2, flags=re.I)"
      ],
      "execution_count": null,
      "outputs": []
    },
    {
      "cell_type": "code",
      "metadata": {
        "colab": {
          "base_uri": "https://localhost:8080/"
        },
        "id": "scPfsm_6l7tR",
        "outputId": "f5f5f0f6-92cb-4b82-c2e4-d118ad4c88ff"
      },
      "source": [
        "# illustrating find and search methods using the re module\n",
        "re.search(pattern, s2, flags=re.I)"
      ],
      "execution_count": null,
      "outputs": [
        {
          "output_type": "execute_result",
          "data": {
            "text/plain": [
              "<re.Match object; span=(11, 17), match='Python'>"
            ]
          },
          "metadata": {},
          "execution_count": 92
        }
      ]
    },
    {
      "cell_type": "code",
      "metadata": {
        "colab": {
          "base_uri": "https://localhost:8080/"
        },
        "id": "S8JgCL8ul_7G",
        "outputId": "187af54e-8eaf-4f2c-de8d-1f06db1ae780"
      },
      "source": [
        "# find all substrings\n",
        "re.findall(pattern, s2, re.IGNORECASE)"
      ],
      "execution_count": null,
      "outputs": [
        {
          "output_type": "execute_result",
          "data": {
            "text/plain": [
              "['Python', 'Python']"
            ]
          },
          "metadata": {},
          "execution_count": 93
        }
      ]
    },
    {
      "cell_type": "code",
      "metadata": {
        "colab": {
          "base_uri": "https://localhost:8080/"
        },
        "id": "j87fMp43mEBh",
        "outputId": "2be85b6b-742c-475d-daa0-1de4e970e225"
      },
      "source": [
        "# get an iterator for matches found in a string\n",
        "match_objs = re.finditer(pattern, s2, flags=re.IGNORECASE)\n",
        "match_objs"
      ],
      "execution_count": null,
      "outputs": [
        {
          "output_type": "execute_result",
          "data": {
            "text/plain": [
              "<callable_iterator at 0x7cd171629cc0>"
            ]
          },
          "metadata": {},
          "execution_count": 94
        }
      ]
    },
    {
      "cell_type": "code",
      "metadata": {
        "colab": {
          "base_uri": "https://localhost:8080/"
        },
        "id": "mgWzkHVM6Yum",
        "outputId": "aed18975-3509-4b31-9afb-3a48f270764a"
      },
      "source": [
        "list(match_objs)"
      ],
      "execution_count": null,
      "outputs": [
        {
          "output_type": "execute_result",
          "data": {
            "text/plain": [
              "[<re.Match object; span=(11, 17), match='Python'>,\n",
              " <re.Match object; span=(39, 45), match='Python'>]"
            ]
          },
          "metadata": {},
          "execution_count": 95
        }
      ]
    },
    {
      "cell_type": "code",
      "metadata": {
        "colab": {
          "base_uri": "https://localhost:8080/"
        },
        "id": "NIj6JdOKmIxC",
        "outputId": "e3584e6a-9824-4226-b4bb-90313cba5ce2"
      },
      "source": [
        "match_objs = re.finditer(pattern, s2, flags=re.IGNORECASE)\n",
        "\n",
        "print(\"String:\", s2)\n",
        "for m in match_objs:\n",
        "    print('Found match \"{}\" ranging from index {} - {}'.format(m.group(0),\n",
        "                                                               m.start(), m.end()))"
      ],
      "execution_count": null,
      "outputs": [
        {
          "output_type": "stream",
          "name": "stdout",
          "text": [
            "String: I love the Python language. I also use Python to build applications at work!\n",
            "Found match \"Python\" ranging from index 11 - 17\n",
            "Found match \"Python\" ranging from index 39 - 45\n"
          ]
        }
      ]
    },
    {
      "cell_type": "markdown",
      "metadata": {
        "id": "7ZmOJKrZXOHo"
      },
      "source": [
        "For pattern matching, there are various rules used in regexes. Some popular ones are mentioned as follows.\n",
        "\n",
        "-\t`.` for matching any single character\n",
        "-\t`^` for matching the start of the string\n",
        "-\t`$` for matching the end of the string\n",
        "-\t`*` for matching zero or more cases of the previous mentioned regex before the `*` symbol in the pattern\n",
        "-\t`?` for matching zero or one case of the previous mentioned regex before the `?` symbol in the pattern\n",
        "-\t`[...]` for matching any one of the set of characters inside the square brackets\n",
        "-\t`[^...]` for matching a character not present in the square brackets after the `^` symbol\n",
        "-\t`|` denotes the OR operator for matching either the preceding or the next regex\n",
        "-\t`+` for matching one or more cases of the previous mentioned regex before the `+` symbol in the pattern\n",
        "-\t`\\d` for matching decimal digits which is also depicted as `[0-9]`\n",
        "-\t`\\D` for matching non-digits, also depicted as `[^0-9]`\n",
        "-\t`\\s` for matching white space characters\n",
        "-\t`\\S` for matching non whitespace characters\n",
        "-\t`\\w` for matching alpha-numeric characters also depicted as `[a-zA-Z0-9_]`\n",
        "-\t`\\W` for matching non alpha-numeric characters also depicted as `[^a-zA-Z0-9_]`\n"
      ]
    },
    {
      "cell_type": "markdown",
      "metadata": {
        "id": "M9DHvTkPXx3v"
      },
      "source": [
        "Regular expressions can be compiled into pattern objects and then they can be used with a variety of methods for pattern search and substitution in strings. The main methods offered by the re module for performing these operations are described briefly as follows.\n",
        "\n",
        "-\t`re.compile()`: This method compiles a specified regular expression pattern into a regular expression object, which can be used for matching and searching. Takes a pattern and optional flags as input which we discussed above.\n",
        "-\t`re.match()`: This method is used to match patterns at the beginning of strings.\n",
        "-\t`re.search()`: This method is used to match patterns occurring at any position in the string.\n",
        "-\t`re.findall()`: This method returns all non-overlapping matches of the specified regex pattern in the string.\n",
        "-\t`re.finditer()`: This method returns all matched instances in the form of an iterator, for a specific pattern in a string when scanned from left to right.\n",
        "-\t`re.sub()`: This method is used to substitute a specified regex pattern in a string with a replacement string. It only substitutes the left-most occurrence of the pattern in the string.\n"
      ]
    },
    {
      "cell_type": "markdown",
      "metadata": {
        "id": "BFg1zzjrmObl"
      },
      "source": [
        "## Time for some Substitution\n",
        "Regular expressions are useful in locating different patterns in a given string. This search capability is further enhanced by utilities to replace the substrings as well.\n",
        "\n",
        "The python ``re`` library provides the following methods for substitution:\n",
        "- ``sub``\n",
        "- ``subn``"
      ]
    },
    {
      "cell_type": "code",
      "metadata": {
        "colab": {
          "base_uri": "https://localhost:8080/",
          "height": 35
        },
        "id": "mPHMDu617k5V",
        "outputId": "13067cc1-d682-43d7-bbb8-07113f333921"
      },
      "source": [
        "s2"
      ],
      "execution_count": null,
      "outputs": [
        {
          "output_type": "execute_result",
          "data": {
            "text/plain": [
              "'I love the Python language. I also use Python to build applications at work!'"
            ],
            "application/vnd.google.colaboratory.intrinsic+json": {
              "type": "string"
            }
          },
          "metadata": {},
          "execution_count": 97
        }
      ]
    },
    {
      "cell_type": "code",
      "metadata": {
        "colab": {
          "base_uri": "https://localhost:8080/",
          "height": 35
        },
        "id": "0Y0YbJz_7m7O",
        "outputId": "53960691-0107-49e9-98a4-3f23ebea6b33"
      },
      "source": [
        "pattern"
      ],
      "execution_count": null,
      "outputs": [
        {
          "output_type": "execute_result",
          "data": {
            "text/plain": [
              "'python'"
            ],
            "application/vnd.google.colaboratory.intrinsic+json": {
              "type": "string"
            }
          },
          "metadata": {},
          "execution_count": 98
        }
      ]
    },
    {
      "cell_type": "code",
      "metadata": {
        "colab": {
          "base_uri": "https://localhost:8080/",
          "height": 35
        },
        "id": "QaqR-BVOmLPF",
        "outputId": "3b25f7f7-a164-4cfb-b6be-1c40378249f4"
      },
      "source": [
        "# illustrating pattern substitution using sub and subn methods\n",
        "re.sub(pattern, 'C++', s2, flags=re.I)"
      ],
      "execution_count": null,
      "outputs": [
        {
          "output_type": "execute_result",
          "data": {
            "text/plain": [
              "'I love the C++ language. I also use C++ to build applications at work!'"
            ],
            "application/vnd.google.colaboratory.intrinsic+json": {
              "type": "string"
            }
          },
          "metadata": {},
          "execution_count": 99
        }
      ]
    },
    {
      "cell_type": "code",
      "metadata": {
        "colab": {
          "base_uri": "https://localhost:8080/"
        },
        "id": "BKEP9X-YmRSO",
        "outputId": "79b604b3-07a2-434d-e8b8-3e8a876279df"
      },
      "source": [
        "re.subn(pattern, 'Java', s2, flags=re.IGNORECASE)"
      ],
      "execution_count": null,
      "outputs": [
        {
          "output_type": "execute_result",
          "data": {
            "text/plain": [
              "('I love the Java language. I also use Java to build applications at work!', 2)"
            ]
          },
          "metadata": {},
          "execution_count": 100
        }
      ]
    },
    {
      "cell_type": "markdown",
      "metadata": {
        "id": "o_VN3Q-58m4O"
      },
      "source": [
        "## Regex and Unicode Strings\n",
        "Python handles unicode strings pretty well. This capability is carried forward by the ``re`` package as well. We can easily search for patterns in a unicode string and vice-versa as well"
      ]
    },
    {
      "cell_type": "code",
      "metadata": {
        "colab": {
          "base_uri": "https://localhost:8080/",
          "height": 35
        },
        "id": "i7JGMVPzmUzH",
        "outputId": "53114253-94c4-44fd-ea88-aa4ded86e4db"
      },
      "source": [
        "# dealing with unicode matching using regexes\n",
        "s = u'H\\u00e8llo! this is Python 🐍'\n",
        "s"
      ],
      "execution_count": null,
      "outputs": [
        {
          "output_type": "execute_result",
          "data": {
            "text/plain": [
              "'Hèllo! this is Python 🐍'"
            ],
            "application/vnd.google.colaboratory.intrinsic+json": {
              "type": "string"
            }
          },
          "metadata": {},
          "execution_count": 101
        }
      ]
    },
    {
      "cell_type": "code",
      "metadata": {
        "colab": {
          "base_uri": "https://localhost:8080/"
        },
        "id": "xjlDdJtvmc8M",
        "outputId": "9f0e59af-5f3e-4f53-972d-2f20f7581360"
      },
      "source": [
        "re.findall(r'\\w+', s)"
      ],
      "execution_count": null,
      "outputs": [
        {
          "output_type": "execute_result",
          "data": {
            "text/plain": [
              "['Hèllo', 'this', 'is', 'Python']"
            ]
          },
          "metadata": {},
          "execution_count": 102
        }
      ]
    },
    {
      "cell_type": "code",
      "metadata": {
        "colab": {
          "base_uri": "https://localhost:8080/"
        },
        "id": "JxytzouKmewm",
        "outputId": "24445fc5-88f5-4094-d0db-5eeda492f838"
      },
      "source": [
        "re.findall(r'[A-Z]\\w+', s)"
      ],
      "execution_count": null,
      "outputs": [
        {
          "output_type": "execute_result",
          "data": {
            "text/plain": [
              "['Hèllo', 'Python']"
            ]
          },
          "metadata": {},
          "execution_count": 103
        }
      ]
    },
    {
      "cell_type": "code",
      "metadata": {
        "colab": {
          "base_uri": "https://localhost:8080/"
        },
        "id": "EZkd_ci5mgSn",
        "outputId": "3c127085-92e0-4081-db10-c3b7415a3bf3"
      },
      "source": [
        "# you can find such curated patterns online\n",
        "emoji_pattern = r\"['\\U0001F300-\\U0001F5FF'|'\\U0001F600-\\U0001F64F'|'\\U0001F680-\\U0001F6FF'|'\\u2600-\\u26FF\\u2700-\\u27BF']\"\n",
        "re.findall(emoji_pattern, s)"
      ],
      "execution_count": null,
      "outputs": [
        {
          "output_type": "execute_result",
          "data": {
            "text/plain": [
              "['🐍']"
            ]
          },
          "metadata": {},
          "execution_count": 104
        }
      ]
    },
    {
      "cell_type": "markdown",
      "metadata": {
        "id": "DBYU1vmG4BNu"
      },
      "source": [
        "## Regex Anchors\n",
        "\n",
        "Anchors are a special feature of the regex library. It allows us to apply pattern search to specific contexts. Anchors are identified through the use of escape character `\\`. The following are a few popular anchors:\n",
        "- `\\A`: Search restricted start of string\n",
        "- `\\Z`: Search restrictrd to end of string\n",
        "- `^' : Search at start of line. Same as `\\A` is there is only a single string (no `\\n`')\n",
        "- `$`: Search at the end of line.\n",
        "- `\\b`:Search at a word's boundary"
      ]
    },
    {
      "cell_type": "code",
      "metadata": {
        "id": "cSlW01_V4BwL",
        "colab": {
          "base_uri": "https://localhost:8080/"
        },
        "outputId": "334ff39c-f87a-4f88-e0ec-b41184fdff52"
      },
      "source": [
        "# search at the start of string\n",
        "bool(re.search(r'\\Acat','cater'))"
      ],
      "execution_count": null,
      "outputs": [
        {
          "output_type": "execute_result",
          "data": {
            "text/plain": [
              "True"
            ]
          },
          "metadata": {},
          "execution_count": 105
        }
      ]
    },
    {
      "cell_type": "code",
      "source": [
        "bool(re.search(r'^cat','cater'))"
      ],
      "metadata": {
        "colab": {
          "base_uri": "https://localhost:8080/"
        },
        "id": "h0xqw1ALA5Oy",
        "outputId": "87cf79d6-8f26-403f-e7fd-0815fa9459cc"
      },
      "execution_count": null,
      "outputs": [
        {
          "output_type": "execute_result",
          "data": {
            "text/plain": [
              "True"
            ]
          },
          "metadata": {},
          "execution_count": 106
        }
      ]
    },
    {
      "cell_type": "code",
      "source": [
        "re.search(r'^cat','cater')"
      ],
      "metadata": {
        "colab": {
          "base_uri": "https://localhost:8080/"
        },
        "id": "mP2-TYCmV44r",
        "outputId": "360b0814-e1c4-4ae7-fb47-dd3fbd41ed36"
      },
      "execution_count": null,
      "outputs": [
        {
          "output_type": "execute_result",
          "data": {
            "text/plain": [
              "<re.Match object; span=(0, 3), match='cat'>"
            ]
          },
          "metadata": {},
          "execution_count": 107
        }
      ]
    },
    {
      "cell_type": "code",
      "metadata": {
        "id": "6_7T21TK4CYZ",
        "colab": {
          "base_uri": "https://localhost:8080/"
        },
        "outputId": "47b1ab04-5c86-469d-b03f-935f094a3fe0"
      },
      "source": [
        "# this would return False as cat is not at the starting of string\n",
        "bool(re.search(r'\\Acat','concatenation'))"
      ],
      "execution_count": null,
      "outputs": [
        {
          "output_type": "execute_result",
          "data": {
            "text/plain": [
              "False"
            ]
          },
          "metadata": {},
          "execution_count": 108
        }
      ]
    },
    {
      "cell_type": "code",
      "metadata": {
        "id": "gWyAyTqR5nJG",
        "colab": {
          "base_uri": "https://localhost:8080/"
        },
        "outputId": "5c8c710d-c89f-4aaa-c899-dcd10247cead"
      },
      "source": [
        "# search at start of string\n",
        "bool(re.search(r'^hi','hi, welcome to python\\nhi to everyone'))"
      ],
      "execution_count": null,
      "outputs": [
        {
          "output_type": "execute_result",
          "data": {
            "text/plain": [
              "True"
            ]
          },
          "metadata": {},
          "execution_count": 109
        }
      ]
    },
    {
      "cell_type": "code",
      "metadata": {
        "id": "6dbjUax_6Q-F",
        "colab": {
          "base_uri": "https://localhost:8080/",
          "height": 35
        },
        "outputId": "6fd22985-6e4d-4133-b8eb-b0bfb2a260b2"
      },
      "source": [
        "sentence = \"par spar parts spare\"\n",
        "sentence"
      ],
      "execution_count": null,
      "outputs": [
        {
          "output_type": "execute_result",
          "data": {
            "text/plain": [
              "'par spar parts spare'"
            ],
            "application/vnd.google.colaboratory.intrinsic+json": {
              "type": "string"
            }
          },
          "metadata": {},
          "execution_count": 110
        }
      ]
    },
    {
      "cell_type": "code",
      "metadata": {
        "id": "_CcKto9F6gXh",
        "colab": {
          "base_uri": "https://localhost:8080/",
          "height": 35
        },
        "outputId": "3ea76733-545a-47a2-d8cd-99e494b1bb28"
      },
      "source": [
        "# this will replace all occurances\n",
        "re.sub(r'par','-',sentence)"
      ],
      "execution_count": null,
      "outputs": [
        {
          "output_type": "execute_result",
          "data": {
            "text/plain": [
              "'- s- -ts s-e'"
            ],
            "application/vnd.google.colaboratory.intrinsic+json": {
              "type": "string"
            }
          },
          "metadata": {},
          "execution_count": 111
        }
      ]
    },
    {
      "cell_type": "code",
      "metadata": {
        "id": "pFmEtBpx6lCd",
        "colab": {
          "base_uri": "https://localhost:8080/",
          "height": 35
        },
        "outputId": "9574fa0e-1f5a-47a8-ec87-8810353e54ea"
      },
      "source": [
        "# this will replace only matches with start of string\n",
        "re.sub(r'\\bpar','-',sentence)"
      ],
      "execution_count": null,
      "outputs": [
        {
          "output_type": "execute_result",
          "data": {
            "text/plain": [
              "'- spar -ts spare'"
            ],
            "application/vnd.google.colaboratory.intrinsic+json": {
              "type": "string"
            }
          },
          "metadata": {},
          "execution_count": 112
        }
      ]
    },
    {
      "cell_type": "code",
      "metadata": {
        "id": "kJBwzSx36k4q",
        "colab": {
          "base_uri": "https://localhost:8080/",
          "height": 35
        },
        "outputId": "92722c59-55a2-4575-d774-d953fe56d59f"
      },
      "source": [
        "# this will replace only matches with end of string\n",
        "re.sub(r'par\\b','-',sentence)"
      ],
      "execution_count": null,
      "outputs": [
        {
          "output_type": "execute_result",
          "data": {
            "text/plain": [
              "'- s- parts spare'"
            ],
            "application/vnd.google.colaboratory.intrinsic+json": {
              "type": "string"
            }
          },
          "metadata": {},
          "execution_count": 113
        }
      ]
    },
    {
      "cell_type": "code",
      "metadata": {
        "colab": {
          "base_uri": "https://localhost:8080/",
          "height": 35
        },
        "id": "PImPTe-z-R9n",
        "outputId": "b23ee37e-fe9e-4001-c89b-d76c1a98f8df"
      },
      "source": [
        "re.sub(r'\\bpar\\b','-',sentence)"
      ],
      "execution_count": null,
      "outputs": [
        {
          "output_type": "execute_result",
          "data": {
            "text/plain": [
              "'- spar parts spare'"
            ],
            "application/vnd.google.colaboratory.intrinsic+json": {
              "type": "string"
            }
          },
          "metadata": {},
          "execution_count": 114
        }
      ]
    },
    {
      "cell_type": "markdown",
      "metadata": {
        "id": "T7TGU6el7cvs"
      },
      "source": [
        "## Alternation and Grouping\n",
        "\n",
        "``re`` provides smart ways of combining multiple search patterns in a single command.\n",
        "- `|`: this acts like a logical OR\n",
        "- Paranthesis can be used to group multiple alternatives"
      ]
    },
    {
      "cell_type": "code",
      "metadata": {
        "id": "Xg0VHSg67CSM",
        "colab": {
          "base_uri": "https://localhost:8080/",
          "height": 35
        },
        "outputId": "942a4993-e3d9-44f9-e202-153a2f2f867f"
      },
      "source": [
        "pattern = \"cat|dog\"\n",
        "sentence = \"cats and dogs make good pets\"\n",
        "\n",
        "# this will search mutliple patterns at once\n",
        "re.sub(pattern,'X',sentence)"
      ],
      "execution_count": null,
      "outputs": [
        {
          "output_type": "execute_result",
          "data": {
            "text/plain": [
              "'Xs and Xs make good pets'"
            ],
            "application/vnd.google.colaboratory.intrinsic+json": {
              "type": "string"
            }
          },
          "metadata": {},
          "execution_count": 115
        }
      ]
    },
    {
      "cell_type": "code",
      "metadata": {
        "id": "UfHPUAZc8CnK",
        "colab": {
          "base_uri": "https://localhost:8080/",
          "height": 35
        },
        "outputId": "d86ef14a-05b9-4efe-d1db-660dc71b92d2"
      },
      "source": [
        "pattern = \"re(form|lated)\"\n",
        "sentence = \"all reforms are not related to forests\"\n",
        "\n",
        "# this will search mutliple patterns at once using grouping\n",
        "re.sub(pattern,'X',sentence)"
      ],
      "execution_count": null,
      "outputs": [
        {
          "output_type": "execute_result",
          "data": {
            "text/plain": [
              "'all Xs are not X to forests'"
            ],
            "application/vnd.google.colaboratory.intrinsic+json": {
              "type": "string"
            }
          },
          "metadata": {},
          "execution_count": 116
        }
      ]
    },
    {
      "cell_type": "code",
      "source": [
        "list(re.finditer(pattern, sentence))"
      ],
      "metadata": {
        "colab": {
          "base_uri": "https://localhost:8080/"
        },
        "id": "a8cOnRkZWqqw",
        "outputId": "803550b9-d8e8-4e4a-a896-5306025a09f8"
      },
      "execution_count": null,
      "outputs": [
        {
          "output_type": "execute_result",
          "data": {
            "text/plain": [
              "[<re.Match object; span=(4, 10), match='reform'>,\n",
              " <re.Match object; span=(20, 27), match='related'>]"
            ]
          },
          "metadata": {},
          "execution_count": 117
        }
      ]
    },
    {
      "cell_type": "markdown",
      "metadata": {
        "id": "Ky4JYt2kmoep"
      },
      "source": [
        "## End to End Example\n",
        "\n",
        "We covered a number of concepts related to __strings__ and __regular expressions__. Time to work through an end-to-end example to apply everything we have learnt so far"
      ]
    },
    {
      "cell_type": "code",
      "metadata": {
        "colab": {
          "base_uri": "https://localhost:8080/"
        },
        "id": "ZkUvY_l0ms89",
        "outputId": "fb6c66e9-852e-475e-f091-5e540f0c3935"
      },
      "source": [
        "# get a sample corpus\n",
        "import nltk\n",
        "nltk.download('gutenberg')"
      ],
      "execution_count": null,
      "outputs": [
        {
          "output_type": "stream",
          "name": "stderr",
          "text": [
            "[nltk_data] Downloading package gutenberg to /root/nltk_data...\n",
            "[nltk_data]   Unzipping corpora/gutenberg.zip.\n"
          ]
        },
        {
          "output_type": "execute_result",
          "data": {
            "text/plain": [
              "True"
            ]
          },
          "metadata": {},
          "execution_count": 118
        }
      ]
    },
    {
      "cell_type": "markdown",
      "metadata": {
        "id": "YqYowgKZ9LRQ"
      },
      "source": [
        "### Import Libraries"
      ]
    },
    {
      "cell_type": "code",
      "metadata": {
        "id": "kllkQmBB9ICW"
      },
      "source": [
        "from nltk.corpus import gutenberg\n",
        "import matplotlib.pyplot as plt"
      ],
      "execution_count": null,
      "outputs": []
    },
    {
      "cell_type": "code",
      "metadata": {
        "colab": {
          "base_uri": "https://localhost:8080/"
        },
        "id": "ExeJTmSUmiZZ",
        "outputId": "d7b8ef02-c88e-459e-e355-7f84e27803f6"
      },
      "source": [
        "bible = gutenberg.open('bible-kjv.txt')\n",
        "bible = bible.readlines()\n",
        "\n",
        "# get first few lines\n",
        "bible[:5]"
      ],
      "execution_count": null,
      "outputs": [
        {
          "output_type": "execute_result",
          "data": {
            "text/plain": [
              "['[The King James Bible]\\n',\n",
              " '\\n',\n",
              " 'The Old Testament of the King James Bible\\n',\n",
              " '\\n',\n",
              " 'The First Book of Moses:  Called Genesis\\n']"
            ]
          },
          "metadata": {},
          "execution_count": 120
        }
      ]
    },
    {
      "cell_type": "code",
      "metadata": {
        "colab": {
          "base_uri": "https://localhost:8080/"
        },
        "id": "9zAbqwvXpI3W",
        "outputId": "c40d1c3d-97b4-4312-8892-eb7403ccd289"
      },
      "source": [
        "print(' '.join(bible[:20]))"
      ],
      "execution_count": null,
      "outputs": [
        {
          "output_type": "stream",
          "name": "stdout",
          "text": [
            "[The King James Bible]\n",
            " \n",
            " The Old Testament of the King James Bible\n",
            " \n",
            " The First Book of Moses:  Called Genesis\n",
            " \n",
            " \n",
            " 1:1 In the beginning God created the heaven and the earth.\n",
            " \n",
            " 1:2 And the earth was without form, and void; and darkness was upon\n",
            " the face of the deep. And the Spirit of God moved upon the face of the\n",
            " waters.\n",
            " \n",
            " 1:3 And God said, Let there be light: and there was light.\n",
            " \n",
            " 1:4 And God saw the light, that it was good: and God divided the light\n",
            " from the darkness.\n",
            " \n",
            " 1:5 And God called the light Day, and the darkness he called Night.\n",
            " And the evening and the morning were the first day.\n",
            "\n"
          ]
        }
      ]
    },
    {
      "cell_type": "code",
      "source": [
        "type(bible)"
      ],
      "metadata": {
        "colab": {
          "base_uri": "https://localhost:8080/"
        },
        "id": "yq2Rb2mobDac",
        "outputId": "22e3c15b-6ae5-49a2-ed4d-b3ac77a7c746"
      },
      "execution_count": null,
      "outputs": [
        {
          "output_type": "execute_result",
          "data": {
            "text/plain": [
              "list"
            ]
          },
          "metadata": {},
          "execution_count": 122
        }
      ]
    },
    {
      "cell_type": "code",
      "metadata": {
        "colab": {
          "base_uri": "https://localhost:8080/"
        },
        "id": "0clm6ZFT_TnH",
        "outputId": "4f79d025-ac36-46c3-9a06-ce8877cb76c8"
      },
      "source": [
        "len(bible)"
      ],
      "execution_count": null,
      "outputs": [
        {
          "output_type": "execute_result",
          "data": {
            "text/plain": [
              "99805"
            ]
          },
          "metadata": {},
          "execution_count": 123
        }
      ]
    },
    {
      "cell_type": "code",
      "source": [
        "bible[2]"
      ],
      "metadata": {
        "colab": {
          "base_uri": "https://localhost:8080/",
          "height": 35
        },
        "id": "8CuwA7XWDN6y",
        "outputId": "606c53dd-c8b0-49db-b217-7a6dd8192e93"
      },
      "execution_count": null,
      "outputs": [
        {
          "output_type": "execute_result",
          "data": {
            "text/plain": [
              "'The Old Testament of the King James Bible\\n'"
            ],
            "application/vnd.google.colaboratory.intrinsic+json": {
              "type": "string"
            }
          },
          "metadata": {},
          "execution_count": 124
        }
      ]
    },
    {
      "cell_type": "code",
      "source": [
        "bible[2].strip('\\n')"
      ],
      "metadata": {
        "colab": {
          "base_uri": "https://localhost:8080/",
          "height": 35
        },
        "id": "OnjQ6eH1XJyk",
        "outputId": "339a5fee-addb-4696-cec7-4645986b0272"
      },
      "execution_count": null,
      "outputs": [
        {
          "output_type": "execute_result",
          "data": {
            "text/plain": [
              "'The Old Testament of the King James Bible'"
            ],
            "application/vnd.google.colaboratory.intrinsic+json": {
              "type": "string"
            }
          },
          "metadata": {},
          "execution_count": 125
        }
      ]
    },
    {
      "cell_type": "code",
      "source": [
        "# remove newlines\n",
        "[line.strip('\\n') for line in bible][:10]"
      ],
      "metadata": {
        "colab": {
          "base_uri": "https://localhost:8080/"
        },
        "id": "kZZaQAyAbKl7",
        "outputId": "8ac9e5c7-08fb-4795-8c6c-9c384e407ece"
      },
      "execution_count": null,
      "outputs": [
        {
          "output_type": "execute_result",
          "data": {
            "text/plain": [
              "['[The King James Bible]',\n",
              " '',\n",
              " 'The Old Testament of the King James Bible',\n",
              " '',\n",
              " 'The First Book of Moses:  Called Genesis',\n",
              " '',\n",
              " '',\n",
              " '1:1 In the beginning God created the heaven and the earth.',\n",
              " '',\n",
              " '1:2 And the earth was without form, and void; and darkness was upon']"
            ]
          },
          "metadata": {},
          "execution_count": 126
        }
      ]
    },
    {
      "cell_type": "code",
      "metadata": {
        "colab": {
          "base_uri": "https://localhost:8080/"
        },
        "id": "TU5CITfumqLp",
        "outputId": "e1c2ab40-e2db-4a70-e4b5-85fd0a8f6934"
      },
      "source": [
        "# remove newline characters from sentences\n",
        "bible = list(filter(None,\n",
        "                    [line.strip('\\n') for line in bible]\n",
        "                    )\n",
        ")\n",
        "bible[:5]"
      ],
      "execution_count": null,
      "outputs": [
        {
          "output_type": "execute_result",
          "data": {
            "text/plain": [
              "['[The King James Bible]',\n",
              " 'The Old Testament of the King James Bible',\n",
              " 'The First Book of Moses:  Called Genesis',\n",
              " '1:1 In the beginning God created the heaven and the earth.',\n",
              " '1:2 And the earth was without form, and void; and darkness was upon']"
            ]
          },
          "metadata": {},
          "execution_count": 127
        }
      ]
    },
    {
      "cell_type": "markdown",
      "metadata": {
        "id": "Lij4WRBH9k3a"
      },
      "source": [
        "## How long are Sentences in the Bible?"
      ]
    },
    {
      "cell_type": "code",
      "metadata": {
        "colab": {
          "base_uri": "https://localhost:8080/",
          "height": 430
        },
        "id": "hbZoRxttmyNb",
        "outputId": "f880b0db-ca76-484d-d3bd-057d1afb2106"
      },
      "source": [
        "# in terms of number of characters per sentence\n",
        "line_lengths = [len(sentence)\n",
        "                  for sentence in bible]\n",
        "h = plt.hist(line_lengths)"
      ],
      "execution_count": null,
      "outputs": [
        {
          "output_type": "display_data",
          "data": {
            "text/plain": [
              "<Figure size 640x480 with 1 Axes>"
            ],
            "image/png": "[encoded data removed]"
          },
          "metadata": {}
        }
      ]
    },
    {
      "cell_type": "markdown",
      "metadata": {
        "id": "brJZIN1q97Dd"
      },
      "source": [
        "### Number of words per Sentence?"
      ]
    },
    {
      "cell_type": "code",
      "metadata": {
        "colab": {
          "base_uri": "https://localhost:8080/"
        },
        "id": "xcEDmNvq_1G2",
        "outputId": "833a12cd-d403-4647-b21d-f0f135cf0859"
      },
      "source": [
        "[item.split() for item in bible][1]"
      ],
      "execution_count": null,
      "outputs": [
        {
          "output_type": "execute_result",
          "data": {
            "text/plain": [
              "['The', 'Old', 'Testament', 'of', 'the', 'King', 'James', 'Bible']"
            ]
          },
          "metadata": {},
          "execution_count": 129
        }
      ]
    },
    {
      "cell_type": "code",
      "metadata": {
        "colab": {
          "base_uri": "https://localhost:8080/"
        },
        "id": "CVqo2sxdm0vY",
        "outputId": "a4111e55-f8e8-465b-8550-aa6be6cb5307"
      },
      "source": [
        "tokens = [item.split() for item in bible]\n",
        "print(tokens[:5])"
      ],
      "execution_count": null,
      "outputs": [
        {
          "output_type": "stream",
          "name": "stdout",
          "text": [
            "[['[The', 'King', 'James', 'Bible]'], ['The', 'Old', 'Testament', 'of', 'the', 'King', 'James', 'Bible'], ['The', 'First', 'Book', 'of', 'Moses:', 'Called', 'Genesis'], ['1:1', 'In', 'the', 'beginning', 'God', 'created', 'the', 'heaven', 'and', 'the', 'earth.'], ['1:2', 'And', 'the', 'earth', 'was', 'without', 'form,', 'and', 'void;', 'and', 'darkness', 'was', 'upon']]\n"
          ]
        }
      ]
    },
    {
      "cell_type": "code",
      "metadata": {
        "colab": {
          "base_uri": "https://localhost:8080/",
          "height": 430
        },
        "id": "wDZ09avDm2Xm",
        "outputId": "d85677d5-f8ee-4007-dda2-0845708653dd"
      },
      "source": [
        "total_tokens_per_line = [len(sentence.split(' ')) for sentence in bible]\n",
        "h = plt.hist(total_tokens_per_line, color='orange')"
      ],
      "execution_count": null,
      "outputs": [
        {
          "output_type": "display_data",
          "data": {
            "text/plain": [
              "<Figure size 640x480 with 1 Axes>"
            ],
            "image/png": "[encoded data removed]"
          },
          "metadata": {}
        }
      ]
    },
    {
      "cell_type": "code",
      "source": [
        "tokens[:5]"
      ],
      "metadata": {
        "colab": {
          "base_uri": "https://localhost:8080/"
        },
        "id": "tAcFfYFNbs_v",
        "outputId": "434f6d77-1e83-486b-8818-28b8643ebdf0"
      },
      "execution_count": null,
      "outputs": [
        {
          "output_type": "execute_result",
          "data": {
            "text/plain": [
              "[['[The', 'King', 'James', 'Bible]'],\n",
              " ['The', 'Old', 'Testament', 'of', 'the', 'King', 'James', 'Bible'],\n",
              " ['The', 'First', 'Book', 'of', 'Moses:', 'Called', 'Genesis'],\n",
              " ['1:1',\n",
              "  'In',\n",
              "  'the',\n",
              "  'beginning',\n",
              "  'God',\n",
              "  'created',\n",
              "  'the',\n",
              "  'heaven',\n",
              "  'and',\n",
              "  'the',\n",
              "  'earth.'],\n",
              " ['1:2',\n",
              "  'And',\n",
              "  'the',\n",
              "  'earth',\n",
              "  'was',\n",
              "  'without',\n",
              "  'form,',\n",
              "  'and',\n",
              "  'void;',\n",
              "  'and',\n",
              "  'darkness',\n",
              "  'was',\n",
              "  'upon']]"
            ]
          },
          "metadata": {},
          "execution_count": 132
        }
      ]
    },
    {
      "cell_type": "code",
      "metadata": {
        "id": "P4ELbBDVm3wr"
      },
      "source": [
        "# flatten all sentences to get a list of words\n",
        "words = [word\n",
        "          for sublist in tokens\n",
        "              for word in sublist]\n"
      ],
      "execution_count": null,
      "outputs": []
    },
    {
      "cell_type": "code",
      "metadata": {
        "colab": {
          "base_uri": "https://localhost:8080/"
        },
        "id": "S2UVRLv-Cia1",
        "outputId": "af6b6e26-dba5-48e5-dc3c-5c7d053ea580"
      },
      "source": [
        "words[:20]"
      ],
      "execution_count": null,
      "outputs": [
        {
          "output_type": "execute_result",
          "data": {
            "text/plain": [
              "['[The',\n",
              " 'King',\n",
              " 'James',\n",
              " 'Bible]',\n",
              " 'The',\n",
              " 'Old',\n",
              " 'Testament',\n",
              " 'of',\n",
              " 'the',\n",
              " 'King',\n",
              " 'James',\n",
              " 'Bible',\n",
              " 'The',\n",
              " 'First',\n",
              " 'Book',\n",
              " 'of',\n",
              " 'Moses:',\n",
              " 'Called',\n",
              " 'Genesis',\n",
              " '1:1']"
            ]
          },
          "metadata": {},
          "execution_count": 134
        }
      ]
    },
    {
      "cell_type": "code",
      "source": [
        "words[0]"
      ],
      "metadata": {
        "colab": {
          "base_uri": "https://localhost:8080/",
          "height": 35
        },
        "id": "ioOTQvH9YGYG",
        "outputId": "c8bce5aa-1d1f-4594-ce7e-e8b470f364da"
      },
      "execution_count": null,
      "outputs": [
        {
          "output_type": "execute_result",
          "data": {
            "text/plain": [
              "'[The'"
            ],
            "application/vnd.google.colaboratory.intrinsic+json": {
              "type": "string"
            }
          },
          "metadata": {},
          "execution_count": 135
        }
      ]
    },
    {
      "cell_type": "code",
      "metadata": {
        "id": "ykvcQg2QoFOY"
      },
      "source": [
        "# need to remove any non alphanumeric characters e.g '[The' => 'The'"
      ],
      "execution_count": null,
      "outputs": []
    },
    {
      "cell_type": "markdown",
      "metadata": {
        "id": "6bRC0n8C-Cel"
      },
      "source": [
        "## Filter out alphanumeric and numbers"
      ]
    },
    {
      "cell_type": "code",
      "source": [
        "re.sub(r'[^A-Za-z]', '', '[The')"
      ],
      "metadata": {
        "colab": {
          "base_uri": "https://localhost:8080/",
          "height": 35
        },
        "id": "hX0v8oW_Dn8Z",
        "outputId": "cc247a1e-974e-47eb-99bd-6ffde022caf9"
      },
      "execution_count": null,
      "outputs": [
        {
          "output_type": "execute_result",
          "data": {
            "text/plain": [
              "'The'"
            ],
            "application/vnd.google.colaboratory.intrinsic+json": {
              "type": "string"
            }
          },
          "metadata": {},
          "execution_count": 137
        }
      ]
    },
    {
      "cell_type": "code",
      "metadata": {
        "colab": {
          "base_uri": "https://localhost:8080/"
        },
        "id": "P4kzvWS3m5QM",
        "outputId": "39875eca-59d4-4a91-e4ed-bcd9a754265b"
      },
      "source": [
        "words = list(filter(None, [re.sub(r'[^A-Za-z]', '', word)\n",
        "                                    for word\n",
        "                                            in words]))\n",
        "print(words[:20])"
      ],
      "execution_count": null,
      "outputs": [
        {
          "output_type": "stream",
          "name": "stdout",
          "text": [
            "['The', 'King', 'James', 'Bible', 'The', 'Old', 'Testament', 'of', 'the', 'King', 'James', 'Bible', 'The', 'First', 'Book', 'of', 'Moses', 'Called', 'Genesis', 'In']\n"
          ]
        }
      ]
    },
    {
      "cell_type": "markdown",
      "metadata": {
        "id": "h9WDdKVA-WoO"
      },
      "source": [
        "### How Frequently are these words used?"
      ]
    },
    {
      "cell_type": "code",
      "metadata": {
        "id": "dwz5qaCCm7e1",
        "colab": {
          "base_uri": "https://localhost:8080/"
        },
        "outputId": "459bd377-19d7-4efa-8511-67e555f84056"
      },
      "source": [
        "from collections import Counter\n",
        "\n",
        "words = [word.lower() for word in words]\n",
        "c = Counter(words)\n",
        "c.most_common(10)"
      ],
      "execution_count": null,
      "outputs": [
        {
          "output_type": "execute_result",
          "data": {
            "text/plain": [
              "[('the', 64023),\n",
              " ('and', 51696),\n",
              " ('of', 34670),\n",
              " ('to', 13580),\n",
              " ('that', 12912),\n",
              " ('in', 12667),\n",
              " ('he', 10419),\n",
              " ('shall', 9838),\n",
              " ('unto', 8997),\n",
              " ('for', 8970)]"
            ]
          },
          "metadata": {},
          "execution_count": 139
        }
      ]
    },
    {
      "cell_type": "code",
      "source": [],
      "metadata": {
        "id": "pUKLC6MLgxaM"
      },
      "execution_count": null,
      "outputs": []
    }
  ]
}